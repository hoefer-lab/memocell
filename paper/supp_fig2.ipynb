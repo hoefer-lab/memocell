{
 "cells": [
  {
   "cell_type": "markdown",
   "metadata": {},
   "source": [
    "#### Supplement Figure 2"
   ]
  },
  {
   "cell_type": "markdown",
   "metadata": {},
   "source": [
    "##### Package imports, figure settings, color definitions\n",
    "<img src=\"color_pal.png\" width=\"500\">"
   ]
  },
  {
   "cell_type": "code",
   "execution_count": 1,
   "metadata": {},
   "outputs": [
    {
     "name": "stderr",
     "output_type": "stream",
     "text": [
      "/Users/mlanghinrichs/Documents/Studium/MSc/09_hiwi_hoefer/01_project/memo_py/memo_py/selection.py:18: TqdmExperimentalWarning: Using `tqdm.autonotebook.tqdm` in notebook mode. Use `tqdm.tqdm` instead to force console mode (e.g. in jupyter console)\n",
      "  from tqdm.autonotebook import tqdm\n"
     ]
    },
    {
     "data": {
      "image/png": "[encoded data removed]",
      "text/plain": [
       "<Figure size 504x72 with 1 Axes>"
      ]
     },
     "metadata": {
      "needs_background": "light"
     },
     "output_type": "display_data"
    },
    {
     "data": {
      "image/png": "[encoded data removed]",
      "text/plain": [
       "<Figure size 216x72 with 1 Axes>"
      ]
     },
     "metadata": {
      "needs_background": "light"
     },
     "output_type": "display_data"
    },
    {
     "data": {
      "image/png": "[encoded data removed]",
      "text/plain": [
       "<Figure size 216x72 with 1 Axes>"
      ]
     },
     "metadata": {
      "needs_background": "light"
     },
     "output_type": "display_data"
    },
    {
     "data": {
      "image/png": "[encoded data removed]",
      "text/plain": [
       "<Figure size 216x72 with 1 Axes>"
      ]
     },
     "metadata": {
      "needs_background": "light"
     },
     "output_type": "display_data"
    },
    {
     "data": {
      "image/png": "[encoded data removed]",
      "text/plain": [
       "<Figure size 216x72 with 1 Axes>"
      ]
     },
     "metadata": {
      "needs_background": "light"
     },
     "output_type": "display_data"
    },
    {
     "data": {
      "image/png": "[encoded data removed]",
      "text/plain": [
       "<Figure size 216x72 with 1 Axes>"
      ]
     },
     "metadata": {
      "needs_background": "light"
     },
     "output_type": "display_data"
    },
    {
     "data": {
      "image/png": "[encoded data removed]",
      "text/plain": [
       "<Figure size 216x72 with 1 Axes>"
      ]
     },
     "metadata": {
      "needs_background": "light"
     },
     "output_type": "display_data"
    },
    {
     "data": {
      "image/png": "[encoded data removed]",
      "text/plain": [
       "<Figure size 216x72 with 1 Axes>"
      ]
     },
     "metadata": {
      "needs_background": "light"
     },
     "output_type": "display_data"
    },
    {
     "data": {
      "image/png": "[encoded data removed]",
      "text/plain": [
       "<Figure size 216x72 with 1 Axes>"
      ]
     },
     "metadata": {
      "needs_background": "light"
     },
     "output_type": "display_data"
    }
   ],
   "source": [
    "%matplotlib inline\n",
    "%run settings_load.py"
   ]
  },
  {
   "cell_type": "markdown",
   "metadata": {},
   "source": [
    "##### load data and field-well annotation"
   ]
  },
  {
   "cell_type": "code",
   "execution_count": 2,
   "metadata": {},
   "outputs": [
    {
     "name": "stdout",
     "output_type": "stream",
     "text": [
      "(44, 2, 28)\n",
      "44\n"
     ]
    }
   ],
   "source": [
    "data = pickle.load(open('waiting_times_files/count_data_cd44_manual_counting_18_01_14_filtered_sigma022.pickle', 'rb'))\n",
    "print(data.data_counts.shape)\n",
    "\n",
    "# see cd44_data_explore, we have the following fields and wells\n",
    "fields_well_list = [(0, 1), (0, 2), (6, 1), (6, 2), (12, 1), (12, 2), (12, 3), (18, 1), (18, 2), (18, 3), (24, 2), (24, 3), (30, 1), (30, 2), (36, 2), (36, 3), (42, 2), (48, 1), (48, 2), (48, 3), (54, 1), (54, 2), (54, 3), (60, 3), (66, 1), (66, 2), (66, 3), (72, 1), (78, 2), (78, 3), (84, 1), (84, 2), (84, 3), (90, 1), (90, 3), (96, 1), (96, 2), (102, 1), (102, 2), (102, 3), (108, 1), (108, 2), (114, 1), (114, 3)]\n",
    "print(len(fields_well_list))"
   ]
  },
  {
   "cell_type": "markdown",
   "metadata": {},
   "source": [
    "##### check well data with raw count data"
   ]
  },
  {
   "cell_type": "code",
   "execution_count": 3,
   "metadata": {},
   "outputs": [],
   "source": [
    "# load plain count data manual_counting_18_01_14\n",
    "data_counts_raw = np.zeros((44, 2, 28))\n",
    "df_count_data = pd.read_csv('../../cd44_data/manual_counting_18_01_14.csv', ';', header=(0))\n",
    "# display(df_count_data)\n",
    "# display(df_count_data[df_count_data.param==\"total\"])\n",
    "\n",
    "for i, (field, well) in enumerate(fields_well_list):\n",
    "    cd44pos = df_count_data[(df_count_data.field==field) & (df_count_data.well==well) \n",
    "                        & ((df_count_data.param=='plusplus') | (df_count_data.param=='plusminus'))].iloc[:, 0:28].sum()\n",
    "    cd44neg = df_count_data[(df_count_data.field==field) & (df_count_data.well==well) \n",
    "                        & ((df_count_data.param=='minusplus') | (df_count_data.param=='minusminus'))].iloc[:, 0:28].sum()\n",
    "    data_counts_raw[i, 0, :] = cd44pos\n",
    "    data_counts_raw[i, 1, :] = cd44neg"
   ]
  },
  {
   "cell_type": "code",
   "execution_count": 4,
   "metadata": {},
   "outputs": [
    {
     "data": {
      "text/plain": [
       "True"
      ]
     },
     "execution_count": 4,
     "metadata": {},
     "output_type": "execute_result"
    }
   ],
   "source": [
    "np.all(data_counts_raw == data.data_counts)"
   ]
  },
  {
   "cell_type": "markdown",
   "metadata": {},
   "source": [
    "##### extract bead numbers from raw count data file"
   ]
  },
  {
   "cell_type": "code",
   "execution_count": 5,
   "metadata": {},
   "outputs": [],
   "source": [
    "bead_numbers = list()\n",
    "for field, well in fields_well_list:\n",
    "    bead_num = df_count_data[(df_count_data.param=='total') &(df_count_data.field==field) & (df_count_data.well==well)]['beads']\n",
    "#     print(field, well, int(bead_num))\n",
    "    bead_numbers.append(int(bead_num))"
   ]
  },
  {
   "cell_type": "code",
   "execution_count": 6,
   "metadata": {},
   "outputs": [
    {
     "data": {
      "text/plain": [
       "14"
      ]
     },
     "execution_count": 6,
     "metadata": {},
     "output_type": "execute_result"
    }
   ],
   "source": [
    "max(bead_numbers)"
   ]
  },
  {
   "cell_type": "markdown",
   "metadata": {},
   "source": [
    "##### correlate final time point with bead numbers"
   ]
  },
  {
   "cell_type": "code",
   "execution_count": 7,
   "metadata": {},
   "outputs": [
    {
     "data": {
      "text/plain": [
       "array([3., 7., 5., 0., 2., 1., 0., 6., 1., 5., 2., 3., 0., 6., 3., 4., 6.,\n",
       "       4., 0., 1., 3., 0., 6., 4., 0., 3., 5., 2., 6., 7., 1., 1., 5., 5.,\n",
       "       0., 7., 9., 5., 4., 0., 6., 0., 8., 5.])"
      ]
     },
     "execution_count": 7,
     "metadata": {},
     "output_type": "execute_result"
    }
   ],
   "source": [
    "data.data_counts[:, 0, -1]"
   ]
  },
  {
   "cell_type": "code",
   "execution_count": 41,
   "metadata": {},
   "outputs": [
    {
     "name": "stdout",
     "output_type": "stream",
     "text": [
      "(0.10368754626528842, 0.502989066977258)\n",
      "SpearmanrResult(correlation=0.0954418357937434, pvalue=0.537714142206917)\n"
     ]
    },
    {
     "data": {
      "image/png": "[encoded data removed]",
      "text/plain": [
       "<Figure size 72x57.6 with 1 Axes>"
      ]
     },
     "metadata": {
      "needs_background": "light"
     },
     "output_type": "display_data"
    }
   ],
   "source": [
    "time_point = 54 # 18, 36, 54\n",
    "cell_numbers = data.data_counts[:, 0, int(time_point/2)]\n",
    "plt.rcParams.update({'figure.figsize': (1.0, 0.8)})\n",
    "plt.figure()\n",
    "ax = plt.gca()\n",
    "ax.spines['top'].set_visible(False)\n",
    "ax.spines['right'].set_visible(False)\n",
    "ax.spines['bottom'].set_visible(True)\n",
    "ax.spines['left'].set_visible(True)\n",
    "\n",
    "plt.title(f'{time_point} hours')\n",
    "plt.scatter(bead_numbers, cell_numbers, color=grey, alpha=0.6, s=3.0, lw=0.0) # , s=1.0)\n",
    "plt.xlabel('Initial bead number')\n",
    "plt.ylabel(f'CD44+ cells')\n",
    "\n",
    "plt.xlim((-2, 15))\n",
    "plt.ylim((-2, 15))\n",
    "# plt.legend()\n",
    "\n",
    "pearson = stats.pearsonr(bead_numbers, cell_numbers)\n",
    "spearman = stats.spearmanr(bead_numbers, cell_numbers)\n",
    "plt.text(0, 6, f'Pearson r = {pearson[0]:.2f} \\n({pearson[1]:.2f} p-value)')\n",
    "plt.text(0, 12, f'Spearman r = {spearman[0]:.2f} \\n({spearman[1]:.2f} p-value)')\n",
    "\n",
    "plt.savefig(f'paper_figures/data_beads_vs_active_{time_point}.pdf', bbox_inches='tight')\n",
    "\n",
    "print(stats.pearsonr(bead_numbers, cell_numbers))\n",
    "print(stats.spearmanr(bead_numbers, cell_numbers))"
   ]
  },
  {
   "cell_type": "markdown",
   "metadata": {},
   "source": [
    "##### bead effects on waiting times"
   ]
  },
  {
   "cell_type": "code",
   "execution_count": 7,
   "metadata": {},
   "outputs": [],
   "source": [
    "data.events_find_all()"
   ]
  },
  {
   "cell_type": "code",
   "execution_count": 28,
   "metadata": {},
   "outputs": [
    {
     "name": "stdout",
     "output_type": "stream",
     "text": [
      "8\n",
      "8\n",
      "28\n",
      "Average bead number +/- std (sem) (no event) = 5.38 +/- 2.0 (0.71)\n",
      "Average bead number +/- std (sem) (slow event) = 5.5 +/- 2.35 (0.83)\n",
      "Average bead number +/- std (sem) (fast event) = 5.96 +/- 2.9 (0.55)\n"
     ]
    },
    {
     "data": {
      "image/png": "[encoded data removed]",
      "text/plain": [
       "<Figure size 100.8x57.6 with 1 Axes>"
      ]
     },
     "metadata": {
      "needs_background": "light"
     },
     "output_type": "display_data"
    }
   ],
   "source": [
    "events = data.event_all_first_cell_type_conversion\n",
    "\n",
    "hist_bins = np.linspace(0, 54, num=28, endpoint=True)\n",
    "hist_tau = [tau - 1e-06 for (event_bool, tau) in events if event_bool]\n",
    "\n",
    "beads_no_events = list()\n",
    "beads_slow_events = list()\n",
    "beads_fast_events = list()\n",
    "for event_i, (event_bool, tau) in enumerate(events):\n",
    "    if event_bool:\n",
    "        if tau > 30:\n",
    "            beads_slow_events.append(bead_numbers[event_i])\n",
    "        else:\n",
    "            beads_fast_events.append(bead_numbers[event_i])\n",
    "    else:\n",
    "        beads_no_events.append(bead_numbers[event_i])\n",
    "\n",
    "print(len(beads_no_events))\n",
    "print(len(beads_slow_events))\n",
    "print(len(beads_fast_events))\n",
    "\n",
    "print(fr'Average bead number +/- std (sem) (no event) = {round(np.mean(beads_no_events),2)} +/- {round(np.std(beads_no_events),2)} ({round(stats.sem(beads_no_events, ddof=0),2)})')\n",
    "print(fr'Average bead number +/- std (sem) (slow event) = {round(np.mean(beads_slow_events),2)} +/- {round(np.std(beads_slow_events),2)} ({round(stats.sem(beads_slow_events, ddof=0),2)})')\n",
    "print(fr'Average bead number +/- std (sem) (fast event) = {round(np.mean(beads_fast_events),2)} +/- {round(np.std(beads_fast_events),2)} ({round(stats.sem(beads_fast_events, ddof=0),2)})')\n",
    "\n",
    "plt.figure(figsize=(1.4, 0.8))\n",
    "ax = plt.gca()\n",
    "ax.spines['top'].set_visible(False)\n",
    "ax.spines['right'].set_visible(False)\n",
    "ax.spines['bottom'].set_visible(True)\n",
    "ax.spines['left'].set_visible(True)\n",
    "plt.xlabel('Activation times (hours)')\n",
    "plt.ylabel('Frequency')\n",
    "plt.hist(hist_tau,\n",
    "                bins=hist_bins,\n",
    "                color=cwact,\n",
    "                density=True,\n",
    "                alpha=0.75,\n",
    "                histtype='stepfilled', # step, stepfilled\n",
    "                linewidth=2.0)\n",
    "\n",
    "plt.axvline(x=30.0, linewidth=0.5, color=grey)\n",
    "plt.axvline(x=54.0, linewidth=0.5, color=grey)\n",
    "\n",
    "plt.text(12, 0.02, f'No event: {round(np.mean(beads_no_events),2)} ± {round(np.std(beads_no_events),2)} ({round(stats.sem(beads_no_events, ddof=0),2)})')\n",
    "plt.text(12, 0.03, f'Slow: {round(np.mean(beads_slow_events),2)} ± {round(np.std(beads_slow_events),2)} ({round(stats.sem(beads_slow_events, ddof=0),2)})')\n",
    "plt.text(12, 0.04, f'Fast: {round(np.mean(beads_fast_events),2)} ± {round(np.std(beads_fast_events),2)} ({round(stats.sem(beads_fast_events, ddof=0),2)})')\n",
    "\n",
    "plt.xlim(None, 60)\n",
    "# plt.legend()\n",
    "plt.savefig('paper_figures/data_waiting_time_event_activation.pdf', bbox_inches='tight')"
   ]
  },
  {
   "cell_type": "code",
   "execution_count": 11,
   "metadata": {},
   "outputs": [],
   "source": [
    "# events = data.event_all_first_cell_count_increase\n",
    "\n",
    "# hist_bins = np.linspace(0, 54, num=28, endpoint=True)\n",
    "# hist_tau = [tau - 1e-06 for (event_bool, tau) in events if event_bool]\n",
    "\n",
    "# beads_no_events = list()\n",
    "# beads_slow_events = list()\n",
    "# beads_fast_events = list()\n",
    "# for event_i, (event_bool, tau) in enumerate(events):\n",
    "#     if event_bool:\n",
    "#         if tau > 40:\n",
    "#             beads_slow_events.append(bead_numbers[event_i])\n",
    "#         else:\n",
    "#             beads_fast_events.append(bead_numbers[event_i])\n",
    "#     else:\n",
    "#         beads_no_events.append(bead_numbers[event_i])\n",
    "\n",
    "# print(len(beads_no_events))\n",
    "# print(len(beads_slow_events))\n",
    "# print(len(beads_fast_events))\n",
    "\n",
    "# print(fr'Average bead number +/- std (sem) (no event) = {round(np.mean(beads_no_events),2)} +/- {round(np.std(beads_no_events),2)} ({round(stats.sem(beads_no_events, ddof=0),2)})')\n",
    "# print(fr'Average bead number +/- std (sem) (slow event) = {round(np.mean(beads_slow_events),2)} +/- {round(np.std(beads_slow_events),2)} ({round(stats.sem(beads_slow_events, ddof=0),2)})')\n",
    "# print(fr'Average bead number +/- std (sem) (fast event) = {round(np.mean(beads_fast_events),2)} +/- {round(np.std(beads_fast_events),2)} ({round(stats.sem(beads_fast_events, ddof=0),2)})')\n",
    "\n",
    "# plt.figure(figsize=(1.2, 0.8))\n",
    "# ax = plt.gca()\n",
    "# ax.spines['top'].set_visible(False)\n",
    "# ax.spines['right'].set_visible(False)\n",
    "# ax.spines['bottom'].set_visible(True)\n",
    "# ax.spines['left'].set_visible(True)\n",
    "# plt.xlabel('Division 1 times (hours)')\n",
    "# plt.ylabel('Frequency')\n",
    "# plt.hist(hist_tau,\n",
    "#                 bins=hist_bins,\n",
    "#                 color=cwdiv,\n",
    "#                 density=True,\n",
    "#                 histtype='stepfilled', # step, stepfilled\n",
    "#                 linewidth=2.0)\n",
    "\n",
    "# plt.axvline(x=40.0, linewidth=0.5, color=grey)\n",
    "# plt.axvline(x=54.0, linewidth=0.5, color=grey)\n",
    "\n",
    "# plt.xlim(None, 60)\n",
    "# # plt.legend()\n",
    "# plt.savefig('paper_figures/data_waiting_time_event_division1.pdf', bbox_inches='tight')"
   ]
  },
  {
   "cell_type": "code",
   "execution_count": 25,
   "metadata": {},
   "outputs": [
    {
     "name": "stdout",
     "output_type": "stream",
     "text": [
      "14\n",
      "16\n",
      "14\n",
      "Average bead number +/- std (sem) (no event) = 5.79 +/- 2.34 (0.62)\n",
      "Average bead number +/- std (sem) (slow event) = 6.25 +/- 3.21 (0.8)\n",
      "Average bead number +/- std (sem) (fast event) = 5.21 +/- 2.14 (0.57)\n"
     ]
    },
    {
     "data": {
      "image/png": "[encoded data removed]",
      "text/plain": [
       "<Figure size 100.8x57.6 with 1 Axes>"
      ]
     },
     "metadata": {
      "needs_background": "light"
     },
     "output_type": "display_data"
    }
   ],
   "source": [
    "events = data.event_all_first_cell_count_increase_after_cell_type_conversion\n",
    "\n",
    "hist_bins = np.linspace(0, 54, num=28, endpoint=True)\n",
    "hist_tau = [tau - 1e-06 for (event_bool, tau) in events if event_bool]\n",
    "\n",
    "beads_no_events = list()\n",
    "beads_slow_events = list()\n",
    "beads_fast_events = list()\n",
    "for event_i, (event_bool, tau) in enumerate(events):\n",
    "    if event_bool:\n",
    "        if tau > 12:\n",
    "            beads_slow_events.append(bead_numbers[event_i])\n",
    "        else:\n",
    "            beads_fast_events.append(bead_numbers[event_i])\n",
    "    else:\n",
    "        beads_no_events.append(bead_numbers[event_i])\n",
    "\n",
    "print(len(beads_no_events))\n",
    "print(len(beads_slow_events))\n",
    "print(len(beads_fast_events))\n",
    "\n",
    "print(fr'Average bead number +/- std (sem) (no event) = {round(np.mean(beads_no_events),2)} +/- {round(np.std(beads_no_events),2)} ({round(stats.sem(beads_no_events, ddof=0),2)})')\n",
    "print(fr'Average bead number +/- std (sem) (slow event) = {round(np.mean(beads_slow_events),2)} +/- {round(np.std(beads_slow_events),2)} ({round(stats.sem(beads_slow_events, ddof=0),2)})')\n",
    "print(fr'Average bead number +/- std (sem) (fast event) = {round(np.mean(beads_fast_events),2)} +/- {round(np.std(beads_fast_events),2)} ({round(stats.sem(beads_fast_events, ddof=0),2)})')\n",
    "\n",
    "plt.figure(figsize=(1.4, 0.8))\n",
    "ax = plt.gca()\n",
    "ax.spines['top'].set_visible(False)\n",
    "ax.spines['right'].set_visible(False)\n",
    "ax.spines['bottom'].set_visible(True)\n",
    "ax.spines['left'].set_visible(True)\n",
    "plt.xlabel('Division 1 times (hours)')\n",
    "plt.ylabel('Frequency')\n",
    "plt.hist(hist_tau,\n",
    "                bins=hist_bins,\n",
    "                color=cwdiv,\n",
    "                density=True,\n",
    "                histtype='stepfilled', # step, stepfilled\n",
    "                linewidth=2.0)\n",
    "\n",
    "plt.axvline(x=12.0, linewidth=0.5, color=grey)\n",
    "plt.axvline(x=54.0, linewidth=0.5, color=grey)\n",
    "\n",
    "plt.text(12, 0.02, f'No event: {round(np.mean(beads_no_events),2)} ± {round(np.std(beads_no_events),2)} ({round(stats.sem(beads_no_events, ddof=0),2)})')\n",
    "plt.text(12, 0.03, f'Slow: {round(np.mean(beads_slow_events),2)} ± {round(np.std(beads_slow_events),2)} ({round(stats.sem(beads_slow_events, ddof=0),2)})')\n",
    "plt.text(12, 0.04, f'Fast: {round(np.mean(beads_fast_events),2)} ± {round(np.std(beads_fast_events),2)} ({round(stats.sem(beads_fast_events, ddof=0),2)})')\n",
    "\n",
    "plt.xlim(None, 60)\n",
    "# plt.legend()\n",
    "plt.savefig('paper_figures/data_waiting_time_event_division1.pdf', bbox_inches='tight')"
   ]
  },
  {
   "cell_type": "code",
   "execution_count": 22,
   "metadata": {},
   "outputs": [
    {
     "name": "stdout",
     "output_type": "stream",
     "text": [
      "17\n",
      "15\n",
      "12\n",
      "Average bead number +/- std (sem) (no event) = 5.59 ± 2.33 (0.56)\n",
      "Average bead number +/- std (sem) (slow event) = 5.53 ± 3.38 (0.87)\n",
      "Average bead number +/- std (sem) (fast event) = 6.33 ± 1.93 (0.56)\n"
     ]
    },
    {
     "data": {
      "image/png": "[encoded data removed]",
      "text/plain": [
       "<Figure size 100.8x57.6 with 1 Axes>"
      ]
     },
     "metadata": {
      "needs_background": "light"
     },
     "output_type": "display_data"
    }
   ],
   "source": [
    "events = data.event_all_second_cell_count_increase_after_first_cell_count_increase_after_cell_type_conversion\n",
    "\n",
    "hist_bins = np.linspace(0, 54, num=28, endpoint=True)\n",
    "hist_tau = [tau - 1e-06 for (event_bool, tau) in events if event_bool]\n",
    "\n",
    "beads_no_events = list()\n",
    "beads_slow_events = list()\n",
    "beads_fast_events = list()\n",
    "for event_i, (event_bool, tau) in enumerate(events):\n",
    "    if event_bool:\n",
    "        if tau > 6:\n",
    "            beads_slow_events.append(bead_numbers[event_i])\n",
    "        else:\n",
    "            beads_fast_events.append(bead_numbers[event_i])\n",
    "    else:\n",
    "        beads_no_events.append(bead_numbers[event_i])\n",
    "\n",
    "print(len(beads_no_events))\n",
    "print(len(beads_slow_events))\n",
    "print(len(beads_fast_events))\n",
    "\n",
    "print(fr'Average bead number +/- std (sem) (no event) = {round(np.mean(beads_no_events),2)} ± {round(np.std(beads_no_events),2)} ({round(stats.sem(beads_no_events, ddof=0),2)})')\n",
    "print(fr'Average bead number +/- std (sem) (slow event) = {round(np.mean(beads_slow_events),2)} ± {round(np.std(beads_slow_events),2)} ({round(stats.sem(beads_slow_events, ddof=0),2)})')\n",
    "print(fr'Average bead number +/- std (sem) (fast event) = {round(np.mean(beads_fast_events),2)} ± {round(np.std(beads_fast_events),2)} ({round(stats.sem(beads_fast_events, ddof=0),2)})')\n",
    "\n",
    "plt.figure(figsize=(1.4, 0.8))\n",
    "ax = plt.gca()\n",
    "ax.spines['top'].set_visible(False)\n",
    "ax.spines['right'].set_visible(False)\n",
    "ax.spines['bottom'].set_visible(True)\n",
    "ax.spines['left'].set_visible(True)\n",
    "plt.xlabel('Division 2 times (hours)')\n",
    "plt.ylabel('Frequency')\n",
    "plt.hist(hist_tau,\n",
    "                bins=hist_bins,\n",
    "                color=cwdiv,\n",
    "                density=True,\n",
    "                histtype='stepfilled', # step, stepfilled\n",
    "                linewidth=2.0)\n",
    "\n",
    "plt.axvline(x=6.0, linewidth=0.5, color=grey)\n",
    "plt.axvline(x=54.0, linewidth=0.5, color=grey)\n",
    "\n",
    "plt.text(12, 0.03, f'No event: {round(np.mean(beads_no_events),2)} ± {round(np.std(beads_no_events),2)} ({round(stats.sem(beads_no_events, ddof=0),2)})')\n",
    "plt.text(12, 0.06, f'Slow: {round(np.mean(beads_slow_events),2)} ± {round(np.std(beads_slow_events),2)} ({round(stats.sem(beads_slow_events, ddof=0),2)})')\n",
    "plt.text(12, 0.09, f'Fast: {round(np.mean(beads_fast_events),2)} ± {round(np.std(beads_fast_events),2)} ({round(stats.sem(beads_fast_events, ddof=0),2)})')\n",
    "\n",
    "plt.xlim(None, 60)\n",
    "# plt.legend()\n",
    "plt.savefig('paper_figures/data_waiting_time_event_division2.pdf', bbox_inches='tight')"
   ]
  },
  {
   "cell_type": "markdown",
   "metadata": {},
   "source": [
    "##### example well for describing events"
   ]
  },
  {
   "cell_type": "code",
   "execution_count": 41,
   "metadata": {},
   "outputs": [
    {
     "name": "stdout",
     "output_type": "stream",
     "text": [
      "30.0 12.0 10.0\n"
     ]
    },
    {
     "data": {
      "image/png": "[encoded data removed]",
      "text/plain": [
       "<Figure size 86.4x57.6 with 1 Axes>"
      ]
     },
     "metadata": {
      "needs_background": "light"
     },
     "output_type": "display_data"
    }
   ],
   "source": [
    "well_ind = 0\n",
    "e_act = data.event_all_first_cell_type_conversion[well_ind][1]\n",
    "e_div1 = data.event_all_first_cell_count_increase_after_cell_type_conversion[well_ind][1]\n",
    "e_div2 = data.event_all_second_cell_count_increase_after_first_cell_count_increase_after_cell_type_conversion[well_ind][1]\n",
    "print(e_act, e_div1, e_div2)\n",
    "\n",
    "plt.figure(figsize=(1.2, 0.8))\n",
    "ax = plt.gca()\n",
    "ax.spines['top'].set_visible(False)\n",
    "ax.spines['right'].set_visible(False)\n",
    "ax.spines['bottom'].set_visible(True)\n",
    "ax.spines['left'].set_visible(True)\n",
    "plt.xlabel('Time (hours)')\n",
    "plt.ylabel('Number of cells')\n",
    "\n",
    "plt.plot(data.data_time_values, data.data_counts[well_ind, 0, :], label='CD44+', lw=1, c=cactiv)\n",
    "plt.plot(data.data_time_values, data.data_counts[well_ind, 1, :], label='CD44-', lw=1, c=cnaive)\n",
    "\n",
    "ax.hlines(y=0.5, xmin=0, xmax=e_act, linewidth=2, color=cwact, zorder=100)\n",
    "ax.hlines(y=1.5, xmin=e_act, xmax=e_act+e_div1, linewidth=2, color=cwdiv, zorder=100)\n",
    "ax.hlines(y=2.5, xmin=e_act+e_div1, xmax=e_act+e_div1+e_div2, linewidth=2, color=cwdiv, zorder=100)\n",
    "\n",
    "# plt.xlim(None, 60)\n",
    "plt.legend()\n",
    "plt.savefig(f'paper_figures/data_well_{well_ind+1}_index{well_ind}.pdf', bbox_inches='tight')"
   ]
  },
  {
   "cell_type": "markdown",
   "metadata": {},
   "source": [
    "##### plot all 44 single well traces"
   ]
  },
  {
   "cell_type": "code",
   "execution_count": 46,
   "metadata": {},
   "outputs": [
    {
     "name": "stdout",
     "output_type": "stream",
     "text": [
      "(44, 2, 28)\n",
      "9.0\n"
     ]
    }
   ],
   "source": [
    "print(data.data_counts.shape)\n",
    "print(np.max(data.data_counts))"
   ]
  },
  {
   "cell_type": "code",
   "execution_count": 61,
   "metadata": {},
   "outputs": [],
   "source": [
    "for well_ind in range(0, data.data_counts.shape[0]):\n",
    "    plt.figure(figsize=(0.6, 0.4))\n",
    "    ax = plt.gca()\n",
    "    ax.spines['top'].set_visible(False)\n",
    "    ax.spines['right'].set_visible(False)\n",
    "    ax.spines['bottom'].set_visible(True)\n",
    "    ax.spines['left'].set_visible(True)\n",
    "    # plt.xlabel('Time (hours)')\n",
    "    # plt.ylabel('Number of cells')\n",
    "\n",
    "    plt.plot(data.data_time_values, data.data_counts[well_ind, 0, :], lw=1, c=cactiv) # , label='CD44+'\n",
    "    plt.plot(data.data_time_values, data.data_counts[well_ind, 1, :], lw=1, c=cnaive) # , label='CD44-'\n",
    "\n",
    "    # plt.xlim(None, 60)\n",
    "    plt.ylim(-0.5, 9)\n",
    "    plt.tick_params(\n",
    "        axis='both',\n",
    "        which='both',\n",
    "        bottom=False,\n",
    "        left=False,\n",
    "        labelbottom=False,\n",
    "        labelleft=False)\n",
    "\n",
    "    plt.text(6, 7, f'Well {well_ind+1}')\n",
    "\n",
    "    # plt.legend()\n",
    "    plt.savefig(f'paper_figures/single_well_traces/data_well_{well_ind+1}_index{well_ind}_tiny.pdf', bbox_inches='tight')\n",
    "    plt.close()"
   ]
  },
  {
   "cell_type": "markdown",
   "metadata": {},
   "source": [
    "##### analysis of boostrapped statistics\n",
    "to do so, bootstrapping method of MemoCell were adapted below"
   ]
  },
  {
   "cell_type": "code",
   "execution_count": 64,
   "metadata": {},
   "outputs": [
    {
     "data": {
      "text/plain": [
       "<memo_py.data.Data at 0x7f8f8ff95590>"
      ]
     },
     "execution_count": 64,
     "metadata": {},
     "output_type": "execute_result"
    }
   ],
   "source": [
    "data"
   ]
  },
  {
   "cell_type": "markdown",
   "metadata": {},
   "source": [
    "mean"
   ]
  },
  {
   "cell_type": "code",
   "execution_count": 251,
   "metadata": {},
   "outputs": [],
   "source": [
    "# input\n",
    "count_data = data.data_counts\n",
    "variable_ind = 1\n",
    "time_value_ind = int(54/2) # 18, 36, 54\n",
    "bootstrap_samples = 100000\n",
    "\n",
    "# function\n",
    "def bootstrapping_mean_stats(sample, num_resamples):\n",
    "        ### ADAPTED FROM bootstrapping_mean method in Data\n",
    "        \n",
    "        ### sample should be a one-dimensional, flat array\n",
    "        \n",
    "        ### calculate the statistic of the sample\n",
    "        stat_sample = np.mean(sample)\n",
    "\n",
    "        ### bootstrap the standard error of the sample statistic (se_stat_sample)\n",
    "        # draw random number from sample with replacement\n",
    "        resamples = np.random.choice(sample, size=(num_resamples, *sample.shape), replace=True)\n",
    "\n",
    "        # calculate the statistic for each resample\n",
    "        stat_resamples = np.mean(resamples, axis=1)\n",
    "\n",
    "        # compute the standard error as standard deviation over all statistic resamples\n",
    "        se_stat_sample = np.std(stat_resamples, ddof=1)\n",
    "\n",
    "        return (stat_sample, se_stat_sample, stat_resamples)\n",
    "\n",
    "# run\n",
    "stat_sample, se_stat_sample, stat_resamples = bootstrapping_mean_stats(count_data[:, variable_ind, time_value_ind], bootstrap_samples)"
   ]
  },
  {
   "cell_type": "code",
   "execution_count": 252,
   "metadata": {},
   "outputs": [
    {
     "data": {
      "text/plain": [
       "array([0., 0., 0., 1., 0., 0., 1., 0., 0., 0., 0., 0., 1., 0., 0., 0., 0.,\n",
       "       0., 1., 0., 0., 2., 0., 0., 1., 0., 0., 0., 0., 0., 0., 0., 0., 0.,\n",
       "       1., 0., 0., 0., 0., 1., 0., 1., 0., 0.])"
      ]
     },
     "execution_count": 252,
     "metadata": {},
     "output_type": "execute_result"
    }
   ],
   "source": [
    "data.data_counts[:, variable_ind, time_value_ind]"
   ]
  },
  {
   "cell_type": "code",
   "execution_count": 253,
   "metadata": {},
   "outputs": [
    {
     "name": "stdout",
     "output_type": "stream",
     "text": [
      "0.22727272727272727 0.07112502603295938\n"
     ]
    }
   ],
   "source": [
    "# look at boostrapping results\n",
    "print(stat_sample, se_stat_sample)"
   ]
  },
  {
   "cell_type": "code",
   "execution_count": 254,
   "metadata": {},
   "outputs": [
    {
     "name": "stdout",
     "output_type": "stream",
     "text": [
      "0.22727272727272727 0.07082511863411368\n"
     ]
    }
   ],
   "source": [
    "# compare with data used for inference\n",
    "mu, sigma = data.data_mean[:, variable_ind, time_value_ind]\n",
    "print(mu, sigma)"
   ]
  },
  {
   "cell_type": "code",
   "execution_count": 255,
   "metadata": {},
   "outputs": [
    {
     "data": {
      "image/png": "[encoded data removed]",
      "text/plain": [
       "<Figure size 64.8x43.2 with 1 Axes>"
      ]
     },
     "metadata": {
      "needs_background": "light"
     },
     "output_type": "display_data"
    }
   ],
   "source": [
    "plt.rcParams.update({'figure.figsize': (0.9, 0.6)}) # 1.4, 0.97\n",
    "plt.figure()\n",
    "ax = plt.gca()\n",
    "ax.spines['top'].set_visible(False)\n",
    "ax.spines['right'].set_visible(False)\n",
    "ax.spines['bottom'].set_visible(True)\n",
    "ax.spines['left'].set_visible(True)\n",
    "\n",
    "plt.hist(stat_resamples, density=True, color=cnaive if variable_ind else cactiv,\n",
    "         label='Samples', histtype='stepfilled', alpha=0.3)\n",
    "x = np.linspace(mu - 4*sigma, mu + 4*sigma, 200)\n",
    "plt.plot(x, stats.norm.pdf(x, mu, sigma), lw=1.0,\n",
    "         label=f'$N({mu:.2f}, {sigma:.2f})$', c=cnaive if variable_ind else cactiv)\n",
    "plt.title(f'{2*time_value_ind} hours')\n",
    "plt.legend()\n",
    "plt.ylabel('Probability')\n",
    "plt.xlabel('Mean statistic')\n",
    "plt.savefig(f'paper_figures/data_stats_mean_varind{variable_ind}_time{2*time_value_ind}.pdf', bbox_inches='tight')"
   ]
  },
  {
   "cell_type": "markdown",
   "metadata": {},
   "source": [
    "variance"
   ]
  },
  {
   "cell_type": "code",
   "execution_count": 281,
   "metadata": {},
   "outputs": [],
   "source": [
    "# input\n",
    "count_data = data.data_counts\n",
    "variable_ind = 1\n",
    "time_value_ind = int(54/2) # 18, 36, 54\n",
    "bootstrap_samples = 100000\n",
    "\n",
    "# function\n",
    "def bootstrapping_variance_stats(sample, num_resamples):\n",
    "        ### ADAPTED FROM bootstrapping_variance method in Data\n",
    "        \n",
    "        ### sample should be a one-dimensional, flat array\n",
    "\n",
    "        ### calculate the statistic of the sample\n",
    "        stat_sample = np.var(sample, ddof=1)\n",
    "\n",
    "        ### bootstrap the standard error of the sample statistic (se_stat_sample)\n",
    "        # draw random number from sample with replacement\n",
    "        resamples = np.random.choice(sample, size=(num_resamples, *sample.shape), replace=True)\n",
    "\n",
    "        # calculate the statistic for each resample\n",
    "        stat_resamples = np.var(resamples, axis=1, ddof=1)\n",
    "\n",
    "        # compute the standard error as standard deviation over all statistic resamples\n",
    "        se_stat_sample = np.std(stat_resamples, ddof=1)\n",
    "\n",
    "        return (stat_sample, se_stat_sample, stat_resamples)\n",
    "\n",
    "# run\n",
    "stat_sample, se_stat_sample, stat_resamples = bootstrapping_variance_stats(count_data[:, variable_ind, time_value_ind], bootstrap_samples)"
   ]
  },
  {
   "cell_type": "code",
   "execution_count": 282,
   "metadata": {},
   "outputs": [
    {
     "data": {
      "text/plain": [
       "array([0., 0., 0., 1., 0., 0., 1., 0., 0., 0., 0., 0., 1., 0., 0., 0., 0.,\n",
       "       0., 1., 0., 0., 2., 0., 0., 1., 0., 0., 0., 0., 0., 0., 0., 0., 0.,\n",
       "       1., 0., 0., 0., 0., 1., 0., 1., 0., 0.])"
      ]
     },
     "execution_count": 282,
     "metadata": {},
     "output_type": "execute_result"
    }
   ],
   "source": [
    "data.data_counts[:, variable_ind, time_value_ind]"
   ]
  },
  {
   "cell_type": "code",
   "execution_count": 283,
   "metadata": {},
   "outputs": [
    {
     "name": "stdout",
     "output_type": "stream",
     "text": [
      "0.22621564482029602 0.07464494271907612\n"
     ]
    }
   ],
   "source": [
    "# look at boostrapping results\n",
    "print(stat_sample, se_stat_sample)"
   ]
  },
  {
   "cell_type": "code",
   "execution_count": 284,
   "metadata": {},
   "outputs": [
    {
     "name": "stdout",
     "output_type": "stream",
     "text": [
      "0.22621564482029602 0.07472211608428457\n"
     ]
    }
   ],
   "source": [
    "# compare with data used for inference\n",
    "mu, sigma = data.data_variance[:, variable_ind, time_value_ind]\n",
    "print(mu, sigma)"
   ]
  },
  {
   "cell_type": "code",
   "execution_count": 285,
   "metadata": {},
   "outputs": [
    {
     "data": {
      "image/png": "[encoded data removed]",
      "text/plain": [
       "<Figure size 64.8x43.2 with 1 Axes>"
      ]
     },
     "metadata": {
      "needs_background": "light"
     },
     "output_type": "display_data"
    }
   ],
   "source": [
    "plt.rcParams.update({'figure.figsize': (0.9, 0.6)}) # 1.4, 0.97\n",
    "plt.figure()\n",
    "ax = plt.gca()\n",
    "ax.spines['top'].set_visible(False)\n",
    "ax.spines['right'].set_visible(False)\n",
    "ax.spines['bottom'].set_visible(True)\n",
    "ax.spines['left'].set_visible(True)\n",
    "\n",
    "plt.hist(stat_resamples, density=True, color=cnaive if variable_ind else cactiv,\n",
    "         label='Samples', histtype='stepfilled', alpha=0.3)\n",
    "x = np.linspace(mu - 4*sigma, mu + 4*sigma, 200)\n",
    "plt.plot(x, stats.norm.pdf(x, mu, sigma), lw=1.0,\n",
    "         label=f'$N({mu:.2f}, {sigma:.2f})$', c=cnaive if variable_ind else cactiv)\n",
    "plt.title(f'{2*time_value_ind} hours')\n",
    "plt.legend()\n",
    "plt.ylabel('Probability')\n",
    "plt.xlabel('Variance statistic')\n",
    "plt.savefig(f'paper_figures/data_stats_variance_varind{variable_ind}_time{2*time_value_ind}.pdf', bbox_inches='tight')"
   ]
  },
  {
   "cell_type": "markdown",
   "metadata": {},
   "source": [
    "covariance"
   ]
  },
  {
   "cell_type": "code",
   "execution_count": 295,
   "metadata": {},
   "outputs": [],
   "source": [
    "# input\n",
    "count_data = data.data_counts\n",
    "time_value_ind = int(54/2) # 18, 36, 54\n",
    "bootstrap_samples = 10000\n",
    "count_indices = [0, 1]\n",
    "\n",
    "# function\n",
    "def bootstrapping_covariance_stats(sample1, sample2, num_resamples):\n",
    "        ### ADAPTED FROM bootstrapping_covariance method in Data\n",
    "        \n",
    "        sample = np.array([sample1, sample2])\n",
    "\n",
    "        ### calculate the statistic of the sample\n",
    "        stat_sample = np.cov(sample[0, :], sample[1, :], ddof=1)[1,0]\n",
    "\n",
    "        ### bootstrap the standard error of the sample statistic (se_stat_sample)\n",
    "        # draw random number from sample with replacement\n",
    "        resample_inds = [np.random.randint(sample.shape[1], size=sample.shape[1]) for i in range(num_resamples)]\n",
    "        resamples = np.array([sample[:, ind] for ind in resample_inds])\n",
    "\n",
    "        # calculate the statistic for each resample\n",
    "        stat_resamples = np.zeros((num_resamples,))\n",
    "        for resample_ind in range(num_resamples):\n",
    "            stat_resamples[resample_ind] = np.cov(resamples[resample_ind, 0, :], resamples[resample_ind, 1, :], ddof=1)[0, 1]\n",
    "\n",
    "        # compute the standard error as standard deviation over all statistic resamples\n",
    "        se_stat_sample = np.std(stat_resamples, ddof=1)\n",
    "\n",
    "        return (stat_sample, se_stat_sample, stat_resamples)\n",
    "\n",
    "# run\n",
    "stat_sample, se_stat_sample, stat_resamples = bootstrapping_covariance_stats(\n",
    "                        count_data[:, count_indices[0], time_value_ind],\n",
    "                        count_data[:, count_indices[1], time_value_ind],\n",
    "                        bootstrap_samples)"
   ]
  },
  {
   "cell_type": "code",
   "execution_count": 296,
   "metadata": {},
   "outputs": [
    {
     "name": "stdout",
     "output_type": "stream",
     "text": [
      "-0.7980972515856237 0.20210694145520908\n"
     ]
    }
   ],
   "source": [
    "# look at boostrapping results\n",
    "print(stat_sample, se_stat_sample)"
   ]
  },
  {
   "cell_type": "code",
   "execution_count": 297,
   "metadata": {},
   "outputs": [
    {
     "name": "stdout",
     "output_type": "stream",
     "text": [
      "-0.7980972515856235 0.2005798885800874\n"
     ]
    }
   ],
   "source": [
    "# compare with data used for inference\n",
    "mu, sigma = data.data_covariance[:, 0, time_value_ind]\n",
    "print(mu, sigma)"
   ]
  },
  {
   "cell_type": "code",
   "execution_count": 298,
   "metadata": {},
   "outputs": [
    {
     "data": {
      "image/png": "[encoded data removed]",
      "text/plain": [
       "<Figure size 64.8x43.2 with 1 Axes>"
      ]
     },
     "metadata": {
      "needs_background": "light"
     },
     "output_type": "display_data"
    }
   ],
   "source": [
    "plt.rcParams.update({'figure.figsize': (0.9, 0.6)}) # 1.4, 0.97\n",
    "plt.figure()\n",
    "ax = plt.gca()\n",
    "ax.spines['top'].set_visible(False)\n",
    "ax.spines['right'].set_visible(False)\n",
    "ax.spines['bottom'].set_visible(True)\n",
    "ax.spines['left'].set_visible(True)\n",
    "\n",
    "plt.hist(stat_resamples, density=True, color=grey,\n",
    "         label='Samples', histtype='stepfilled', alpha=0.3)\n",
    "x = np.linspace(mu - 4*sigma, mu + 4*sigma, 200)\n",
    "plt.plot(x, stats.norm.pdf(x, mu, sigma), lw=1.0,\n",
    "         label=f'$N({mu:.2f}, {sigma:.2f})$', c=grey)\n",
    "plt.title(f'{2*time_value_ind} hours')\n",
    "plt.legend()\n",
    "plt.ylabel('Probability')\n",
    "plt.xlabel('Covariance statistic')\n",
    "plt.savefig(f'paper_figures/data_stats_covariance_time{2*time_value_ind}.pdf', bbox_inches='tight')"
   ]
  },
  {
   "cell_type": "code",
   "execution_count": null,
   "metadata": {},
   "outputs": [],
   "source": []
  }
 ],
 "metadata": {
  "kernelspec": {
   "display_name": "Python 3",
   "language": "python",
   "name": "python3"
  },
  "language_info": {
   "codemirror_mode": {
    "name": "ipython",
    "version": 3
   },
   "file_extension": ".py",
   "mimetype": "text/x-python",
   "name": "python",
   "nbconvert_exporter": "python",
   "pygments_lexer": "ipython3",
   "version": "3.7.4"
  }
 },
 "nbformat": 4,
 "nbformat_minor": 4
}
