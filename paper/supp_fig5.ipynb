{
 "cells": [
  {
   "cell_type": "markdown",
   "metadata": {},
   "source": [
    "#### Supplement Figure 5"
   ]
  },
  {
   "cell_type": "markdown",
   "metadata": {},
   "source": [
    "##### Package imports, figure settings, color definitions\n",
    "<img src=\"color_pal.png\" width=\"500\">"
   ]
  },
  {
   "cell_type": "code",
   "execution_count": 1,
   "metadata": {},
   "outputs": [
    {
     "name": "stderr",
     "output_type": "stream",
     "text": [
      "/Users/mlanghinrichs/Documents/Studium/MSc/09_hiwi_hoefer/01_project/memo_py/memo_py/selection.py:18: TqdmExperimentalWarning: Using `tqdm.autonotebook.tqdm` in notebook mode. Use `tqdm.tqdm` instead to force console mode (e.g. in jupyter console)\n",
      "  from tqdm.autonotebook import tqdm\n"
     ]
    },
    {
     "data": {
      "image/png": "[encoded data removed]",
      "text/plain": [
       "<Figure size 504x72 with 1 Axes>"
      ]
     },
     "metadata": {
      "needs_background": "light"
     },
     "output_type": "display_data"
    },
    {
     "data": {
      "image/png": "[encoded data removed]",
      "text/plain": [
       "<Figure size 216x72 with 1 Axes>"
      ]
     },
     "metadata": {
      "needs_background": "light"
     },
     "output_type": "display_data"
    },
    {
     "data": {
      "image/png": "[encoded data removed]",
      "text/plain": [
       "<Figure size 216x72 with 1 Axes>"
      ]
     },
     "metadata": {
      "needs_background": "light"
     },
     "output_type": "display_data"
    },
    {
     "data": {
      "image/png": "[encoded data removed]",
      "text/plain": [
       "<Figure size 216x72 with 1 Axes>"
      ]
     },
     "metadata": {
      "needs_background": "light"
     },
     "output_type": "display_data"
    },
    {
     "data": {
      "image/png": "[encoded data removed]",
      "text/plain": [
       "<Figure size 216x72 with 1 Axes>"
      ]
     },
     "metadata": {
      "needs_background": "light"
     },
     "output_type": "display_data"
    },
    {
     "data": {
      "image/png": "[encoded data removed]",
      "text/plain": [
       "<Figure size 216x72 with 1 Axes>"
      ]
     },
     "metadata": {
      "needs_background": "light"
     },
     "output_type": "display_data"
    },
    {
     "data": {
      "image/png": "[encoded data removed]",
      "text/plain": [
       "<Figure size 216x72 with 1 Axes>"
      ]
     },
     "metadata": {
      "needs_background": "light"
     },
     "output_type": "display_data"
    },
    {
     "data": {
      "image/png": "[encoded data removed]",
      "text/plain": [
       "<Figure size 216x72 with 1 Axes>"
      ]
     },
     "metadata": {
      "needs_background": "light"
     },
     "output_type": "display_data"
    },
    {
     "data": {
      "image/png": "[encoded data removed]",
      "text/plain": [
       "<Figure size 216x72 with 1 Axes>"
      ]
     },
     "metadata": {
      "needs_background": "light"
     },
     "output_type": "display_data"
    }
   ],
   "source": [
    "%matplotlib inline\n",
    "%run settings_load.py"
   ]
  },
  {
   "cell_type": "markdown",
   "metadata": {},
   "source": [
    "##### summary plots meanfit"
   ]
  },
  {
   "cell_type": "code",
   "execution_count": 12,
   "metadata": {},
   "outputs": [
    {
     "name": "stdout",
     "output_type": "stream",
     "text": [
      "100 288 588 976\n"
     ]
    }
   ],
   "source": [
    "res1 = pickle.load(open('waiting_times_files/estimation_count_data_cd44_filtered_sigma022_minimal2_meanfit.pickle', 'rb'))\n",
    "res2 = pickle.load(open('waiting_times_files/estimation_count_data_cd44_filtered_sigma022_par2_meanfit.pickle', 'rb'))\n",
    "res3 = pickle.load(open('waiting_times_files/estimation_count_data_cd44_filtered_sigma022_par3_meanfit.pickle', 'rb'))\n",
    "res = res1 + res2 + res3\n",
    "print(len(res1), len(res2), len(res3), len(res))"
   ]
  },
  {
   "cell_type": "code",
   "execution_count": 13,
   "metadata": {},
   "outputs": [
    {
     "name": "stdout",
     "output_type": "stream",
     "text": [
      "1.000000000000017\n",
      "976\n"
     ]
    }
   ],
   "source": [
    "net_names = [est.net.net_name for est in res]\n",
    "mprior = np.array([0.25] + [0.25/99]*99 + [0.25/288]*288 + [0.25/588]*588)\n",
    "print(sum(mprior))\n",
    "model_probs = me.selection.compute_model_probabilities(res, mprior=mprior)\n",
    "print(len(model_probs))"
   ]
  },
  {
   "cell_type": "code",
   "execution_count": 14,
   "metadata": {},
   "outputs": [
    {
     "name": "stdout",
     "output_type": "stream",
     "text": [
      "9.660971146773869e-85\n",
      "0.005014767622594951\n",
      "0.42589158794281623\n",
      "0.5690936444345827\n"
     ]
    },
    {
     "data": {
      "image/png": "[encoded data removed]",
      "text/plain": [
       "<Figure size 28.8x72 with 2 Axes>"
      ]
     },
     "metadata": {
      "needs_background": "light"
     },
     "output_type": "display_data"
    }
   ],
   "source": [
    "print(sum(model_probs[0:1]))\n",
    "print(sum(model_probs[1:100]))\n",
    "print(sum(model_probs[100:388]))\n",
    "print(sum(model_probs[388:]))\n",
    "\n",
    "plt.figure(figsize=(0.4,1))\n",
    "df = pd.DataFrame(np.array([model_probs[0], sum(model_probs[1:100]), sum(model_probs[100:388]), sum(model_probs[388:])]) * 100.0, index=['Markov', 'Erlang', 'Phase-type 2', 'Phase-type 3']) # , index=rows\n",
    "sns.heatmap(df, cmap='cividis', annot=True, fmt='.1f') # 'plasma' # annot=True\n",
    "plt.yticks(rotation=0, va='center')\n",
    "plt.xticks(rotation=90)\n",
    "plt.savefig('paper_figures/models_probs_map_sigma022_meanfit.pdf', bbox_inches='tight')"
   ]
  },
  {
   "cell_type": "code",
   "execution_count": 15,
   "metadata": {},
   "outputs": [
    {
     "name": "stdout",
     "output_type": "stream",
     "text": [
      "54\n",
      "182\n",
      "349\n",
      "54\n",
      "182\n",
      "349\n",
      "282\n",
      "5.060916791223166e-86\n",
      "0.0017250897262094703\n",
      "0.6231397567202602\n",
      "0.3751351535535344\n",
      "net_3_15 par2_d_6_8_l_14 par3_d_6_6_6_l_18\n"
     ]
    },
    {
     "data": {
      "image/png": "[encoded data removed]",
      "text/plain": [
       "<Figure size 28.8x72 with 2 Axes>"
      ]
     },
     "metadata": {
      "needs_background": "light"
     },
     "output_type": "display_data"
    }
   ],
   "source": [
    "res1_probs = me.selection.compute_model_probabilities(res1)\n",
    "res2_probs = me.selection.compute_model_probabilities(res2)\n",
    "res3_probs = me.selection.compute_model_probabilities(res3)\n",
    "print(list(res1_probs).index(max(res1_probs)))\n",
    "print(list(res2_probs).index(max(res2_probs)))\n",
    "print(list(res3_probs).index(max(res3_probs)))\n",
    "print(list(model_probs[0:100]).index(max(model_probs[0:100])))\n",
    "print(list(model_probs[100:388]).index(max(model_probs[100:388])))\n",
    "print(list(model_probs[388:]).index(max(model_probs[388:])))\n",
    "print(list(model_probs).index(max(model_probs)))\n",
    "\n",
    "bestof_probs = me.selection.compute_model_probabilities([\n",
    "                res[0], res[54], res[182+100], res[349+100+288]])\n",
    "\n",
    "print(bestof_probs[0])\n",
    "print(bestof_probs[1])\n",
    "print(bestof_probs[2])\n",
    "print(bestof_probs[3])\n",
    "\n",
    "plt.figure(figsize=(0.4,1))\n",
    "df = pd.DataFrame(np.array([bestof_probs[0], bestof_probs[1], bestof_probs[2], bestof_probs[3]]) * 100.0, index=['Markov\\n model', 'Best Erlang\\n model', 'Best Phase-\\n type 2 model', 'Best Phase-\\n type 3 model']) # , index=rows\n",
    "sns.heatmap(df, cmap='cividis', annot=True, fmt='.1f') # 'plasma' # annot=True\n",
    "plt.yticks(rotation=0, va='center')\n",
    "plt.xticks(rotation=90)\n",
    "plt.savefig('paper_figures/models_probs_map_bestof_sigma022_meanfit.pdf', bbox_inches='tight')\n",
    "\n",
    "print(net_names[54], net_names[182+100], net_names[349+100+288])"
   ]
  },
  {
   "cell_type": "markdown",
   "metadata": {},
   "source": [
    "##### summary plots sparse data + meanfit"
   ]
  },
  {
   "cell_type": "code",
   "execution_count": 16,
   "metadata": {},
   "outputs": [
    {
     "name": "stdout",
     "output_type": "stream",
     "text": [
      "100 288 588 976\n"
     ]
    }
   ],
   "source": [
    "res1 = pickle.load(open('waiting_times_files/estimation_count_data_cd44_filtered_thin4_minimal2_meanfit.pickle', 'rb'))\n",
    "res2 = pickle.load(open('waiting_times_files/estimation_count_data_cd44_filtered_thin4_par2_meanfit.pickle', 'rb'))\n",
    "res3 = pickle.load(open('waiting_times_files/estimation_count_data_cd44_filtered_thin4_par3_meanfit.pickle', 'rb'))\n",
    "res = res1 + res2 + res3\n",
    "print(len(res1), len(res2), len(res3), len(res))"
   ]
  },
  {
   "cell_type": "code",
   "execution_count": 17,
   "metadata": {},
   "outputs": [
    {
     "name": "stdout",
     "output_type": "stream",
     "text": [
      "1.000000000000017\n",
      "976\n"
     ]
    }
   ],
   "source": [
    "net_names = [est.net.net_name for est in res]\n",
    "mprior = np.array([0.25] + [0.25/99]*99 + [0.25/288]*288 + [0.25/588]*588)\n",
    "print(sum(mprior))\n",
    "model_probs = me.selection.compute_model_probabilities(res, mprior=mprior)\n",
    "print(len(model_probs))"
   ]
  },
  {
   "cell_type": "code",
   "execution_count": 18,
   "metadata": {},
   "outputs": [
    {
     "name": "stdout",
     "output_type": "stream",
     "text": [
      "0.007262188363938567\n",
      "0.650908888878787\n",
      "0.17250468736453117\n",
      "0.16932423539274372\n"
     ]
    },
    {
     "data": {
      "image/png": "[encoded data removed]",
      "text/plain": [
       "<Figure size 28.8x72 with 2 Axes>"
      ]
     },
     "metadata": {
      "needs_background": "light"
     },
     "output_type": "display_data"
    }
   ],
   "source": [
    "print(sum(model_probs[0:1]))\n",
    "print(sum(model_probs[1:100]))\n",
    "print(sum(model_probs[100:388]))\n",
    "print(sum(model_probs[388:]))\n",
    "\n",
    "plt.figure(figsize=(0.4,1))\n",
    "df = pd.DataFrame(np.array([model_probs[0], sum(model_probs[1:100]), sum(model_probs[100:388]), sum(model_probs[388:])]) * 100.0, index=['Markov', 'Erlang', 'Phase-type 2', 'Phase-type 3']) # , index=rows\n",
    "sns.heatmap(df, cmap='cividis', annot=True, fmt='.1f') # 'plasma' # annot=True\n",
    "plt.yticks(rotation=0, va='center')\n",
    "plt.xticks(rotation=90)\n",
    "plt.savefig('paper_figures/models_probs_map_thin4_meanfit.pdf', bbox_inches='tight')"
   ]
  },
  {
   "cell_type": "code",
   "execution_count": 19,
   "metadata": {},
   "outputs": [
    {
     "name": "stdout",
     "output_type": "stream",
     "text": [
      "37\n",
      "70\n",
      "202\n",
      "37\n",
      "70\n",
      "202\n",
      "37\n",
      "0.0017142345131952053\n",
      "0.6868242772657994\n",
      "0.22953125201326033\n",
      "0.08193023620774577\n",
      "min_d_2_l_18 par2_d_2_2_l_14 par3_d_4_4_4_l_18\n"
     ]
    },
    {
     "data": {
      "image/png": "[encoded data removed]",
      "text/plain": [
       "<Figure size 28.8x72 with 2 Axes>"
      ]
     },
     "metadata": {
      "needs_background": "light"
     },
     "output_type": "display_data"
    }
   ],
   "source": [
    "res1_probs = me.selection.compute_model_probabilities(res1)\n",
    "res2_probs = me.selection.compute_model_probabilities(res2)\n",
    "res3_probs = me.selection.compute_model_probabilities(res3)\n",
    "print(list(res1_probs).index(max(res1_probs)))\n",
    "print(list(res2_probs).index(max(res2_probs)))\n",
    "print(list(res3_probs).index(max(res3_probs)))\n",
    "print(list(model_probs[0:100]).index(max(model_probs[0:100])))\n",
    "print(list(model_probs[100:388]).index(max(model_probs[100:388])))\n",
    "print(list(model_probs[388:]).index(max(model_probs[388:])))\n",
    "print(list(model_probs).index(max(model_probs)))\n",
    "\n",
    "bestof_probs = me.selection.compute_model_probabilities([\n",
    "                res[0], res[37], res[70+100], res[202+100+288]])\n",
    "\n",
    "print(bestof_probs[0])\n",
    "print(bestof_probs[1])\n",
    "print(bestof_probs[2])\n",
    "print(bestof_probs[3])\n",
    "\n",
    "plt.figure(figsize=(0.4,1))\n",
    "df = pd.DataFrame(np.array([bestof_probs[0], bestof_probs[1], bestof_probs[2], bestof_probs[3]]) * 100.0, index=['Markov\\n model', 'Best Erlang\\n model', 'Best Phase-\\n type 2 model', 'Best Phase-\\n type 3 model']) # , index=rows\n",
    "sns.heatmap(df, cmap='cividis', annot=True, fmt='.1f') # 'plasma' # annot=True\n",
    "plt.yticks(rotation=0, va='center')\n",
    "plt.xticks(rotation=90)\n",
    "plt.savefig('paper_figures/models_probs_map_bestof_thin4_meanfit.pdf', bbox_inches='tight')\n",
    "\n",
    "print(net_names[37], net_names[70+100], net_names[202+100+288])"
   ]
  },
  {
   "cell_type": "code",
   "execution_count": null,
   "metadata": {},
   "outputs": [],
   "source": []
  }
 ],
 "metadata": {
  "kernelspec": {
   "display_name": "Python 3",
   "language": "python",
   "name": "python3"
  },
  "language_info": {
   "codemirror_mode": {
    "name": "ipython",
    "version": 3
   },
   "file_extension": ".py",
   "mimetype": "text/x-python",
   "name": "python",
   "nbconvert_exporter": "python",
   "pygments_lexer": "ipython3",
   "version": "3.7.4"
  }
 },
 "nbformat": 4,
 "nbformat_minor": 4
}
