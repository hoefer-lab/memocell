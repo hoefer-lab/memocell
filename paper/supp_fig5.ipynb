{
 "cells": [
  {
   "cell_type": "markdown",
   "metadata": {},
   "source": [
    "#### Supplement Figure 5"
   ]
  },
  {
   "cell_type": "markdown",
   "metadata": {},
   "source": [
    "##### Package imports, figure settings, color definitions\n",
    "<img src=\"color_pal.png\" width=\"500\">"
   ]
  },
  {
   "cell_type": "code",
   "execution_count": 1,
   "metadata": {},
   "outputs": [
    {
     "name": "stderr",
     "output_type": "stream",
     "text": [
      "/Users/mlanghinrichs/Documents/Studium/MSc/09_hiwi_hoefer/01_project/memo_py/memo_py/selection.py:18: TqdmExperimentalWarning: Using `tqdm.autonotebook.tqdm` in notebook mode. Use `tqdm.tqdm` instead to force console mode (e.g. in jupyter console)\n",
      "  from tqdm.autonotebook import tqdm\n"
     ]
    },
    {
     "data": {
      "image/png": "[encoded data removed]",
      "text/plain": [
       "<Figure size 504x72 with 1 Axes>"
      ]
     },
     "metadata": {
      "needs_background": "light"
     },
     "output_type": "display_data"
    },
    {
     "data": {
      "image/png": "[encoded data removed]",
      "text/plain": [
       "<Figure size 216x72 with 1 Axes>"
      ]
     },
     "metadata": {
      "needs_background": "light"
     },
     "output_type": "display_data"
    },
    {
     "data": {
      "image/png": "[encoded data removed]",
      "text/plain": [
       "<Figure size 216x72 with 1 Axes>"
      ]
     },
     "metadata": {
      "needs_background": "light"
     },
     "output_type": "display_data"
    },
    {
     "data": {
      "image/png": "[encoded data removed]",
      "text/plain": [
       "<Figure size 216x72 with 1 Axes>"
      ]
     },
     "metadata": {
      "needs_background": "light"
     },
     "output_type": "display_data"
    },
    {
     "data": {
      "image/png": "[encoded data removed]",
      "text/plain": [
       "<Figure size 216x72 with 1 Axes>"
      ]
     },
     "metadata": {
      "needs_background": "light"
     },
     "output_type": "display_data"
    },
    {
     "data": {
      "image/png": "[encoded data removed]",
      "text/plain": [
       "<Figure size 216x72 with 1 Axes>"
      ]
     },
     "metadata": {
      "needs_background": "light"
     },
     "output_type": "display_data"
    },
    {
     "data": {
      "image/png": "[encoded data removed]",
      "text/plain": [
       "<Figure size 216x72 with 1 Axes>"
      ]
     },
     "metadata": {
      "needs_background": "light"
     },
     "output_type": "display_data"
    },
    {
     "data": {
      "image/png": "[encoded data removed]",
      "text/plain": [
       "<Figure size 216x72 with 1 Axes>"
      ]
     },
     "metadata": {
      "needs_background": "light"
     },
     "output_type": "display_data"
    },
    {
     "data": {
      "image/png": "[encoded data removed]",
      "text/plain": [
       "<Figure size 216x72 with 1 Axes>"
      ]
     },
     "metadata": {
      "needs_background": "light"
     },
     "output_type": "display_data"
    }
   ],
   "source": [
    "%matplotlib inline\n",
    "%run settings_load.py"
   ]
  },
  {
   "cell_type": "markdown",
   "metadata": {},
   "source": [
    "##### summary plots"
   ]
  },
  {
   "cell_type": "markdown",
   "metadata": {},
   "source": [
    "standard"
   ]
  },
  {
   "cell_type": "code",
   "execution_count": 19,
   "metadata": {},
   "outputs": [
    {
     "name": "stdout",
     "output_type": "stream",
     "text": [
      "100 288 588 976\n",
      "1.000000000000017\n",
      "976\n",
      "4.452090637016675e-205\n",
      "5.831857248046224e-12\n",
      "0.557374194770303\n",
      "0.4426258052238786\n"
     ]
    }
   ],
   "source": [
    "res1 = pickle.load(open('waiting_times_files/estimation_count_data_cd44_filtered_sigma022_minimal2.pickle', 'rb'))\n",
    "res2 = pickle.load(open('waiting_times_files/estimation_count_data_cd44_filtered_sigma022_par2.pickle', 'rb'))\n",
    "res3 = pickle.load(open('waiting_times_files/estimation_count_data_cd44_filtered_sigma022_par3.pickle', 'rb'))\n",
    "res = res1 + res2 + res3\n",
    "print(len(res1), len(res2), len(res3), len(res))\n",
    "\n",
    "net_names = [est.net.net_name for est in res]\n",
    "mprior = np.array([0.25] + [0.25/99]*99 + [0.25/288]*288 + [0.25/588]*588)\n",
    "print(sum(mprior))\n",
    "model_probs = me.selection.compute_model_probabilities(res, mprior=mprior)\n",
    "print(len(model_probs))\n",
    "\n",
    "print(sum(model_probs[0:1]))\n",
    "print(sum(model_probs[1:100]))\n",
    "print(sum(model_probs[100:388]))\n",
    "print(sum(model_probs[388:]))"
   ]
  },
  {
   "cell_type": "code",
   "execution_count": 20,
   "metadata": {},
   "outputs": [
    {
     "data": {
      "image/png": "[encoded data removed]",
      "text/plain": [
       "<Figure size 28.8x72 with 2 Axes>"
      ]
     },
     "metadata": {
      "needs_background": "light"
     },
     "output_type": "display_data"
    }
   ],
   "source": [
    "plt.figure(figsize=(0.4,1))\n",
    "df = pd.DataFrame(np.array([model_probs[0], sum(model_probs[1:100]), sum(model_probs[100:388]), sum(model_probs[388:])]) * 100.0, index=['Markov', 'Erlang', 'Phase-type 2', 'Phase-type 3']) # , index=rows\n",
    "sns.heatmap(df, cmap='cividis', annot=True, fmt='.1f') # 'plasma' # annot=True\n",
    "plt.yticks(rotation=0, va='center')\n",
    "plt.xticks(rotation=90)\n",
    "plt.savefig('paper_figures/models_probs_map_sigma022.pdf', bbox_inches='tight')"
   ]
  },
  {
   "cell_type": "code",
   "execution_count": 21,
   "metadata": {},
   "outputs": [
    {
     "name": "stdout",
     "output_type": "stream",
     "text": [
      "59\n",
      "183\n",
      "349\n",
      "59\n",
      "183\n",
      "349\n",
      "283\n",
      "1.0790882757157929e-206\n",
      "2.1136588251598973e-12\n",
      "0.7963072164813105\n",
      "0.20369278351656742\n",
      "net_3_20 par2_d_6_8_l_18 par3_d_6_6_6_l_18\n"
     ]
    },
    {
     "data": {
      "image/png": "[encoded data removed]",
      "text/plain": [
       "<Figure size 28.8x72 with 2 Axes>"
      ]
     },
     "metadata": {
      "needs_background": "light"
     },
     "output_type": "display_data"
    }
   ],
   "source": [
    "res1_probs = me.selection.compute_model_probabilities(res1)\n",
    "res2_probs = me.selection.compute_model_probabilities(res2)\n",
    "res3_probs = me.selection.compute_model_probabilities(res3)\n",
    "print(list(res1_probs).index(max(res1_probs)))\n",
    "print(list(res2_probs).index(max(res2_probs)))\n",
    "print(list(res3_probs).index(max(res3_probs)))\n",
    "print(list(model_probs[0:100]).index(max(model_probs[0:100])))\n",
    "print(list(model_probs[100:388]).index(max(model_probs[100:388])))\n",
    "print(list(model_probs[388:]).index(max(model_probs[388:])))\n",
    "print(list(model_probs).index(max(model_probs)))\n",
    "\n",
    "bestof_probs = me.selection.compute_model_probabilities([\n",
    "                res[0], res[59], res[183+100], res[349+100+288]])\n",
    "\n",
    "print(bestof_probs[0])\n",
    "print(bestof_probs[1])\n",
    "print(bestof_probs[2])\n",
    "print(bestof_probs[3])\n",
    "\n",
    "plt.figure(figsize=(0.4,1))\n",
    "df = pd.DataFrame(np.array([bestof_probs[0], bestof_probs[1], bestof_probs[2], bestof_probs[3]]) * 100.0, index=['Markov\\n model', 'Best Erlang\\n model', 'Best Phase-\\n type 2 model', 'Best Phase-\\n type 3 model']) # , index=rows\n",
    "sns.heatmap(df, cmap='cividis', annot=True, fmt='.1f') # 'plasma' # annot=True\n",
    "plt.yticks(rotation=0, va='center')\n",
    "plt.xticks(rotation=90)\n",
    "plt.savefig('paper_figures/models_probs_map_bestof_sigma022.pdf', bbox_inches='tight')\n",
    "\n",
    "print(net_names[59], net_names[183+100], net_names[349+100+288])"
   ]
  },
  {
   "cell_type": "markdown",
   "metadata": {},
   "source": [
    "thin4"
   ]
  },
  {
   "cell_type": "code",
   "execution_count": 22,
   "metadata": {},
   "outputs": [
    {
     "name": "stdout",
     "output_type": "stream",
     "text": [
      "100 288 588 976\n",
      "1.000000000000017\n",
      "976\n",
      "2.114399286073702e-11\n",
      "0.22947033920494325\n",
      "0.3569926668482579\n",
      "0.4135369939256563\n"
     ]
    }
   ],
   "source": [
    "res1 = pickle.load(open('waiting_times_files/estimation_count_data_cd44_filtered_thin4_minimal2.pickle', 'rb'))\n",
    "res2 = pickle.load(open('waiting_times_files/estimation_count_data_cd44_filtered_thin4_par2.pickle', 'rb'))\n",
    "res3 = pickle.load(open('waiting_times_files/estimation_count_data_cd44_filtered_thin4_par3.pickle', 'rb'))\n",
    "res = res1 + res2 + res3\n",
    "print(len(res1), len(res2), len(res3), len(res))\n",
    "\n",
    "net_names = [est.net.net_name for est in res]\n",
    "mprior = np.array([0.25] + [0.25/99]*99 + [0.25/288]*288 + [0.25/588]*588)\n",
    "print(sum(mprior))\n",
    "model_probs = me.selection.compute_model_probabilities(res, mprior=mprior)\n",
    "print(len(model_probs))\n",
    "\n",
    "print(sum(model_probs[0:1]))\n",
    "print(sum(model_probs[1:100]))\n",
    "print(sum(model_probs[100:388]))\n",
    "print(sum(model_probs[388:]))"
   ]
  },
  {
   "cell_type": "code",
   "execution_count": 23,
   "metadata": {},
   "outputs": [
    {
     "data": {
      "image/png": "[encoded data removed]",
      "text/plain": [
       "<Figure size 28.8x72 with 2 Axes>"
      ]
     },
     "metadata": {
      "needs_background": "light"
     },
     "output_type": "display_data"
    }
   ],
   "source": [
    "plt.figure(figsize=(0.4,1))\n",
    "df = pd.DataFrame(np.array([model_probs[0], sum(model_probs[1:100]), sum(model_probs[100:388]), sum(model_probs[388:])]) * 100.0, index=['Markov', 'Erlang', 'Phase-type 2', 'Phase-type 3']) # , index=rows\n",
    "sns.heatmap(df, cmap='cividis', annot=True, fmt='.1f') # 'plasma' # annot=True\n",
    "plt.yticks(rotation=0, va='center')\n",
    "plt.xticks(rotation=90)\n",
    "plt.savefig('paper_figures/models_probs_map_thin4.pdf', bbox_inches='tight')"
   ]
  },
  {
   "cell_type": "code",
   "execution_count": 25,
   "metadata": {},
   "outputs": [
    {
     "name": "stdout",
     "output_type": "stream",
     "text": [
      "39\n",
      "191\n",
      "405\n",
      "39\n",
      "191\n",
      "405\n",
      "39\n",
      "2.9724474855900235e-12\n",
      "0.2929864106052875\n",
      "0.4422602214060325\n",
      "0.2647533679857067\n",
      "min_d_2_l_20 par2_d_6_10_l_18 par3_d_6_8_18_l_18\n"
     ]
    },
    {
     "data": {
      "image/png": "[encoded data removed]",
      "text/plain": [
       "<Figure size 28.8x72 with 2 Axes>"
      ]
     },
     "metadata": {
      "needs_background": "light"
     },
     "output_type": "display_data"
    }
   ],
   "source": [
    "res1_probs = me.selection.compute_model_probabilities(res1)\n",
    "res2_probs = me.selection.compute_model_probabilities(res2)\n",
    "res3_probs = me.selection.compute_model_probabilities(res3)\n",
    "print(list(res1_probs).index(max(res1_probs)))\n",
    "print(list(res2_probs).index(max(res2_probs)))\n",
    "print(list(res3_probs).index(max(res3_probs)))\n",
    "print(list(model_probs[0:100]).index(max(model_probs[0:100])))\n",
    "print(list(model_probs[100:388]).index(max(model_probs[100:388])))\n",
    "print(list(model_probs[388:]).index(max(model_probs[388:])))\n",
    "print(list(model_probs).index(max(model_probs)))\n",
    "\n",
    "bestof_probs = me.selection.compute_model_probabilities([\n",
    "                res[0], res[39], res[191+100], res[405+100+288]])\n",
    "\n",
    "print(bestof_probs[0])\n",
    "print(bestof_probs[1])\n",
    "print(bestof_probs[2])\n",
    "print(bestof_probs[3])\n",
    "\n",
    "plt.figure(figsize=(0.4,1))\n",
    "df = pd.DataFrame(np.array([bestof_probs[0], bestof_probs[1], bestof_probs[2], bestof_probs[3]]) * 100.0, index=['Markov\\n model', 'Best Erlang\\n model', 'Best Phase-\\n type 2 model', 'Best Phase-\\n type 3 model']) # , index=rows\n",
    "sns.heatmap(df, cmap='cividis', annot=True, fmt='.1f') # 'plasma' # annot=True\n",
    "plt.yticks(rotation=0, va='center')\n",
    "plt.xticks(rotation=90)\n",
    "plt.savefig('paper_figures/models_probs_map_bestof_thin4.pdf', bbox_inches='tight')\n",
    "\n",
    "print(net_names[39], net_names[191+100], net_names[405+100+288])"
   ]
  },
  {
   "cell_type": "markdown",
   "metadata": {},
   "source": [
    "meanfit"
   ]
  },
  {
   "cell_type": "code",
   "execution_count": 4,
   "metadata": {},
   "outputs": [
    {
     "name": "stdout",
     "output_type": "stream",
     "text": [
      "100 288 588 976\n",
      "1.000000000000017\n",
      "976\n",
      "9.660971146773869e-85\n",
      "0.005014767622594951\n",
      "0.42589158794281623\n",
      "0.5690936444345827\n"
     ]
    }
   ],
   "source": [
    "res1 = pickle.load(open('waiting_times_files/estimation_count_data_cd44_filtered_sigma022_minimal2_meanfit.pickle', 'rb'))\n",
    "res2 = pickle.load(open('waiting_times_files/estimation_count_data_cd44_filtered_sigma022_par2_meanfit.pickle', 'rb'))\n",
    "res3 = pickle.load(open('waiting_times_files/estimation_count_data_cd44_filtered_sigma022_par3_meanfit.pickle', 'rb'))\n",
    "res = res1 + res2 + res3\n",
    "print(len(res1), len(res2), len(res3), len(res))\n",
    "\n",
    "net_names = [est.net.net_name for est in res]\n",
    "mprior = np.array([0.25] + [0.25/99]*99 + [0.25/288]*288 + [0.25/588]*588)\n",
    "print(sum(mprior))\n",
    "model_probs = me.selection.compute_model_probabilities(res, mprior=mprior)\n",
    "print(len(model_probs))\n",
    "\n",
    "print(sum(model_probs[0:1]))\n",
    "print(sum(model_probs[1:100]))\n",
    "print(sum(model_probs[100:388]))\n",
    "print(sum(model_probs[388:]))"
   ]
  },
  {
   "cell_type": "code",
   "execution_count": 5,
   "metadata": {},
   "outputs": [
    {
     "data": {
      "image/png": "[encoded data removed]",
      "text/plain": [
       "<Figure size 28.8x72 with 2 Axes>"
      ]
     },
     "metadata": {
      "needs_background": "light"
     },
     "output_type": "display_data"
    }
   ],
   "source": [
    "plt.figure(figsize=(0.4,1))\n",
    "df = pd.DataFrame(np.array([model_probs[0], sum(model_probs[1:100]), sum(model_probs[100:388]), sum(model_probs[388:])]) * 100.0, index=['Markov', 'Erlang', 'Phase-type 2', 'Phase-type 3']) # , index=rows\n",
    "sns.heatmap(df, cmap='cividis', annot=True, fmt='.1f') # 'plasma' # annot=True\n",
    "plt.yticks(rotation=0, va='center')\n",
    "plt.xticks(rotation=90)\n",
    "plt.savefig('paper_figures/models_probs_map_sigma022_meanfit.pdf', bbox_inches='tight')"
   ]
  },
  {
   "cell_type": "code",
   "execution_count": 6,
   "metadata": {},
   "outputs": [
    {
     "name": "stdout",
     "output_type": "stream",
     "text": [
      "54\n",
      "182\n",
      "349\n",
      "54\n",
      "182\n",
      "349\n",
      "282\n",
      "5.060916791223166e-86\n",
      "0.0017250897262094703\n",
      "0.6231397567202602\n",
      "0.3751351535535344\n",
      "net_3_15 par2_d_6_8_l_14 par3_d_6_6_6_l_18\n"
     ]
    },
    {
     "data": {
      "image/png": "[encoded data removed]",
      "text/plain": [
       "<Figure size 28.8x72 with 2 Axes>"
      ]
     },
     "metadata": {
      "needs_background": "light"
     },
     "output_type": "display_data"
    }
   ],
   "source": [
    "res1_probs = me.selection.compute_model_probabilities(res1)\n",
    "res2_probs = me.selection.compute_model_probabilities(res2)\n",
    "res3_probs = me.selection.compute_model_probabilities(res3)\n",
    "print(list(res1_probs).index(max(res1_probs)))\n",
    "print(list(res2_probs).index(max(res2_probs)))\n",
    "print(list(res3_probs).index(max(res3_probs)))\n",
    "print(list(model_probs[0:100]).index(max(model_probs[0:100])))\n",
    "print(list(model_probs[100:388]).index(max(model_probs[100:388])))\n",
    "print(list(model_probs[388:]).index(max(model_probs[388:])))\n",
    "print(list(model_probs).index(max(model_probs)))\n",
    "\n",
    "bestof_probs = me.selection.compute_model_probabilities([\n",
    "                res[0], res[54], res[182+100], res[349+100+288]])\n",
    "\n",
    "print(bestof_probs[0])\n",
    "print(bestof_probs[1])\n",
    "print(bestof_probs[2])\n",
    "print(bestof_probs[3])\n",
    "\n",
    "plt.figure(figsize=(0.4,1))\n",
    "df = pd.DataFrame(np.array([bestof_probs[0], bestof_probs[1], bestof_probs[2], bestof_probs[3]]) * 100.0, index=['Markov\\n model', 'Best Erlang\\n model', 'Best Phase-\\n type 2 model', 'Best Phase-\\n type 3 model']) # , index=rows\n",
    "sns.heatmap(df, cmap='cividis', annot=True, fmt='.1f') # 'plasma' # annot=True\n",
    "plt.yticks(rotation=0, va='center')\n",
    "plt.xticks(rotation=90)\n",
    "plt.savefig('paper_figures/models_probs_map_bestof_sigma022_meanfit.pdf', bbox_inches='tight')\n",
    "\n",
    "print(net_names[54], net_names[182+100], net_names[349+100+288])"
   ]
  },
  {
   "cell_type": "markdown",
   "metadata": {},
   "source": [
    "thin4 + meanfit"
   ]
  },
  {
   "cell_type": "code",
   "execution_count": 10,
   "metadata": {},
   "outputs": [
    {
     "name": "stdout",
     "output_type": "stream",
     "text": [
      "100 288 588 976\n",
      "1.000000000000017\n",
      "976\n",
      "0.007262188363938567\n",
      "0.650908888878787\n",
      "0.17250468736453117\n",
      "0.16932423539274372\n"
     ]
    }
   ],
   "source": [
    "res1 = pickle.load(open('waiting_times_files/estimation_count_data_cd44_filtered_thin4_minimal2_meanfit.pickle', 'rb'))\n",
    "res2 = pickle.load(open('waiting_times_files/estimation_count_data_cd44_filtered_thin4_par2_meanfit.pickle', 'rb'))\n",
    "res3 = pickle.load(open('waiting_times_files/estimation_count_data_cd44_filtered_thin4_par3_meanfit.pickle', 'rb'))\n",
    "res = res1 + res2 + res3\n",
    "print(len(res1), len(res2), len(res3), len(res))\n",
    "\n",
    "net_names = [est.net.net_name for est in res]\n",
    "mprior = np.array([0.25] + [0.25/99]*99 + [0.25/288]*288 + [0.25/588]*588)\n",
    "print(sum(mprior))\n",
    "model_probs = me.selection.compute_model_probabilities(res, mprior=mprior)\n",
    "print(len(model_probs))\n",
    "\n",
    "print(sum(model_probs[0:1]))\n",
    "print(sum(model_probs[1:100]))\n",
    "print(sum(model_probs[100:388]))\n",
    "print(sum(model_probs[388:]))"
   ]
  },
  {
   "cell_type": "code",
   "execution_count": 11,
   "metadata": {},
   "outputs": [
    {
     "data": {
      "image/png": "[encoded data removed]",
      "text/plain": [
       "<Figure size 28.8x72 with 2 Axes>"
      ]
     },
     "metadata": {
      "needs_background": "light"
     },
     "output_type": "display_data"
    }
   ],
   "source": [
    "plt.figure(figsize=(0.4,1))\n",
    "df = pd.DataFrame(np.array([model_probs[0], sum(model_probs[1:100]), sum(model_probs[100:388]), sum(model_probs[388:])]) * 100.0, index=['Markov', 'Erlang', 'Phase-type 2', 'Phase-type 3']) # , index=rows\n",
    "sns.heatmap(df, cmap='cividis', annot=True, fmt='.1f') # 'plasma' # annot=True\n",
    "plt.yticks(rotation=0, va='center')\n",
    "plt.xticks(rotation=90)\n",
    "plt.savefig('paper_figures/models_probs_map_thin4_meanfit.pdf', bbox_inches='tight')"
   ]
  },
  {
   "cell_type": "code",
   "execution_count": 12,
   "metadata": {},
   "outputs": [
    {
     "name": "stdout",
     "output_type": "stream",
     "text": [
      "37\n",
      "70\n",
      "202\n",
      "37\n",
      "70\n",
      "202\n",
      "37\n",
      "0.0017142345131952053\n",
      "0.6868242772657994\n",
      "0.22953125201326033\n",
      "0.08193023620774577\n",
      "min_d_2_l_18 par2_d_2_2_l_14 par3_d_4_4_4_l_18\n"
     ]
    },
    {
     "data": {
      "image/png": "[encoded data removed]",
      "text/plain": [
       "<Figure size 28.8x72 with 2 Axes>"
      ]
     },
     "metadata": {
      "needs_background": "light"
     },
     "output_type": "display_data"
    }
   ],
   "source": [
    "res1_probs = me.selection.compute_model_probabilities(res1)\n",
    "res2_probs = me.selection.compute_model_probabilities(res2)\n",
    "res3_probs = me.selection.compute_model_probabilities(res3)\n",
    "print(list(res1_probs).index(max(res1_probs)))\n",
    "print(list(res2_probs).index(max(res2_probs)))\n",
    "print(list(res3_probs).index(max(res3_probs)))\n",
    "print(list(model_probs[0:100]).index(max(model_probs[0:100])))\n",
    "print(list(model_probs[100:388]).index(max(model_probs[100:388])))\n",
    "print(list(model_probs[388:]).index(max(model_probs[388:])))\n",
    "print(list(model_probs).index(max(model_probs)))\n",
    "\n",
    "bestof_probs = me.selection.compute_model_probabilities([\n",
    "                res[0], res[37], res[70+100], res[202+100+288]])\n",
    "\n",
    "print(bestof_probs[0])\n",
    "print(bestof_probs[1])\n",
    "print(bestof_probs[2])\n",
    "print(bestof_probs[3])\n",
    "\n",
    "plt.figure(figsize=(0.4,1))\n",
    "df = pd.DataFrame(np.array([bestof_probs[0], bestof_probs[1], bestof_probs[2], bestof_probs[3]]) * 100.0, index=['Markov\\n model', 'Best Erlang\\n model', 'Best Phase-\\n type 2 model', 'Best Phase-\\n type 3 model']) # , index=rows\n",
    "sns.heatmap(df, cmap='cividis', annot=True, fmt='.1f') # 'plasma' # annot=True\n",
    "plt.yticks(rotation=0, va='center')\n",
    "plt.xticks(rotation=90)\n",
    "plt.savefig('paper_figures/models_probs_map_bestof_thin4_meanfit.pdf', bbox_inches='tight')\n",
    "\n",
    "print(net_names[37], net_names[70+100], net_names[202+100+288])"
   ]
  },
  {
   "cell_type": "markdown",
   "metadata": {},
   "source": [
    "##### model rank correlations"
   ]
  },
  {
   "cell_type": "markdown",
   "metadata": {},
   "source": [
    "standard/full data vs. thin4"
   ]
  },
  {
   "cell_type": "code",
   "execution_count": 4,
   "metadata": {},
   "outputs": [
    {
     "name": "stdout",
     "output_type": "stream",
     "text": [
      "False\n",
      "False\n",
      "True\n",
      "True\n",
      "SpearmanrResult(correlation=0.7980003510760093, pvalue=1.9663508112171953e-216)\n",
      "(0.6244431613173873, 1.2345754309672264e-106)\n"
     ]
    }
   ],
   "source": [
    "res1a = pickle.load(open('waiting_times_files/estimation_count_data_cd44_filtered_thin4_minimal2.pickle', 'rb'))\n",
    "res1b = pickle.load(open('waiting_times_files/estimation_count_data_cd44_filtered_thin4_par2.pickle', 'rb'))\n",
    "res1c = pickle.load(open('waiting_times_files/estimation_count_data_cd44_filtered_thin4_par3.pickle', 'rb'))\n",
    "res1 = res1a + res1b + res1c\n",
    "\n",
    "res2a = pickle.load(open('waiting_times_files/estimation_count_data_cd44_filtered_sigma022_minimal2.pickle', 'rb'))\n",
    "res2b = pickle.load(open('waiting_times_files/estimation_count_data_cd44_filtered_sigma022_par2.pickle', 'rb'))\n",
    "res2c = pickle.load(open('waiting_times_files/estimation_count_data_cd44_filtered_sigma022_par3.pickle', 'rb'))\n",
    "res2 = res2a + res2b + res2c\n",
    "\n",
    "print([est.net.net_name for est in res1] == [est.net.net_name for est in res2])\n",
    "print([est.net.net_name for est in res1a] == [est.net.net_name for est in res2a])\n",
    "print([est.net.net_name for est in res1b] == [est.net.net_name for est in res2b])\n",
    "print([est.net.net_name for est in res1c] == [est.net.net_name for est in res2c])\n",
    "model_logevids_thin4 = [est.bay_est_log_evidence for est in res1]\n",
    "model_logevids_full = [est.bay_est_log_evidence for est in res2]\n",
    "\n",
    "print(stats.spearmanr(model_logevids_full, model_logevids_thin4))\n",
    "print(stats.pearsonr(model_logevids_full, model_logevids_thin4))"
   ]
  },
  {
   "cell_type": "code",
   "execution_count": 6,
   "metadata": {},
   "outputs": [
    {
     "name": "stdout",
     "output_type": "stream",
     "text": [
      "1.000000000000017\n"
     ]
    }
   ],
   "source": [
    "mprior = np.array([0.25] + [0.25/99]*99 + [0.25/288]*288 + [0.25/588]*588)\n",
    "print(sum(mprior))\n",
    "model_probs_thin4 = me.selection.compute_model_probabilities(res1, mprior=mprior)\n",
    "model_probs_full = me.selection.compute_model_probabilities(res2, mprior=mprior)"
   ]
  },
  {
   "cell_type": "code",
   "execution_count": 7,
   "metadata": {},
   "outputs": [
    {
     "name": "stdout",
     "output_type": "stream",
     "text": [
      "440 122\n"
     ]
    }
   ],
   "source": [
    "# How many models needed to have >95% of combined posterior probability?\n",
    "sort_inds = np.array(- model_probs_thin4).argsort()\n",
    "model_probs_sorted_thin4 = np.array(model_probs_thin4)[sort_inds]\n",
    "\n",
    "sort_inds = np.array(- model_probs_full).argsort()\n",
    "model_probs_sorted_full = np.array(model_probs_full)[sort_inds]\n",
    "\n",
    "index_thin4 = model_probs_sorted_thin4.cumsum().searchsorted(0.95)\n",
    "index_full = model_probs_sorted_full.cumsum().searchsorted(0.95)\n",
    "print(index_thin4, index_full)"
   ]
  },
  {
   "cell_type": "code",
   "execution_count": 8,
   "metadata": {},
   "outputs": [
    {
     "name": "stdout",
     "output_type": "stream",
     "text": [
      "0.9500921841991591 0.9500764766977169\n"
     ]
    }
   ],
   "source": [
    "print(model_probs_sorted_thin4.cumsum()[440],\n",
    "      model_probs_sorted_full.cumsum()[122])"
   ]
  },
  {
   "cell_type": "code",
   "execution_count": 9,
   "metadata": {},
   "outputs": [
    {
     "name": "stdout",
     "output_type": "stream",
     "text": [
      "False\n"
     ]
    },
    {
     "data": {
      "text/plain": [
       "0.7980003510760093"
      ]
     },
     "execution_count": 9,
     "metadata": {},
     "output_type": "execute_result"
    },
    {
     "data": {
      "image/png": "[encoded data removed]",
      "text/plain": [
       "<Figure size 86.4x57.6 with 1 Axes>"
      ]
     },
     "metadata": {
      "needs_background": "light"
     },
     "output_type": "display_data"
    }
   ],
   "source": [
    "net_names = [est.net.net_name for est in res1]\n",
    "print(net_names == [est.net.net_name for est in res2])\n",
    "\n",
    "model_rank_thin4 = np.array(list(range(0, len(res1))))\n",
    "model_rank_full = np.array(list(range(0, len(res2))))\n",
    "\n",
    "inds = np.array(model_logevids_thin4).argsort()\n",
    "model_rank_thin4_sorted = model_rank_thin4[inds]\n",
    "\n",
    "inds = np.array(model_logevids_full).argsort()\n",
    "model_rank_full_sorted = model_rank_full[inds]\n",
    "\n",
    "x_rank = list(range(0, len(res1)))\n",
    "y_rank = list()\n",
    "for x in x_rank:\n",
    "    ind_thin4 = model_rank_thin4_sorted[x]\n",
    "    y_rank.append(list(model_rank_full_sorted).index(ind_thin4))\n",
    "    \n",
    "plt.rcParams.update({'figure.figsize': (1.2, 0.8)})\n",
    "plt.figure()\n",
    "ax = plt.gca()\n",
    "ax.spines['top'].set_visible(False)\n",
    "ax.spines['right'].set_visible(False)\n",
    "ax.spines['bottom'].set_visible(True)\n",
    "ax.spines['left'].set_visible(True)\n",
    "\n",
    "# plt.axhline(y=len(y_rank)-index_full, color='b', linestyle='-', alpha=0.5, linewidth=0.5)\n",
    "# plt.axvline(x=len(x_rank)-index_thin4, color='b', linestyle='-', alpha=0.5, linewidth=0.5)\n",
    "import matplotlib.patches as patches\n",
    "ax.add_patch(\n",
    "    patches.Rectangle((len(x_rank)-index_thin4, 0), index_thin4, len(y_rank), \n",
    "                      color=cwact, alpha=0.15, linewidth=0.0, label='Top models\\n(Sparse data)'))\n",
    "ax.add_patch(\n",
    "    patches.Rectangle((0, len(y_rank)-index_full), len(x_rank), index_full, \n",
    "                      color=cwdiv, alpha=0.25, linewidth=0.0, label='Top models\\n(Full data)'))\n",
    "\n",
    "plt.scatter(x_rank, y_rank, color=grey, alpha=0.5, s=1.0, lw=0.0, zorder=1000) # , s=1.0)\n",
    "plt.xlabel('Model rank (Sparse data)')\n",
    "plt.ylabel('Model rank (Full data)')\n",
    "plt.xlim((None, None))\n",
    "plt.ylim((None, None))\n",
    "plt.xticks([0, 500, 1000])\n",
    "plt.legend()\n",
    "plt.axis('square')\n",
    "plt.savefig('paper_figures/rank_corr_thin_vs_full_data.pdf', bbox_inches='tight')\n",
    "\n",
    "np.corrcoef(x_rank, y_rank)[0, 1]"
   ]
  },
  {
   "cell_type": "markdown",
   "metadata": {},
   "source": [
    "standard/full data vs. meanfit"
   ]
  },
  {
   "cell_type": "code",
   "execution_count": 10,
   "metadata": {},
   "outputs": [
    {
     "name": "stdout",
     "output_type": "stream",
     "text": [
      "True\n",
      "True\n",
      "True\n",
      "True\n",
      "SpearmanrResult(correlation=0.9463362766065924, pvalue=0.0)\n",
      "(0.9703735082372149, 0.0)\n"
     ]
    }
   ],
   "source": [
    "res1a = pickle.load(open('waiting_times_files/estimation_count_data_cd44_filtered_sigma022_minimal2_meanfit.pickle', 'rb'))\n",
    "res1b = pickle.load(open('waiting_times_files/estimation_count_data_cd44_filtered_sigma022_par2_meanfit.pickle', 'rb'))\n",
    "res1c = pickle.load(open('waiting_times_files/estimation_count_data_cd44_filtered_sigma022_par3_meanfit.pickle', 'rb'))\n",
    "res1 = res1a + res1b + res1c\n",
    "\n",
    "res2a = pickle.load(open('waiting_times_files/estimation_count_data_cd44_filtered_sigma022_minimal2.pickle', 'rb'))\n",
    "res2b = pickle.load(open('waiting_times_files/estimation_count_data_cd44_filtered_sigma022_par2.pickle', 'rb'))\n",
    "res2c = pickle.load(open('waiting_times_files/estimation_count_data_cd44_filtered_sigma022_par3.pickle', 'rb'))\n",
    "res2 = res2a + res2b + res2c\n",
    "\n",
    "print([est.net.net_name for est in res1] == [est.net.net_name for est in res2])\n",
    "print([est.net.net_name for est in res1a] == [est.net.net_name for est in res2a])\n",
    "print([est.net.net_name for est in res1b] == [est.net.net_name for est in res2b])\n",
    "print([est.net.net_name for est in res1c] == [est.net.net_name for est in res2c])\n",
    "model_logevids_thin4 = [est.bay_est_log_evidence for est in res1]\n",
    "model_logevids_full = [est.bay_est_log_evidence for est in res2]\n",
    "\n",
    "print(stats.spearmanr(model_logevids_full, model_logevids_thin4))\n",
    "print(stats.pearsonr(model_logevids_full, model_logevids_thin4))"
   ]
  },
  {
   "cell_type": "code",
   "execution_count": 11,
   "metadata": {},
   "outputs": [
    {
     "name": "stdout",
     "output_type": "stream",
     "text": [
      "1.000000000000017\n"
     ]
    }
   ],
   "source": [
    "mprior = np.array([0.25] + [0.25/99]*99 + [0.25/288]*288 + [0.25/588]*588)\n",
    "print(sum(mprior))\n",
    "model_probs_thin4 = me.selection.compute_model_probabilities(res1, mprior=mprior)\n",
    "model_probs_full = me.selection.compute_model_probabilities(res2, mprior=mprior)"
   ]
  },
  {
   "cell_type": "code",
   "execution_count": 12,
   "metadata": {},
   "outputs": [
    {
     "name": "stdout",
     "output_type": "stream",
     "text": [
      "304 122\n"
     ]
    }
   ],
   "source": [
    "# How many models needed to have >95% of combined posterior probability?\n",
    "sort_inds = np.array(- model_probs_thin4).argsort()\n",
    "model_probs_sorted_thin4 = np.array(model_probs_thin4)[sort_inds]\n",
    "\n",
    "sort_inds = np.array(- model_probs_full).argsort()\n",
    "model_probs_sorted_full = np.array(model_probs_full)[sort_inds]\n",
    "\n",
    "index_thin4 = model_probs_sorted_thin4.cumsum().searchsorted(0.95)\n",
    "index_full = model_probs_sorted_full.cumsum().searchsorted(0.95)\n",
    "print(index_thin4, index_full)"
   ]
  },
  {
   "cell_type": "code",
   "execution_count": 13,
   "metadata": {},
   "outputs": [
    {
     "name": "stdout",
     "output_type": "stream",
     "text": [
      "0.9501084954556758 0.9500764766977169\n"
     ]
    }
   ],
   "source": [
    "print(model_probs_sorted_thin4.cumsum()[304],\n",
    "      model_probs_sorted_full.cumsum()[122])"
   ]
  },
  {
   "cell_type": "code",
   "execution_count": 14,
   "metadata": {},
   "outputs": [
    {
     "name": "stdout",
     "output_type": "stream",
     "text": [
      "True\n"
     ]
    },
    {
     "data": {
      "text/plain": [
       "0.9463362766065924"
      ]
     },
     "execution_count": 14,
     "metadata": {},
     "output_type": "execute_result"
    },
    {
     "data": {
      "image/png": "[encoded data removed]",
      "text/plain": [
       "<Figure size 86.4x57.6 with 1 Axes>"
      ]
     },
     "metadata": {
      "needs_background": "light"
     },
     "output_type": "display_data"
    }
   ],
   "source": [
    "net_names = [est.net.net_name for est in res1]\n",
    "print(net_names == [est.net.net_name for est in res2])\n",
    "\n",
    "model_rank_thin4 = np.array(list(range(0, len(res1))))\n",
    "model_rank_full = np.array(list(range(0, len(res2))))\n",
    "\n",
    "inds = np.array(model_logevids_thin4).argsort()\n",
    "model_rank_thin4_sorted = model_rank_thin4[inds]\n",
    "\n",
    "inds = np.array(model_logevids_full).argsort()\n",
    "model_rank_full_sorted = model_rank_full[inds]\n",
    "\n",
    "x_rank = list(range(0, len(res1)))\n",
    "y_rank = list()\n",
    "for x in x_rank:\n",
    "    ind_thin4 = model_rank_thin4_sorted[x]\n",
    "    y_rank.append(list(model_rank_full_sorted).index(ind_thin4))\n",
    "    \n",
    "plt.rcParams.update({'figure.figsize': (1.2, 0.8)})\n",
    "plt.figure()\n",
    "ax = plt.gca()\n",
    "ax.spines['top'].set_visible(False)\n",
    "ax.spines['right'].set_visible(False)\n",
    "ax.spines['bottom'].set_visible(True)\n",
    "ax.spines['left'].set_visible(True)\n",
    "\n",
    "# plt.axhline(y=len(y_rank)-index_full, color='b', linestyle='-', alpha=0.5, linewidth=0.5)\n",
    "# plt.axvline(x=len(x_rank)-index_thin4, color='b', linestyle='-', alpha=0.5, linewidth=0.5)\n",
    "import matplotlib.patches as patches\n",
    "ax.add_patch(\n",
    "    patches.Rectangle((len(x_rank)-index_thin4, 0), index_thin4, len(y_rank), \n",
    "                      color=cwact, alpha=0.15, linewidth=0.0, label='Top models\\n(Sparse data)'))\n",
    "ax.add_patch(\n",
    "    patches.Rectangle((0, len(y_rank)-index_full), len(x_rank), index_full, \n",
    "                      color=cwdiv, alpha=0.25, linewidth=0.0, label='Top models\\n(Full data)'))\n",
    "\n",
    "plt.scatter(x_rank, y_rank, color=grey, alpha=0.5, s=1.0, lw=0.0, zorder=1000) # , s=1.0)\n",
    "plt.xlabel('Model rank (Sparse data)')\n",
    "plt.ylabel('Model rank (Full data)')\n",
    "plt.xlim((None, None))\n",
    "plt.ylim((None, None))\n",
    "plt.xticks([0, 500, 1000])\n",
    "plt.legend()\n",
    "plt.axis('square')\n",
    "plt.savefig('paper_figures/rank_corr_meanfit_vs_full_data.pdf', bbox_inches='tight')\n",
    "\n",
    "np.corrcoef(x_rank, y_rank)[0, 1]"
   ]
  },
  {
   "cell_type": "markdown",
   "metadata": {},
   "source": [
    "standard/full data vs. meanfit+thin4"
   ]
  },
  {
   "cell_type": "code",
   "execution_count": 18,
   "metadata": {},
   "outputs": [
    {
     "name": "stdout",
     "output_type": "stream",
     "text": [
      "False\n",
      "False\n",
      "True\n",
      "True\n",
      "SpearmanrResult(correlation=0.46293482764362176, pvalue=5.347144896398736e-53)\n",
      "(0.4341278342341559, 3.982484543440235e-46)\n"
     ]
    }
   ],
   "source": [
    "res1a = pickle.load(open('waiting_times_files/estimation_count_data_cd44_filtered_thin4_minimal2_meanfit.pickle', 'rb'))\n",
    "res1b = pickle.load(open('waiting_times_files/estimation_count_data_cd44_filtered_thin4_par2_meanfit.pickle', 'rb'))\n",
    "res1c = pickle.load(open('waiting_times_files/estimation_count_data_cd44_filtered_thin4_par3_meanfit.pickle', 'rb'))\n",
    "res1 = res1a + res1b + res1c\n",
    "\n",
    "res2a = pickle.load(open('waiting_times_files/estimation_count_data_cd44_filtered_sigma022_minimal2.pickle', 'rb'))\n",
    "res2b = pickle.load(open('waiting_times_files/estimation_count_data_cd44_filtered_sigma022_par2.pickle', 'rb'))\n",
    "res2c = pickle.load(open('waiting_times_files/estimation_count_data_cd44_filtered_sigma022_par3.pickle', 'rb'))\n",
    "res2 = res2a + res2b + res2c\n",
    "\n",
    "print([est.net.net_name for est in res1] == [est.net.net_name for est in res2])\n",
    "print([est.net.net_name for est in res1a] == [est.net.net_name for est in res2a])\n",
    "print([est.net.net_name for est in res1b] == [est.net.net_name for est in res2b])\n",
    "print([est.net.net_name for est in res1c] == [est.net.net_name for est in res2c])\n",
    "model_logevids_thin4 = [est.bay_est_log_evidence for est in res1]\n",
    "model_logevids_full = [est.bay_est_log_evidence for est in res2]\n",
    "\n",
    "print(stats.spearmanr(model_logevids_full, model_logevids_thin4))\n",
    "print(stats.pearsonr(model_logevids_full, model_logevids_thin4))"
   ]
  },
  {
   "cell_type": "code",
   "execution_count": 19,
   "metadata": {},
   "outputs": [
    {
     "name": "stdout",
     "output_type": "stream",
     "text": [
      "1.000000000000017\n"
     ]
    }
   ],
   "source": [
    "mprior = np.array([0.25] + [0.25/99]*99 + [0.25/288]*288 + [0.25/588]*588)\n",
    "print(sum(mprior))\n",
    "model_probs_thin4 = me.selection.compute_model_probabilities(res1, mprior=mprior)\n",
    "model_probs_full = me.selection.compute_model_probabilities(res2, mprior=mprior)"
   ]
  },
  {
   "cell_type": "code",
   "execution_count": 20,
   "metadata": {},
   "outputs": [
    {
     "name": "stdout",
     "output_type": "stream",
     "text": [
      "653 122\n"
     ]
    }
   ],
   "source": [
    "# How many models needed to have >95% of combined posterior probability?\n",
    "sort_inds = np.array(- model_probs_thin4).argsort()\n",
    "model_probs_sorted_thin4 = np.array(model_probs_thin4)[sort_inds]\n",
    "\n",
    "sort_inds = np.array(- model_probs_full).argsort()\n",
    "model_probs_sorted_full = np.array(model_probs_full)[sort_inds]\n",
    "\n",
    "index_thin4 = model_probs_sorted_thin4.cumsum().searchsorted(0.95)\n",
    "index_full = model_probs_sorted_full.cumsum().searchsorted(0.95)\n",
    "print(index_thin4, index_full)"
   ]
  },
  {
   "cell_type": "code",
   "execution_count": 22,
   "metadata": {},
   "outputs": [
    {
     "name": "stdout",
     "output_type": "stream",
     "text": [
      "0.9501598932124086 0.9500764766977169\n"
     ]
    }
   ],
   "source": [
    "print(model_probs_sorted_thin4.cumsum()[653],\n",
    "      model_probs_sorted_full.cumsum()[122])"
   ]
  },
  {
   "cell_type": "code",
   "execution_count": 23,
   "metadata": {},
   "outputs": [
    {
     "name": "stdout",
     "output_type": "stream",
     "text": [
      "False\n"
     ]
    },
    {
     "data": {
      "text/plain": [
       "0.46293482764362176"
      ]
     },
     "execution_count": 23,
     "metadata": {},
     "output_type": "execute_result"
    },
    {
     "data": {
      "image/png": "[encoded data removed]",
      "text/plain": [
       "<Figure size 86.4x57.6 with 1 Axes>"
      ]
     },
     "metadata": {
      "needs_background": "light"
     },
     "output_type": "display_data"
    }
   ],
   "source": [
    "net_names = [est.net.net_name for est in res1]\n",
    "print(net_names == [est.net.net_name for est in res2])\n",
    "\n",
    "model_rank_thin4 = np.array(list(range(0, len(res1))))\n",
    "model_rank_full = np.array(list(range(0, len(res2))))\n",
    "\n",
    "inds = np.array(model_logevids_thin4).argsort()\n",
    "model_rank_thin4_sorted = model_rank_thin4[inds]\n",
    "\n",
    "inds = np.array(model_logevids_full).argsort()\n",
    "model_rank_full_sorted = model_rank_full[inds]\n",
    "\n",
    "x_rank = list(range(0, len(res1)))\n",
    "y_rank = list()\n",
    "for x in x_rank:\n",
    "    ind_thin4 = model_rank_thin4_sorted[x]\n",
    "    y_rank.append(list(model_rank_full_sorted).index(ind_thin4))\n",
    "    \n",
    "plt.rcParams.update({'figure.figsize': (1.2, 0.8)})\n",
    "plt.figure()\n",
    "ax = plt.gca()\n",
    "ax.spines['top'].set_visible(False)\n",
    "ax.spines['right'].set_visible(False)\n",
    "ax.spines['bottom'].set_visible(True)\n",
    "ax.spines['left'].set_visible(True)\n",
    "\n",
    "# plt.axhline(y=len(y_rank)-index_full, color='b', linestyle='-', alpha=0.5, linewidth=0.5)\n",
    "# plt.axvline(x=len(x_rank)-index_thin4, color='b', linestyle='-', alpha=0.5, linewidth=0.5)\n",
    "import matplotlib.patches as patches\n",
    "ax.add_patch(\n",
    "    patches.Rectangle((len(x_rank)-index_thin4, 0), index_thin4, len(y_rank), \n",
    "                      color=cwact, alpha=0.15, linewidth=0.0, label='Top models\\n(Sparse data)'))\n",
    "ax.add_patch(\n",
    "    patches.Rectangle((0, len(y_rank)-index_full), len(x_rank), index_full, \n",
    "                      color=cwdiv, alpha=0.25, linewidth=0.0, label='Top models\\n(Full data)'))\n",
    "\n",
    "plt.scatter(x_rank, y_rank, color=grey, alpha=0.5, s=1.0, lw=0.0, zorder=1000) # , s=1.0)\n",
    "plt.xlabel('Model rank (Sparse data)')\n",
    "plt.ylabel('Model rank (Full data)')\n",
    "plt.xlim((None, None))\n",
    "plt.ylim((None, None))\n",
    "plt.xticks([0, 500, 1000])\n",
    "plt.legend()\n",
    "plt.axis('square')\n",
    "plt.savefig('paper_figures/rank_corr_thinmeanfit_vs_full_data.pdf', bbox_inches='tight')\n",
    "\n",
    "np.corrcoef(x_rank, y_rank)[0, 1]"
   ]
  },
  {
   "cell_type": "markdown",
   "metadata": {},
   "source": [
    "##### waiting times"
   ]
  },
  {
   "cell_type": "markdown",
   "metadata": {},
   "source": [
    "standard/full data"
   ]
  },
  {
   "cell_type": "code",
   "execution_count": 25,
   "metadata": {},
   "outputs": [
    {
     "name": "stdout",
     "output_type": "stream",
     "text": [
      "100 288 588 976\n"
     ]
    }
   ],
   "source": [
    "res1 = pickle.load(open('waiting_times_files/estimation_count_data_cd44_filtered_sigma022_minimal2.pickle', 'rb'))\n",
    "res2 = pickle.load(open('waiting_times_files/estimation_count_data_cd44_filtered_sigma022_par2.pickle', 'rb'))\n",
    "res3 = pickle.load(open('waiting_times_files/estimation_count_data_cd44_filtered_sigma022_par3.pickle', 'rb'))\n",
    "res = res1 + res2 + res3\n",
    "print(len(res1), len(res2), len(res3), len(res))\n",
    "\n",
    "net_names = [est.net.net_name for est in res]\n",
    "# model_probs = me.selection.compute_model_probabilities(res)\n",
    "data = res[0].data\n",
    "# print(sum(['alphaF' in name for name in net_names]))"
   ]
  },
  {
   "cell_type": "code",
   "execution_count": 26,
   "metadata": {},
   "outputs": [
    {
     "name": "stdout",
     "output_type": "stream",
     "text": [
      "1.000000000000017\n",
      "976\n"
     ]
    }
   ],
   "source": [
    "# set model prior to give classes same weight\n",
    "mprior = np.array([0.25] + [0.25/99]*99 + [0.25/288]*288 + [0.25/588]*588)\n",
    "print(sum(mprior))\n",
    "print(len(mprior))"
   ]
  },
  {
   "cell_type": "code",
   "execution_count": 27,
   "metadata": {},
   "outputs": [
    {
     "name": "stdout",
     "output_type": "stream",
     "text": [
      "[    0.     0. 22362. 17638.]\n"
     ]
    }
   ],
   "source": [
    "# idea to compute \"credible bands\" for better visualisation\n",
    "samples = 40000\n",
    "plot_data = True # True or False\n",
    "time_max = 60.0 # 60.0, 100.0, 200.0, 150.0, 54.0\n",
    "x = np.linspace(0.0, time_max, num=200)\n",
    "\n",
    "y = waiting_time_distr_samples_act(x, res, samples, time_max, mprior)"
   ]
  },
  {
   "cell_type": "code",
   "execution_count": 29,
   "metadata": {},
   "outputs": [
    {
     "data": {
      "image/png": "[encoded data removed]",
      "text/plain": [
       "<Figure size 72x36 with 1 Axes>"
      ]
     },
     "metadata": {
      "needs_background": "light"
     },
     "output_type": "display_data"
    }
   ],
   "source": [
    "y_997_lower = np.percentile(y, 0.15, axis=1)\n",
    "y_95_lower = np.percentile(y, 2.5, axis=1)\n",
    "y_68_lower = np.percentile(y, 16.0, axis=1)\n",
    "y_median = np.percentile(y, 50.0, axis=1)\n",
    "y_68_upper = np.percentile(y, 84.0, axis=1)\n",
    "y_95_upper = np.percentile(y, 97.5, axis=1)\n",
    "y_997_upper = np.percentile(y, 99.85, axis=1)\n",
    "\n",
    "plt.rcParams.update({'figure.figsize': (1.0, 0.5)}) # 1.4, 1.8, \n",
    "plt.figure()\n",
    "ax = plt.gca()\n",
    "ax.spines['top'].set_visible(False)\n",
    "ax.spines['right'].set_visible(False)\n",
    "ax.spines['bottom'].set_visible(True)\n",
    "ax.spines['left'].set_visible(True)\n",
    "\n",
    "# adapted from framework plotting methods\n",
    "if plot_data:\n",
    "    data.events_find_all()\n",
    "    data_act = np.array([tup[1] for tup in data.event_all_first_cell_type_conversion if tup[0]])\n",
    "\n",
    "    plt.hist(data_act - 1e-06, bins=data.data_time_values,\n",
    "             color='black', alpha=0.1,\n",
    "             density=True, histtype='stepfilled', label='Data')\n",
    "\n",
    "\n",
    "plt.fill_between(x, y_997_lower, y_95_lower, color=cwact, alpha=0.2, linewidth=0.0, zorder=100)\n",
    "plt.fill_between(x, y_95_lower, y_68_lower, color=cwact, alpha=0.4, linewidth=0.0, zorder=100)\n",
    "plt.fill_between(x, y_68_lower, y_median, color=cwact, alpha=0.6, linewidth=0.0, zorder=100)\n",
    "\n",
    "plt.fill_between(x, y_median, y_68_upper, color=cwact, alpha=0.6, linewidth=0.0, zorder=100)\n",
    "plt.fill_between(x, y_68_upper, y_95_upper, color=cwact, alpha=0.4, linewidth=0.0, zorder=100)\n",
    "plt.fill_between(x, y_95_upper, y_997_upper, color=cwact, alpha=0.2, linewidth=0.0, zorder=100)\n",
    "\n",
    "# plt.plot(x, y_hdi_997_lower, color='lightseagreen', lw=2, alpha=0.2)\n",
    "# plt.plot(x, y_hdi_95_lower, color='lightseagreen', lw=2, alpha=0.4)\n",
    "# plt.plot(x, y_hdi_68_lower, color='lightseagreen', lw=2, alpha=0.6)\n",
    "plt.plot(x, y_median, color=cwact, lw=1, zorder=200, label='Inference \\n(Moments)')\n",
    "# plt.plot(x, y_hdi_68_upper, color='lightseagreen', lw=2, alpha=0.6)\n",
    "# plt.plot(x, y_hdi_95_upper, color='lightseagreen', lw=2, alpha=0.4)\n",
    "# plt.plot(x, y_hdi_997_upper, color='lightseagreen', lw=2, alpha=0.2)\n",
    "\n",
    "# plot experimental window\n",
    "plt.axvline(x=54.0, linewidth=0.5, color=grey)\n",
    "\n",
    "# plt.xticks([0, 20, 40, 54, 100], [0, 20, 40, 54, 100])\n",
    "\n",
    "plt.legend()\n",
    "plt.ylabel('Probability')\n",
    "plt.xlabel('Activation times (hours)')\n",
    "plt.savefig('paper_figures/waiting_times_act_full.pdf', bbox_inches='tight') # _long200 # pdf, png"
   ]
  },
  {
   "cell_type": "code",
   "execution_count": 30,
   "metadata": {},
   "outputs": [
    {
     "name": "stdout",
     "output_type": "stream",
     "text": [
      "976\n",
      "[    0.     0. 22368. 17632.]\n"
     ]
    }
   ],
   "source": [
    "# idea to compute \"credible bands\" for better visualisation\n",
    "print(len(res))\n",
    "samples = 40000\n",
    "plot_data = False # True or False\n",
    "time_max = 60.0 # 150.0, 54.0\n",
    "x = np.linspace(0.0, time_max, num=200)\n",
    "\n",
    "# NOTE: the data we plot here is only from first divisions! (so its not the complete data, \n",
    "# which is inaccessible from the data)\n",
    "\n",
    "y = waiting_time_distr_samples_div(x, res, samples, time_max, mprior)"
   ]
  },
  {
   "cell_type": "code",
   "execution_count": 32,
   "metadata": {},
   "outputs": [
    {
     "data": {
      "image/png": "[encoded data removed]",
      "text/plain": [
       "<Figure size 72x36 with 1 Axes>"
      ]
     },
     "metadata": {
      "needs_background": "light"
     },
     "output_type": "display_data"
    }
   ],
   "source": [
    "y_997_lower = np.percentile(y, 0.15, axis=1)\n",
    "y_95_lower = np.percentile(y, 2.5, axis=1)\n",
    "y_68_lower = np.percentile(y, 16.0, axis=1)\n",
    "y_median = np.percentile(y, 50.0, axis=1)\n",
    "y_68_upper = np.percentile(y, 84.0, axis=1)\n",
    "y_95_upper = np.percentile(y, 97.5, axis=1)\n",
    "y_997_upper = np.percentile(y, 99.85, axis=1)\n",
    "\n",
    "# figure size adapted to fit activation times scale\n",
    "plt.rcParams.update({'figure.figsize': (1.0, 0.5)}) # 1.4, 0.97\n",
    "plt.figure()\n",
    "ax = plt.gca()\n",
    "ax.spines['top'].set_visible(False)\n",
    "ax.spines['right'].set_visible(False)\n",
    "ax.spines['bottom'].set_visible(True)\n",
    "ax.spines['left'].set_visible(True)\n",
    "\n",
    "# adapted from framework plotting methods\n",
    "if plot_data:\n",
    "    data.events_find_all()\n",
    "    data_act = np.array([tup[1] for tup in data.event_all_first_cell_count_increase_after_cell_type_conversion if tup[0]])\n",
    "\n",
    "    plt.hist(data_act - 1e-06, bins=data.data_time_values,\n",
    "             color='black', alpha=0.1,\n",
    "             density=True, histtype='stepfilled', label='Data')\n",
    "    \n",
    "plt.fill_between(x, y_997_lower, y_95_lower, color=cwdiv, alpha=0.2, linewidth=0.0, zorder=100)\n",
    "plt.fill_between(x, y_95_lower, y_68_lower, color=cwdiv, alpha=0.4, linewidth=0.0, zorder=100)\n",
    "plt.fill_between(x, y_68_lower, y_median, color=cwdiv, alpha=0.6, linewidth=0.0, zorder=100)\n",
    "\n",
    "plt.fill_between(x, y_median, y_68_upper, color=cwdiv, alpha=0.6, linewidth=0.0, zorder=100)\n",
    "plt.fill_between(x, y_68_upper, y_95_upper, color=cwdiv, alpha=0.4, linewidth=0.0, zorder=100)\n",
    "plt.fill_between(x, y_95_upper, y_997_upper, color=cwdiv, alpha=0.2, linewidth=0.0, zorder=100)\n",
    "\n",
    "# plt.plot(x, y_hdi_997_lower, color='darkorange', lw=0.5, alpha=0.2)\n",
    "# plt.plot(x, y_hdi_95_lower, color='darkorange', lw=0.5, alpha=0.4)\n",
    "# plt.plot(x, y_hdi_68_lower, color='blue', lw=0.5, alpha=0.6)\n",
    "plt.plot(x, y_median, color=cwdiv, lw=1, zorder=200, label='Inference \\n(Moments)')\n",
    "# plt.plot(x, y_hdi_68_upper, color='darkorange', lw=0.5, alpha=0.6)\n",
    "# plt.plot(x, y_hdi_95_upper, color='darkorange', lw=0.5, alpha=0.4)\n",
    "# plt.plot(x, y_hdi_997_upper, color='darkorange', lw=0.5, alpha=0.2)\n",
    "\n",
    "# plt.xticks([0, 20, 40, 54], [0, 20, 40, 54])\n",
    "plt.ylim(0.0, None)\n",
    "\n",
    "plt.legend()\n",
    "plt.ylabel('Probability')\n",
    "plt.xlabel('Division times (hours)')\n",
    "plt.savefig('paper_figures/waiting_times_div_full.pdf', bbox_inches='tight') # pdf, png"
   ]
  },
  {
   "cell_type": "markdown",
   "metadata": {},
   "source": [
    "##### thin4"
   ]
  },
  {
   "cell_type": "code",
   "execution_count": 37,
   "metadata": {},
   "outputs": [
    {
     "name": "stdout",
     "output_type": "stream",
     "text": [
      "100 288 588 976\n"
     ]
    }
   ],
   "source": [
    "res1 = pickle.load(open('waiting_times_files/estimation_count_data_cd44_filtered_thin4_minimal2.pickle', 'rb'))\n",
    "res2 = pickle.load(open('waiting_times_files/estimation_count_data_cd44_filtered_thin4_par2.pickle', 'rb'))\n",
    "res3 = pickle.load(open('waiting_times_files/estimation_count_data_cd44_filtered_thin4_par3.pickle', 'rb'))\n",
    "res = res1 + res2 + res3\n",
    "print(len(res1), len(res2), len(res3), len(res))\n",
    "\n",
    "net_names = [est.net.net_name for est in res]\n",
    "# model_probs = me.selection.compute_model_probabilities(res)\n",
    "\n",
    "res_data = pickle.load(open('waiting_times_files/estimation_count_data_cd44_filtered_sigma022_minimal2.pickle', 'rb'))\n",
    "data = res_data[0].data\n",
    "# print(sum(['alphaF' in name for name in net_names]))"
   ]
  },
  {
   "cell_type": "code",
   "execution_count": 34,
   "metadata": {},
   "outputs": [
    {
     "name": "stdout",
     "output_type": "stream",
     "text": [
      "1.000000000000017\n",
      "976\n"
     ]
    }
   ],
   "source": [
    "# set model prior to give classes same weight\n",
    "mprior = np.array([0.25] + [0.25/99]*99 + [0.25/288]*288 + [0.25/588]*588)\n",
    "print(sum(mprior))\n",
    "print(len(mprior))"
   ]
  },
  {
   "cell_type": "code",
   "execution_count": 35,
   "metadata": {},
   "outputs": [
    {
     "name": "stdout",
     "output_type": "stream",
     "text": [
      "[ 9202.     0. 14290. 16508.]\n"
     ]
    }
   ],
   "source": [
    "# idea to compute \"credible bands\" for better visualisation\n",
    "samples = 40000\n",
    "plot_data = True # True or False\n",
    "time_max = 60.0 # 60.0, 100.0, 200.0, 150.0, 54.0\n",
    "x = np.linspace(0.0, time_max, num=200)\n",
    "\n",
    "y = waiting_time_distr_samples_act(x, res, samples, time_max, mprior)"
   ]
  },
  {
   "cell_type": "code",
   "execution_count": 38,
   "metadata": {},
   "outputs": [
    {
     "data": {
      "image/png": "[encoded data removed]",
      "text/plain": [
       "<Figure size 72x36 with 1 Axes>"
      ]
     },
     "metadata": {
      "needs_background": "light"
     },
     "output_type": "display_data"
    }
   ],
   "source": [
    "y_997_lower = np.percentile(y, 0.15, axis=1)\n",
    "y_95_lower = np.percentile(y, 2.5, axis=1)\n",
    "y_68_lower = np.percentile(y, 16.0, axis=1)\n",
    "y_median = np.percentile(y, 50.0, axis=1)\n",
    "y_68_upper = np.percentile(y, 84.0, axis=1)\n",
    "y_95_upper = np.percentile(y, 97.5, axis=1)\n",
    "y_997_upper = np.percentile(y, 99.85, axis=1)\n",
    "\n",
    "plt.rcParams.update({'figure.figsize': (1.0, 0.5)}) # 1.4, 1.8, \n",
    "plt.figure()\n",
    "ax = plt.gca()\n",
    "ax.spines['top'].set_visible(False)\n",
    "ax.spines['right'].set_visible(False)\n",
    "ax.spines['bottom'].set_visible(True)\n",
    "ax.spines['left'].set_visible(True)\n",
    "\n",
    "# adapted from framework plotting methods\n",
    "if plot_data:\n",
    "    data.events_find_all()\n",
    "    data_act = np.array([tup[1] for tup in data.event_all_first_cell_type_conversion if tup[0]])\n",
    "\n",
    "    plt.hist(data_act - 1e-06, bins=data.data_time_values,\n",
    "             color='black', alpha=0.1,\n",
    "             density=True, histtype='stepfilled', label='Data')\n",
    "\n",
    "\n",
    "plt.fill_between(x, y_997_lower, y_95_lower, color=cwact, alpha=0.2, linewidth=0.0, zorder=100)\n",
    "plt.fill_between(x, y_95_lower, y_68_lower, color=cwact, alpha=0.4, linewidth=0.0, zorder=100)\n",
    "plt.fill_between(x, y_68_lower, y_median, color=cwact, alpha=0.6, linewidth=0.0, zorder=100)\n",
    "\n",
    "plt.fill_between(x, y_median, y_68_upper, color=cwact, alpha=0.6, linewidth=0.0, zorder=100)\n",
    "plt.fill_between(x, y_68_upper, y_95_upper, color=cwact, alpha=0.4, linewidth=0.0, zorder=100)\n",
    "plt.fill_between(x, y_95_upper, y_997_upper, color=cwact, alpha=0.2, linewidth=0.0, zorder=100)\n",
    "\n",
    "# plt.plot(x, y_hdi_997_lower, color='lightseagreen', lw=2, alpha=0.2)\n",
    "# plt.plot(x, y_hdi_95_lower, color='lightseagreen', lw=2, alpha=0.4)\n",
    "# plt.plot(x, y_hdi_68_lower, color='lightseagreen', lw=2, alpha=0.6)\n",
    "plt.plot(x, y_median, color=cwact, lw=1, zorder=200, label='Inference \\n(Moments)')\n",
    "# plt.plot(x, y_hdi_68_upper, color='lightseagreen', lw=2, alpha=0.6)\n",
    "# plt.plot(x, y_hdi_95_upper, color='lightseagreen', lw=2, alpha=0.4)\n",
    "# plt.plot(x, y_hdi_997_upper, color='lightseagreen', lw=2, alpha=0.2)\n",
    "\n",
    "# plot experimental window\n",
    "plt.axvline(x=54.0, linewidth=0.5, color=grey)\n",
    "\n",
    "# plt.xticks([0, 20, 40, 54, 100], [0, 20, 40, 54, 100])\n",
    "\n",
    "plt.legend()\n",
    "plt.ylabel('Probability')\n",
    "plt.xlabel('Activation times (hours)')\n",
    "plt.savefig('paper_figures/waiting_times_act_thin4.pdf', bbox_inches='tight') # _long200 # pdf, png"
   ]
  },
  {
   "cell_type": "code",
   "execution_count": 39,
   "metadata": {},
   "outputs": [
    {
     "name": "stdout",
     "output_type": "stream",
     "text": [
      "976\n",
      "[ 9108.     0. 14318. 16574.]\n"
     ]
    }
   ],
   "source": [
    "# idea to compute \"credible bands\" for better visualisation\n",
    "print(len(res))\n",
    "samples = 40000\n",
    "plot_data = False # True or False\n",
    "time_max = 60.0 # 150.0, 54.0\n",
    "x = np.linspace(0.0, time_max, num=200)\n",
    "\n",
    "# NOTE: the data we plot here is only from first divisions! (so its not the complete data, \n",
    "# which is inaccessible from the data)\n",
    "\n",
    "y = waiting_time_distr_samples_div(x, res, samples, time_max, mprior)"
   ]
  },
  {
   "cell_type": "code",
   "execution_count": 40,
   "metadata": {},
   "outputs": [
    {
     "data": {
      "image/png": "[encoded data removed]",
      "text/plain": [
       "<Figure size 72x36 with 1 Axes>"
      ]
     },
     "metadata": {
      "needs_background": "light"
     },
     "output_type": "display_data"
    }
   ],
   "source": [
    "y_997_lower = np.percentile(y, 0.15, axis=1)\n",
    "y_95_lower = np.percentile(y, 2.5, axis=1)\n",
    "y_68_lower = np.percentile(y, 16.0, axis=1)\n",
    "y_median = np.percentile(y, 50.0, axis=1)\n",
    "y_68_upper = np.percentile(y, 84.0, axis=1)\n",
    "y_95_upper = np.percentile(y, 97.5, axis=1)\n",
    "y_997_upper = np.percentile(y, 99.85, axis=1)\n",
    "\n",
    "# figure size adapted to fit activation times scale\n",
    "plt.rcParams.update({'figure.figsize': (1.0, 0.5)}) # 1.4, 0.97\n",
    "plt.figure()\n",
    "ax = plt.gca()\n",
    "ax.spines['top'].set_visible(False)\n",
    "ax.spines['right'].set_visible(False)\n",
    "ax.spines['bottom'].set_visible(True)\n",
    "ax.spines['left'].set_visible(True)\n",
    "\n",
    "# adapted from framework plotting methods\n",
    "if plot_data:\n",
    "    data.events_find_all()\n",
    "    data_act = np.array([tup[1] for tup in data.event_all_first_cell_count_increase_after_cell_type_conversion if tup[0]])\n",
    "\n",
    "    plt.hist(data_act - 1e-06, bins=data.data_time_values,\n",
    "             color='black', alpha=0.1,\n",
    "             density=True, histtype='stepfilled', label='Data')\n",
    "    \n",
    "plt.fill_between(x, y_997_lower, y_95_lower, color=cwdiv, alpha=0.2, linewidth=0.0, zorder=100)\n",
    "plt.fill_between(x, y_95_lower, y_68_lower, color=cwdiv, alpha=0.4, linewidth=0.0, zorder=100)\n",
    "plt.fill_between(x, y_68_lower, y_median, color=cwdiv, alpha=0.6, linewidth=0.0, zorder=100)\n",
    "\n",
    "plt.fill_between(x, y_median, y_68_upper, color=cwdiv, alpha=0.6, linewidth=0.0, zorder=100)\n",
    "plt.fill_between(x, y_68_upper, y_95_upper, color=cwdiv, alpha=0.4, linewidth=0.0, zorder=100)\n",
    "plt.fill_between(x, y_95_upper, y_997_upper, color=cwdiv, alpha=0.2, linewidth=0.0, zorder=100)\n",
    "\n",
    "# plt.plot(x, y_hdi_997_lower, color='darkorange', lw=0.5, alpha=0.2)\n",
    "# plt.plot(x, y_hdi_95_lower, color='darkorange', lw=0.5, alpha=0.4)\n",
    "# plt.plot(x, y_hdi_68_lower, color='blue', lw=0.5, alpha=0.6)\n",
    "plt.plot(x, y_median, color=cwdiv, lw=1, zorder=200, label='Inference \\n(Moments)')\n",
    "# plt.plot(x, y_hdi_68_upper, color='darkorange', lw=0.5, alpha=0.6)\n",
    "# plt.plot(x, y_hdi_95_upper, color='darkorange', lw=0.5, alpha=0.4)\n",
    "# plt.plot(x, y_hdi_997_upper, color='darkorange', lw=0.5, alpha=0.2)\n",
    "\n",
    "# plt.xticks([0, 20, 40, 54], [0, 20, 40, 54])\n",
    "plt.ylim(0.0, None)\n",
    "\n",
    "plt.legend()\n",
    "plt.ylabel('Probability')\n",
    "plt.xlabel('Division times (hours)')\n",
    "plt.savefig('paper_figures/waiting_times_div_thin4.pdf', bbox_inches='tight') # pdf, png"
   ]
  },
  {
   "cell_type": "markdown",
   "metadata": {},
   "source": [
    "meanfit"
   ]
  },
  {
   "cell_type": "code",
   "execution_count": 41,
   "metadata": {},
   "outputs": [
    {
     "name": "stdout",
     "output_type": "stream",
     "text": [
      "100 288 588 976\n"
     ]
    }
   ],
   "source": [
    "res1 = pickle.load(open('waiting_times_files/estimation_count_data_cd44_filtered_sigma022_minimal2_meanfit.pickle', 'rb'))\n",
    "res2 = pickle.load(open('waiting_times_files/estimation_count_data_cd44_filtered_sigma022_par2_meanfit.pickle', 'rb'))\n",
    "res3 = pickle.load(open('waiting_times_files/estimation_count_data_cd44_filtered_sigma022_par3_meanfit.pickle', 'rb'))\n",
    "res = res1 + res2 + res3\n",
    "print(len(res1), len(res2), len(res3), len(res))\n",
    "\n",
    "net_names = [est.net.net_name for est in res]\n",
    "# model_probs = me.selection.compute_model_probabilities(res)\n",
    "\n",
    "res_data = pickle.load(open('waiting_times_files/estimation_count_data_cd44_filtered_sigma022_minimal2.pickle', 'rb'))\n",
    "data = res_data[0].data\n",
    "# print(sum(['alphaF' in name for name in net_names]))"
   ]
  },
  {
   "cell_type": "code",
   "execution_count": 42,
   "metadata": {},
   "outputs": [
    {
     "name": "stdout",
     "output_type": "stream",
     "text": [
      "1.000000000000017\n",
      "976\n"
     ]
    }
   ],
   "source": [
    "# set model prior to give classes same weight\n",
    "mprior = np.array([0.25] + [0.25/99]*99 + [0.25/288]*288 + [0.25/588]*588)\n",
    "print(sum(mprior))\n",
    "print(len(mprior))"
   ]
  },
  {
   "cell_type": "code",
   "execution_count": 43,
   "metadata": {},
   "outputs": [
    {
     "name": "stdout",
     "output_type": "stream",
     "text": [
      "[  221.     0. 16940. 22839.]\n"
     ]
    }
   ],
   "source": [
    "# idea to compute \"credible bands\" for better visualisation\n",
    "samples = 40000\n",
    "plot_data = True # True or False\n",
    "time_max = 60.0 # 60.0, 100.0, 200.0, 150.0, 54.0\n",
    "x = np.linspace(0.0, time_max, num=200)\n",
    "\n",
    "y = waiting_time_distr_samples_act(x, res, samples, time_max, mprior)"
   ]
  },
  {
   "cell_type": "code",
   "execution_count": 44,
   "metadata": {},
   "outputs": [
    {
     "data": {
      "image/png": "[encoded data removed]",
      "text/plain": [
       "<Figure size 72x36 with 1 Axes>"
      ]
     },
     "metadata": {
      "needs_background": "light"
     },
     "output_type": "display_data"
    }
   ],
   "source": [
    "y_997_lower = np.percentile(y, 0.15, axis=1)\n",
    "y_95_lower = np.percentile(y, 2.5, axis=1)\n",
    "y_68_lower = np.percentile(y, 16.0, axis=1)\n",
    "y_median = np.percentile(y, 50.0, axis=1)\n",
    "y_68_upper = np.percentile(y, 84.0, axis=1)\n",
    "y_95_upper = np.percentile(y, 97.5, axis=1)\n",
    "y_997_upper = np.percentile(y, 99.85, axis=1)\n",
    "\n",
    "plt.rcParams.update({'figure.figsize': (1.0, 0.5)}) # 1.4, 1.8, \n",
    "plt.figure()\n",
    "ax = plt.gca()\n",
    "ax.spines['top'].set_visible(False)\n",
    "ax.spines['right'].set_visible(False)\n",
    "ax.spines['bottom'].set_visible(True)\n",
    "ax.spines['left'].set_visible(True)\n",
    "\n",
    "# adapted from framework plotting methods\n",
    "if plot_data:\n",
    "    data.events_find_all()\n",
    "    data_act = np.array([tup[1] for tup in data.event_all_first_cell_type_conversion if tup[0]])\n",
    "\n",
    "    plt.hist(data_act - 1e-06, bins=data.data_time_values,\n",
    "             color='black', alpha=0.1,\n",
    "             density=True, histtype='stepfilled', label='Data')\n",
    "\n",
    "\n",
    "plt.fill_between(x, y_997_lower, y_95_lower, color=cwact, alpha=0.2, linewidth=0.0, zorder=100)\n",
    "plt.fill_between(x, y_95_lower, y_68_lower, color=cwact, alpha=0.4, linewidth=0.0, zorder=100)\n",
    "plt.fill_between(x, y_68_lower, y_median, color=cwact, alpha=0.6, linewidth=0.0, zorder=100)\n",
    "\n",
    "plt.fill_between(x, y_median, y_68_upper, color=cwact, alpha=0.6, linewidth=0.0, zorder=100)\n",
    "plt.fill_between(x, y_68_upper, y_95_upper, color=cwact, alpha=0.4, linewidth=0.0, zorder=100)\n",
    "plt.fill_between(x, y_95_upper, y_997_upper, color=cwact, alpha=0.2, linewidth=0.0, zorder=100)\n",
    "\n",
    "# plt.plot(x, y_hdi_997_lower, color='lightseagreen', lw=2, alpha=0.2)\n",
    "# plt.plot(x, y_hdi_95_lower, color='lightseagreen', lw=2, alpha=0.4)\n",
    "# plt.plot(x, y_hdi_68_lower, color='lightseagreen', lw=2, alpha=0.6)\n",
    "plt.plot(x, y_median, color=cwact, lw=1, zorder=200, label='Inference \\n(Moments)')\n",
    "# plt.plot(x, y_hdi_68_upper, color='lightseagreen', lw=2, alpha=0.6)\n",
    "# plt.plot(x, y_hdi_95_upper, color='lightseagreen', lw=2, alpha=0.4)\n",
    "# plt.plot(x, y_hdi_997_upper, color='lightseagreen', lw=2, alpha=0.2)\n",
    "\n",
    "# plot experimental window\n",
    "plt.axvline(x=54.0, linewidth=0.5, color=grey)\n",
    "\n",
    "# plt.xticks([0, 20, 40, 54, 100], [0, 20, 40, 54, 100])\n",
    "\n",
    "plt.legend()\n",
    "plt.ylabel('Probability')\n",
    "plt.xlabel('Activation times (hours)')\n",
    "plt.savefig('paper_figures/waiting_times_act_meanfit.pdf', bbox_inches='tight') # _long200 # pdf, png"
   ]
  },
  {
   "cell_type": "code",
   "execution_count": 45,
   "metadata": {},
   "outputs": [
    {
     "name": "stdout",
     "output_type": "stream",
     "text": [
      "976\n",
      "[  200.     0. 16986. 22814.]\n"
     ]
    }
   ],
   "source": [
    "# idea to compute \"credible bands\" for better visualisation\n",
    "print(len(res))\n",
    "samples = 40000\n",
    "plot_data = False # True or False\n",
    "time_max = 60.0 # 150.0, 54.0\n",
    "x = np.linspace(0.0, time_max, num=200)\n",
    "\n",
    "# NOTE: the data we plot here is only from first divisions! (so its not the complete data, \n",
    "# which is inaccessible from the data)\n",
    "\n",
    "y = waiting_time_distr_samples_div(x, res, samples, time_max, mprior)"
   ]
  },
  {
   "cell_type": "code",
   "execution_count": 46,
   "metadata": {},
   "outputs": [
    {
     "data": {
      "image/png": "[encoded data removed]",
      "text/plain": [
       "<Figure size 72x36 with 1 Axes>"
      ]
     },
     "metadata": {
      "needs_background": "light"
     },
     "output_type": "display_data"
    }
   ],
   "source": [
    "y_997_lower = np.percentile(y, 0.15, axis=1)\n",
    "y_95_lower = np.percentile(y, 2.5, axis=1)\n",
    "y_68_lower = np.percentile(y, 16.0, axis=1)\n",
    "y_median = np.percentile(y, 50.0, axis=1)\n",
    "y_68_upper = np.percentile(y, 84.0, axis=1)\n",
    "y_95_upper = np.percentile(y, 97.5, axis=1)\n",
    "y_997_upper = np.percentile(y, 99.85, axis=1)\n",
    "\n",
    "# figure size adapted to fit activation times scale\n",
    "plt.rcParams.update({'figure.figsize': (1.0, 0.5)}) # 1.4, 0.97\n",
    "plt.figure()\n",
    "ax = plt.gca()\n",
    "ax.spines['top'].set_visible(False)\n",
    "ax.spines['right'].set_visible(False)\n",
    "ax.spines['bottom'].set_visible(True)\n",
    "ax.spines['left'].set_visible(True)\n",
    "\n",
    "# adapted from framework plotting methods\n",
    "if plot_data:\n",
    "    data.events_find_all()\n",
    "    data_act = np.array([tup[1] for tup in data.event_all_first_cell_count_increase_after_cell_type_conversion if tup[0]])\n",
    "\n",
    "    plt.hist(data_act - 1e-06, bins=data.data_time_values,\n",
    "             color='black', alpha=0.1,\n",
    "             density=True, histtype='stepfilled', label='Data')\n",
    "    \n",
    "plt.fill_between(x, y_997_lower, y_95_lower, color=cwdiv, alpha=0.2, linewidth=0.0, zorder=100)\n",
    "plt.fill_between(x, y_95_lower, y_68_lower, color=cwdiv, alpha=0.4, linewidth=0.0, zorder=100)\n",
    "plt.fill_between(x, y_68_lower, y_median, color=cwdiv, alpha=0.6, linewidth=0.0, zorder=100)\n",
    "\n",
    "plt.fill_between(x, y_median, y_68_upper, color=cwdiv, alpha=0.6, linewidth=0.0, zorder=100)\n",
    "plt.fill_between(x, y_68_upper, y_95_upper, color=cwdiv, alpha=0.4, linewidth=0.0, zorder=100)\n",
    "plt.fill_between(x, y_95_upper, y_997_upper, color=cwdiv, alpha=0.2, linewidth=0.0, zorder=100)\n",
    "\n",
    "# plt.plot(x, y_hdi_997_lower, color='darkorange', lw=0.5, alpha=0.2)\n",
    "# plt.plot(x, y_hdi_95_lower, color='darkorange', lw=0.5, alpha=0.4)\n",
    "# plt.plot(x, y_hdi_68_lower, color='blue', lw=0.5, alpha=0.6)\n",
    "plt.plot(x, y_median, color=cwdiv, lw=1, zorder=200, label='Inference \\n(Moments)')\n",
    "# plt.plot(x, y_hdi_68_upper, color='darkorange', lw=0.5, alpha=0.6)\n",
    "# plt.plot(x, y_hdi_95_upper, color='darkorange', lw=0.5, alpha=0.4)\n",
    "# plt.plot(x, y_hdi_997_upper, color='darkorange', lw=0.5, alpha=0.2)\n",
    "\n",
    "# plt.xticks([0, 20, 40, 54], [0, 20, 40, 54])\n",
    "plt.ylim(0.0, None)\n",
    "\n",
    "plt.legend()\n",
    "plt.ylabel('Probability')\n",
    "plt.xlabel('Division times (hours)')\n",
    "plt.savefig('paper_figures/waiting_times_div_meanfit.pdf', bbox_inches='tight') # pdf, png"
   ]
  },
  {
   "cell_type": "markdown",
   "metadata": {},
   "source": [
    "thin4+meanfit"
   ]
  },
  {
   "cell_type": "code",
   "execution_count": 47,
   "metadata": {},
   "outputs": [
    {
     "name": "stdout",
     "output_type": "stream",
     "text": [
      "100 288 588 976\n"
     ]
    }
   ],
   "source": [
    "res1 = pickle.load(open('waiting_times_files/estimation_count_data_cd44_filtered_thin4_minimal2_meanfit.pickle', 'rb'))\n",
    "res2 = pickle.load(open('waiting_times_files/estimation_count_data_cd44_filtered_thin4_par2_meanfit.pickle', 'rb'))\n",
    "res3 = pickle.load(open('waiting_times_files/estimation_count_data_cd44_filtered_thin4_par3_meanfit.pickle', 'rb'))\n",
    "res = res1 + res2 + res3\n",
    "print(len(res1), len(res2), len(res3), len(res))\n",
    "\n",
    "net_names = [est.net.net_name for est in res]\n",
    "# model_probs = me.selection.compute_model_probabilities(res)\n",
    "\n",
    "res_data = pickle.load(open('waiting_times_files/estimation_count_data_cd44_filtered_sigma022_minimal2.pickle', 'rb'))\n",
    "data = res_data[0].data\n",
    "# print(sum(['alphaF' in name for name in net_names]))"
   ]
  },
  {
   "cell_type": "code",
   "execution_count": 48,
   "metadata": {},
   "outputs": [
    {
     "name": "stdout",
     "output_type": "stream",
     "text": [
      "1.000000000000017\n",
      "976\n"
     ]
    }
   ],
   "source": [
    "# set model prior to give classes same weight\n",
    "mprior = np.array([0.25] + [0.25/99]*99 + [0.25/288]*288 + [0.25/588]*588)\n",
    "print(sum(mprior))\n",
    "print(len(mprior))"
   ]
  },
  {
   "cell_type": "code",
   "execution_count": 49,
   "metadata": {},
   "outputs": [
    {
     "name": "stdout",
     "output_type": "stream",
     "text": [
      "[26315.     0.  6931.  6754.]\n"
     ]
    }
   ],
   "source": [
    "# idea to compute \"credible bands\" for better visualisation\n",
    "samples = 40000\n",
    "plot_data = True # True or False\n",
    "time_max = 60.0 # 60.0, 100.0, 200.0, 150.0, 54.0\n",
    "x = np.linspace(0.0, time_max, num=200)\n",
    "\n",
    "y = waiting_time_distr_samples_act(x, res, samples, time_max, mprior)"
   ]
  },
  {
   "cell_type": "code",
   "execution_count": 50,
   "metadata": {},
   "outputs": [
    {
     "data": {
      "image/png": "[encoded data removed]",
      "text/plain": [
       "<Figure size 72x36 with 1 Axes>"
      ]
     },
     "metadata": {
      "needs_background": "light"
     },
     "output_type": "display_data"
    }
   ],
   "source": [
    "y_997_lower = np.percentile(y, 0.15, axis=1)\n",
    "y_95_lower = np.percentile(y, 2.5, axis=1)\n",
    "y_68_lower = np.percentile(y, 16.0, axis=1)\n",
    "y_median = np.percentile(y, 50.0, axis=1)\n",
    "y_68_upper = np.percentile(y, 84.0, axis=1)\n",
    "y_95_upper = np.percentile(y, 97.5, axis=1)\n",
    "y_997_upper = np.percentile(y, 99.85, axis=1)\n",
    "\n",
    "plt.rcParams.update({'figure.figsize': (1.0, 0.5)}) # 1.4, 1.8, \n",
    "plt.figure()\n",
    "ax = plt.gca()\n",
    "ax.spines['top'].set_visible(False)\n",
    "ax.spines['right'].set_visible(False)\n",
    "ax.spines['bottom'].set_visible(True)\n",
    "ax.spines['left'].set_visible(True)\n",
    "\n",
    "# adapted from framework plotting methods\n",
    "if plot_data:\n",
    "    data.events_find_all()\n",
    "    data_act = np.array([tup[1] for tup in data.event_all_first_cell_type_conversion if tup[0]])\n",
    "\n",
    "    plt.hist(data_act - 1e-06, bins=data.data_time_values,\n",
    "             color='black', alpha=0.1,\n",
    "             density=True, histtype='stepfilled', label='Data')\n",
    "\n",
    "\n",
    "plt.fill_between(x, y_997_lower, y_95_lower, color=cwact, alpha=0.2, linewidth=0.0, zorder=100)\n",
    "plt.fill_between(x, y_95_lower, y_68_lower, color=cwact, alpha=0.4, linewidth=0.0, zorder=100)\n",
    "plt.fill_between(x, y_68_lower, y_median, color=cwact, alpha=0.6, linewidth=0.0, zorder=100)\n",
    "\n",
    "plt.fill_between(x, y_median, y_68_upper, color=cwact, alpha=0.6, linewidth=0.0, zorder=100)\n",
    "plt.fill_between(x, y_68_upper, y_95_upper, color=cwact, alpha=0.4, linewidth=0.0, zorder=100)\n",
    "plt.fill_between(x, y_95_upper, y_997_upper, color=cwact, alpha=0.2, linewidth=0.0, zorder=100)\n",
    "\n",
    "# plt.plot(x, y_hdi_997_lower, color='lightseagreen', lw=2, alpha=0.2)\n",
    "# plt.plot(x, y_hdi_95_lower, color='lightseagreen', lw=2, alpha=0.4)\n",
    "# plt.plot(x, y_hdi_68_lower, color='lightseagreen', lw=2, alpha=0.6)\n",
    "plt.plot(x, y_median, color=cwact, lw=1, zorder=200, label='Inference \\n(Moments)')\n",
    "# plt.plot(x, y_hdi_68_upper, color='lightseagreen', lw=2, alpha=0.6)\n",
    "# plt.plot(x, y_hdi_95_upper, color='lightseagreen', lw=2, alpha=0.4)\n",
    "# plt.plot(x, y_hdi_997_upper, color='lightseagreen', lw=2, alpha=0.2)\n",
    "\n",
    "# plot experimental window\n",
    "plt.axvline(x=54.0, linewidth=0.5, color=grey)\n",
    "\n",
    "# plt.xticks([0, 20, 40, 54, 100], [0, 20, 40, 54, 100])\n",
    "\n",
    "plt.legend()\n",
    "plt.ylabel('Probability')\n",
    "plt.xlabel('Activation times (hours)')\n",
    "plt.savefig('paper_figures/waiting_times_act_thin4meanfit.pdf', bbox_inches='tight') # _long200 # pdf, png"
   ]
  },
  {
   "cell_type": "code",
   "execution_count": 51,
   "metadata": {},
   "outputs": [
    {
     "name": "stdout",
     "output_type": "stream",
     "text": [
      "976\n",
      "[26255.     0.  6844.  6901.]\n"
     ]
    }
   ],
   "source": [
    "# idea to compute \"credible bands\" for better visualisation\n",
    "print(len(res))\n",
    "samples = 40000\n",
    "plot_data = False # True or False\n",
    "time_max = 60.0 # 150.0, 54.0\n",
    "x = np.linspace(0.0, time_max, num=200)\n",
    "\n",
    "# NOTE: the data we plot here is only from first divisions! (so its not the complete data, \n",
    "# which is inaccessible from the data)\n",
    "\n",
    "y = waiting_time_distr_samples_div(x, res, samples, time_max, mprior)"
   ]
  },
  {
   "cell_type": "code",
   "execution_count": 52,
   "metadata": {},
   "outputs": [
    {
     "data": {
      "image/png": "[encoded data removed]",
      "text/plain": [
       "<Figure size 72x36 with 1 Axes>"
      ]
     },
     "metadata": {
      "needs_background": "light"
     },
     "output_type": "display_data"
    }
   ],
   "source": [
    "y_997_lower = np.percentile(y, 0.15, axis=1)\n",
    "y_95_lower = np.percentile(y, 2.5, axis=1)\n",
    "y_68_lower = np.percentile(y, 16.0, axis=1)\n",
    "y_median = np.percentile(y, 50.0, axis=1)\n",
    "y_68_upper = np.percentile(y, 84.0, axis=1)\n",
    "y_95_upper = np.percentile(y, 97.5, axis=1)\n",
    "y_997_upper = np.percentile(y, 99.85, axis=1)\n",
    "\n",
    "# figure size adapted to fit activation times scale\n",
    "plt.rcParams.update({'figure.figsize': (1.0, 0.5)}) # 1.4, 0.97\n",
    "plt.figure()\n",
    "ax = plt.gca()\n",
    "ax.spines['top'].set_visible(False)\n",
    "ax.spines['right'].set_visible(False)\n",
    "ax.spines['bottom'].set_visible(True)\n",
    "ax.spines['left'].set_visible(True)\n",
    "\n",
    "# adapted from framework plotting methods\n",
    "if plot_data:\n",
    "    data.events_find_all()\n",
    "    data_act = np.array([tup[1] for tup in data.event_all_first_cell_count_increase_after_cell_type_conversion if tup[0]])\n",
    "\n",
    "    plt.hist(data_act - 1e-06, bins=data.data_time_values,\n",
    "             color='black', alpha=0.1,\n",
    "             density=True, histtype='stepfilled', label='Data')\n",
    "    \n",
    "plt.fill_between(x, y_997_lower, y_95_lower, color=cwdiv, alpha=0.2, linewidth=0.0, zorder=100)\n",
    "plt.fill_between(x, y_95_lower, y_68_lower, color=cwdiv, alpha=0.4, linewidth=0.0, zorder=100)\n",
    "plt.fill_between(x, y_68_lower, y_median, color=cwdiv, alpha=0.6, linewidth=0.0, zorder=100)\n",
    "\n",
    "plt.fill_between(x, y_median, y_68_upper, color=cwdiv, alpha=0.6, linewidth=0.0, zorder=100)\n",
    "plt.fill_between(x, y_68_upper, y_95_upper, color=cwdiv, alpha=0.4, linewidth=0.0, zorder=100)\n",
    "plt.fill_between(x, y_95_upper, y_997_upper, color=cwdiv, alpha=0.2, linewidth=0.0, zorder=100)\n",
    "\n",
    "# plt.plot(x, y_hdi_997_lower, color='darkorange', lw=0.5, alpha=0.2)\n",
    "# plt.plot(x, y_hdi_95_lower, color='darkorange', lw=0.5, alpha=0.4)\n",
    "# plt.plot(x, y_hdi_68_lower, color='blue', lw=0.5, alpha=0.6)\n",
    "plt.plot(x, y_median, color=cwdiv, lw=1, zorder=200, label='Inference \\n(Moments)')\n",
    "# plt.plot(x, y_hdi_68_upper, color='darkorange', lw=0.5, alpha=0.6)\n",
    "# plt.plot(x, y_hdi_95_upper, color='darkorange', lw=0.5, alpha=0.4)\n",
    "# plt.plot(x, y_hdi_997_upper, color='darkorange', lw=0.5, alpha=0.2)\n",
    "\n",
    "# plt.xticks([0, 20, 40, 54], [0, 20, 40, 54])\n",
    "plt.ylim(0.0, None)\n",
    "\n",
    "plt.legend()\n",
    "plt.ylabel('Probability')\n",
    "plt.xlabel('Division times (hours)')\n",
    "plt.savefig('paper_figures/waiting_times_div_thin4meanfit.pdf', bbox_inches='tight') # pdf, png"
   ]
  },
  {
   "cell_type": "markdown",
   "metadata": {},
   "source": [
    "##### Best model fits"
   ]
  },
  {
   "cell_type": "markdown",
   "metadata": {},
   "source": [
    "standard"
   ]
  },
  {
   "cell_type": "code",
   "execution_count": 67,
   "metadata": {},
   "outputs": [
    {
     "name": "stdout",
     "output_type": "stream",
     "text": [
      "100 288 588 976\n"
     ]
    }
   ],
   "source": [
    "res1 = pickle.load(open('waiting_times_files/estimation_count_data_cd44_filtered_sigma022_minimal2.pickle', 'rb'))\n",
    "res2 = pickle.load(open('waiting_times_files/estimation_count_data_cd44_filtered_sigma022_par2.pickle', 'rb'))\n",
    "res3 = pickle.load(open('waiting_times_files/estimation_count_data_cd44_filtered_sigma022_par3.pickle', 'rb'))\n",
    "res = res1 + res2 + res3\n",
    "print(len(res1), len(res2), len(res3), len(res))"
   ]
  },
  {
   "cell_type": "code",
   "execution_count": 68,
   "metadata": {},
   "outputs": [
    {
     "name": "stdout",
     "output_type": "stream",
     "text": [
      "['net_1_1', 'net_3_20', 'par2_d_6_8_l_18', 'par3_d_6_6_6_l_18']\n"
     ]
    }
   ],
   "source": [
    "model_probs1 = me.selection.compute_model_probabilities(res1)\n",
    "model_probs2 = me.selection.compute_model_probabilities(res2)\n",
    "model_probs3 = me.selection.compute_model_probabilities(res3)\n",
    "\n",
    "res_best = [res1[0], \n",
    "           res1[list(model_probs1).index(max(model_probs1))],\n",
    "           res2[list(model_probs2).index(max(model_probs2))],\n",
    "           res3[list(model_probs3).index(max(model_probs3))]]\n",
    "\n",
    "model_probs = me.selection.compute_model_probabilities(res_best)\n",
    "net_names = [est.net.net_name for est in res_best]\n",
    "log_evids = [est.bay_est_log_evidence for est in res_best]\n",
    "print(net_names)"
   ]
  },
  {
   "cell_type": "code",
   "execution_count": 69,
   "metadata": {},
   "outputs": [
    {
     "name": "stdout",
     "output_type": "stream",
     "text": [
      "2 par2_d_6_8_l_18\n"
     ]
    }
   ],
   "source": [
    "best_ind = list(model_probs).index(max(model_probs))\n",
    "print(best_ind, net_names[best_ind])"
   ]
  },
  {
   "cell_type": "code",
   "execution_count": 62,
   "metadata": {},
   "outputs": [
    {
     "data": {
      "image/png": "[encoded data removed]",
      "text/plain": [
       "<Figure size 57.6x43.2 with 1 Axes>"
      ]
     },
     "metadata": {
      "needs_background": "light"
     },
     "output_type": "display_data"
    },
    {
     "data": {
      "image/png": "[encoded data removed]",
      "text/plain": [
       "<Figure size 57.6x43.2 with 1 Axes>"
      ]
     },
     "metadata": {
      "needs_background": "light"
     },
     "output_type": "display_data"
    },
    {
     "data": {
      "image/png": "[encoded data removed]",
      "text/plain": [
       "<Figure size 57.6x43.2 with 1 Axes>"
      ]
     },
     "metadata": {
      "needs_background": "light"
     },
     "output_type": "display_data"
    }
   ],
   "source": [
    "est = res_best[best_ind]\n",
    "# repair est due to different memocell versions\n",
    "est.net_time_values_dense = est.data_time_values_dense\n",
    "est.data.data_mean_exists_only = False\n",
    "\n",
    "plt.rcParams.update({'figure.figsize': (0.8, 0.6)})\n",
    "settings = {\n",
    "    'A_t': {'label': 'E$(A_t)$', 'color': cactiv},\n",
    "    'M_t': {'label': 'E$(M_t)$', 'color': cnaive}\n",
    "}\n",
    "me.plots.est_bestfit_mean_plot(est, x_label='Time (hours)', save=f'paper_figures/fit_cd44_mean_{net_names[best_ind]}_small.pdf', settings=settings)\n",
    "\n",
    "settings = {\n",
    "    ('A_t', 'A_t'): {'label': 'Var$(A_t)$', 'color': cactiv},\n",
    "    ('M_t', 'M_t'): {'label': 'Var$(M_t)$', 'color': cnaive}\n",
    "}\n",
    "me.plots.est_bestfit_variance_plot(est, x_label='Time (hours)', save=f'paper_figures/fit_cd44_var_{net_names[best_ind]}_small.pdf', settings=settings)\n",
    "\n",
    "settings = {\n",
    "    ('A_t', 'M_t'): {'label': 'Cov$(M_t, A_t)$', 'color': grey}\n",
    "}\n",
    "me.plots.est_bestfit_covariance_plot(est, x_label='Time (hours)', save=f'paper_figures/fit_cd44_cov_{net_names[best_ind]}_small.pdf', settings=settings)"
   ]
  },
  {
   "cell_type": "markdown",
   "metadata": {},
   "source": [
    "thin4"
   ]
  },
  {
   "cell_type": "code",
   "execution_count": 70,
   "metadata": {},
   "outputs": [
    {
     "name": "stdout",
     "output_type": "stream",
     "text": [
      "100 288 588 976\n"
     ]
    }
   ],
   "source": [
    "res1 = pickle.load(open('waiting_times_files/estimation_count_data_cd44_filtered_thin4_minimal2.pickle', 'rb'))\n",
    "res2 = pickle.load(open('waiting_times_files/estimation_count_data_cd44_filtered_thin4_par2.pickle', 'rb'))\n",
    "res3 = pickle.load(open('waiting_times_files/estimation_count_data_cd44_filtered_thin4_par3.pickle', 'rb'))\n",
    "res = res1 + res2 + res3\n",
    "print(len(res1), len(res2), len(res3), len(res))"
   ]
  },
  {
   "cell_type": "code",
   "execution_count": 71,
   "metadata": {},
   "outputs": [
    {
     "name": "stdout",
     "output_type": "stream",
     "text": [
      "['min_d_1_l_1', 'min_d_2_l_20', 'par2_d_6_10_l_18', 'par3_d_6_8_18_l_18']\n"
     ]
    }
   ],
   "source": [
    "model_probs1 = me.selection.compute_model_probabilities(res1)\n",
    "model_probs2 = me.selection.compute_model_probabilities(res2)\n",
    "model_probs3 = me.selection.compute_model_probabilities(res3)\n",
    "\n",
    "res_best = [res1[0], \n",
    "           res1[list(model_probs1).index(max(model_probs1))],\n",
    "           res2[list(model_probs2).index(max(model_probs2))],\n",
    "           res3[list(model_probs3).index(max(model_probs3))]]\n",
    "\n",
    "model_probs = me.selection.compute_model_probabilities(res_best)\n",
    "net_names = [est.net.net_name for est in res_best]\n",
    "log_evids = [est.bay_est_log_evidence for est in res_best]\n",
    "print(net_names)"
   ]
  },
  {
   "cell_type": "code",
   "execution_count": 72,
   "metadata": {},
   "outputs": [
    {
     "name": "stdout",
     "output_type": "stream",
     "text": [
      "2 par2_d_6_10_l_18\n"
     ]
    }
   ],
   "source": [
    "best_ind = list(model_probs).index(max(model_probs))\n",
    "print(best_ind, net_names[best_ind])"
   ]
  },
  {
   "cell_type": "code",
   "execution_count": 73,
   "metadata": {},
   "outputs": [
    {
     "data": {
      "image/png": "[encoded data removed]",
      "text/plain": [
       "<Figure size 57.6x43.2 with 1 Axes>"
      ]
     },
     "metadata": {
      "needs_background": "light"
     },
     "output_type": "display_data"
    },
    {
     "data": {
      "image/png": "[encoded data removed]",
      "text/plain": [
       "<Figure size 57.6x43.2 with 1 Axes>"
      ]
     },
     "metadata": {
      "needs_background": "light"
     },
     "output_type": "display_data"
    },
    {
     "data": {
      "image/png": "[encoded data removed]",
      "text/plain": [
       "<Figure size 57.6x43.2 with 1 Axes>"
      ]
     },
     "metadata": {
      "needs_background": "light"
     },
     "output_type": "display_data"
    }
   ],
   "source": [
    "est = res_best[best_ind]\n",
    "# repair est due to different memocell versions\n",
    "est.net_time_values_dense = est.data_time_values_dense\n",
    "est.data.data_mean_exists_only = False\n",
    "\n",
    "plt.rcParams.update({'figure.figsize': (0.8, 0.6)})\n",
    "settings = {\n",
    "    'A_t': {'label': 'E$(A_t)$', 'color': cactiv},\n",
    "    'M_t': {'label': 'E$(M_t)$', 'color': cnaive}\n",
    "}\n",
    "me.plots.est_bestfit_mean_plot(est, x_label='Time (hours)', save=f'paper_figures/fit_cd44_mean_{net_names[best_ind]}_small.pdf', settings=settings)\n",
    "\n",
    "settings = {\n",
    "    ('A_t', 'A_t'): {'label': 'Var$(A_t)$', 'color': cactiv},\n",
    "    ('M_t', 'M_t'): {'label': 'Var$(M_t)$', 'color': cnaive}\n",
    "}\n",
    "me.plots.est_bestfit_variance_plot(est, x_label='Time (hours)', save=f'paper_figures/fit_cd44_var_{net_names[best_ind]}_small.pdf', settings=settings)\n",
    "\n",
    "settings = {\n",
    "    ('A_t', 'M_t'): {'label': 'Cov$(M_t, A_t)$', 'color': grey}\n",
    "}\n",
    "me.plots.est_bestfit_covariance_plot(est, x_label='Time (hours)', save=f'paper_figures/fit_cd44_cov_{net_names[best_ind]}_small.pdf', settings=settings)"
   ]
  },
  {
   "cell_type": "markdown",
   "metadata": {},
   "source": [
    "meanfit"
   ]
  },
  {
   "cell_type": "code",
   "execution_count": 74,
   "metadata": {},
   "outputs": [
    {
     "name": "stdout",
     "output_type": "stream",
     "text": [
      "100 288 588 976\n"
     ]
    }
   ],
   "source": [
    "res1 = pickle.load(open('waiting_times_files/estimation_count_data_cd44_filtered_sigma022_minimal2_meanfit.pickle', 'rb'))\n",
    "res2 = pickle.load(open('waiting_times_files/estimation_count_data_cd44_filtered_sigma022_par2_meanfit.pickle', 'rb'))\n",
    "res3 = pickle.load(open('waiting_times_files/estimation_count_data_cd44_filtered_sigma022_par3_meanfit.pickle', 'rb'))\n",
    "res = res1 + res2 + res3\n",
    "print(len(res1), len(res2), len(res3), len(res))"
   ]
  },
  {
   "cell_type": "code",
   "execution_count": 75,
   "metadata": {},
   "outputs": [
    {
     "name": "stdout",
     "output_type": "stream",
     "text": [
      "['net_1_1', 'net_3_15', 'par2_d_6_8_l_14', 'par3_d_6_6_6_l_18']\n"
     ]
    }
   ],
   "source": [
    "model_probs1 = me.selection.compute_model_probabilities(res1)\n",
    "model_probs2 = me.selection.compute_model_probabilities(res2)\n",
    "model_probs3 = me.selection.compute_model_probabilities(res3)\n",
    "\n",
    "res_best = [res1[0], \n",
    "           res1[list(model_probs1).index(max(model_probs1))],\n",
    "           res2[list(model_probs2).index(max(model_probs2))],\n",
    "           res3[list(model_probs3).index(max(model_probs3))]]\n",
    "\n",
    "model_probs = me.selection.compute_model_probabilities(res_best)\n",
    "net_names = [est.net.net_name for est in res_best]\n",
    "log_evids = [est.bay_est_log_evidence for est in res_best]\n",
    "print(net_names)"
   ]
  },
  {
   "cell_type": "code",
   "execution_count": 76,
   "metadata": {},
   "outputs": [
    {
     "name": "stdout",
     "output_type": "stream",
     "text": [
      "2 par2_d_6_8_l_14\n"
     ]
    }
   ],
   "source": [
    "best_ind = list(model_probs).index(max(model_probs))\n",
    "print(best_ind, net_names[best_ind])"
   ]
  },
  {
   "cell_type": "code",
   "execution_count": 77,
   "metadata": {},
   "outputs": [
    {
     "data": {
      "image/png": "[encoded data removed]",
      "text/plain": [
       "<Figure size 57.6x43.2 with 1 Axes>"
      ]
     },
     "metadata": {
      "needs_background": "light"
     },
     "output_type": "display_data"
    },
    {
     "data": {
      "image/png": "[encoded data removed]",
      "text/plain": [
       "<Figure size 57.6x43.2 with 1 Axes>"
      ]
     },
     "metadata": {
      "needs_background": "light"
     },
     "output_type": "display_data"
    },
    {
     "data": {
      "image/png": "[encoded data removed]",
      "text/plain": [
       "<Figure size 57.6x43.2 with 1 Axes>"
      ]
     },
     "metadata": {
      "needs_background": "light"
     },
     "output_type": "display_data"
    }
   ],
   "source": [
    "est = res_best[best_ind]\n",
    "# repair est due to different memocell versions\n",
    "est.net_time_values_dense = est.data_time_values_dense\n",
    "est.data.data_mean_exists_only = False\n",
    "\n",
    "plt.rcParams.update({'figure.figsize': (0.8, 0.6)})\n",
    "settings = {\n",
    "    'A_t': {'label': 'E$(A_t)$', 'color': cactiv},\n",
    "    'M_t': {'label': 'E$(M_t)$', 'color': cnaive}\n",
    "}\n",
    "me.plots.est_bestfit_mean_plot(est, x_label='Time (hours)', save=f'paper_figures/fit_cd44_mean_{net_names[best_ind]}_small.pdf', settings=settings)\n",
    "\n",
    "settings = {\n",
    "    ('A_t', 'A_t'): {'label': 'Var$(A_t)$', 'color': cactiv},\n",
    "    ('M_t', 'M_t'): {'label': 'Var$(M_t)$', 'color': cnaive}\n",
    "}\n",
    "me.plots.est_bestfit_variance_plot(est, x_label='Time (hours)', save=f'paper_figures/fit_cd44_var_{net_names[best_ind]}_small.pdf', settings=settings)\n",
    "\n",
    "settings = {\n",
    "    ('A_t', 'M_t'): {'label': 'Cov$(M_t, A_t)$', 'color': grey}\n",
    "}\n",
    "me.plots.est_bestfit_covariance_plot(est, x_label='Time (hours)', save=f'paper_figures/fit_cd44_cov_{net_names[best_ind]}_small.pdf', settings=settings)"
   ]
  },
  {
   "cell_type": "markdown",
   "metadata": {},
   "source": [
    "thin4+meanfit"
   ]
  },
  {
   "cell_type": "code",
   "execution_count": 78,
   "metadata": {},
   "outputs": [
    {
     "name": "stdout",
     "output_type": "stream",
     "text": [
      "100 288 588 976\n"
     ]
    }
   ],
   "source": [
    "res1 = pickle.load(open('waiting_times_files/estimation_count_data_cd44_filtered_thin4_minimal2_meanfit.pickle', 'rb'))\n",
    "res2 = pickle.load(open('waiting_times_files/estimation_count_data_cd44_filtered_thin4_par2_meanfit.pickle', 'rb'))\n",
    "res3 = pickle.load(open('waiting_times_files/estimation_count_data_cd44_filtered_thin4_par3_meanfit.pickle', 'rb'))\n",
    "res = res1 + res2 + res3\n",
    "print(len(res1), len(res2), len(res3), len(res))"
   ]
  },
  {
   "cell_type": "code",
   "execution_count": 79,
   "metadata": {},
   "outputs": [
    {
     "name": "stdout",
     "output_type": "stream",
     "text": [
      "['min_d_1_l_1', 'min_d_2_l_18', 'par2_d_2_2_l_14', 'par3_d_4_4_4_l_18']\n"
     ]
    }
   ],
   "source": [
    "model_probs1 = me.selection.compute_model_probabilities(res1)\n",
    "model_probs2 = me.selection.compute_model_probabilities(res2)\n",
    "model_probs3 = me.selection.compute_model_probabilities(res3)\n",
    "\n",
    "res_best = [res1[0], \n",
    "           res1[list(model_probs1).index(max(model_probs1))],\n",
    "           res2[list(model_probs2).index(max(model_probs2))],\n",
    "           res3[list(model_probs3).index(max(model_probs3))]]\n",
    "\n",
    "model_probs = me.selection.compute_model_probabilities(res_best)\n",
    "net_names = [est.net.net_name for est in res_best]\n",
    "log_evids = [est.bay_est_log_evidence for est in res_best]\n",
    "print(net_names)"
   ]
  },
  {
   "cell_type": "code",
   "execution_count": 80,
   "metadata": {},
   "outputs": [
    {
     "name": "stdout",
     "output_type": "stream",
     "text": [
      "1 min_d_2_l_18\n"
     ]
    }
   ],
   "source": [
    "best_ind = list(model_probs).index(max(model_probs))\n",
    "print(best_ind, net_names[best_ind])"
   ]
  },
  {
   "cell_type": "code",
   "execution_count": 81,
   "metadata": {},
   "outputs": [
    {
     "data": {
      "image/png": "[encoded data removed]",
      "text/plain": [
       "<Figure size 57.6x43.2 with 1 Axes>"
      ]
     },
     "metadata": {
      "needs_background": "light"
     },
     "output_type": "display_data"
    },
    {
     "data": {
      "image/png": "[encoded data removed]",
      "text/plain": [
       "<Figure size 57.6x43.2 with 1 Axes>"
      ]
     },
     "metadata": {
      "needs_background": "light"
     },
     "output_type": "display_data"
    },
    {
     "data": {
      "image/png": "[encoded data removed]",
      "text/plain": [
       "<Figure size 57.6x43.2 with 1 Axes>"
      ]
     },
     "metadata": {
      "needs_background": "light"
     },
     "output_type": "display_data"
    }
   ],
   "source": [
    "est = res_best[best_ind]\n",
    "# repair est due to different memocell versions\n",
    "est.net_time_values_dense = est.data_time_values_dense\n",
    "est.data.data_mean_exists_only = False\n",
    "\n",
    "plt.rcParams.update({'figure.figsize': (0.8, 0.6)})\n",
    "settings = {\n",
    "    'A_t': {'label': 'E$(A_t)$', 'color': cactiv},\n",
    "    'M_t': {'label': 'E$(M_t)$', 'color': cnaive}\n",
    "}\n",
    "me.plots.est_bestfit_mean_plot(est, x_label='Time (hours)', save=f'paper_figures/fit_cd44_mean_{net_names[best_ind]}_small.pdf', settings=settings)\n",
    "\n",
    "settings = {\n",
    "    ('A_t', 'A_t'): {'label': 'Var$(A_t)$', 'color': cactiv},\n",
    "    ('M_t', 'M_t'): {'label': 'Var$(M_t)$', 'color': cnaive}\n",
    "}\n",
    "me.plots.est_bestfit_variance_plot(est, x_label='Time (hours)', save=f'paper_figures/fit_cd44_var_{net_names[best_ind]}_small.pdf', settings=settings)\n",
    "\n",
    "settings = {\n",
    "    ('A_t', 'M_t'): {'label': 'Cov$(M_t, A_t)$', 'color': grey}\n",
    "}\n",
    "me.plots.est_bestfit_covariance_plot(est, x_label='Time (hours)', save=f'paper_figures/fit_cd44_cov_{net_names[best_ind]}_small.pdf', settings=settings)"
   ]
  },
  {
   "cell_type": "markdown",
   "metadata": {},
   "source": [
    "##### cell count histograms"
   ]
  },
  {
   "cell_type": "markdown",
   "metadata": {},
   "source": [
    "standard"
   ]
  },
  {
   "cell_type": "code",
   "execution_count": 2,
   "metadata": {},
   "outputs": [
    {
     "name": "stdout",
     "output_type": "stream",
     "text": [
      "100 288 588 976\n",
      "0\n"
     ]
    }
   ],
   "source": [
    "res1 = pickle.load(open('waiting_times_files/estimation_count_data_cd44_filtered_sigma022_minimal2.pickle', 'rb'))\n",
    "res2 = pickle.load(open('waiting_times_files/estimation_count_data_cd44_filtered_sigma022_par2.pickle', 'rb'))\n",
    "res3 = pickle.load(open('waiting_times_files/estimation_count_data_cd44_filtered_sigma022_par3.pickle', 'rb'))\n",
    "res = res1 + res2 + res3\n",
    "print(len(res1), len(res2), len(res3), len(res))\n",
    "\n",
    "net_names = [est.net.net_name for est in res]\n",
    "model_probs = me.selection.compute_model_probabilities(res)\n",
    "data = res[0].data\n",
    "print(sum(['alphaF' in name for name in net_names]))"
   ]
  },
  {
   "cell_type": "code",
   "execution_count": 3,
   "metadata": {},
   "outputs": [
    {
     "name": "stdout",
     "output_type": "stream",
     "text": [
      "1.000000000000017\n",
      "976\n"
     ]
    }
   ],
   "source": [
    "# set model prior to give classes same weight\n",
    "mprior = np.array([0.25] + [0.25/99]*99 + [0.25/288]*288 + [0.25/588]*588)\n",
    "print(sum(mprior))\n",
    "print(len(mprior))"
   ]
  },
  {
   "cell_type": "code",
   "execution_count": 7,
   "metadata": {
    "collapsed": true,
    "jupyter": {
     "outputs_hidden": true
    }
   },
   "outputs": [
    {
     "name": "stdout",
     "output_type": "stream",
     "text": [
      "0\n"
     ]
    },
    {
     "ename": "KeyboardInterrupt",
     "evalue": "",
     "output_type": "error",
     "traceback": [
      "\u001b[0;31m---------------------------------------------------------------------------\u001b[0m",
      "\u001b[0;31mKeyboardInterrupt\u001b[0m                         Traceback (most recent call last)",
      "\u001b[0;32m<ipython-input-7-2228f46fc1fe>\u001b[0m in \u001b[0;36m<module>\u001b[0;34m\u001b[0m\n\u001b[1;32m      5\u001b[0m \u001b[0msim_n\u001b[0m \u001b[0;34m=\u001b[0m \u001b[0;36m500\u001b[0m \u001b[0;31m# 500 # simulation repeats per given model and theta; ideally, inf\u001b[0m\u001b[0;34m\u001b[0m\u001b[0;34m\u001b[0m\u001b[0m\n\u001b[1;32m      6\u001b[0m \u001b[0mcount_max\u001b[0m \u001b[0;34m=\u001b[0m \u001b[0;36m16\u001b[0m\u001b[0;34m\u001b[0m\u001b[0;34m\u001b[0m\u001b[0m\n\u001b[0;32m----> 7\u001b[0;31m \u001b[0my\u001b[0m \u001b[0;34m=\u001b[0m \u001b[0mhist_cell_counts_samples\u001b[0m\u001b[0;34m(\u001b[0m\u001b[0mres\u001b[0m\u001b[0;34m,\u001b[0m \u001b[0mcelltype\u001b[0m\u001b[0;34m,\u001b[0m \u001b[0mtime_point\u001b[0m\u001b[0;34m,\u001b[0m \u001b[0msample_n\u001b[0m\u001b[0;34m,\u001b[0m \u001b[0mcount_max\u001b[0m\u001b[0;34m,\u001b[0m \u001b[0msim_n\u001b[0m\u001b[0;34m,\u001b[0m \u001b[0mmprior\u001b[0m\u001b[0;34m)\u001b[0m\u001b[0;34m\u001b[0m\u001b[0;34m\u001b[0m\u001b[0m\n\u001b[0m",
      "\u001b[0;32m~/Documents/Studium/MSc/09_hiwi_hoefer/01_project/memo_py/paper/settings_load.py\u001b[0m in \u001b[0;36mhist_cell_counts_samples\u001b[0;34m(res, celltypeind, time_point, sample_n, count_max, sim_n, mprior)\u001b[0m\n\u001b[1;32m    348\u001b[0m \u001b[0;34m\u001b[0m\u001b[0m\n\u001b[1;32m    349\u001b[0m             \u001b[0;32mfor\u001b[0m \u001b[0m__\u001b[0m \u001b[0;32min\u001b[0m \u001b[0mrange\u001b[0m\u001b[0;34m(\u001b[0m\u001b[0msim_n\u001b[0m\u001b[0;34m)\u001b[0m\u001b[0;34m:\u001b[0m\u001b[0;34m\u001b[0m\u001b[0;34m\u001b[0m\u001b[0m\n\u001b[0;32m--> 350\u001b[0;31m                 \u001b[0mres_list\u001b[0m\u001b[0;34m.\u001b[0m\u001b[0mappend\u001b[0m\u001b[0;34m(\u001b[0m\u001b[0msim\u001b[0m\u001b[0;34m.\u001b[0m\u001b[0msimulate\u001b[0m\u001b[0;34m(\u001b[0m\u001b[0;34m'gillespie'\u001b[0m\u001b[0;34m,\u001b[0m \u001b[0mvariables\u001b[0m\u001b[0;34m,\u001b[0m \u001b[0minitial_values\u001b[0m\u001b[0;34m,\u001b[0m \u001b[0mtheta_values\u001b[0m\u001b[0;34m,\u001b[0m \u001b[0mtime_values\u001b[0m\u001b[0;34m)\u001b[0m\u001b[0;34m[\u001b[0m\u001b[0;36m1\u001b[0m\u001b[0;34m]\u001b[0m\u001b[0;34m)\u001b[0m\u001b[0;34m\u001b[0m\u001b[0;34m\u001b[0m\u001b[0m\n\u001b[0m\u001b[1;32m    351\u001b[0m             \u001b[0min_silico_counts\u001b[0m \u001b[0;34m=\u001b[0m \u001b[0mnp\u001b[0m\u001b[0;34m.\u001b[0m\u001b[0marray\u001b[0m\u001b[0;34m(\u001b[0m\u001b[0mres_list\u001b[0m\u001b[0;34m)\u001b[0m\u001b[0;34m\u001b[0m\u001b[0;34m\u001b[0m\u001b[0m\n\u001b[1;32m    352\u001b[0m \u001b[0;34m\u001b[0m\u001b[0m\n",
      "\u001b[0;32m~/Documents/Studium/MSc/09_hiwi_hoefer/01_project/memo_py/memo_py/simulation.py\u001b[0m in \u001b[0;36msimulate\u001b[0;34m(self, simulation_type, simulation_variables, initial_values, theta_values, time_values, sim_mean_only)\u001b[0m\n\u001b[1;32m     82\u001b[0m             \u001b[0;31m# run, store and return a simulation\u001b[0m\u001b[0;34m\u001b[0m\u001b[0;34m\u001b[0m\u001b[0;34m\u001b[0m\u001b[0m\n\u001b[1;32m     83\u001b[0m             self.sim_gillespie_res = self.sim_gillespie.gillespie_simulation(initial_values,\n\u001b[0;32m---> 84\u001b[0;31m                                             theta_values_order, self.sim_time_values)\n\u001b[0m\u001b[1;32m     85\u001b[0m             \u001b[0;32mreturn\u001b[0m \u001b[0mself\u001b[0m\u001b[0;34m.\u001b[0m\u001b[0msim_gillespie_res\u001b[0m\u001b[0;34m\u001b[0m\u001b[0;34m\u001b[0m\u001b[0m\n\u001b[1;32m     86\u001b[0m \u001b[0;34m\u001b[0m\u001b[0m\n",
      "\u001b[0;32m~/Documents/Studium/MSc/09_hiwi_hoefer/01_project/memo_py/memo_py/simulation_lib/sim_gillespie.py\u001b[0m in \u001b[0;36mgillespie_simulation\u001b[0;34m(self, initial_values_dict, theta_values_order, time_values)\u001b[0m\n\u001b[1;32m     83\u001b[0m             sim_gill_sol = self.run_gillespie_first_reaction_method(time_values, initial_values, theta_numeric_exec,\n\u001b[1;32m     84\u001b[0m                                                     \u001b[0mself\u001b[0m\u001b[0;34m.\u001b[0m\u001b[0msim_gill_propensities_eval\u001b[0m\u001b[0;34m,\u001b[0m \u001b[0mself\u001b[0m\u001b[0;34m.\u001b[0m\u001b[0msim_gill_reaction_number\u001b[0m\u001b[0;34m,\u001b[0m\u001b[0;34m\u001b[0m\u001b[0;34m\u001b[0m\u001b[0m\n\u001b[0;32m---> 85\u001b[0;31m                                                     self.sim_gill_reaction_update_exec)\n\u001b[0m\u001b[1;32m     86\u001b[0m \u001b[0;34m\u001b[0m\u001b[0m\n\u001b[1;32m     87\u001b[0m             \u001b[0;31m# interpolate the random times obtained in the simulation for a fixed time values\u001b[0m\u001b[0;34m\u001b[0m\u001b[0;34m\u001b[0m\u001b[0;34m\u001b[0m\u001b[0m\n",
      "\u001b[0;32m~/Documents/Studium/MSc/09_hiwi_hoefer/01_project/memo_py/memo_py/simulation_lib/sim_gillespie.py\u001b[0m in \u001b[0;36mrun_gillespie_first_reaction_method\u001b[0;34m(time_arr_expl, initial_values, reac_rates_exec, prop_arr_eval, num_reacs, reac_event_fct)\u001b[0m\n\u001b[1;32m    121\u001b[0m \u001b[0;34m\u001b[0m\u001b[0m\n\u001b[1;32m    122\u001b[0m             \u001b[0mnodes_state\u001b[0m \u001b[0;34m=\u001b[0m \u001b[0mnodes_array\u001b[0m\u001b[0;34m[\u001b[0m\u001b[0;34m:\u001b[0m\u001b[0;34m,\u001b[0m \u001b[0;34m-\u001b[0m\u001b[0;36m1\u001b[0m\u001b[0;34m]\u001b[0m\u001b[0;34m.\u001b[0m\u001b[0mcopy\u001b[0m\u001b[0;34m(\u001b[0m\u001b[0;34m)\u001b[0m\u001b[0;34m\u001b[0m\u001b[0;34m\u001b[0m\u001b[0m\n\u001b[0;32m--> 123\u001b[0;31m             \u001b[0mpropensities\u001b[0m \u001b[0;34m=\u001b[0m \u001b[0meval\u001b[0m\u001b[0;34m(\u001b[0m\u001b[0mprop_arr_eval\u001b[0m\u001b[0;34m)\u001b[0m\u001b[0;34m\u001b[0m\u001b[0;34m\u001b[0m\u001b[0m\n\u001b[0m\u001b[1;32m    124\u001b[0m \u001b[0;34m\u001b[0m\u001b[0m\n\u001b[1;32m    125\u001b[0m             \u001b[0;31m# sample time point for each reaction event\u001b[0m\u001b[0;34m\u001b[0m\u001b[0;34m\u001b[0m\u001b[0;34m\u001b[0m\u001b[0m\n",
      "\u001b[0;32m~/Documents/Studium/MSc/09_hiwi_hoefer/01_project/memo_py/memo_py/simulation_lib/sim_gillespie.py\u001b[0m in \u001b[0;36m<module>\u001b[0;34m\u001b[0m\n",
      "\u001b[0;31mKeyboardInterrupt\u001b[0m: "
     ]
    }
   ],
   "source": [
    "# res = [est]\n",
    "celltype = 1 # 0 or 1 (active, naive)\n",
    "time_point = -1 # last time point\n",
    "sample_n = 1000 # 1000 # posterior samples of cell histograms; typically 1000-10000\n",
    "sim_n = 500 # 500 # simulation repeats per given model and theta; ideally, inf\n",
    "count_max = 16\n",
    "y = hist_cell_counts_samples(res, celltype, time_point, sample_n, count_max, sim_n, mprior)"
   ]
  },
  {
   "cell_type": "code",
   "execution_count": 13,
   "metadata": {},
   "outputs": [
    {
     "name": "stdout",
     "output_type": "stream",
     "text": [
      "(16, 1000)\n"
     ]
    }
   ],
   "source": [
    "print(y.shape)\n",
    "y_95_lower = np.percentile(y, 2.5, axis=1)\n",
    "y_median = np.percentile(y, 50.0, axis=1)\n",
    "y_95_upper = np.percentile(y, 97.5, axis=1)"
   ]
  },
  {
   "cell_type": "code",
   "execution_count": 11,
   "metadata": {},
   "outputs": [
    {
     "data": {
      "image/png": "[encoded data removed]",
      "text/plain": [
       "<Figure size 43.2x43.2 with 1 Axes>"
      ]
     },
     "metadata": {
      "needs_background": "light"
     },
     "output_type": "display_data"
    }
   ],
   "source": [
    "# compute model histogram over all models\n",
    "# naive_y = y.copy()\n",
    "plt.rcParams.update({'figure.figsize': (0.6, 0.6)})\n",
    "ax = plt.gca()\n",
    "ax.spines['top'].set_visible(False)\n",
    "ax.spines['right'].set_visible(False)\n",
    "ax.spines['bottom'].set_visible(True)\n",
    "ax.spines['left'].set_visible(True)\n",
    "\n",
    "linelow = 44*y_95_lower/sim_n\n",
    "line = 44*y_median/sim_n\n",
    "lineupp = 44*y_95_upper/sim_n\n",
    "errlow = line-linelow\n",
    "errupp = lineupp-line\n",
    "\n",
    "plt.fill_between(range(count_max), linelow, line, color=cnaive, alpha=0.2, linewidth=0.0, zorder=100)\n",
    "# plt.plot(range(count_max), line, color=cnaive, zorder=200, linewidth=1.0)\n",
    "plt.fill_between(range(count_max), line, lineupp, color=cnaive, alpha=0.2, linewidth=0.0, zorder=100) #,\n",
    "#                 label='Models')\n",
    "cutplot = 3\n",
    "plt.errorbar(list(range(count_max))[:cutplot], line[:cutplot], yerr=np.array([errlow, errupp])[:, :cutplot],\n",
    "            color=cnaive, linewidth=1.0, capsize=1.0,\n",
    "             zorder=100, markersize=2, fmt='.', label='Inference\\n(Moments)')\n",
    "\n",
    "plt.hist(res[0].data.data_counts[:, 1, -1], bins=np.linspace(-0.5, 9.5, num=11), \n",
    "         color='black', alpha=0.1, label='Data')\n",
    "plt.xticks([0, 1, 2])\n",
    "plt.xlim(None, 3)\n",
    "plt.ylim(-1.5, None)\n",
    "plt.tick_params(left=False, labelleft=False)\n",
    "plt.xlabel('CD44- cells')\n",
    "plt.ylabel('Microwells')\n",
    "plt.legend()\n",
    "plt.savefig(f'paper_figures/hist_cd44_naive_bands_small.pdf', bbox_inches='tight') # _thin4"
   ]
  },
  {
   "cell_type": "code",
   "execution_count": 14,
   "metadata": {},
   "outputs": [
    {
     "data": {
      "image/png": "[encoded data removed]",
      "text/plain": [
       "<Figure size 43.2x43.2 with 1 Axes>"
      ]
     },
     "metadata": {
      "needs_background": "light"
     },
     "output_type": "display_data"
    }
   ],
   "source": [
    "# compute model histogram over all models\n",
    "# active_y = y.copy()\n",
    "plt.rcParams.update({'figure.figsize': (0.6, 0.6)})\n",
    "ax = plt.gca()\n",
    "ax.spines['top'].set_visible(False)\n",
    "ax.spines['right'].set_visible(False)\n",
    "ax.spines['bottom'].set_visible(True)\n",
    "ax.spines['left'].set_visible(True)\n",
    "\n",
    "linelow = 44*y_95_lower/sim_n\n",
    "line = 44*y_median/sim_n\n",
    "lineupp = 44*y_95_upper/sim_n\n",
    "errlow = line-linelow\n",
    "errupp = lineupp-line\n",
    "\n",
    "plt.fill_between(range(count_max), linelow, line, color=cactiv, alpha=0.2, linewidth=0.0, zorder=100)\n",
    "# plt.plot(range(count_max), line, color=cactiv, zorder=200, linewidth=1.0)\n",
    "plt.fill_between(range(count_max), line, lineupp, color=cactiv, alpha=0.2, linewidth=0.0, zorder=100) #,\n",
    "#                 label='Model')\n",
    "\n",
    "cutplot = 10\n",
    "plt.errorbar(list(range(count_max))[:cutplot], line[:cutplot], \n",
    "             yerr=np.array([errlow, errupp])[:, :cutplot],\n",
    "            color=cactiv, linewidth=1.0, capsize=1.0,\n",
    "             zorder=100, markersize=2, fmt='.', label='Inference\\n(Moments)')\n",
    "\n",
    "plt.hist(res[0].data.data_counts[:, 0, -1], bins=np.linspace(-0.5, 9.5, num=11), \n",
    "         color='black', alpha=0.1, label='Data')\n",
    "\n",
    "plt.xlim(-1, 10)\n",
    "plt.tick_params(left=False, labelleft=False)\n",
    "plt.xlabel('CD44+ cells')\n",
    "plt.ylabel('Microwells')\n",
    "plt.legend()\n",
    "plt.savefig(f'paper_figures/hist_cd44_active_band_small.pdf', bbox_inches='tight') # _thin4"
   ]
  },
  {
   "cell_type": "code",
   "execution_count": 12,
   "metadata": {},
   "outputs": [],
   "source": [
    "# save naive_y and active_y for replotting\n",
    "# with open('waiting_times_files/inf_cell_counts_minimal2_par2_par3_sigma022_naive_y.pickle', 'wb') as file_: # in_silico_estimation\n",
    "#     pickle.dump(naive_y, file_)\n",
    "# with open('waiting_times_files/inf_cell_counts_minimal2_par2_par3_sigma022_active_y.pickle', 'wb') as file_: # in_silico_estimation\n",
    "#     pickle.dump(active_y, file_)\n",
    "\n",
    "# load from these files to use as 'y' for above plots\n",
    "# inf_cell_counts_minimal2_par2_par3_sigma022_naive_y\n",
    "# inf_cell_counts_minimal2_par2_par3_sigma022_active_y\n",
    "y = pickle.load(open('waiting_times_files/inf_cell_counts_minimal2_par2_par3_sigma022_active_y.pickle', 'rb'))"
   ]
  },
  {
   "cell_type": "markdown",
   "metadata": {},
   "source": [
    "thin4"
   ]
  },
  {
   "cell_type": "code",
   "execution_count": 16,
   "metadata": {},
   "outputs": [
    {
     "name": "stdout",
     "output_type": "stream",
     "text": [
      "100 288 588 976\n",
      "0\n"
     ]
    }
   ],
   "source": [
    "res1 = pickle.load(open('waiting_times_files/estimation_count_data_cd44_filtered_thin4_minimal2.pickle', 'rb'))\n",
    "res2 = pickle.load(open('waiting_times_files/estimation_count_data_cd44_filtered_thin4_par2.pickle', 'rb'))\n",
    "res3 = pickle.load(open('waiting_times_files/estimation_count_data_cd44_filtered_thin4_par3.pickle', 'rb'))\n",
    "res = res1 + res2 + res3\n",
    "print(len(res1), len(res2), len(res3), len(res))\n",
    "\n",
    "net_names = [est.net.net_name for est in res]\n",
    "model_probs = me.selection.compute_model_probabilities(res)\n",
    "data = res[0].data\n",
    "print(sum(['alphaF' in name for name in net_names]))"
   ]
  },
  {
   "cell_type": "code",
   "execution_count": 17,
   "metadata": {},
   "outputs": [
    {
     "name": "stdout",
     "output_type": "stream",
     "text": [
      "1.000000000000017\n",
      "976\n"
     ]
    }
   ],
   "source": [
    "# set model prior to give classes same weight\n",
    "mprior = np.array([0.25] + [0.25/99]*99 + [0.25/288]*288 + [0.25/588]*588)\n",
    "print(sum(mprior))\n",
    "print(len(mprior))"
   ]
  },
  {
   "cell_type": "code",
   "execution_count": 28,
   "metadata": {},
   "outputs": [
    {
     "name": "stdout",
     "output_type": "stream",
     "text": [
      "0\n",
      "20\n",
      "40\n",
      "60\n",
      "80\n",
      "100\n",
      "120\n",
      "140\n",
      "160\n",
      "180\n",
      "200\n",
      "220\n",
      "240\n",
      "260\n",
      "280\n",
      "300\n",
      "320\n",
      "340\n",
      "360\n",
      "380\n",
      "400\n",
      "420\n",
      "440\n",
      "460\n",
      "480\n",
      "500\n",
      "520\n",
      "540\n",
      "560\n",
      "580\n",
      "600\n",
      "620\n",
      "640\n",
      "660\n",
      "680\n",
      "700\n",
      "720\n",
      "740\n",
      "760\n",
      "780\n",
      "800\n",
      "820\n",
      "840\n",
      "860\n",
      "880\n",
      "900\n",
      "920\n",
      "940\n",
      "960\n",
      "980\n",
      "[209.   0. 372. 419.]\n"
     ]
    }
   ],
   "source": [
    "# res = [est]\n",
    "celltype = 0 # 0 or 1 (active, naive)\n",
    "time_point = -1 # last time point\n",
    "sample_n = 1000 # 1000 # posterior samples of cell histograms; typically 1000-10000\n",
    "sim_n = 500 # 500 # simulation repeats per given model and theta; ideally, inf\n",
    "count_max = 16\n",
    "y = hist_cell_counts_samples(res, celltype, time_point, sample_n, count_max, sim_n, mprior)"
   ]
  },
  {
   "cell_type": "code",
   "execution_count": 33,
   "metadata": {},
   "outputs": [
    {
     "name": "stdout",
     "output_type": "stream",
     "text": [
      "(16, 1000)\n"
     ]
    }
   ],
   "source": [
    "print(y.shape)\n",
    "y_95_lower = np.percentile(y, 2.5, axis=1)\n",
    "y_median = np.percentile(y, 50.0, axis=1)\n",
    "y_95_upper = np.percentile(y, 97.5, axis=1)"
   ]
  },
  {
   "cell_type": "code",
   "execution_count": 27,
   "metadata": {},
   "outputs": [
    {
     "data": {
      "image/png": "[encoded data removed]",
      "text/plain": [
       "<Figure size 43.2x43.2 with 1 Axes>"
      ]
     },
     "metadata": {
      "needs_background": "light"
     },
     "output_type": "display_data"
    }
   ],
   "source": [
    "# compute model histogram over all models\n",
    "# naive_y = y.copy()\n",
    "plt.rcParams.update({'figure.figsize': (0.6, 0.6)})\n",
    "ax = plt.gca()\n",
    "ax.spines['top'].set_visible(False)\n",
    "ax.spines['right'].set_visible(False)\n",
    "ax.spines['bottom'].set_visible(True)\n",
    "ax.spines['left'].set_visible(True)\n",
    "\n",
    "linelow = 44*y_95_lower/sim_n\n",
    "line = 44*y_median/sim_n\n",
    "lineupp = 44*y_95_upper/sim_n\n",
    "errlow = line-linelow\n",
    "errupp = lineupp-line\n",
    "\n",
    "plt.fill_between(range(count_max), linelow, line, color=cnaive, alpha=0.2, linewidth=0.0, zorder=100)\n",
    "# plt.plot(range(count_max), line, color=cnaive, zorder=200, linewidth=1.0)\n",
    "plt.fill_between(range(count_max), line, lineupp, color=cnaive, alpha=0.2, linewidth=0.0, zorder=100) #,\n",
    "#                 label='Models')\n",
    "cutplot = 3\n",
    "plt.errorbar(list(range(count_max))[:cutplot], line[:cutplot], yerr=np.array([errlow, errupp])[:, :cutplot],\n",
    "            color=cnaive, linewidth=1.0, capsize=1.0,\n",
    "             zorder=100, markersize=2, fmt='.', label='Inference\\n(Moments)')\n",
    "\n",
    "plt.hist(res[0].data.data_counts[:, 1, -1], bins=np.linspace(-0.5, 9.5, num=11), \n",
    "         color='black', alpha=0.1, label='Data')\n",
    "plt.xticks([0, 1, 2])\n",
    "plt.xlim(None, 3)\n",
    "plt.ylim(-1.5, None)\n",
    "plt.tick_params(left=False, labelleft=False)\n",
    "plt.xlabel('CD44- cells')\n",
    "plt.ylabel('Microwells')\n",
    "plt.legend()\n",
    "plt.savefig(f'paper_figures/hist_cd44_naive_bands_thin4_small.pdf', bbox_inches='tight') # _thin4"
   ]
  },
  {
   "cell_type": "code",
   "execution_count": 34,
   "metadata": {},
   "outputs": [
    {
     "data": {
      "image/png": "[encoded data removed]",
      "text/plain": [
       "<Figure size 43.2x43.2 with 1 Axes>"
      ]
     },
     "metadata": {
      "needs_background": "light"
     },
     "output_type": "display_data"
    }
   ],
   "source": [
    "# compute model histogram over all models\n",
    "# active_y = y.copy()\n",
    "plt.rcParams.update({'figure.figsize': (0.6, 0.6)})\n",
    "ax = plt.gca()\n",
    "ax.spines['top'].set_visible(False)\n",
    "ax.spines['right'].set_visible(False)\n",
    "ax.spines['bottom'].set_visible(True)\n",
    "ax.spines['left'].set_visible(True)\n",
    "\n",
    "linelow = 44*y_95_lower/sim_n\n",
    "line = 44*y_median/sim_n\n",
    "lineupp = 44*y_95_upper/sim_n\n",
    "errlow = line-linelow\n",
    "errupp = lineupp-line\n",
    "\n",
    "plt.fill_between(range(count_max), linelow, line, color=cactiv, alpha=0.2, linewidth=0.0, zorder=100)\n",
    "# plt.plot(range(count_max), line, color=cactiv, zorder=200, linewidth=1.0)\n",
    "plt.fill_between(range(count_max), line, lineupp, color=cactiv, alpha=0.2, linewidth=0.0, zorder=100) #,\n",
    "#                 label='Model')\n",
    "\n",
    "cutplot = 10\n",
    "plt.errorbar(list(range(count_max))[:cutplot], line[:cutplot], \n",
    "             yerr=np.array([errlow, errupp])[:, :cutplot],\n",
    "            color=cactiv, linewidth=1.0, capsize=1.0,\n",
    "             zorder=100, markersize=2, fmt='.', label='Inference\\n(Moments)')\n",
    "\n",
    "plt.hist(res[0].data.data_counts[:, 0, -1], bins=np.linspace(-0.5, 9.5, num=11), \n",
    "         color='black', alpha=0.1, label='Data')\n",
    "\n",
    "plt.xlim(-1, 10)\n",
    "plt.tick_params(left=False, labelleft=False)\n",
    "plt.xlabel('CD44+ cells')\n",
    "plt.ylabel('Microwells')\n",
    "plt.legend()\n",
    "plt.savefig(f'paper_figures/hist_cd44_active_band_thin4_small.pdf', bbox_inches='tight') # _thin4"
   ]
  },
  {
   "cell_type": "code",
   "execution_count": 32,
   "metadata": {},
   "outputs": [],
   "source": [
    "# save naive_y and active_y for replotting\n",
    "# with open('waiting_times_files/inf_cell_counts_minimal2_par2_par3_thin4_naive_y.pickle', 'wb') as file_: # in_silico_estimation\n",
    "#     pickle.dump(naive_y, file_)\n",
    "# with open('waiting_times_files/inf_cell_counts_minimal2_par2_par3_thin4_active_y.pickle', 'wb') as file_: # in_silico_estimation\n",
    "#     pickle.dump(active_y, file_)\n",
    "\n",
    "# load from these files to use as 'y' for above plots\n",
    "# inf_cell_counts_minimal2_par2_par3_sigma022_naive_y\n",
    "# inf_cell_counts_minimal2_par2_par3_sigma022_active_y\n",
    "y = pickle.load(open('waiting_times_files/inf_cell_counts_minimal2_par2_par3_thin4_active_y.pickle', 'rb'))"
   ]
  },
  {
   "cell_type": "markdown",
   "metadata": {},
   "source": [
    "meanfit"
   ]
  },
  {
   "cell_type": "code",
   "execution_count": 2,
   "metadata": {},
   "outputs": [
    {
     "name": "stdout",
     "output_type": "stream",
     "text": [
      "100 288 588 976\n",
      "0\n"
     ]
    }
   ],
   "source": [
    "res1 = pickle.load(open('waiting_times_files/estimation_count_data_cd44_filtered_sigma022_minimal2_meanfit.pickle', 'rb'))\n",
    "res2 = pickle.load(open('waiting_times_files/estimation_count_data_cd44_filtered_sigma022_par2_meanfit.pickle', 'rb'))\n",
    "res3 = pickle.load(open('waiting_times_files/estimation_count_data_cd44_filtered_sigma022_par3_meanfit.pickle', 'rb'))\n",
    "res = res1 + res2 + res3\n",
    "print(len(res1), len(res2), len(res3), len(res))\n",
    "\n",
    "net_names = [est.net.net_name for est in res]\n",
    "model_probs = me.selection.compute_model_probabilities(res)\n",
    "data = res[0].data\n",
    "print(sum(['alphaF' in name for name in net_names]))"
   ]
  },
  {
   "cell_type": "code",
   "execution_count": 3,
   "metadata": {},
   "outputs": [
    {
     "name": "stdout",
     "output_type": "stream",
     "text": [
      "1.000000000000017\n",
      "976\n"
     ]
    }
   ],
   "source": [
    "# set model prior to give classes same weight\n",
    "mprior = np.array([0.25] + [0.25/99]*99 + [0.25/288]*288 + [0.25/588]*588)\n",
    "print(sum(mprior))\n",
    "print(len(mprior))"
   ]
  },
  {
   "cell_type": "code",
   "execution_count": 4,
   "metadata": {},
   "outputs": [
    {
     "name": "stdout",
     "output_type": "stream",
     "text": [
      "0\n",
      "20\n",
      "40\n",
      "60\n",
      "80\n",
      "100\n",
      "120\n",
      "140\n",
      "160\n",
      "180\n",
      "200\n",
      "220\n",
      "240\n",
      "260\n",
      "280\n",
      "300\n",
      "320\n",
      "340\n",
      "360\n",
      "380\n",
      "400\n",
      "420\n",
      "440\n",
      "460\n",
      "480\n",
      "500\n",
      "520\n",
      "540\n",
      "560\n",
      "580\n",
      "600\n",
      "620\n",
      "640\n",
      "660\n",
      "680\n",
      "700\n",
      "720\n",
      "740\n",
      "760\n",
      "780\n",
      "800\n",
      "820\n",
      "840\n",
      "860\n",
      "880\n",
      "900\n",
      "920\n",
      "940\n",
      "960\n",
      "980\n",
      "[  4.   0. 433. 563.]\n"
     ]
    }
   ],
   "source": [
    "# res = [est]\n",
    "celltype = 0 # 0 or 1 (active, naive)\n",
    "time_point = -1 # last time point\n",
    "sample_n = 1000 # 1000 # posterior samples of cell histograms; typically 1000-10000\n",
    "sim_n = 500 # 500 # simulation repeats per given model and theta; ideally, inf\n",
    "count_max = 16\n",
    "y = hist_cell_counts_samples(res, celltype, time_point, sample_n, count_max, sim_n, mprior)"
   ]
  },
  {
   "cell_type": "code",
   "execution_count": 5,
   "metadata": {},
   "outputs": [
    {
     "name": "stdout",
     "output_type": "stream",
     "text": [
      "(16, 1000)\n"
     ]
    }
   ],
   "source": [
    "print(y.shape)\n",
    "y_95_lower = np.percentile(y, 2.5, axis=1)\n",
    "y_median = np.percentile(y, 50.0, axis=1)\n",
    "y_95_upper = np.percentile(y, 97.5, axis=1)"
   ]
  },
  {
   "cell_type": "code",
   "execution_count": 43,
   "metadata": {},
   "outputs": [
    {
     "data": {
      "image/png": "[encoded data removed]",
      "text/plain": [
       "<Figure size 43.2x43.2 with 1 Axes>"
      ]
     },
     "metadata": {
      "needs_background": "light"
     },
     "output_type": "display_data"
    }
   ],
   "source": [
    "# compute model histogram over all models\n",
    "# naive_y = y.copy()\n",
    "plt.rcParams.update({'figure.figsize': (0.6, 0.6)})\n",
    "ax = plt.gca()\n",
    "ax.spines['top'].set_visible(False)\n",
    "ax.spines['right'].set_visible(False)\n",
    "ax.spines['bottom'].set_visible(True)\n",
    "ax.spines['left'].set_visible(True)\n",
    "\n",
    "linelow = 44*y_95_lower/sim_n\n",
    "line = 44*y_median/sim_n\n",
    "lineupp = 44*y_95_upper/sim_n\n",
    "errlow = line-linelow\n",
    "errupp = lineupp-line\n",
    "\n",
    "plt.fill_between(range(count_max), linelow, line, color=cnaive, alpha=0.2, linewidth=0.0, zorder=100)\n",
    "# plt.plot(range(count_max), line, color=cnaive, zorder=200, linewidth=1.0)\n",
    "plt.fill_between(range(count_max), line, lineupp, color=cnaive, alpha=0.2, linewidth=0.0, zorder=100) #,\n",
    "#                 label='Models')\n",
    "cutplot = 3\n",
    "plt.errorbar(list(range(count_max))[:cutplot], line[:cutplot], yerr=np.array([errlow, errupp])[:, :cutplot],\n",
    "            color=cnaive, linewidth=1.0, capsize=1.0,\n",
    "             zorder=100, markersize=2, fmt='.', label='Inference\\n(Moments)')\n",
    "\n",
    "plt.hist(res[0].data.data_counts[:, 1, -1], bins=np.linspace(-0.5, 9.5, num=11), \n",
    "         color='black', alpha=0.1, label='Data')\n",
    "plt.xticks([0, 1, 2])\n",
    "plt.xlim(None, 3)\n",
    "plt.ylim(-1.5, None)\n",
    "plt.tick_params(left=False, labelleft=False)\n",
    "plt.xlabel('CD44- cells')\n",
    "plt.ylabel('Microwells')\n",
    "plt.legend()\n",
    "plt.savefig(f'paper_figures/hist_cd44_naive_bands_meanfit_small.pdf', bbox_inches='tight') # _thin4"
   ]
  },
  {
   "cell_type": "code",
   "execution_count": 9,
   "metadata": {},
   "outputs": [
    {
     "data": {
      "image/png": "[encoded data removed]",
      "text/plain": [
       "<Figure size 43.2x43.2 with 1 Axes>"
      ]
     },
     "metadata": {
      "needs_background": "light"
     },
     "output_type": "display_data"
    }
   ],
   "source": [
    "# compute model histogram over all models\n",
    "# active_y = y.copy()\n",
    "plt.rcParams.update({'figure.figsize': (0.6, 0.6)})\n",
    "ax = plt.gca()\n",
    "ax.spines['top'].set_visible(False)\n",
    "ax.spines['right'].set_visible(False)\n",
    "ax.spines['bottom'].set_visible(True)\n",
    "ax.spines['left'].set_visible(True)\n",
    "\n",
    "linelow = 44*y_95_lower/sim_n\n",
    "line = 44*y_median/sim_n\n",
    "lineupp = 44*y_95_upper/sim_n\n",
    "errlow = line-linelow\n",
    "errupp = lineupp-line\n",
    "\n",
    "plt.fill_between(range(count_max), linelow, line, color=cactiv, alpha=0.2, linewidth=0.0, zorder=100)\n",
    "# plt.plot(range(count_max), line, color=cactiv, zorder=200, linewidth=1.0)\n",
    "plt.fill_between(range(count_max), line, lineupp, color=cactiv, alpha=0.2, linewidth=0.0, zorder=100) #,\n",
    "#                 label='Model')\n",
    "\n",
    "cutplot = 10\n",
    "plt.errorbar(list(range(count_max))[:cutplot], line[:cutplot], \n",
    "             yerr=np.array([errlow, errupp])[:, :cutplot],\n",
    "            color=cactiv, linewidth=1.0, capsize=1.0,\n",
    "             zorder=100, markersize=2, fmt='.', label='Inference\\n(Moments)')\n",
    "\n",
    "plt.hist(res[0].data.data_counts[:, 0, -1], bins=np.linspace(-0.5, 9.5, num=11), \n",
    "         color='black', alpha=0.1, label='Data')\n",
    "\n",
    "plt.xlim(-1, 10)\n",
    "plt.tick_params(left=False, labelleft=False)\n",
    "plt.xlabel('CD44+ cells')\n",
    "plt.ylabel('Microwells')\n",
    "plt.legend()\n",
    "plt.savefig(f'paper_figures/hist_cd44_active_band_meanfit_small.pdf', bbox_inches='tight') # _thin4"
   ]
  },
  {
   "cell_type": "code",
   "execution_count": 8,
   "metadata": {},
   "outputs": [],
   "source": [
    "# save naive_y and active_y for replotting\n",
    "# with open('waiting_times_files/inf_cell_counts_minimal2_par2_par3_meanfit_naive_y.pickle', 'wb') as file_: # in_silico_estimation\n",
    "#     pickle.dump(naive_y, file_)\n",
    "# with open('waiting_times_files/inf_cell_counts_minimal2_par2_par3_meanfit_active_y.pickle', 'wb') as file_: # in_silico_estimation\n",
    "#     pickle.dump(active_y, file_)\n",
    "\n",
    "# load from these files to use as 'y' for above plots\n",
    "# inf_cell_counts_minimal2_par2_par3_sigma022_naive_y\n",
    "# inf_cell_counts_minimal2_par2_par3_sigma022_active_y\n",
    "y = pickle.load(open('waiting_times_files/inf_cell_counts_minimal2_par2_par3_meanfit_active_y.pickle', 'rb'))"
   ]
  },
  {
   "cell_type": "markdown",
   "metadata": {},
   "source": [
    "thin4+meanfit"
   ]
  },
  {
   "cell_type": "code",
   "execution_count": 2,
   "metadata": {},
   "outputs": [
    {
     "name": "stdout",
     "output_type": "stream",
     "text": [
      "100 288 588 976\n",
      "0\n"
     ]
    }
   ],
   "source": [
    "res1 = pickle.load(open('waiting_times_files/estimation_count_data_cd44_filtered_thin4_minimal2_meanfit.pickle', 'rb'))\n",
    "res2 = pickle.load(open('waiting_times_files/estimation_count_data_cd44_filtered_thin4_par2_meanfit.pickle', 'rb'))\n",
    "res3 = pickle.load(open('waiting_times_files/estimation_count_data_cd44_filtered_thin4_par3_meanfit.pickle', 'rb'))\n",
    "res = res1 + res2 + res3\n",
    "print(len(res1), len(res2), len(res3), len(res))\n",
    "\n",
    "net_names = [est.net.net_name for est in res]\n",
    "model_probs = me.selection.compute_model_probabilities(res)\n",
    "data = res[0].data\n",
    "print(sum(['alphaF' in name for name in net_names]))"
   ]
  },
  {
   "cell_type": "code",
   "execution_count": 3,
   "metadata": {},
   "outputs": [
    {
     "name": "stdout",
     "output_type": "stream",
     "text": [
      "1.000000000000017\n",
      "976\n"
     ]
    }
   ],
   "source": [
    "# set model prior to give classes same weight\n",
    "mprior = np.array([0.25] + [0.25/99]*99 + [0.25/288]*288 + [0.25/588]*588)\n",
    "print(sum(mprior))\n",
    "print(len(mprior))"
   ]
  },
  {
   "cell_type": "code",
   "execution_count": 4,
   "metadata": {},
   "outputs": [
    {
     "name": "stdout",
     "output_type": "stream",
     "text": [
      "0\n",
      "20\n",
      "40\n",
      "60\n",
      "80\n",
      "100\n",
      "120\n",
      "140\n",
      "160\n",
      "180\n",
      "200\n",
      "220\n",
      "240\n",
      "260\n",
      "280\n",
      "300\n",
      "320\n",
      "340\n",
      "360\n",
      "380\n",
      "400\n",
      "420\n",
      "440\n",
      "460\n",
      "480\n",
      "500\n",
      "520\n",
      "540\n",
      "560\n",
      "580\n",
      "600\n",
      "620\n",
      "640\n",
      "660\n",
      "680\n",
      "700\n",
      "720\n",
      "740\n",
      "760\n",
      "780\n",
      "800\n",
      "820\n",
      "840\n",
      "860\n",
      "880\n",
      "900\n",
      "920\n",
      "940\n",
      "960\n",
      "980\n",
      "[663.   0. 173. 164.]\n"
     ]
    }
   ],
   "source": [
    "# res = [est]\n",
    "celltype = 0 # 0 or 1 (active, naive)\n",
    "time_point = -1 # last time point\n",
    "sample_n = 1000 # 1000 # posterior samples of cell histograms; typically 1000-10000\n",
    "sim_n = 500 # 500 # simulation repeats per given model and theta; ideally, inf\n",
    "count_max = 16\n",
    "y = hist_cell_counts_samples(res, celltype, time_point, sample_n, count_max, sim_n, mprior)"
   ]
  },
  {
   "cell_type": "code",
   "execution_count": 10,
   "metadata": {},
   "outputs": [
    {
     "name": "stdout",
     "output_type": "stream",
     "text": [
      "(16, 1000)\n"
     ]
    }
   ],
   "source": [
    "print(y.shape)\n",
    "y_95_lower = np.percentile(y, 2.5, axis=1)\n",
    "y_median = np.percentile(y, 50.0, axis=1)\n",
    "y_95_upper = np.percentile(y, 97.5, axis=1)"
   ]
  },
  {
   "cell_type": "code",
   "execution_count": 10,
   "metadata": {},
   "outputs": [
    {
     "data": {
      "image/png": "[encoded data removed]",
      "text/plain": [
       "<Figure size 43.2x43.2 with 1 Axes>"
      ]
     },
     "metadata": {
      "needs_background": "light"
     },
     "output_type": "display_data"
    }
   ],
   "source": [
    "# compute model histogram over all models\n",
    "# naive_y = y.copy()\n",
    "plt.rcParams.update({'figure.figsize': (0.6, 0.6)})\n",
    "ax = plt.gca()\n",
    "ax.spines['top'].set_visible(False)\n",
    "ax.spines['right'].set_visible(False)\n",
    "ax.spines['bottom'].set_visible(True)\n",
    "ax.spines['left'].set_visible(True)\n",
    "\n",
    "linelow = 44*y_95_lower/sim_n\n",
    "line = 44*y_median/sim_n\n",
    "lineupp = 44*y_95_upper/sim_n\n",
    "errlow = line-linelow\n",
    "errupp = lineupp-line\n",
    "\n",
    "plt.fill_between(range(count_max), linelow, line, color=cnaive, alpha=0.2, linewidth=0.0, zorder=100)\n",
    "# plt.plot(range(count_max), line, color=cnaive, zorder=200, linewidth=1.0)\n",
    "plt.fill_between(range(count_max), line, lineupp, color=cnaive, alpha=0.2, linewidth=0.0, zorder=100) #,\n",
    "#                 label='Models')\n",
    "cutplot = 3\n",
    "plt.errorbar(list(range(count_max))[:cutplot], line[:cutplot], yerr=np.array([errlow, errupp])[:, :cutplot],\n",
    "            color=cnaive, linewidth=1.0, capsize=1.0,\n",
    "             zorder=100, markersize=2, fmt='.', label='Inference\\n(Moments)')\n",
    "\n",
    "plt.hist(res[0].data.data_counts[:, 1, -1], bins=np.linspace(-0.5, 9.5, num=11), \n",
    "         color='black', alpha=0.1, label='Data')\n",
    "plt.xticks([0, 1, 2])\n",
    "plt.xlim(None, 3)\n",
    "plt.ylim(-1.5, None)\n",
    "plt.tick_params(left=False, labelleft=False)\n",
    "plt.xlabel('CD44- cells')\n",
    "plt.ylabel('Microwells')\n",
    "plt.legend()\n",
    "plt.savefig(f'paper_figures/hist_cd44_naive_bands_thin4meanfit_small.pdf', bbox_inches='tight') # _thin4"
   ]
  },
  {
   "cell_type": "code",
   "execution_count": 11,
   "metadata": {},
   "outputs": [
    {
     "data": {
      "image/png": "[encoded data removed]",
      "text/plain": [
       "<Figure size 43.2x43.2 with 1 Axes>"
      ]
     },
     "metadata": {
      "needs_background": "light"
     },
     "output_type": "display_data"
    }
   ],
   "source": [
    "# compute model histogram over all models\n",
    "active_y = y.copy()\n",
    "plt.rcParams.update({'figure.figsize': (0.6, 0.6)})\n",
    "ax = plt.gca()\n",
    "ax.spines['top'].set_visible(False)\n",
    "ax.spines['right'].set_visible(False)\n",
    "ax.spines['bottom'].set_visible(True)\n",
    "ax.spines['left'].set_visible(True)\n",
    "\n",
    "linelow = 44*y_95_lower/sim_n\n",
    "line = 44*y_median/sim_n\n",
    "lineupp = 44*y_95_upper/sim_n\n",
    "errlow = line-linelow\n",
    "errupp = lineupp-line\n",
    "\n",
    "plt.fill_between(range(count_max), linelow, line, color=cactiv, alpha=0.2, linewidth=0.0, zorder=100)\n",
    "# plt.plot(range(count_max), line, color=cactiv, zorder=200, linewidth=1.0)\n",
    "plt.fill_between(range(count_max), line, lineupp, color=cactiv, alpha=0.2, linewidth=0.0, zorder=100) #,\n",
    "#                 label='Model')\n",
    "\n",
    "cutplot = 10\n",
    "plt.errorbar(list(range(count_max))[:cutplot], line[:cutplot], \n",
    "             yerr=np.array([errlow, errupp])[:, :cutplot],\n",
    "            color=cactiv, linewidth=1.0, capsize=1.0,\n",
    "             zorder=100, markersize=2, fmt='.', label='Inference\\n(Moments)')\n",
    "\n",
    "plt.hist(res[0].data.data_counts[:, 0, -1], bins=np.linspace(-0.5, 9.5, num=11), \n",
    "         color='black', alpha=0.1, label='Data')\n",
    "\n",
    "plt.xlim(-1, 10)\n",
    "plt.tick_params(left=False, labelleft=False)\n",
    "plt.xlabel('CD44+ cells')\n",
    "plt.ylabel('Microwells')\n",
    "plt.legend()\n",
    "plt.savefig(f'paper_figures/hist_cd44_active_band_thin4meanfit_small.pdf', bbox_inches='tight') # _thin4"
   ]
  },
  {
   "cell_type": "code",
   "execution_count": 9,
   "metadata": {},
   "outputs": [],
   "source": [
    "# save naive_y and active_y for replotting\n",
    "# with open('waiting_times_files/inf_cell_counts_minimal2_par2_par3_thin4meanfit_naive_y.pickle', 'wb') as file_: # in_silico_estimation\n",
    "#     pickle.dump(naive_y, file_)\n",
    "# with open('waiting_times_files/inf_cell_counts_minimal2_par2_par3_thin4meanfit_active_y.pickle', 'wb') as file_: # in_silico_estimation\n",
    "#     pickle.dump(active_y, file_)\n",
    "\n",
    "# load from these files to use as 'y' for above plots\n",
    "# inf_cell_counts_minimal2_par2_par3_sigma022_naive_y\n",
    "# inf_cell_counts_minimal2_par2_par3_sigma022_active_y\n",
    "y = pickle.load(open('waiting_times_files/inf_cell_counts_minimal2_par2_par3_thin4meanfit_active_y.pickle', 'rb'))"
   ]
  },
  {
   "cell_type": "markdown",
   "metadata": {},
   "source": [
    "##### event analysis\n",
    "full, thin4, meanfit, thin4+meanfit"
   ]
  },
  {
   "cell_type": "code",
   "execution_count": 2,
   "metadata": {},
   "outputs": [],
   "source": [
    "# always use full data:\n",
    "data = pickle.load(open('waiting_times_files/count_data_cd44_manual_counting_18_01_14_filtered_sigma022.pickle', 'rb'))"
   ]
  },
  {
   "cell_type": "code",
   "execution_count": 3,
   "metadata": {},
   "outputs": [],
   "source": [
    "data.events_find_all()"
   ]
  },
  {
   "cell_type": "code",
   "execution_count": 4,
   "metadata": {},
   "outputs": [
    {
     "name": "stdout",
     "output_type": "stream",
     "text": [
      "84.0909090909091\n",
      "81.81818181818181\n",
      "70.45454545454545\n",
      "68.18181818181819\n",
      "61.36363636363637\n",
      "45.45454545454545\n"
     ]
    }
   ],
   "source": [
    "print(event_percentage(data.event_all_first_change_from_inital_conditions))\n",
    "print(event_percentage(data.event_all_first_cell_type_conversion))\n",
    "print(event_percentage(data.event_all_first_cell_count_increase))\n",
    "print(event_percentage(data.event_all_first_cell_count_increase_after_cell_type_conversion))\n",
    "print(event_percentage(data.event_all_second_cell_count_increase_after_first_cell_count_increase_after_cell_type_conversion))\n",
    "print(event_percentage(data.event_all_third_cell_count_increase_after_first_and_second_cell_count_increase_after_cell_type_conversion))"
   ]
  },
  {
   "cell_type": "code",
   "execution_count": 5,
   "metadata": {},
   "outputs": [],
   "source": [
    "# events of the data\n",
    "e_act_data = event_percentage(data.event_all_first_cell_type_conversion)\n",
    "e_div1_data = event_percentage(data.event_all_first_cell_count_increase_after_cell_type_conversion)\n",
    "e_div2_data = event_percentage(data.event_all_second_cell_count_increase_after_first_cell_count_increase_after_cell_type_conversion)\n",
    "e_div3_data = event_percentage(data.event_all_third_cell_count_increase_after_first_and_second_cell_count_increase_after_cell_type_conversion)"
   ]
  },
  {
   "cell_type": "code",
   "execution_count": 6,
   "metadata": {},
   "outputs": [
    {
     "name": "stdout",
     "output_type": "stream",
     "text": [
      "81.81818181818181 70.45454545454545 93.18181818181819\n",
      "68.18181818181819 54.54545454545455 81.81818181818181\n",
      "61.36363636363637 47.72727272727273 75.0\n",
      "45.45454545454545 31.818181818181817 61.36363636363637\n"
     ]
    }
   ],
   "source": [
    "# bootstrapping of microwells to get 95% uncertainty intervals for data events\n",
    "nwells = data.data_counts.shape[0]\n",
    "inds = np.array(range(0, nwells))\n",
    "nsamples = 5000\n",
    "\n",
    "e_act_data_samples = np.zeros(nsamples)\n",
    "e_div1_data_samples = np.zeros(nsamples)\n",
    "e_div2_data_samples = np.zeros(nsamples)\n",
    "e_div3_data_samples = np.zeros(nsamples)\n",
    "\n",
    "variables = data.data_variables\n",
    "time_values = data.data_time_values\n",
    "\n",
    "for i in range(nsamples):\n",
    "    wellinds = np.random.choice(inds, replace=True, size=nwells)\n",
    "    data_counts_sample = np.copy(data.data_counts[wellinds, :, :])\n",
    "    \n",
    "    data_btstrp = me.Data('data_btstrp')\n",
    "    data_btstrp.load(variables, time_values, data_counts_sample, bootstrap_samples=2)\n",
    "    data_btstrp.events_find_all()\n",
    "    \n",
    "    e_act_data_samples[i] = event_percentage(data_btstrp.event_all_first_cell_type_conversion)\n",
    "    e_div1_data_samples[i] = event_percentage(data_btstrp.event_all_first_cell_count_increase_after_cell_type_conversion)\n",
    "    e_div2_data_samples[i] = event_percentage(data_btstrp.event_all_second_cell_count_increase_after_first_cell_count_increase_after_cell_type_conversion)\n",
    "    e_div3_data_samples[i] = event_percentage(data_btstrp.event_all_third_cell_count_increase_after_first_and_second_cell_count_increase_after_cell_type_conversion)\n",
    "    \n",
    "print(np.percentile(e_act_data_samples, 50.0), np.percentile(e_act_data_samples, 2.5), np.percentile(e_act_data_samples, 97.5))\n",
    "print(np.percentile(e_div1_data_samples, 50.0), np.percentile(e_div1_data_samples, 2.5), np.percentile(e_div1_data_samples, 97.5))\n",
    "print(np.percentile(e_div2_data_samples, 50.0), np.percentile(e_div2_data_samples, 2.5), np.percentile(e_div2_data_samples, 97.5))\n",
    "print(np.percentile(e_div3_data_samples, 50.0), np.percentile(e_div3_data_samples, 2.5), np.percentile(e_div3_data_samples, 97.5))"
   ]
  },
  {
   "cell_type": "code",
   "execution_count": 7,
   "metadata": {},
   "outputs": [
    {
     "name": "stdout",
     "output_type": "stream",
     "text": [
      "100 288 588 976\n"
     ]
    }
   ],
   "source": [
    "# ADAPT INPUT FILES HERE\n",
    "res1 = pickle.load(open('waiting_times_files/estimation_count_data_cd44_filtered_thin4_minimal2_meanfit.pickle', 'rb'))\n",
    "res2 = pickle.load(open('waiting_times_files/estimation_count_data_cd44_filtered_thin4_par2_meanfit.pickle', 'rb'))\n",
    "res3 = pickle.load(open('waiting_times_files/estimation_count_data_cd44_filtered_thin4_par3_meanfit.pickle', 'rb'))\n",
    "res = res1 + res2 + res3\n",
    "print(len(res1), len(res2), len(res3), len(res))\n",
    "\n",
    "net_names = [est.net.net_name for est in res]\n",
    "model_probs = me.selection.compute_model_probabilities(res)"
   ]
  },
  {
   "cell_type": "code",
   "execution_count": 8,
   "metadata": {},
   "outputs": [
    {
     "name": "stdout",
     "output_type": "stream",
     "text": [
      "1.000000000000017\n",
      "976\n"
     ]
    }
   ],
   "source": [
    "# set model prior to give classes same weight\n",
    "mprior = np.array([0.25] + [0.25/99]*99 + [0.25/288]*288 + [0.25/588]*588)\n",
    "print(sum(mprior))\n",
    "print(len(mprior))"
   ]
  },
  {
   "cell_type": "code",
   "execution_count": 9,
   "metadata": {},
   "outputs": [
    {
     "name": "stdout",
     "output_type": "stream",
     "text": [
      "['A_t', 'M_t']\n",
      "[ 0.  2.  4.  6.  8. 10. 12. 14. 16. 18. 20. 22. 24. 26. 28. 30. 32. 34.\n",
      " 36. 38. 40. 42. 44. 46. 48. 50. 52. 54.]\n"
     ]
    }
   ],
   "source": [
    "print(data.data_variables)\n",
    "print(data.data_time_values)\n",
    "time_values = data.data_time_values"
   ]
  },
  {
   "cell_type": "code",
   "execution_count": 10,
   "metadata": {},
   "outputs": [
    {
     "name": "stdout",
     "output_type": "stream",
     "text": [
      "0\n",
      "20\n",
      "40\n",
      "60\n",
      "80\n",
      "100\n",
      "120\n",
      "140\n",
      "160\n",
      "180\n",
      "200\n",
      "220\n",
      "240\n",
      "260\n",
      "280\n",
      "300\n",
      "320\n",
      "340\n",
      "360\n",
      "380\n",
      "400\n",
      "420\n",
      "440\n",
      "460\n",
      "480\n",
      "500\n",
      "520\n",
      "540\n",
      "560\n",
      "580\n",
      "600\n",
      "620\n",
      "640\n",
      "660\n",
      "680\n",
      "700\n",
      "720\n",
      "740\n",
      "760\n",
      "780\n",
      "800\n",
      "820\n",
      "840\n",
      "860\n",
      "880\n",
      "900\n",
      "920\n",
      "940\n",
      "960\n",
      "980\n",
      "[654.   0. 162. 184.]\n"
     ]
    }
   ],
   "source": [
    "# paper run should be like: res, 1000, 500, mprior\n",
    "\n",
    "# NOTE: for correct event calculations provide the same time_values for all analyses\n",
    "# (e.g., if time_values too sparse some activation events will not be counted with the current detect method)\n",
    "(e_act_model_samples, e_div1_model_samples,\n",
    "    e_div2_model_samples, e_div3_model_samples) = event_model_samples(\n",
    "                                            res, 1000, 500, time_values, mprior) # 1000, 500"
   ]
  },
  {
   "cell_type": "code",
   "execution_count": 13,
   "metadata": {},
   "outputs": [],
   "source": [
    "# CHANGE NAMES HERE FOR LOAD (/SAVE)\n",
    "# save these event files for later reusage\n",
    "# with open('waiting_times_files/inf_events_minimal2_par2_par3_thin4meanfit_act_div123_samples.pickle', 'wb') as file_: # in_silico_estimation\n",
    "#     pickle.dump((e_act_model_samples, e_div1_model_samples,\n",
    "#     e_div2_model_samples, e_div3_model_samples), file_)\n",
    "\n",
    "# load them for replotting\n",
    "(e_act_model_samples, e_div1_model_samples,\n",
    " e_div2_model_samples, e_div3_model_samples) = pickle.load(open('waiting_times_files/inf_events_minimal2_par2_par3_thin4meanfit_act_div123_samples.pickle', 'rb'))"
   ]
  },
  {
   "cell_type": "code",
   "execution_count": 14,
   "metadata": {},
   "outputs": [
    {
     "data": {
      "image/png": "[encoded data removed]",
      "text/plain": [
       "<Figure size 72x43.2 with 1 Axes>"
      ]
     },
     "metadata": {
      "needs_background": "light"
     },
     "output_type": "display_data"
    }
   ],
   "source": [
    "# plot copied from plot comment (fig_dots_w_mult_bars)\n",
    "val_obj = np.array([\n",
    "        np.array([[e_act_data, e_act_data - np.percentile(e_act_data_samples, 2.5), np.percentile(e_act_data_samples, 97.5) - e_act_data], \n",
    "                  [np.percentile(e_act_model_samples, 50.0), np.percentile(e_act_model_samples, 50.0) - np.percentile(e_act_model_samples, 2.5), np.percentile(e_act_model_samples, 97.5) - np.percentile(e_act_model_samples, 50.0)]]),\n",
    "        np.array([[e_div1_data, e_div1_data - np.percentile(e_div1_data_samples, 2.5), np.percentile(e_div1_data_samples, 97.5) - e_div1_data], \n",
    "                  [np.percentile(e_div1_model_samples, 50.0), np.percentile(e_div1_model_samples, 50.0) - np.percentile(e_div1_model_samples, 2.5), np.percentile(e_div1_model_samples, 97.5) - np.percentile(e_div1_model_samples, 50.0)]]),\n",
    "        np.array([[e_div2_data, e_div2_data - np.percentile(e_div2_data_samples, 2.5), np.percentile(e_div2_data_samples, 97.5) - e_div2_data], \n",
    "                  [np.percentile(e_div2_model_samples, 50.0), np.percentile(e_div2_model_samples, 50.0) - np.percentile(e_div2_model_samples, 2.5), np.percentile(e_div2_model_samples, 97.5) - np.percentile(e_div2_model_samples, 50.0)]]),\n",
    "        np.array([[e_div3_data, e_div3_data - np.percentile(e_div3_data_samples, 2.5), np.percentile(e_div3_data_samples, 97.5) - e_div3_data], \n",
    "                  [np.percentile(e_div3_model_samples, 50.0), np.percentile(e_div3_model_samples, 50.0) - np.percentile(e_div3_model_samples, 2.5), np.percentile(e_div3_model_samples, 97.5) - np.percentile(e_div3_model_samples, 50.0)]])\n",
    "        ], dtype=object)\n",
    "\n",
    "attributes = {0: ('Activation', [cwact, cwact]),\n",
    "              1: ('Division 1', [cwdiv, cwdiv]),\n",
    "              2: ('Division 2', [cwdiv, cwdiv]),\n",
    "              3: ('Division 3', [cwdiv, cwdiv])}\n",
    "\n",
    "legend_attr = [('blue', 'x'), ('limegreen', 'y'), ('red', 'z')]\n",
    "\n",
    "# initialise figure and axis settings\n",
    "plt.rcParams.update({'figure.figsize': (1.0, 0.6)})\n",
    "\n",
    "plt.figure()\n",
    "\n",
    "ax = plt.gca()\n",
    "ax.spines['top'].set_visible(False)\n",
    "ax.spines['right'].set_visible(False)\n",
    "ax.spines['bottom'].set_visible(True)\n",
    "ax.spines['left'].set_visible(True)\n",
    "\n",
    "# actual plotting\n",
    "for val_ind in range(val_obj.shape[0]):\n",
    "    color_list = attributes[val_ind][1]\n",
    "    dots_per_categ = val_obj[val_ind].shape[0]\n",
    "\n",
    "    if dots_per_categ == 1:\n",
    "        x_pos = [val_ind + 1]\n",
    "    elif dots_per_categ == 2:\n",
    "        x_pos = [val_ind + 1 - 0.2, val_ind + 1 + 0.2]\n",
    "    elif dots_per_categ == 3:\n",
    "        x_pos = [val_ind + 1 - 0.2, val_ind + 1, val_ind + 1 + 0.2]\n",
    "\n",
    "    for dot_ind in range(dots_per_categ):\n",
    "        plt.errorbar(x_pos[dot_ind], val_obj[val_ind][dot_ind, 0],\n",
    "                    yerr=val_obj[val_ind][dot_ind, 1:].reshape(2,1),\n",
    "                    fmt='^' if dot_ind==0 else 'o', capsize=1, elinewidth=0.7, markeredgewidth=0.7,\n",
    "                    markersize=2, markeredgecolor=color_list[dot_ind],\n",
    "                    color=color_list[dot_ind], ecolor='lightgrey', zorder=1000,\n",
    "                    label=['Data', 'Inference\\n(Moments)'][dot_ind] if val_ind==0 else None)\n",
    "\n",
    "# add x axis ticks\n",
    "plt.xticks([val_ind + 1 for val_ind in range(val_obj.shape[0])],\n",
    "                [attributes[val_ind][0] for val_ind in range(val_obj.shape[0])], rotation=55)\n",
    "\n",
    "# add legend manually\n",
    "# plt.legend(handles=[mpatches.Patch(color=leg[0], label=leg[1]) for leg in legend_attr])\n",
    "plt.legend(frameon=False, loc='upper right')\n",
    "\n",
    "plt.ylim(0, 100) # ylim(35, 90)\n",
    "plt.ylabel('% Microwells')\n",
    "plt.savefig('paper_figures/event_analysis_thin4meanfit.pdf', bbox_inches='tight')"
   ]
  },
  {
   "cell_type": "code",
   "execution_count": null,
   "metadata": {},
   "outputs": [],
   "source": []
  }
 ],
 "metadata": {
  "kernelspec": {
   "display_name": "Python 3",
   "language": "python",
   "name": "python3"
  },
  "language_info": {
   "codemirror_mode": {
    "name": "ipython",
    "version": 3
   },
   "file_extension": ".py",
   "mimetype": "text/x-python",
   "name": "python",
   "nbconvert_exporter": "python",
   "pygments_lexer": "ipython3",
   "version": "3.7.4"
  }
 },
 "nbformat": 4,
 "nbformat_minor": 4
}
