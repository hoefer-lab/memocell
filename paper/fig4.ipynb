{
 "cells": [
  {
   "cell_type": "markdown",
   "metadata": {},
   "source": [
    "#### Figure 4"
   ]
  },
  {
   "cell_type": "markdown",
   "metadata": {},
   "source": [
    "##### Package imports, figure settings, color definitions\n",
    "<img src=\"color_pal.png\" width=\"500\">"
   ]
  },
  {
   "cell_type": "code",
   "execution_count": 2,
   "metadata": {},
   "outputs": [
    {
     "name": "stderr",
     "output_type": "stream",
     "text": [
      "/Users/mlanghinrichs/Documents/Studium/MSc/09_hiwi_hoefer/01_project/memo_py/memo_py/selection.py:18: TqdmExperimentalWarning: Using `tqdm.autonotebook.tqdm` in notebook mode. Use `tqdm.tqdm` instead to force console mode (e.g. in jupyter console)\n",
      "  from tqdm.autonotebook import tqdm\n"
     ]
    },
    {
     "data": {
      "image/png": "[encoded data removed]",
      "text/plain": [
       "<Figure size 504x72 with 1 Axes>"
      ]
     },
     "metadata": {
      "needs_background": "light"
     },
     "output_type": "display_data"
    },
    {
     "data": {
      "image/png": "[encoded data removed]",
      "text/plain": [
       "<Figure size 216x72 with 1 Axes>"
      ]
     },
     "metadata": {
      "needs_background": "light"
     },
     "output_type": "display_data"
    },
    {
     "data": {
      "image/png": "[encoded data removed]",
      "text/plain": [
       "<Figure size 216x72 with 1 Axes>"
      ]
     },
     "metadata": {
      "needs_background": "light"
     },
     "output_type": "display_data"
    },
    {
     "data": {
      "image/png": "[encoded data removed]",
      "text/plain": [
       "<Figure size 216x72 with 1 Axes>"
      ]
     },
     "metadata": {
      "needs_background": "light"
     },
     "output_type": "display_data"
    },
    {
     "data": {
      "image/png": "[encoded data removed]",
      "text/plain": [
       "<Figure size 216x72 with 1 Axes>"
      ]
     },
     "metadata": {
      "needs_background": "light"
     },
     "output_type": "display_data"
    },
    {
     "data": {
      "image/png": "[encoded data removed]",
      "text/plain": [
       "<Figure size 216x72 with 1 Axes>"
      ]
     },
     "metadata": {
      "needs_background": "light"
     },
     "output_type": "display_data"
    },
    {
     "data": {
      "image/png": "[encoded data removed]",
      "text/plain": [
       "<Figure size 216x72 with 1 Axes>"
      ]
     },
     "metadata": {
      "needs_background": "light"
     },
     "output_type": "display_data"
    },
    {
     "data": {
      "image/png": "[encoded data removed]",
      "text/plain": [
       "<Figure size 216x72 with 1 Axes>"
      ]
     },
     "metadata": {
      "needs_background": "light"
     },
     "output_type": "display_data"
    },
    {
     "data": {
      "image/png": "[encoded data removed]",
      "text/plain": [
       "<Figure size 216x72 with 1 Axes>"
      ]
     },
     "metadata": {
      "needs_background": "light"
     },
     "output_type": "display_data"
    }
   ],
   "source": [
    "%matplotlib inline\n",
    "%run settings_load.py"
   ]
  },
  {
   "cell_type": "markdown",
   "metadata": {},
   "source": [
    "##### Network scheme"
   ]
  },
  {
   "cell_type": "code",
   "execution_count": 24,
   "metadata": {},
   "outputs": [
    {
     "data": {
      "image/png": "[encoded data removed]",
      "text/plain": [
       "<IPython.core.display.Image object>"
      ]
     },
     "metadata": {},
     "output_type": "display_data"
    }
   ],
   "source": [
    "res = pickle.load(open('estimation_count_data_cd44_filtered_sigma022_minimal2.pickle', 'rb'))\n",
    "net = res[0].net\n",
    "\n",
    "# need hex colors here\n",
    "# \"#FF1F5B\", \"#00CD6C\", \"#009ADE\"\n",
    "node_settings = {\n",
    "    'M_t': {'label': 'M_t', 'color': \"#009ADE\"}, # \"#FFC61E\", \"#009ADE\"\n",
    "    'A_t': {'label': 'A_t', 'color': \"#00CD6C\"}\n",
    "}\n",
    "me.plots.net_main_plot(net, node_settings=node_settings, save='paper_figures/model_scheme_cd44.pdf')\n",
    "# me.plots.net_hidden_plot(net, layout='dot')"
   ]
  },
  {
   "cell_type": "markdown",
   "metadata": {},
   "source": [
    "##### Cell number histograms"
   ]
  },
  {
   "cell_type": "code",
   "execution_count": 7,
   "metadata": {},
   "outputs": [],
   "source": [
    "data = pickle.load(open('count_data_cd44_manual_counting_18_01_14_filtered_sigma022.pickle', 'rb'))"
   ]
  },
  {
   "cell_type": "code",
   "execution_count": 7,
   "metadata": {},
   "outputs": [
    {
     "data": {
      "image/png": "[encoded data removed]",
      "text/plain": [
       "<Figure size 57.6x57.6 with 1 Axes>"
      ]
     },
     "metadata": {
      "needs_background": "light"
     },
     "output_type": "display_data"
    }
   ],
   "source": [
    "plt.rcParams.update({'figure.figsize': (0.8, 0.8)})\n",
    "time_index = -1 # last time point\n",
    "settings = {\n",
    "    'M_t': {'label': 'CD44-', 'color': cnaive, 'opacity': 0.5},\n",
    "    'A_t': {'label': 'CD44+', 'color': cactiv, 'opacity': 0.5}\n",
    "    }\n",
    "me.plots.data_hist_variables_plot(data, time_index, normalised=False, settings=settings,\n",
    "                                  x_label='Cell number (54 hours)', save='paper_figures/data_cd44_count_hist.pdf')"
   ]
  },
  {
   "cell_type": "code",
   "execution_count": 8,
   "metadata": {},
   "outputs": [],
   "source": [
    "# best phase-type model\n",
    "res1 = pickle.load(open('estimation_count_data_cd44_filtered_sigma022_par3.pickle', 'rb'))\n",
    "res2 = pickle.load(open('estimation_count_data_cd44_filtered_sigma022_minimal2.pickle', 'rb'))\n",
    "\n",
    "# res = pickle.load(open('estimation_count_data_cd44_filtered_thin4_par3.pickle', 'rb'))\n",
    "\n",
    "res = res1 + res2\n",
    "net_names = [est.net.net_name for est in res]\n",
    "model_probs = me.selection.compute_model_probabilities(res)"
   ]
  },
  {
   "cell_type": "code",
   "execution_count": 49,
   "metadata": {},
   "outputs": [
    {
     "data": {
      "text/plain": [
       "{'theta_0': 'alpha_F',\n",
       " 'theta_1': 'alpha_S',\n",
       " 'theta_2': 'alpha_T',\n",
       " 'theta_3': 'lambda'}"
      ]
     },
     "execution_count": 49,
     "metadata": {},
     "output_type": "execute_result"
    }
   ],
   "source": [
    "res[0].net.net_rates_identifier"
   ]
  },
  {
   "cell_type": "code",
   "execution_count": 50,
   "metadata": {},
   "outputs": [
    {
     "name": "stdout",
     "output_type": "stream",
     "text": [
      "348 net_alphaF6_alphaS6_alphaT6_lambda14\n",
      "397 net_alphaF6_alphaS8_alphaT14_lambda14\n",
      "475 net_alphaF8_alphaS8_alphaT18_lambda18\n"
     ]
    }
   ],
   "source": [
    "# best model\n",
    "est_i = list(model_probs).index(max(model_probs))\n",
    "print(est_i, net_names[est_i])\n",
    "\n",
    "# 9th best model\n",
    "sort_inds = np.array(- model_probs).argsort()\n",
    "net_names_sorted = np.array(net_names)[sort_inds]\n",
    "model_probs_sorted = np.array(model_probs)[sort_inds]\n",
    "est_i = net_names.index(net_names_sorted[8])\n",
    "print(est_i, net_names[est_i])\n",
    "\n",
    "# 5th best model\n",
    "sort_inds = np.array(- model_probs).argsort()\n",
    "net_names_sorted = np.array(net_names)[sort_inds]\n",
    "model_probs_sorted = np.array(model_probs)[sort_inds]\n",
    "est_i = net_names.index(net_names_sorted[4])\n",
    "print(est_i, net_names[est_i])"
   ]
  },
  {
   "cell_type": "code",
   "execution_count": 43,
   "metadata": {},
   "outputs": [
    {
     "name": "stdout",
     "output_type": "stream",
     "text": [
      "net_3_20\n"
     ]
    }
   ],
   "source": [
    "est = res[59]\n",
    "print(est.net.net_name)"
   ]
  },
  {
   "cell_type": "code",
   "execution_count": 24,
   "metadata": {},
   "outputs": [],
   "source": [
    "num_iter = 1000 # 10000\n",
    "theta_rand = np.random.choice(est.bay_est_samples_weighted.shape[0], num_iter)\n",
    "time_values = est.data.data_time_values\n",
    "initial_values = {'N_t': 1, 'A_t': 0, 'P1_t': 0, 'P2_t': 0, 'P3_t': 0}\n",
    "variables = {'M_t': ('N_t', 'P1_t', 'P2_t', 'P3_t'), 'A_t': ('A_t', )}\n",
    "\n",
    "sim = me.Simulation(est.net)\n",
    "res_list = list()"
   ]
  },
  {
   "cell_type": "code",
   "execution_count": 25,
   "metadata": {},
   "outputs": [],
   "source": [
    "for i in range(num_iter):\n",
    "    a1, a2, a3, l = est.bay_est_samples_weighted[theta_rand[i], :]\n",
    "    theta_values = {'alpha_F': a1, 'alpha_S': a2, \n",
    "                    'alpha_T': a3, 'lambda': l}\n",
    "    \n",
    "    res_list.append(sim.simulate('gillespie', initial_values, theta_values, time_values, variables)[1])\n",
    "\n",
    "in_silico_counts = np.array(res_list)"
   ]
  },
  {
   "cell_type": "code",
   "execution_count": 26,
   "metadata": {},
   "outputs": [],
   "source": [
    "data = me.Data('data_best_phase_model')\n",
    "data.load(['A_t', 'M_t'], time_values, in_silico_counts, bootstrap_samples=1000, basic_sigma=1.0/num_iter)"
   ]
  },
  {
   "cell_type": "code",
   "execution_count": 36,
   "metadata": {},
   "outputs": [
    {
     "data": {
      "image/png": "[encoded data removed]",
      "text/plain": [
       "<Figure size 86.4x57.6 with 1 Axes>"
      ]
     },
     "metadata": {
      "needs_background": "light"
     },
     "output_type": "display_data"
    },
    {
     "data": {
      "image/png": "[encoded data removed]",
      "text/plain": [
       "<Figure size 86.4x57.6 with 1 Axes>"
      ]
     },
     "metadata": {
      "needs_background": "light"
     },
     "output_type": "display_data"
    },
    {
     "data": {
      "image/png": "[encoded data removed]",
      "text/plain": [
       "<Figure size 86.4x57.6 with 1 Axes>"
      ]
     },
     "metadata": {
      "needs_background": "light"
     },
     "output_type": "display_data"
    }
   ],
   "source": [
    "plt.rcParams.update({'figure.figsize': (1.2, 0.8)})\n",
    "me.plots.data_mean_plot(data, save='paper_figures/data_in_sil_5thbestPH_mean.pdf')\n",
    "me.plots.data_variance_plot(data, save='paper_figures/data_in_sil_5thbestPH_var.pdf')\n",
    "me.plots.data_covariance_plot(data, save='paper_figures/data_in_sil_5thbestPH_cov.pdf')"
   ]
  },
  {
   "cell_type": "code",
   "execution_count": 27,
   "metadata": {},
   "outputs": [
    {
     "data": {
      "image/png": "[encoded data removed]",
      "text/plain": [
       "<Figure size 57.6x57.6 with 1 Axes>"
      ]
     },
     "metadata": {
      "needs_background": "light"
     },
     "output_type": "display_data"
    }
   ],
   "source": [
    "plt.rcParams.update({'figure.figsize': (0.8, 0.8)})\n",
    "time_index = -1 # last time point\n",
    "settings = {\n",
    "    'M_t': {'label': 'CD44-', 'color': cnaive, 'opacity': 0.5},\n",
    "    'A_t': {'label': 'CD44+', 'color': cactiv, 'opacity': 0.5}\n",
    "    }\n",
    "me.plots.data_hist_variables_plot(data, time_index, normalised=False, settings=settings,\n",
    "                                  x_label='Cell number (54 hours)', \n",
    "                                  save='paper_figures/data_cd44_count_hist_5thPHmodel.pdf')"
   ]
  },
  {
   "cell_type": "code",
   "execution_count": 32,
   "metadata": {},
   "outputs": [
    {
     "data": {
      "image/png": "[encoded data removed]",
      "text/plain": [
       "<Figure size 86.4x57.6 with 1 Axes>"
      ]
     },
     "metadata": {
      "needs_background": "light"
     },
     "output_type": "display_data"
    }
   ],
   "source": [
    "plt.rcParams.update({'figure.figsize': (1.2, 0.8)})\n",
    "ax = plt.gca()\n",
    "ax.spines['top'].set_visible(False)\n",
    "ax.spines['right'].set_visible(False)\n",
    "ax.spines['bottom'].set_visible(True)\n",
    "ax.spines['left'].set_visible(True)\n",
    "\n",
    "trace_emph = 0\n",
    "for trace_i in range(10): # data.data_counts.shape[0]):\n",
    "    if trace_i!=trace_emph:\n",
    "        plt.plot(data.data_time_values, data.data_counts[trace_i, 0, :], color=cactiv, alpha=0.15, linewidth=0.5)\n",
    "        plt.plot(data.data_time_values, data.data_counts[trace_i, 1, :], color=cnaive, alpha=0.15, linewidth=0.5)\n",
    "    else:\n",
    "        plt.plot(data.data_time_values, data.data_counts[trace_i, 0, :], color=cactiv, alpha=1.0, linewidth=1.0, label='CD44+', zorder=1000) # color='darkgreen'\n",
    "        plt.plot(data.data_time_values, data.data_counts[trace_i, 1, :], color=cnaive, alpha=1.0, linewidth=1.0, label='CD44-', zorder=1000) # color='darkblue'\n",
    "        \n",
    "# ax.set_ylim([-0.3, None])\n",
    "leg = plt.legend()\n",
    "plt.legend(frameon=False)\n",
    "# leg.get_frame().set_edgecolor('lightgrey')\n",
    "plt.xlabel('Time (hours)')\n",
    "plt.ylabel('Number of cells')\n",
    "plt.savefig(f'paper_figures/data_cd44_swtraces_5thbestPH.pdf', bbox_inches='tight')"
   ]
  },
  {
   "cell_type": "code",
   "execution_count": 4,
   "metadata": {},
   "outputs": [
    {
     "name": "stdout",
     "output_type": "stream",
     "text": [
      "100 288 588 976\n",
      "0\n"
     ]
    }
   ],
   "source": [
    "res1 = pickle.load(open('waiting_times_files/estimation_count_data_cd44_filtered_sigma022_minimal2.pickle', 'rb'))\n",
    "res2 = pickle.load(open('waiting_times_files/estimation_count_data_cd44_filtered_sigma022_par2.pickle', 'rb'))\n",
    "res3 = pickle.load(open('waiting_times_files/estimation_count_data_cd44_filtered_sigma022_par3_new.pickle', 'rb'))\n",
    "res = res1 + res2 + res3\n",
    "print(len(res1), len(res2), len(res3), len(res))\n",
    "\n",
    "net_names = [est.net.net_name for est in res]\n",
    "model_probs = me.selection.compute_model_probabilities(res)\n",
    "data = res[0].data\n",
    "print(sum(['alphaF' in name for name in net_names]))"
   ]
  },
  {
   "cell_type": "code",
   "execution_count": 5,
   "metadata": {},
   "outputs": [
    {
     "name": "stdout",
     "output_type": "stream",
     "text": [
      "1.000000000000017\n",
      "976\n"
     ]
    }
   ],
   "source": [
    "# set model prior to give classes same weight\n",
    "mprior = np.array([0.25] + [0.25/99]*99 + [0.25/288]*288 + [0.25/588]*588)\n",
    "print(sum(mprior))\n",
    "print(len(mprior))"
   ]
  },
  {
   "cell_type": "code",
   "execution_count": 23,
   "metadata": {
    "collapsed": true,
    "jupyter": {
     "outputs_hidden": true
    }
   },
   "outputs": [
    {
     "name": "stdout",
     "output_type": "stream",
     "text": [
      "0\n",
      "1\n",
      "2\n",
      "3\n",
      "4\n",
      "5\n",
      "6\n",
      "7\n",
      "8\n",
      "9\n",
      "10\n",
      "11\n",
      "12\n",
      "13\n",
      "14\n",
      "15\n",
      "16\n",
      "17\n",
      "18\n",
      "19\n",
      "20\n",
      "21\n",
      "22\n",
      "23\n",
      "24\n",
      "25\n",
      "26\n",
      "27\n",
      "28\n",
      "29\n",
      "30\n",
      "31\n",
      "32\n",
      "33\n",
      "34\n",
      "35\n",
      "36\n",
      "37\n",
      "38\n",
      "39\n",
      "40\n",
      "41\n",
      "42\n",
      "43\n",
      "44\n",
      "45\n",
      "46\n",
      "47\n",
      "48\n",
      "49\n",
      "50\n",
      "51\n",
      "52\n",
      "53\n",
      "54\n",
      "55\n",
      "56\n",
      "57\n",
      "58\n",
      "59\n",
      "60\n",
      "61\n",
      "62\n",
      "63\n",
      "64\n",
      "65\n",
      "66\n",
      "67\n",
      "68\n",
      "69\n",
      "70\n",
      "71\n",
      "72\n",
      "73\n",
      "74\n",
      "75\n",
      "76\n",
      "77\n",
      "78\n",
      "79\n",
      "80\n",
      "81\n",
      "82\n",
      "83\n",
      "84\n",
      "85\n",
      "86\n",
      "87\n",
      "88\n",
      "89\n",
      "90\n",
      "91\n",
      "92\n",
      "93\n",
      "94\n",
      "95\n",
      "96\n",
      "97\n",
      "98\n",
      "99\n",
      "100\n",
      "101\n",
      "102\n",
      "103\n",
      "104\n",
      "105\n",
      "106\n",
      "107\n",
      "108\n",
      "109\n",
      "110\n",
      "111\n",
      "112\n",
      "113\n",
      "114\n",
      "115\n",
      "116\n",
      "117\n",
      "118\n",
      "119\n",
      "120\n",
      "121\n",
      "122\n",
      "123\n",
      "124\n",
      "125\n",
      "126\n",
      "127\n",
      "128\n",
      "129\n",
      "130\n",
      "131\n",
      "132\n",
      "133\n",
      "134\n",
      "135\n",
      "136\n",
      "137\n",
      "138\n",
      "139\n",
      "140\n",
      "141\n",
      "142\n",
      "143\n",
      "144\n",
      "145\n",
      "146\n",
      "147\n",
      "148\n",
      "149\n",
      "150\n",
      "151\n",
      "152\n",
      "153\n",
      "154\n",
      "155\n",
      "156\n",
      "157\n",
      "158\n",
      "159\n",
      "160\n",
      "161\n",
      "162\n",
      "163\n",
      "164\n",
      "165\n",
      "166\n",
      "167\n",
      "168\n",
      "169\n",
      "170\n",
      "171\n",
      "172\n",
      "173\n",
      "174\n",
      "175\n",
      "176\n",
      "177\n",
      "178\n",
      "179\n",
      "180\n",
      "181\n",
      "182\n",
      "183\n",
      "184\n",
      "185\n",
      "186\n",
      "187\n",
      "188\n",
      "189\n",
      "190\n",
      "191\n",
      "192\n",
      "193\n",
      "194\n",
      "195\n",
      "196\n",
      "197\n",
      "198\n",
      "199\n",
      "200\n",
      "201\n",
      "202\n",
      "203\n",
      "204\n",
      "205\n",
      "206\n",
      "207\n",
      "208\n",
      "209\n",
      "210\n",
      "211\n",
      "212\n",
      "213\n",
      "214\n",
      "215\n",
      "216\n",
      "217\n",
      "218\n",
      "219\n",
      "220\n",
      "221\n",
      "222\n",
      "223\n",
      "224\n",
      "225\n",
      "226\n",
      "227\n",
      "228\n",
      "229\n",
      "230\n",
      "231\n",
      "232\n",
      "233\n",
      "234\n",
      "235\n",
      "236\n",
      "237\n",
      "238\n",
      "239\n",
      "240\n",
      "241\n",
      "242\n",
      "243\n",
      "244\n",
      "245\n",
      "246\n",
      "247\n",
      "248\n",
      "249\n",
      "250\n",
      "251\n",
      "252\n",
      "253\n",
      "254\n",
      "255\n",
      "256\n",
      "257\n",
      "258\n",
      "259\n",
      "260\n",
      "261\n",
      "262\n",
      "263\n",
      "264\n",
      "265\n",
      "266\n",
      "267\n",
      "268\n",
      "269\n",
      "270\n",
      "271\n",
      "272\n",
      "273\n",
      "274\n",
      "275\n",
      "276\n",
      "277\n",
      "278\n",
      "279\n",
      "280\n",
      "281\n",
      "282\n",
      "283\n",
      "284\n",
      "285\n",
      "286\n",
      "287\n",
      "288\n",
      "289\n",
      "290\n",
      "291\n",
      "292\n",
      "293\n",
      "294\n",
      "295\n",
      "296\n",
      "297\n",
      "298\n",
      "299\n",
      "300\n",
      "301\n",
      "302\n",
      "303\n",
      "304\n",
      "305\n",
      "306\n",
      "307\n",
      "308\n",
      "309\n",
      "310\n",
      "311\n",
      "312\n",
      "313\n",
      "314\n",
      "315\n",
      "316\n",
      "317\n",
      "318\n",
      "319\n",
      "320\n",
      "321\n",
      "322\n",
      "323\n",
      "324\n",
      "325\n",
      "326\n",
      "327\n",
      "328\n",
      "329\n",
      "330\n",
      "331\n",
      "332\n",
      "333\n",
      "334\n",
      "335\n",
      "336\n",
      "337\n",
      "338\n",
      "339\n",
      "340\n",
      "341\n",
      "342\n",
      "343\n",
      "344\n",
      "345\n",
      "346\n",
      "347\n",
      "348\n",
      "349\n",
      "350\n",
      "351\n",
      "352\n",
      "353\n",
      "354\n",
      "355\n",
      "356\n",
      "357\n",
      "358\n",
      "359\n",
      "360\n",
      "361\n",
      "362\n",
      "363\n",
      "364\n",
      "365\n",
      "366\n",
      "367\n",
      "368\n",
      "369\n",
      "370\n",
      "371\n",
      "372\n",
      "373\n",
      "374\n",
      "375\n",
      "376\n",
      "377\n",
      "378\n",
      "379\n",
      "380\n",
      "381\n",
      "382\n",
      "383\n",
      "384\n",
      "385\n",
      "386\n",
      "387\n",
      "388\n",
      "389\n",
      "390\n",
      "391\n",
      "392\n",
      "393\n",
      "394\n",
      "395\n",
      "396\n",
      "397\n",
      "398\n",
      "399\n",
      "400\n",
      "401\n",
      "402\n",
      "403\n",
      "404\n",
      "405\n",
      "406\n",
      "407\n",
      "408\n",
      "409\n",
      "410\n",
      "411\n",
      "412\n",
      "413\n",
      "414\n",
      "415\n",
      "416\n",
      "417\n",
      "418\n",
      "419\n",
      "420\n",
      "421\n",
      "422\n",
      "423\n",
      "424\n",
      "425\n",
      "426\n",
      "427\n",
      "428\n",
      "429\n",
      "430\n",
      "431\n",
      "432\n",
      "433\n",
      "434\n",
      "435\n",
      "436\n",
      "437\n",
      "438\n",
      "439\n",
      "440\n",
      "441\n",
      "442\n",
      "443\n",
      "444\n",
      "445\n",
      "446\n",
      "447\n",
      "448\n",
      "449\n",
      "450\n",
      "451\n",
      "452\n",
      "453\n",
      "454\n",
      "455\n",
      "456\n",
      "457\n",
      "458\n",
      "459\n",
      "460\n",
      "461\n",
      "462\n",
      "463\n",
      "464\n",
      "465\n",
      "466\n",
      "467\n",
      "468\n",
      "469\n",
      "470\n",
      "471\n",
      "472\n",
      "473\n",
      "474\n",
      "475\n",
      "476\n",
      "477\n",
      "478\n",
      "479\n",
      "480\n",
      "481\n",
      "482\n",
      "483\n",
      "484\n",
      "485\n",
      "486\n",
      "487\n",
      "488\n",
      "489\n",
      "490\n",
      "491\n",
      "492\n",
      "493\n",
      "494\n",
      "495\n",
      "496\n",
      "497\n",
      "498\n",
      "499\n",
      "500\n",
      "501\n",
      "502\n",
      "503\n",
      "504\n",
      "505\n",
      "506\n",
      "507\n",
      "508\n",
      "509\n",
      "510\n",
      "511\n",
      "512\n",
      "513\n",
      "514\n",
      "515\n",
      "516\n",
      "517\n",
      "518\n",
      "519\n",
      "520\n",
      "521\n",
      "522\n",
      "523\n",
      "524\n",
      "525\n",
      "526\n",
      "527\n",
      "528\n",
      "529\n",
      "530\n",
      "531\n",
      "532\n",
      "533\n",
      "534\n",
      "535\n",
      "536\n",
      "537\n",
      "538\n",
      "539\n",
      "540\n",
      "541\n",
      "542\n",
      "543\n",
      "544\n",
      "545\n",
      "546\n",
      "547\n",
      "548\n",
      "549\n",
      "550\n",
      "551\n",
      "552\n",
      "553\n",
      "554\n",
      "555\n",
      "556\n",
      "557\n",
      "558\n",
      "559\n",
      "560\n",
      "561\n",
      "562\n",
      "563\n",
      "564\n",
      "565\n",
      "566\n",
      "567\n",
      "568\n",
      "569\n",
      "570\n",
      "571\n",
      "572\n",
      "573\n",
      "574\n",
      "575\n",
      "576\n",
      "577\n",
      "578\n",
      "579\n",
      "580\n",
      "581\n",
      "582\n",
      "583\n",
      "584\n",
      "585\n",
      "586\n",
      "587\n",
      "588\n",
      "589\n",
      "590\n",
      "591\n",
      "592\n",
      "593\n",
      "594\n",
      "595\n",
      "596\n",
      "597\n",
      "598\n",
      "599\n",
      "600\n",
      "601\n",
      "602\n",
      "603\n",
      "604\n",
      "605\n",
      "606\n",
      "607\n",
      "608\n",
      "609\n",
      "610\n",
      "611\n",
      "612\n",
      "613\n",
      "614\n",
      "615\n",
      "616\n",
      "617\n",
      "618\n",
      "619\n",
      "620\n",
      "621\n",
      "622\n",
      "623\n",
      "624\n",
      "625\n",
      "626\n",
      "627\n",
      "628\n",
      "629\n",
      "630\n",
      "631\n",
      "632\n",
      "633\n",
      "634\n",
      "635\n",
      "636\n",
      "637\n",
      "638\n",
      "639\n",
      "640\n",
      "641\n",
      "642\n",
      "643\n",
      "644\n",
      "645\n",
      "646\n",
      "647\n",
      "648\n",
      "649\n",
      "650\n",
      "651\n",
      "652\n",
      "653\n",
      "654\n",
      "655\n",
      "656\n",
      "657\n",
      "658\n",
      "659\n",
      "660\n",
      "661\n",
      "662\n",
      "663\n",
      "664\n",
      "665\n",
      "666\n",
      "667\n",
      "668\n",
      "669\n",
      "670\n",
      "671\n",
      "672\n",
      "673\n",
      "674\n",
      "675\n",
      "676\n",
      "677\n",
      "678\n",
      "679\n",
      "680\n",
      "681\n",
      "682\n",
      "683\n",
      "684\n",
      "685\n",
      "686\n",
      "687\n",
      "688\n",
      "689\n",
      "690\n",
      "691\n",
      "692\n",
      "693\n",
      "694\n",
      "695\n",
      "696\n",
      "697\n",
      "698\n",
      "699\n",
      "700\n",
      "701\n",
      "702\n",
      "703\n",
      "704\n",
      "705\n",
      "706\n",
      "707\n",
      "708\n",
      "709\n",
      "710\n",
      "711\n",
      "712\n",
      "713\n",
      "714\n",
      "715\n",
      "716\n",
      "717\n",
      "718\n",
      "719\n",
      "720\n",
      "721\n",
      "722\n",
      "723\n",
      "724\n",
      "725\n",
      "726\n",
      "727\n",
      "728\n",
      "729\n",
      "730\n",
      "731\n",
      "732\n",
      "733\n",
      "734\n",
      "735\n",
      "736\n",
      "737\n",
      "738\n",
      "739\n",
      "740\n",
      "741\n",
      "742\n",
      "743\n",
      "744\n",
      "745\n",
      "746\n",
      "747\n",
      "748\n",
      "749\n",
      "750\n",
      "751\n",
      "752\n",
      "753\n",
      "754\n",
      "755\n",
      "756\n",
      "757\n",
      "758\n",
      "759\n",
      "760\n",
      "761\n",
      "762\n",
      "763\n",
      "764\n",
      "765\n",
      "766\n",
      "767\n",
      "768\n",
      "769\n",
      "770\n",
      "771\n",
      "772\n",
      "773\n",
      "774\n",
      "775\n",
      "776\n",
      "777\n",
      "778\n",
      "779\n",
      "780\n",
      "781\n",
      "782\n",
      "783\n",
      "784\n",
      "785\n",
      "786\n",
      "787\n",
      "788\n",
      "789\n",
      "790\n",
      "791\n",
      "792\n",
      "793\n",
      "794\n",
      "795\n",
      "796\n",
      "797\n",
      "798\n",
      "799\n",
      "800\n",
      "801\n",
      "802\n",
      "803\n",
      "804\n",
      "805\n",
      "806\n",
      "807\n",
      "808\n",
      "809\n",
      "810\n",
      "811\n",
      "812\n",
      "813\n",
      "814\n",
      "815\n",
      "816\n",
      "817\n",
      "818\n",
      "819\n",
      "820\n",
      "821\n",
      "822\n",
      "823\n",
      "824\n",
      "825\n",
      "826\n",
      "827\n",
      "828\n",
      "829\n",
      "830\n",
      "831\n",
      "832\n",
      "833\n",
      "834\n",
      "835\n",
      "836\n",
      "837\n",
      "838\n",
      "839\n",
      "840\n",
      "841\n",
      "842\n",
      "843\n",
      "844\n",
      "845\n",
      "846\n",
      "847\n",
      "848\n",
      "849\n",
      "850\n",
      "851\n",
      "852\n",
      "853\n",
      "854\n",
      "855\n",
      "856\n",
      "857\n",
      "858\n",
      "859\n",
      "860\n",
      "861\n",
      "862\n",
      "863\n",
      "864\n",
      "865\n",
      "866\n",
      "867\n",
      "868\n",
      "869\n",
      "870\n",
      "871\n",
      "872\n",
      "873\n",
      "874\n",
      "875\n",
      "876\n",
      "877\n",
      "878\n",
      "879\n",
      "880\n",
      "881\n",
      "882\n",
      "883\n",
      "884\n",
      "885\n",
      "886\n",
      "887\n",
      "888\n",
      "889\n",
      "890\n",
      "891\n",
      "892\n",
      "893\n",
      "894\n",
      "895\n",
      "896\n",
      "897\n",
      "898\n",
      "899\n",
      "900\n",
      "901\n",
      "902\n",
      "903\n",
      "904\n",
      "905\n",
      "906\n",
      "907\n",
      "908\n",
      "909\n",
      "910\n",
      "911\n",
      "912\n",
      "913\n",
      "914\n",
      "915\n",
      "916\n",
      "917\n",
      "918\n",
      "919\n",
      "920\n",
      "921\n",
      "922\n",
      "923\n",
      "924\n",
      "925\n",
      "926\n",
      "927\n",
      "928\n",
      "929\n",
      "930\n",
      "931\n",
      "932\n",
      "933\n",
      "934\n",
      "935\n",
      "936\n",
      "937\n",
      "938\n",
      "939\n",
      "940\n",
      "941\n",
      "942\n",
      "943\n",
      "944\n",
      "945\n",
      "946\n",
      "947\n",
      "948\n",
      "949\n",
      "950\n",
      "951\n",
      "952\n",
      "953\n",
      "954\n",
      "955\n",
      "956\n",
      "957\n",
      "958\n",
      "959\n",
      "960\n",
      "961\n",
      "962\n",
      "963\n",
      "964\n",
      "965\n",
      "966\n",
      "967\n",
      "968\n",
      "969\n",
      "970\n",
      "971\n",
      "972\n",
      "973\n",
      "974\n",
      "975\n",
      "976\n",
      "977\n",
      "978\n",
      "979\n",
      "980\n",
      "981\n",
      "982\n",
      "983\n",
      "984\n",
      "985\n",
      "986\n",
      "987\n",
      "988\n",
      "989\n",
      "990\n",
      "991\n",
      "992\n",
      "993\n",
      "994\n",
      "995\n",
      "996\n",
      "997\n",
      "998\n",
      "999\n",
      "[  0.   0. 546. 454.]\n"
     ]
    }
   ],
   "source": [
    "# res = [est]\n",
    "celltype = 1 # 0 or 1 (active, naive)\n",
    "time_point = -1 # last time point\n",
    "sample_n = 1000 # 1000 # posterior samples of cell histograms; typically 1000-10000\n",
    "sim_n = 500 # 500 # simulation repeats per given model and theta; ideally, inf\n",
    "count_max = 16\n",
    "y = hist_cell_counts_samples(res, celltype, time_point, sample_n, count_max, sim_n, mprior)"
   ]
  },
  {
   "cell_type": "code",
   "execution_count": 63,
   "metadata": {},
   "outputs": [
    {
     "name": "stdout",
     "output_type": "stream",
     "text": [
      "(16, 1000)\n"
     ]
    }
   ],
   "source": [
    "print(y.shape)\n",
    "y_95_lower = np.percentile(y, 2.5, axis=1)\n",
    "y_median = np.percentile(y, 50.0, axis=1)\n",
    "y_95_upper = np.percentile(y, 97.5, axis=1)"
   ]
  },
  {
   "cell_type": "code",
   "execution_count": 65,
   "metadata": {},
   "outputs": [
    {
     "data": {
      "image/png": "[encoded data removed]",
      "text/plain": [
       "<Figure size 57.6x57.6 with 1 Axes>"
      ]
     },
     "metadata": {
      "needs_background": "light"
     },
     "output_type": "display_data"
    }
   ],
   "source": [
    "# compute model histogram over all models\n",
    "# naive_y = y.copy()\n",
    "plt.rcParams.update({'figure.figsize': (0.8, 0.8)})\n",
    "ax = plt.gca()\n",
    "ax.spines['top'].set_visible(False)\n",
    "ax.spines['right'].set_visible(False)\n",
    "ax.spines['bottom'].set_visible(True)\n",
    "ax.spines['left'].set_visible(True)\n",
    "\n",
    "linelow = 44*y_95_lower/sim_n\n",
    "line = 44*y_median/sim_n\n",
    "lineupp = 44*y_95_upper/sim_n\n",
    "errlow = line-linelow\n",
    "errupp = lineupp-line\n",
    "\n",
    "plt.fill_between(range(count_max), linelow, line, color=cnaive, alpha=0.2, linewidth=0.0, zorder=100)\n",
    "# plt.plot(range(count_max), line, color=cnaive, zorder=200, linewidth=1.0)\n",
    "plt.fill_between(range(count_max), line, lineupp, color=cnaive, alpha=0.2, linewidth=0.0, zorder=100) #,\n",
    "#                 label='Models')\n",
    "cutplot = 3\n",
    "plt.errorbar(list(range(count_max))[:cutplot], line[:cutplot], yerr=np.array([errlow, errupp])[:, :cutplot],\n",
    "            color=cnaive, linewidth=1.0, capsize=1.0,\n",
    "             zorder=100, markersize=2, fmt='.', label='Inference\\n(Moments)')\n",
    "\n",
    "plt.hist(res[0].data.data_counts[:, 1, -1], bins=np.linspace(-0.5, 9.5, num=11), \n",
    "         color='black', alpha=0.1, label='Data')\n",
    "plt.xticks([0, 1, 2])\n",
    "plt.xlim(None, 3)\n",
    "plt.ylim(-1.5, None)\n",
    "plt.xlabel('CD44- cell number (54 hours)')\n",
    "plt.ylabel('Microwells')\n",
    "plt.legend()\n",
    "plt.savefig(f'paper_figures/hist_cd44_naive_bands.pdf', bbox_inches='tight') # _thin4"
   ]
  },
  {
   "cell_type": "code",
   "execution_count": 57,
   "metadata": {},
   "outputs": [
    {
     "data": {
      "image/png": "[encoded data removed]",
      "text/plain": [
       "<Figure size 57.6x57.6 with 1 Axes>"
      ]
     },
     "metadata": {
      "needs_background": "light"
     },
     "output_type": "display_data"
    }
   ],
   "source": [
    "# compute model histogram over all models\n",
    "# active_y = y.copy()\n",
    "plt.rcParams.update({'figure.figsize': (0.8, 0.8)})\n",
    "ax = plt.gca()\n",
    "ax.spines['top'].set_visible(False)\n",
    "ax.spines['right'].set_visible(False)\n",
    "ax.spines['bottom'].set_visible(True)\n",
    "ax.spines['left'].set_visible(True)\n",
    "\n",
    "linelow = 44*y_95_lower/sim_n\n",
    "line = 44*y_median/sim_n\n",
    "lineupp = 44*y_95_upper/sim_n\n",
    "errlow = line-linelow\n",
    "errupp = lineupp-line\n",
    "\n",
    "plt.fill_between(range(count_max), linelow, line, color=cactiv, alpha=0.2, linewidth=0.0, zorder=100)\n",
    "# plt.plot(range(count_max), line, color=cactiv, zorder=200, linewidth=1.0)\n",
    "plt.fill_between(range(count_max), line, lineupp, color=cactiv, alpha=0.2, linewidth=0.0, zorder=100) #,\n",
    "#                 label='Model')\n",
    "\n",
    "cutplot = 10\n",
    "plt.errorbar(list(range(count_max))[:cutplot], line[:cutplot], \n",
    "             yerr=np.array([errlow, errupp])[:, :cutplot],\n",
    "            color=cactiv, linewidth=1.0, capsize=1.0,\n",
    "             zorder=100, markersize=2, fmt='.', label='Inference\\n(Moments)')\n",
    "\n",
    "plt.hist(res[0].data.data_counts[:, 0, -1], bins=np.linspace(-0.5, 9.5, num=11), \n",
    "         color='black', alpha=0.1, label='Data')\n",
    "\n",
    "plt.xlim(-1, 10)\n",
    "plt.xlabel('CD44+ cell number (54 hours)')\n",
    "plt.ylabel('Microwells')\n",
    "plt.legend()\n",
    "plt.savefig(f'paper_figures/hist_cd44_active_band.pdf', bbox_inches='tight') # _thin4"
   ]
  },
  {
   "cell_type": "code",
   "execution_count": 21,
   "metadata": {},
   "outputs": [
    {
     "data": {
      "image/png": "[encoded data removed]",
      "text/plain": [
       "<Figure size 57.6x57.6 with 1 Axes>"
      ]
     },
     "metadata": {
      "needs_background": "light"
     },
     "output_type": "display_data"
    }
   ],
   "source": [
    "def bin_counts(arr):\n",
    "    # 1d input array with even length\n",
    "    # create with same length\n",
    "    arr_binned = np.zeros((arr.shape[0]))\n",
    "    \n",
    "    # loop over every second element\n",
    "    for i in range(int(arr_binned.shape[0]/2)):\n",
    "        bin_val = (arr[2*i] + arr[2*i+1])/2.0\n",
    "        arr_binned[2*i] = bin_val\n",
    "        arr_binned[2*i+1] = bin_val\n",
    "    return arr_binned\n",
    "\n",
    "y_95_lower_binned = bin_counts(y_95_lower)\n",
    "y_median_binned = bin_counts(y_median)\n",
    "y_95_upper_binned = bin_counts(y_95_upper)\n",
    "\n",
    "# compute model histogram over all models\n",
    "plt.rcParams.update({'figure.figsize': (0.8, 0.8)})\n",
    "ax = plt.gca()\n",
    "ax.spines['top'].set_visible(False)\n",
    "ax.spines['right'].set_visible(False)\n",
    "ax.spines['bottom'].set_visible(True)\n",
    "ax.spines['left'].set_visible(True)\n",
    "\n",
    "plt.fill_between(range(count_max), y_95_lower_binned/sim_n, y_median_binned/sim_n, color=cactiv, alpha=0.2, linewidth=0.0, zorder=100)\n",
    "plt.plot(range(count_max), y_median_binned/sim_n, color=cactiv, zorder=200, linewidth=1.0)\n",
    "plt.fill_between(range(count_max), y_median_binned/sim_n, y_95_upper_binned/sim_n, color=cactiv, alpha=0.2, linewidth=0.0, zorder=100)\n",
    "\n",
    "# plt.plot(range(count_max), 44*y_95_upper/sim_n, color=cactiv, zorder=100, alpha=0.5)\n",
    "# plt.plot(range(count_max), 44*y_95_lower/sim_n, color=cactiv, zorder=100, alpha=0.5)\n",
    "\n",
    "plt.hist(data.data_counts[:, 0, -1], bins=np.linspace(-0.5, 9.5, num=6), color='black', alpha=0.1, density=True)\n",
    "plt.xlim(-1, 10)\n",
    "plt.xlabel('CD44+ cell number (54 hours)')\n",
    "plt.ylabel('Probability')\n",
    "plt.savefig(f'paper_figures/hist_cd44_active_2bin.pdf', bbox_inches='tight')"
   ]
  },
  {
   "cell_type": "code",
   "execution_count": 62,
   "metadata": {},
   "outputs": [],
   "source": [
    "# save naive_y and active_y for replotting\n",
    "# with open('waiting_times_files/inf_cell_counts_minimal2_par2_par3_sigma022_naive_y.pickle', 'wb') as file_: # in_silico_estimation\n",
    "#     pickle.dump(naive_y, file_)\n",
    "# with open('waiting_times_files/inf_cell_counts_minimal2_par2_par3_sigma022_active_y.pickle', 'wb') as file_: # in_silico_estimation\n",
    "#     pickle.dump(active_y, file_)\n",
    "\n",
    "# load from these files to use as 'y' for above plots\n",
    "# inf_cell_counts_minimal2_par2_par3_sigma022_naive_y\n",
    "# inf_cell_counts_minimal2_par2_par3_sigma022_active_y\n",
    "y = pickle.load(open('waiting_times_files/inf_cell_counts_minimal2_par2_par3_sigma022_naive_y.pickle', 'rb'))"
   ]
  },
  {
   "cell_type": "markdown",
   "metadata": {},
   "source": [
    "##### Event analysis"
   ]
  },
  {
   "cell_type": "code",
   "execution_count": 33,
   "metadata": {},
   "outputs": [],
   "source": [
    "data = pickle.load(open('waiting_times_files/count_data_cd44_manual_counting_18_01_14_filtered_sigma022.pickle', 'rb'))"
   ]
  },
  {
   "cell_type": "code",
   "execution_count": 34,
   "metadata": {},
   "outputs": [],
   "source": [
    "data.events_find_all()"
   ]
  },
  {
   "cell_type": "code",
   "execution_count": 35,
   "metadata": {},
   "outputs": [
    {
     "name": "stdout",
     "output_type": "stream",
     "text": [
      "84.0909090909091\n",
      "81.81818181818181\n",
      "70.45454545454545\n",
      "68.18181818181819\n",
      "61.36363636363637\n",
      "45.45454545454545\n"
     ]
    }
   ],
   "source": [
    "print(event_percentage(data.event_all_first_change_from_inital_conditions))\n",
    "print(event_percentage(data.event_all_first_cell_type_conversion))\n",
    "print(event_percentage(data.event_all_first_cell_count_increase))\n",
    "print(event_percentage(data.event_all_first_cell_count_increase_after_cell_type_conversion))\n",
    "print(event_percentage(data.event_all_second_cell_count_increase_after_first_cell_count_increase_after_cell_type_conversion))\n",
    "print(event_percentage(data.event_all_third_cell_count_increase_after_first_and_second_cell_count_increase_after_cell_type_conversion))"
   ]
  },
  {
   "cell_type": "code",
   "execution_count": 36,
   "metadata": {},
   "outputs": [],
   "source": [
    "# events of the data\n",
    "e_act_data = event_percentage(data.event_all_first_cell_type_conversion)\n",
    "e_div1_data = event_percentage(data.event_all_first_cell_count_increase_after_cell_type_conversion)\n",
    "e_div2_data = event_percentage(data.event_all_second_cell_count_increase_after_first_cell_count_increase_after_cell_type_conversion)\n",
    "e_div3_data = event_percentage(data.event_all_third_cell_count_increase_after_first_and_second_cell_count_increase_after_cell_type_conversion)"
   ]
  },
  {
   "cell_type": "code",
   "execution_count": 37,
   "metadata": {},
   "outputs": [
    {
     "name": "stdout",
     "output_type": "stream",
     "text": [
      "81.81818181818181 70.45454545454545 93.18181818181819\n",
      "68.18181818181819 54.54545454545455 81.81818181818181\n",
      "61.36363636363637 47.72727272727273 75.0\n",
      "45.45454545454545 31.818181818181817 59.09090909090909\n"
     ]
    }
   ],
   "source": [
    "# bootstrapping of microwells to get 95% uncertainty intervals for data events\n",
    "nwells = data.data_counts.shape[0]\n",
    "inds = np.array(range(0, nwells))\n",
    "nsamples = 5000\n",
    "\n",
    "e_act_data_samples = np.zeros(nsamples)\n",
    "e_div1_data_samples = np.zeros(nsamples)\n",
    "e_div2_data_samples = np.zeros(nsamples)\n",
    "e_div3_data_samples = np.zeros(nsamples)\n",
    "\n",
    "variables = data.data_variables\n",
    "time_values = data.data_time_values\n",
    "\n",
    "for i in range(nsamples):\n",
    "    wellinds = np.random.choice(inds, replace=True, size=nwells)\n",
    "    data_counts_sample = np.copy(data.data_counts[wellinds, :, :])\n",
    "    \n",
    "    data_btstrp = me.Data('data_btstrp')\n",
    "    data_btstrp.load(variables, time_values, data_counts_sample, bootstrap_samples=2)\n",
    "    data_btstrp.events_find_all()\n",
    "    \n",
    "    e_act_data_samples[i] = event_percentage(data_btstrp.event_all_first_cell_type_conversion)\n",
    "    e_div1_data_samples[i] = event_percentage(data_btstrp.event_all_first_cell_count_increase_after_cell_type_conversion)\n",
    "    e_div2_data_samples[i] = event_percentage(data_btstrp.event_all_second_cell_count_increase_after_first_cell_count_increase_after_cell_type_conversion)\n",
    "    e_div3_data_samples[i] = event_percentage(data_btstrp.event_all_third_cell_count_increase_after_first_and_second_cell_count_increase_after_cell_type_conversion)\n",
    "    \n",
    "print(np.percentile(e_act_data_samples, 50.0), np.percentile(e_act_data_samples, 2.5), np.percentile(e_act_data_samples, 97.5))\n",
    "print(np.percentile(e_div1_data_samples, 50.0), np.percentile(e_div1_data_samples, 2.5), np.percentile(e_div1_data_samples, 97.5))\n",
    "print(np.percentile(e_div2_data_samples, 50.0), np.percentile(e_div2_data_samples, 2.5), np.percentile(e_div2_data_samples, 97.5))\n",
    "print(np.percentile(e_div3_data_samples, 50.0), np.percentile(e_div3_data_samples, 2.5), np.percentile(e_div3_data_samples, 97.5))"
   ]
  },
  {
   "cell_type": "code",
   "execution_count": 38,
   "metadata": {},
   "outputs": [
    {
     "name": "stdout",
     "output_type": "stream",
     "text": [
      "100 288 588 976\n",
      "0\n"
     ]
    }
   ],
   "source": [
    "res1 = pickle.load(open('waiting_times_files/estimation_count_data_cd44_filtered_sigma022_minimal2.pickle', 'rb'))\n",
    "res2 = pickle.load(open('waiting_times_files/estimation_count_data_cd44_filtered_sigma022_par2.pickle', 'rb'))\n",
    "res3 = pickle.load(open('waiting_times_files/estimation_count_data_cd44_filtered_sigma022_par3_new.pickle', 'rb'))\n",
    "res = res1 + res2 + res3\n",
    "print(len(res1), len(res2), len(res3), len(res))\n",
    "\n",
    "net_names = [est.net.net_name for est in res]\n",
    "model_probs = me.selection.compute_model_probabilities(res)\n",
    "data = res[0].data\n",
    "print(sum(['alphaF' in name for name in net_names]))"
   ]
  },
  {
   "cell_type": "code",
   "execution_count": 39,
   "metadata": {},
   "outputs": [
    {
     "name": "stdout",
     "output_type": "stream",
     "text": [
      "1.000000000000017\n",
      "976\n"
     ]
    }
   ],
   "source": [
    "# set model prior to give classes same weight\n",
    "mprior = np.array([0.25] + [0.25/99]*99 + [0.25/288]*288 + [0.25/588]*588)\n",
    "print(sum(mprior))\n",
    "print(len(mprior))"
   ]
  },
  {
   "cell_type": "code",
   "execution_count": 40,
   "metadata": {},
   "outputs": [
    {
     "data": {
      "text/plain": [
       "['A_t', 'M_t']"
      ]
     },
     "execution_count": 40,
     "metadata": {},
     "output_type": "execute_result"
    }
   ],
   "source": [
    "data.data_variables"
   ]
  },
  {
   "cell_type": "code",
   "execution_count": 44,
   "metadata": {
    "collapsed": true,
    "jupyter": {
     "outputs_hidden": true
    }
   },
   "outputs": [
    {
     "name": "stdout",
     "output_type": "stream",
     "text": [
      "0\n",
      "1\n",
      "2\n",
      "3\n",
      "4\n",
      "5\n",
      "6\n",
      "7\n",
      "8\n",
      "9\n",
      "10\n",
      "11\n",
      "12\n",
      "13\n",
      "14\n",
      "15\n",
      "16\n",
      "17\n",
      "18\n",
      "19\n",
      "20\n",
      "21\n",
      "22\n",
      "23\n",
      "24\n",
      "25\n",
      "26\n",
      "27\n",
      "28\n",
      "29\n",
      "30\n",
      "31\n",
      "32\n",
      "33\n",
      "34\n",
      "35\n",
      "36\n",
      "37\n",
      "38\n",
      "39\n",
      "40\n",
      "41\n",
      "42\n",
      "43\n",
      "44\n",
      "45\n",
      "46\n",
      "47\n",
      "48\n",
      "49\n",
      "50\n",
      "51\n",
      "52\n",
      "53\n",
      "54\n",
      "55\n",
      "56\n",
      "57\n",
      "58\n",
      "59\n",
      "60\n",
      "61\n",
      "62\n",
      "63\n",
      "64\n",
      "65\n",
      "66\n",
      "67\n",
      "68\n",
      "69\n",
      "70\n",
      "71\n",
      "72\n",
      "73\n",
      "74\n",
      "75\n",
      "76\n",
      "77\n",
      "78\n",
      "79\n",
      "80\n",
      "81\n",
      "82\n",
      "83\n",
      "84\n",
      "85\n",
      "86\n",
      "87\n",
      "88\n",
      "89\n",
      "90\n",
      "91\n",
      "92\n",
      "93\n",
      "94\n",
      "95\n",
      "96\n",
      "97\n",
      "98\n",
      "99\n",
      "100\n",
      "101\n",
      "102\n",
      "103\n",
      "104\n",
      "105\n",
      "106\n",
      "107\n",
      "108\n",
      "109\n",
      "110\n",
      "111\n",
      "112\n",
      "113\n",
      "114\n",
      "115\n",
      "116\n",
      "117\n",
      "118\n",
      "119\n",
      "120\n",
      "121\n",
      "122\n",
      "123\n",
      "124\n",
      "125\n",
      "126\n",
      "127\n",
      "128\n",
      "129\n",
      "130\n",
      "131\n",
      "132\n",
      "133\n",
      "134\n",
      "135\n",
      "136\n",
      "137\n",
      "138\n",
      "139\n",
      "140\n",
      "141\n",
      "142\n",
      "143\n",
      "144\n",
      "145\n",
      "146\n",
      "147\n",
      "148\n",
      "149\n",
      "150\n",
      "151\n",
      "152\n",
      "153\n",
      "154\n",
      "155\n",
      "156\n",
      "157\n",
      "158\n",
      "159\n",
      "160\n",
      "161\n",
      "162\n",
      "163\n",
      "164\n",
      "165\n",
      "166\n",
      "167\n",
      "168\n",
      "169\n",
      "170\n",
      "171\n",
      "172\n",
      "173\n",
      "174\n",
      "175\n",
      "176\n",
      "177\n",
      "178\n",
      "179\n",
      "180\n",
      "181\n",
      "182\n",
      "183\n",
      "184\n",
      "185\n",
      "186\n",
      "187\n",
      "188\n",
      "189\n",
      "190\n",
      "191\n",
      "192\n",
      "193\n",
      "194\n",
      "195\n",
      "196\n",
      "197\n",
      "198\n",
      "199\n",
      "200\n",
      "201\n",
      "202\n",
      "203\n",
      "204\n",
      "205\n",
      "206\n",
      "207\n",
      "208\n",
      "209\n",
      "210\n",
      "211\n",
      "212\n",
      "213\n",
      "214\n",
      "215\n",
      "216\n",
      "217\n",
      "218\n",
      "219\n",
      "220\n",
      "221\n",
      "222\n",
      "223\n",
      "224\n",
      "225\n",
      "226\n",
      "227\n",
      "228\n",
      "229\n",
      "230\n",
      "231\n",
      "232\n",
      "233\n",
      "234\n",
      "235\n",
      "236\n",
      "237\n",
      "238\n",
      "239\n",
      "240\n",
      "241\n",
      "242\n",
      "243\n",
      "244\n",
      "245\n",
      "246\n",
      "247\n",
      "248\n",
      "249\n",
      "250\n",
      "251\n",
      "252\n",
      "253\n",
      "254\n",
      "255\n",
      "256\n",
      "257\n",
      "258\n",
      "259\n",
      "260\n",
      "261\n",
      "262\n",
      "263\n",
      "264\n",
      "265\n",
      "266\n",
      "267\n",
      "268\n",
      "269\n",
      "270\n",
      "271\n",
      "272\n",
      "273\n",
      "274\n",
      "275\n",
      "276\n",
      "277\n",
      "278\n",
      "279\n",
      "280\n",
      "281\n",
      "282\n",
      "283\n",
      "284\n",
      "285\n",
      "286\n",
      "287\n",
      "288\n",
      "289\n",
      "290\n",
      "291\n",
      "292\n",
      "293\n",
      "294\n",
      "295\n",
      "296\n",
      "297\n",
      "298\n",
      "299\n",
      "300\n",
      "301\n",
      "302\n",
      "303\n",
      "304\n",
      "305\n",
      "306\n",
      "307\n",
      "308\n",
      "309\n",
      "310\n",
      "311\n",
      "312\n",
      "313\n",
      "314\n",
      "315\n",
      "316\n",
      "317\n",
      "318\n",
      "319\n",
      "320\n",
      "321\n",
      "322\n",
      "323\n",
      "324\n",
      "325\n",
      "326\n",
      "327\n",
      "328\n",
      "329\n",
      "330\n",
      "331\n",
      "332\n",
      "333\n",
      "334\n",
      "335\n",
      "336\n",
      "337\n",
      "338\n",
      "339\n",
      "340\n",
      "341\n",
      "342\n",
      "343\n",
      "344\n",
      "345\n",
      "346\n",
      "347\n",
      "348\n",
      "349\n",
      "350\n",
      "351\n",
      "352\n",
      "353\n",
      "354\n",
      "355\n",
      "356\n",
      "357\n",
      "358\n",
      "359\n",
      "360\n",
      "361\n",
      "362\n",
      "363\n",
      "364\n",
      "365\n",
      "366\n",
      "367\n",
      "368\n",
      "369\n",
      "370\n",
      "371\n",
      "372\n",
      "373\n",
      "374\n",
      "375\n",
      "376\n",
      "377\n",
      "378\n",
      "379\n",
      "380\n",
      "381\n",
      "382\n",
      "383\n",
      "384\n",
      "385\n",
      "386\n",
      "387\n",
      "388\n",
      "389\n",
      "390\n",
      "391\n",
      "392\n",
      "393\n",
      "394\n",
      "395\n",
      "396\n",
      "397\n",
      "398\n",
      "399\n",
      "400\n",
      "401\n",
      "402\n",
      "403\n",
      "404\n",
      "405\n",
      "406\n",
      "407\n",
      "408\n",
      "409\n",
      "410\n",
      "411\n",
      "412\n",
      "413\n",
      "414\n",
      "415\n",
      "416\n",
      "417\n",
      "418\n",
      "419\n",
      "420\n",
      "421\n",
      "422\n",
      "423\n",
      "424\n",
      "425\n",
      "426\n",
      "427\n",
      "428\n",
      "429\n",
      "430\n",
      "431\n",
      "432\n",
      "433\n",
      "434\n",
      "435\n",
      "436\n",
      "437\n",
      "438\n",
      "439\n",
      "440\n",
      "441\n",
      "442\n",
      "443\n",
      "444\n",
      "445\n",
      "446\n",
      "447\n",
      "448\n",
      "449\n",
      "450\n",
      "451\n",
      "452\n",
      "453\n",
      "454\n",
      "455\n",
      "456\n",
      "457\n",
      "458\n",
      "459\n",
      "460\n",
      "461\n",
      "462\n",
      "463\n",
      "464\n",
      "465\n",
      "466\n",
      "467\n",
      "468\n",
      "469\n",
      "470\n",
      "471\n",
      "472\n",
      "473\n",
      "474\n",
      "475\n",
      "476\n",
      "477\n",
      "478\n",
      "479\n",
      "480\n",
      "481\n",
      "482\n",
      "483\n",
      "484\n",
      "485\n",
      "486\n",
      "487\n",
      "488\n",
      "489\n",
      "490\n",
      "491\n",
      "492\n",
      "493\n",
      "494\n",
      "495\n",
      "496\n",
      "497\n",
      "498\n",
      "499\n",
      "500\n",
      "501\n",
      "502\n",
      "503\n",
      "504\n",
      "505\n",
      "506\n",
      "507\n",
      "508\n",
      "509\n",
      "510\n",
      "511\n",
      "512\n",
      "513\n",
      "514\n",
      "515\n",
      "516\n",
      "517\n",
      "518\n",
      "519\n",
      "520\n",
      "521\n",
      "522\n",
      "523\n",
      "524\n",
      "525\n",
      "526\n",
      "527\n",
      "528\n",
      "529\n",
      "530\n",
      "531\n",
      "532\n",
      "533\n",
      "534\n",
      "535\n",
      "536\n",
      "537\n",
      "538\n",
      "539\n",
      "540\n",
      "541\n",
      "542\n",
      "543\n",
      "544\n",
      "545\n",
      "546\n",
      "547\n",
      "548\n",
      "549\n",
      "550\n",
      "551\n",
      "552\n",
      "553\n",
      "554\n",
      "555\n",
      "556\n",
      "557\n",
      "558\n",
      "559\n",
      "560\n",
      "561\n",
      "562\n",
      "563\n",
      "564\n",
      "565\n",
      "566\n",
      "567\n",
      "568\n",
      "569\n",
      "570\n",
      "571\n",
      "572\n",
      "573\n",
      "574\n",
      "575\n",
      "576\n",
      "577\n",
      "578\n",
      "579\n",
      "580\n",
      "581\n",
      "582\n",
      "583\n",
      "584\n",
      "585\n",
      "586\n",
      "587\n",
      "588\n",
      "589\n",
      "590\n",
      "591\n",
      "592\n",
      "593\n",
      "594\n",
      "595\n",
      "596\n",
      "597\n",
      "598\n",
      "599\n",
      "600\n",
      "601\n",
      "602\n",
      "603\n",
      "604\n",
      "605\n",
      "606\n",
      "607\n",
      "608\n",
      "609\n",
      "610\n",
      "611\n",
      "612\n",
      "613\n",
      "614\n",
      "615\n",
      "616\n",
      "617\n",
      "618\n",
      "619\n",
      "620\n",
      "621\n",
      "622\n",
      "623\n",
      "624\n",
      "625\n",
      "626\n",
      "627\n",
      "628\n",
      "629\n",
      "630\n",
      "631\n",
      "632\n",
      "633\n",
      "634\n",
      "635\n",
      "636\n",
      "637\n",
      "638\n",
      "639\n",
      "640\n",
      "641\n",
      "642\n",
      "643\n",
      "644\n",
      "645\n",
      "646\n",
      "647\n",
      "648\n",
      "649\n",
      "650\n",
      "651\n",
      "652\n",
      "653\n",
      "654\n",
      "655\n",
      "656\n",
      "657\n",
      "658\n",
      "659\n",
      "660\n",
      "661\n",
      "662\n",
      "663\n",
      "664\n",
      "665\n",
      "666\n",
      "667\n",
      "668\n",
      "669\n",
      "670\n",
      "671\n",
      "672\n",
      "673\n",
      "674\n",
      "675\n",
      "676\n",
      "677\n",
      "678\n",
      "679\n",
      "680\n",
      "681\n",
      "682\n",
      "683\n",
      "684\n",
      "685\n",
      "686\n",
      "687\n",
      "688\n",
      "689\n",
      "690\n",
      "691\n",
      "692\n",
      "693\n",
      "694\n",
      "695\n",
      "696\n",
      "697\n",
      "698\n",
      "699\n",
      "700\n",
      "701\n",
      "702\n",
      "703\n",
      "704\n",
      "705\n",
      "706\n",
      "707\n",
      "708\n",
      "709\n",
      "710\n",
      "711\n",
      "712\n",
      "713\n",
      "714\n",
      "715\n",
      "716\n",
      "717\n",
      "718\n",
      "719\n",
      "720\n",
      "721\n",
      "722\n",
      "723\n",
      "724\n",
      "725\n",
      "726\n",
      "727\n",
      "728\n",
      "729\n",
      "730\n",
      "731\n",
      "732\n",
      "733\n",
      "734\n",
      "735\n",
      "736\n",
      "737\n",
      "738\n",
      "739\n",
      "740\n",
      "741\n",
      "742\n",
      "743\n",
      "744\n",
      "745\n",
      "746\n",
      "747\n",
      "748\n",
      "749\n",
      "750\n",
      "751\n",
      "752\n",
      "753\n",
      "754\n",
      "755\n",
      "756\n",
      "757\n",
      "758\n",
      "759\n",
      "760\n",
      "761\n",
      "762\n",
      "763\n",
      "764\n",
      "765\n",
      "766\n",
      "767\n",
      "768\n",
      "769\n",
      "770\n",
      "771\n",
      "772\n",
      "773\n",
      "774\n",
      "775\n",
      "776\n",
      "777\n",
      "778\n",
      "779\n",
      "780\n",
      "781\n",
      "782\n",
      "783\n",
      "784\n",
      "785\n",
      "786\n",
      "787\n",
      "788\n",
      "789\n",
      "790\n",
      "791\n",
      "792\n",
      "793\n",
      "794\n",
      "795\n",
      "796\n",
      "797\n",
      "798\n",
      "799\n",
      "800\n",
      "801\n",
      "802\n",
      "803\n",
      "804\n",
      "805\n",
      "806\n",
      "807\n",
      "808\n",
      "809\n",
      "810\n",
      "811\n",
      "812\n",
      "813\n",
      "814\n",
      "815\n",
      "816\n",
      "817\n",
      "818\n",
      "819\n",
      "820\n",
      "821\n",
      "822\n",
      "823\n",
      "824\n",
      "825\n",
      "826\n",
      "827\n",
      "828\n",
      "829\n",
      "830\n",
      "831\n",
      "832\n",
      "833\n",
      "834\n",
      "835\n",
      "836\n",
      "837\n",
      "838\n",
      "839\n",
      "840\n",
      "841\n",
      "842\n",
      "843\n",
      "844\n",
      "845\n",
      "846\n",
      "847\n",
      "848\n",
      "849\n",
      "850\n",
      "851\n",
      "852\n",
      "853\n",
      "854\n",
      "855\n",
      "856\n",
      "857\n",
      "858\n",
      "859\n",
      "860\n",
      "861\n",
      "862\n",
      "863\n",
      "864\n",
      "865\n",
      "866\n",
      "867\n",
      "868\n",
      "869\n",
      "870\n",
      "871\n",
      "872\n",
      "873\n",
      "874\n",
      "875\n",
      "876\n",
      "877\n",
      "878\n",
      "879\n",
      "880\n",
      "881\n",
      "882\n",
      "883\n",
      "884\n",
      "885\n",
      "886\n",
      "887\n",
      "888\n",
      "889\n",
      "890\n",
      "891\n",
      "892\n",
      "893\n",
      "894\n",
      "895\n",
      "896\n",
      "897\n",
      "898\n",
      "899\n",
      "900\n",
      "901\n",
      "902\n",
      "903\n",
      "904\n",
      "905\n",
      "906\n",
      "907\n",
      "908\n",
      "909\n",
      "910\n",
      "911\n",
      "912\n",
      "913\n",
      "914\n",
      "915\n",
      "916\n",
      "917\n",
      "918\n",
      "919\n",
      "920\n",
      "921\n",
      "922\n",
      "923\n",
      "924\n",
      "925\n",
      "926\n",
      "927\n",
      "928\n",
      "929\n",
      "930\n",
      "931\n",
      "932\n",
      "933\n",
      "934\n",
      "935\n",
      "936\n",
      "937\n",
      "938\n",
      "939\n",
      "940\n",
      "941\n",
      "942\n",
      "943\n",
      "944\n",
      "945\n",
      "946\n",
      "947\n",
      "948\n",
      "949\n",
      "950\n",
      "951\n",
      "952\n",
      "953\n",
      "954\n",
      "955\n",
      "956\n",
      "957\n",
      "958\n",
      "959\n",
      "960\n",
      "961\n",
      "962\n",
      "963\n",
      "964\n",
      "965\n",
      "966\n",
      "967\n",
      "968\n",
      "969\n",
      "970\n",
      "971\n",
      "972\n",
      "973\n",
      "974\n",
      "975\n",
      "976\n",
      "977\n",
      "978\n",
      "979\n",
      "980\n",
      "981\n",
      "982\n",
      "983\n",
      "984\n",
      "985\n",
      "986\n",
      "987\n",
      "988\n",
      "989\n",
      "990\n",
      "991\n",
      "992\n",
      "993\n",
      "994\n",
      "995\n",
      "996\n",
      "997\n",
      "998\n",
      "999\n",
      "[  0.   0. 574. 426.]\n"
     ]
    }
   ],
   "source": [
    "# paper run should be like: res, 1000, 500, mprior\n",
    "(e_act_model_samples, e_div1_model_samples,\n",
    "    e_div2_model_samples, e_div3_model_samples) = event_model_samples(\n",
    "                                            res, 1000, 500, mprior) # 1000, 500"
   ]
  },
  {
   "cell_type": "code",
   "execution_count": 52,
   "metadata": {},
   "outputs": [],
   "source": [
    "# save these event files for later reusage\n",
    "# with open('waiting_times_files/inf_events_minimal2_par2_par3_sigma022_act_div123_samples.pickle', 'wb') as file_: # in_silico_estimation\n",
    "#     pickle.dump((e_act_model_samples, e_div1_model_samples,\n",
    "#     e_div2_model_samples, e_div3_model_samples), file_)\n",
    "\n",
    "# load them for replotting\n",
    "(e_act_model_samples, e_div1_model_samples,\n",
    " e_div2_model_samples, e_div3_model_samples) = pickle.load(open('waiting_times_files/inf_events_minimal2_par2_par3_sigma022_act_div123_samples.pickle', 'rb'))"
   ]
  },
  {
   "cell_type": "code",
   "execution_count": 46,
   "metadata": {},
   "outputs": [
    {
     "data": {
      "image/png": "[encoded data removed]",
      "text/plain": [
       "<Figure size 72x43.2 with 1 Axes>"
      ]
     },
     "metadata": {
      "needs_background": "light"
     },
     "output_type": "display_data"
    }
   ],
   "source": [
    "# plot copied from plot comment (fig_dots_w_mult_bars)\n",
    "val_obj = np.array([\n",
    "        np.array([[e_act_data, e_act_data - np.percentile(e_act_data_samples, 2.5), np.percentile(e_act_data_samples, 97.5) - e_act_data], \n",
    "                  [np.percentile(e_act_model_samples, 50.0), np.percentile(e_act_model_samples, 50.0) - np.percentile(e_act_model_samples, 2.5), np.percentile(e_act_model_samples, 97.5) - np.percentile(e_act_model_samples, 50.0)]]),\n",
    "        np.array([[e_div1_data, e_div1_data - np.percentile(e_div1_data_samples, 2.5), np.percentile(e_div1_data_samples, 97.5) - e_div1_data], \n",
    "                  [np.percentile(e_div1_model_samples, 50.0), np.percentile(e_div1_model_samples, 50.0) - np.percentile(e_div1_model_samples, 2.5), np.percentile(e_div1_model_samples, 97.5) - np.percentile(e_div1_model_samples, 50.0)]]),\n",
    "        np.array([[e_div2_data, e_div2_data - np.percentile(e_div2_data_samples, 2.5), np.percentile(e_div2_data_samples, 97.5) - e_div2_data], \n",
    "                  [np.percentile(e_div2_model_samples, 50.0), np.percentile(e_div2_model_samples, 50.0) - np.percentile(e_div2_model_samples, 2.5), np.percentile(e_div2_model_samples, 97.5) - np.percentile(e_div2_model_samples, 50.0)]]),\n",
    "        np.array([[e_div3_data, e_div3_data - np.percentile(e_div3_data_samples, 2.5), np.percentile(e_div3_data_samples, 97.5) - e_div3_data], \n",
    "                  [np.percentile(e_div3_model_samples, 50.0), np.percentile(e_div3_model_samples, 50.0) - np.percentile(e_div3_model_samples, 2.5), np.percentile(e_div3_model_samples, 97.5) - np.percentile(e_div3_model_samples, 50.0)]])\n",
    "        ], dtype=object)\n",
    "\n",
    "attributes = {0: ('Activation', [cwact, cwact]),\n",
    "              1: ('Division 1', [cwdiv, cwdiv]),\n",
    "              2: ('Division 2', [cwdiv, cwdiv]),\n",
    "              3: ('Division 3', [cwdiv, cwdiv])}\n",
    "\n",
    "legend_attr = [('blue', 'x'), ('limegreen', 'y'), ('red', 'z')]\n",
    "\n",
    "# initialise figure and axis settings\n",
    "plt.rcParams.update({'figure.figsize': (1.0, 0.6)})\n",
    "\n",
    "plt.figure()\n",
    "\n",
    "ax = plt.gca()\n",
    "ax.spines['top'].set_visible(False)\n",
    "ax.spines['right'].set_visible(False)\n",
    "ax.spines['bottom'].set_visible(True)\n",
    "ax.spines['left'].set_visible(True)\n",
    "\n",
    "# actual plotting\n",
    "for val_ind in range(val_obj.shape[0]):\n",
    "    color_list = attributes[val_ind][1]\n",
    "    dots_per_categ = val_obj[val_ind].shape[0]\n",
    "\n",
    "    if dots_per_categ == 1:\n",
    "        x_pos = [val_ind + 1]\n",
    "    elif dots_per_categ == 2:\n",
    "        x_pos = [val_ind + 1 - 0.2, val_ind + 1 + 0.2]\n",
    "    elif dots_per_categ == 3:\n",
    "        x_pos = [val_ind + 1 - 0.2, val_ind + 1, val_ind + 1 + 0.2]\n",
    "\n",
    "    for dot_ind in range(dots_per_categ):\n",
    "        plt.errorbar(x_pos[dot_ind], val_obj[val_ind][dot_ind, 0],\n",
    "                    yerr=val_obj[val_ind][dot_ind, 1:].reshape(2,1),\n",
    "                    fmt='^' if dot_ind==0 else 'o', capsize=1, elinewidth=0.7, markeredgewidth=0.7,\n",
    "                    markersize=2, markeredgecolor=color_list[dot_ind],\n",
    "                    color=color_list[dot_ind], ecolor='lightgrey', zorder=1000,\n",
    "                    label=['Data', 'Inference\\n(Moments)'][dot_ind] if val_ind==0 else None)\n",
    "\n",
    "# add x axis ticks\n",
    "plt.xticks([val_ind + 1 for val_ind in range(val_obj.shape[0])],\n",
    "                [attributes[val_ind][0] for val_ind in range(val_obj.shape[0])], rotation=55)\n",
    "\n",
    "# add legend manually\n",
    "# plt.legend(handles=[mpatches.Patch(color=leg[0], label=leg[1]) for leg in legend_attr])\n",
    "plt.legend(frameon=False, loc='upper right')\n",
    "\n",
    "plt.ylim(0, 100) # ylim(35, 90)\n",
    "plt.ylabel('% Microwells')\n",
    "plt.savefig('paper_figures/event_analysis_full.pdf', bbox_inches='tight')"
   ]
  },
  {
   "cell_type": "markdown",
   "metadata": {},
   "source": [
    "##### Model results"
   ]
  },
  {
   "cell_type": "markdown",
   "metadata": {},
   "source": [
    "##### minimal model results (Markov+Erlang)"
   ]
  },
  {
   "cell_type": "code",
   "execution_count": 5,
   "metadata": {},
   "outputs": [],
   "source": [
    "res = pickle.load(open('waiting_times_files/estimation_count_data_cd44_filtered_sigma022_minimal2.pickle', 'rb'))"
   ]
  },
  {
   "cell_type": "code",
   "execution_count": 6,
   "metadata": {},
   "outputs": [
    {
     "name": "stdout",
     "output_type": "stream",
     "text": [
      "[0.15104273 0.14571297 0.12672787 0.10650158 0.10627389 0.08805198\n",
      " 0.06527255 0.0647611  0.0494027  0.03840488]\n",
      "[208.71859475 208.68267069 208.54307402 208.3691918  208.3670516\n",
      " 208.17895931 207.87960353 207.87173706 207.60103714 207.34921655]\n",
      "['net_3_20' 'net_3_19' 'net_3_18' 'net_3_17' 'net_3_16' 'net_3_15'\n",
      " 'net_3_13' 'net_3_14' 'net_3_12' 'net_3_11']\n"
     ]
    }
   ],
   "source": [
    "net_names = [est.net.net_name for est in res]\n",
    "model_probs = me.selection.compute_model_probabilities(res)\n",
    "log_evids = [est.bay_est_log_evidence for est in res]\n",
    "\n",
    "sort_inds = np.array(- model_probs).argsort()\n",
    "net_names_sorted = np.array(net_names)[sort_inds]\n",
    "model_probs_sorted = np.array(model_probs)[sort_inds]\n",
    "log_evids_sorted = np.array(log_evids)[sort_inds]\n",
    "\n",
    "print(model_probs_sorted[:10])\n",
    "print(log_evids_sorted[:10])\n",
    "print(net_names_sorted[:10])"
   ]
  },
  {
   "cell_type": "code",
   "execution_count": 7,
   "metadata": {},
   "outputs": [
    {
     "name": "stdout",
     "output_type": "stream",
     "text": [
      "net_1_1 -238.65521727902052\n"
     ]
    }
   ],
   "source": [
    "print(res[0].net.net_name, res[0].bay_est_log_evidence)"
   ]
  },
  {
   "cell_type": "code",
   "execution_count": 35,
   "metadata": {
    "jupyter": {
     "source_hidden": true
    }
   },
   "outputs": [],
   "source": [
    "# # looks all good (compare run with a newer memopy version)\n",
    "# res_compare = pickle.load(open('estimation_count_data_cd44_filtered_sigma022_minimal2_multiedge.pickle', 'rb'))\n",
    "# print([est.net.net_name for est in res] == [est.net.net_name for est in res_compare])\n",
    "# print(np.all(np.array([est.data_mean_values for est in res]) == np.array([est.data_mean_values for est in res_compare])))\n",
    "# print(np.all(np.array([est.data_var_values for est in res]) == np.array([est.data_var_values for est in res_compare])))\n",
    "# print(np.all(np.array([est.data_cov_values for est in res]) == np.array([est.data_cov_values for est in res_compare])))\n",
    "# print([est.bay_log_likelihood_norm for est in res] == [est.bay_log_likelihood_norm for est in res_compare])\n",
    "# print([est.net_simulation.sim_moments.moment_eqs for est in res] == [est.net_simulation.sim_moments.moment_eqs for est in res_compare])\n",
    "# print([est.net_simulation.sim_moments.moment_eqs_template_str for est in res] == [est.net_simulation.sim_moments.moment_eqs_template_str for est in res_compare])\n",
    "\n",
    "# plt.figure()\n",
    "# plt.scatter([est.bay_est_log_evidence for est in res], [est.bay_est_log_evidence for est in res_compare])\n",
    "\n",
    "# print(stats.pearsonr([est.bay_est_log_evidence for est in res], [est.bay_est_log_evidence for est in res_compare]))\n",
    "# print(stats.spearmanr([est.bay_est_log_evidence for est in res], [est.bay_est_log_evidence for est in res_compare]))\n",
    "\n",
    "# plt.figure()\n",
    "# plt.scatter([est.bay_est_log_likelihood_max for est in res], [est.bay_est_log_likelihood_max for est in res_compare])\n",
    "# res[0].bay_est_log_likelihood_max\n",
    "# print(stats.pearsonr([est.bay_est_log_likelihood_max for est in res], [est.bay_est_log_likelihood_max for est in res_compare]))\n",
    "# print(stats.spearmanr([est.bay_est_log_likelihood_max for est in res], [est.bay_est_log_likelihood_max for est in res_compare]))\n",
    "\n",
    "# for est1, est2 in zip(res, res_compare):\n",
    "# #     print(est1.net.net_name, est1.bay_est_log_evidence, est2.bay_est_log_evidence)\n",
    "#     print(est1.net.net_name, est1.bay_est_log_likelihood_max, est2.bay_est_log_likelihood_max)"
   ]
  },
  {
   "cell_type": "code",
   "execution_count": 8,
   "metadata": {},
   "outputs": [
    {
     "data": {
      "image/png": "[encoded data removed]",
      "text/plain": [
       "<Figure size 216x360 with 2 Axes>"
      ]
     },
     "metadata": {
      "needs_background": "light"
     },
     "output_type": "display_data"
    }
   ],
   "source": [
    "steps_list = range(1, 11) # 11, 21\n",
    "\n",
    "steps_lambda = range(1, 21) # range(1, 21) # [5, 10, 15, 20, 25, 30, 35, 40, 50, 60, 70, 80]\n",
    "steps_alpha = range(1, 6) # range(4, 8) # [3]\n",
    "rows = [fr'$(\\lambda, {i})$' for i in steps_lambda] # steps_list # range(1, 21)]\n",
    "cols = [fr'$(\\alpha, {i})$' for i in steps_alpha] # steps_list # range(1, 6)]\n",
    "\n",
    "model_probs_2d = np.zeros((len(rows), len(cols)))\n",
    "\n",
    "for i, row_step in enumerate(rows):\n",
    "    for j, col_step in enumerate(cols):\n",
    "        name = f'net_{steps_alpha[j]}_{steps_lambda[i]}'\n",
    "        net_index = net_names.index(name)\n",
    "        model_probs_2d[i, j] = model_probs[net_index]\n",
    "\n",
    "df = pd.DataFrame(model_probs_2d * 100.0, index=rows, columns=cols)\n",
    "\n",
    "plt.figure(figsize=(3, 5)) # 8, 4 or 6, 8\n",
    "sns.heatmap(df, cmap='cividis', annot=True, fmt='.1f') # 'plasma' # annot=True\n",
    "plt.yticks(rotation=0, va='center')\n",
    "plt.savefig('paper_figures/model_probs_cd44_minimal2.pdf')"
   ]
  },
  {
   "cell_type": "code",
   "execution_count": 6,
   "metadata": {},
   "outputs": [
    {
     "name": "stdout",
     "output_type": "stream",
     "text": [
      "0\n",
      "59\n"
     ]
    }
   ],
   "source": [
    "print(net_names.index('net_1_1'))\n",
    "print(net_names.index('net_3_20'))"
   ]
  },
  {
   "cell_type": "code",
   "execution_count": 7,
   "metadata": {},
   "outputs": [
    {
     "data": {
      "image/png": "[encoded data removed]",
      "text/plain": [
       "<Figure size 86.4x57.6 with 1 Axes>"
      ]
     },
     "metadata": {
      "needs_background": "light"
     },
     "output_type": "display_data"
    },
    {
     "data": {
      "image/png": "[encoded data removed]",
      "text/plain": [
       "<Figure size 86.4x57.6 with 1 Axes>"
      ]
     },
     "metadata": {
      "needs_background": "light"
     },
     "output_type": "display_data"
    },
    {
     "data": {
      "image/png": "[encoded data removed]",
      "text/plain": [
       "<Figure size 86.4x57.6 with 1 Axes>"
      ]
     },
     "metadata": {
      "needs_background": "light"
     },
     "output_type": "display_data"
    }
   ],
   "source": [
    "est = res[0]\n",
    "\n",
    "plt.rcParams.update({'figure.figsize': (1.2, 0.8)})\n",
    "settings = {\n",
    "    'A_t': {'label': 'E$(A_t)$', 'color': cactiv},\n",
    "    'M_t': {'label': 'E$(M_t)$', 'color': cnaive}\n",
    "}\n",
    "me.plots.est_bestfit_mean_plot(est, x_label='Time (hours)', save='paper_figures/fit_cd44_mean_net_1_1.pdf', settings=settings)\n",
    "\n",
    "settings = {\n",
    "    ('A_t', 'A_t'): {'label': 'Var$(A_t)$', 'color': cactiv},\n",
    "    ('M_t', 'M_t'): {'label': 'Var$(M_t)$', 'color': cnaive}\n",
    "}\n",
    "me.plots.est_bestfit_variance_plot(est, x_label='Time (hours)', save='paper_figures/fit_cd44_var_net_1_1.pdf', settings=settings)\n",
    "\n",
    "settings = {\n",
    "    ('A_t', 'M_t'): {'label': 'Cov $(M_t, A_t)$', 'color': grey}\n",
    "}\n",
    "me.plots.est_bestfit_covariance_plot(est, x_label='Time (hours)', save='paper_figures/fit_cd44_cov_net_1_1.pdf', settings=settings)"
   ]
  },
  {
   "cell_type": "code",
   "execution_count": 8,
   "metadata": {},
   "outputs": [
    {
     "data": {
      "image/png": "[encoded data removed]",
      "text/plain": [
       "<Figure size 396x396 with 4 Axes>"
      ]
     },
     "metadata": {
      "needs_background": "light"
     },
     "output_type": "display_data"
    }
   ],
   "source": [
    "me.plots.est_corner_kernel_plot(est, save='paper_figures/post_cd44_cov_net_1_1.pdf')"
   ]
  },
  {
   "cell_type": "code",
   "execution_count": 9,
   "metadata": {},
   "outputs": [
    {
     "data": {
      "image/png": "[encoded data removed]",
      "text/plain": [
       "<Figure size 86.4x57.6 with 1 Axes>"
      ]
     },
     "metadata": {
      "needs_background": "light"
     },
     "output_type": "display_data"
    },
    {
     "data": {
      "image/png": "[encoded data removed]",
      "text/plain": [
       "<Figure size 86.4x57.6 with 1 Axes>"
      ]
     },
     "metadata": {
      "needs_background": "light"
     },
     "output_type": "display_data"
    },
    {
     "data": {
      "image/png": "[encoded data removed]",
      "text/plain": [
       "<Figure size 86.4x57.6 with 1 Axes>"
      ]
     },
     "metadata": {
      "needs_background": "light"
     },
     "output_type": "display_data"
    }
   ],
   "source": [
    "est = res[59]\n",
    "\n",
    "plt.rcParams.update({'figure.figsize': (1.2, 0.8)})\n",
    "\n",
    "settings = {\n",
    "    'A_t': {'label': 'E$(A_t)$', 'color': cactiv},\n",
    "    'M_t': {'label': 'E$(M_t)$', 'color': cnaive}\n",
    "}\n",
    "me.plots.est_bestfit_mean_plot(est, x_label='Time (hours)', save='paper_figures/fit_cd44_mean_net_3_20.pdf', settings=settings)\n",
    "\n",
    "settings = {\n",
    "    ('A_t', 'A_t'): {'label': 'Var$(A_t)$', 'color': cactiv},\n",
    "    ('M_t', 'M_t'): {'label': 'Var$(M_t)$', 'color': cnaive}\n",
    "}\n",
    "me.plots.est_bestfit_variance_plot(est, x_label='Time (hours)', save='paper_figures/fit_cd44_var_net_3_20.pdf', settings=settings)\n",
    "\n",
    "settings = {\n",
    "    ('A_t', 'M_t'): {'label': 'Cov$(M_t, A_t)$', 'color': grey}\n",
    "}\n",
    "me.plots.est_bestfit_covariance_plot(est, x_label='Time (hours)', save='paper_figures/fit_cd44_cov_net_3_20.pdf', settings=settings)"
   ]
  },
  {
   "cell_type": "code",
   "execution_count": 10,
   "metadata": {},
   "outputs": [
    {
     "data": {
      "image/png": "[encoded data removed]",
      "text/plain": [
       "<Figure size 396x396 with 4 Axes>"
      ]
     },
     "metadata": {
      "needs_background": "light"
     },
     "output_type": "display_data"
    }
   ],
   "source": [
    "me.plots.est_corner_kernel_plot(est, save='paper_figures/post_cd44_cov_net_3_20.pdf')"
   ]
  },
  {
   "cell_type": "markdown",
   "metadata": {},
   "source": [
    "##### par2 model results"
   ]
  },
  {
   "cell_type": "code",
   "execution_count": 55,
   "metadata": {},
   "outputs": [
    {
     "name": "stdout",
     "output_type": "stream",
     "text": [
      "288\n"
     ]
    }
   ],
   "source": [
    "res = pickle.load(open('waiting_times_files/estimation_count_data_cd44_filtered_sigma022_par2.pickle', 'rb'))\n",
    "net_names = [est.net.net_name for est in res]\n",
    "model_probs = me.selection.compute_model_probabilities(res)\n",
    "log_evids = [est.bay_est_log_evidence for est in res]\n",
    "print(len(res))"
   ]
  },
  {
   "cell_type": "code",
   "execution_count": 56,
   "metadata": {},
   "outputs": [
    {
     "name": "stdout",
     "output_type": "stream",
     "text": [
      "[0.20466724 0.12799195 0.10456966 0.06935069 0.06727789 0.05171219\n",
      " 0.05031148 0.04723524 0.04024633 0.03639838]\n",
      "[235.37342517 234.90400709 234.70189318 234.29121587 234.26087143\n",
      " 233.99773332 233.97027302 233.90717993 233.74705854 233.64656395]\n",
      "['par2_d_6_8_l_18' 'par2_d_6_8_l_14' 'par2_d_6_8_l_10' 'par2_d_6_10_l_14'\n",
      " 'par2_d_6_10_l_18' 'par2_d_6_10_l_10' 'par2_d_6_8_l_8' 'par2_d_6_14_l_18'\n",
      " 'par2_d_6_14_l_14' 'par2_d_6_18_l_14']\n"
     ]
    }
   ],
   "source": [
    "sort_inds = np.array(- model_probs).argsort()\n",
    "net_names_sorted = np.array(net_names)[sort_inds]\n",
    "model_probs_sorted = np.array(model_probs)[sort_inds]\n",
    "log_evids_sorted = np.array(log_evids)[sort_inds]\n",
    "\n",
    "print(model_probs_sorted[:10])\n",
    "print(log_evids_sorted[:10])\n",
    "print(net_names_sorted[:10])"
   ]
  },
  {
   "cell_type": "code",
   "execution_count": 57,
   "metadata": {},
   "outputs": [
    {
     "name": "stdout",
     "output_type": "stream",
     "text": [
      "183 par2_d_6_8_l_18\n",
      "235.37342516505308\n"
     ]
    }
   ],
   "source": [
    "est_i = list(model_probs).index(max(model_probs))\n",
    "print(est_i, net_names[est_i])\n",
    "est = res[est_i]\n",
    "print(est.bay_est_log_evidence)\n",
    "\n",
    "# repair est object due to new memopy version\n",
    "est.data.data_mean_exists_only = False"
   ]
  },
  {
   "cell_type": "code",
   "execution_count": 29,
   "metadata": {},
   "outputs": [
    {
     "data": {
      "image/png": "[encoded data removed]",
      "text/plain": [
       "<Figure size 86.4x57.6 with 1 Axes>"
      ]
     },
     "metadata": {
      "needs_background": "light"
     },
     "output_type": "display_data"
    },
    {
     "data": {
      "image/png": "[encoded data removed]",
      "text/plain": [
       "<Figure size 86.4x57.6 with 1 Axes>"
      ]
     },
     "metadata": {
      "needs_background": "light"
     },
     "output_type": "display_data"
    },
    {
     "data": {
      "image/png": "[encoded data removed]",
      "text/plain": [
       "<Figure size 86.4x57.6 with 1 Axes>"
      ]
     },
     "metadata": {
      "needs_background": "light"
     },
     "output_type": "display_data"
    },
    {
     "data": {
      "image/png": "[encoded data removed]",
      "text/plain": [
       "<Figure size 547.2x547.2 with 9 Axes>"
      ]
     },
     "metadata": {
      "needs_background": "light"
     },
     "output_type": "display_data"
    }
   ],
   "source": [
    "plt.rcParams.update({'figure.figsize': (1.2, 0.8)})\n",
    "\n",
    "settings = {\n",
    "    'A_t': {'label': 'E$(A_t)$', 'color': cactiv},\n",
    "    'M_t': {'label': 'E$(M_t)$', 'color': cnaive}\n",
    "}\n",
    "me.plots.est_bestfit_mean_plot(est, x_label='Time (hours)', save='paper_figures/fit_cd44_mean_par2_d_6_8_l_18.pdf', settings=settings)\n",
    "\n",
    "settings = {\n",
    "    ('A_t', 'A_t'): {'label': 'Var$(A_t)$', 'color': cactiv},\n",
    "    ('M_t', 'M_t'): {'label': 'Var$(M_t)$', 'color': cnaive}\n",
    "}\n",
    "me.plots.est_bestfit_variance_plot(est, x_label='Time (hours)', save='paper_figures/fit_cd44_var_par2_d_6_8_l_18.pdf', settings=settings)\n",
    "\n",
    "settings = {\n",
    "    ('A_t', 'M_t'): {'label': 'Cov$(M_t, A_t)$', 'color': grey}\n",
    "}\n",
    "me.plots.est_bestfit_covariance_plot(est, x_label='Time (hours)', save='paper_figures/fit_cd44_cov_par2_d_6_8_l_18.pdf', settings=settings)\n",
    "\n",
    "me.plots.est_corner_kernel_plot(est, save='paper_figures/post_cd44_par2_d_6_8_l_18.pdf')"
   ]
  },
  {
   "cell_type": "code",
   "execution_count": 58,
   "metadata": {},
   "outputs": [
    {
     "name": "stdout",
     "output_type": "stream",
     "text": [
      "0.999999999999997\n",
      "288\n"
     ]
    }
   ],
   "source": [
    "# set model prior to give classes same weight\n",
    "mprior = np.array([1/len(res)]*len(res))\n",
    "print(sum(mprior))\n",
    "print(len(mprior))"
   ]
  },
  {
   "cell_type": "code",
   "execution_count": 63,
   "metadata": {
    "collapsed": true,
    "jupyter": {
     "outputs_hidden": true
    }
   },
   "outputs": [
    {
     "name": "stdout",
     "output_type": "stream",
     "text": [
      "0\n",
      "1\n",
      "2\n",
      "3\n",
      "4\n",
      "5\n",
      "6\n",
      "7\n",
      "8\n",
      "9\n",
      "10\n",
      "11\n",
      "12\n",
      "13\n",
      "14\n",
      "15\n",
      "16\n",
      "17\n",
      "18\n",
      "19\n",
      "20\n",
      "21\n",
      "22\n",
      "23\n",
      "24\n",
      "25\n",
      "26\n",
      "27\n",
      "28\n",
      "29\n",
      "30\n",
      "31\n",
      "32\n",
      "33\n",
      "34\n",
      "35\n",
      "36\n",
      "37\n",
      "38\n",
      "39\n",
      "40\n",
      "41\n",
      "42\n",
      "43\n",
      "44\n",
      "45\n",
      "46\n",
      "47\n",
      "48\n",
      "49\n",
      "50\n",
      "51\n",
      "52\n",
      "53\n",
      "54\n",
      "55\n",
      "56\n",
      "57\n",
      "58\n",
      "59\n",
      "60\n",
      "61\n",
      "62\n",
      "63\n",
      "64\n",
      "65\n",
      "66\n",
      "67\n",
      "68\n",
      "69\n",
      "70\n",
      "71\n",
      "72\n",
      "73\n",
      "74\n",
      "75\n",
      "76\n",
      "77\n",
      "78\n",
      "79\n",
      "80\n",
      "81\n",
      "82\n",
      "83\n",
      "84\n",
      "85\n",
      "86\n",
      "87\n",
      "88\n",
      "89\n",
      "90\n",
      "91\n",
      "92\n",
      "93\n",
      "94\n",
      "95\n",
      "96\n",
      "97\n",
      "98\n",
      "99\n",
      "[  0.   0. 100.   0.]\n"
     ]
    }
   ],
   "source": [
    "# res = [est]\n",
    "celltype = 1 # 0 or 1 (active, naive)\n",
    "time_point = -1 # last time point\n",
    "sample_n = 100 # 1000 # posterior samples of cell histograms; typically 1000-10000\n",
    "sim_n = 50 # 500 # simulation repeats per given model and theta; ideally, inf\n",
    "count_max = 16\n",
    "y = hist_cell_counts_samples(res, celltype, time_point, sample_n, count_max, sim_n, mprior)"
   ]
  },
  {
   "cell_type": "code",
   "execution_count": 64,
   "metadata": {},
   "outputs": [
    {
     "name": "stdout",
     "output_type": "stream",
     "text": [
      "(16, 100)\n"
     ]
    }
   ],
   "source": [
    "print(y.shape)\n",
    "y_95_lower = np.percentile(y, 2.5, axis=1)\n",
    "y_median = np.percentile(y, 50.0, axis=1)\n",
    "y_95_upper = np.percentile(y, 97.5, axis=1)"
   ]
  },
  {
   "cell_type": "code",
   "execution_count": 65,
   "metadata": {},
   "outputs": [
    {
     "data": {
      "image/png": "[encoded data removed]",
      "text/plain": [
       "<Figure size 57.6x57.6 with 1 Axes>"
      ]
     },
     "metadata": {
      "needs_background": "light"
     },
     "output_type": "display_data"
    }
   ],
   "source": [
    "# compute model histogram over all models\n",
    "plt.rcParams.update({'figure.figsize': (0.8, 0.8)})\n",
    "ax = plt.gca()\n",
    "ax.spines['top'].set_visible(False)\n",
    "ax.spines['right'].set_visible(False)\n",
    "ax.spines['bottom'].set_visible(True)\n",
    "ax.spines['left'].set_visible(True)\n",
    "\n",
    "linelow = 44*y_95_lower/sim_n\n",
    "line = 44*y_median/sim_n\n",
    "lineupp = 44*y_95_upper/sim_n\n",
    "errlow = line-linelow\n",
    "errupp = lineupp-line\n",
    "\n",
    "# plt.fill_between(range(count_max), linelow, line, color=cnaive, alpha=0.2, linewidth=0.0, zorder=100)\n",
    "# plt.plot(range(count_max), line, color=cnaive, zorder=200, linewidth=1.0)\n",
    "# plt.fill_between(range(count_max), line, lineupp, color=cnaive, alpha=0.2, linewidth=0.0, zorder=100,\n",
    "#                 label='Models')\n",
    "cutplot = 3\n",
    "plt.errorbar(list(range(count_max))[:cutplot], line[:cutplot], yerr=np.array([errlow, errupp])[:, :cutplot],\n",
    "            color=cnaive, linewidth=1.0, capsize=1.0,\n",
    "             zorder=100, markersize=2, fmt='.', label='Model')\n",
    "\n",
    "plt.hist(res[0].data.data_counts[:, 1, -1], bins=np.linspace(-0.5, 9.5, num=11), \n",
    "         color='black', alpha=0.1, label='Data')\n",
    "plt.xticks([0, 1, 2])\n",
    "plt.xlim(None, 3)\n",
    "plt.ylim(-1.5, None)\n",
    "plt.xlabel('Cell number (54 hours)')\n",
    "plt.ylabel('Probability')\n",
    "plt.legend()\n",
    "plt.savefig(f'paper_figures/hist_cd44_naive_688_par2.pdf', bbox_inches='tight') # _thin4"
   ]
  },
  {
   "cell_type": "code",
   "execution_count": 62,
   "metadata": {},
   "outputs": [
    {
     "data": {
      "image/png": "[encoded data removed]",
      "text/plain": [
       "<Figure size 57.6x57.6 with 1 Axes>"
      ]
     },
     "metadata": {
      "needs_background": "light"
     },
     "output_type": "display_data"
    }
   ],
   "source": [
    "# compute model histogram over all models\n",
    "plt.rcParams.update({'figure.figsize': (0.8, 0.8)})\n",
    "ax = plt.gca()\n",
    "ax.spines['top'].set_visible(False)\n",
    "ax.spines['right'].set_visible(False)\n",
    "ax.spines['bottom'].set_visible(True)\n",
    "ax.spines['left'].set_visible(True)\n",
    "\n",
    "linelow = 44*y_95_lower/sim_n\n",
    "line = 44*y_median/sim_n\n",
    "lineupp = 44*y_95_upper/sim_n\n",
    "errlow = line-linelow\n",
    "errupp = lineupp-line\n",
    "\n",
    "# plt.fill_between(range(count_max), linelow, line, color=cactiv, alpha=0.2, linewidth=0.0, zorder=100)\n",
    "# plt.plot(range(count_max), line, color=cactiv, zorder=200, linewidth=1.0)\n",
    "# plt.fill_between(range(count_max), line, lineupp, color=cactiv, alpha=0.2, linewidth=0.0, zorder=100,\n",
    "#                 label='Model')\n",
    "cutplot = 10\n",
    "plt.errorbar(list(range(count_max))[:cutplot], line[:cutplot], \n",
    "             yerr=np.array([errlow, errupp])[:, :cutplot],\n",
    "            color=cactiv, linewidth=1.0, capsize=1.0,\n",
    "             zorder=100, markersize=2, fmt='.', label='Model')\n",
    "\n",
    "plt.hist(res[0].data.data_counts[:, 0, -1], bins=np.linspace(-0.5, 9.5, num=11), \n",
    "         color='black', alpha=0.1, label='Data')\n",
    "\n",
    "plt.xlim(-1, 10)\n",
    "plt.xlabel('Cell number (54 hours)')\n",
    "plt.ylabel('Probability')\n",
    "plt.legend()\n",
    "plt.savefig(f'paper_figures/hist_cd44_active_688_par2.pdf', bbox_inches='tight') # _thin4"
   ]
  },
  {
   "cell_type": "code",
   "execution_count": 105,
   "metadata": {},
   "outputs": [
    {
     "name": "stdout",
     "output_type": "stream",
     "text": [
      "[0.63073734 0.36926266]\n",
      "[1.         1.70809947]\n"
     ]
    }
   ],
   "source": [
    "# compare best par2 and best par1+i\n",
    "print(me.selection.compute_model_probabilities_from_log_evidences(np.array([\n",
    "    235.37342517, # par2\n",
    "    234.83804384, # par1+i\n",
    "])))\n",
    "print(me.selection.compute_model_bayes_factors_from_log_evidences(np.array([\n",
    "    235.37342517, # par2\n",
    "    234.83804384, # par1+i\n",
    "])))"
   ]
  },
  {
   "cell_type": "markdown",
   "metadata": {},
   "source": [
    "##### par1+i results"
   ]
  },
  {
   "cell_type": "code",
   "execution_count": 67,
   "metadata": {},
   "outputs": [],
   "source": [
    "res = pickle.load(open('waiting_times_files/estimation_count_data_cd44_filtered_sigma022_par1+i.pickle', 'rb'))\n",
    "net_names = [est.net.net_name for est in res]\n",
    "model_probs = me.selection.compute_model_probabilities(res)\n",
    "log_evids = [est.bay_est_log_evidence for est in res]"
   ]
  },
  {
   "cell_type": "code",
   "execution_count": 68,
   "metadata": {},
   "outputs": [
    {
     "name": "stdout",
     "output_type": "stream",
     "text": [
      "[0.3533542  0.25585811 0.22070271 0.11522469 0.04477144 0.00233376\n",
      " 0.00177736 0.00168872 0.00157189 0.00150213]\n",
      "[234.83804384 234.51519592 234.36738946 233.71745691 232.77214335\n",
      " 229.81805518 229.54569958 229.49454366 229.42285088 229.37745537]\n",
      "['net_6_18' 'net_6_14' 'net_6_10' 'net_6_8' 'net_6_6' 'net_8_10' 'net_8_8'\n",
      " 'net_8_14' 'net_8_18' 'net_6_4']\n"
     ]
    }
   ],
   "source": [
    "sort_inds = np.array(- model_probs).argsort()\n",
    "net_names_sorted = np.array(net_names)[sort_inds]\n",
    "model_probs_sorted = np.array(model_probs)[sort_inds]\n",
    "log_evids_sorted = np.array(log_evids)[sort_inds]\n",
    "\n",
    "print(model_probs_sorted[:10])\n",
    "print(log_evids_sorted[:10])\n",
    "print(net_names_sorted[:10])"
   ]
  },
  {
   "cell_type": "code",
   "execution_count": 73,
   "metadata": {},
   "outputs": [
    {
     "name": "stdout",
     "output_type": "stream",
     "text": [
      "31 net_6_18\n"
     ]
    }
   ],
   "source": [
    "est_i = list(model_probs).index(max(model_probs))\n",
    "print(est_i, net_names[est_i])\n",
    "est = res[est_i]\n",
    "est.bay_est_log_evidence\n",
    "\n",
    "# repair data object (data object is from older memopy version)\n",
    "est.data.data_mean_exists_only = False"
   ]
  },
  {
   "cell_type": "code",
   "execution_count": 42,
   "metadata": {},
   "outputs": [
    {
     "data": {
      "image/png": "[encoded data removed]",
      "text/plain": [
       "<Figure size 86.4x57.6 with 1 Axes>"
      ]
     },
     "metadata": {
      "needs_background": "light"
     },
     "output_type": "display_data"
    },
    {
     "data": {
      "image/png": "[encoded data removed]",
      "text/plain": [
       "<Figure size 86.4x57.6 with 1 Axes>"
      ]
     },
     "metadata": {
      "needs_background": "light"
     },
     "output_type": "display_data"
    },
    {
     "data": {
      "image/png": "[encoded data removed]",
      "text/plain": [
       "<Figure size 86.4x57.6 with 1 Axes>"
      ]
     },
     "metadata": {
      "needs_background": "light"
     },
     "output_type": "display_data"
    }
   ],
   "source": [
    "plt.rcParams.update({'figure.figsize': (1.2, 0.8)})\n",
    "\n",
    "settings = {\n",
    "    'A_t': {'label': 'E$(A_t)$', 'color': cactiv},\n",
    "    'M_t': {'label': 'E$(M_t)$', 'color': cnaive}\n",
    "}\n",
    "me.plots.est_bestfit_mean_plot(est, x_label='Time (hours)', save='paper_figures/fit_cd44_mean_par1+1_net_6_18.pdf', settings=settings)\n",
    "\n",
    "settings = {\n",
    "    ('A_t', 'A_t'): {'label': 'Var$(A_t)$', 'color': cactiv},\n",
    "    ('M_t', 'M_t'): {'label': 'Var$(M_t)$', 'color': cnaive}\n",
    "}\n",
    "me.plots.est_bestfit_variance_plot(est, x_label='Time (hours)', save='paper_figures/fit_cd44_var_par1+1_net_6_18.pdf', settings=settings)\n",
    "\n",
    "settings = {\n",
    "    ('A_t', 'M_t'): {'label': 'Cov$(M_t, A_t)$', 'color': grey}\n",
    "}\n",
    "me.plots.est_bestfit_covariance_plot(est, x_label='Time (hours)', save='paper_figures/fit_cd44_cov_par1+1_net_6_18.pdf', settings=settings)"
   ]
  },
  {
   "cell_type": "code",
   "execution_count": 43,
   "metadata": {},
   "outputs": [
    {
     "data": {
      "image/png": "[encoded data removed]",
      "text/plain": [
       "<Figure size 547.2x547.2 with 9 Axes>"
      ]
     },
     "metadata": {
      "needs_background": "light"
     },
     "output_type": "display_data"
    }
   ],
   "source": [
    "me.plots.est_corner_kernel_plot(est, save='paper_figures/post_cd44_par1+1_net_6_18.pdf')"
   ]
  },
  {
   "cell_type": "code",
   "execution_count": 50,
   "metadata": {},
   "outputs": [
    {
     "name": "stdout",
     "output_type": "stream",
     "text": [
      "[2.87260572e-207 7.01826244e-013 1.16449163e-001 5.50889281e-001\n",
      " 3.32661555e-001]\n",
      "[1.91773371e+206 7.84936850e+011 4.73072769e+000 1.00000000e+000\n",
      " 1.65600525e+000]\n"
     ]
    }
   ],
   "source": [
    "# compute model probs of best models\n",
    "# markov, best erlang, par1+i, par2, par3\n",
    "levids_best_of = np.array([-238.59155040972584, 209.00325377, 234.83804384, 236.3921228756776, 235.88771465])\n",
    "print(me.selection.compute_model_probabilities_from_log_evidences(levids_best_of))\n",
    "print(me.selection.compute_model_bayes_factors_from_log_evidences(levids_best_of))"
   ]
  },
  {
   "cell_type": "code",
   "execution_count": 81,
   "metadata": {},
   "outputs": [
    {
     "data": {
      "text/plain": [
       "array([0.04232   , 0.01262042, 0.07507427])"
      ]
     },
     "execution_count": 81,
     "metadata": {},
     "output_type": "execute_result"
    }
   ],
   "source": [
    "est.bay_est_params_median"
   ]
  },
  {
   "cell_type": "code",
   "execution_count": 61,
   "metadata": {},
   "outputs": [
    {
     "data": {
      "text/plain": [
       "['theta_0', 'theta_1', 'theta_2']"
      ]
     },
     "execution_count": 61,
     "metadata": {},
     "output_type": "execute_result"
    }
   ],
   "source": [
    "est.bay_est_log_evidence\n",
    "est.bay_est_params_median\n",
    "est.net.net_modules\n",
    "est.net.net_theta_symbolic"
   ]
  },
  {
   "cell_type": "code",
   "execution_count": 13,
   "metadata": {},
   "outputs": [
    {
     "name": "stdout",
     "output_type": "stream",
     "text": [
      "64\n",
      "1.0\n"
     ]
    }
   ],
   "source": [
    "data = res[0].data\n",
    "mprior = np.array([1/len(res)]*len(res))\n",
    "print(len(mprior))\n",
    "print(np.sum(mprior))"
   ]
  },
  {
   "cell_type": "code",
   "execution_count": 11,
   "metadata": {},
   "outputs": [
    {
     "name": "stdout",
     "output_type": "stream",
     "text": [
      "[    0. 20000.     0.     0.]\n"
     ]
    }
   ],
   "source": [
    "# idea to compute \"credible bands\" for better visualisation\n",
    "samples = 20000\n",
    "plot_data = True # True or False\n",
    "time_max = 60.0 # 150.0, 54.0\n",
    "x = np.linspace(0.0, time_max, num=200)\n",
    "\n",
    "y = waiting_time_distr_samples_act(x, res, samples, time_max, mprior)"
   ]
  },
  {
   "cell_type": "code",
   "execution_count": 14,
   "metadata": {},
   "outputs": [
    {
     "data": {
      "image/png": "[encoded data removed]",
      "text/plain": [
       "<Figure size 100.8x57.6 with 1 Axes>"
      ]
     },
     "metadata": {
      "needs_background": "light"
     },
     "output_type": "display_data"
    }
   ],
   "source": [
    "y_997_lower = np.percentile(y, 0.15, axis=1)\n",
    "y_95_lower = np.percentile(y, 2.5, axis=1)\n",
    "y_68_lower = np.percentile(y, 16.0, axis=1)\n",
    "y_median = np.percentile(y, 50.0, axis=1)\n",
    "y_68_upper = np.percentile(y, 84.0, axis=1)\n",
    "y_95_upper = np.percentile(y, 97.5, axis=1)\n",
    "y_997_upper = np.percentile(y, 99.85, axis=1)\n",
    "\n",
    "plt.rcParams.update({'figure.figsize': (1.4, 0.8)})\n",
    "plt.figure()\n",
    "ax = plt.gca()\n",
    "ax.spines['top'].set_visible(False)\n",
    "ax.spines['right'].set_visible(False)\n",
    "ax.spines['bottom'].set_visible(True)\n",
    "ax.spines['left'].set_visible(True)\n",
    "\n",
    "# adapted from framework plotting methods\n",
    "if plot_data:\n",
    "    data.events_find_all()\n",
    "    data_act = np.array([tup[1] for tup in data.event_all_first_cell_type_conversion if tup[0]])\n",
    "\n",
    "    plt.hist(data_act - 1e-06, bins=data.data_time_values,\n",
    "             color='black', alpha=0.1,\n",
    "             density=True, histtype='stepfilled')\n",
    "\n",
    "\n",
    "plt.fill_between(x, y_997_lower, y_95_lower, color=cwact, alpha=0.2, linewidth=0.0, zorder=100)\n",
    "plt.fill_between(x, y_95_lower, y_68_lower, color=cwact, alpha=0.4, linewidth=0.0, zorder=100)\n",
    "plt.fill_between(x, y_68_lower, y_median, color=cwact, alpha=0.6, linewidth=0.0, zorder=100)\n",
    "\n",
    "plt.fill_between(x, y_median, y_68_upper, color=cwact, alpha=0.6, linewidth=0.0, zorder=100)\n",
    "plt.fill_between(x, y_68_upper, y_95_upper, color=cwact, alpha=0.4, linewidth=0.0, zorder=100)\n",
    "plt.fill_between(x, y_95_upper, y_997_upper, color=cwact, alpha=0.2, linewidth=0.0, zorder=100)\n",
    "\n",
    "# plt.plot(x, y_hdi_997_lower, color='lightseagreen', lw=2, alpha=0.2)\n",
    "# plt.plot(x, y_hdi_95_lower, color='lightseagreen', lw=2, alpha=0.4)\n",
    "# plt.plot(x, y_hdi_68_lower, color='lightseagreen', lw=2, alpha=0.6)\n",
    "plt.plot(x, y_median, color=cwact, lw=1, zorder=200)\n",
    "# plt.plot(x, y_hdi_68_upper, color='lightseagreen', lw=2, alpha=0.6)\n",
    "# plt.plot(x, y_hdi_95_upper, color='lightseagreen', lw=2, alpha=0.4)\n",
    "# plt.plot(x, y_hdi_997_upper, color='lightseagreen', lw=2, alpha=0.2)\n",
    "\n",
    "plt.ylabel('Probability')\n",
    "plt.xlabel('Activation times (hours)')\n",
    "plt.savefig('paper_figures/waiting_times_act_par1+i.pdf', bbox_inches='tight') # pdf, png"
   ]
  },
  {
   "cell_type": "code",
   "execution_count": 15,
   "metadata": {},
   "outputs": [
    {
     "name": "stdout",
     "output_type": "stream",
     "text": [
      "[    0. 20000.     0.     0.]\n"
     ]
    }
   ],
   "source": [
    "# idea to compute \"credible bands\" for better visualisation\n",
    "samples = 20000\n",
    "plot_data = False # True or False\n",
    "time_max = 60.0 # 150.0, 54.0\n",
    "x = np.linspace(0.0, time_max, num=200)\n",
    "\n",
    "# NOTE: the data we plot here is only from first divisions! (so its not the complete data, \n",
    "# which is inaccessible from the data)\n",
    "\n",
    "y = waiting_time_distr_samples_div(x, res, samples, time_max, mprior)"
   ]
  },
  {
   "cell_type": "code",
   "execution_count": 16,
   "metadata": {},
   "outputs": [
    {
     "data": {
      "image/png": "[encoded data removed]",
      "text/plain": [
       "<Figure size 100.8x57.6 with 1 Axes>"
      ]
     },
     "metadata": {
      "needs_background": "light"
     },
     "output_type": "display_data"
    }
   ],
   "source": [
    "y_997_lower = np.percentile(y, 0.15, axis=1)\n",
    "y_95_lower = np.percentile(y, 2.5, axis=1)\n",
    "y_68_lower = np.percentile(y, 16.0, axis=1)\n",
    "y_median = np.percentile(y, 50.0, axis=1)\n",
    "y_68_upper = np.percentile(y, 84.0, axis=1)\n",
    "y_95_upper = np.percentile(y, 97.5, axis=1)\n",
    "y_997_upper = np.percentile(y, 99.85, axis=1)\n",
    "\n",
    "plt.rcParams.update({'figure.figsize': (1.4, 0.8)})\n",
    "plt.figure()\n",
    "ax = plt.gca()\n",
    "ax.spines['top'].set_visible(False)\n",
    "ax.spines['right'].set_visible(False)\n",
    "ax.spines['bottom'].set_visible(True)\n",
    "ax.spines['left'].set_visible(True)\n",
    "\n",
    "# adapted from framework plotting methods\n",
    "if plot_data:\n",
    "    data.events_find_all()\n",
    "    data_act = np.array([tup[1] for tup in data.event_all_first_cell_count_increase_after_cell_type_conversion if tup[0]])\n",
    "\n",
    "    plt.hist(data_act - 1e-06, bins=data.data_time_values,\n",
    "             color='black', alpha=0.1,\n",
    "             density=True, histtype='stepfilled')\n",
    "    \n",
    "plt.fill_between(x, y_997_lower, y_95_lower, color=cwdiv, alpha=0.2, linewidth=0.0, zorder=100)\n",
    "plt.fill_between(x, y_95_lower, y_68_lower, color=cwdiv, alpha=0.4, linewidth=0.0, zorder=100)\n",
    "plt.fill_between(x, y_68_lower, y_median, color=cwdiv, alpha=0.6, linewidth=0.0, zorder=100)\n",
    "\n",
    "plt.fill_between(x, y_median, y_68_upper, color=cwdiv, alpha=0.6, linewidth=0.0, zorder=100)\n",
    "plt.fill_between(x, y_68_upper, y_95_upper, color=cwdiv, alpha=0.4, linewidth=0.0, zorder=100)\n",
    "plt.fill_between(x, y_95_upper, y_997_upper, color=cwdiv, alpha=0.2, linewidth=0.0, zorder=100)\n",
    "\n",
    "# plt.plot(x, y_hdi_997_lower, color='darkorange', lw=0.5, alpha=0.2)\n",
    "# plt.plot(x, y_hdi_95_lower, color='darkorange', lw=0.5, alpha=0.4)\n",
    "# plt.plot(x, y_hdi_68_lower, color='blue', lw=0.5, alpha=0.6)\n",
    "plt.plot(x, y_median, color=cwdiv, lw=1, zorder=200)\n",
    "# plt.plot(x, y_hdi_68_upper, color='darkorange', lw=0.5, alpha=0.6)\n",
    "# plt.plot(x, y_hdi_95_upper, color='darkorange', lw=0.5, alpha=0.4)\n",
    "# plt.plot(x, y_hdi_997_upper, color='darkorange', lw=0.5, alpha=0.2)\n",
    "\n",
    "plt.ylabel('Probability')\n",
    "plt.xlabel('Division times (hours)')\n",
    "plt.savefig('paper_figures/waiting_times_div.pdf', bbox_inches='tight') # pdf, png"
   ]
  },
  {
   "cell_type": "code",
   "execution_count": 74,
   "metadata": {},
   "outputs": [
    {
     "name": "stdout",
     "output_type": "stream",
     "text": [
      "1.0\n",
      "64\n"
     ]
    }
   ],
   "source": [
    "# set model prior to give classes same weight\n",
    "mprior = np.array([1/len(res)]*len(res))\n",
    "print(sum(mprior))\n",
    "print(len(mprior))"
   ]
  },
  {
   "cell_type": "code",
   "execution_count": 79,
   "metadata": {
    "collapsed": true,
    "jupyter": {
     "outputs_hidden": true
    }
   },
   "outputs": [
    {
     "name": "stdout",
     "output_type": "stream",
     "text": [
      "0\n",
      "1\n",
      "2\n",
      "3\n",
      "4\n",
      "5\n",
      "6\n",
      "7\n",
      "8\n",
      "9\n",
      "10\n",
      "11\n",
      "12\n",
      "13\n",
      "14\n",
      "15\n",
      "16\n",
      "17\n",
      "18\n",
      "19\n",
      "20\n",
      "21\n",
      "22\n",
      "23\n",
      "24\n",
      "25\n",
      "26\n",
      "27\n",
      "28\n",
      "29\n",
      "30\n",
      "31\n",
      "32\n",
      "33\n",
      "34\n",
      "35\n",
      "36\n",
      "37\n",
      "38\n",
      "39\n",
      "40\n",
      "41\n",
      "42\n",
      "43\n",
      "44\n",
      "45\n",
      "46\n",
      "47\n",
      "48\n",
      "49\n",
      "50\n",
      "51\n",
      "52\n",
      "53\n",
      "54\n",
      "55\n",
      "56\n",
      "57\n",
      "58\n",
      "59\n",
      "60\n",
      "61\n",
      "62\n",
      "63\n",
      "64\n",
      "65\n",
      "66\n",
      "67\n",
      "68\n",
      "69\n",
      "70\n",
      "71\n",
      "72\n",
      "73\n",
      "74\n",
      "75\n",
      "76\n",
      "77\n",
      "78\n",
      "79\n",
      "80\n",
      "81\n",
      "82\n",
      "83\n",
      "84\n",
      "85\n",
      "86\n",
      "87\n",
      "88\n",
      "89\n",
      "90\n",
      "91\n",
      "92\n",
      "93\n",
      "94\n",
      "95\n",
      "96\n",
      "97\n",
      "98\n",
      "99\n",
      "[  0. 100.   0.   0.]\n"
     ]
    }
   ],
   "source": [
    "# res = [est]\n",
    "celltype = 0 # 0 or 1 (active, naive)\n",
    "time_point = -1 # last time point\n",
    "sample_n = 100 # 1000 # posterior samples of cell histograms; typically 1000-10000\n",
    "sim_n = 50 # 500 # simulation repeats per given model and theta; ideally, inf\n",
    "count_max = 16\n",
    "y = hist_cell_counts_samples(res, celltype, time_point, sample_n, count_max, sim_n, mprior)"
   ]
  },
  {
   "cell_type": "code",
   "execution_count": 80,
   "metadata": {},
   "outputs": [
    {
     "name": "stdout",
     "output_type": "stream",
     "text": [
      "(16, 100)\n"
     ]
    }
   ],
   "source": [
    "print(y.shape)\n",
    "y_95_lower = np.percentile(y, 2.5, axis=1)\n",
    "y_median = np.percentile(y, 50.0, axis=1)\n",
    "y_95_upper = np.percentile(y, 97.5, axis=1)"
   ]
  },
  {
   "cell_type": "code",
   "execution_count": 81,
   "metadata": {},
   "outputs": [
    {
     "data": {
      "image/png": "[encoded data removed]",
      "text/plain": [
       "<Figure size 57.6x57.6 with 1 Axes>"
      ]
     },
     "metadata": {
      "needs_background": "light"
     },
     "output_type": "display_data"
    }
   ],
   "source": [
    "# compute model histogram over all models\n",
    "plt.rcParams.update({'figure.figsize': (0.8, 0.8)})\n",
    "ax = plt.gca()\n",
    "ax.spines['top'].set_visible(False)\n",
    "ax.spines['right'].set_visible(False)\n",
    "ax.spines['bottom'].set_visible(True)\n",
    "ax.spines['left'].set_visible(True)\n",
    "\n",
    "linelow = 44*y_95_lower/sim_n\n",
    "line = 44*y_median/sim_n\n",
    "lineupp = 44*y_95_upper/sim_n\n",
    "errlow = line-linelow\n",
    "errupp = lineupp-line\n",
    "\n",
    "# plt.fill_between(range(count_max), linelow, line, color=cnaive, alpha=0.2, linewidth=0.0, zorder=100)\n",
    "# plt.plot(range(count_max), line, color=cnaive, zorder=200, linewidth=1.0)\n",
    "# plt.fill_between(range(count_max), line, lineupp, color=cnaive, alpha=0.2, linewidth=0.0, zorder=100,\n",
    "#                 label='Models')\n",
    "cutplot = 3\n",
    "plt.errorbar(list(range(count_max))[:cutplot], line[:cutplot], yerr=np.array([errlow, errupp])[:, :cutplot],\n",
    "            color=cnaive, linewidth=1.0, capsize=1.0,\n",
    "             zorder=100, markersize=2, fmt='.', label='Model')\n",
    "\n",
    "plt.hist(res[0].data.data_counts[:, 1, -1], bins=np.linspace(-0.5, 9.5, num=11), \n",
    "         color='black', alpha=0.1, label='Data')\n",
    "plt.xticks([0, 1, 2])\n",
    "plt.xlim(None, 3)\n",
    "plt.ylim(-1.5, None)\n",
    "plt.xlabel('Cell number (54 hours)')\n",
    "plt.ylabel('Probability')\n",
    "plt.legend()\n",
    "plt.savefig(f'paper_figures/hist_cd44_naive_688_par1+i.pdf', bbox_inches='tight') # _thin4"
   ]
  },
  {
   "cell_type": "code",
   "execution_count": 82,
   "metadata": {},
   "outputs": [
    {
     "data": {
      "image/png": "[encoded data removed]",
      "text/plain": [
       "<Figure size 57.6x57.6 with 1 Axes>"
      ]
     },
     "metadata": {
      "needs_background": "light"
     },
     "output_type": "display_data"
    }
   ],
   "source": [
    "# compute model histogram over all models\n",
    "plt.rcParams.update({'figure.figsize': (0.8, 0.8)})\n",
    "ax = plt.gca()\n",
    "ax.spines['top'].set_visible(False)\n",
    "ax.spines['right'].set_visible(False)\n",
    "ax.spines['bottom'].set_visible(True)\n",
    "ax.spines['left'].set_visible(True)\n",
    "\n",
    "linelow = 44*y_95_lower/sim_n\n",
    "line = 44*y_median/sim_n\n",
    "lineupp = 44*y_95_upper/sim_n\n",
    "errlow = line-linelow\n",
    "errupp = lineupp-line\n",
    "\n",
    "# plt.fill_between(range(count_max), linelow, line, color=cactiv, alpha=0.2, linewidth=0.0, zorder=100)\n",
    "# plt.plot(range(count_max), line, color=cactiv, zorder=200, linewidth=1.0)\n",
    "# plt.fill_between(range(count_max), line, lineupp, color=cactiv, alpha=0.2, linewidth=0.0, zorder=100,\n",
    "#                 label='Model')\n",
    "cutplot = 10\n",
    "plt.errorbar(list(range(count_max))[:cutplot], line[:cutplot], \n",
    "             yerr=np.array([errlow, errupp])[:, :cutplot],\n",
    "            color=cactiv, linewidth=1.0, capsize=1.0,\n",
    "             zorder=100, markersize=2, fmt='.', label='Model')\n",
    "\n",
    "plt.hist(res[0].data.data_counts[:, 0, -1], bins=np.linspace(-0.5, 9.5, num=11), \n",
    "         color='black', alpha=0.1, label='Data')\n",
    "\n",
    "plt.xlim(-1, 10)\n",
    "plt.xlabel('Cell number (54 hours)')\n",
    "plt.ylabel('Probability')\n",
    "plt.legend()\n",
    "plt.savefig(f'paper_figures/hist_cd44_active_688_par1+i.pdf', bbox_inches='tight') # _thin4"
   ]
  },
  {
   "cell_type": "code",
   "execution_count": 88,
   "metadata": {},
   "outputs": [
    {
     "data": {
      "text/plain": [
       "(18, 18)"
      ]
     },
     "execution_count": 88,
     "metadata": {},
     "output_type": "execute_result"
    }
   ],
   "source": [
    "import itertools\n",
    "steps_list = [1, 2, 4, 6, 8, 10, 14, 18] # [2, 4, 6, 8, 10, 14, 18]\n",
    "sparse_steps_list = list(itertools.combinations_with_replacement(steps_list, 2))\n",
    "for d1, d2 in sparse_steps_list:\n",
    "    pass\n",
    "d1, d2"
   ]
  },
  {
   "cell_type": "markdown",
   "metadata": {},
   "source": [
    "##### par3 model results"
   ]
  },
  {
   "cell_type": "code",
   "execution_count": 20,
   "metadata": {},
   "outputs": [],
   "source": [
    "res = pickle.load(open('estimation_count_data_cd44_filtered_sigma022_par3.pickle', 'rb'))\n",
    "net_names = [est.net.net_name for est in res]\n",
    "model_probs = me.selection.compute_model_probabilities(res)\n",
    "log_evids = [est.bay_est_log_evidence for est in res]"
   ]
  },
  {
   "cell_type": "code",
   "execution_count": 21,
   "metadata": {},
   "outputs": [
    {
     "name": "stdout",
     "output_type": "stream",
     "text": [
      "[0.0278788  0.02550369 0.02247498 0.02124972 0.02028658 0.02023628\n",
      " 0.01975946 0.01950185 0.01909961 0.01891333]\n",
      "[235.88771465 235.79867124 235.67225071 235.61619157 235.56980755\n",
      " 235.5673253  235.54348052 235.53035758 235.5095162  235.49971511]\n",
      "['net_alphaF6_alphaS6_alphaT6_lambda14'\n",
      " 'net_alphaF6_alphaS6_alphaT6_lambda18'\n",
      " 'net_alphaF8_alphaS8_alphaT18_lambda14'\n",
      " 'net_alphaF4_alphaS6_alphaT6_lambda18'\n",
      " 'net_alphaF8_alphaS8_alphaT18_lambda18'\n",
      " 'net_alphaF6_alphaS6_alphaT14_lambda14'\n",
      " 'net_alphaF6_alphaS6_alphaT18_lambda18'\n",
      " 'net_alphaF6_alphaS6_alphaT6_lambda10'\n",
      " 'net_alphaF6_alphaS8_alphaT14_lambda14'\n",
      " 'net_alphaF6_alphaS6_alphaT14_lambda18']\n"
     ]
    }
   ],
   "source": [
    "sort_inds = np.array(- model_probs).argsort()\n",
    "net_names_sorted = np.array(net_names)[sort_inds]\n",
    "model_probs_sorted = np.array(model_probs)[sort_inds]\n",
    "log_evids_sorted = np.array(log_evids)[sort_inds]\n",
    "\n",
    "print(model_probs_sorted[:10])\n",
    "print(log_evids_sorted[:10])\n",
    "print(net_names_sorted[:10])"
   ]
  },
  {
   "cell_type": "code",
   "execution_count": 22,
   "metadata": {},
   "outputs": [
    {
     "name": "stdout",
     "output_type": "stream",
     "text": [
      "348 net_alphaF6_alphaS6_alphaT6_lambda14\n"
     ]
    },
    {
     "data": {
      "text/plain": [
       "235.88771464915"
      ]
     },
     "execution_count": 22,
     "metadata": {},
     "output_type": "execute_result"
    }
   ],
   "source": [
    "est_i = list(model_probs).index(max(model_probs))\n",
    "print(est_i, net_names[est_i])\n",
    "est = res[est_i]\n",
    "est.bay_est_log_evidence"
   ]
  },
  {
   "cell_type": "code",
   "execution_count": 14,
   "metadata": {},
   "outputs": [
    {
     "data": {
      "image/png": "[encoded data removed]",
      "text/plain": [
       "<Figure size 86.4x57.6 with 1 Axes>"
      ]
     },
     "metadata": {
      "needs_background": "light"
     },
     "output_type": "display_data"
    },
    {
     "data": {
      "image/png": "[encoded data removed]",
      "text/plain": [
       "<Figure size 86.4x57.6 with 1 Axes>"
      ]
     },
     "metadata": {
      "needs_background": "light"
     },
     "output_type": "display_data"
    },
    {
     "data": {
      "image/png": "[encoded data removed]",
      "text/plain": [
       "<Figure size 86.4x57.6 with 1 Axes>"
      ]
     },
     "metadata": {
      "needs_background": "light"
     },
     "output_type": "display_data"
    }
   ],
   "source": [
    "plt.rcParams.update({'figure.figsize': (1.2, 0.8)})\n",
    "\n",
    "settings = {\n",
    "    'A_t': {'label': 'E$(A_t)$', 'color': cactiv},\n",
    "    'M_t': {'label': 'E$(M_t)$', 'color': cnaive}\n",
    "}\n",
    "me.plots.est_bestfit_mean_plot(est, x_label='Time (hours)', save='paper_figures/fit_cd44_mean_net_alphaF6_alphaS6_alphaT6_lambda14.pdf', settings=settings)\n",
    "\n",
    "settings = {\n",
    "    ('A_t', 'A_t'): {'label': 'Var$(A_t)$', 'color': cactiv},\n",
    "    ('M_t', 'M_t'): {'label': 'Var$(M_t)$', 'color': cnaive}\n",
    "}\n",
    "me.plots.est_bestfit_variance_plot(est, x_label='Time (hours)', save='paper_figures/fit_cd44_var_net_alphaF6_alphaS6_alphaT6_lambda14.pdf', settings=settings)\n",
    "\n",
    "settings = {\n",
    "    ('A_t', 'M_t'): {'label': 'Cov$(M_t, A_t)$', 'color': grey}\n",
    "}\n",
    "me.plots.est_bestfit_covariance_plot(est, x_label='Time (hours)', save='paper_figures/fit_cd44_cov_net_alphaF6_alphaS6_alphaT6_lambda14.pdf', settings=settings)"
   ]
  },
  {
   "cell_type": "code",
   "execution_count": 15,
   "metadata": {},
   "outputs": [
    {
     "data": {
      "image/png": "[encoded data removed]",
      "text/plain": [
       "<Figure size 698.4x698.4 with 16 Axes>"
      ]
     },
     "metadata": {
      "needs_background": "light"
     },
     "output_type": "display_data"
    }
   ],
   "source": [
    "me.plots.est_corner_kernel_plot(est, save='paper_figures/post_cd44_cov_net_alphaF6_alphaS6_alphaT6_lambda14.pdf')"
   ]
  },
  {
   "cell_type": "markdown",
   "metadata": {},
   "source": [
    "##### summary plots"
   ]
  },
  {
   "cell_type": "code",
   "execution_count": 3,
   "metadata": {},
   "outputs": [
    {
     "name": "stdout",
     "output_type": "stream",
     "text": [
      "100 288 588 976\n"
     ]
    }
   ],
   "source": [
    "res1 = pickle.load(open('waiting_times_files/estimation_count_data_cd44_filtered_sigma022_minimal2.pickle', 'rb'))\n",
    "res2 = pickle.load(open('waiting_times_files/estimation_count_data_cd44_filtered_sigma022_par2.pickle', 'rb'))\n",
    "res3 = pickle.load(open('waiting_times_files/estimation_count_data_cd44_filtered_sigma022_par3_new.pickle', 'rb'))\n",
    "res = res1 + res2 + res3\n",
    "print(len(res1), len(res2), len(res3), len(res))"
   ]
  },
  {
   "cell_type": "code",
   "execution_count": 4,
   "metadata": {},
   "outputs": [
    {
     "name": "stdout",
     "output_type": "stream",
     "text": [
      "1.000000000000017\n",
      "976\n"
     ]
    }
   ],
   "source": [
    "net_names = [est.net.net_name for est in res]\n",
    "mprior = np.array([0.25] + [0.25/99]*99 + [0.25/288]*288 + [0.25/588]*588)\n",
    "print(sum(mprior))\n",
    "model_probs = me.selection.compute_model_probabilities(res, mprior=mprior)\n",
    "print(len(model_probs))"
   ]
  },
  {
   "cell_type": "code",
   "execution_count": 5,
   "metadata": {},
   "outputs": [
    {
     "name": "stdout",
     "output_type": "stream",
     "text": [
      "1\n",
      "99\n",
      "288\n",
      "588\n"
     ]
    }
   ],
   "source": [
    "print(len(model_probs[0:1]))\n",
    "print(len(model_probs[1:100]))\n",
    "print(len(model_probs[100:388]))\n",
    "print(len(model_probs[388:]))"
   ]
  },
  {
   "cell_type": "code",
   "execution_count": 6,
   "metadata": {},
   "outputs": [
    {
     "name": "stdout",
     "output_type": "stream",
     "text": [
      "4.452090637016675e-205\n",
      "5.831857248046224e-12\n",
      "0.557374194770303\n",
      "0.4426258052238786\n"
     ]
    },
    {
     "data": {
      "image/png": "[encoded data removed]",
      "text/plain": [
       "<Figure size 28.8x72 with 2 Axes>"
      ]
     },
     "metadata": {
      "needs_background": "light"
     },
     "output_type": "display_data"
    }
   ],
   "source": [
    "print(sum(model_probs[0:1]))\n",
    "print(sum(model_probs[1:100]))\n",
    "print(sum(model_probs[100:388]))\n",
    "print(sum(model_probs[388:]))\n",
    "\n",
    "plt.figure(figsize=(0.4,1))\n",
    "df = pd.DataFrame(np.array([model_probs[0], sum(model_probs[1:100]), sum(model_probs[100:388]), sum(model_probs[388:])]) * 100.0, index=['Markov', 'Erlang', 'Phase-type 2', 'Phase-type 3']) # , index=rows\n",
    "sns.heatmap(df, cmap='cividis', annot=True, fmt='.1f') # 'plasma' # annot=True\n",
    "plt.yticks(rotation=0, va='center')\n",
    "plt.xticks(rotation=90)\n",
    "plt.savefig('paper_figures/models_probs_map.pdf', bbox_inches='tight')"
   ]
  },
  {
   "cell_type": "code",
   "execution_count": 10,
   "metadata": {},
   "outputs": [
    {
     "name": "stdout",
     "output_type": "stream",
     "text": [
      "59\n",
      "183\n",
      "349\n",
      "59\n",
      "183\n",
      "349\n",
      "283\n",
      "1.0790882757157929e-206\n",
      "2.1136588251598973e-12\n",
      "0.7963072164813105\n",
      "0.20369278351656742\n",
      "net_3_20 par2_d_6_8_l_18 par3_d_6_6_6_l_18\n"
     ]
    },
    {
     "data": {
      "image/png": "[encoded data removed]",
      "text/plain": [
       "<Figure size 28.8x72 with 2 Axes>"
      ]
     },
     "metadata": {
      "needs_background": "light"
     },
     "output_type": "display_data"
    }
   ],
   "source": [
    "res1_probs = me.selection.compute_model_probabilities(res1)\n",
    "res2_probs = me.selection.compute_model_probabilities(res2)\n",
    "res3_probs = me.selection.compute_model_probabilities(res3)\n",
    "print(list(res1_probs).index(max(res1_probs)))\n",
    "print(list(res2_probs).index(max(res2_probs)))\n",
    "print(list(res3_probs).index(max(res3_probs)))\n",
    "print(list(model_probs[0:100]).index(max(model_probs[0:100])))\n",
    "print(list(model_probs[100:388]).index(max(model_probs[100:388])))\n",
    "print(list(model_probs[388:]).index(max(model_probs[388:])))\n",
    "print(list(model_probs).index(max(model_probs)))\n",
    "\n",
    "bestof_probs = me.selection.compute_model_probabilities([\n",
    "                res[0], res[59], res[183+100], res[349+100+288]])\n",
    "\n",
    "print(bestof_probs[0])\n",
    "print(bestof_probs[1])\n",
    "print(bestof_probs[2])\n",
    "print(bestof_probs[3])\n",
    "\n",
    "plt.figure(figsize=(0.4,1))\n",
    "df = pd.DataFrame(np.array([bestof_probs[0], bestof_probs[1], bestof_probs[2], bestof_probs[3]]) * 100.0, index=['Markov\\n model', 'Best Erlang\\n model', 'Best Phase-\\n type 2 model', 'Best Phase-\\n type 3 model']) # , index=rows\n",
    "sns.heatmap(df, cmap='cividis', annot=True, fmt='.1f') # 'plasma' # annot=True\n",
    "plt.yticks(rotation=0, va='center')\n",
    "plt.xticks(rotation=90)\n",
    "plt.savefig('paper_figures/models_probs_map_bestof.pdf', bbox_inches='tight')\n",
    "\n",
    "print(net_names[59], net_names[183+100], net_names[349+100+288])"
   ]
  },
  {
   "cell_type": "code",
   "execution_count": 56,
   "metadata": {},
   "outputs": [
    {
     "name": "stdout",
     "output_type": "stream",
     "text": [
      "86\n",
      "798\n",
      "(884,)\n"
     ]
    },
    {
     "data": {
      "image/png": "[encoded data removed]",
      "text/plain": [
       "<Figure size 86.4x57.6 with 1 Axes>"
      ]
     },
     "metadata": {
      "needs_background": "light"
     },
     "output_type": "display_data"
    }
   ],
   "source": [
    "plt.rcParams.update({'figure.figsize': (1.2, 0.8)})\n",
    "bf = me.selection.compute_model_bayes_factors(res)\n",
    "bf[bf > 100.0] = 100.0\n",
    "plt.figure()\n",
    "ax = plt.gca()\n",
    "ax.spines['top'].set_visible(False)\n",
    "ax.spines['right'].set_visible(False)\n",
    "ax.spines['bottom'].set_visible(True)\n",
    "ax.spines['left'].set_visible(True)\n",
    "plt.xlim((0, 50)) # 110\n",
    "plt.ylim((None, 0.03))\n",
    "plt.hist(bf, density=True, color=grey, bins=40)\n",
    "plt.axvline(x=10.0, lw=0.5, color='black')\n",
    "plt.xlabel('Bayes factor')\n",
    "plt.ylabel('Model frequencies')\n",
    "plt.savefig('paper_figures/bfs_cd44_full.pdf', bbox_inches='tight')\n",
    "\n",
    "print(np.sum(bf < 10.0))\n",
    "print(np.sum(bf >= 10.0))\n",
    "print(bf.shape)"
   ]
  },
  {
   "cell_type": "code",
   "execution_count": 57,
   "metadata": {},
   "outputs": [
    {
     "name": "stdout",
     "output_type": "stream",
     "text": [
      "884\n",
      "True\n"
     ]
    },
    {
     "data": {
      "image/png": "[encoded data removed]",
      "text/plain": [
       "<Figure size 21.6x288 with 2 Axes>"
      ]
     },
     "metadata": {
      "needs_background": "light"
     },
     "output_type": "display_data"
    }
   ],
   "source": [
    "net_names = [est.net.net_name for est in res]\n",
    "model_probs = me.selection.compute_model_probabilities(res)\n",
    "print(len(model_probs))\n",
    "\n",
    "ntop = 40\n",
    "\n",
    "sort_inds = np.array(- model_probs).argsort()\n",
    "net_names_sorted = np.array(net_names)[sort_inds]\n",
    "model_probs_sorted = np.array(model_probs)[sort_inds]\n",
    "\n",
    "# check if all ntop models are phase type\n",
    "is_ph = True\n",
    "for name in net_names_sorted[0:ntop]:\n",
    "    if 'alphaF' in name:\n",
    "        pass\n",
    "    else:\n",
    "        is_ph = False\n",
    "print(is_ph)\n",
    "    \n",
    "def process_net_names(net_names):\n",
    "    net_names_style = list()\n",
    "    for name in net_names:\n",
    "        name_style = str(name[4:])\n",
    "        name_style = name_style.replace('_', r', ')\n",
    "        name_style = name_style.replace('alphaF', r'$n_{\\alpha_1}$=')\n",
    "        name_style = name_style.replace('alphaS', r'$n_{\\alpha_2}$=')\n",
    "        name_style = name_style.replace('alphaT', r'$n_{\\alpha_3}$=')\n",
    "        name_style = name_style.replace('lambda', r'$n_{\\lambda}$=')\n",
    "        net_names_style.append(name_style)\n",
    "    return net_names_style\n",
    "\n",
    "def process_net_names_simple(net_names):\n",
    "    net_names_style = list()\n",
    "    for name in net_names:\n",
    "        name_style = str(name[4:])\n",
    "        name_style = name_style.replace('_', ' ')\n",
    "        name_style = name_style.replace('alphaF1', '1')\n",
    "        name_style = name_style.replace('alphaF2', '2  ')\n",
    "        name_style = name_style.replace('alphaF4', '4  ')\n",
    "        name_style = name_style.replace('alphaF6', '6  ')\n",
    "        name_style = name_style.replace('alphaF8', '8  ')\n",
    "        \n",
    "        name_style = name_style.replace('alphaS1', '1')\n",
    "        name_style = name_style.replace('alphaS2', '2  ')\n",
    "        name_style = name_style.replace('alphaS4', '4  ')\n",
    "        name_style = name_style.replace('alphaS6', '6  ')\n",
    "        name_style = name_style.replace('alphaS8', '8  ')\n",
    "        \n",
    "        name_style = name_style.replace('alphaT1', '1')\n",
    "        name_style = name_style.replace('alphaT2', '2  ')\n",
    "        name_style = name_style.replace('alphaT4', '4  ')\n",
    "        name_style = name_style.replace('alphaT6', '6  ')\n",
    "        name_style = name_style.replace('alphaT8', '8  ')\n",
    "        \n",
    "        name_style = name_style.replace('lambda1', '1')\n",
    "        name_style = name_style.replace('lambda2', '2')\n",
    "        name_style = name_style.replace('lambda4', '4')\n",
    "        name_style = name_style.replace('lambda6', '6')\n",
    "        name_style = name_style.replace('lambda8', '8')\n",
    "        name_style = 'PH  ' + name_style\n",
    "        net_names_style.append(name_style)\n",
    "    return net_names_style\n",
    "\n",
    "plt.rcParams.update({'mathtext.default':  'regular' })\n",
    "plt.figure(figsize=(0.3,4.0))\n",
    "df = pd.DataFrame(np.array([model_probs_sorted[:ntop]]).T * 100.0, index=process_net_names_simple(net_names_sorted[:ntop])) # , index=rows\n",
    "g = sns.heatmap(df, cmap='cividis', annot=True, fmt='.2f', annot_kws={\"size\":4}, yticklabels=True) # annot=True\n",
    "ax = plt.gca()\n",
    "ax.tick_params(right=True, left=False, labelright=True, labelleft=False)\n",
    "g.set_yticklabels(g.get_ymajorticklabels(), fontsize = 4)\n",
    "plt.yticks(rotation=0, va='center')\n",
    "plt.xticks(rotation=90)\n",
    "plt.savefig('paper_figures/models_probs_map_single.pdf', bbox_inches='tight')"
   ]
  },
  {
   "cell_type": "code",
   "execution_count": 58,
   "metadata": {},
   "outputs": [
    {
     "data": {
      "text/plain": [
       "40"
      ]
     },
     "execution_count": 58,
     "metadata": {},
     "output_type": "execute_result"
    }
   ],
   "source": [
    "len(model_probs_sorted[:40])"
   ]
  },
  {
   "cell_type": "markdown",
   "metadata": {},
   "source": [
    "##### waiting times"
   ]
  },
  {
   "cell_type": "code",
   "execution_count": 24,
   "metadata": {},
   "outputs": [
    {
     "name": "stdout",
     "output_type": "stream",
     "text": [
      "100 288 588 976\n"
     ]
    }
   ],
   "source": [
    "res1 = pickle.load(open('waiting_times_files/estimation_count_data_cd44_filtered_sigma022_minimal2.pickle', 'rb'))\n",
    "res2 = pickle.load(open('waiting_times_files/estimation_count_data_cd44_filtered_sigma022_par2.pickle', 'rb'))\n",
    "res3 = pickle.load(open('waiting_times_files/estimation_count_data_cd44_filtered_sigma022_par3_new.pickle', 'rb'))\n",
    "res = res1 + res2 + res3\n",
    "print(len(res1), len(res2), len(res3), len(res))\n",
    "\n",
    "net_names = [est.net.net_name for est in res]\n",
    "model_probs = me.selection.compute_model_probabilities(res)\n",
    "data = res[0].data\n",
    "# print(sum(['alphaF' in name for name in net_names]))"
   ]
  },
  {
   "cell_type": "code",
   "execution_count": 25,
   "metadata": {},
   "outputs": [
    {
     "name": "stdout",
     "output_type": "stream",
     "text": [
      "1.000000000000017\n",
      "976\n"
     ]
    }
   ],
   "source": [
    "# set model prior to give classes same weight\n",
    "mprior = np.array([0.25] + [0.25/99]*99 + [0.25/288]*288 + [0.25/588]*588)\n",
    "print(sum(mprior))\n",
    "print(len(mprior))"
   ]
  },
  {
   "cell_type": "code",
   "execution_count": 31,
   "metadata": {},
   "outputs": [
    {
     "name": "stdout",
     "output_type": "stream",
     "text": [
      "[    0.     0. 22279. 17721.]\n"
     ]
    }
   ],
   "source": [
    "# idea to compute \"credible bands\" for better visualisation\n",
    "samples = 40000\n",
    "plot_data = True # True or False\n",
    "time_max = 60.0 # 60.0, 100.0, 200.0, 150.0, 54.0\n",
    "x = np.linspace(0.0, time_max, num=200)\n",
    "\n",
    "y = waiting_time_distr_samples_act(x, res, samples, time_max, mprior)"
   ]
  },
  {
   "cell_type": "code",
   "execution_count": 33,
   "metadata": {},
   "outputs": [
    {
     "data": {
      "image/png": "[encoded data removed]",
      "text/plain": [
       "<Figure size 100.8x57.6 with 1 Axes>"
      ]
     },
     "metadata": {
      "needs_background": "light"
     },
     "output_type": "display_data"
    }
   ],
   "source": [
    "y_997_lower = np.percentile(y, 0.15, axis=1)\n",
    "y_95_lower = np.percentile(y, 2.5, axis=1)\n",
    "y_68_lower = np.percentile(y, 16.0, axis=1)\n",
    "y_median = np.percentile(y, 50.0, axis=1)\n",
    "y_68_upper = np.percentile(y, 84.0, axis=1)\n",
    "y_95_upper = np.percentile(y, 97.5, axis=1)\n",
    "y_997_upper = np.percentile(y, 99.85, axis=1)\n",
    "\n",
    "plt.rcParams.update({'figure.figsize': (1.8, 0.8)}) # 1.4, 1.8, \n",
    "plt.figure()\n",
    "ax = plt.gca()\n",
    "ax.spines['top'].set_visible(False)\n",
    "ax.spines['right'].set_visible(False)\n",
    "ax.spines['bottom'].set_visible(True)\n",
    "ax.spines['left'].set_visible(True)\n",
    "\n",
    "# adapted from framework plotting methods\n",
    "if plot_data:\n",
    "    data.events_find_all()\n",
    "    data_act = np.array([tup[1] for tup in data.event_all_first_cell_type_conversion if tup[0]])\n",
    "\n",
    "    plt.hist(data_act - 1e-06, bins=data.data_time_values,\n",
    "             color='black', alpha=0.1,\n",
    "             density=True, histtype='stepfilled', label='Data')\n",
    "\n",
    "\n",
    "plt.fill_between(x, y_997_lower, y_95_lower, color=cwact, alpha=0.2, linewidth=0.0, zorder=100)\n",
    "plt.fill_between(x, y_95_lower, y_68_lower, color=cwact, alpha=0.4, linewidth=0.0, zorder=100)\n",
    "plt.fill_between(x, y_68_lower, y_median, color=cwact, alpha=0.6, linewidth=0.0, zorder=100)\n",
    "\n",
    "plt.fill_between(x, y_median, y_68_upper, color=cwact, alpha=0.6, linewidth=0.0, zorder=100)\n",
    "plt.fill_between(x, y_68_upper, y_95_upper, color=cwact, alpha=0.4, linewidth=0.0, zorder=100)\n",
    "plt.fill_between(x, y_95_upper, y_997_upper, color=cwact, alpha=0.2, linewidth=0.0, zorder=100)\n",
    "\n",
    "# plt.plot(x, y_hdi_997_lower, color='lightseagreen', lw=2, alpha=0.2)\n",
    "# plt.plot(x, y_hdi_95_lower, color='lightseagreen', lw=2, alpha=0.4)\n",
    "# plt.plot(x, y_hdi_68_lower, color='lightseagreen', lw=2, alpha=0.6)\n",
    "plt.plot(x, y_median, color=cwact, lw=1, zorder=200, label='Inference \\n(Moments)')\n",
    "# plt.plot(x, y_hdi_68_upper, color='lightseagreen', lw=2, alpha=0.6)\n",
    "# plt.plot(x, y_hdi_95_upper, color='lightseagreen', lw=2, alpha=0.4)\n",
    "# plt.plot(x, y_hdi_997_upper, color='lightseagreen', lw=2, alpha=0.2)\n",
    "\n",
    "# plot experimental window\n",
    "plt.axvline(x=54.0, linewidth=0.5, color=grey)\n",
    "\n",
    "# plt.xticks([0, 20, 40, 54, 100], [0, 20, 40, 54, 100])\n",
    "\n",
    "plt.legend()\n",
    "plt.ylabel('Probability')\n",
    "plt.xlabel('Activation times (hours)')\n",
    "plt.savefig('paper_figures/waiting_times_act.pdf', bbox_inches='tight') # _long200 # pdf, png"
   ]
  },
  {
   "cell_type": "code",
   "execution_count": 38,
   "metadata": {},
   "outputs": [
    {
     "name": "stdout",
     "output_type": "stream",
     "text": [
      "[    0.     0. 40000.     0.]\n",
      "par2_d_6_8_l_18\n"
     ]
    }
   ],
   "source": [
    "# how does it look for best-model only?\n",
    "samples = 40000\n",
    "plot_data = True # True or False\n",
    "time_max = 100.0 # 60.0, 100.0, 200.0\n",
    "x = np.linspace(0.0, time_max, num=200)\n",
    "\n",
    "y = waiting_time_distr_samples_act(x, [res[183+100]], samples, time_max, np.array([1.0]))\n",
    "print(net_names[183+100])"
   ]
  },
  {
   "cell_type": "code",
   "execution_count": 39,
   "metadata": {},
   "outputs": [
    {
     "data": {
      "image/png": "[encoded data removed]",
      "text/plain": [
       "<Figure size 129.6x57.6 with 1 Axes>"
      ]
     },
     "metadata": {
      "needs_background": "light"
     },
     "output_type": "display_data"
    }
   ],
   "source": [
    "y_997_lower = np.percentile(y, 0.15, axis=1)\n",
    "y_95_lower = np.percentile(y, 2.5, axis=1)\n",
    "y_68_lower = np.percentile(y, 16.0, axis=1)\n",
    "y_median = np.percentile(y, 50.0, axis=1)\n",
    "y_68_upper = np.percentile(y, 84.0, axis=1)\n",
    "y_95_upper = np.percentile(y, 97.5, axis=1)\n",
    "y_997_upper = np.percentile(y, 99.85, axis=1)\n",
    "\n",
    "plt.rcParams.update({'figure.figsize': (1.8, 0.8)}) # 1.4, 1.8\n",
    "plt.figure()\n",
    "ax = plt.gca()\n",
    "ax.spines['top'].set_visible(False)\n",
    "ax.spines['right'].set_visible(False)\n",
    "ax.spines['bottom'].set_visible(True)\n",
    "ax.spines['left'].set_visible(True)\n",
    "\n",
    "# adapted from framework plotting methods\n",
    "if plot_data:\n",
    "    data.events_find_all()\n",
    "    data_act = np.array([tup[1] for tup in data.event_all_first_cell_type_conversion if tup[0]])\n",
    "\n",
    "    plt.hist(data_act - 1e-06, bins=data.data_time_values,\n",
    "             color='black', alpha=0.1,\n",
    "             density=True, histtype='stepfilled', label='Data')\n",
    "\n",
    "plt.fill_between(x, y_997_lower, y_95_lower, color=cwact, alpha=0.2, linewidth=0.0, zorder=100)\n",
    "plt.fill_between(x, y_95_lower, y_68_lower, color=cwact, alpha=0.4, linewidth=0.0, zorder=100)\n",
    "plt.fill_between(x, y_68_lower, y_median, color=cwact, alpha=0.6, linewidth=0.0, zorder=100)\n",
    "\n",
    "plt.fill_between(x, y_median, y_68_upper, color=cwact, alpha=0.6, linewidth=0.0, zorder=100)\n",
    "plt.fill_between(x, y_68_upper, y_95_upper, color=cwact, alpha=0.4, linewidth=0.0, zorder=100)\n",
    "plt.fill_between(x, y_95_upper, y_997_upper, color=cwact, alpha=0.2, linewidth=0.0, zorder=100)\n",
    "\n",
    "# plt.plot(x, y_hdi_997_lower, color='lightseagreen', lw=2, alpha=0.2)\n",
    "# plt.plot(x, y_hdi_95_lower, color='lightseagreen', lw=2, alpha=0.4)\n",
    "# plt.plot(x, y_hdi_68_lower, color='lightseagreen', lw=2, alpha=0.6)\n",
    "plt.plot(x, y_median, color=cwact, lw=1, zorder=200, label='Inference \\n(Moments)')\n",
    "# plt.plot(x, y_hdi_68_upper, color='lightseagreen', lw=2, alpha=0.6)\n",
    "# plt.plot(x, y_hdi_95_upper, color='lightseagreen', lw=2, alpha=0.4)\n",
    "# plt.plot(x, y_hdi_997_upper, color='lightseagreen', lw=2, alpha=0.2)\n",
    "\n",
    "# plot experimental window\n",
    "plt.axvline(x=54.0, linewidth=0.5, color=grey)\n",
    "\n",
    "plt.xticks([0, 20, 40, 54, 100], [0, 20, 40, 54, 100])\n",
    "\n",
    "plt.legend()\n",
    "plt.ylabel('Probability')\n",
    "plt.xlabel('Activation times (hours)')\n",
    "plt.savefig('paper_figures/waiting_times_act_par2_d_6_8_l_18_long100.pdf', bbox_inches='tight') # _long200 # pdf, png"
   ]
  },
  {
   "cell_type": "code",
   "execution_count": 40,
   "metadata": {},
   "outputs": [
    {
     "name": "stdout",
     "output_type": "stream",
     "text": [
      "976\n",
      "[    0.     0. 22176. 17824.]\n"
     ]
    }
   ],
   "source": [
    "# idea to compute \"credible bands\" for better visualisation\n",
    "print(len(res))\n",
    "samples = 40000\n",
    "plot_data = False # True or False\n",
    "time_max = 54.0 # 150.0, 54.0\n",
    "x = np.linspace(0.0, time_max, num=200)\n",
    "\n",
    "# NOTE: the data we plot here is only from first divisions! (so its not the complete data, \n",
    "# which is inaccessible from the data)\n",
    "\n",
    "y = waiting_time_distr_samples_div(x, res, samples, time_max, mprior)"
   ]
  },
  {
   "cell_type": "code",
   "execution_count": 42,
   "metadata": {},
   "outputs": [
    {
     "data": {
      "image/png": "[encoded data removed]",
      "text/plain": [
       "<Figure size 100.8x57.6 with 1 Axes>"
      ]
     },
     "metadata": {
      "needs_background": "light"
     },
     "output_type": "display_data"
    }
   ],
   "source": [
    "y_997_lower = np.percentile(y, 0.15, axis=1)\n",
    "y_95_lower = np.percentile(y, 2.5, axis=1)\n",
    "y_68_lower = np.percentile(y, 16.0, axis=1)\n",
    "y_median = np.percentile(y, 50.0, axis=1)\n",
    "y_68_upper = np.percentile(y, 84.0, axis=1)\n",
    "y_95_upper = np.percentile(y, 97.5, axis=1)\n",
    "y_997_upper = np.percentile(y, 99.85, axis=1)\n",
    "\n",
    "# figure size adapted to fit activation times scale\n",
    "plt.rcParams.update({'figure.figsize': (1.4, 0.8)}) # 1.4, 0.97\n",
    "plt.figure()\n",
    "ax = plt.gca()\n",
    "ax.spines['top'].set_visible(False)\n",
    "ax.spines['right'].set_visible(False)\n",
    "ax.spines['bottom'].set_visible(True)\n",
    "ax.spines['left'].set_visible(True)\n",
    "\n",
    "# adapted from framework plotting methods\n",
    "if plot_data:\n",
    "    data.events_find_all()\n",
    "    data_act = np.array([tup[1] for tup in data.event_all_first_cell_count_increase_after_cell_type_conversion if tup[0]])\n",
    "\n",
    "    plt.hist(data_act - 1e-06, bins=data.data_time_values,\n",
    "             color='black', alpha=0.1,\n",
    "             density=True, histtype='stepfilled', label='Data')\n",
    "    \n",
    "plt.fill_between(x, y_997_lower, y_95_lower, color=cwdiv, alpha=0.2, linewidth=0.0, zorder=100)\n",
    "plt.fill_between(x, y_95_lower, y_68_lower, color=cwdiv, alpha=0.4, linewidth=0.0, zorder=100)\n",
    "plt.fill_between(x, y_68_lower, y_median, color=cwdiv, alpha=0.6, linewidth=0.0, zorder=100)\n",
    "\n",
    "plt.fill_between(x, y_median, y_68_upper, color=cwdiv, alpha=0.6, linewidth=0.0, zorder=100)\n",
    "plt.fill_between(x, y_68_upper, y_95_upper, color=cwdiv, alpha=0.4, linewidth=0.0, zorder=100)\n",
    "plt.fill_between(x, y_95_upper, y_997_upper, color=cwdiv, alpha=0.2, linewidth=0.0, zorder=100)\n",
    "\n",
    "# plt.plot(x, y_hdi_997_lower, color='darkorange', lw=0.5, alpha=0.2)\n",
    "# plt.plot(x, y_hdi_95_lower, color='darkorange', lw=0.5, alpha=0.4)\n",
    "# plt.plot(x, y_hdi_68_lower, color='blue', lw=0.5, alpha=0.6)\n",
    "plt.plot(x, y_median, color=cwdiv, lw=1, zorder=200, label='Inference \\n(Moments)')\n",
    "# plt.plot(x, y_hdi_68_upper, color='darkorange', lw=0.5, alpha=0.6)\n",
    "# plt.plot(x, y_hdi_95_upper, color='darkorange', lw=0.5, alpha=0.4)\n",
    "# plt.plot(x, y_hdi_997_upper, color='darkorange', lw=0.5, alpha=0.2)\n",
    "\n",
    "plt.xticks([0, 20, 40, 54], [0, 20, 40, 54])\n",
    "plt.ylim(0.0, None)\n",
    "\n",
    "plt.legend()\n",
    "plt.ylabel('Probability')\n",
    "plt.xlabel('Division times (hours)')\n",
    "plt.savefig('paper_figures/waiting_times_div_unscaled.pdf', bbox_inches='tight') # pdf, png"
   ]
  },
  {
   "cell_type": "code",
   "execution_count": 43,
   "metadata": {},
   "outputs": [
    {
     "name": "stdout",
     "output_type": "stream",
     "text": [
      "[    0.     0. 40000.     0.]\n"
     ]
    }
   ],
   "source": [
    "# best model only\n",
    "samples = 40000\n",
    "plot_data = False # True or False\n",
    "time_max = 54.0 # 150.0, 54.0\n",
    "x = np.linspace(0.0, time_max, num=200)\n",
    "\n",
    "# NOTE: the data we plot here is only from first divisions! (so its not the complete data, \n",
    "# which is inaccessible from the data)\n",
    "\n",
    "y = waiting_time_distr_samples_div(x, [res[183+100]], samples, time_max, np.array([1.0]))"
   ]
  },
  {
   "cell_type": "code",
   "execution_count": 45,
   "metadata": {},
   "outputs": [
    {
     "data": {
      "image/png": "[encoded data removed]",
      "text/plain": [
       "<Figure size 108x57.6 with 1 Axes>"
      ]
     },
     "metadata": {
      "needs_background": "light"
     },
     "output_type": "display_data"
    }
   ],
   "source": [
    "y_997_lower = np.percentile(y, 0.15, axis=1)\n",
    "y_95_lower = np.percentile(y, 2.5, axis=1)\n",
    "y_68_lower = np.percentile(y, 16.0, axis=1)\n",
    "y_median = np.percentile(y, 50.0, axis=1)\n",
    "y_68_upper = np.percentile(y, 84.0, axis=1)\n",
    "y_95_upper = np.percentile(y, 97.5, axis=1)\n",
    "y_997_upper = np.percentile(y, 99.85, axis=1)\n",
    "\n",
    "# figure size adapted to fit activation times scale\n",
    "plt.rcParams.update({'figure.figsize': (1.4, 0.8)}) # 1.4, 0.97\n",
    "plt.figure()\n",
    "ax = plt.gca()\n",
    "ax.spines['top'].set_visible(False)\n",
    "ax.spines['right'].set_visible(False)\n",
    "ax.spines['bottom'].set_visible(True)\n",
    "ax.spines['left'].set_visible(True)\n",
    "\n",
    "# adapted from framework plotting methods\n",
    "if plot_data:\n",
    "    data.events_find_all()\n",
    "    data_act = np.array([tup[1] for tup in data.event_all_first_cell_count_increase_after_cell_type_conversion if tup[0]])\n",
    "\n",
    "    plt.hist(data_act - 1e-06, bins=data.data_time_values,\n",
    "             color='black', alpha=0.1,\n",
    "             density=True, histtype='stepfilled', label='Data')\n",
    "    \n",
    "plt.fill_between(x, y_997_lower, y_95_lower, color=cwdiv, alpha=0.2, linewidth=0.0, zorder=100)\n",
    "plt.fill_between(x, y_95_lower, y_68_lower, color=cwdiv, alpha=0.4, linewidth=0.0, zorder=100)\n",
    "plt.fill_between(x, y_68_lower, y_median, color=cwdiv, alpha=0.6, linewidth=0.0, zorder=100)\n",
    "\n",
    "plt.fill_between(x, y_median, y_68_upper, color=cwdiv, alpha=0.6, linewidth=0.0, zorder=100)\n",
    "plt.fill_between(x, y_68_upper, y_95_upper, color=cwdiv, alpha=0.4, linewidth=0.0, zorder=100)\n",
    "plt.fill_between(x, y_95_upper, y_997_upper, color=cwdiv, alpha=0.2, linewidth=0.0, zorder=100)\n",
    "\n",
    "# plt.plot(x, y_hdi_997_lower, color='darkorange', lw=0.5, alpha=0.2)\n",
    "# plt.plot(x, y_hdi_95_lower, color='darkorange', lw=0.5, alpha=0.4)\n",
    "# plt.plot(x, y_hdi_68_lower, color='blue', lw=0.5, alpha=0.6)\n",
    "plt.plot(x, y_median, color=cwdiv, lw=1, zorder=200, label='Inference \\n(Moments)')\n",
    "# plt.plot(x, y_hdi_68_upper, color='darkorange', lw=0.5, alpha=0.6)\n",
    "# plt.plot(x, y_hdi_95_upper, color='darkorange', lw=0.5, alpha=0.4)\n",
    "# plt.plot(x, y_hdi_997_upper, color='darkorange', lw=0.5, alpha=0.2)\n",
    "\n",
    "plt.xticks([0, 20, 40, 54], [0, 20, 40, 54])\n",
    "plt.ylim(0.0, None)\n",
    "\n",
    "plt.legend()\n",
    "plt.ylabel('Probability')\n",
    "plt.xlabel('Division times (hours)')\n",
    "plt.savefig('paper_figures/waiting_times_div_par2_d_6_8_l_18_unscaled.pdf', bbox_inches='tight') # pdf, png"
   ]
  },
  {
   "cell_type": "markdown",
   "metadata": {},
   "source": [
    "##### compare old/new (after multiedge correction) par3 results\n",
    "- more than 99% correlation\n",
    "- afterwards old files were deleted and new files renamed (same name as previous old files)"
   ]
  },
  {
   "cell_type": "code",
   "execution_count": 64,
   "metadata": {},
   "outputs": [],
   "source": [
    "# sigma022 / full data\n",
    "res_new = pickle.load(open('waiting_times_files/estimation_count_data_cd44_filtered_sigma022_par3_new.pickle', 'rb'))\n",
    "res_old = pickle.load(open('waiting_times_files/estimation_count_data_cd44_filtered_sigma022_par3.pickle', 'rb'))"
   ]
  },
  {
   "cell_type": "code",
   "execution_count": 65,
   "metadata": {},
   "outputs": [
    {
     "name": "stdout",
     "output_type": "stream",
     "text": [
      "588\n",
      "588\n"
     ]
    }
   ],
   "source": [
    "print(len(res_new))\n",
    "print(len(res_old))"
   ]
  },
  {
   "cell_type": "code",
   "execution_count": 66,
   "metadata": {},
   "outputs": [],
   "source": [
    "net_names_new = [est.net.net_name for est in res_new]\n",
    "model_probs_new = me.selection.compute_model_probabilities(res_new)\n",
    "evids_new =  [est.bay_est_log_evidence for est in res_new]"
   ]
  },
  {
   "cell_type": "code",
   "execution_count": 67,
   "metadata": {},
   "outputs": [],
   "source": [
    "net_names_old = [est.net.net_name for est in res_old]\n",
    "model_probs_old = me.selection.compute_model_probabilities(res_old)\n",
    "evids_old =  [est.bay_est_log_evidence for est in res_old]"
   ]
  },
  {
   "cell_type": "code",
   "execution_count": 68,
   "metadata": {},
   "outputs": [
    {
     "name": "stdout",
     "output_type": "stream",
     "text": [
      "['par3_d_2_2_2_l_2', 'par3_d_2_2_2_l_4', 'par3_d_2_2_2_l_6', 'par3_d_2_2_2_l_8', 'par3_d_2_2_2_l_10', 'par3_d_2_2_2_l_14', 'par3_d_2_2_2_l_18', 'par3_d_2_2_4_l_2', 'par3_d_2_2_4_l_4', 'par3_d_2_2_4_l_6', 'par3_d_2_2_4_l_8', 'par3_d_2_2_4_l_10', 'par3_d_2_2_4_l_14', 'par3_d_2_2_4_l_18', 'par3_d_2_2_6_l_2', 'par3_d_2_2_6_l_4', 'par3_d_2_2_6_l_6', 'par3_d_2_2_6_l_8', 'par3_d_2_2_6_l_10', 'par3_d_2_2_6_l_14']\n",
      "['net_alphaF2_alphaS2_alphaT2_lambda2', 'net_alphaF2_alphaS2_alphaT2_lambda4', 'net_alphaF2_alphaS2_alphaT2_lambda6', 'net_alphaF2_alphaS2_alphaT2_lambda8', 'net_alphaF2_alphaS2_alphaT2_lambda10', 'net_alphaF2_alphaS2_alphaT2_lambda14', 'net_alphaF2_alphaS2_alphaT2_lambda18', 'net_alphaF2_alphaS2_alphaT4_lambda2', 'net_alphaF2_alphaS2_alphaT4_lambda4', 'net_alphaF2_alphaS2_alphaT4_lambda6', 'net_alphaF2_alphaS2_alphaT4_lambda8', 'net_alphaF2_alphaS2_alphaT4_lambda10', 'net_alphaF2_alphaS2_alphaT4_lambda14', 'net_alphaF2_alphaS2_alphaT4_lambda18', 'net_alphaF2_alphaS2_alphaT6_lambda2', 'net_alphaF2_alphaS2_alphaT6_lambda4', 'net_alphaF2_alphaS2_alphaT6_lambda6', 'net_alphaF2_alphaS2_alphaT6_lambda8', 'net_alphaF2_alphaS2_alphaT6_lambda10', 'net_alphaF2_alphaS2_alphaT6_lambda14']\n"
     ]
    }
   ],
   "source": [
    "print(net_names_new[:20])\n",
    "print(net_names_old[:20])"
   ]
  },
  {
   "cell_type": "code",
   "execution_count": 69,
   "metadata": {},
   "outputs": [
    {
     "name": "stdout",
     "output_type": "stream",
     "text": [
      "[0.03229004 0.02851055 0.02787329 0.02469745 0.02439521 0.0233535\n",
      " 0.01892786 0.01879264 0.01830252 0.01800178]\n",
      "[234.010053   233.8855683  233.86296293 233.74199392 233.72968096\n",
      " 233.68604111 233.47592927 233.46875946 233.44233293 233.42576503]\n",
      "['par3_d_6_6_6_l_18' 'par3_d_6_6_6_l_14' 'par3_d_6_6_14_l_18'\n",
      " 'par3_d_6_6_14_l_14' 'par3_d_8_8_18_l_18' 'par3_d_8_8_18_l_14'\n",
      " 'par3_d_6_6_18_l_18' 'par3_d_4_6_6_l_18' 'par3_d_6_6_8_l_14'\n",
      " 'par3_d_8_8_14_l_18']\n",
      "0.6844357268888983\n"
     ]
    }
   ],
   "source": [
    "sort_inds_new = np.array(- model_probs_new).argsort()\n",
    "net_names_sorted_new = np.array(net_names_new)[sort_inds_new]\n",
    "model_probs_sorted_new = np.array(model_probs_new)[sort_inds_new]\n",
    "log_evids_sorted_new = np.array(evids_new)[sort_inds_new]\n",
    "\n",
    "print(model_probs_sorted_new[:10])\n",
    "print(log_evids_sorted_new[:10])\n",
    "print(net_names_sorted_new[:10])\n",
    "print(sum(model_probs_sorted_new[:50]))"
   ]
  },
  {
   "cell_type": "code",
   "execution_count": 70,
   "metadata": {},
   "outputs": [
    {
     "name": "stdout",
     "output_type": "stream",
     "text": [
      "[0.0278788  0.02550369 0.02247498 0.02124972 0.02028658 0.02023628\n",
      " 0.01975946 0.01950185 0.01909961 0.01891333]\n",
      "[235.88771465 235.79867124 235.67225071 235.61619157 235.56980755\n",
      " 235.5673253  235.54348052 235.53035758 235.5095162  235.49971511]\n",
      "['net_alphaF6_alphaS6_alphaT6_lambda14'\n",
      " 'net_alphaF6_alphaS6_alphaT6_lambda18'\n",
      " 'net_alphaF8_alphaS8_alphaT18_lambda14'\n",
      " 'net_alphaF4_alphaS6_alphaT6_lambda18'\n",
      " 'net_alphaF8_alphaS8_alphaT18_lambda18'\n",
      " 'net_alphaF6_alphaS6_alphaT14_lambda14'\n",
      " 'net_alphaF6_alphaS6_alphaT18_lambda18'\n",
      " 'net_alphaF6_alphaS6_alphaT6_lambda10'\n",
      " 'net_alphaF6_alphaS8_alphaT14_lambda14'\n",
      " 'net_alphaF6_alphaS6_alphaT14_lambda18']\n",
      "0.6785084046111731\n"
     ]
    }
   ],
   "source": [
    "# before multigraph evidences should be a bit higher\n",
    "# due to different prior space for the act parameters\n",
    "sort_inds_old = np.array(- model_probs_old).argsort()\n",
    "net_names_sorted_old = np.array(net_names_old)[sort_inds_old]\n",
    "model_probs_sorted_old = np.array(model_probs_old)[sort_inds_old]\n",
    "log_evids_sorted_old = np.array(evids_old)[sort_inds_old]\n",
    "\n",
    "print(model_probs_sorted_old[:10])\n",
    "print(log_evids_sorted_old[:10])\n",
    "print(net_names_sorted_old[:10])\n",
    "print(sum(model_probs_sorted_old[:50]))"
   ]
  },
  {
   "cell_type": "code",
   "execution_count": 72,
   "metadata": {},
   "outputs": [
    {
     "data": {
      "text/plain": [
       "<matplotlib.collections.PathCollection at 0x7fc12c0da8d0>"
      ]
     },
     "execution_count": 72,
     "metadata": {},
     "output_type": "execute_result"
    },
    {
     "data": {
      "image/png": "[encoded data removed]",
      "text/plain": [
       "<Figure size 432x288 with 1 Axes>"
      ]
     },
     "metadata": {
      "needs_background": "light"
     },
     "output_type": "display_data"
    }
   ],
   "source": [
    "plt.scatter(evids_new, evids_old)"
   ]
  },
  {
   "cell_type": "code",
   "execution_count": 73,
   "metadata": {},
   "outputs": [
    {
     "data": {
      "text/plain": [
       "<matplotlib.collections.PathCollection at 0x7fc12985b690>"
      ]
     },
     "execution_count": 73,
     "metadata": {},
     "output_type": "execute_result"
    },
    {
     "data": {
      "image/png": "[encoded data removed]",
      "text/plain": [
       "<Figure size 432x288 with 1 Axes>"
      ]
     },
     "metadata": {
      "needs_background": "light"
     },
     "output_type": "display_data"
    }
   ],
   "source": [
    "plt.scatter(evids_new[:60], evids_old[:60])"
   ]
  },
  {
   "cell_type": "code",
   "execution_count": 74,
   "metadata": {},
   "outputs": [],
   "source": [
    "model_rank_new = np.array(list(range(0, len(res_new))))\n",
    "model_rank_old = np.array(list(range(0, len(res_old))))\n",
    "\n",
    "inds = np.array(evids_new).argsort()\n",
    "model_rank_new_sorted = model_rank_new[inds]\n",
    "\n",
    "inds = np.array(evids_old).argsort()\n",
    "model_rank_old_sorted = model_rank_old[inds]\n",
    "\n",
    "x_rank = list(range(0, len(res_new)))\n",
    "y_rank = list()\n",
    "for x in x_rank:\n",
    "    ind_new = model_rank_new_sorted[x]\n",
    "    y_rank.append(list(model_rank_old_sorted).index(ind_new))"
   ]
  },
  {
   "cell_type": "code",
   "execution_count": 75,
   "metadata": {},
   "outputs": [
    {
     "data": {
      "image/png": "[encoded data removed]",
      "text/plain": [
       "<Figure size 432x288 with 1 Axes>"
      ]
     },
     "metadata": {
      "needs_background": "light"
     },
     "output_type": "display_data"
    },
    {
     "data": {
      "text/plain": [
       "<matplotlib.collections.PathCollection at 0x7fbf290c24d0>"
      ]
     },
     "execution_count": 75,
     "metadata": {},
     "output_type": "execute_result"
    },
    {
     "data": {
      "image/png": "[encoded data removed]",
      "text/plain": [
       "<Figure size 432x288 with 1 Axes>"
      ]
     },
     "metadata": {
      "needs_background": "light"
     },
     "output_type": "display_data"
    }
   ],
   "source": [
    "plt.scatter(x_rank, y_rank)\n",
    "plt.show()\n",
    "plt.scatter(x_rank[:60], y_rank[:60])"
   ]
  },
  {
   "cell_type": "code",
   "execution_count": 76,
   "metadata": {},
   "outputs": [
    {
     "name": "stdout",
     "output_type": "stream",
     "text": [
      "0.9993244362761605\n",
      "(0.9993244362761604, 0.0)\n",
      "SpearmanrResult(correlation=0.9993244362761605, pvalue=0.0)\n",
      "(0.9995343531138717, 0.0)\n",
      "SpearmanrResult(correlation=0.9993244362761605, pvalue=0.0)\n"
     ]
    }
   ],
   "source": [
    "print(np.corrcoef(x_rank, y_rank)[0, 1])\n",
    "print(stats.pearsonr(x_rank, y_rank))\n",
    "print(stats.spearmanr(x_rank, y_rank))\n",
    "print(stats.pearsonr(evids_new, evids_old))\n",
    "print(stats.spearmanr(evids_new, evids_old))"
   ]
  },
  {
   "cell_type": "code",
   "execution_count": 43,
   "metadata": {},
   "outputs": [],
   "source": [
    "# thin4 / sparse data\n",
    "res_new = pickle.load(open('waiting_times_files/estimation_count_data_cd44_filtered_thin4_par3_new.pickle', 'rb'))\n",
    "res_old = pickle.load(open('waiting_times_files/estimation_count_data_cd44_filtered_thin4_par3.pickle', 'rb'))"
   ]
  },
  {
   "cell_type": "code",
   "execution_count": 44,
   "metadata": {},
   "outputs": [
    {
     "name": "stdout",
     "output_type": "stream",
     "text": [
      "588\n",
      "588\n"
     ]
    }
   ],
   "source": [
    "print(len(res_new))\n",
    "print(len(res_old))"
   ]
  },
  {
   "cell_type": "code",
   "execution_count": 45,
   "metadata": {},
   "outputs": [],
   "source": [
    "net_names_new = [est.net.net_name for est in res_new]\n",
    "model_probs_new = me.selection.compute_model_probabilities(res_new)\n",
    "evids_new =  [est.bay_est_log_evidence for est in res_new]"
   ]
  },
  {
   "cell_type": "code",
   "execution_count": 46,
   "metadata": {},
   "outputs": [],
   "source": [
    "net_names_old = [est.net.net_name for est in res_old]\n",
    "model_probs_old = me.selection.compute_model_probabilities(res_old)\n",
    "evids_old =  [est.bay_est_log_evidence for est in res_old]"
   ]
  },
  {
   "cell_type": "code",
   "execution_count": 47,
   "metadata": {},
   "outputs": [
    {
     "name": "stdout",
     "output_type": "stream",
     "text": [
      "['par3_d_2_2_2_l_2', 'par3_d_2_2_2_l_4', 'par3_d_2_2_2_l_6', 'par3_d_2_2_2_l_8', 'par3_d_2_2_2_l_10', 'par3_d_2_2_2_l_14', 'par3_d_2_2_2_l_18', 'par3_d_2_2_4_l_2', 'par3_d_2_2_4_l_4', 'par3_d_2_2_4_l_6', 'par3_d_2_2_4_l_8', 'par3_d_2_2_4_l_10', 'par3_d_2_2_4_l_14', 'par3_d_2_2_4_l_18', 'par3_d_2_2_6_l_2', 'par3_d_2_2_6_l_4', 'par3_d_2_2_6_l_6', 'par3_d_2_2_6_l_8', 'par3_d_2_2_6_l_10', 'par3_d_2_2_6_l_14']\n",
      "['net_alphaF2_alphaS2_alphaT2_lambda2', 'net_alphaF2_alphaS2_alphaT2_lambda4', 'net_alphaF2_alphaS2_alphaT2_lambda6', 'net_alphaF2_alphaS2_alphaT2_lambda8', 'net_alphaF2_alphaS2_alphaT2_lambda10', 'net_alphaF2_alphaS2_alphaT2_lambda14', 'net_alphaF2_alphaS2_alphaT2_lambda18', 'net_alphaF2_alphaS2_alphaT4_lambda2', 'net_alphaF2_alphaS2_alphaT4_lambda4', 'net_alphaF2_alphaS2_alphaT4_lambda6', 'net_alphaF2_alphaS2_alphaT4_lambda8', 'net_alphaF2_alphaS2_alphaT4_lambda10', 'net_alphaF2_alphaS2_alphaT4_lambda14', 'net_alphaF2_alphaS2_alphaT4_lambda18', 'net_alphaF2_alphaS2_alphaT6_lambda2', 'net_alphaF2_alphaS2_alphaT6_lambda4', 'net_alphaF2_alphaS2_alphaT6_lambda6', 'net_alphaF2_alphaS2_alphaT6_lambda8', 'net_alphaF2_alphaS2_alphaT6_lambda10', 'net_alphaF2_alphaS2_alphaT6_lambda14']\n"
     ]
    }
   ],
   "source": [
    "print(net_names_new[:20])\n",
    "print(net_names_old[:20])"
   ]
  },
  {
   "cell_type": "code",
   "execution_count": 48,
   "metadata": {},
   "outputs": [
    {
     "name": "stdout",
     "output_type": "stream",
     "text": [
      "[0.00774502 0.00677408 0.00655376 0.00632032 0.00631222 0.00628908\n",
      " 0.00615655 0.00613638 0.00597971 0.00590962]\n",
      "[40.24433835 40.11039233 40.07732686 40.0410586  40.039775   40.03610223\n",
      " 40.0148049  40.01152351 39.98565957 39.97387043]\n",
      "['par3_d_6_8_18_l_18' 'par3_d_6_8_18_l_14' 'par3_d_4_6_14_l_14'\n",
      " 'par3_d_4_6_14_l_18' 'par3_d_6_6_14_l_18' 'par3_d_4_8_18_l_18'\n",
      " 'par3_d_4_8_14_l_14' 'par3_d_6_6_18_l_14' 'par3_d_4_8_14_l_18'\n",
      " 'par3_d_6_6_18_l_18']\n",
      "0.2616003050832625\n"
     ]
    }
   ],
   "source": [
    "sort_inds_new = np.array(- model_probs_new).argsort()\n",
    "net_names_sorted_new = np.array(net_names_new)[sort_inds_new]\n",
    "model_probs_sorted_new = np.array(model_probs_new)[sort_inds_new]\n",
    "log_evids_sorted_new = np.array(evids_new)[sort_inds_new]\n",
    "\n",
    "print(model_probs_sorted_new[:10])\n",
    "print(log_evids_sorted_new[:10])\n",
    "print(net_names_sorted_new[:10])\n",
    "print(sum(model_probs_sorted_new[:50]))"
   ]
  },
  {
   "cell_type": "code",
   "execution_count": 49,
   "metadata": {},
   "outputs": [
    {
     "name": "stdout",
     "output_type": "stream",
     "text": [
      "[0.00682825 0.0064529  0.00640415 0.0063508  0.00611113 0.00609673\n",
      " 0.00594808 0.00582334 0.00563253 0.00550594]\n",
      "[42.13480759 42.07826876 42.0706862  42.06231989 42.02385062 42.02149161\n",
      " 41.99680829 41.97561427 41.94229751 41.91956713]\n",
      "['net_alphaF6_alphaS6_alphaT14_lambda18'\n",
      " 'net_alphaF6_alphaS6_alphaT14_lambda14'\n",
      " 'net_alphaF6_alphaS6_alphaT18_lambda14'\n",
      " 'net_alphaF6_alphaS8_alphaT18_lambda18'\n",
      " 'net_alphaF6_alphaS8_alphaT18_lambda14'\n",
      " 'net_alphaF6_alphaS6_alphaT18_lambda18'\n",
      " 'net_alphaF6_alphaS6_alphaT14_lambda10'\n",
      " 'net_alphaF4_alphaS6_alphaT10_lambda18'\n",
      " 'net_alphaF4_alphaS8_alphaT18_lambda18'\n",
      " 'net_alphaF4_alphaS8_alphaT18_lambda14']\n",
      "0.25257799081049176\n"
     ]
    }
   ],
   "source": [
    "# before multigraph evidences should be a bit higher\n",
    "# due to different prior space for the act parameters\n",
    "sort_inds_old = np.array(- model_probs_old).argsort()\n",
    "net_names_sorted_old = np.array(net_names_old)[sort_inds_old]\n",
    "model_probs_sorted_old = np.array(model_probs_old)[sort_inds_old]\n",
    "log_evids_sorted_old = np.array(evids_old)[sort_inds_old]\n",
    "\n",
    "print(model_probs_sorted_old[:10])\n",
    "print(log_evids_sorted_old[:10])\n",
    "print(net_names_sorted_old[:10])\n",
    "print(sum(model_probs_sorted_old[:50]))"
   ]
  },
  {
   "cell_type": "code",
   "execution_count": 60,
   "metadata": {},
   "outputs": [
    {
     "data": {
      "text/plain": [
       "<matplotlib.collections.PathCollection at 0x7fc134a2ddd0>"
      ]
     },
     "execution_count": 60,
     "metadata": {},
     "output_type": "execute_result"
    },
    {
     "data": {
      "image/png": "[encoded data removed]",
      "text/plain": [
       "<Figure size 432x288 with 1 Axes>"
      ]
     },
     "metadata": {
      "needs_background": "light"
     },
     "output_type": "display_data"
    }
   ],
   "source": [
    "plt.scatter(evids_new, evids_old)"
   ]
  },
  {
   "cell_type": "code",
   "execution_count": 61,
   "metadata": {},
   "outputs": [
    {
     "data": {
      "text/plain": [
       "<matplotlib.collections.PathCollection at 0x7fc1390289d0>"
      ]
     },
     "execution_count": 61,
     "metadata": {},
     "output_type": "execute_result"
    },
    {
     "data": {
      "image/png": "[encoded data removed]",
      "text/plain": [
       "<Figure size 432x288 with 1 Axes>"
      ]
     },
     "metadata": {
      "needs_background": "light"
     },
     "output_type": "display_data"
    }
   ],
   "source": [
    "plt.scatter(evids_new[:60], evids_old[:60])"
   ]
  },
  {
   "cell_type": "code",
   "execution_count": 53,
   "metadata": {},
   "outputs": [],
   "source": [
    "model_rank_new = np.array(list(range(0, len(res_new))))\n",
    "model_rank_old = np.array(list(range(0, len(res_old))))\n",
    "\n",
    "inds = np.array(evids_new).argsort()\n",
    "model_rank_new_sorted = model_rank_new[inds]\n",
    "\n",
    "inds = np.array(evids_old).argsort()\n",
    "model_rank_old_sorted = model_rank_old[inds]\n",
    "\n",
    "x_rank = list(range(0, len(res_new)))\n",
    "y_rank = list()\n",
    "for x in x_rank:\n",
    "    ind_new = model_rank_new_sorted[x]\n",
    "    y_rank.append(list(model_rank_old_sorted).index(ind_new))"
   ]
  },
  {
   "cell_type": "code",
   "execution_count": 62,
   "metadata": {},
   "outputs": [
    {
     "data": {
      "image/png": "[encoded data removed]",
      "text/plain": [
       "<Figure size 432x288 with 1 Axes>"
      ]
     },
     "metadata": {
      "needs_background": "light"
     },
     "output_type": "display_data"
    },
    {
     "name": "stdout",
     "output_type": "stream",
     "text": [
      "(0.9924444882293424, 0.0)\n",
      "SpearmanrResult(correlation=0.9924444882293424, pvalue=0.0)\n"
     ]
    },
    {
     "data": {
      "image/png": "[encoded data removed]",
      "text/plain": [
       "<Figure size 432x288 with 1 Axes>"
      ]
     },
     "metadata": {
      "needs_background": "light"
     },
     "output_type": "display_data"
    }
   ],
   "source": [
    "plt.scatter(x_rank, y_rank)\n",
    "plt.show()\n",
    "plt.scatter(x_rank[:60], y_rank[:60])"
   ]
  },
  {
   "cell_type": "code",
   "execution_count": 63,
   "metadata": {},
   "outputs": [
    {
     "name": "stdout",
     "output_type": "stream",
     "text": [
      "0.9924444882293424\n",
      "(0.9924444882293424, 0.0)\n",
      "SpearmanrResult(correlation=0.9924444882293424, pvalue=0.0)\n",
      "(0.9945290053651412, 0.0)\n",
      "SpearmanrResult(correlation=0.9924444882293424, pvalue=0.0)\n"
     ]
    }
   ],
   "source": [
    "print(np.corrcoef(x_rank, y_rank)[0, 1])\n",
    "print(stats.pearsonr(x_rank, y_rank))\n",
    "print(stats.spearmanr(x_rank, y_rank))\n",
    "print(stats.pearsonr(evids_new, evids_old))\n",
    "print(stats.spearmanr(evids_new, evids_old))"
   ]
  },
  {
   "cell_type": "code",
   "execution_count": null,
   "metadata": {},
   "outputs": [],
   "source": []
  }
 ],
 "metadata": {
  "kernelspec": {
   "display_name": "Python 3",
   "language": "python",
   "name": "python3"
  },
  "language_info": {
   "codemirror_mode": {
    "name": "ipython",
    "version": 3
   },
   "file_extension": ".py",
   "mimetype": "text/x-python",
   "name": "python",
   "nbconvert_exporter": "python",
   "pygments_lexer": "ipython3",
   "version": "3.7.4"
  }
 },
 "nbformat": 4,
 "nbformat_minor": 4
}
