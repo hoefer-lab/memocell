{
 "cells": [
  {
   "cell_type": "markdown",
   "metadata": {},
   "source": [
    "#### Supplement Figure 3"
   ]
  },
  {
   "cell_type": "markdown",
   "metadata": {},
   "source": [
    "##### Package imports, figure settings, color definitions\n",
    "<img src=\"color_pal.png\" width=\"500\">"
   ]
  },
  {
   "cell_type": "code",
   "execution_count": 1,
   "metadata": {},
   "outputs": [
    {
     "name": "stderr",
     "output_type": "stream",
     "text": [
      "/Users/mlanghinrichs/Documents/Studium/MSc/09_hiwi_hoefer/01_project/memo_py/memo_py/selection.py:18: TqdmExperimentalWarning: Using `tqdm.autonotebook.tqdm` in notebook mode. Use `tqdm.tqdm` instead to force console mode (e.g. in jupyter console)\n",
      "  from tqdm.autonotebook import tqdm\n"
     ]
    },
    {
     "data": {
      "image/png": "[encoded data removed]",
      "text/plain": [
       "<Figure size 504x72 with 1 Axes>"
      ]
     },
     "metadata": {
      "needs_background": "light"
     },
     "output_type": "display_data"
    },
    {
     "data": {
      "image/png": "[encoded data removed]",
      "text/plain": [
       "<Figure size 216x72 with 1 Axes>"
      ]
     },
     "metadata": {
      "needs_background": "light"
     },
     "output_type": "display_data"
    },
    {
     "data": {
      "image/png": "[encoded data removed]",
      "text/plain": [
       "<Figure size 216x72 with 1 Axes>"
      ]
     },
     "metadata": {
      "needs_background": "light"
     },
     "output_type": "display_data"
    },
    {
     "data": {
      "image/png": "[encoded data removed]",
      "text/plain": [
       "<Figure size 216x72 with 1 Axes>"
      ]
     },
     "metadata": {
      "needs_background": "light"
     },
     "output_type": "display_data"
    },
    {
     "data": {
      "image/png": "[encoded data removed]",
      "text/plain": [
       "<Figure size 216x72 with 1 Axes>"
      ]
     },
     "metadata": {
      "needs_background": "light"
     },
     "output_type": "display_data"
    },
    {
     "data": {
      "image/png": "[encoded data removed]",
      "text/plain": [
       "<Figure size 216x72 with 1 Axes>"
      ]
     },
     "metadata": {
      "needs_background": "light"
     },
     "output_type": "display_data"
    },
    {
     "data": {
      "image/png": "[encoded data removed]",
      "text/plain": [
       "<Figure size 216x72 with 1 Axes>"
      ]
     },
     "metadata": {
      "needs_background": "light"
     },
     "output_type": "display_data"
    },
    {
     "data": {
      "image/png": "[encoded data removed]",
      "text/plain": [
       "<Figure size 216x72 with 1 Axes>"
      ]
     },
     "metadata": {
      "needs_background": "light"
     },
     "output_type": "display_data"
    },
    {
     "data": {
      "image/png": "[encoded data removed]",
      "text/plain": [
       "<Figure size 216x72 with 1 Axes>"
      ]
     },
     "metadata": {
      "needs_background": "light"
     },
     "output_type": "display_data"
    }
   ],
   "source": [
    "%matplotlib inline\n",
    "%run settings_load.py"
   ]
  },
  {
   "cell_type": "markdown",
   "metadata": {},
   "source": [
    "##### minimal model *in silico* tests\n",
    "code adapted from more general memocell tests \"gillespie_test_1\" notebook"
   ]
  },
  {
   "cell_type": "code",
   "execution_count": 6,
   "metadata": {},
   "outputs": [],
   "source": [
    "# compute Gillespie simulation with the framework\n",
    "t = [\n",
    "    {'start': 'X_t', 'end': 'Y_t', 'rate_symbol': 'd', 'type': 'S -> E', 'reaction_steps': 4},\n",
    "    {'start': 'Y_t', 'end': 'Y_t', 'rate_symbol': 'l', 'type': 'S -> S + S', 'reaction_steps': 3}\n",
    "    ]\n",
    "\n",
    "initial_values = {'X_t': 1, 'Y_t': 0}\n",
    "theta_values = {'l': 0.06, 'd': 0.04}\n",
    "time_values = np.linspace(0.0, 54.0, num=28, endpoint=True)\n",
    "variables = {'X_t': ('X_t', ), 'Y_t': ('Y_t', )}\n",
    "\n",
    "net = me.Network('min_test')\n",
    "net.structure(t)\n",
    "sim = me.Simulation(net)\n",
    "res = sim.simulate('gillespie', variables, initial_values, theta_values, time_values)"
   ]
  },
  {
   "cell_type": "code",
   "execution_count": 7,
   "metadata": {},
   "outputs": [],
   "source": [
    "# create a data object from simulations for the estimation\n",
    "num_iter = 10000\n",
    "\n",
    "res_list = list()\n",
    "for __ in range(num_iter):\n",
    "    res_list.append(sim.simulate('gillespie', variables, initial_values, theta_values, time_values)[1])\n",
    "\n",
    "sim_res_int = np.array(res_list)"
   ]
  },
  {
   "cell_type": "code",
   "execution_count": 8,
   "metadata": {},
   "outputs": [],
   "source": [
    "data_int = me.Data('data_min_test')\n",
    "data_int.load(['X_t', 'Y_t'], time_values, sim_res_int, \n",
    "              bootstrap_samples=1000, basic_sigma=1/num_iter)"
   ]
  },
  {
   "cell_type": "code",
   "execution_count": 17,
   "metadata": {},
   "outputs": [],
   "source": [
    "# save and (later) load data\n",
    "# with open('in_silico_files/in_silico_data_cd44_min_paper_test_d4_l3.pickle', 'wb') as file_: # in_silico_estimation\n",
    "#     pickle.dump(data_int, file_)\n",
    "\n",
    "data_int = pickle.load(open('in_silico_files/in_silico_data_cd44_min_paper_test_d4_l3.pickle', 'rb'))"
   ]
  },
  {
   "cell_type": "code",
   "execution_count": 18,
   "metadata": {},
   "outputs": [
    {
     "data": {
      "image/png": "[encoded data removed]",
      "text/plain": [
       "<Figure size 86.4x57.6 with 1 Axes>"
      ]
     },
     "metadata": {
      "needs_background": "light"
     },
     "output_type": "display_data"
    },
    {
     "data": {
      "image/png": "[encoded data removed]",
      "text/plain": [
       "<Figure size 86.4x57.6 with 1 Axes>"
      ]
     },
     "metadata": {
      "needs_background": "light"
     },
     "output_type": "display_data"
    },
    {
     "data": {
      "image/png": "[encoded data removed]",
      "text/plain": [
       "<Figure size 86.4x57.6 with 1 Axes>"
      ]
     },
     "metadata": {
      "needs_background": "light"
     },
     "output_type": "display_data"
    }
   ],
   "source": [
    "plt.rcParams.update({'figure.figsize': (1.2, 0.8)})\n",
    "settings = {\n",
    "    'Y_t': {'label': 'E$(Y_t)$', 'color': cactiv},\n",
    "    'X_t': {'label': 'E$(X_t)$', 'color': cnaive}\n",
    "}\n",
    "me.plots.data_mean_plot(data_int, settings=settings)\n",
    "\n",
    "settings = {\n",
    "    ('Y_t', 'Y_t'): {'label': 'Var$(Y_t)$', 'color': cactiv},\n",
    "    ('X_t', 'X_t'): {'label': 'Var$(X_t)$', 'color': cnaive}\n",
    "}\n",
    "me.plots.data_variance_plot(data_int, settings=settings)\n",
    "\n",
    "settings = {\n",
    "    ('X_t', 'Y_t'): {'label': 'Cov$(X_t, Y_t)$', 'color': grey}\n",
    "}\n",
    "me.plots.data_covariance_plot(data_int, settings=settings)"
   ]
  },
  {
   "cell_type": "code",
   "execution_count": 19,
   "metadata": {},
   "outputs": [
    {
     "name": "stdout",
     "output_type": "stream",
     "text": [
      "25\n"
     ]
    }
   ],
   "source": [
    "# estimation\n",
    "def make_net(steps_d, steps_l):\n",
    "    name = 'min_' + str(steps_d) + '_' + str(steps_l)\n",
    "\n",
    "    t = [\n",
    "    {'start': 'X_t', 'end': 'Y_t', 'rate_symbol': 'd', 'type': 'S -> E', 'reaction_steps': steps_d},\n",
    "    {'start': 'Y_t', 'end': 'Y_t', 'rate_symbol': 'l', 'type': 'S -> S + S', 'reaction_steps': steps_l}\n",
    "    ]\n",
    "\n",
    "    net = me.Network(name)\n",
    "    net.structure(t)\n",
    "\n",
    "    return net\n",
    "\n",
    "nets = [make_net(steps_d, steps_l) for steps_d in range(1, 6) for steps_l in range(1, 6)]\n",
    "variables = [{'X_t': ('X_t', ), 'Y_t': ('Y_t', )}]*len(nets)\n",
    "initial_values = [{'X_t': 1.0, 'Y_t': 0.0}]*len(nets)\n",
    "theta_bounds = [{'d': (0.0, 0.15), 'l': (0.0, 0.15)}]*len(nets)\n",
    "print(len(nets))\n"
   ]
  },
  {
   "cell_type": "code",
   "execution_count": 20,
   "metadata": {},
   "outputs": [
    {
     "data": {
      "application/vnd.jupyter.widget-view+json": {
       "model_id": "1251d561bfd4474cbecb3648292fde65",
       "version_major": 2,
       "version_minor": 0
      },
      "text/plain": [
       "HBox(children=(FloatProgress(value=0.0, max=25.0), HTML(value='')))"
      ]
     },
     "metadata": {},
     "output_type": "display_data"
    },
    {
     "name": "stdout",
     "output_type": "stream",
     "text": [
      "\n"
     ]
    }
   ],
   "source": [
    "est_res_int = me.select_models(nets, variables, initial_values, \n",
    "                               theta_bounds, data_int)"
   ]
  },
  {
   "cell_type": "code",
   "execution_count": 32,
   "metadata": {},
   "outputs": [],
   "source": [
    "# save and (later) load estimation results\n",
    "# with open('in_silico_files/estimation_in_silico_data_cd44_min_paper_test_d4_l3.pickle', 'wb') as file_: # in_silico_estimation\n",
    "#     pickle.dump(est_res_int, file_)\n",
    "\n",
    "est_res_int = pickle.load(open('in_silico_files/estimation_in_silico_data_cd44_min_paper_test_d4_l3.pickle', 'rb'))"
   ]
  },
  {
   "cell_type": "code",
   "execution_count": 33,
   "metadata": {},
   "outputs": [
    {
     "name": "stdout",
     "output_type": "stream",
     "text": [
      "17\n"
     ]
    },
    {
     "data": {
      "text/plain": [
       "1.0"
      ]
     },
     "execution_count": 33,
     "metadata": {},
     "output_type": "execute_result"
    }
   ],
   "source": [
    "net_names = [est.net.net_name for est in est_res_int]\n",
    "model_probs = me.selection.compute_model_probabilities(est_res_int)\n",
    "print(net_names.index('min_4_3'))\n",
    "model_probs[17]"
   ]
  },
  {
   "cell_type": "code",
   "execution_count": 41,
   "metadata": {},
   "outputs": [
    {
     "data": {
      "image/png": "[encoded data removed]",
      "text/plain": [
       "<Figure size 129.6x64.8 with 2 Axes>"
      ]
     },
     "metadata": {
      "needs_background": "light"
     },
     "output_type": "display_data"
    }
   ],
   "source": [
    "steps_lambda = range(1, 6)\n",
    "steps_alpha = range(1, 6)\n",
    "rows = [f'l{i}' for i in steps_lambda]\n",
    "cols = [f'd{i}' for i in steps_alpha]\n",
    "\n",
    "model_probs_2d = np.zeros((len(rows), len(cols)))\n",
    "\n",
    "for i, row_step in enumerate(rows):\n",
    "    for j, col_step in enumerate(cols):\n",
    "        name = f'min_{steps_alpha[j]}_{steps_lambda[i]}'\n",
    "        net_index = net_names.index(name)\n",
    "        model_probs_2d[i, j] = model_probs[net_index]\n",
    "\n",
    "df = pd.DataFrame(model_probs_2d * 100.0, index=rows, columns=cols)\n",
    "\n",
    "plt.figure(figsize=(1.8, 0.9)) # 8, 4 or 6, 8\n",
    "sns.heatmap(df, cmap='plasma', annot=True, fmt='.1f') # annot=True\n",
    "plt.yticks(rotation=0, va='center')\n",
    "plt.savefig('paper_figures/min_in_silico_test_probs.pdf', bbox_inches='tight')"
   ]
  },
  {
   "cell_type": "code",
   "execution_count": 43,
   "metadata": {},
   "outputs": [
    {
     "data": {
      "image/png": "[encoded data removed]",
      "text/plain": [
       "<Figure size 396x396 with 4 Axes>"
      ]
     },
     "metadata": {
      "needs_background": "light"
     },
     "output_type": "display_data"
    }
   ],
   "source": [
    "est = est_res_int[17]\n",
    "me.plots.est_corner_kernel_plot(est)"
   ]
  },
  {
   "cell_type": "code",
   "execution_count": 42,
   "metadata": {},
   "outputs": [
    {
     "data": {
      "image/png": "[encoded data removed]",
      "text/plain": [
       "<Figure size 86.4x57.6 with 1 Axes>"
      ]
     },
     "metadata": {
      "needs_background": "light"
     },
     "output_type": "display_data"
    },
    {
     "data": {
      "image/png": "[encoded data removed]",
      "text/plain": [
       "<Figure size 86.4x57.6 with 1 Axes>"
      ]
     },
     "metadata": {
      "needs_background": "light"
     },
     "output_type": "display_data"
    },
    {
     "data": {
      "image/png": "[encoded data removed]",
      "text/plain": [
       "<Figure size 86.4x57.6 with 1 Axes>"
      ]
     },
     "metadata": {
      "needs_background": "light"
     },
     "output_type": "display_data"
    }
   ],
   "source": [
    "est = est_res_int[17]\n",
    "plt.rcParams.update({'figure.figsize': (1.2, 0.8)})\n",
    "\n",
    "settings = {\n",
    "    'Y_t': {'label': 'E$(Y_t)$', 'color': cactiv},\n",
    "    'X_t': {'label': 'E$(X_t)$', 'color': cnaive}\n",
    "}\n",
    "me.plots.est_bestfit_mean_plot(est, x_label='Time (hours)', settings=settings, save='paper_figures/min_in_silico_test_mean_min_4_3.pdf')\n",
    "\n",
    "settings = {\n",
    "    ('Y_t', 'Y_t'): {'label': 'Var$(Y_t)$', 'color': cactiv},\n",
    "    ('X_t', 'X_t'): {'label': 'Var$(X_t)$', 'color': cnaive}\n",
    "}\n",
    "me.plots.est_bestfit_variance_plot(est, x_label='Time (hours)', settings=settings, save='paper_figures/min_in_silico_test_var_min_4_3.pdf')\n",
    "\n",
    "settings = {\n",
    "    ('Y_t', 'X_t'): {'label': 'Cov$(X_t, Y_t)$', 'color': grey}\n",
    "}\n",
    "me.plots.est_bestfit_covariance_plot(est, x_label='Time (hours)', settings=settings, save='paper_figures/min_in_silico_test_cov_min_4_3.pdf')"
   ]
  },
  {
   "cell_type": "markdown",
   "metadata": {},
   "source": [
    "##### parallel 2 (par2) model *in silico* tests"
   ]
  },
  {
   "cell_type": "code",
   "execution_count": 4,
   "metadata": {},
   "outputs": [],
   "source": [
    "# compute Gillespie simulation with the framework\n",
    "t = [\n",
    "    {'start': 'X_t', 'end': 'Y_t', 'rate_symbol': 'd4', 'type': 'S -> E', 'reaction_steps': 4},\n",
    "    {'start': 'X_t', 'end': 'Y_t', 'rate_symbol': 'd2', 'type': 'S -> E', 'reaction_steps': 2},\n",
    "    {'start': 'Y_t', 'end': 'Y_t', 'rate_symbol': 'l', 'type': 'S -> S + S', 'reaction_steps': 3}\n",
    "    ]\n",
    "\n",
    "initial_values = {'X_t': 1, 'Y_t': 0}\n",
    "theta_values = {'l': 0.06, 'd4': 0.03, 'd2': 0.04}\n",
    "time_values = np.linspace(0.0, 54.0, num=28, endpoint=True)\n",
    "variables = {'X_t': ('X_t', ), 'Y_t': ('Y_t', )}\n",
    "\n",
    "net = me.Network('par2_test')\n",
    "net.structure(t)\n",
    "\n",
    "sim = me.Simulation(net)\n",
    "res = sim.simulate('gillespie', variables, initial_values, theta_values, time_values)"
   ]
  },
  {
   "cell_type": "code",
   "execution_count": 5,
   "metadata": {},
   "outputs": [],
   "source": [
    "# create a data object from simulations for the estimation\n",
    "num_iter = 50000\n",
    "\n",
    "res_list = list()\n",
    "for __ in range(num_iter):\n",
    "    res_list.append(sim.simulate('gillespie', variables, initial_values, theta_values, time_values)[1])\n",
    "\n",
    "sim_res_int = np.array(res_list)"
   ]
  },
  {
   "cell_type": "code",
   "execution_count": 6,
   "metadata": {},
   "outputs": [],
   "source": [
    "data_int = me.Data('data_par2_test')\n",
    "data_int.load(['X_t', 'Y_t'], time_values, sim_res_int, \n",
    "              bootstrap_samples=1000, basic_sigma=1/num_iter)"
   ]
  },
  {
   "cell_type": "code",
   "execution_count": 9,
   "metadata": {},
   "outputs": [],
   "source": [
    "# save and (later) load data\n",
    "# with open('in_silico_files/in_silico_data_cd44_par2_paper_test_d4_d2_l3.pickle', 'wb') as file_: # in_silico_estimation\n",
    "#     pickle.dump(data_int, file_)\n",
    "\n",
    "data_int = pickle.load(open('in_silico_files/in_silico_data_cd44_par2_paper_test_d4_d2_l3.pickle', 'rb'))"
   ]
  },
  {
   "cell_type": "code",
   "execution_count": 10,
   "metadata": {},
   "outputs": [
    {
     "data": {
      "image/png": "[encoded data removed]",
      "text/plain": [
       "<Figure size 86.4x57.6 with 1 Axes>"
      ]
     },
     "metadata": {
      "needs_background": "light"
     },
     "output_type": "display_data"
    },
    {
     "data": {
      "image/png": "[encoded data removed]",
      "text/plain": [
       "<Figure size 86.4x57.6 with 1 Axes>"
      ]
     },
     "metadata": {
      "needs_background": "light"
     },
     "output_type": "display_data"
    },
    {
     "data": {
      "image/png": "[encoded data removed]",
      "text/plain": [
       "<Figure size 86.4x57.6 with 1 Axes>"
      ]
     },
     "metadata": {
      "needs_background": "light"
     },
     "output_type": "display_data"
    }
   ],
   "source": [
    "plt.rcParams.update({'figure.figsize': (1.2, 0.8)})\n",
    "settings = {\n",
    "    'Y_t': {'label': 'E$(Y_t)$', 'color': cactiv},\n",
    "    'X_t': {'label': 'E$(X_t)$', 'color': cnaive}\n",
    "}\n",
    "me.plots.data_mean_plot(data_int, settings=settings)\n",
    "\n",
    "settings = {\n",
    "    ('Y_t', 'Y_t'): {'label': 'Var$(Y_t)$', 'color': cactiv},\n",
    "    ('X_t', 'X_t'): {'label': 'Var$(X_t)$', 'color': cnaive}\n",
    "}\n",
    "me.plots.data_variance_plot(data_int, settings=settings)\n",
    "\n",
    "settings = {\n",
    "    ('X_t', 'Y_t'): {'label': 'Cov$(X_t, Y_t)$', 'color': grey}\n",
    "}\n",
    "me.plots.data_covariance_plot(data_int, settings=settings)"
   ]
  },
  {
   "cell_type": "code",
   "execution_count": 11,
   "metadata": {},
   "outputs": [],
   "source": [
    "# estimation run in model_select.py script\n",
    "# load result\n",
    "est_res_int = pickle.load(open('in_silico_files/estimation_in_silico_data_cd44_par2_paper_test_d4_d2_l3.pickle', 'rb'))"
   ]
  },
  {
   "cell_type": "code",
   "execution_count": 14,
   "metadata": {},
   "outputs": [
    {
     "name": "stdout",
     "output_type": "stream",
     "text": [
      "82\n",
      "42\n"
     ]
    }
   ],
   "source": [
    "net_names = [est.net.net_name for est in est_res_int]\n",
    "model_probs = me.selection.compute_model_probabilities(est_res_int)\n",
    "print(net_names.index('par2_d_4_2_l_3')) # true model\n",
    "print(net_names.index('par2_d_2_4_l_3')) # symmetric true model"
   ]
  },
  {
   "cell_type": "code",
   "execution_count": 26,
   "metadata": {},
   "outputs": [
    {
     "data": {
      "image/png": "[encoded data removed]",
      "text/plain": [
       "<Figure size 28.8x64.8 with 2 Axes>"
      ]
     },
     "metadata": {
      "needs_background": "light"
     },
     "output_type": "display_data"
    }
   ],
   "source": [
    "# top 5 models\n",
    "sort_inds = np.array(- model_probs).argsort()\n",
    "net_names_sorted = np.array(net_names)[sort_inds]\n",
    "model_probs_sorted = np.array(model_probs)[sort_inds]\n",
    "\n",
    "df = pd.DataFrame(model_probs_sorted[:5] * 100.0, index=net_names_sorted[:5])\n",
    "plt.figure(figsize=(0.4, 0.9)) # 8, 4 or 6, 8\n",
    "sns.heatmap(df, cmap='plasma', annot=True, fmt='.1f') # annot=True\n",
    "plt.yticks(rotation=0, va='center')\n",
    "plt.savefig('paper_figures/par2_in_silico_test_probs.pdf', bbox_inches='tight')"
   ]
  },
  {
   "cell_type": "code",
   "execution_count": 30,
   "metadata": {},
   "outputs": [
    {
     "data": {
      "image/png": "[encoded data removed]",
      "text/plain": [
       "<Figure size 86.4x57.6 with 1 Axes>"
      ]
     },
     "metadata": {
      "needs_background": "light"
     },
     "output_type": "display_data"
    },
    {
     "data": {
      "image/png": "[encoded data removed]",
      "text/plain": [
       "<Figure size 86.4x57.6 with 1 Axes>"
      ]
     },
     "metadata": {
      "needs_background": "light"
     },
     "output_type": "display_data"
    },
    {
     "data": {
      "image/png": "[encoded data removed]",
      "text/plain": [
       "<Figure size 86.4x57.6 with 1 Axes>"
      ]
     },
     "metadata": {
      "needs_background": "light"
     },
     "output_type": "display_data"
    }
   ],
   "source": [
    "est = est_res_int[82]\n",
    "plt.rcParams.update({'figure.figsize': (1.2, 0.8)})\n",
    "\n",
    "settings = {\n",
    "    'Y_t': {'label': 'E$(Y_t)$', 'color': cactiv},\n",
    "    'X_t': {'label': 'E$(X_t)$', 'color': cnaive}\n",
    "}\n",
    "me.plots.est_bestfit_mean_plot(est, x_label='Time (hours)', settings=settings, save='paper_figures/par2_in_silico_test_mean_par2_d_4_2_l_3.pdf')\n",
    "\n",
    "settings = {\n",
    "    ('Y_t', 'Y_t'): {'label': 'Var$(Y_t)$', 'color': cactiv},\n",
    "    ('X_t', 'X_t'): {'label': 'Var$(X_t)$', 'color': cnaive}\n",
    "}\n",
    "me.plots.est_bestfit_variance_plot(est, x_label='Time (hours)', settings=settings, save='paper_figures/par2_in_silico_test_var_par2_d_4_2_l_3.pdf')\n",
    "\n",
    "settings = {\n",
    "    ('Y_t', 'X_t'): {'label': 'Cov$(X_t, Y_t)$', 'color': grey}\n",
    "}\n",
    "me.plots.est_bestfit_covariance_plot(est, x_label='Time (hours)', settings=settings, save='paper_figures/par2_in_silico_test_cov_par2_d_4_2_l_3.pdf')"
   ]
  },
  {
   "cell_type": "code",
   "execution_count": 31,
   "metadata": {},
   "outputs": [
    {
     "data": {
      "image/png": "[encoded data removed]",
      "text/plain": [
       "<Figure size 547.2x547.2 with 9 Axes>"
      ]
     },
     "metadata": {
      "needs_background": "light"
     },
     "output_type": "display_data"
    }
   ],
   "source": [
    "me.plots.est_corner_kernel_plot(est)"
   ]
  },
  {
   "cell_type": "markdown",
   "metadata": {},
   "source": [
    "##### Parallel 2 single best fit activation and division time distributions\n",
    "and decomposition of Erlang channels for the activation"
   ]
  },
  {
   "cell_type": "code",
   "execution_count": 2,
   "metadata": {},
   "outputs": [],
   "source": [
    "res = pickle.load(open('waiting_times_files/estimation_count_data_cd44_filtered_sigma022_par2.pickle', 'rb'))"
   ]
  },
  {
   "cell_type": "code",
   "execution_count": 8,
   "metadata": {},
   "outputs": [],
   "source": [
    "net_names = [est.net.net_name for est in res]\n",
    "model_probs = me.selection.compute_model_probabilities(res)\n",
    "log_evids = [est.bay_est_log_evidence for est in res]\n",
    "\n",
    "sort_inds = np.array(- model_probs).argsort()\n",
    "net_names_sorted = np.array(net_names)[sort_inds]\n",
    "model_probs_sorted = np.array(model_probs)[sort_inds]\n",
    "\n",
    "data = res[0].data"
   ]
  },
  {
   "cell_type": "code",
   "execution_count": 5,
   "metadata": {},
   "outputs": [
    {
     "name": "stdout",
     "output_type": "stream",
     "text": [
      "['par2_d_6_8_l_18' 'par2_d_6_8_l_14' 'par2_d_6_8_l_10' 'par2_d_6_10_l_14'\n",
      " 'par2_d_6_10_l_18']\n",
      "183\n"
     ]
    }
   ],
   "source": [
    "print(net_names_sorted[:5])\n",
    "print(net_names.index('par2_d_6_8_l_18'))"
   ]
  },
  {
   "cell_type": "code",
   "execution_count": 6,
   "metadata": {},
   "outputs": [
    {
     "name": "stdout",
     "output_type": "stream",
     "text": [
      "[    0.     0. 40000.     0.]\n",
      "par2_d_6_8_l_18\n"
     ]
    }
   ],
   "source": [
    "# how does it look for best-model only?\n",
    "samples = 40000\n",
    "plot_data = True # True or False\n",
    "time_max = 100.0 # 60.0, 100.0, 200.0\n",
    "x = np.linspace(0.0, time_max, num=200)\n",
    "\n",
    "y = waiting_time_distr_samples_act(x, [res[183]], samples, time_max, np.array([1.0]))\n",
    "print(net_names[183])"
   ]
  },
  {
   "cell_type": "code",
   "execution_count": 9,
   "metadata": {},
   "outputs": [
    {
     "data": {
      "image/png": "[encoded data removed]",
      "text/plain": [
       "<Figure size 129.6x57.6 with 1 Axes>"
      ]
     },
     "metadata": {
      "needs_background": "light"
     },
     "output_type": "display_data"
    }
   ],
   "source": [
    "y_997_lower = np.percentile(y, 0.15, axis=1)\n",
    "y_95_lower = np.percentile(y, 2.5, axis=1)\n",
    "y_68_lower = np.percentile(y, 16.0, axis=1)\n",
    "y_median = np.percentile(y, 50.0, axis=1)\n",
    "y_68_upper = np.percentile(y, 84.0, axis=1)\n",
    "y_95_upper = np.percentile(y, 97.5, axis=1)\n",
    "y_997_upper = np.percentile(y, 99.85, axis=1)\n",
    "\n",
    "plt.rcParams.update({'figure.figsize': (1.8, 0.8)}) # 1.4, 1.8\n",
    "plt.figure()\n",
    "ax = plt.gca()\n",
    "ax.spines['top'].set_visible(False)\n",
    "ax.spines['right'].set_visible(False)\n",
    "ax.spines['bottom'].set_visible(True)\n",
    "ax.spines['left'].set_visible(True)\n",
    "\n",
    "# adapted from framework plotting methods\n",
    "if plot_data:\n",
    "    data.events_find_all()\n",
    "    data_act = np.array([tup[1] for tup in data.event_all_first_cell_type_conversion if tup[0]])\n",
    "\n",
    "    plt.hist(data_act - 1e-06, bins=data.data_time_values,\n",
    "             color='black', alpha=0.1,\n",
    "             density=True, histtype='stepfilled', label='Data')\n",
    "\n",
    "plt.fill_between(x, y_997_lower, y_95_lower, color=cwact, alpha=0.2, linewidth=0.0, zorder=100)\n",
    "plt.fill_between(x, y_95_lower, y_68_lower, color=cwact, alpha=0.4, linewidth=0.0, zorder=100)\n",
    "plt.fill_between(x, y_68_lower, y_median, color=cwact, alpha=0.6, linewidth=0.0, zorder=100)\n",
    "\n",
    "plt.fill_between(x, y_median, y_68_upper, color=cwact, alpha=0.6, linewidth=0.0, zorder=100)\n",
    "plt.fill_between(x, y_68_upper, y_95_upper, color=cwact, alpha=0.4, linewidth=0.0, zorder=100)\n",
    "plt.fill_between(x, y_95_upper, y_997_upper, color=cwact, alpha=0.2, linewidth=0.0, zorder=100)\n",
    "\n",
    "# plt.plot(x, y_hdi_997_lower, color='lightseagreen', lw=2, alpha=0.2)\n",
    "# plt.plot(x, y_hdi_95_lower, color='lightseagreen', lw=2, alpha=0.4)\n",
    "# plt.plot(x, y_hdi_68_lower, color='lightseagreen', lw=2, alpha=0.6)\n",
    "plt.plot(x, y_median, color=cwact, lw=1, zorder=200, label='Inference \\n(Moments)')\n",
    "# plt.plot(x, y_hdi_68_upper, color='lightseagreen', lw=2, alpha=0.6)\n",
    "# plt.plot(x, y_hdi_95_upper, color='lightseagreen', lw=2, alpha=0.4)\n",
    "# plt.plot(x, y_hdi_997_upper, color='lightseagreen', lw=2, alpha=0.2)\n",
    "\n",
    "# plot experimental window\n",
    "plt.axvline(x=54.0, linewidth=0.5, color=grey)\n",
    "\n",
    "plt.xticks([0, 20, 40, 54, 100], [0, 20, 40, 54, 100])\n",
    "\n",
    "plt.legend()\n",
    "plt.ylabel('Probability')\n",
    "plt.xlabel('Activation times (hours)')\n",
    "plt.savefig('paper_figures/waiting_times_act_par2_d_6_8_l_18_long100.pdf', bbox_inches='tight') # _long200 # pdf, png"
   ]
  },
  {
   "cell_type": "code",
   "execution_count": 10,
   "metadata": {},
   "outputs": [
    {
     "name": "stdout",
     "output_type": "stream",
     "text": [
      "[    0.     0. 40000.     0.]\n"
     ]
    }
   ],
   "source": [
    "# best model only\n",
    "samples = 40000\n",
    "plot_data = False # True or False\n",
    "time_max = 54.0 # 150.0, 54.0\n",
    "x = np.linspace(0.0, time_max, num=200)\n",
    "\n",
    "# NOTE: the data we plot here is only from first divisions! (so its not the complete data, \n",
    "# which is inaccessible from the data)\n",
    "\n",
    "y = waiting_time_distr_samples_div(x, [res[183]], samples, time_max, np.array([1.0]))"
   ]
  },
  {
   "cell_type": "code",
   "execution_count": 11,
   "metadata": {},
   "outputs": [
    {
     "data": {
      "image/png": "[encoded data removed]",
      "text/plain": [
       "<Figure size 69.84x57.6 with 1 Axes>"
      ]
     },
     "metadata": {
      "needs_background": "light"
     },
     "output_type": "display_data"
    }
   ],
   "source": [
    "y_997_lower = np.percentile(y, 0.15, axis=1)\n",
    "y_95_lower = np.percentile(y, 2.5, axis=1)\n",
    "y_68_lower = np.percentile(y, 16.0, axis=1)\n",
    "y_median = np.percentile(y, 50.0, axis=1)\n",
    "y_68_upper = np.percentile(y, 84.0, axis=1)\n",
    "y_95_upper = np.percentile(y, 97.5, axis=1)\n",
    "y_997_upper = np.percentile(y, 99.85, axis=1)\n",
    "\n",
    "# figure size adapted to fit activation times scale\n",
    "plt.rcParams.update({'figure.figsize': (0.97, 0.8)}) # 1.4, 0.97\n",
    "plt.figure()\n",
    "ax = plt.gca()\n",
    "ax.spines['top'].set_visible(False)\n",
    "ax.spines['right'].set_visible(False)\n",
    "ax.spines['bottom'].set_visible(True)\n",
    "ax.spines['left'].set_visible(True)\n",
    "\n",
    "# adapted from framework plotting methods\n",
    "if plot_data:\n",
    "    data.events_find_all()\n",
    "    data_act = np.array([tup[1] for tup in data.event_all_first_cell_count_increase_after_cell_type_conversion if tup[0]])\n",
    "\n",
    "    plt.hist(data_act - 1e-06, bins=data.data_time_values,\n",
    "             color='black', alpha=0.1,\n",
    "             density=True, histtype='stepfilled', label='Data')\n",
    "    \n",
    "plt.fill_between(x, y_997_lower, y_95_lower, color=cwdiv, alpha=0.2, linewidth=0.0, zorder=100)\n",
    "plt.fill_between(x, y_95_lower, y_68_lower, color=cwdiv, alpha=0.4, linewidth=0.0, zorder=100)\n",
    "plt.fill_between(x, y_68_lower, y_median, color=cwdiv, alpha=0.6, linewidth=0.0, zorder=100)\n",
    "\n",
    "plt.fill_between(x, y_median, y_68_upper, color=cwdiv, alpha=0.6, linewidth=0.0, zorder=100)\n",
    "plt.fill_between(x, y_68_upper, y_95_upper, color=cwdiv, alpha=0.4, linewidth=0.0, zorder=100)\n",
    "plt.fill_between(x, y_95_upper, y_997_upper, color=cwdiv, alpha=0.2, linewidth=0.0, zorder=100)\n",
    "\n",
    "# plt.plot(x, y_hdi_997_lower, color='darkorange', lw=0.5, alpha=0.2)\n",
    "# plt.plot(x, y_hdi_95_lower, color='darkorange', lw=0.5, alpha=0.4)\n",
    "# plt.plot(x, y_hdi_68_lower, color='blue', lw=0.5, alpha=0.6)\n",
    "plt.plot(x, y_median, color=cwdiv, lw=1, zorder=200, label='Inference \\n(Moments)')\n",
    "# plt.plot(x, y_hdi_68_upper, color='darkorange', lw=0.5, alpha=0.6)\n",
    "# plt.plot(x, y_hdi_95_upper, color='darkorange', lw=0.5, alpha=0.4)\n",
    "# plt.plot(x, y_hdi_997_upper, color='darkorange', lw=0.5, alpha=0.2)\n",
    "\n",
    "plt.xticks([0, 20, 40, 54], [0, 20, 40, 54])\n",
    "plt.ylim(0.0, None)\n",
    "\n",
    "plt.legend()\n",
    "plt.ylabel('Probability')\n",
    "plt.xlabel('Division times (hours)')\n",
    "plt.savefig('paper_figures/waiting_times_div_par2_d_6_8_l_18.pdf', bbox_inches='tight') # pdf, png"
   ]
  },
  {
   "cell_type": "code",
   "execution_count": 12,
   "metadata": {},
   "outputs": [
    {
     "name": "stdout",
     "output_type": "stream",
     "text": [
      "[    0.     0. 40000.     0.]\n",
      "par2_d_6_8_l_18\n"
     ]
    }
   ],
   "source": [
    "# decompose activation waiting times for the par2 model\n",
    "# function below adapted from settings_load.py script\n",
    "\n",
    "def waiting_time_distr_samples_act_composition(x, res, samples, time_max, mprior):\n",
    "    model_probs = me.selection.compute_model_probabilities(res, mprior=mprior)\n",
    "\n",
    "    # for checking set a counter\n",
    "    model_type_counts = np.zeros((4,))\n",
    "\n",
    "    # set general x values\n",
    "    # ADAPTED: add three dims in the end\n",
    "    y = np.zeros((x.shape[0], samples, 3))\n",
    "\n",
    "    for i in range(samples):\n",
    "        # get random model according to p(M|D)\n",
    "        model_rand = np.random.choice(range(len(model_probs)), p=model_probs, replace=True)\n",
    "        est = res[model_rand]\n",
    "\n",
    "        # par2 model\n",
    "        if 'par2_' in est.net.net_name:\n",
    "            model_type_counts[2] += 1\n",
    "            # get random theta according to p(theta|M, D)\n",
    "            inds = np.array(range(0, est.bay_est_samples_weighted.shape[0]))\n",
    "            theta_ind = np.random.choice(inds, replace=True)\n",
    "            theta = est.bay_est_samples_weighted[theta_ind, :]\n",
    "\n",
    "            # read out steps and rates\n",
    "            n_d1 = est.net.net_modules[0]['module_steps']\n",
    "            n_d2 = est.net.net_modules[1]['module_steps']\n",
    "            d1 = theta[0]\n",
    "            d2 = theta[1]\n",
    "\n",
    "            # calculate channel probabilities\n",
    "            d_total_paths = n_d1 * d1 + n_d2 * d2\n",
    "            d1_path = (n_d1 * d1)/d_total_paths\n",
    "            d2_path = (n_d2 * d2)/d_total_paths\n",
    "\n",
    "            # calculate different gamma pdfs\n",
    "            d1_scale = 1.0/(n_d1 * d1)\n",
    "            d2_scale = 1.0/(n_d2 * d2)\n",
    "\n",
    "            d1_gamma = stats.gamma.pdf(x, a=n_d1, scale=d1_scale)\n",
    "            d2_gamma = stats.gamma.pdf(x, a=n_d2, scale=d2_scale)\n",
    "\n",
    "            # compose total gamma over channels\n",
    "            gamma = d1_path * d1_gamma + d2_path * d2_gamma\n",
    "        \n",
    "        # ADAPTED read out\n",
    "        y[:, i, 0] = gamma\n",
    "        y[:, i, 1] = d1_path * d1_gamma\n",
    "        y[:, i, 2] = d2_path * d2_gamma\n",
    "        \n",
    "    print(model_type_counts)\n",
    "    return y\n",
    "\n",
    "samples = 40000\n",
    "plot_data = True # True or False\n",
    "time_max = 100.0 # 60.0, 100.0, 200.0\n",
    "x = np.linspace(0.0, time_max, num=200)\n",
    "\n",
    "y = waiting_time_distr_samples_act_composition(x, [res[183]], samples, time_max, np.array([1.0]))\n",
    "print(net_names[183])"
   ]
  },
  {
   "cell_type": "code",
   "execution_count": 23,
   "metadata": {},
   "outputs": [
    {
     "data": {
      "image/png": "[encoded data removed]",
      "text/plain": [
       "<Figure size 129.6x57.6 with 1 Axes>"
      ]
     },
     "metadata": {
      "needs_background": "light"
     },
     "output_type": "display_data"
    }
   ],
   "source": [
    "y_95_lower = np.percentile(y[:, :, 0], 2.5, axis=1) # ADAPTED\n",
    "y_median = np.percentile(y[:, :, 0], 50.0, axis=1) # ADAPTED\n",
    "y_95_upper = np.percentile(y[:, :, 0], 97.5, axis=1) # ADAPTED\n",
    "\n",
    "# ADAPTED\n",
    "y_95_lower_channel1 = np.percentile(y[:, :, 1], 2.5, axis=1)\n",
    "y_median_channel1 = np.percentile(y[:, :, 1], 50.0, axis=1)\n",
    "y_95_upper_channel1 = np.percentile(y[:, :, 1], 97.5, axis=1)\n",
    "\n",
    "# ADAPTED\n",
    "y_95_lower_channel2 = np.percentile(y[:, :, 2], 2.5, axis=1) \n",
    "y_median_channel2 = np.percentile(y[:, :, 2], 50.0, axis=1)\n",
    "y_95_upper_channel2 = np.percentile(y[:, :, 2], 97.5, axis=1)\n",
    "\n",
    "plt.rcParams.update({'figure.figsize': (1.8, 0.8)}) # 1.4, 1.8\n",
    "plt.figure()\n",
    "ax = plt.gca()\n",
    "ax.spines['top'].set_visible(False)\n",
    "ax.spines['right'].set_visible(False)\n",
    "ax.spines['bottom'].set_visible(True)\n",
    "ax.spines['left'].set_visible(True)\n",
    "\n",
    "# adapted from framework plotting methods\n",
    "if False: # plot_data\n",
    "    data.events_find_all()\n",
    "    data_act = np.array([tup[1] for tup in data.event_all_first_cell_type_conversion if tup[0]])\n",
    "\n",
    "    plt.hist(data_act - 1e-06, bins=data.data_time_values,\n",
    "             color='black', alpha=0.1,\n",
    "             density=True, histtype='stepfilled', label='Data')\n",
    "\n",
    "# plt.fill_between(x, y_95_lower, y_median, color=grey, alpha=0.4, linewidth=0.0, zorder=100)\n",
    "# plt.fill_between(x, y_median, y_95_upper, color=grey, alpha=0.4, linewidth=0.0, zorder=100)\n",
    "\n",
    "plt.fill_between(x, y_95_lower_channel1, y_median_channel1, color=cnaive, alpha=0.4, linewidth=0.0, zorder=150)\n",
    "plt.fill_between(x, y_median_channel1, y_95_upper_channel1, color=cnaive, alpha=0.4, linewidth=0.0, zorder=150)\n",
    "\n",
    "plt.fill_between(x, y_95_lower_channel2, y_median_channel2, color=cactiv, alpha=0.4, linewidth=0.0, zorder=150)\n",
    "plt.fill_between(x, y_median_channel2, y_95_upper_channel2, color=cactiv, alpha=0.4, linewidth=0.0, zorder=150)\n",
    "\n",
    "plt.plot(x, y_median, color=cwact, linestyle='--', lw=1, zorder=300)\n",
    "plt.plot(x, y_median_channel1, color=cnaive, lw=1, zorder=200, label='Erlang channel 1 (n=6)')\n",
    "plt.plot(x, y_median_channel2, color=cactiv, lw=1, zorder=200, label='Erlang channel 2 (n=8)')\n",
    "\n",
    "# plot experimental window\n",
    "plt.axvline(x=54.0, linewidth=0.5, color=grey)\n",
    "\n",
    "plt.xticks([0, 20, 40, 54, 100], [0, 20, 40, 54, 100])\n",
    "\n",
    "plt.legend()\n",
    "plt.ylabel('Probability')\n",
    "plt.xlabel('Activation times (hours)')\n",
    "plt.savefig('paper_figures/waiting_times_act_par2_d_6_8_l_18_long100_comp.pdf', bbox_inches='tight') # _long200 # pdf, png"
   ]
  },
  {
   "cell_type": "code",
   "execution_count": 25,
   "metadata": {},
   "outputs": [
    {
     "name": "stdout",
     "output_type": "stream",
     "text": [
      "6 8 18\n"
     ]
    }
   ],
   "source": [
    "print(res[183].net.net_modules[0]['module_steps'], # act channel 1\n",
    "res[183].net.net_modules[1]['module_steps'], # act channel 2\n",
    "res[183].net.net_modules[2]['module_steps']) # div"
   ]
  },
  {
   "cell_type": "markdown",
   "metadata": {},
   "source": [
    "##### Best Phase type 3 model fits (par3)"
   ]
  },
  {
   "cell_type": "code",
   "execution_count": 2,
   "metadata": {},
   "outputs": [],
   "source": [
    "res = pickle.load(open('waiting_times_files/estimation_count_data_cd44_filtered_sigma022_par3.pickle', 'rb'))"
   ]
  },
  {
   "cell_type": "code",
   "execution_count": 4,
   "metadata": {},
   "outputs": [],
   "source": [
    "net_names = [est.net.net_name for est in res]\n",
    "model_probs = me.selection.compute_model_probabilities(res)\n",
    "log_evids = [est.bay_est_log_evidence for est in res]\n",
    "\n",
    "sort_inds = np.array(- model_probs).argsort()\n",
    "net_names_sorted = np.array(net_names)[sort_inds]\n",
    "model_probs_sorted = np.array(model_probs)[sort_inds]\n",
    "\n",
    "data = res[0].data"
   ]
  },
  {
   "cell_type": "code",
   "execution_count": 6,
   "metadata": {},
   "outputs": [
    {
     "name": "stdout",
     "output_type": "stream",
     "text": [
      "['par3_d_6_6_6_l_18' 'par3_d_6_6_6_l_14' 'par3_d_6_6_14_l_18'\n",
      " 'par3_d_6_6_14_l_14' 'par3_d_8_8_18_l_18']\n",
      "349\n"
     ]
    }
   ],
   "source": [
    "print(net_names_sorted[:5])\n",
    "print(net_names.index('par3_d_6_6_6_l_18'))"
   ]
  },
  {
   "cell_type": "code",
   "execution_count": 9,
   "metadata": {},
   "outputs": [
    {
     "data": {
      "image/png": "[encoded data removed]",
      "text/plain": [
       "<Figure size 86.4x57.6 with 1 Axes>"
      ]
     },
     "metadata": {
      "needs_background": "light"
     },
     "output_type": "display_data"
    },
    {
     "data": {
      "image/png": "[encoded data removed]",
      "text/plain": [
       "<Figure size 86.4x57.6 with 1 Axes>"
      ]
     },
     "metadata": {
      "needs_background": "light"
     },
     "output_type": "display_data"
    },
    {
     "data": {
      "image/png": "[encoded data removed]",
      "text/plain": [
       "<Figure size 86.4x57.6 with 1 Axes>"
      ]
     },
     "metadata": {
      "needs_background": "light"
     },
     "output_type": "display_data"
    }
   ],
   "source": [
    "est = res[349]\n",
    "\n",
    "# repair memocell versions\n",
    "est.net_time_values_dense = est.data_time_values_dense\n",
    "est.data.data_mean_exists_only = False\n",
    "\n",
    "plt.rcParams.update({'figure.figsize': (1.2, 0.8)})\n",
    "settings = {\n",
    "    'A_t': {'label': 'E$(A_t)$', 'color': cactiv},\n",
    "    'M_t': {'label': 'E$(M_t)$', 'color': cnaive}\n",
    "}\n",
    "me.plots.est_bestfit_mean_plot(est, x_label='Time (hours)', settings=settings, save='paper_figures/fit_cd44_mean_par3_d_6_6_6_l_18.pdf')\n",
    "\n",
    "settings = {\n",
    "    ('A_t', 'A_t'): {'label': 'Var$(A_t)$', 'color': cactiv},\n",
    "    ('M_t', 'M_t'): {'label': 'Var$(M_t)$', 'color': cnaive}\n",
    "}\n",
    "me.plots.est_bestfit_variance_plot(est, x_label='Time (hours)', settings=settings, save='paper_figures/fit_cd44_var_par3_d_6_6_6_l_18.pdf')\n",
    "\n",
    "settings = {\n",
    "    ('A_t', 'M_t'): {'label': 'Cov$(M_t, A_t)$', 'color': grey}\n",
    "}\n",
    "me.plots.est_bestfit_covariance_plot(est, x_label='Time (hours)', settings=settings, save='paper_figures/fit_cd44_cov_par3_d_6_6_6_l_18.pdf')"
   ]
  },
  {
   "cell_type": "markdown",
   "metadata": {},
   "source": [
    "##### Probability strip over best models for general inference"
   ]
  },
  {
   "cell_type": "code",
   "execution_count": 3,
   "metadata": {},
   "outputs": [
    {
     "name": "stdout",
     "output_type": "stream",
     "text": [
      "100 288 588 976\n"
     ]
    }
   ],
   "source": [
    "res1 = pickle.load(open('waiting_times_files/estimation_count_data_cd44_filtered_sigma022_minimal2.pickle', 'rb'))\n",
    "res2 = pickle.load(open('waiting_times_files/estimation_count_data_cd44_filtered_sigma022_par2.pickle', 'rb'))\n",
    "res3 = pickle.load(open('waiting_times_files/estimation_count_data_cd44_filtered_sigma022_par3.pickle', 'rb'))\n",
    "res = res1 + res2 + res3\n",
    "print(len(res1), len(res2), len(res3), len(res))"
   ]
  },
  {
   "cell_type": "code",
   "execution_count": 4,
   "metadata": {},
   "outputs": [
    {
     "name": "stdout",
     "output_type": "stream",
     "text": [
      "1.000000000000017\n",
      "976\n",
      "4.452090637016675e-205\n",
      "5.831857248046224e-12\n",
      "0.557374194770303\n",
      "0.4426258052238786\n"
     ]
    }
   ],
   "source": [
    "net_names = [est.net.net_name for est in res]\n",
    "mprior = np.array([0.25] + [0.25/99]*99 + [0.25/288]*288 + [0.25/588]*588)\n",
    "print(sum(mprior))\n",
    "model_probs = me.selection.compute_model_probabilities(res, mprior=mprior)\n",
    "print(len(model_probs))\n",
    "\n",
    "print(sum(model_probs[0:1]))\n",
    "print(sum(model_probs[1:100]))\n",
    "print(sum(model_probs[100:388]))\n",
    "print(sum(model_probs[388:]))"
   ]
  },
  {
   "cell_type": "code",
   "execution_count": 5,
   "metadata": {},
   "outputs": [],
   "source": [
    "sort_inds = np.array(- model_probs).argsort()\n",
    "net_names_sorted = np.array(net_names)[sort_inds]\n",
    "model_probs_sorted = np.array(model_probs)[sort_inds]"
   ]
  },
  {
   "cell_type": "code",
   "execution_count": 18,
   "metadata": {},
   "outputs": [
    {
     "name": "stdout",
     "output_type": "stream",
     "text": [
      "True\n",
      "0.5796308021449896\n"
     ]
    }
   ],
   "source": [
    "ntop = 20\n",
    "\n",
    "# check if all ntop models are phase type\n",
    "is_ph = True\n",
    "for name in net_names_sorted[0:ntop]:\n",
    "    if 'par2_' in name or 'par3_' in name:\n",
    "        pass\n",
    "    else:\n",
    "        is_ph = False\n",
    "print(is_ph)\n",
    "print(sum(model_probs_sorted[:ntop]))"
   ]
  },
  {
   "cell_type": "code",
   "execution_count": 16,
   "metadata": {},
   "outputs": [
    {
     "data": {
      "image/png": "[encoded data removed]",
      "text/plain": [
       "<Figure size 18x180 with 2 Axes>"
      ]
     },
     "metadata": {
      "needs_background": "light"
     },
     "output_type": "display_data"
    }
   ],
   "source": [
    "\n",
    "# def process_net_names(net_names):\n",
    "#     net_names_style = list()\n",
    "#     for name in net_names:\n",
    "#         name_style = str(name[4:])\n",
    "#         name_style = name_style.replace('_', r', ')\n",
    "#         name_style = name_style.replace('alphaF', r'$n_{\\alpha_1}$=')\n",
    "#         name_style = name_style.replace('alphaS', r'$n_{\\alpha_2}$=')\n",
    "#         name_style = name_style.replace('alphaT', r'$n_{\\alpha_3}$=')\n",
    "#         name_style = name_style.replace('lambda', r'$n_{\\lambda}$=')\n",
    "#         net_names_style.append(name_style)\n",
    "#     return net_names_style\n",
    "\n",
    "# def process_net_names_simple(net_names):\n",
    "#     net_names_style = list()\n",
    "#     for name in net_names:\n",
    "#         name_style = str(name[4:])\n",
    "#         name_style = name_style.replace('_', ' ')\n",
    "#         name_style = name_style.replace('alphaF1', '1')\n",
    "#         name_style = name_style.replace('alphaF2', '2  ')\n",
    "#         name_style = name_style.replace('alphaF4', '4  ')\n",
    "#         name_style = name_style.replace('alphaF6', '6  ')\n",
    "#         name_style = name_style.replace('alphaF8', '8  ')\n",
    "        \n",
    "#         name_style = name_style.replace('alphaS1', '1')\n",
    "#         name_style = name_style.replace('alphaS2', '2  ')\n",
    "#         name_style = name_style.replace('alphaS4', '4  ')\n",
    "#         name_style = name_style.replace('alphaS6', '6  ')\n",
    "#         name_style = name_style.replace('alphaS8', '8  ')\n",
    "        \n",
    "#         name_style = name_style.replace('alphaT1', '1')\n",
    "#         name_style = name_style.replace('alphaT2', '2  ')\n",
    "#         name_style = name_style.replace('alphaT4', '4  ')\n",
    "#         name_style = name_style.replace('alphaT6', '6  ')\n",
    "#         name_style = name_style.replace('alphaT8', '8  ')\n",
    "        \n",
    "#         name_style = name_style.replace('lambda1', '1')\n",
    "#         name_style = name_style.replace('lambda2', '2')\n",
    "#         name_style = name_style.replace('lambda4', '4')\n",
    "#         name_style = name_style.replace('lambda6', '6')\n",
    "#         name_style = name_style.replace('lambda8', '8')\n",
    "#         name_style = 'PH  ' + name_style\n",
    "#         net_names_style.append(name_style)\n",
    "#     return net_names_style\n",
    "\n",
    "plt.rcParams.update({'mathtext.default':  'regular' })\n",
    "plt.figure(figsize=(0.25,2.5))\n",
    "df = pd.DataFrame(np.array([model_probs_sorted[:ntop]]).T * 100.0, \n",
    "                  index=net_names_sorted[:ntop]) # process_net_names_simple(net_names_sorted[:ntop])\n",
    "g = sns.heatmap(df, cmap='cividis', annot=True, fmt='.2f', annot_kws={\"size\":4}, yticklabels=True) # annot=True\n",
    "ax = plt.gca()\n",
    "ax.tick_params(right=True, left=False, labelright=True, labelleft=False)\n",
    "g.set_yticklabels(g.get_ymajorticklabels(), fontsize = 4)\n",
    "plt.yticks(rotation=0, va='center')\n",
    "plt.xticks(rotation=90)\n",
    "plt.savefig('paper_figures/models_probs_strip_all_sigma022.pdf', bbox_inches='tight')"
   ]
  },
  {
   "cell_type": "markdown",
   "metadata": {},
   "source": [
    "##### Stochastic features for best-fit par2 model (cell count distr.)"
   ]
  },
  {
   "cell_type": "code",
   "execution_count": 10,
   "metadata": {},
   "outputs": [],
   "source": [
    "res = pickle.load(open('waiting_times_files/estimation_count_data_cd44_filtered_sigma022_par2.pickle', 'rb'))"
   ]
  },
  {
   "cell_type": "code",
   "execution_count": 11,
   "metadata": {},
   "outputs": [
    {
     "name": "stdout",
     "output_type": "stream",
     "text": [
      "288\n",
      "183\n",
      "par2_d_6_8_l_18\n"
     ]
    }
   ],
   "source": [
    "net_names = [est.net.net_name for est in res]\n",
    "model_probs = me.selection.compute_model_probabilities(res)\n",
    "data = res[0].data\n",
    "mprior = np.array([1.0])\n",
    "\n",
    "print(len(net_names))\n",
    "print(list(model_probs).index(max(model_probs)))\n",
    "print(net_names[183])"
   ]
  },
  {
   "cell_type": "code",
   "execution_count": 12,
   "metadata": {
    "collapsed": true,
    "jupyter": {
     "outputs_hidden": true
    }
   },
   "outputs": [
    {
     "name": "stdout",
     "output_type": "stream",
     "text": [
      "0\n",
      "1\n",
      "2\n",
      "3\n",
      "4\n",
      "5\n",
      "6\n",
      "7\n",
      "8\n",
      "9\n",
      "10\n",
      "11\n",
      "12\n",
      "13\n",
      "14\n",
      "15\n",
      "16\n",
      "17\n",
      "18\n",
      "19\n",
      "20\n",
      "21\n",
      "22\n",
      "23\n",
      "24\n",
      "25\n",
      "26\n",
      "27\n",
      "28\n",
      "29\n",
      "30\n",
      "31\n",
      "32\n",
      "33\n",
      "34\n",
      "35\n",
      "36\n",
      "37\n",
      "38\n",
      "39\n",
      "40\n",
      "41\n",
      "42\n",
      "43\n",
      "44\n",
      "45\n",
      "46\n",
      "47\n",
      "48\n",
      "49\n",
      "50\n",
      "51\n",
      "52\n",
      "53\n",
      "54\n",
      "55\n",
      "56\n",
      "57\n",
      "58\n",
      "59\n",
      "60\n",
      "61\n",
      "62\n",
      "63\n",
      "64\n",
      "65\n",
      "66\n",
      "67\n",
      "68\n",
      "69\n",
      "70\n",
      "71\n",
      "72\n",
      "73\n",
      "74\n",
      "75\n",
      "76\n",
      "77\n",
      "78\n",
      "79\n",
      "80\n",
      "81\n",
      "82\n",
      "83\n",
      "84\n",
      "85\n",
      "86\n",
      "87\n",
      "88\n",
      "89\n",
      "90\n",
      "91\n",
      "92\n",
      "93\n",
      "94\n",
      "95\n",
      "96\n",
      "97\n",
      "98\n",
      "99\n",
      "100\n",
      "101\n",
      "102\n",
      "103\n",
      "104\n",
      "105\n",
      "106\n",
      "107\n",
      "108\n",
      "109\n",
      "110\n",
      "111\n",
      "112\n",
      "113\n",
      "114\n",
      "115\n",
      "116\n",
      "117\n",
      "118\n",
      "119\n",
      "120\n",
      "121\n",
      "122\n",
      "123\n",
      "124\n",
      "125\n",
      "126\n",
      "127\n",
      "128\n",
      "129\n",
      "130\n",
      "131\n",
      "132\n",
      "133\n",
      "134\n",
      "135\n",
      "136\n",
      "137\n",
      "138\n",
      "139\n",
      "140\n",
      "141\n",
      "142\n",
      "143\n",
      "144\n",
      "145\n",
      "146\n",
      "147\n",
      "148\n",
      "149\n",
      "150\n",
      "151\n",
      "152\n",
      "153\n",
      "154\n",
      "155\n",
      "156\n",
      "157\n",
      "158\n",
      "159\n",
      "160\n",
      "161\n",
      "162\n",
      "163\n",
      "164\n",
      "165\n",
      "166\n",
      "167\n",
      "168\n",
      "169\n",
      "170\n",
      "171\n",
      "172\n",
      "173\n",
      "174\n",
      "175\n",
      "176\n",
      "177\n",
      "178\n",
      "179\n",
      "180\n",
      "181\n",
      "182\n",
      "183\n",
      "184\n",
      "185\n",
      "186\n",
      "187\n",
      "188\n",
      "189\n",
      "190\n",
      "191\n",
      "192\n",
      "193\n",
      "194\n",
      "195\n",
      "196\n",
      "197\n",
      "198\n",
      "199\n",
      "200\n",
      "201\n",
      "202\n",
      "203\n",
      "204\n",
      "205\n",
      "206\n",
      "207\n",
      "208\n",
      "209\n",
      "210\n",
      "211\n",
      "212\n",
      "213\n",
      "214\n",
      "215\n",
      "216\n",
      "217\n",
      "218\n",
      "219\n",
      "220\n",
      "221\n",
      "222\n",
      "223\n",
      "224\n",
      "225\n",
      "226\n",
      "227\n",
      "228\n",
      "229\n",
      "230\n",
      "231\n",
      "232\n",
      "233\n",
      "234\n",
      "235\n",
      "236\n",
      "237\n",
      "238\n",
      "239\n",
      "240\n",
      "241\n",
      "242\n",
      "243\n",
      "244\n",
      "245\n",
      "246\n",
      "247\n",
      "248\n",
      "249\n",
      "250\n",
      "251\n",
      "252\n",
      "253\n",
      "254\n",
      "255\n",
      "256\n",
      "257\n",
      "258\n",
      "259\n",
      "260\n",
      "261\n",
      "262\n",
      "263\n",
      "264\n",
      "265\n",
      "266\n",
      "267\n",
      "268\n",
      "269\n",
      "270\n",
      "271\n",
      "272\n",
      "273\n",
      "274\n",
      "275\n",
      "276\n",
      "277\n",
      "278\n",
      "279\n",
      "280\n",
      "281\n",
      "282\n",
      "283\n",
      "284\n",
      "285\n",
      "286\n",
      "287\n",
      "288\n",
      "289\n",
      "290\n",
      "291\n",
      "292\n",
      "293\n",
      "294\n",
      "295\n",
      "296\n",
      "297\n",
      "298\n",
      "299\n",
      "300\n",
      "301\n",
      "302\n",
      "303\n",
      "304\n",
      "305\n",
      "306\n",
      "307\n",
      "308\n",
      "309\n",
      "310\n",
      "311\n",
      "312\n",
      "313\n",
      "314\n",
      "315\n",
      "316\n",
      "317\n",
      "318\n",
      "319\n",
      "320\n",
      "321\n",
      "322\n",
      "323\n",
      "324\n",
      "325\n",
      "326\n",
      "327\n",
      "328\n",
      "329\n",
      "330\n",
      "331\n",
      "332\n",
      "333\n",
      "334\n",
      "335\n",
      "336\n",
      "337\n",
      "338\n",
      "339\n",
      "340\n",
      "341\n",
      "342\n",
      "343\n",
      "344\n",
      "345\n",
      "346\n",
      "347\n",
      "348\n",
      "349\n",
      "350\n",
      "351\n",
      "352\n",
      "353\n",
      "354\n",
      "355\n",
      "356\n",
      "357\n",
      "358\n",
      "359\n",
      "360\n",
      "361\n",
      "362\n",
      "363\n",
      "364\n",
      "365\n",
      "366\n",
      "367\n",
      "368\n",
      "369\n",
      "370\n",
      "371\n",
      "372\n",
      "373\n",
      "374\n",
      "375\n",
      "376\n",
      "377\n",
      "378\n",
      "379\n",
      "380\n",
      "381\n",
      "382\n",
      "383\n",
      "384\n",
      "385\n",
      "386\n",
      "387\n",
      "388\n",
      "389\n",
      "390\n",
      "391\n",
      "392\n",
      "393\n",
      "394\n",
      "395\n",
      "396\n",
      "397\n",
      "398\n",
      "399\n",
      "400\n",
      "401\n",
      "402\n",
      "403\n",
      "404\n",
      "405\n",
      "406\n",
      "407\n",
      "408\n",
      "409\n",
      "410\n",
      "411\n",
      "412\n",
      "413\n",
      "414\n",
      "415\n",
      "416\n",
      "417\n",
      "418\n",
      "419\n",
      "420\n",
      "421\n",
      "422\n",
      "423\n",
      "424\n",
      "425\n",
      "426\n",
      "427\n",
      "428\n",
      "429\n",
      "430\n",
      "431\n",
      "432\n",
      "433\n",
      "434\n",
      "435\n",
      "436\n",
      "437\n",
      "438\n",
      "439\n",
      "440\n",
      "441\n",
      "442\n",
      "443\n",
      "444\n",
      "445\n",
      "446\n",
      "447\n",
      "448\n",
      "449\n",
      "450\n",
      "451\n",
      "452\n",
      "453\n",
      "454\n",
      "455\n",
      "456\n",
      "457\n",
      "458\n",
      "459\n",
      "460\n",
      "461\n",
      "462\n",
      "463\n",
      "464\n",
      "465\n",
      "466\n",
      "467\n",
      "468\n",
      "469\n",
      "470\n",
      "471\n",
      "472\n",
      "473\n",
      "474\n",
      "475\n",
      "476\n",
      "477\n",
      "478\n",
      "479\n",
      "480\n",
      "481\n",
      "482\n",
      "483\n",
      "484\n",
      "485\n",
      "486\n",
      "487\n",
      "488\n",
      "489\n",
      "490\n",
      "491\n",
      "492\n",
      "493\n",
      "494\n",
      "495\n",
      "496\n",
      "497\n",
      "498\n",
      "499\n",
      "500\n",
      "501\n",
      "502\n",
      "503\n",
      "504\n",
      "505\n",
      "506\n",
      "507\n",
      "508\n",
      "509\n",
      "510\n",
      "511\n",
      "512\n",
      "513\n",
      "514\n",
      "515\n",
      "516\n",
      "517\n",
      "518\n",
      "519\n",
      "520\n",
      "521\n",
      "522\n",
      "523\n",
      "524\n",
      "525\n",
      "526\n",
      "527\n",
      "528\n",
      "529\n",
      "530\n",
      "531\n",
      "532\n",
      "533\n",
      "534\n",
      "535\n",
      "536\n",
      "537\n",
      "538\n",
      "539\n",
      "540\n",
      "541\n",
      "542\n",
      "543\n",
      "544\n",
      "545\n",
      "546\n",
      "547\n",
      "548\n",
      "549\n",
      "550\n",
      "551\n",
      "552\n",
      "553\n",
      "554\n",
      "555\n",
      "556\n",
      "557\n",
      "558\n",
      "559\n",
      "560\n",
      "561\n",
      "562\n",
      "563\n",
      "564\n",
      "565\n",
      "566\n",
      "567\n",
      "568\n",
      "569\n",
      "570\n",
      "571\n",
      "572\n",
      "573\n",
      "574\n",
      "575\n",
      "576\n",
      "577\n",
      "578\n",
      "579\n",
      "580\n",
      "581\n",
      "582\n",
      "583\n",
      "584\n",
      "585\n",
      "586\n",
      "587\n",
      "588\n",
      "589\n",
      "590\n",
      "591\n",
      "592\n",
      "593\n",
      "594\n",
      "595\n",
      "596\n",
      "597\n",
      "598\n",
      "599\n",
      "600\n",
      "601\n",
      "602\n",
      "603\n",
      "604\n",
      "605\n",
      "606\n",
      "607\n",
      "608\n",
      "609\n",
      "610\n",
      "611\n",
      "612\n",
      "613\n",
      "614\n",
      "615\n",
      "616\n",
      "617\n",
      "618\n",
      "619\n",
      "620\n",
      "621\n",
      "622\n",
      "623\n",
      "624\n",
      "625\n",
      "626\n",
      "627\n",
      "628\n",
      "629\n",
      "630\n",
      "631\n",
      "632\n",
      "633\n",
      "634\n",
      "635\n",
      "636\n",
      "637\n",
      "638\n",
      "639\n",
      "640\n",
      "641\n",
      "642\n",
      "643\n",
      "644\n",
      "645\n",
      "646\n",
      "647\n",
      "648\n",
      "649\n",
      "650\n",
      "651\n",
      "652\n",
      "653\n",
      "654\n",
      "655\n",
      "656\n",
      "657\n",
      "658\n",
      "659\n",
      "660\n",
      "661\n",
      "662\n",
      "663\n",
      "664\n",
      "665\n",
      "666\n",
      "667\n",
      "668\n",
      "669\n",
      "670\n",
      "671\n",
      "672\n",
      "673\n",
      "674\n",
      "675\n",
      "676\n",
      "677\n",
      "678\n",
      "679\n",
      "680\n",
      "681\n",
      "682\n",
      "683\n",
      "684\n",
      "685\n",
      "686\n",
      "687\n",
      "688\n",
      "689\n",
      "690\n",
      "691\n",
      "692\n",
      "693\n",
      "694\n",
      "695\n",
      "696\n",
      "697\n",
      "698\n",
      "699\n",
      "700\n",
      "701\n",
      "702\n",
      "703\n",
      "704\n",
      "705\n",
      "706\n",
      "707\n",
      "708\n",
      "709\n",
      "710\n",
      "711\n",
      "712\n",
      "713\n",
      "714\n",
      "715\n",
      "716\n",
      "717\n",
      "718\n",
      "719\n",
      "720\n",
      "721\n",
      "722\n",
      "723\n",
      "724\n",
      "725\n",
      "726\n",
      "727\n",
      "728\n",
      "729\n",
      "730\n",
      "731\n",
      "732\n",
      "733\n",
      "734\n",
      "735\n",
      "736\n",
      "737\n",
      "738\n",
      "739\n",
      "740\n",
      "741\n",
      "742\n",
      "743\n",
      "744\n",
      "745\n",
      "746\n",
      "747\n",
      "748\n",
      "749\n",
      "750\n",
      "751\n",
      "752\n",
      "753\n",
      "754\n",
      "755\n",
      "756\n",
      "757\n",
      "758\n",
      "759\n",
      "760\n",
      "761\n",
      "762\n",
      "763\n",
      "764\n",
      "765\n",
      "766\n",
      "767\n",
      "768\n",
      "769\n",
      "770\n",
      "771\n",
      "772\n",
      "773\n",
      "774\n",
      "775\n",
      "776\n",
      "777\n",
      "778\n",
      "779\n",
      "780\n",
      "781\n",
      "782\n",
      "783\n",
      "784\n",
      "785\n",
      "786\n",
      "787\n",
      "788\n",
      "789\n",
      "790\n",
      "791\n",
      "792\n",
      "793\n",
      "794\n",
      "795\n",
      "796\n",
      "797\n",
      "798\n",
      "799\n",
      "800\n",
      "801\n",
      "802\n",
      "803\n",
      "804\n",
      "805\n",
      "806\n",
      "807\n",
      "808\n",
      "809\n",
      "810\n",
      "811\n",
      "812\n",
      "813\n",
      "814\n",
      "815\n",
      "816\n",
      "817\n",
      "818\n",
      "819\n",
      "820\n",
      "821\n",
      "822\n",
      "823\n",
      "824\n",
      "825\n",
      "826\n",
      "827\n",
      "828\n",
      "829\n",
      "830\n",
      "831\n",
      "832\n",
      "833\n",
      "834\n",
      "835\n",
      "836\n",
      "837\n",
      "838\n",
      "839\n",
      "840\n",
      "841\n",
      "842\n",
      "843\n",
      "844\n",
      "845\n",
      "846\n",
      "847\n",
      "848\n",
      "849\n",
      "850\n",
      "851\n",
      "852\n",
      "853\n",
      "854\n",
      "855\n",
      "856\n",
      "857\n",
      "858\n",
      "859\n",
      "860\n",
      "861\n",
      "862\n",
      "863\n",
      "864\n",
      "865\n",
      "866\n",
      "867\n",
      "868\n",
      "869\n",
      "870\n",
      "871\n",
      "872\n",
      "873\n",
      "874\n",
      "875\n",
      "876\n",
      "877\n",
      "878\n",
      "879\n",
      "880\n",
      "881\n",
      "882\n",
      "883\n",
      "884\n",
      "885\n",
      "886\n",
      "887\n",
      "888\n",
      "889\n",
      "890\n",
      "891\n",
      "892\n",
      "893\n",
      "894\n",
      "895\n",
      "896\n",
      "897\n",
      "898\n",
      "899\n",
      "900\n",
      "901\n",
      "902\n",
      "903\n",
      "904\n",
      "905\n",
      "906\n",
      "907\n",
      "908\n",
      "909\n",
      "910\n",
      "911\n",
      "912\n",
      "913\n",
      "914\n",
      "915\n",
      "916\n",
      "917\n",
      "918\n",
      "919\n",
      "920\n",
      "921\n",
      "922\n",
      "923\n",
      "924\n",
      "925\n",
      "926\n",
      "927\n",
      "928\n",
      "929\n",
      "930\n",
      "931\n",
      "932\n",
      "933\n",
      "934\n",
      "935\n",
      "936\n",
      "937\n",
      "938\n",
      "939\n",
      "940\n",
      "941\n",
      "942\n",
      "943\n",
      "944\n",
      "945\n",
      "946\n",
      "947\n",
      "948\n",
      "949\n",
      "950\n",
      "951\n",
      "952\n",
      "953\n",
      "954\n",
      "955\n",
      "956\n",
      "957\n",
      "958\n",
      "959\n",
      "960\n",
      "961\n",
      "962\n",
      "963\n",
      "964\n",
      "965\n",
      "966\n",
      "967\n",
      "968\n",
      "969\n",
      "970\n",
      "971\n",
      "972\n",
      "973\n",
      "974\n",
      "975\n",
      "976\n",
      "977\n",
      "978\n",
      "979\n",
      "980\n",
      "981\n",
      "982\n",
      "983\n",
      "984\n",
      "985\n",
      "986\n",
      "987\n",
      "988\n",
      "989\n",
      "990\n",
      "991\n",
      "992\n",
      "993\n",
      "994\n",
      "995\n",
      "996\n",
      "997\n",
      "998\n",
      "999\n",
      "[   0.    0. 1000.    0.]\n"
     ]
    }
   ],
   "source": [
    "# res = [est]\n",
    "celltype = 1 # 0 or 1 (active, naive)\n",
    "time_point = -1 # last time point\n",
    "sample_n = 1000 # 1000 # posterior samples of cell histograms; typically 1000-10000\n",
    "sim_n = 500 # 500 # simulation repeats per given model and theta; ideally, inf\n",
    "count_max = 16\n",
    "y = hist_cell_counts_samples([res[183]], celltype, time_point, sample_n, count_max, sim_n, mprior)"
   ]
  },
  {
   "cell_type": "code",
   "execution_count": 18,
   "metadata": {},
   "outputs": [
    {
     "name": "stdout",
     "output_type": "stream",
     "text": [
      "(16, 1000)\n"
     ]
    }
   ],
   "source": [
    "print(y.shape)\n",
    "y_95_lower = np.percentile(y, 2.5, axis=1)\n",
    "y_median = np.percentile(y, 50.0, axis=1)\n",
    "y_95_upper = np.percentile(y, 97.5, axis=1)"
   ]
  },
  {
   "cell_type": "code",
   "execution_count": 19,
   "metadata": {},
   "outputs": [
    {
     "data": {
      "image/png": "[encoded data removed]",
      "text/plain": [
       "<Figure size 57.6x57.6 with 1 Axes>"
      ]
     },
     "metadata": {
      "needs_background": "light"
     },
     "output_type": "display_data"
    }
   ],
   "source": [
    "# compute model histogram over all models\n",
    "# naive_y = y.copy()\n",
    "plt.rcParams.update({'figure.figsize': (0.8, 0.8)})\n",
    "ax = plt.gca()\n",
    "ax.spines['top'].set_visible(False)\n",
    "ax.spines['right'].set_visible(False)\n",
    "ax.spines['bottom'].set_visible(True)\n",
    "ax.spines['left'].set_visible(True)\n",
    "\n",
    "linelow = 44*y_95_lower/sim_n\n",
    "line = 44*y_median/sim_n\n",
    "lineupp = 44*y_95_upper/sim_n\n",
    "errlow = line-linelow\n",
    "errupp = lineupp-line\n",
    "\n",
    "plt.fill_between(range(count_max), linelow, line, color=cnaive, alpha=0.2, linewidth=0.0, zorder=100)\n",
    "# plt.plot(range(count_max), line, color=cnaive, zorder=200, linewidth=1.0)\n",
    "plt.fill_between(range(count_max), line, lineupp, color=cnaive, alpha=0.2, linewidth=0.0, zorder=100) #,\n",
    "#                 label='Models')\n",
    "cutplot = 3\n",
    "plt.errorbar(list(range(count_max))[:cutplot], line[:cutplot], yerr=np.array([errlow, errupp])[:, :cutplot],\n",
    "            color=cnaive, linewidth=1.0, capsize=1.0,\n",
    "             zorder=100, markersize=2, fmt='.', label='Inference\\n(Moments)')\n",
    "\n",
    "plt.hist(res[0].data.data_counts[:, 1, -1], bins=np.linspace(-0.5, 9.5, num=11), \n",
    "         color='black', alpha=0.1, label='Data')\n",
    "plt.xticks([0, 1, 2])\n",
    "plt.xlim(None, 3)\n",
    "plt.ylim(-1.5, None)\n",
    "plt.xlabel('CD44- cell number (54 hours)')\n",
    "plt.ylabel('Microwells')\n",
    "plt.legend()\n",
    "plt.savefig(f'paper_figures/hist_cd44_naive_bands_par2_d_6_8_l_18.pdf', bbox_inches='tight') # _thin4"
   ]
  },
  {
   "cell_type": "code",
   "execution_count": 9,
   "metadata": {},
   "outputs": [
    {
     "data": {
      "image/png": "[encoded data removed]",
      "text/plain": [
       "<Figure size 57.6x57.6 with 1 Axes>"
      ]
     },
     "metadata": {
      "needs_background": "light"
     },
     "output_type": "display_data"
    }
   ],
   "source": [
    "# compute model histogram over all models\n",
    "# active_y = y.copy()\n",
    "plt.rcParams.update({'figure.figsize': (0.8, 0.8)})\n",
    "ax = plt.gca()\n",
    "ax.spines['top'].set_visible(False)\n",
    "ax.spines['right'].set_visible(False)\n",
    "ax.spines['bottom'].set_visible(True)\n",
    "ax.spines['left'].set_visible(True)\n",
    "\n",
    "linelow = 44*y_95_lower/sim_n\n",
    "line = 44*y_median/sim_n\n",
    "lineupp = 44*y_95_upper/sim_n\n",
    "errlow = line-linelow\n",
    "errupp = lineupp-line\n",
    "\n",
    "plt.fill_between(range(count_max), linelow, line, color=cactiv, alpha=0.2, linewidth=0.0, zorder=100)\n",
    "# plt.plot(range(count_max), line, color=cactiv, zorder=200, linewidth=1.0)\n",
    "plt.fill_between(range(count_max), line, lineupp, color=cactiv, alpha=0.2, linewidth=0.0, zorder=100) #,\n",
    "#                 label='Model')\n",
    "\n",
    "cutplot = 10\n",
    "plt.errorbar(list(range(count_max))[:cutplot], line[:cutplot], \n",
    "             yerr=np.array([errlow, errupp])[:, :cutplot],\n",
    "            color=cactiv, linewidth=1.0, capsize=1.0,\n",
    "             zorder=100, markersize=2, fmt='.', label='Inference\\n(Moments)')\n",
    "\n",
    "plt.hist(res[0].data.data_counts[:, 0, -1], bins=np.linspace(-0.5, 9.5, num=11), \n",
    "         color='black', alpha=0.1, label='Data')\n",
    "\n",
    "plt.xlim(-1, 10)\n",
    "plt.xlabel('CD44+ cell number (54 hours)')\n",
    "plt.ylabel('Microwells')\n",
    "plt.legend()\n",
    "plt.savefig(f'paper_figures/hist_cd44_active_band_par2_d_6_8_l_18.pdf', bbox_inches='tight') # _thin4"
   ]
  },
  {
   "cell_type": "code",
   "execution_count": 17,
   "metadata": {},
   "outputs": [],
   "source": [
    "# save naive_y and active_y for replotting\n",
    "# with open('waiting_times_files/inf_cell_counts_par2_d_6_8_l_18_sigma022_naive_y.pickle', 'wb') as file_: # in_silico_estimation\n",
    "#     pickle.dump(naive_y, file_)\n",
    "# with open('waiting_times_files/inf_cell_counts_par2_d_6_8_l_18_sigma022_active_y.pickle', 'wb') as file_: # in_silico_estimation\n",
    "#     pickle.dump(active_y, file_)\n",
    "\n",
    "# load from these files to use as 'y' for above plots\n",
    "# inf_cell_counts_minimal2_par2_par3_sigma022_naive_y\n",
    "# inf_cell_counts_minimal2_par2_par3_sigma022_active_y\n",
    "y = pickle.load(open('waiting_times_files/inf_cell_counts_par2_d_6_8_l_18_sigma022_naive_y.pickle', 'rb'))"
   ]
  },
  {
   "cell_type": "markdown",
   "metadata": {},
   "source": [
    "##### Stochastic features for best-fit par2 model (event analysis)"
   ]
  },
  {
   "cell_type": "code",
   "execution_count": 8,
   "metadata": {},
   "outputs": [],
   "source": [
    "data = pickle.load(open('waiting_times_files/count_data_cd44_manual_counting_18_01_14_filtered_sigma022.pickle', 'rb'))"
   ]
  },
  {
   "cell_type": "code",
   "execution_count": 9,
   "metadata": {},
   "outputs": [],
   "source": [
    "data.events_find_all()"
   ]
  },
  {
   "cell_type": "code",
   "execution_count": 10,
   "metadata": {},
   "outputs": [
    {
     "name": "stdout",
     "output_type": "stream",
     "text": [
      "84.0909090909091\n",
      "81.81818181818181\n",
      "70.45454545454545\n",
      "68.18181818181819\n",
      "61.36363636363637\n",
      "45.45454545454545\n"
     ]
    }
   ],
   "source": [
    "print(event_percentage(data.event_all_first_change_from_inital_conditions))\n",
    "print(event_percentage(data.event_all_first_cell_type_conversion))\n",
    "print(event_percentage(data.event_all_first_cell_count_increase))\n",
    "print(event_percentage(data.event_all_first_cell_count_increase_after_cell_type_conversion))\n",
    "print(event_percentage(data.event_all_second_cell_count_increase_after_first_cell_count_increase_after_cell_type_conversion))\n",
    "print(event_percentage(data.event_all_third_cell_count_increase_after_first_and_second_cell_count_increase_after_cell_type_conversion))"
   ]
  },
  {
   "cell_type": "code",
   "execution_count": 11,
   "metadata": {},
   "outputs": [],
   "source": [
    "# events of the data\n",
    "e_act_data = event_percentage(data.event_all_first_cell_type_conversion)\n",
    "e_div1_data = event_percentage(data.event_all_first_cell_count_increase_after_cell_type_conversion)\n",
    "e_div2_data = event_percentage(data.event_all_second_cell_count_increase_after_first_cell_count_increase_after_cell_type_conversion)\n",
    "e_div3_data = event_percentage(data.event_all_third_cell_count_increase_after_first_and_second_cell_count_increase_after_cell_type_conversion)"
   ]
  },
  {
   "cell_type": "code",
   "execution_count": 12,
   "metadata": {},
   "outputs": [
    {
     "name": "stdout",
     "output_type": "stream",
     "text": [
      "81.81818181818181 70.45454545454545 93.18181818181819\n",
      "68.18181818181819 54.54545454545455 81.81818181818181\n",
      "61.36363636363637 47.72727272727273 75.0\n",
      "45.45454545454545 31.818181818181817 61.36363636363637\n"
     ]
    }
   ],
   "source": [
    "# bootstrapping of microwells to get 95% uncertainty intervals for data events\n",
    "nwells = data.data_counts.shape[0]\n",
    "inds = np.array(range(0, nwells))\n",
    "nsamples = 5000\n",
    "\n",
    "e_act_data_samples = np.zeros(nsamples)\n",
    "e_div1_data_samples = np.zeros(nsamples)\n",
    "e_div2_data_samples = np.zeros(nsamples)\n",
    "e_div3_data_samples = np.zeros(nsamples)\n",
    "\n",
    "variables = data.data_variables\n",
    "time_values = data.data_time_values\n",
    "\n",
    "for i in range(nsamples):\n",
    "    wellinds = np.random.choice(inds, replace=True, size=nwells)\n",
    "    data_counts_sample = np.copy(data.data_counts[wellinds, :, :])\n",
    "    \n",
    "    data_btstrp = me.Data('data_btstrp')\n",
    "    data_btstrp.load(variables, time_values, data_counts_sample, bootstrap_samples=2)\n",
    "    data_btstrp.events_find_all()\n",
    "    \n",
    "    e_act_data_samples[i] = event_percentage(data_btstrp.event_all_first_cell_type_conversion)\n",
    "    e_div1_data_samples[i] = event_percentage(data_btstrp.event_all_first_cell_count_increase_after_cell_type_conversion)\n",
    "    e_div2_data_samples[i] = event_percentage(data_btstrp.event_all_second_cell_count_increase_after_first_cell_count_increase_after_cell_type_conversion)\n",
    "    e_div3_data_samples[i] = event_percentage(data_btstrp.event_all_third_cell_count_increase_after_first_and_second_cell_count_increase_after_cell_type_conversion)\n",
    "    \n",
    "print(np.percentile(e_act_data_samples, 50.0), np.percentile(e_act_data_samples, 2.5), np.percentile(e_act_data_samples, 97.5))\n",
    "print(np.percentile(e_div1_data_samples, 50.0), np.percentile(e_div1_data_samples, 2.5), np.percentile(e_div1_data_samples, 97.5))\n",
    "print(np.percentile(e_div2_data_samples, 50.0), np.percentile(e_div2_data_samples, 2.5), np.percentile(e_div2_data_samples, 97.5))\n",
    "print(np.percentile(e_div3_data_samples, 50.0), np.percentile(e_div3_data_samples, 2.5), np.percentile(e_div3_data_samples, 97.5))"
   ]
  },
  {
   "cell_type": "code",
   "execution_count": 2,
   "metadata": {},
   "outputs": [],
   "source": [
    "res = pickle.load(open('waiting_times_files/estimation_count_data_cd44_filtered_sigma022_par2.pickle', 'rb'))"
   ]
  },
  {
   "cell_type": "code",
   "execution_count": 3,
   "metadata": {},
   "outputs": [
    {
     "name": "stdout",
     "output_type": "stream",
     "text": [
      "288\n",
      "183\n",
      "par2_d_6_8_l_18\n"
     ]
    }
   ],
   "source": [
    "net_names = [est.net.net_name for est in res]\n",
    "model_probs = me.selection.compute_model_probabilities(res)\n",
    "data = res[0].data\n",
    "mprior = np.array([1.0])\n",
    "\n",
    "print(len(net_names))\n",
    "print(list(model_probs).index(max(model_probs)))\n",
    "print(net_names[183])"
   ]
  },
  {
   "cell_type": "code",
   "execution_count": 4,
   "metadata": {},
   "outputs": [
    {
     "data": {
      "text/plain": [
       "['A_t', 'M_t']"
      ]
     },
     "execution_count": 4,
     "metadata": {},
     "output_type": "execute_result"
    }
   ],
   "source": [
    "data = res[0].data\n",
    "data.data_variables"
   ]
  },
  {
   "cell_type": "code",
   "execution_count": 5,
   "metadata": {
    "collapsed": true,
    "jupyter": {
     "outputs_hidden": true
    }
   },
   "outputs": [
    {
     "name": "stdout",
     "output_type": "stream",
     "text": [
      "0\n",
      "1\n",
      "2\n",
      "3\n",
      "4\n",
      "5\n",
      "6\n",
      "7\n",
      "8\n",
      "9\n",
      "10\n",
      "11\n",
      "12\n",
      "13\n",
      "14\n",
      "15\n",
      "16\n",
      "17\n",
      "18\n",
      "19\n",
      "20\n",
      "21\n",
      "22\n",
      "23\n",
      "24\n",
      "25\n",
      "26\n",
      "27\n",
      "28\n",
      "29\n",
      "30\n",
      "31\n",
      "32\n",
      "33\n",
      "34\n",
      "35\n",
      "36\n",
      "37\n",
      "38\n",
      "39\n",
      "40\n",
      "41\n",
      "42\n",
      "43\n",
      "44\n",
      "45\n",
      "46\n",
      "47\n",
      "48\n",
      "49\n",
      "50\n",
      "51\n",
      "52\n",
      "53\n",
      "54\n",
      "55\n",
      "56\n",
      "57\n",
      "58\n",
      "59\n",
      "60\n",
      "61\n",
      "62\n",
      "63\n",
      "64\n",
      "65\n",
      "66\n",
      "67\n",
      "68\n",
      "69\n",
      "70\n",
      "71\n",
      "72\n",
      "73\n",
      "74\n",
      "75\n",
      "76\n",
      "77\n",
      "78\n",
      "79\n",
      "80\n",
      "81\n",
      "82\n",
      "83\n",
      "84\n",
      "85\n",
      "86\n",
      "87\n",
      "88\n",
      "89\n",
      "90\n",
      "91\n",
      "92\n",
      "93\n",
      "94\n",
      "95\n",
      "96\n",
      "97\n",
      "98\n",
      "99\n",
      "100\n",
      "101\n",
      "102\n",
      "103\n",
      "104\n",
      "105\n",
      "106\n",
      "107\n",
      "108\n",
      "109\n",
      "110\n",
      "111\n",
      "112\n",
      "113\n",
      "114\n",
      "115\n",
      "116\n",
      "117\n",
      "118\n",
      "119\n",
      "120\n",
      "121\n",
      "122\n",
      "123\n",
      "124\n",
      "125\n",
      "126\n",
      "127\n",
      "128\n",
      "129\n",
      "130\n",
      "131\n",
      "132\n",
      "133\n",
      "134\n",
      "135\n",
      "136\n",
      "137\n",
      "138\n",
      "139\n",
      "140\n",
      "141\n",
      "142\n",
      "143\n",
      "144\n",
      "145\n",
      "146\n",
      "147\n",
      "148\n",
      "149\n",
      "150\n",
      "151\n",
      "152\n",
      "153\n",
      "154\n",
      "155\n",
      "156\n",
      "157\n",
      "158\n",
      "159\n",
      "160\n",
      "161\n",
      "162\n",
      "163\n",
      "164\n",
      "165\n",
      "166\n",
      "167\n",
      "168\n",
      "169\n",
      "170\n",
      "171\n",
      "172\n",
      "173\n",
      "174\n",
      "175\n",
      "176\n",
      "177\n",
      "178\n",
      "179\n",
      "180\n",
      "181\n",
      "182\n",
      "183\n",
      "184\n",
      "185\n",
      "186\n",
      "187\n",
      "188\n",
      "189\n",
      "190\n",
      "191\n",
      "192\n",
      "193\n",
      "194\n",
      "195\n",
      "196\n",
      "197\n",
      "198\n",
      "199\n",
      "200\n",
      "201\n",
      "202\n",
      "203\n",
      "204\n",
      "205\n",
      "206\n",
      "207\n",
      "208\n",
      "209\n",
      "210\n",
      "211\n",
      "212\n",
      "213\n",
      "214\n",
      "215\n",
      "216\n",
      "217\n",
      "218\n",
      "219\n",
      "220\n",
      "221\n",
      "222\n",
      "223\n",
      "224\n",
      "225\n",
      "226\n",
      "227\n",
      "228\n",
      "229\n",
      "230\n",
      "231\n",
      "232\n",
      "233\n",
      "234\n",
      "235\n",
      "236\n",
      "237\n",
      "238\n",
      "239\n",
      "240\n",
      "241\n",
      "242\n",
      "243\n",
      "244\n",
      "245\n",
      "246\n",
      "247\n",
      "248\n",
      "249\n",
      "250\n",
      "251\n",
      "252\n",
      "253\n",
      "254\n",
      "255\n",
      "256\n",
      "257\n",
      "258\n",
      "259\n",
      "260\n",
      "261\n",
      "262\n",
      "263\n",
      "264\n",
      "265\n",
      "266\n",
      "267\n",
      "268\n",
      "269\n",
      "270\n",
      "271\n",
      "272\n",
      "273\n",
      "274\n",
      "275\n",
      "276\n",
      "277\n",
      "278\n",
      "279\n",
      "280\n",
      "281\n",
      "282\n",
      "283\n",
      "284\n",
      "285\n",
      "286\n",
      "287\n",
      "288\n",
      "289\n",
      "290\n",
      "291\n",
      "292\n",
      "293\n",
      "294\n",
      "295\n",
      "296\n",
      "297\n",
      "298\n",
      "299\n",
      "300\n",
      "301\n",
      "302\n",
      "303\n",
      "304\n",
      "305\n",
      "306\n",
      "307\n",
      "308\n",
      "309\n",
      "310\n",
      "311\n",
      "312\n",
      "313\n",
      "314\n",
      "315\n",
      "316\n",
      "317\n",
      "318\n",
      "319\n",
      "320\n",
      "321\n",
      "322\n",
      "323\n",
      "324\n",
      "325\n",
      "326\n",
      "327\n",
      "328\n",
      "329\n",
      "330\n",
      "331\n",
      "332\n",
      "333\n",
      "334\n",
      "335\n",
      "336\n",
      "337\n",
      "338\n",
      "339\n",
      "340\n",
      "341\n",
      "342\n",
      "343\n",
      "344\n",
      "345\n",
      "346\n",
      "347\n",
      "348\n",
      "349\n",
      "350\n",
      "351\n",
      "352\n",
      "353\n",
      "354\n",
      "355\n",
      "356\n",
      "357\n",
      "358\n",
      "359\n",
      "360\n",
      "361\n",
      "362\n",
      "363\n",
      "364\n",
      "365\n",
      "366\n",
      "367\n",
      "368\n",
      "369\n",
      "370\n",
      "371\n",
      "372\n",
      "373\n",
      "374\n",
      "375\n",
      "376\n",
      "377\n",
      "378\n",
      "379\n",
      "380\n",
      "381\n",
      "382\n",
      "383\n",
      "384\n",
      "385\n",
      "386\n",
      "387\n",
      "388\n",
      "389\n",
      "390\n",
      "391\n",
      "392\n",
      "393\n",
      "394\n",
      "395\n",
      "396\n",
      "397\n",
      "398\n",
      "399\n",
      "400\n",
      "401\n",
      "402\n",
      "403\n",
      "404\n",
      "405\n",
      "406\n",
      "407\n",
      "408\n",
      "409\n",
      "410\n",
      "411\n",
      "412\n",
      "413\n",
      "414\n",
      "415\n",
      "416\n",
      "417\n",
      "418\n",
      "419\n",
      "420\n",
      "421\n",
      "422\n",
      "423\n",
      "424\n",
      "425\n",
      "426\n",
      "427\n",
      "428\n",
      "429\n",
      "430\n",
      "431\n",
      "432\n",
      "433\n",
      "434\n",
      "435\n",
      "436\n",
      "437\n",
      "438\n",
      "439\n",
      "440\n",
      "441\n",
      "442\n",
      "443\n",
      "444\n",
      "445\n",
      "446\n",
      "447\n",
      "448\n",
      "449\n",
      "450\n",
      "451\n",
      "452\n",
      "453\n",
      "454\n",
      "455\n",
      "456\n",
      "457\n",
      "458\n",
      "459\n",
      "460\n",
      "461\n",
      "462\n",
      "463\n",
      "464\n",
      "465\n",
      "466\n",
      "467\n",
      "468\n",
      "469\n",
      "470\n",
      "471\n",
      "472\n",
      "473\n",
      "474\n",
      "475\n",
      "476\n",
      "477\n",
      "478\n",
      "479\n",
      "480\n",
      "481\n",
      "482\n",
      "483\n",
      "484\n",
      "485\n",
      "486\n",
      "487\n",
      "488\n",
      "489\n",
      "490\n",
      "491\n",
      "492\n",
      "493\n",
      "494\n",
      "495\n",
      "496\n",
      "497\n",
      "498\n",
      "499\n",
      "500\n",
      "501\n",
      "502\n",
      "503\n",
      "504\n",
      "505\n",
      "506\n",
      "507\n",
      "508\n",
      "509\n",
      "510\n",
      "511\n",
      "512\n",
      "513\n",
      "514\n",
      "515\n",
      "516\n",
      "517\n",
      "518\n",
      "519\n",
      "520\n",
      "521\n",
      "522\n",
      "523\n",
      "524\n",
      "525\n",
      "526\n",
      "527\n",
      "528\n",
      "529\n",
      "530\n",
      "531\n",
      "532\n",
      "533\n",
      "534\n",
      "535\n",
      "536\n",
      "537\n",
      "538\n",
      "539\n",
      "540\n",
      "541\n",
      "542\n",
      "543\n",
      "544\n",
      "545\n",
      "546\n",
      "547\n",
      "548\n",
      "549\n",
      "550\n",
      "551\n",
      "552\n",
      "553\n",
      "554\n",
      "555\n",
      "556\n",
      "557\n",
      "558\n",
      "559\n",
      "560\n",
      "561\n",
      "562\n",
      "563\n",
      "564\n",
      "565\n",
      "566\n",
      "567\n",
      "568\n",
      "569\n",
      "570\n",
      "571\n",
      "572\n",
      "573\n",
      "574\n",
      "575\n",
      "576\n",
      "577\n",
      "578\n",
      "579\n",
      "580\n",
      "581\n",
      "582\n",
      "583\n",
      "584\n",
      "585\n",
      "586\n",
      "587\n",
      "588\n",
      "589\n",
      "590\n",
      "591\n",
      "592\n",
      "593\n",
      "594\n",
      "595\n",
      "596\n",
      "597\n",
      "598\n",
      "599\n",
      "600\n",
      "601\n",
      "602\n",
      "603\n",
      "604\n",
      "605\n",
      "606\n",
      "607\n",
      "608\n",
      "609\n",
      "610\n",
      "611\n",
      "612\n",
      "613\n",
      "614\n",
      "615\n",
      "616\n",
      "617\n",
      "618\n",
      "619\n",
      "620\n",
      "621\n",
      "622\n",
      "623\n",
      "624\n",
      "625\n",
      "626\n",
      "627\n",
      "628\n",
      "629\n",
      "630\n",
      "631\n",
      "632\n",
      "633\n",
      "634\n",
      "635\n",
      "636\n",
      "637\n",
      "638\n",
      "639\n",
      "640\n",
      "641\n",
      "642\n",
      "643\n",
      "644\n",
      "645\n",
      "646\n",
      "647\n",
      "648\n",
      "649\n",
      "650\n",
      "651\n",
      "652\n",
      "653\n",
      "654\n",
      "655\n",
      "656\n",
      "657\n",
      "658\n",
      "659\n",
      "660\n",
      "661\n",
      "662\n",
      "663\n",
      "664\n",
      "665\n",
      "666\n",
      "667\n",
      "668\n",
      "669\n",
      "670\n",
      "671\n",
      "672\n",
      "673\n",
      "674\n",
      "675\n",
      "676\n",
      "677\n",
      "678\n",
      "679\n",
      "680\n",
      "681\n",
      "682\n",
      "683\n",
      "684\n",
      "685\n",
      "686\n",
      "687\n",
      "688\n",
      "689\n",
      "690\n",
      "691\n",
      "692\n",
      "693\n",
      "694\n",
      "695\n",
      "696\n",
      "697\n",
      "698\n",
      "699\n",
      "700\n",
      "701\n",
      "702\n",
      "703\n",
      "704\n",
      "705\n",
      "706\n",
      "707\n",
      "708\n",
      "709\n",
      "710\n",
      "711\n",
      "712\n",
      "713\n",
      "714\n",
      "715\n",
      "716\n",
      "717\n",
      "718\n",
      "719\n",
      "720\n",
      "721\n",
      "722\n",
      "723\n",
      "724\n",
      "725\n",
      "726\n",
      "727\n",
      "728\n",
      "729\n",
      "730\n",
      "731\n",
      "732\n",
      "733\n",
      "734\n",
      "735\n",
      "736\n",
      "737\n",
      "738\n",
      "739\n",
      "740\n",
      "741\n",
      "742\n",
      "743\n",
      "744\n",
      "745\n",
      "746\n",
      "747\n",
      "748\n",
      "749\n",
      "750\n",
      "751\n",
      "752\n",
      "753\n",
      "754\n",
      "755\n",
      "756\n",
      "757\n",
      "758\n",
      "759\n",
      "760\n",
      "761\n",
      "762\n",
      "763\n",
      "764\n",
      "765\n",
      "766\n",
      "767\n",
      "768\n",
      "769\n",
      "770\n",
      "771\n",
      "772\n",
      "773\n",
      "774\n",
      "775\n",
      "776\n",
      "777\n",
      "778\n",
      "779\n",
      "780\n",
      "781\n",
      "782\n",
      "783\n",
      "784\n",
      "785\n",
      "786\n",
      "787\n",
      "788\n",
      "789\n",
      "790\n",
      "791\n",
      "792\n",
      "793\n",
      "794\n",
      "795\n",
      "796\n",
      "797\n",
      "798\n",
      "799\n",
      "800\n",
      "801\n",
      "802\n",
      "803\n",
      "804\n",
      "805\n",
      "806\n",
      "807\n",
      "808\n",
      "809\n",
      "810\n",
      "811\n",
      "812\n",
      "813\n",
      "814\n",
      "815\n",
      "816\n",
      "817\n",
      "818\n",
      "819\n",
      "820\n",
      "821\n",
      "822\n",
      "823\n",
      "824\n",
      "825\n",
      "826\n",
      "827\n",
      "828\n",
      "829\n",
      "830\n",
      "831\n",
      "832\n",
      "833\n",
      "834\n",
      "835\n",
      "836\n",
      "837\n",
      "838\n",
      "839\n",
      "840\n",
      "841\n",
      "842\n",
      "843\n",
      "844\n",
      "845\n",
      "846\n",
      "847\n",
      "848\n",
      "849\n",
      "850\n",
      "851\n",
      "852\n",
      "853\n",
      "854\n",
      "855\n",
      "856\n",
      "857\n",
      "858\n",
      "859\n",
      "860\n",
      "861\n",
      "862\n",
      "863\n",
      "864\n",
      "865\n",
      "866\n",
      "867\n",
      "868\n",
      "869\n",
      "870\n",
      "871\n",
      "872\n",
      "873\n",
      "874\n",
      "875\n",
      "876\n",
      "877\n",
      "878\n",
      "879\n",
      "880\n",
      "881\n",
      "882\n",
      "883\n",
      "884\n",
      "885\n",
      "886\n",
      "887\n",
      "888\n",
      "889\n",
      "890\n",
      "891\n",
      "892\n",
      "893\n",
      "894\n",
      "895\n",
      "896\n",
      "897\n",
      "898\n",
      "899\n",
      "900\n",
      "901\n",
      "902\n",
      "903\n",
      "904\n",
      "905\n",
      "906\n",
      "907\n",
      "908\n",
      "909\n",
      "910\n",
      "911\n",
      "912\n",
      "913\n",
      "914\n",
      "915\n",
      "916\n",
      "917\n",
      "918\n",
      "919\n",
      "920\n",
      "921\n",
      "922\n",
      "923\n",
      "924\n",
      "925\n",
      "926\n",
      "927\n",
      "928\n",
      "929\n",
      "930\n",
      "931\n",
      "932\n",
      "933\n",
      "934\n",
      "935\n",
      "936\n",
      "937\n",
      "938\n",
      "939\n",
      "940\n",
      "941\n",
      "942\n",
      "943\n",
      "944\n",
      "945\n",
      "946\n",
      "947\n",
      "948\n",
      "949\n",
      "950\n",
      "951\n",
      "952\n",
      "953\n",
      "954\n",
      "955\n",
      "956\n",
      "957\n",
      "958\n",
      "959\n",
      "960\n",
      "961\n",
      "962\n",
      "963\n",
      "964\n",
      "965\n",
      "966\n",
      "967\n",
      "968\n",
      "969\n",
      "970\n",
      "971\n",
      "972\n",
      "973\n",
      "974\n",
      "975\n",
      "976\n",
      "977\n",
      "978\n",
      "979\n",
      "980\n",
      "981\n",
      "982\n",
      "983\n",
      "984\n",
      "985\n",
      "986\n",
      "987\n",
      "988\n",
      "989\n",
      "990\n",
      "991\n",
      "992\n",
      "993\n",
      "994\n",
      "995\n",
      "996\n",
      "997\n",
      "998\n",
      "999\n",
      "[   0.    0. 1000.    0.]\n"
     ]
    }
   ],
   "source": [
    "# paper run should be like: res, 1000, 500, mprior\n",
    "(e_act_model_samples, e_div1_model_samples,\n",
    "    e_div2_model_samples, e_div3_model_samples) = event_model_samples(\n",
    "                                            [res[183]], 1000, 500, mprior) # 1000, 500"
   ]
  },
  {
   "cell_type": "code",
   "execution_count": 14,
   "metadata": {},
   "outputs": [],
   "source": [
    "# save these event files for later reusage\n",
    "# with open('waiting_times_files/inf_events_par2_d_6_8_l_18_sigma022_act_div123_samples.pickle', 'wb') as file_: # in_silico_estimation\n",
    "#     pickle.dump((e_act_model_samples, e_div1_model_samples,\n",
    "#     e_div2_model_samples, e_div3_model_samples), file_)\n",
    "\n",
    "# load them for replotting\n",
    "(e_act_model_samples, e_div1_model_samples,\n",
    " e_div2_model_samples, e_div3_model_samples) = pickle.load(open('waiting_times_files/inf_events_par2_d_6_8_l_18_sigma022_act_div123_samples.pickle', 'rb'))"
   ]
  },
  {
   "cell_type": "code",
   "execution_count": 15,
   "metadata": {},
   "outputs": [
    {
     "data": {
      "image/png": "[encoded data removed]",
      "text/plain": [
       "<Figure size 72x43.2 with 1 Axes>"
      ]
     },
     "metadata": {
      "needs_background": "light"
     },
     "output_type": "display_data"
    }
   ],
   "source": [
    "# plot copied from plot comment (fig_dots_w_mult_bars)\n",
    "val_obj = np.array([\n",
    "        np.array([[e_act_data, e_act_data - np.percentile(e_act_data_samples, 2.5), np.percentile(e_act_data_samples, 97.5) - e_act_data], \n",
    "                  [np.percentile(e_act_model_samples, 50.0), np.percentile(e_act_model_samples, 50.0) - np.percentile(e_act_model_samples, 2.5), np.percentile(e_act_model_samples, 97.5) - np.percentile(e_act_model_samples, 50.0)]]),\n",
    "        np.array([[e_div1_data, e_div1_data - np.percentile(e_div1_data_samples, 2.5), np.percentile(e_div1_data_samples, 97.5) - e_div1_data], \n",
    "                  [np.percentile(e_div1_model_samples, 50.0), np.percentile(e_div1_model_samples, 50.0) - np.percentile(e_div1_model_samples, 2.5), np.percentile(e_div1_model_samples, 97.5) - np.percentile(e_div1_model_samples, 50.0)]]),\n",
    "        np.array([[e_div2_data, e_div2_data - np.percentile(e_div2_data_samples, 2.5), np.percentile(e_div2_data_samples, 97.5) - e_div2_data], \n",
    "                  [np.percentile(e_div2_model_samples, 50.0), np.percentile(e_div2_model_samples, 50.0) - np.percentile(e_div2_model_samples, 2.5), np.percentile(e_div2_model_samples, 97.5) - np.percentile(e_div2_model_samples, 50.0)]]),\n",
    "        np.array([[e_div3_data, e_div3_data - np.percentile(e_div3_data_samples, 2.5), np.percentile(e_div3_data_samples, 97.5) - e_div3_data], \n",
    "                  [np.percentile(e_div3_model_samples, 50.0), np.percentile(e_div3_model_samples, 50.0) - np.percentile(e_div3_model_samples, 2.5), np.percentile(e_div3_model_samples, 97.5) - np.percentile(e_div3_model_samples, 50.0)]])\n",
    "        ], dtype=object)\n",
    "\n",
    "attributes = {0: ('Activation', [cwact, cwact]),\n",
    "              1: ('Division 1', [cwdiv, cwdiv]),\n",
    "              2: ('Division 2', [cwdiv, cwdiv]),\n",
    "              3: ('Division 3', [cwdiv, cwdiv])}\n",
    "\n",
    "legend_attr = [('blue', 'x'), ('limegreen', 'y'), ('red', 'z')]\n",
    "\n",
    "# initialise figure and axis settings\n",
    "plt.rcParams.update({'figure.figsize': (1.0, 0.6)})\n",
    "\n",
    "plt.figure()\n",
    "\n",
    "ax = plt.gca()\n",
    "ax.spines['top'].set_visible(False)\n",
    "ax.spines['right'].set_visible(False)\n",
    "ax.spines['bottom'].set_visible(True)\n",
    "ax.spines['left'].set_visible(True)\n",
    "\n",
    "# actual plotting\n",
    "for val_ind in range(val_obj.shape[0]):\n",
    "    color_list = attributes[val_ind][1]\n",
    "    dots_per_categ = val_obj[val_ind].shape[0]\n",
    "\n",
    "    if dots_per_categ == 1:\n",
    "        x_pos = [val_ind + 1]\n",
    "    elif dots_per_categ == 2:\n",
    "        x_pos = [val_ind + 1 - 0.2, val_ind + 1 + 0.2]\n",
    "    elif dots_per_categ == 3:\n",
    "        x_pos = [val_ind + 1 - 0.2, val_ind + 1, val_ind + 1 + 0.2]\n",
    "\n",
    "    for dot_ind in range(dots_per_categ):\n",
    "        plt.errorbar(x_pos[dot_ind], val_obj[val_ind][dot_ind, 0],\n",
    "                    yerr=val_obj[val_ind][dot_ind, 1:].reshape(2,1),\n",
    "                    fmt='^' if dot_ind==0 else 'o', capsize=1, elinewidth=0.7, markeredgewidth=0.7,\n",
    "                    markersize=2, markeredgecolor=color_list[dot_ind],\n",
    "                    color=color_list[dot_ind], ecolor='lightgrey', zorder=1000,\n",
    "                    label=['Data', 'Inference\\n(Moments)'][dot_ind] if val_ind==0 else None)\n",
    "\n",
    "# add x axis ticks\n",
    "plt.xticks([val_ind + 1 for val_ind in range(val_obj.shape[0])],\n",
    "                [attributes[val_ind][0] for val_ind in range(val_obj.shape[0])], rotation=55)\n",
    "\n",
    "# add legend manually\n",
    "# plt.legend(handles=[mpatches.Patch(color=leg[0], label=leg[1]) for leg in legend_attr])\n",
    "plt.legend(frameon=False, loc='upper right')\n",
    "\n",
    "plt.ylim(0, 100) # ylim(35, 90)\n",
    "plt.ylabel('% Microwells')\n",
    "plt.savefig('paper_figures/event_analysis_full_par2_d_6_8_l_18.pdf', bbox_inches='tight')"
   ]
  },
  {
   "cell_type": "markdown",
   "metadata": {},
   "source": [
    "##### simulation-based inference of more waiting times (act, div1, div2, ...)"
   ]
  },
  {
   "cell_type": "markdown",
   "metadata": {},
   "source": [
    "data waiting times"
   ]
  },
  {
   "cell_type": "code",
   "execution_count": 3,
   "metadata": {},
   "outputs": [
    {
     "name": "stdout",
     "output_type": "stream",
     "text": [
      "(44, 2, 28)\n"
     ]
    }
   ],
   "source": [
    "data = pickle.load(open('waiting_times_files/count_data_cd44_manual_counting_18_01_14_filtered_sigma022.pickle', 'rb'))\n",
    "print(data.data_counts.shape)\n",
    "\n",
    "data.events_find_all()"
   ]
  },
  {
   "cell_type": "code",
   "execution_count": 24,
   "metadata": {},
   "outputs": [
    {
     "data": {
      "text/plain": [
       "(-2.7, 60.0)"
      ]
     },
     "execution_count": 24,
     "metadata": {},
     "output_type": "execute_result"
    },
    {
     "data": {
      "image/png": "[encoded data removed]",
      "text/plain": [
       "<Figure size 100.8x57.6 with 1 Axes>"
      ]
     },
     "metadata": {
      "needs_background": "light"
     },
     "output_type": "display_data"
    }
   ],
   "source": [
    "events = data.event_all_first_cell_type_conversion\n",
    "\n",
    "hist_bins = np.linspace(0, 54, num=28, endpoint=True)\n",
    "hist_tau = [tau - 1e-06 for (event_bool, tau) in events if event_bool]\n",
    "\n",
    "plt.figure(figsize=(1.4, 0.8))\n",
    "ax = plt.gca()\n",
    "ax.spines['top'].set_visible(False)\n",
    "ax.spines['right'].set_visible(False)\n",
    "ax.spines['bottom'].set_visible(True)\n",
    "ax.spines['left'].set_visible(True)\n",
    "plt.xlabel('Activation times (hours)')\n",
    "plt.ylabel('Frequency')\n",
    "plt.hist(hist_tau,\n",
    "                bins=hist_bins,\n",
    "                color=cwact,\n",
    "                density=True,\n",
    "                alpha=0.75,\n",
    "                histtype='stepfilled', # step, stepfilled\n",
    "                linewidth=2.0)\n",
    "\n",
    "plt.xlim(None, 60)\n",
    "# plt.legend()\n",
    "# plt.savefig('paper_figures/data_waiting_time_event_activation.pdf', bbox_inches='tight')"
   ]
  },
  {
   "cell_type": "code",
   "execution_count": 14,
   "metadata": {},
   "outputs": [
    {
     "name": "stdout",
     "output_type": "stream",
     "text": [
      "53.999999\n",
      "(True, 54.0)\n"
     ]
    }
   ],
   "source": [
    "print(max(hist_tau))\n",
    "print(events[30])"
   ]
  },
  {
   "cell_type": "code",
   "execution_count": 6,
   "metadata": {},
   "outputs": [
    {
     "data": {
      "text/plain": [
       "(-2.7, 60.0)"
      ]
     },
     "execution_count": 6,
     "metadata": {},
     "output_type": "execute_result"
    },
    {
     "data": {
      "image/png": "[encoded data removed]",
      "text/plain": [
       "<Figure size 100.8x57.6 with 1 Axes>"
      ]
     },
     "metadata": {
      "needs_background": "light"
     },
     "output_type": "display_data"
    }
   ],
   "source": [
    "events = data.event_all_first_cell_count_increase\n",
    "\n",
    "hist_bins = np.linspace(0, 54, num=28, endpoint=True)\n",
    "hist_tau = [tau - 1e-06 for (event_bool, tau) in events if event_bool]\n",
    "\n",
    "plt.figure(figsize=(1.4, 0.8))\n",
    "ax = plt.gca()\n",
    "ax.spines['top'].set_visible(False)\n",
    "ax.spines['right'].set_visible(False)\n",
    "ax.spines['bottom'].set_visible(True)\n",
    "ax.spines['left'].set_visible(True)\n",
    "plt.xlabel('Division 1 times (hours)')\n",
    "plt.ylabel('Frequency')\n",
    "plt.hist(hist_tau,\n",
    "                bins=hist_bins,\n",
    "                color=cwdiv,\n",
    "                density=True,\n",
    "                histtype='stepfilled', # step, stepfilled\n",
    "                linewidth=2.0)\n",
    "\n",
    "plt.xlim(None, 60)\n",
    "# plt.legend()\n",
    "# plt.savefig('paper_figures/data_waiting_time_event_division1.pdf', bbox_inches='tight')"
   ]
  },
  {
   "cell_type": "code",
   "execution_count": 5,
   "metadata": {},
   "outputs": [
    {
     "data": {
      "text/plain": [
       "(-2.7, 60.0)"
      ]
     },
     "execution_count": 5,
     "metadata": {},
     "output_type": "execute_result"
    },
    {
     "data": {
      "image/png": "[encoded data removed]",
      "text/plain": [
       "<Figure size 100.8x57.6 with 1 Axes>"
      ]
     },
     "metadata": {
      "needs_background": "light"
     },
     "output_type": "display_data"
    }
   ],
   "source": [
    "events = data.event_all_first_cell_count_increase_after_cell_type_conversion\n",
    "\n",
    "hist_bins = np.linspace(0, 54, num=28, endpoint=True)\n",
    "hist_tau = [tau - 1e-06 for (event_bool, tau) in events if event_bool]\n",
    "\n",
    "plt.figure(figsize=(1.4, 0.8))\n",
    "ax = plt.gca()\n",
    "ax.spines['top'].set_visible(False)\n",
    "ax.spines['right'].set_visible(False)\n",
    "ax.spines['bottom'].set_visible(True)\n",
    "ax.spines['left'].set_visible(True)\n",
    "plt.xlabel('Division 1 times (hours)')\n",
    "plt.ylabel('Frequency')\n",
    "plt.hist(hist_tau,\n",
    "                bins=hist_bins,\n",
    "                color=cwdiv,\n",
    "                density=True,\n",
    "                histtype='stepfilled', # step, stepfilled\n",
    "                linewidth=2.0)\n",
    "\n",
    "plt.xlim(None, 60)\n",
    "# plt.legend()\n",
    "# plt.savefig('paper_figures/data_waiting_time_event_division1.pdf', bbox_inches='tight')"
   ]
  },
  {
   "cell_type": "code",
   "execution_count": 7,
   "metadata": {},
   "outputs": [
    {
     "data": {
      "text/plain": [
       "(-2.7, 60.0)"
      ]
     },
     "execution_count": 7,
     "metadata": {},
     "output_type": "execute_result"
    },
    {
     "data": {
      "image/png": "[encoded data removed]",
      "text/plain": [
       "<Figure size 100.8x57.6 with 1 Axes>"
      ]
     },
     "metadata": {
      "needs_background": "light"
     },
     "output_type": "display_data"
    }
   ],
   "source": [
    "events = data.event_all_second_cell_count_increase_after_first_cell_count_increase_after_cell_type_conversion\n",
    "\n",
    "hist_bins = np.linspace(0, 54, num=28, endpoint=True)\n",
    "hist_tau = [tau - 1e-06 for (event_bool, tau) in events if event_bool]\n",
    "\n",
    "plt.figure(figsize=(1.4, 0.8))\n",
    "ax = plt.gca()\n",
    "ax.spines['top'].set_visible(False)\n",
    "ax.spines['right'].set_visible(False)\n",
    "ax.spines['bottom'].set_visible(True)\n",
    "ax.spines['left'].set_visible(True)\n",
    "plt.xlabel('Division 2 times (hours)')\n",
    "plt.ylabel('Frequency')\n",
    "plt.hist(hist_tau,\n",
    "                bins=hist_bins,\n",
    "                color=cwdiv,\n",
    "                density=True,\n",
    "                histtype='stepfilled', # step, stepfilled\n",
    "                linewidth=2.0)\n",
    "\n",
    "plt.xlim(None, 60)\n",
    "# plt.legend()\n",
    "# plt.savefig('paper_figures/data_waiting_time_event_division2.pdf', bbox_inches='tight')"
   ]
  },
  {
   "cell_type": "code",
   "execution_count": 8,
   "metadata": {},
   "outputs": [
    {
     "data": {
      "text/plain": [
       "(-2.7, 60.0)"
      ]
     },
     "execution_count": 8,
     "metadata": {},
     "output_type": "execute_result"
    },
    {
     "data": {
      "image/png": "[encoded data removed]",
      "text/plain": [
       "<Figure size 100.8x57.6 with 1 Axes>"
      ]
     },
     "metadata": {
      "needs_background": "light"
     },
     "output_type": "display_data"
    }
   ],
   "source": [
    "events = data.event_all_third_cell_count_increase_after_first_and_second_cell_count_increase_after_cell_type_conversion\n",
    "\n",
    "hist_bins = np.linspace(0, 54, num=28, endpoint=True)\n",
    "hist_tau = [tau - 1e-06 for (event_bool, tau) in events if event_bool]\n",
    "\n",
    "plt.figure(figsize=(1.4, 0.8))\n",
    "ax = plt.gca()\n",
    "ax.spines['top'].set_visible(False)\n",
    "ax.spines['right'].set_visible(False)\n",
    "ax.spines['bottom'].set_visible(True)\n",
    "ax.spines['left'].set_visible(True)\n",
    "plt.xlabel('Division 2 times (hours)')\n",
    "plt.ylabel('Frequency')\n",
    "plt.hist(hist_tau,\n",
    "                bins=hist_bins,\n",
    "                color=cwdiv,\n",
    "                density=True,\n",
    "                histtype='stepfilled', # step, stepfilled\n",
    "                linewidth=2.0)\n",
    "\n",
    "plt.xlim(None, 60)\n",
    "# plt.legend()\n",
    "# plt.savefig('paper_figures/data_waiting_time_event_division2.pdf', bbox_inches='tight')"
   ]
  },
  {
   "cell_type": "markdown",
   "metadata": {},
   "source": [
    "inferred waiting times over all models (sigma022, mean/var/cov data)"
   ]
  },
  {
   "cell_type": "code",
   "execution_count": 2,
   "metadata": {},
   "outputs": [
    {
     "name": "stdout",
     "output_type": "stream",
     "text": [
      "(44, 2, 28)\n"
     ]
    }
   ],
   "source": [
    "data = pickle.load(open('waiting_times_files/count_data_cd44_manual_counting_18_01_14_filtered_sigma022.pickle', 'rb'))\n",
    "print(data.data_counts.shape)\n",
    "\n",
    "data.events_find_all()"
   ]
  },
  {
   "cell_type": "code",
   "execution_count": 3,
   "metadata": {},
   "outputs": [
    {
     "name": "stdout",
     "output_type": "stream",
     "text": [
      "100 288 588 976\n",
      "1.000000000000017\n",
      "976\n"
     ]
    }
   ],
   "source": [
    "res1 = pickle.load(open('waiting_times_files/estimation_count_data_cd44_filtered_sigma022_minimal2.pickle', 'rb'))\n",
    "res2 = pickle.load(open('waiting_times_files/estimation_count_data_cd44_filtered_sigma022_par2.pickle', 'rb'))\n",
    "res3 = pickle.load(open('waiting_times_files/estimation_count_data_cd44_filtered_sigma022_par3.pickle', 'rb'))\n",
    "res = res1 + res2 + res3\n",
    "print(len(res1), len(res2), len(res3), len(res))\n",
    "\n",
    "# get net_names\n",
    "net_names = [est.net.net_name for est in res]\n",
    "\n",
    "# set model prior to give classes same weight\n",
    "mprior = np.array([0.25] + [0.25/99]*99 + [0.25/288]*288 + [0.25/588]*588)\n",
    "print(sum(mprior))\n",
    "print(len(mprior))"
   ]
  },
  {
   "cell_type": "code",
   "execution_count": 4,
   "metadata": {
    "jupyter": {
     "source_hidden": true
    }
   },
   "outputs": [],
   "source": [
    "### ADAPTED FROM hist_cell_counts_samples IN settings_load.py script\n",
    "def simulate_inference(res, sample_n, mprior):\n",
    "    model_probs = me.selection.compute_model_probabilities(res, mprior=mprior)\n",
    "\n",
    "    # set simulation results list\n",
    "    res_list = list()\n",
    "\n",
    "    # for checking set a counter\n",
    "    model_type_counts = np.zeros((4,))\n",
    "\n",
    "    for i in range(sample_n):\n",
    "        if i%5000==0: print(i)\n",
    "        # get random model according to p(M|D)\n",
    "        model_rand = np.random.choice(range(len(model_probs)), p=model_probs, replace=True)\n",
    "        est = res[model_rand]\n",
    "\n",
    "        # decide whether phase type or markov/erlang model\n",
    "        # par 3 model\n",
    "        if 'par3_' in est.net.net_name:\n",
    "            model_type_counts[3] += 1\n",
    "            # get random theta for model\n",
    "            inds = np.array(range(0, est.bay_est_samples_weighted.shape[0]))\n",
    "            theta_ind = np.random.choice(inds, replace=True)\n",
    "            theta = est.bay_est_samples_weighted[theta_ind, :]\n",
    "            d1, d2, d3, l = theta\n",
    "            theta_values = {'d1': d1, 'd2': d2,\n",
    "                                'd3': d3, 'l1': l}\n",
    "\n",
    "            # sim settings for par3 model\n",
    "            time_values = est.data.data_time_values\n",
    "            initial_values = {'M_t': 1, 'A_t': 0}\n",
    "            variables = {'M_t': ('M_t', ), 'A_t': ('A_t', )}\n",
    "\n",
    "            sim = me.Simulation(est.net)\n",
    "            res_list.append(sim.simulate('gillespie', variables, initial_values, theta_values, time_values)[1])\n",
    "\n",
    "        # par 2 model\n",
    "        elif 'par2_' in est.net.net_name:\n",
    "            model_type_counts[2] += 1\n",
    "\n",
    "            # get random theta for model\n",
    "            inds = np.array(range(0, est.bay_est_samples_weighted.shape[0]))\n",
    "            theta_ind = np.random.choice(inds, replace=True)\n",
    "            theta = est.bay_est_samples_weighted[theta_ind, :]\n",
    "            d1, d2, l1 = theta\n",
    "            theta_values = {'d1': d1, 'd2': d2, 'l1': l1}\n",
    "\n",
    "            # sim settings for par2 model\n",
    "            time_values = est.data.data_time_values\n",
    "            initial_values = {'M_t': 1, 'A_t': 0}\n",
    "            variables = {'M_t': ('M_t', ), 'A_t': ('A_t', )}\n",
    "\n",
    "            sim = me.Simulation(est.net)\n",
    "            res_list.append(sim.simulate('gillespie', variables, initial_values, theta_values, time_values)[1])\n",
    "\n",
    "        # par1+i model (identified by d_ni symbolic rate)\n",
    "        elif 'd_ni' in est.net.net_rates_identifier.values():\n",
    "            model_type_counts[1] += 1\n",
    "\n",
    "            # get random theta for model\n",
    "            inds = np.array(range(0, est.bay_est_samples_weighted.shape[0]))\n",
    "            theta_ind = np.random.choice(inds, replace=True)\n",
    "            theta = est.bay_est_samples_weighted[theta_ind, :]\n",
    "            dna, dni, l = theta\n",
    "            theta_values = {'d_na': dna, 'd_ni': dni, 'la_a': l}\n",
    "\n",
    "            # sim settings for par3 model\n",
    "            time_values = est.data.data_time_values\n",
    "            initial_values = {'N_t': 1, 'I_t': 0, 'A_t': 0}\n",
    "            variables = {'M_t': ('N_t', 'I_t'), 'A_t': ('A_t', )}\n",
    "\n",
    "            # different memopy versions\n",
    "            # (sim = me.Simulation(est.net)) usually works\n",
    "            dna_steps = est.net.net_modules[0]['module_steps']\n",
    "            dni_steps = est.net.net_modules[1]['module_steps']\n",
    "            l_steps = est.net.net_modules[2]['module_steps']\n",
    "\n",
    "            t = [\n",
    "            {'start': 'N_t', 'end': 'A_t', 'rate_symbol': 'd_na', 'type': 'S -> E', 'reaction_steps': dna_steps},\n",
    "            {'start': 'N_t', 'end': 'I_t', 'rate_symbol': 'd_ni', 'type': 'S -> E', 'reaction_steps': dni_steps},\n",
    "            {'start': 'A_t', 'end': 'A_t', 'rate_symbol': 'la_a', 'type': 'S -> S + S', 'reaction_steps': l_steps}\n",
    "            ]\n",
    "\n",
    "            net = me.Network(est.net.net_name)\n",
    "            net.structure(t)\n",
    "\n",
    "            sim = me.Simulation(net)\n",
    "            res_list.append(sim.simulate('gillespie', variables, initial_values, theta_values, time_values)[1])\n",
    "\n",
    "        # markov/erlang model\n",
    "        else:\n",
    "            model_type_counts[0] += 1\n",
    "            # get random theta for model\n",
    "            inds = np.array(range(0, est.bay_est_samples_weighted.shape[0]))\n",
    "            theta_ind = np.random.choice(inds, replace=True)\n",
    "            theta = est.bay_est_samples_weighted[theta_ind, :]\n",
    "            a1, l = theta\n",
    "            theta_values = {'d_ma': a1, 'la_a': l}\n",
    "\n",
    "            # sim settings for par3 model\n",
    "            time_values = est.data.data_time_values\n",
    "            initial_values = {'M_t': 1, 'A_t': 0}\n",
    "            variables = {'M_t': ('M_t', ), 'A_t': ('A_t', )}\n",
    "\n",
    "            # different memopy versions\n",
    "            # (sim = me.Simulation(est.net)) usually works\n",
    "            d_steps = est.net.net_modules[0]['module_steps']\n",
    "            l_steps = est.net.net_modules[1]['module_steps']\n",
    "\n",
    "            t = [\n",
    "            {'start': 'M_t', 'end': 'A_t', 'rate_symbol': 'd_ma', 'type': 'S -> E', 'reaction_steps': d_steps},\n",
    "            {'start': 'A_t', 'end': 'A_t', 'rate_symbol': 'la_a', 'type': 'S -> S + S', 'reaction_steps': l_steps}\n",
    "            ]\n",
    "\n",
    "            net = me.Network(est.net.net_name)\n",
    "            net.structure(t)\n",
    "\n",
    "            sim = me.Simulation(net)\n",
    "            res_list.append(sim.simulate('gillespie', variables, initial_values, theta_values, time_values)[1])\n",
    "\n",
    "    sims = np.array(res_list)\n",
    "    print(model_type_counts)\n",
    "    return sims"
   ]
  },
  {
   "cell_type": "code",
   "execution_count": 5,
   "metadata": {},
   "outputs": [
    {
     "name": "stdout",
     "output_type": "stream",
     "text": [
      "0\n",
      "5000\n",
      "10000\n",
      "15000\n",
      "20000\n",
      "25000\n",
      "30000\n",
      "35000\n",
      "40000\n",
      "45000\n",
      "50000\n",
      "55000\n",
      "60000\n",
      "65000\n",
      "70000\n",
      "75000\n",
      "80000\n",
      "85000\n",
      "90000\n",
      "95000\n",
      "[    0.     0. 55431. 44569.]\n"
     ]
    }
   ],
   "source": [
    "# simulate over all models in res with function below\n",
    "sample_n = 100000\n",
    "\n",
    "sim_res = simulate_inference(res, sample_n, mprior)"
   ]
  },
  {
   "cell_type": "code",
   "execution_count": 6,
   "metadata": {},
   "outputs": [],
   "source": [
    "# convert the simulation results to a data object\n",
    "# (with pseudo bootrap because we dont need summary stats)\n",
    "time_values = res[0].data.data_time_values\n",
    "data_sim = me.Data('data_sim_inference')\n",
    "data_sim.load(['A_t', 'M_t'], time_values, sim_res, bootstrap_samples=3)\n",
    "\n",
    "# trigger event analysis\n",
    "data_sim.events_find_all()"
   ]
  },
  {
   "cell_type": "code",
   "execution_count": 7,
   "metadata": {},
   "outputs": [
    {
     "data": {
      "image/png": "[encoded data removed]",
      "text/plain": [
       "<Figure size 100.8x57.6 with 1 Axes>"
      ]
     },
     "metadata": {
      "needs_background": "light"
     },
     "output_type": "display_data"
    }
   ],
   "source": [
    "# real data\n",
    "events = data.event_all_first_cell_type_conversion\n",
    "\n",
    "hist_bins = np.linspace(0, 54, num=28, endpoint=True)\n",
    "hist_tau = [tau - 1e-06 for (event_bool, tau) in events if event_bool]\n",
    "\n",
    "# simulation data\n",
    "sim_events = data_sim.event_all_first_cell_type_conversion\n",
    "\n",
    "sim_hist_bins = np.linspace(0, 54, num=28, endpoint=True)\n",
    "sim_hist_tau = [tau - 1e-06 for (event_bool, tau) in sim_events if event_bool]\n",
    "\n",
    "plt.figure(figsize=(1.4, 0.8))\n",
    "ax = plt.gca()\n",
    "ax.spines['top'].set_visible(False)\n",
    "ax.spines['right'].set_visible(False)\n",
    "ax.spines['bottom'].set_visible(True)\n",
    "ax.spines['left'].set_visible(True)\n",
    "plt.xlabel('Activation times (hours)')\n",
    "plt.ylabel('Frequency')\n",
    "plt.hist(hist_tau,\n",
    "                bins=hist_bins,\n",
    "                color=cwact,\n",
    "                density=True,\n",
    "                alpha=0.5,\n",
    "                histtype='stepfilled', # step, stepfilled\n",
    "                linewidth=1.0,\n",
    "                label='Data')\n",
    "\n",
    "plt.hist(sim_hist_tau,\n",
    "                bins=sim_hist_bins,\n",
    "                color=cwact,\n",
    "                density=True,\n",
    "                histtype='step', # step, stepfilled\n",
    "                linewidth=1.0,\n",
    "                label='Inference\\n(Simulations)')\n",
    "plt.legend()\n",
    "plt.xlim(None, 60)\n",
    "plt.savefig('paper_figures/waiting_times_act_sigma022_sims.pdf', bbox_inches='tight') # _long200 # pdf, png"
   ]
  },
  {
   "cell_type": "code",
   "execution_count": 8,
   "metadata": {},
   "outputs": [
    {
     "data": {
      "image/png": "[encoded data removed]",
      "text/plain": [
       "<Figure size 100.8x57.6 with 1 Axes>"
      ]
     },
     "metadata": {
      "needs_background": "light"
     },
     "output_type": "display_data"
    }
   ],
   "source": [
    "# real data\n",
    "events = data.event_all_first_cell_count_increase\n",
    "\n",
    "hist_bins = np.linspace(0, 54, num=28, endpoint=True)\n",
    "hist_tau = [tau - 1e-06 for (event_bool, tau) in events if event_bool]\n",
    "\n",
    "# simulation data\n",
    "sim_events = data_sim.event_all_first_cell_count_increase\n",
    "\n",
    "sim_hist_bins = np.linspace(0, 54, num=28, endpoint=True)\n",
    "sim_hist_tau = [tau - 1e-06 for (event_bool, tau) in sim_events if event_bool]\n",
    "\n",
    "plt.figure(figsize=(1.4, 0.8))\n",
    "ax = plt.gca()\n",
    "ax.spines['top'].set_visible(False)\n",
    "ax.spines['right'].set_visible(False)\n",
    "ax.spines['bottom'].set_visible(True)\n",
    "ax.spines['left'].set_visible(True)\n",
    "plt.xlabel('Activation and division 1 times (hours)')\n",
    "plt.ylabel('Frequency')\n",
    "plt.hist(hist_tau,\n",
    "                bins=hist_bins,\n",
    "                color='darkorange',\n",
    "                density=True,\n",
    "                alpha=0.5,\n",
    "                histtype='stepfilled', # step, stepfilled\n",
    "                linewidth=1.0,\n",
    "                label='Data')\n",
    "\n",
    "plt.hist(sim_hist_tau,\n",
    "                bins=sim_hist_bins,\n",
    "                color='darkorange',\n",
    "                density=True,\n",
    "                histtype='step', # step, stepfilled\n",
    "                linewidth=1.0,\n",
    "                label='Inference\\n(Simulations)')\n",
    "plt.legend()\n",
    "plt.xlim(None, 60)\n",
    "plt.savefig('paper_figures/waiting_times_div1act_sigma022_sims.pdf', bbox_inches='tight') # _long200 # pdf, png"
   ]
  },
  {
   "cell_type": "code",
   "execution_count": 9,
   "metadata": {},
   "outputs": [
    {
     "data": {
      "image/png": "[encoded data removed]",
      "text/plain": [
       "<Figure size 100.8x57.6 with 1 Axes>"
      ]
     },
     "metadata": {
      "needs_background": "light"
     },
     "output_type": "display_data"
    }
   ],
   "source": [
    "# real data\n",
    "events = data.event_all_first_cell_count_increase_after_cell_type_conversion\n",
    "\n",
    "hist_bins = np.linspace(0, 54, num=28, endpoint=True)\n",
    "hist_tau = [tau - 1e-06 for (event_bool, tau) in events if event_bool]\n",
    "\n",
    "# simulation data\n",
    "sim_events = data_sim.event_all_first_cell_count_increase_after_cell_type_conversion\n",
    "\n",
    "sim_hist_bins = np.linspace(0, 54, num=28, endpoint=True)\n",
    "sim_hist_tau = [tau - 1e-06 for (event_bool, tau) in sim_events if event_bool]\n",
    "\n",
    "plt.figure(figsize=(1.4, 0.8))\n",
    "ax = plt.gca()\n",
    "ax.spines['top'].set_visible(False)\n",
    "ax.spines['right'].set_visible(False)\n",
    "ax.spines['bottom'].set_visible(True)\n",
    "ax.spines['left'].set_visible(True)\n",
    "plt.xlabel('Division 1 times (hours)')\n",
    "plt.ylabel('Frequency')\n",
    "plt.hist(hist_tau,\n",
    "                bins=hist_bins,\n",
    "                color=cwdiv,\n",
    "                density=True,\n",
    "                alpha=0.5,\n",
    "                histtype='stepfilled', # step, stepfilled\n",
    "                linewidth=1.0,\n",
    "                label='Data')\n",
    "\n",
    "plt.hist(sim_hist_tau,\n",
    "                bins=sim_hist_bins,\n",
    "                color=cwdiv,\n",
    "                density=True,\n",
    "                histtype='step', # step, stepfilled\n",
    "                linewidth=1.0,\n",
    "                label='Inference\\n(Simulations)')\n",
    "plt.legend()\n",
    "plt.xlim(None, 60)\n",
    "plt.savefig('paper_figures/waiting_times_div1_sigma022_sims.pdf', bbox_inches='tight') # _long200 # pdf, png"
   ]
  },
  {
   "cell_type": "code",
   "execution_count": 10,
   "metadata": {},
   "outputs": [
    {
     "data": {
      "image/png": "[encoded data removed]",
      "text/plain": [
       "<Figure size 100.8x57.6 with 1 Axes>"
      ]
     },
     "metadata": {
      "needs_background": "light"
     },
     "output_type": "display_data"
    }
   ],
   "source": [
    "# real data\n",
    "events = data.event_all_second_cell_count_increase_after_first_cell_count_increase_after_cell_type_conversion\n",
    "\n",
    "hist_bins = np.linspace(0, 54, num=28, endpoint=True)\n",
    "hist_tau = [tau - 1e-06 for (event_bool, tau) in events if event_bool]\n",
    "\n",
    "# simulation data\n",
    "sim_events = data_sim.event_all_second_cell_count_increase_after_first_cell_count_increase_after_cell_type_conversion\n",
    "\n",
    "sim_hist_bins = np.linspace(0, 54, num=28, endpoint=True)\n",
    "sim_hist_tau = [tau - 1e-06 for (event_bool, tau) in sim_events if event_bool]\n",
    "\n",
    "plt.figure(figsize=(1.4, 0.8))\n",
    "ax = plt.gca()\n",
    "ax.spines['top'].set_visible(False)\n",
    "ax.spines['right'].set_visible(False)\n",
    "ax.spines['bottom'].set_visible(True)\n",
    "ax.spines['left'].set_visible(True)\n",
    "plt.xlabel('Division 2 times (hours)')\n",
    "plt.ylabel('Frequency')\n",
    "plt.hist(hist_tau,\n",
    "                bins=hist_bins,\n",
    "                color=cwdiv,\n",
    "                density=True,\n",
    "                alpha=0.5,\n",
    "                histtype='stepfilled', # step, stepfilled\n",
    "                linewidth=1.0,\n",
    "                label='Data')\n",
    "\n",
    "plt.hist(sim_hist_tau,\n",
    "                bins=sim_hist_bins,\n",
    "                color=cwdiv,\n",
    "                density=True,\n",
    "                histtype='step', # step, stepfilled\n",
    "                linewidth=1.0,\n",
    "                label='Inference\\n(Simulations)')\n",
    "plt.legend()\n",
    "plt.xlim(None, 60)\n",
    "plt.savefig('paper_figures/waiting_times_div2_sigma022_sims.pdf', bbox_inches='tight') # _long200 # pdf, png"
   ]
  },
  {
   "cell_type": "code",
   "execution_count": 11,
   "metadata": {},
   "outputs": [
    {
     "data": {
      "image/png": "[encoded data removed]",
      "text/plain": [
       "<Figure size 100.8x57.6 with 1 Axes>"
      ]
     },
     "metadata": {
      "needs_background": "light"
     },
     "output_type": "display_data"
    }
   ],
   "source": [
    "# real data\n",
    "events = data.event_all_third_cell_count_increase_after_first_and_second_cell_count_increase_after_cell_type_conversion\n",
    "\n",
    "hist_bins = np.linspace(0, 54, num=28, endpoint=True)\n",
    "hist_tau = [tau - 1e-06 for (event_bool, tau) in events if event_bool]\n",
    "\n",
    "# simulation data\n",
    "sim_events = data_sim.event_all_third_cell_count_increase_after_first_and_second_cell_count_increase_after_cell_type_conversion\n",
    "\n",
    "sim_hist_bins = np.linspace(0, 54, num=28, endpoint=True)\n",
    "sim_hist_tau = [tau - 1e-06 for (event_bool, tau) in sim_events if event_bool]\n",
    "\n",
    "plt.figure(figsize=(1.4, 0.8))\n",
    "ax = plt.gca()\n",
    "ax.spines['top'].set_visible(False)\n",
    "ax.spines['right'].set_visible(False)\n",
    "ax.spines['bottom'].set_visible(True)\n",
    "ax.spines['left'].set_visible(True)\n",
    "plt.xlabel('Division 3 times (hours)')\n",
    "plt.ylabel('Frequency')\n",
    "plt.hist(hist_tau,\n",
    "                bins=hist_bins,\n",
    "                color=cwdiv,\n",
    "                density=True,\n",
    "                alpha=0.5,\n",
    "                histtype='stepfilled', # step, stepfilled\n",
    "                linewidth=1.0,\n",
    "                label='Data')\n",
    "\n",
    "plt.hist(sim_hist_tau,\n",
    "                bins=sim_hist_bins,\n",
    "                color=cwdiv,\n",
    "                density=True,\n",
    "                histtype='step', # step, stepfilled\n",
    "                linewidth=1.0,\n",
    "                label='Inference\\n(Simulations)')\n",
    "plt.legend()\n",
    "plt.xlim(None, 60)\n",
    "plt.savefig('paper_figures/waiting_times_div3_sigma022_sims.pdf', bbox_inches='tight') # _long200 # pdf, png"
   ]
  },
  {
   "cell_type": "markdown",
   "metadata": {},
   "source": [
    "##### scheme for event types"
   ]
  },
  {
   "cell_type": "code",
   "execution_count": 52,
   "metadata": {},
   "outputs": [
    {
     "name": "stdout",
     "output_type": "stream",
     "text": [
      "18.0 32.0 14.0 12.0 4.0\n"
     ]
    },
    {
     "data": {
      "image/png": "[encoded data removed]",
      "text/plain": [
       "<Figure size 86.4x57.6 with 1 Axes>"
      ]
     },
     "metadata": {
      "needs_background": "light"
     },
     "output_type": "display_data"
    }
   ],
   "source": [
    "well_ind = 17\n",
    "e_act = data.event_all_first_cell_type_conversion[well_ind][1]\n",
    "e_actdiv = data.event_all_first_cell_count_increase[well_ind][1]\n",
    "e_div1 = data.event_all_first_cell_count_increase_after_cell_type_conversion[well_ind][1]\n",
    "e_div2 = data.event_all_second_cell_count_increase_after_first_cell_count_increase_after_cell_type_conversion[well_ind][1]\n",
    "e_div3 = data.event_all_third_cell_count_increase_after_first_and_second_cell_count_increase_after_cell_type_conversion[well_ind][1]\n",
    "print(e_act, e_actdiv, e_div1, e_div2, e_div3)\n",
    "\n",
    "plt.figure(figsize=(1.2, 0.8))\n",
    "ax = plt.gca()\n",
    "ax.spines['top'].set_visible(False)\n",
    "ax.spines['right'].set_visible(False)\n",
    "ax.spines['bottom'].set_visible(True)\n",
    "ax.spines['left'].set_visible(True)\n",
    "plt.xlabel('Time (hours)')\n",
    "plt.ylabel('Number of cells')\n",
    "\n",
    "plt.plot(data.data_time_values, data.data_counts[well_ind, 0, :], label='CD44+', lw=1, c=cactiv)\n",
    "plt.plot(data.data_time_values, data.data_counts[well_ind, 1, :], label='CD44-', lw=1, c=cnaive)\n",
    "\n",
    "ax.hlines(y=0.5, xmin=0, xmax=e_act, linewidth=2, color=cwact, zorder=100)\n",
    "ax.hlines(y=1.35, xmin=0, xmax=e_actdiv, linewidth=2, color='darkorange', zorder=100)\n",
    "ax.hlines(y=1.65, xmin=e_act, xmax=e_act+e_div1, linewidth=2, color=cwdiv, zorder=100)\n",
    "ax.hlines(y=2.5, xmin=e_act+e_div1, xmax=e_act+e_div1+e_div2, linewidth=2, color=cwdiv, zorder=100)\n",
    "ax.hlines(y=3.5, xmin=e_act+e_div1+e_div2, xmax=e_act+e_div1+e_div2+e_div3, linewidth=2, color=cwdiv, zorder=100)\n",
    "\n",
    "# plt.xlim(None, 60)\n",
    "plt.legend()\n",
    "plt.savefig(f'paper_figures/data_well_{well_ind+1}_index{well_ind}.pdf', bbox_inches='tight')"
   ]
  },
  {
   "cell_type": "code",
   "execution_count": null,
   "metadata": {},
   "outputs": [],
   "source": []
  }
 ],
 "metadata": {
  "kernelspec": {
   "display_name": "Python 3",
   "language": "python",
   "name": "python3"
  },
  "language_info": {
   "codemirror_mode": {
    "name": "ipython",
    "version": 3
   },
   "file_extension": ".py",
   "mimetype": "text/x-python",
   "name": "python",
   "nbconvert_exporter": "python",
   "pygments_lexer": "ipython3",
   "version": "3.7.4"
  }
 },
 "nbformat": 4,
 "nbformat_minor": 4
}
