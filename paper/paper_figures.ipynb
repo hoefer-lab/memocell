{
 "cells": [
  {
   "cell_type": "markdown",
   "metadata": {},
   "source": [
    "#### Paper figures <a id='top'></a>\n",
    "\n",
    "- [Figure 1](#figure1)\n",
    "- [Figure 2](#figure2)\n",
    "- [Figure 3](#figure3)\n",
    "- [Figure 4](#figure4)\n",
    "- [Figure 5](#figure5)"
   ]
  },
  {
   "cell_type": "code",
   "execution_count": 1,
   "metadata": {},
   "outputs": [
    {
     "name": "stderr",
     "output_type": "stream",
     "text": [
      "/Users/mlanghinrichs/Documents/Studium/MSc/09_hiwi_hoefer/01_project/memo_py/memo_py/selection.py:18: TqdmExperimentalWarning: Using `tqdm.autonotebook.tqdm` in notebook mode. Use `tqdm.tqdm` instead to force console mode (e.g. in jupyter console)\n",
      "  from tqdm.autonotebook import tqdm\n"
     ]
    }
   ],
   "source": [
    "import memo_py as me\n",
    "import numpy as np\n",
    "import matplotlib.pyplot as plt\n",
    "import pandas as pd\n",
    "import seaborn as sns\n",
    "import pickle\n",
    "import scipy.stats as stats\n",
    "from scipy import integrate\n",
    "import pymc3\n",
    "%matplotlib inline"
   ]
  },
  {
   "cell_type": "markdown",
   "metadata": {},
   "source": [
    "##### Color palette"
   ]
  },
  {
   "cell_type": "markdown",
   "metadata": {},
   "source": [
    "<img src=\"color_pal.png\" width=\"500\">"
   ]
  },
  {
   "cell_type": "code",
   "execution_count": 2,
   "metadata": {
    "jupyter": {
     "source_hidden": true
    }
   },
   "outputs": [
    {
     "data": {
      "image/png": "[encoded data removed]",
      "text/plain": [
       "<Figure size 504x72 with 1 Axes>"
      ]
     },
     "metadata": {
      "needs_background": "light"
     },
     "output_type": "display_data"
    },
    {
     "data": {
      "image/png": "[encoded data removed]",
      "text/plain": [
       "<Figure size 216x72 with 1 Axes>"
      ]
     },
     "metadata": {
      "needs_background": "light"
     },
     "output_type": "display_data"
    },
    {
     "data": {
      "image/png": "[encoded data removed]",
      "text/plain": [
       "<Figure size 216x72 with 1 Axes>"
      ]
     },
     "metadata": {
      "needs_background": "light"
     },
     "output_type": "display_data"
    },
    {
     "data": {
      "image/png": "[encoded data removed]",
      "text/plain": [
       "<Figure size 216x72 with 1 Axes>"
      ]
     },
     "metadata": {
      "needs_background": "light"
     },
     "output_type": "display_data"
    },
    {
     "data": {
      "image/png": "[encoded data removed]",
      "text/plain": [
       "<Figure size 216x72 with 1 Axes>"
      ]
     },
     "metadata": {
      "needs_background": "light"
     },
     "output_type": "display_data"
    },
    {
     "data": {
      "image/png": "[encoded data removed]",
      "text/plain": [
       "<Figure size 216x72 with 1 Axes>"
      ]
     },
     "metadata": {
      "needs_background": "light"
     },
     "output_type": "display_data"
    },
    {
     "data": {
      "image/png": "[encoded data removed]",
      "text/plain": [
       "<Figure size 216x72 with 1 Axes>"
      ]
     },
     "metadata": {
      "needs_background": "light"
     },
     "output_type": "display_data"
    },
    {
     "data": {
      "image/png": "[encoded data removed]",
      "text/plain": [
       "<Figure size 216x72 with 1 Axes>"
      ]
     },
     "metadata": {
      "needs_background": "light"
     },
     "output_type": "display_data"
    },
    {
     "data": {
      "image/png": "[encoded data removed]",
      "text/plain": [
       "<Figure size 216x72 with 1 Axes>"
      ]
     },
     "metadata": {
      "needs_background": "light"
     },
     "output_type": "display_data"
    }
   ],
   "source": [
    "# https://www.molecularecologist.com/2020/04/simple-tools-for-mastering-color-in-scientific-figures/\n",
    "geodataviz = sns.color_palette([\"#FF1F5B\", \"#00CD6C\", \"#009ADE\", \"#AF58BA\", \"#FFC61E\", \"#F28522\", \"#A0B1BA\"])\n",
    "sns.palplot(geodataviz)\n",
    "\n",
    "# sns.palplot(sns.color_palette(\"Set2\"))\n",
    "# sns.palplot(sns.color_palette(\"viridis\"))\n",
    "\n",
    "# define colors\n",
    "grey = geodataviz[-1]; sns.palplot(grey)\n",
    "cnaive = geodataviz[2]; sns.palplot(cnaive)\n",
    "cactiv = geodataviz[1]; sns.palplot(cactiv)\n",
    "cwact = geodataviz[0]; sns.palplot(cwact) # 2, 3\n",
    "cwdiv = geodataviz[4]; sns.palplot(cwdiv)\n",
    "ctopx = geodataviz[4]; sns.palplot(ctopx)\n",
    "ctopy = geodataviz[0]; sns.palplot(ctopy)\n",
    "ctopz = geodataviz[2]; sns.palplot(ctopz)"
   ]
  },
  {
   "cell_type": "markdown",
   "metadata": {},
   "source": [
    "##### Figure settings"
   ]
  },
  {
   "cell_type": "code",
   "execution_count": 3,
   "metadata": {
    "jupyter": {
     "source_hidden": true
    }
   },
   "outputs": [],
   "source": [
    "# plt.rcParams.update({'figure.autolayout': True})\n",
    "# plt.rcParams.update({'figure.figsize': (1.5, 1)}) # can be adapted for each plot\n",
    "# plt.rcParams.update({'figure.figsize': (8, 5)})\n",
    "plt.rcParams.update({'font.size': 6})\n",
    "plt.rcParams['font.family'] = 'Helvetica Neue'\n",
    "# plt.rcParams['font.weight'] = 'medium'\n",
    "\n",
    "# temp disabled\n",
    "plt.rcParams['mathtext.fontset'] = 'custom'\n",
    "plt.rcParams['mathtext.rm'] = 'Helvetica Neue'\n",
    "plt.rcParams['mathtext.it'] = 'Helvetica Neue:italic'\n",
    "\n",
    "plt.rcParams['axes.linewidth'] = 0.3\n",
    "plt.rcParams['xtick.major.width'] = 0.4\n",
    "plt.rcParams['xtick.minor.width'] = 0.3\n",
    "plt.rcParams['ytick.major.width'] = 0.4\n",
    "plt.rcParams['ytick.minor.width'] = 0.3\n",
    "\n",
    "plt.rcParams.update( {# 'legend.fontsize': 20,\n",
    "          'legend.handlelength': 1.0/2.0})"
   ]
  },
  {
   "cell_type": "markdown",
   "metadata": {},
   "source": [
    "##### Waiting time functions"
   ]
  },
  {
   "cell_type": "code",
   "execution_count": 4,
   "metadata": {
    "jupyter": {
     "source_hidden": true
    }
   },
   "outputs": [],
   "source": [
    "def waiting_time_distr_samples_act(x, res, samples, time_max, mprior):\n",
    "    model_probs = me.selection.compute_model_probabilities(res, mprior=mprior)\n",
    "    \n",
    "    # for checking set a counter\n",
    "    model_type_counts = np.zeros((4,))\n",
    "    \n",
    "    # set general x values\n",
    "    y = np.zeros((x.shape[0], samples))\n",
    "\n",
    "    for i in range(samples):\n",
    "        # get random model according to p(M|D)\n",
    "        model_rand = np.random.choice(range(len(model_probs)), p=model_probs, replace=True)\n",
    "        est = res[model_rand]\n",
    "        \n",
    "        # decide whether phase type or markov/erlang model\n",
    "        # par3 model\n",
    "        if 'alphaT' in est.net.net_name:\n",
    "            model_type_counts[3] += 1\n",
    "#             print('par3')\n",
    "            # get random theta according to p(theta|M, D)\n",
    "            inds = np.array(range(0, est.bay_est_samples_weighted.shape[0]))\n",
    "            theta_ind = np.random.choice(inds, replace=True)\n",
    "            theta = est.bay_est_samples_weighted[theta_ind, :]\n",
    "\n",
    "            # read out steps for the first half of the channels (by construction)\n",
    "            alpha_F_steps = est.net.net_modules[0]['module_steps']\n",
    "            alpha_S_steps = est.net.net_modules[2]['module_steps']\n",
    "            alpha_T_steps = est.net.net_modules[4]['module_steps']\n",
    "\n",
    "            # read out rates for the first half of the channels (by construction)\n",
    "            alpha_F_rate = theta[0]\n",
    "            alpha_S_rate = theta[1]\n",
    "            alpha_T_rate = theta[2]\n",
    "\n",
    "            # calculate channel probabilities\n",
    "            alpha_total_paths = alpha_F_steps * alpha_F_rate + alpha_S_steps * alpha_S_rate + alpha_T_steps * alpha_T_rate\n",
    "            alpha_F_path = (alpha_F_steps * alpha_F_rate)/alpha_total_paths\n",
    "            alpha_S_path = (alpha_S_steps * alpha_S_rate)/alpha_total_paths\n",
    "            alpha_T_path = (alpha_T_steps * alpha_T_rate)/alpha_total_paths\n",
    "\n",
    "            # calculate different gamma pdfs\n",
    "            alpha_F_shape = alpha_F_steps * 2\n",
    "            alpha_F_scale = 1.0/(0.5*alpha_F_rate*alpha_F_shape)\n",
    "\n",
    "            alpha_S_shape = alpha_S_steps * 2\n",
    "            alpha_S_scale = 1.0/(0.5*alpha_S_rate*alpha_S_shape)\n",
    "\n",
    "            alpha_T_shape = alpha_T_steps * 2\n",
    "            alpha_T_scale = 1.0/(0.5*alpha_T_rate*alpha_T_shape)\n",
    "\n",
    "            alpha_F_gamma = stats.gamma.pdf(x, a=alpha_F_shape, scale=alpha_F_scale)\n",
    "            alpha_S_gamma = stats.gamma.pdf(x, a=alpha_S_shape, scale=alpha_S_scale)\n",
    "            alpha_T_gamma = stats.gamma.pdf(x, a=alpha_T_shape, scale=alpha_T_scale)\n",
    "\n",
    "            # compose total gamma over channels\n",
    "            gamma = alpha_F_path * alpha_F_gamma + alpha_S_path * alpha_S_gamma + alpha_T_path * alpha_T_gamma\n",
    "        # par2 model\n",
    "        elif 'alphaF' in est.net.net_name:\n",
    "            model_type_counts[2] += 1\n",
    "#             print('par2')\n",
    "            # get random theta according to p(theta|M, D)\n",
    "            inds = np.array(range(0, est.bay_est_samples_weighted.shape[0]))\n",
    "            theta_ind = np.random.choice(inds, replace=True)\n",
    "            theta = est.bay_est_samples_weighted[theta_ind, :]\n",
    "\n",
    "            # read out steps for the first half of the channels (by construction)\n",
    "            alpha_F_steps = est.net.net_modules[0]['module_steps']\n",
    "            alpha_S_steps = est.net.net_modules[2]['module_steps']\n",
    "\n",
    "            # read out rates for the first half of the channels (by construction)\n",
    "            alpha_F_rate = theta[0]\n",
    "            alpha_S_rate = theta[1]\n",
    "\n",
    "            # calculate channel probabilities\n",
    "            alpha_total_paths = alpha_F_steps * alpha_F_rate + alpha_S_steps * alpha_S_rate\n",
    "            alpha_F_path = (alpha_F_steps * alpha_F_rate)/alpha_total_paths\n",
    "            alpha_S_path = (alpha_S_steps * alpha_S_rate)/alpha_total_paths\n",
    "\n",
    "            # calculate different gamma pdfs\n",
    "            alpha_F_shape = alpha_F_steps * 2\n",
    "            alpha_F_scale = 1.0/(0.5*alpha_F_rate*alpha_F_shape)\n",
    "\n",
    "            alpha_S_shape = alpha_S_steps * 2\n",
    "            alpha_S_scale = 1.0/(0.5*alpha_S_rate*alpha_S_shape)\n",
    "\n",
    "            alpha_F_gamma = stats.gamma.pdf(x, a=alpha_F_shape, scale=alpha_F_scale)\n",
    "            alpha_S_gamma = stats.gamma.pdf(x, a=alpha_S_shape, scale=alpha_S_scale)\n",
    "\n",
    "            # compose total gamma over channels\n",
    "            gamma = alpha_F_path * alpha_F_gamma + alpha_S_path * alpha_S_gamma\n",
    "        \n",
    "        # par1+i model (identified by d_ni symbolic rate)\n",
    "        elif 'd_ni' in est.net.net_rates_identifier.values():\n",
    "            model_type_counts[1] += 1\n",
    "            # get random theta according to p(theta|M, D)\n",
    "            inds = np.array(range(0, est.bay_est_samples_weighted.shape[0]))\n",
    "            theta_ind = np.random.choice(inds, replace=True)\n",
    "            theta = est.bay_est_samples_weighted[theta_ind, :]\n",
    "\n",
    "            # read out steps\n",
    "            d_na_steps = est.net.net_modules[0]['module_steps']\n",
    "\n",
    "            # read out rate\n",
    "            d_na_rate = theta[0]\n",
    "\n",
    "            # calculate gamma pdf\n",
    "            shape = d_na_steps\n",
    "            scale = 1.0/(d_na_rate*d_na_steps)\n",
    "\n",
    "            gamma = stats.gamma.pdf(x, a=shape, scale=scale)\n",
    "        \n",
    "        # markov/erlang model\n",
    "        else:\n",
    "            model_type_counts[0] += 1\n",
    "#             print('markov/erlang')\n",
    "            # get random theta according to p(theta|M, D)\n",
    "            inds = np.array(range(0, est.bay_est_samples_weighted.shape[0]))\n",
    "            theta_ind = np.random.choice(inds, replace=True)\n",
    "            theta = est.bay_est_samples_weighted[theta_ind, :]\n",
    "\n",
    "            # compute Gamma parameters\n",
    "            ### activation reaction ###\n",
    "            theta_shape = est.net.net_modules[0]['module_steps']\n",
    "            theta_scale = 1.0/(theta[0]*theta_shape)\n",
    "            \n",
    "            gamma = stats.gamma.pdf(x, a=theta_shape, scale=theta_scale)\n",
    "        y[:, i] = gamma\n",
    "    print(model_type_counts)\n",
    "    return y\n",
    "\n",
    "def waiting_time_distr_samples_div(x, res, samples, time_max, mprior):\n",
    "    model_probs = me.selection.compute_model_probabilities(res, mprior=mprior)\n",
    "    \n",
    "    # set general x values\n",
    "    y = np.zeros((x.shape[0], samples))\n",
    "    \n",
    "    # for checking set a counter\n",
    "    model_type_counts = np.zeros((4,))\n",
    "\n",
    "    for i in range(samples):\n",
    "        # get random model according to p(M|D)\n",
    "        model_rand = np.random.choice(range(len(model_probs)), p=model_probs, replace=True)\n",
    "        est = res[model_rand]\n",
    "        \n",
    "        # decide whether phase type or markov/erlang model\n",
    "        # par 3 model\n",
    "        if 'alphaT' in est.net.net_name:\n",
    "            model_type_counts[3] += 1\n",
    "            # get random theta according to p(theta|M, D)\n",
    "            inds = np.array(range(0, est.bay_est_samples_weighted.shape[0]))\n",
    "            theta_ind = np.random.choice(inds, replace=True)\n",
    "            theta = est.bay_est_samples_weighted[theta_ind, :]\n",
    "\n",
    "            # compute Gamma parameters\n",
    "            ### division reaction ###\n",
    "            theta_shape = est.net.net_modules[6]['module_steps']\n",
    "            theta_scale = 1.0/(theta[3]*theta_shape)\n",
    "\n",
    "            gamma = stats.gamma.pdf(x, a=theta_shape, scale=theta_scale)\n",
    "        \n",
    "        # par 2 model\n",
    "        elif 'alphaF' in est.net.net_name:\n",
    "            model_type_counts[2] += 1\n",
    "            # get random theta according to p(theta|M, D)\n",
    "            inds = np.array(range(0, est.bay_est_samples_weighted.shape[0]))\n",
    "            theta_ind = np.random.choice(inds, replace=True)\n",
    "            theta = est.bay_est_samples_weighted[theta_ind, :]\n",
    "\n",
    "            # compute Gamma parameters\n",
    "            ### division reaction ###\n",
    "            theta_shape = est.net.net_modules[4]['module_steps']\n",
    "            theta_scale = 1.0/(theta[2]*theta_shape)\n",
    "\n",
    "            gamma = stats.gamma.pdf(x, a=theta_shape, scale=theta_scale)\n",
    "        \n",
    "        # par1+i model (identified by d_ni symbolic rate)\n",
    "        elif 'd_ni' in est.net.net_rates_identifier.values():\n",
    "            model_type_counts[1] += 1\n",
    "            # get random theta according to p(theta|M, D)\n",
    "            inds = np.array(range(0, est.bay_est_samples_weighted.shape[0]))\n",
    "            theta_ind = np.random.choice(inds, replace=True)\n",
    "            theta = est.bay_est_samples_weighted[theta_ind, :]\n",
    "\n",
    "            # compute Gamma parameters\n",
    "            ### division reaction ###\n",
    "            theta_shape = est.net.net_modules[2]['module_steps']\n",
    "            theta_scale = 1.0/(theta[2]*theta_shape)\n",
    "\n",
    "            gamma = stats.gamma.pdf(x, a=theta_shape, scale=theta_scale)\n",
    "            \n",
    "        # markov/erlang model\n",
    "        else:\n",
    "            model_type_counts[0] += 1\n",
    "            # get random theta according to p(theta|M, D)\n",
    "            inds = np.array(range(0, est.bay_est_samples_weighted.shape[0]))\n",
    "            theta_ind = np.random.choice(inds, replace=True)\n",
    "            theta = est.bay_est_samples_weighted[theta_ind, :]\n",
    "\n",
    "            # compute Gamma parameters\n",
    "            ### division reaction ###\n",
    "            theta_shape = est.net.net_modules[1]['module_steps']\n",
    "            theta_scale = 1.0/(theta[1]*theta_shape)\n",
    "            \n",
    "            gamma = stats.gamma.pdf(x, a=theta_shape, scale=theta_scale)\n",
    "        y[:, i] = gamma\n",
    "        \n",
    "    print(model_type_counts)\n",
    "    return y"
   ]
  },
  {
   "cell_type": "markdown",
   "metadata": {},
   "source": [
    "##### Cell hist and event functions"
   ]
  },
  {
   "cell_type": "code",
   "execution_count": 76,
   "metadata": {},
   "outputs": [],
   "source": [
    "def hist_cell_counts_samples(res, celltypeind, time_point, sample_n, count_max, sim_n, mprior):\n",
    "    model_probs = me.selection.compute_model_probabilities(res, mprior=mprior)\n",
    "    \n",
    "    # set general x values\n",
    "    y = np.zeros((count_max, sample_n))\n",
    "    \n",
    "    # for checking set a counter\n",
    "    model_type_counts = np.zeros((4,))\n",
    "\n",
    "    for i in range(sample_n):\n",
    "        print(i)\n",
    "        # get random model according to p(M|D)\n",
    "        model_rand = np.random.choice(range(len(model_probs)), p=model_probs, replace=True)\n",
    "        est = res[model_rand]\n",
    "        \n",
    "        # decide whether phase type or markov/erlang model\n",
    "        # par 3 model\n",
    "        if 'alphaT' in est.net.net_name:\n",
    "            model_type_counts[3] += 1\n",
    "            # get random theta for model\n",
    "            inds = np.array(range(0, est.bay_est_samples_weighted.shape[0]))\n",
    "            theta_ind = np.random.choice(inds, replace=True)\n",
    "            theta = est.bay_est_samples_weighted[theta_ind, :]\n",
    "            a1, a2, a3, l = theta\n",
    "            theta_values = {'alpha_F': a1, 'alpha_S': a2, \n",
    "                                'alpha_T': a3, 'lambda': l}\n",
    "\n",
    "            # sim settings for par3 model\n",
    "            time_values = est.data.data_time_values\n",
    "            initial_values = {'N_t': 1, 'A_t': 0, 'P1_t': 0, 'P2_t': 0, 'P3_t': 0}\n",
    "            variables = {'M_t': ('N_t', 'P1_t', 'P2_t', 'P3_t'), 'A_t': ('A_t', )}\n",
    "            \n",
    "            # different memopy versions\n",
    "            # (sim = me.Simulation(est.net)) usually works\n",
    "            alpha_F_steps = est.net.net_modules[0]['module_steps']\n",
    "            alpha_S_steps = est.net.net_modules[2]['module_steps']\n",
    "            alpha_T_steps = est.net.net_modules[4]['module_steps']\n",
    "            lambda_steps = est.net.net_modules[6]['module_steps']\n",
    "            \n",
    "            t = [{'start': 'N_t', 'end': 'P1_t', 'rate_symbol': 'alpha_F', 'type': 'S -> E', 'reaction_steps': alpha_F_steps},\n",
    "                {'start': 'P1_t', 'end': 'A_t', 'rate_symbol': 'alpha_F', 'type': 'S -> E', 'reaction_steps': alpha_F_steps},\n",
    "\n",
    "                {'start': 'N_t', 'end': 'P2_t', 'rate_symbol': 'alpha_S', 'type': 'S -> E', 'reaction_steps': alpha_S_steps},\n",
    "                {'start': 'P2_t', 'end': 'A_t', 'rate_symbol': 'alpha_S', 'type': 'S -> E', 'reaction_steps': alpha_S_steps},\n",
    "\n",
    "                {'start': 'N_t', 'end': 'P3_t', 'rate_symbol': 'alpha_T', 'type': 'S -> E', 'reaction_steps': alpha_T_steps},\n",
    "                {'start': 'P3_t', 'end': 'A_t', 'rate_symbol': 'alpha_T', 'type': 'S -> E', 'reaction_steps': alpha_T_steps},\n",
    "\n",
    "                {'start': 'A_t', 'end': 'A_t', 'rate_symbol': 'lambda', 'type': 'S -> S + S', 'reaction_steps': lambda_steps}]\n",
    "            \n",
    "            net = me.Network(est.net.net_name)\n",
    "            net.structure(t)\n",
    "            \n",
    "            sim = me.Simulation(net)\n",
    "            res_list = list()\n",
    "\n",
    "            for __ in range(sim_n):\n",
    "                res_list.append(sim.simulate('gillespie', variables, initial_values, theta_values, time_values)[1])\n",
    "            in_silico_counts = np.array(res_list)\n",
    "\n",
    "            sample = np.zeros((count_max))\n",
    "            for j in range(y.shape[0]):\n",
    "                sample[j] = np.sum(in_silico_counts[:, celltypeind, time_point]==j)\n",
    "        \n",
    "        # par 2 model\n",
    "        elif 'alphaF' in est.net.net_name:\n",
    "            model_type_counts[2] += 1\n",
    "            \n",
    "            # get random theta for model\n",
    "            inds = np.array(range(0, est.bay_est_samples_weighted.shape[0]))\n",
    "            theta_ind = np.random.choice(inds, replace=True)\n",
    "            theta = est.bay_est_samples_weighted[theta_ind, :]\n",
    "            a1, a2, l = theta\n",
    "            theta_values = {'alpha_F': a1, 'alpha_S': a2, 'lambda': l}\n",
    "\n",
    "            # sim settings for par3 model\n",
    "            time_values = est.data.data_time_values\n",
    "            initial_values = {'N_t': 1, 'A_t': 0, 'P1_t': 0, 'P2_t': 0}\n",
    "            variables = {'M_t': ('N_t', 'P1_t', 'P2_t'), 'A_t': ('A_t', )}\n",
    "\n",
    "            # different memopy versions\n",
    "            # (sim = me.Simulation(est.net)) usually works\n",
    "            alpha_F_steps = est.net.net_modules[0]['module_steps']\n",
    "            alpha_S_steps = est.net.net_modules[2]['module_steps']\n",
    "            lambda_steps = est.net.net_modules[4]['module_steps']\n",
    "            \n",
    "            t = [{'start': 'N_t', 'end': 'P1_t', 'rate_symbol': 'alpha_F', 'type': 'S -> E', 'reaction_steps': alpha_F_steps},\n",
    "                {'start': 'P1_t', 'end': 'A_t', 'rate_symbol': 'alpha_F', 'type': 'S -> E', 'reaction_steps': alpha_F_steps},\n",
    "\n",
    "                {'start': 'N_t', 'end': 'P2_t', 'rate_symbol': 'alpha_S', 'type': 'S -> E', 'reaction_steps': alpha_S_steps},\n",
    "                {'start': 'P2_t', 'end': 'A_t', 'rate_symbol': 'alpha_S', 'type': 'S -> E', 'reaction_steps': alpha_S_steps},\n",
    "\n",
    "                {'start': 'A_t', 'end': 'A_t', 'rate_symbol': 'lambda', 'type': 'S -> S + S', 'reaction_steps': lambda_steps}]\n",
    "            \n",
    "            net = me.Network(est.net.net_name)\n",
    "            net.structure(t)\n",
    "            \n",
    "            sim = me.Simulation(net)\n",
    "            res_list = list()\n",
    "\n",
    "            for __ in range(sim_n):\n",
    "                res_list.append(sim.simulate('gillespie', variables, initial_values, theta_values, time_values)[1])\n",
    "            in_silico_counts = np.array(res_list)\n",
    "\n",
    "            sample = np.zeros((count_max))\n",
    "            for j in range(y.shape[0]):\n",
    "                sample[j] = np.sum(in_silico_counts[:, celltypeind, time_point]==j)\n",
    "        \n",
    "        # par1+i model (identified by d_ni symbolic rate)\n",
    "        elif 'd_ni' in est.net.net_rates_identifier.values():\n",
    "            model_type_counts[1] += 1\n",
    "        \n",
    "            # get random theta for model\n",
    "            inds = np.array(range(0, est.bay_est_samples_weighted.shape[0]))\n",
    "            theta_ind = np.random.choice(inds, replace=True)\n",
    "            theta = est.bay_est_samples_weighted[theta_ind, :]\n",
    "            dna, dni, l = theta\n",
    "            theta_values = {'d_na': dna, 'd_ni': dni, 'la_a': l}\n",
    "\n",
    "            # sim settings for par3 model\n",
    "            time_values = est.data.data_time_values\n",
    "            initial_values = {'N_t': 1, 'I_t': 0, 'A_t': 0}\n",
    "            variables = {'M_t': ('N_t', 'I_t'), 'A_t': ('A_t', )}\n",
    "\n",
    "            # different memopy versions\n",
    "            # (sim = me.Simulation(est.net)) usually works\n",
    "            dna_steps = est.net.net_modules[0]['module_steps']\n",
    "            dni_steps = est.net.net_modules[1]['module_steps']\n",
    "            l_steps = est.net.net_modules[2]['module_steps']\n",
    "            \n",
    "            t = [\n",
    "            {'start': 'N_t', 'end': 'A_t', 'rate_symbol': 'd_na', 'type': 'S -> E', 'reaction_steps': dna_steps},\n",
    "            {'start': 'N_t', 'end': 'I_t', 'rate_symbol': 'd_ni', 'type': 'S -> E', 'reaction_steps': dni_steps},\n",
    "            {'start': 'A_t', 'end': 'A_t', 'rate_symbol': 'la_a', 'type': 'S -> S + S', 'reaction_steps': l_steps}\n",
    "            ]\n",
    "\n",
    "            net = me.Network(est.net.net_name)\n",
    "            net.structure(t)\n",
    "            \n",
    "            sim = me.Simulation(net)\n",
    "            res_list = list()\n",
    "\n",
    "            for __ in range(sim_n):\n",
    "                res_list.append(sim.simulate('gillespie', variables, initial_values, theta_values, time_values)[1])\n",
    "            in_silico_counts = np.array(res_list)\n",
    "\n",
    "            sample = np.zeros((count_max))\n",
    "            for j in range(y.shape[0]):\n",
    "                sample[j] = np.sum(in_silico_counts[:, celltypeind, time_point]==j)\n",
    "                \n",
    "        # markov/erlang model\n",
    "        else:\n",
    "            model_type_counts[0] += 1\n",
    "            # get random theta for model\n",
    "            inds = np.array(range(0, est.bay_est_samples_weighted.shape[0]))\n",
    "            theta_ind = np.random.choice(inds, replace=True)\n",
    "            theta = est.bay_est_samples_weighted[theta_ind, :]\n",
    "            a1, l = theta\n",
    "            theta_values = {'d_ma': a1, 'la_a': l}\n",
    "\n",
    "            # sim settings for par3 model\n",
    "            time_values = est.data.data_time_values\n",
    "            initial_values = {'M_t': 1, 'A_t': 0}\n",
    "            variables = {'M_t': ('M_t', ), 'A_t': ('A_t', )}\n",
    "\n",
    "            # different memopy versions\n",
    "            # (sim = me.Simulation(est.net)) usually works\n",
    "            d_steps = est.net.net_modules[0]['module_steps']\n",
    "            l_steps = est.net.net_modules[1]['module_steps']\n",
    "            \n",
    "            t = [\n",
    "            {'start': 'M_t', 'end': 'A_t', 'rate_symbol': 'd_ma', 'type': 'S -> E', 'reaction_steps': d_steps},\n",
    "            {'start': 'A_t', 'end': 'A_t', 'rate_symbol': 'la_a', 'type': 'S -> S + S', 'reaction_steps': l_steps}\n",
    "            ]\n",
    "\n",
    "            net = me.Network(est.net.net_name)\n",
    "            net.structure(t)\n",
    "            \n",
    "            sim = me.Simulation(net)\n",
    "            res_list = list()\n",
    "\n",
    "            for __ in range(sim_n):\n",
    "                res_list.append(sim.simulate('gillespie', variables, initial_values, theta_values, time_values)[1])\n",
    "            in_silico_counts = np.array(res_list)\n",
    "\n",
    "            sample = np.zeros((count_max))\n",
    "            for j in range(y.shape[0]):\n",
    "                sample[j] = np.sum(in_silico_counts[:, celltypeind, time_point]==j)\n",
    "        \n",
    "        y[:, i] = sample\n",
    "    print(model_type_counts)\n",
    "    return y"
   ]
  },
  {
   "cell_type": "code",
   "execution_count": 78,
   "metadata": {},
   "outputs": [],
   "source": [
    "def event_percentage(events):\n",
    "    return 100.0*sum([1.0 if e[0] else 0.0 for e in events])/len(events)\n",
    "\n",
    "def event_model_samples(res, sample_n, sim_n, mprior):\n",
    "    model_probs = me.selection.compute_model_probabilities(res, mprior=mprior)\n",
    "    \n",
    "    e_act_model_samples = np.zeros(sample_n)\n",
    "    e_div1_model_samples = np.zeros(sample_n)\n",
    "    e_div2_model_samples = np.zeros(sample_n)\n",
    "    e_div3_model_samples = np.zeros(sample_n)\n",
    "    \n",
    "    time_values = res[0].data.data_time_values\n",
    "    data_variables = ['A_t', 'M_t']\n",
    "    \n",
    "    # for checking set a counter\n",
    "    model_type_counts = np.zeros((4,))\n",
    "\n",
    "    for i in range(sample_n):\n",
    "        print(i)\n",
    "        # get random model according to p(M|D)\n",
    "        model_rand = np.random.choice(range(len(model_probs)), p=model_probs, replace=True)\n",
    "        est = res[model_rand]\n",
    "        \n",
    "        # decide whether phase type or markov/erlang model\n",
    "        # par 3 model\n",
    "        if 'alphaT' in est.net.net_name:\n",
    "            model_type_counts[3] += 1\n",
    "            # get random theta for model\n",
    "            inds = np.array(range(0, est.bay_est_samples_weighted.shape[0]))\n",
    "            theta_ind = np.random.choice(inds, replace=True)\n",
    "            theta = est.bay_est_samples_weighted[theta_ind, :]\n",
    "            a1, a2, a3, l = theta\n",
    "            theta_values = {'alpha_F': a1, 'alpha_S': a2, \n",
    "                                'alpha_T': a3, 'lambda': l}\n",
    "\n",
    "            # sim settings for par3 model\n",
    "            time_values = est.data.data_time_values\n",
    "            initial_values = {'N_t': 1, 'A_t': 0, 'P1_t': 0, 'P2_t': 0, 'P3_t': 0}\n",
    "            variables = {'M_t': ('N_t', 'P1_t', 'P2_t', 'P3_t'), 'A_t': ('A_t', )}\n",
    "            \n",
    "            # different memopy versions\n",
    "            # (sim = me.Simulation(est.net)) usually works\n",
    "            alpha_F_steps = est.net.net_modules[0]['module_steps']\n",
    "            alpha_S_steps = est.net.net_modules[2]['module_steps']\n",
    "            alpha_T_steps = est.net.net_modules[4]['module_steps']\n",
    "            lambda_steps = est.net.net_modules[6]['module_steps']\n",
    "            \n",
    "            t = [{'start': 'N_t', 'end': 'P1_t', 'rate_symbol': 'alpha_F', 'type': 'S -> E', 'reaction_steps': alpha_F_steps},\n",
    "                {'start': 'P1_t', 'end': 'A_t', 'rate_symbol': 'alpha_F', 'type': 'S -> E', 'reaction_steps': alpha_F_steps},\n",
    "\n",
    "                {'start': 'N_t', 'end': 'P2_t', 'rate_symbol': 'alpha_S', 'type': 'S -> E', 'reaction_steps': alpha_S_steps},\n",
    "                {'start': 'P2_t', 'end': 'A_t', 'rate_symbol': 'alpha_S', 'type': 'S -> E', 'reaction_steps': alpha_S_steps},\n",
    "\n",
    "                {'start': 'N_t', 'end': 'P3_t', 'rate_symbol': 'alpha_T', 'type': 'S -> E', 'reaction_steps': alpha_T_steps},\n",
    "                {'start': 'P3_t', 'end': 'A_t', 'rate_symbol': 'alpha_T', 'type': 'S -> E', 'reaction_steps': alpha_T_steps},\n",
    "\n",
    "                {'start': 'A_t', 'end': 'A_t', 'rate_symbol': 'lambda', 'type': 'S -> S + S', 'reaction_steps': lambda_steps}]\n",
    "            \n",
    "            net = me.Network(est.net.net_name)\n",
    "            net.structure(t)\n",
    "            \n",
    "            sim = me.Simulation(net)\n",
    "            res_list = list()\n",
    "\n",
    "            for __ in range(sim_n):\n",
    "                res_list.append(sim.simulate('gillespie', variables, initial_values, theta_values, time_values)[1])\n",
    "            in_silico_counts = np.array(res_list)\n",
    "\n",
    "        # par 2 model\n",
    "        elif 'alphaF' in est.net.net_name:\n",
    "            model_type_counts[2] += 1\n",
    "            \n",
    "            # get random theta for model\n",
    "            inds = np.array(range(0, est.bay_est_samples_weighted.shape[0]))\n",
    "            theta_ind = np.random.choice(inds, replace=True)\n",
    "            theta = est.bay_est_samples_weighted[theta_ind, :]\n",
    "            a1, a2, l = theta\n",
    "            theta_values = {'alpha_F': a1, 'alpha_S': a2, 'lambda': l}\n",
    "\n",
    "            # sim settings for par3 model\n",
    "            time_values = est.data.data_time_values\n",
    "            initial_values = {'N_t': 1, 'A_t': 0, 'P1_t': 0, 'P2_t': 0}\n",
    "            variables = {'M_t': ('N_t', 'P1_t', 'P2_t'), 'A_t': ('A_t', )}\n",
    "\n",
    "            # different memopy versions\n",
    "            # (sim = me.Simulation(est.net)) usually works\n",
    "            alpha_F_steps = est.net.net_modules[0]['module_steps']\n",
    "            alpha_S_steps = est.net.net_modules[2]['module_steps']\n",
    "            lambda_steps = est.net.net_modules[4]['module_steps']\n",
    "            \n",
    "            t = [{'start': 'N_t', 'end': 'P1_t', 'rate_symbol': 'alpha_F', 'type': 'S -> E', 'reaction_steps': alpha_F_steps},\n",
    "                {'start': 'P1_t', 'end': 'A_t', 'rate_symbol': 'alpha_F', 'type': 'S -> E', 'reaction_steps': alpha_F_steps},\n",
    "\n",
    "                {'start': 'N_t', 'end': 'P2_t', 'rate_symbol': 'alpha_S', 'type': 'S -> E', 'reaction_steps': alpha_S_steps},\n",
    "                {'start': 'P2_t', 'end': 'A_t', 'rate_symbol': 'alpha_S', 'type': 'S -> E', 'reaction_steps': alpha_S_steps},\n",
    "\n",
    "                {'start': 'A_t', 'end': 'A_t', 'rate_symbol': 'lambda', 'type': 'S -> S + S', 'reaction_steps': lambda_steps}]\n",
    "            \n",
    "            net = me.Network(est.net.net_name)\n",
    "            net.structure(t)\n",
    "            \n",
    "            sim = me.Simulation(net)\n",
    "            res_list = list()\n",
    "\n",
    "            for __ in range(sim_n):\n",
    "                res_list.append(sim.simulate('gillespie', variables, initial_values, theta_values, time_values)[1])\n",
    "            in_silico_counts = np.array(res_list)\n",
    "\n",
    "        # par1+i model (identified by d_ni symbolic rate)\n",
    "        elif 'd_ni' in est.net.net_rates_identifier.values():\n",
    "            model_type_counts[1] += 1\n",
    "        \n",
    "            # get random theta for model\n",
    "            inds = np.array(range(0, est.bay_est_samples_weighted.shape[0]))\n",
    "            theta_ind = np.random.choice(inds, replace=True)\n",
    "            theta = est.bay_est_samples_weighted[theta_ind, :]\n",
    "            dna, dni, l = theta\n",
    "            theta_values = {'d_na': dna, 'd_ni': dni, 'la_a': l}\n",
    "\n",
    "            # sim settings for par3 model\n",
    "            time_values = est.data.data_time_values\n",
    "            initial_values = {'N_t': 1, 'I_t': 0, 'A_t': 0}\n",
    "            variables = {'M_t': ('N_t', 'I_t'), 'A_t': ('A_t', )}\n",
    "\n",
    "            # different memopy versions\n",
    "            # (sim = me.Simulation(est.net)) usually works\n",
    "            dna_steps = est.net.net_modules[0]['module_steps']\n",
    "            dni_steps = est.net.net_modules[1]['module_steps']\n",
    "            l_steps = est.net.net_modules[2]['module_steps']\n",
    "            \n",
    "            t = [\n",
    "            {'start': 'N_t', 'end': 'A_t', 'rate_symbol': 'd_na', 'type': 'S -> E', 'reaction_steps': dna_steps},\n",
    "            {'start': 'N_t', 'end': 'I_t', 'rate_symbol': 'd_ni', 'type': 'S -> E', 'reaction_steps': dni_steps},\n",
    "            {'start': 'A_t', 'end': 'A_t', 'rate_symbol': 'la_a', 'type': 'S -> S + S', 'reaction_steps': l_steps}\n",
    "            ]\n",
    "\n",
    "            net = me.Network(est.net.net_name)\n",
    "            net.structure(t)\n",
    "            \n",
    "            sim = me.Simulation(net)\n",
    "            res_list = list()\n",
    "\n",
    "            for __ in range(sim_n):\n",
    "                res_list.append(sim.simulate('gillespie', variables, initial_values, theta_values, time_values)[1])\n",
    "            in_silico_counts = np.array(res_list)\n",
    "   \n",
    "        # markov/erlang model\n",
    "        else:\n",
    "            model_type_counts[0] += 1\n",
    "            # get random theta for model\n",
    "            inds = np.array(range(0, est.bay_est_samples_weighted.shape[0]))\n",
    "            theta_ind = np.random.choice(inds, replace=True)\n",
    "            theta = est.bay_est_samples_weighted[theta_ind, :]\n",
    "            a1, l = theta\n",
    "            theta_values = {'d_ma': a1, 'la_a': l}\n",
    "\n",
    "            # sim settings for par3 model\n",
    "            time_values = est.data.data_time_values\n",
    "            initial_values = {'M_t': 1, 'A_t': 0}\n",
    "            variables = {'M_t': ('M_t', ), 'A_t': ('A_t', )}\n",
    "\n",
    "            # different memopy versions\n",
    "            # (sim = me.Simulation(est.net)) usually works\n",
    "            d_steps = est.net.net_modules[0]['module_steps']\n",
    "            l_steps = est.net.net_modules[1]['module_steps']\n",
    "            \n",
    "            t = [\n",
    "            {'start': 'M_t', 'end': 'A_t', 'rate_symbol': 'd_ma', 'type': 'S -> E', 'reaction_steps': d_steps},\n",
    "            {'start': 'A_t', 'end': 'A_t', 'rate_symbol': 'la_a', 'type': 'S -> S + S', 'reaction_steps': l_steps}\n",
    "            ]\n",
    "\n",
    "            net = me.Network(est.net.net_name)\n",
    "            net.structure(t)\n",
    "            \n",
    "            sim = me.Simulation(net)\n",
    "            res_list = list()\n",
    "\n",
    "            for __ in range(sim_n):\n",
    "                res_list.append(sim.simulate('gillespie', variables, initial_values, theta_values, time_values)[1])\n",
    "            in_silico_counts = np.array(res_list)\n",
    "\n",
    "        data_btstrp = me.Data('data_btstrp')\n",
    "        data_btstrp.load(data_variables, time_values, in_silico_counts, bootstrap_samples=2)\n",
    "        data_btstrp.events_find_all()\n",
    "\n",
    "        e_act_model_samples[i] = event_percentage(data_btstrp.event_all_first_cell_type_conversion)\n",
    "        e_div1_model_samples[i] = event_percentage(data_btstrp.event_all_first_cell_count_increase_after_cell_type_conversion)\n",
    "        e_div2_model_samples[i] = event_percentage(data_btstrp.event_all_second_cell_count_increase_after_first_cell_count_increase_after_cell_type_conversion)\n",
    "        e_div3_model_samples[i] = event_percentage(data_btstrp.event_all_third_cell_count_increase_after_first_and_second_cell_count_increase_after_cell_type_conversion)\n",
    "    \n",
    "    print(model_type_counts)\n",
    "    return (e_act_model_samples, e_div1_model_samples, \n",
    "            e_div2_model_samples, e_div3_model_samples)"
   ]
  },
  {
   "cell_type": "markdown",
   "metadata": {},
   "source": [
    "##### Figure 1 <a id='figure1'></a> [↑](#top)"
   ]
  },
  {
   "cell_type": "markdown",
   "metadata": {},
   "source": [
    "###### simple division model"
   ]
  },
  {
   "cell_type": "code",
   "execution_count": 62,
   "metadata": {},
   "outputs": [
    {
     "data": {
      "image/png": "[encoded data removed]",
      "text/plain": [
       "<IPython.core.display.Image object>"
      ]
     },
     "metadata": {},
     "output_type": "display_data"
    },
    {
     "data": {
      "image/png": "[encoded data removed]",
      "text/plain": [
       "<IPython.core.display.Image object>"
      ]
     },
     "metadata": {},
     "output_type": "display_data"
    }
   ],
   "source": [
    "t = [\n",
    "        {'start': 'X_t', 'end': 'X_t', 'rate_symbol': 'l', 'type': 'S -> S + S', 'reaction_steps': 1}\n",
    "        ]\n",
    "\n",
    "net = me.Network('net_div_exp')\n",
    "net.structure(t)\n",
    "\n",
    "node_settings = {\n",
    "    'X_t': {'label': 'X_t', 'color': \"#00CD6C\"}\n",
    "}\n",
    "\n",
    "edge_settings = {\n",
    "    'l': {'label': '<I>&lambda;</I>', 'color': None}\n",
    "}\n",
    "\n",
    "me.plots.net_main_plot(net, node_settings=node_settings, edge_settings=edge_settings)\n",
    "a = me.plots.net_hidden_plot(net, node_settings=node_settings, edge_settings=edge_settings)"
   ]
  },
  {
   "cell_type": "code",
   "execution_count": 274,
   "metadata": {},
   "outputs": [
    {
     "name": "stdout",
     "output_type": "stream",
     "text": [
      "[ 0.          0.78947368  1.57894737  2.36842105  3.15789474  3.94736842\n",
      "  4.73684211  5.52631579  6.31578947  7.10526316  7.89473684  8.68421053\n",
      "  9.47368421 10.26315789 11.05263158 11.84210526 12.63157895 13.42105263\n",
      " 14.21052632 15.        ]\n",
      "[ 0.          0.51724138  1.03448276  1.55172414  2.06896552  2.5862069\n",
      "  3.10344828  3.62068966  4.13793103  4.65517241  5.17241379  5.68965517\n",
      "  6.20689655  6.72413793  7.24137931  7.75862069  8.27586207  8.79310345\n",
      "  9.31034483  9.82758621 10.34482759 10.86206897 11.37931034 11.89655172\n",
      " 12.4137931  12.93103448 13.44827586 13.96551724 14.48275862 15.        ]\n"
     ]
    },
    {
     "data": {
      "image/png": "[encoded data removed]",
      "text/plain": [
       "<Figure size 57.6x36 with 1 Axes>"
      ]
     },
     "metadata": {
      "needs_background": "light"
     },
     "output_type": "display_data"
    },
    {
     "data": {
      "image/png": "[encoded data removed]",
      "text/plain": [
       "<Figure size 57.6x36 with 1 Axes>"
      ]
     },
     "metadata": {
      "needs_background": "light"
     },
     "output_type": "display_data"
    }
   ],
   "source": [
    "# broad and tight waiting time distributions\n",
    "# broad\n",
    "theta = 1.0/0.2\n",
    "steps = 2\n",
    "bins = np.linspace(0.0, 15.0, num=20)\n",
    "print(bins)\n",
    "\n",
    "x = np.linspace(0, 15, 1000)\n",
    "y = stats.gamma.pdf(x, a=steps, loc=0, scale=theta/steps) # 'a' is shape\n",
    "rvs = stats.gamma.rvs(a=steps, loc=0, scale=theta/steps, size=100) # size=10000\n",
    "\n",
    "fig, ax = plt.subplots(figsize=(0.8, 0.5))\n",
    "ax = plt.gca()\n",
    "ax.spines['top'].set_visible(False)\n",
    "ax.spines['right'].set_visible(False)\n",
    "ax.spines['bottom'].set_visible(True)\n",
    "ax.spines['left'].set_visible(True)\n",
    "\n",
    "ax.hist(rvs, bins=bins, density=True, color=grey, alpha=0.6)\n",
    "ax.plot(x, y, linewidth=1.0, color=grey, label='')\n",
    "plt.axvline(x=theta, linewidth=0.8, color='black')\n",
    "\n",
    "# optional: hide numbers on axis\n",
    "ax.set_yticklabels([])\n",
    "ax.set_xticklabels([])\n",
    "ax.tick_params(axis=u'both', which=u'both',length=0)\n",
    "\n",
    "# leg = plt.legend()\n",
    "# leg.get_frame().set_edgecolor('lightgrey')\n",
    "plt.ylim((-0.003, None))\n",
    "plt.xlabel('Division time')\n",
    "plt.ylabel('Probability') # plt.ylabel('Probability density function')\n",
    "plt.savefig(f'paper_figures/waiting_time_distr_scheme_broad_g2.pdf', bbox_inches='tight')\n",
    "\n",
    "# tight\n",
    "theta = 1.0/0.255\n",
    "steps = 15\n",
    "bins = np.linspace(0.0, 15.0, num=30)\n",
    "print(bins)\n",
    "\n",
    "x = np.linspace(0, 15, 1000)\n",
    "y = stats.gamma.pdf(x, a=steps, loc=0, scale=theta/steps) # 'a' is shape\n",
    "rvs = stats.gamma.rvs(a=steps, loc=0, scale=theta/steps, size=100) # size=10000\n",
    "\n",
    "fig, ax = plt.subplots(figsize=(0.8, 0.5))\n",
    "ax = plt.gca()\n",
    "ax.spines['top'].set_visible(False)\n",
    "ax.spines['right'].set_visible(False)\n",
    "ax.spines['bottom'].set_visible(True)\n",
    "ax.spines['left'].set_visible(True)\n",
    "\n",
    "ax.hist(rvs, bins=bins, density=True, color=grey, alpha=0.6)\n",
    "ax.plot(x, y, linewidth=1.0, color=grey, label='')\n",
    "plt.axvline(x=theta, linewidth=0.8, color='black')\n",
    "\n",
    "# optional: hide numbers on axis\n",
    "ax.set_yticklabels([])\n",
    "ax.set_xticklabels([])\n",
    "ax.tick_params(axis=u'both', which=u'both',length=0)\n",
    "\n",
    "# leg = plt.legend()\n",
    "# leg.get_frame().set_edgecolor('lightgrey')\n",
    "plt.ylim((-0.005, None))\n",
    "plt.xlabel('Division time')\n",
    "plt.ylabel('Probability') # plt.ylabel('Probability density function')\n",
    "plt.savefig(f'paper_figures/waiting_time_distr_scheme_broad_g15.pdf', bbox_inches='tight')"
   ]
  },
  {
   "cell_type": "code",
   "execution_count": 228,
   "metadata": {},
   "outputs": [],
   "source": [
    "# broad model simulations\n",
    "t = [\n",
    "        {'start': 'X_t', 'end': 'X_t', 'rate_symbol': 'l', 'type': 'S -> S + S', 'reaction_steps': 2}\n",
    "        ]\n",
    "\n",
    "net = me.Network('net_div_g2')\n",
    "net.structure(t)\n",
    "\n",
    "num_iter = 3\n",
    "initial_values = {'X_t': 1}\n",
    "theta_values = {'l': 0.2}\n",
    "time_values = np.linspace(0.0, 10.0, num=10000, endpoint=True)\n",
    "variables = {'X_t': ('X_t', )}\n",
    "\n",
    "sim = me.Simulation(net)\n",
    "res_list = list()\n",
    "\n",
    "for __ in range(num_iter):\n",
    "    res_list.append(sim.simulate('gillespie', initial_values, theta_values, time_values, variables)[1])\n",
    "\n",
    "sims = np.array(res_list)"
   ]
  },
  {
   "cell_type": "code",
   "execution_count": 229,
   "metadata": {},
   "outputs": [
    {
     "data": {
      "image/png": "[encoded data removed]",
      "text/plain": [
       "<Figure size 57.6x36 with 1 Axes>"
      ]
     },
     "metadata": {
      "needs_background": "light"
     },
     "output_type": "display_data"
    }
   ],
   "source": [
    "# settings = {\n",
    "#     'X_t': {'label': '$X_t$', 'color': cactiv}\n",
    "# }\n",
    "\n",
    "# plt.rcParams.update({'figure.figsize': (1.2, 0.8)})\n",
    "# me.plots.sim_counts_plot(sim, settings=settings)\n",
    "    \n",
    "plt.rcParams.update({'figure.figsize': (0.8, 0.5)})\n",
    "ax = plt.gca()\n",
    "ax.spines['top'].set_visible(False)\n",
    "ax.spines['right'].set_visible(False)\n",
    "ax.spines['bottom'].set_visible(True)\n",
    "ax.spines['left'].set_visible(True)\n",
    "\n",
    "plt.plot(time_values, sims[0, 0, :], color=cactiv, linewidth=1.0, zorder=1000, label='$X_t$', alpha=0.8) # color='darkgreen'\n",
    "for trace_i in range(sims.shape[0]-1):\n",
    "        plt.plot(time_values, sims[trace_i+1, 0, :], color=cactiv, linewidth=1.0, zorder=1000, alpha=0.8) # color='darkgreen'\n",
    "\n",
    "ax.set_yticklabels([])\n",
    "ax.set_xticklabels([])\n",
    "ax.tick_params(axis=u'both', which=u'both',length=0)\n",
    "\n",
    "# ax.set_ylim([-0.3, None])\n",
    "# leg = plt.legend()\n",
    "# plt.legend(frameon=False)\n",
    "# leg.get_frame().set_edgecolor('lightgrey')\n",
    "plt.xlabel('Time')\n",
    "plt.ylabel('Cell number')\n",
    "plt.legend()\n",
    "#plt.ylabel('#Cells')\n",
    "plt.savefig(f'paper_figures/sim_div_scheme_g2.pdf', bbox_inches='tight')"
   ]
  },
  {
   "cell_type": "code",
   "execution_count": 230,
   "metadata": {},
   "outputs": [
    {
     "data": {
      "image/png": "[encoded data removed]",
      "text/plain": [
       "<Figure size 57.6x36 with 1 Axes>"
      ]
     },
     "metadata": {
      "needs_background": "light"
     },
     "output_type": "display_data"
    },
    {
     "data": {
      "image/png": "[encoded data removed]",
      "text/plain": [
       "<Figure size 57.6x36 with 1 Axes>"
      ]
     },
     "metadata": {
      "needs_background": "light"
     },
     "output_type": "display_data"
    }
   ],
   "source": [
    "# mean and variance plots\n",
    "plt.rcParams.update({'figure.figsize': (0.8, 0.5)})\n",
    "ax = plt.gca()\n",
    "ax.spines['top'].set_visible(False)\n",
    "ax.spines['right'].set_visible(False)\n",
    "ax.spines['bottom'].set_visible(True)\n",
    "ax.spines['left'].set_visible(True)\n",
    "\n",
    "plt.plot(time_values, np.mean(sims[:, 0, :], axis=0),\n",
    "        color=cactiv, linewidth=1.0, zorder=1000, label='$X_t$')\n",
    "\n",
    "plt.xlabel('Time')\n",
    "plt.ylabel('Mean')\n",
    "plt.legend()\n",
    "plt.savefig(f'paper_figures/sim_div_scheme_sample_mean_g2.pdf', bbox_inches='tight')\n",
    "\n",
    "plt.figure()\n",
    "ax = plt.gca()\n",
    "ax.spines['top'].set_visible(False)\n",
    "ax.spines['right'].set_visible(False)\n",
    "ax.spines['bottom'].set_visible(True)\n",
    "ax.spines['left'].set_visible(True)\n",
    "\n",
    "plt.plot(time_values, np.var(sims[:, 0, :], axis=0, ddof=1),\n",
    "        color=cactiv, linewidth=1.0, zorder=1000, label='$X_t$')\n",
    "\n",
    "plt.xlabel('Time')\n",
    "plt.ylabel('Variance')\n",
    "plt.legend()\n",
    "plt.savefig(f'paper_figures/sim_div_scheme_sample_var_g2.pdf', bbox_inches='tight')"
   ]
  },
  {
   "cell_type": "code",
   "execution_count": 221,
   "metadata": {},
   "outputs": [
    {
     "data": {
      "image/png": "[encoded data removed]",
      "text/plain": [
       "<Figure size 57.6x36 with 1 Axes>"
      ]
     },
     "metadata": {
      "needs_background": "light"
     },
     "output_type": "display_data"
    },
    {
     "data": {
      "image/png": "[encoded data removed]",
      "text/plain": [
       "<Figure size 57.6x36 with 1 Axes>"
      ]
     },
     "metadata": {
      "needs_background": "light"
     },
     "output_type": "display_data"
    },
    {
     "data": {
      "text/plain": [
       "4.475012567019526"
      ]
     },
     "execution_count": 221,
     "metadata": {},
     "output_type": "execute_result"
    }
   ],
   "source": [
    "# moment solutions\n",
    "sim = me.Simulation(net)\n",
    "res = sim.simulate('moments', initial_values, theta_values, time_values, variables)\n",
    "\n",
    "settings = {\n",
    "    'X_t': {'label': 'E$(X_t)$', 'color': cactiv},\n",
    "}\n",
    "me.plots.sim_mean_plot(sim, settings=settings, save='paper_figures/sim_div_mom_scheme_g2_mean.pdf')\n",
    "\n",
    "settings = {\n",
    "    ('X_t', 'X_t'): {'label': 'Var$(X_t)$', 'color': cactiv},\n",
    "}\n",
    "me.plots.sim_variance_plot(sim, settings=settings, save='paper_figures/sim_div_mom_scheme_g2_var.pdf')\n",
    "\n",
    "# last mean time point\n",
    "sim.sim_moments_res[0][0, -1]"
   ]
  },
  {
   "cell_type": "code",
   "execution_count": 260,
   "metadata": {},
   "outputs": [],
   "source": [
    "# tight model simulations\n",
    "t = [\n",
    "        {'start': 'X_t', 'end': 'X_t', 'rate_symbol': 'l', 'type': 'S -> S + S', 'reaction_steps': 15}\n",
    "        ]\n",
    "\n",
    "net = me.Network('net_div_g15')\n",
    "net.structure(t)\n",
    "\n",
    "num_iter = 3\n",
    "initial_values = {'X_t': 1}\n",
    "theta_values = {'l': 0.255}\n",
    "time_values = np.linspace(0.0, 10.0, num=10000, endpoint=True)\n",
    "variables = {'X_t': ('X_t', )}\n",
    "\n",
    "sim = me.Simulation(net)\n",
    "res_list = list()\n",
    "\n",
    "for __ in range(num_iter):\n",
    "    res_list.append(sim.simulate('gillespie', initial_values, theta_values, time_values, variables)[1])\n",
    "\n",
    "sims = np.array(res_list)"
   ]
  },
  {
   "cell_type": "code",
   "execution_count": 261,
   "metadata": {},
   "outputs": [
    {
     "data": {
      "image/png": "[encoded data removed]",
      "text/plain": [
       "<Figure size 57.6x36 with 1 Axes>"
      ]
     },
     "metadata": {
      "needs_background": "light"
     },
     "output_type": "display_data"
    }
   ],
   "source": [
    "# settings = {\n",
    "#     'X_t': {'label': '$X_t$', 'color': cactiv}\n",
    "# }\n",
    "\n",
    "# plt.rcParams.update({'figure.figsize': (1.2, 0.8)})\n",
    "# me.plots.sim_counts_plot(sim, settings=settings)\n",
    "    \n",
    "plt.rcParams.update({'figure.figsize': (0.8, 0.5)})\n",
    "ax = plt.gca()\n",
    "ax.spines['top'].set_visible(False)\n",
    "ax.spines['right'].set_visible(False)\n",
    "ax.spines['bottom'].set_visible(True)\n",
    "ax.spines['left'].set_visible(True)\n",
    "\n",
    "plt.plot(time_values, sims[0, 0, :], color=cactiv, linewidth=1.0, zorder=1000, label='$X_t$', alpha=0.8) # color='darkgreen'\n",
    "for trace_i in range(sims.shape[0]-1):\n",
    "        plt.plot(time_values, sims[trace_i+1, 0, :], color=cactiv, linewidth=1.0, zorder=1000, alpha=0.8) # color='darkgreen'\n",
    "\n",
    "ax.set_yticklabels([])\n",
    "ax.set_xticklabels([])\n",
    "ax.tick_params(axis=u'both', which=u'both',length=0)\n",
    "\n",
    "# ax.set_ylim([-0.3, None])\n",
    "# leg = plt.legend()\n",
    "# plt.legend(frameon=False)\n",
    "# leg.get_frame().set_edgecolor('lightgrey')\n",
    "plt.xlabel('Time')\n",
    "plt.ylabel('Cell number')\n",
    "plt.legend()\n",
    "#plt.ylabel('#Cells')\n",
    "plt.savefig(f'paper_figures/sim_div_scheme_g15.pdf', bbox_inches='tight')"
   ]
  },
  {
   "cell_type": "code",
   "execution_count": 262,
   "metadata": {},
   "outputs": [
    {
     "data": {
      "image/png": "[encoded data removed]",
      "text/plain": [
       "<Figure size 57.6x36 with 1 Axes>"
      ]
     },
     "metadata": {
      "needs_background": "light"
     },
     "output_type": "display_data"
    },
    {
     "data": {
      "image/png": "[encoded data removed]",
      "text/plain": [
       "<Figure size 57.6x36 with 1 Axes>"
      ]
     },
     "metadata": {
      "needs_background": "light"
     },
     "output_type": "display_data"
    }
   ],
   "source": [
    "# mean and variance plots\n",
    "plt.rcParams.update({'figure.figsize': (0.8, 0.5)})\n",
    "ax = plt.gca()\n",
    "ax.spines['top'].set_visible(False)\n",
    "ax.spines['right'].set_visible(False)\n",
    "ax.spines['bottom'].set_visible(True)\n",
    "ax.spines['left'].set_visible(True)\n",
    "\n",
    "plt.plot(time_values, np.mean(sims[:, 0, :], axis=0),\n",
    "        color=cactiv, linewidth=1.0, zorder=1000, label='$X_t$')\n",
    "\n",
    "plt.xlabel('Time')\n",
    "plt.ylabel('Mean')\n",
    "plt.legend()\n",
    "plt.savefig(f'paper_figures/sim_div_scheme_sample_mean_g15.pdf', bbox_inches='tight')\n",
    "\n",
    "plt.figure()\n",
    "ax = plt.gca()\n",
    "ax.spines['top'].set_visible(False)\n",
    "ax.spines['right'].set_visible(False)\n",
    "ax.spines['bottom'].set_visible(True)\n",
    "ax.spines['left'].set_visible(True)\n",
    "\n",
    "plt.plot(time_values, np.var(sims[:, 0, :], axis=0, ddof=1),\n",
    "        color=cactiv, linewidth=1.0, zorder=1000, label='$X_t$')\n",
    "\n",
    "plt.xlabel('Time')\n",
    "plt.ylabel('Variance')\n",
    "plt.legend()\n",
    "plt.savefig(f'paper_figures/sim_div_scheme_sample_var_g15.pdf', bbox_inches='tight')"
   ]
  },
  {
   "cell_type": "code",
   "execution_count": 192,
   "metadata": {},
   "outputs": [
    {
     "data": {
      "image/png": "[encoded data removed]",
      "text/plain": [
       "<Figure size 57.6x36 with 1 Axes>"
      ]
     },
     "metadata": {
      "needs_background": "light"
     },
     "output_type": "display_data"
    },
    {
     "data": {
      "image/png": "[encoded data removed]",
      "text/plain": [
       "<Figure size 57.6x36 with 1 Axes>"
      ]
     },
     "metadata": {
      "needs_background": "light"
     },
     "output_type": "display_data"
    },
    {
     "data": {
      "text/plain": [
       "4.48138465306211"
      ]
     },
     "execution_count": 192,
     "metadata": {},
     "output_type": "execute_result"
    }
   ],
   "source": [
    "# moment solutions\n",
    "sim = me.Simulation(net)\n",
    "res = sim.simulate('moments', initial_values, theta_values, time_values, variables)\n",
    "\n",
    "settings = {\n",
    "    'X_t': {'label': 'E$(X_t)$', 'color': cactiv},\n",
    "}\n",
    "me.plots.sim_mean_plot(sim, settings=settings, save='paper_figures/sim_div_mom_scheme_g15_mean.pdf')\n",
    "\n",
    "settings = {\n",
    "    ('X_t', 'X_t'): {'label': 'Var$(X_t)$', 'color': cactiv},\n",
    "}\n",
    "me.plots.sim_variance_plot(sim, settings=settings, save='paper_figures/sim_div_mom_scheme_g15_var.pdf')\n",
    "\n",
    "# last mean time point\n",
    "sim.sim_moments_res[0][0, -1]"
   ]
  },
  {
   "cell_type": "markdown",
   "metadata": {},
   "source": [
    "###### waiting time distr schemes"
   ]
  },
  {
   "cell_type": "code",
   "execution_count": 315,
   "metadata": {},
   "outputs": [
    {
     "name": "stdout",
     "output_type": "stream",
     "text": [
      "[ 0.  2.  4.  6.  8. 10. 12. 14. 16. 18. 20. 22. 24. 26. 28. 30. 32. 34.\n",
      " 36. 38. 40. 42. 44. 46. 48. 50. 52. 54.]\n"
     ]
    },
    {
     "data": {
      "image/png": "[encoded data removed]",
      "text/plain": [
       "<Figure size 57.6x36 with 1 Axes>"
      ]
     },
     "metadata": {
      "needs_background": "light"
     },
     "output_type": "display_data"
    }
   ],
   "source": [
    "# exp\n",
    "theta = 20\n",
    "steps = 1\n",
    "bins = np.linspace(0.0, 54.0, num=28)\n",
    "print(bins)\n",
    "\n",
    "x = np.linspace(0, 54, 1000)\n",
    "y = stats.expon.pdf(x, scale=theta, loc=0) # 'a' is shape\n",
    "rvs = stats.expon.rvs(scale=theta, loc=0, size=100) # size=10000\n",
    "\n",
    "fig, ax = plt.subplots(figsize=(0.8, 0.5))\n",
    "ax = plt.gca()\n",
    "ax.spines['top'].set_visible(False)\n",
    "ax.spines['right'].set_visible(False)\n",
    "ax.spines['bottom'].set_visible(True)\n",
    "ax.spines['left'].set_visible(True)\n",
    "\n",
    "ax.hist(rvs, bins=bins, density=True, color=grey, alpha=0.6)\n",
    "ax.plot(x, y, linewidth=1.0, color=grey, label='')\n",
    "plt.axvline(x=theta, linewidth=0.8, color='black')\n",
    "\n",
    "# optional: hide numbers on axis\n",
    "ax.set_yticklabels([])\n",
    "ax.set_xticklabels([])\n",
    "ax.tick_params(axis=u'both', which=u'both',length=0)\n",
    "\n",
    "# leg = plt.legend()\n",
    "# leg.get_frame().set_edgecolor('lightgrey')\n",
    "plt.ylim((-0.003, None))\n",
    "plt.xlabel('Waiting time')\n",
    "plt.ylabel('Probability') # plt.ylabel('Probability density function')\n",
    "plt.savefig(f'paper_figures/waiting_time_distr_scheme_exp.pdf', bbox_inches='tight')"
   ]
  },
  {
   "cell_type": "code",
   "execution_count": 320,
   "metadata": {},
   "outputs": [
    {
     "name": "stdout",
     "output_type": "stream",
     "text": [
      "[ 0.  2.  4.  6.  8. 10. 12. 14. 16. 18. 20. 22. 24. 26. 28. 30. 32. 34.\n",
      " 36. 38. 40. 42. 44. 46. 48. 50. 52. 54.]\n"
     ]
    },
    {
     "data": {
      "image/png": "[encoded data removed]",
      "text/plain": [
       "<Figure size 57.6x36 with 1 Axes>"
      ]
     },
     "metadata": {
      "needs_background": "light"
     },
     "output_type": "display_data"
    }
   ],
   "source": [
    "# gamma\n",
    "theta = 20\n",
    "steps = 7\n",
    "bins = np.linspace(0.0, 54.0, num=28)\n",
    "print(bins)\n",
    "\n",
    "x = np.linspace(0, 54, 1000)\n",
    "y = stats.gamma.pdf(x, a=steps, loc=0, scale=theta/steps) # 'a' is shape\n",
    "rvs = stats.gamma.rvs(a=steps, loc=0, scale=theta/steps, size=100) # size=10000\n",
    "\n",
    "fig, ax = plt.subplots(figsize=(0.8, 0.5))\n",
    "ax = plt.gca()\n",
    "ax.spines['top'].set_visible(False)\n",
    "ax.spines['right'].set_visible(False)\n",
    "ax.spines['bottom'].set_visible(True)\n",
    "ax.spines['left'].set_visible(True)\n",
    "\n",
    "ax.hist(rvs, bins=bins, density=True, color=grey, alpha=0.6)\n",
    "ax.plot(x, y, linewidth=1.0, color=grey, label='')\n",
    "plt.axvline(x=theta, linewidth=0.8, color='black')\n",
    "\n",
    "# optional: hide numbers on axis\n",
    "ax.set_yticklabels([])\n",
    "ax.set_xticklabels([])\n",
    "ax.tick_params(axis=u'both', which=u'both',length=0)\n",
    "\n",
    "# leg = plt.legend()\n",
    "# leg.get_frame().set_edgecolor('lightgrey')\n",
    "plt.ylim((-0.003, None))\n",
    "plt.xlabel('Waiting time')\n",
    "plt.ylabel('Probability') # plt.ylabel('Probability density function')\n",
    "plt.savefig(f'paper_figures/waiting_time_distr_scheme_gamma.pdf', bbox_inches='tight')"
   ]
  },
  {
   "cell_type": "code",
   "execution_count": 323,
   "metadata": {},
   "outputs": [
    {
     "name": "stdout",
     "output_type": "stream",
     "text": [
      "[ 0.  2.  4.  6.  8. 10. 12. 14. 16. 18. 20. 22. 24. 26. 28. 30. 32. 34.\n",
      " 36. 38. 40. 42. 44. 46. 48. 50. 52. 54.]\n",
      "0.20102651839178787\n",
      "0.5988023952095808\n",
      "0.20017108639863132\n",
      "1.0\n",
      "9999\n"
     ]
    },
    {
     "data": {
      "image/png": "[encoded data removed]",
      "text/plain": [
       "<Figure size 57.6x36 with 1 Axes>"
      ]
     },
     "metadata": {
      "needs_background": "light"
     },
     "output_type": "display_data"
    }
   ],
   "source": [
    "# phase type (ph)\n",
    "theta1 = 1/(0.047 / 2) # 40\n",
    "theta2 = 20\n",
    "theta3 = 1/(0.026 / 2) # 76\n",
    "\n",
    "steps1 = 10\n",
    "steps2 = 14 \n",
    "steps3 = 18\n",
    "\n",
    "bins = np.linspace(0.0, 54.0, num=28)\n",
    "print(bins)\n",
    "w1 = steps1/theta1 / (steps1/theta1 + steps2/theta2 + steps3/theta3)\n",
    "w2 = steps2/theta2 / (steps1/theta1 + steps2/theta2 + steps3/theta3)\n",
    "w3 = steps3/theta3 / (steps1/theta1 + steps2/theta2 + steps3/theta3)\n",
    "print(w1)\n",
    "print(w2)\n",
    "print(w3)\n",
    "print(w1 + w2 + w3)\n",
    "\n",
    "x = np.linspace(0, 54, 1000)\n",
    "y1 = stats.gamma.pdf(x, a=steps1, loc=0, scale=theta1/steps1) # 'a' is shape\n",
    "y2 = stats.gamma.pdf(x, a=steps2, loc=0, scale=theta2/steps2) # 'a' is shape\n",
    "# y3 = stats.gamma.pdf(x, a=steps3, loc=0, scale=theta3/steps3) # 'a' is shape\n",
    "\n",
    "rvs1 = stats.gamma.rvs(a=steps1, loc=0, scale=theta1/steps1, size=int(100 * w1))\n",
    "rvs2 = stats.gamma.rvs(a=steps2, loc=0, scale=theta2/steps2, size=int(100 * w2))\n",
    "# rvs3 = stats.gamma.rvs(a=steps3, loc=0, scale=theta3/steps3, size=int(10000 * w3))\n",
    "print(int(10000 * w1) + int(10000 * w2) + int(10000 * w3))\n",
    "\n",
    "fig, ax = plt.subplots(figsize=(0.8, 0.5))\n",
    "ax = plt.gca()\n",
    "ax.spines['top'].set_visible(False)\n",
    "ax.spines['right'].set_visible(False)\n",
    "ax.spines['bottom'].set_visible(True)\n",
    "ax.spines['left'].set_visible(True)\n",
    "\n",
    "# the '0.5' in the weights come from the 2-hour interval in the bins\n",
    "# ax.hist(rvs1, bins=bins, weights=np.full(rvs1.shape, 0.5/10000), density=False, color='gold', alpha=0.6)\n",
    "# ax.hist(rvs2, bins=bins, weights=np.full(rvs2.shape, 0.5/10000), density=False, color='orange', alpha=0.6)\n",
    "# ax.hist(rvs3, bins=bins, weights=np.full(rvs3.shape, 0.5/10000), density=False, color='dodgerblue', alpha=0.8)\n",
    "\n",
    "# combined hist\n",
    "ax.hist(np.concatenate([rvs1, rvs2]), bins=bins, \n",
    "        weights=np.full((rvs1.shape[0] + rvs2.shape[0],), 0.5/100), \n",
    "        density=False, color=grey, alpha=0.6)\n",
    "\n",
    "ax.plot(x, w1 * y1, linewidth=1.0, color=grey, label='', \n",
    "        linestyle='--', zorder=100)\n",
    "ax.plot(x, w2 * y2, linewidth=1.0, color=grey, label='', \n",
    "        linestyle='--', zorder=100)\n",
    "# ax.plot(x, w3 * y3, linewidth=1.0, color='dodgerblue', label='')\n",
    "\n",
    "ax.plot(x, w1 * y1 + w2 * y2, linewidth=1.0, color=grey, \n",
    "        label='', zorder=200) # + w3 * y3\n",
    "plt.axvline(x=theta1, linewidth=0.8, color='black', zorder=250)\n",
    "plt.axvline(x=theta2, linewidth=0.8, color='black', zorder=250)\n",
    "\n",
    "# optional: hide numbers on axis\n",
    "ax.set_yticklabels([])\n",
    "ax.set_xticklabels([])\n",
    "ax.tick_params(axis=u'both', which=u'both',length=0)\n",
    "\n",
    "# leg = plt.legend()\n",
    "# leg.get_frame().set_edgecolor('lightgrey')\n",
    "plt.ylim((-0.003, None))\n",
    "plt.xlabel('Waiting time')\n",
    "plt.ylabel('Probability') # plt.ylabel('Probability density function')\n",
    "plt.savefig(f'paper_figures/waiting_time_distr_scheme_ph.pdf', bbox_inches='tight')"
   ]
  },
  {
   "cell_type": "code",
   "execution_count": 24,
   "metadata": {},
   "outputs": [
    {
     "data": {
      "text/plain": [
       "(7998,)"
      ]
     },
     "execution_count": 24,
     "metadata": {},
     "output_type": "execute_result"
    }
   ],
   "source": [
    "np.concatenate([rvs1, rvs2]).shape"
   ]
  },
  {
   "cell_type": "markdown",
   "metadata": {},
   "source": [
    "###### moment differential equations for simple division model\n",
    "###### (also see Goodnotes, for a manual derivation)"
   ]
  },
  {
   "cell_type": "code",
   "execution_count": 324,
   "metadata": {},
   "outputs": [],
   "source": [
    "t = [\n",
    "        {'start': 'X_t', 'end': 'X_t', 'rate_symbol': 'l', 'type': 'S -> S + S', 'reaction_steps': 2}\n",
    "        ]\n",
    "\n",
    "net = me.Network('net_div_g2')\n",
    "net.structure(t)\n",
    "\n",
    "num_iter = 3\n",
    "initial_values = {'X_t': 1}\n",
    "theta_values = {'l': 0.2}\n",
    "time_values = np.linspace(0.0, 10.0, num=10000, endpoint=True)\n",
    "variables = {'X_t': ('X_t', )}\n",
    "\n",
    "\n",
    "sim = me.Simulation(net)\n",
    "res = sim.simulate('moments', initial_values, theta_values, time_values, variables)"
   ]
  },
  {
   "cell_type": "code",
   "execution_count": 347,
   "metadata": {},
   "outputs": [
    {
     "name": "stdout",
     "output_type": "stream",
     "text": [
      "[[('Z_0__centric',), ('Z_0__module_0__0',)], [('Z_0__centric', 'Z_0__centric'), ('Z_0__centric', 'Z_0__module_0__0'), ('Z_0__module_0__0', 'Z_0__module_0__0')]]\n",
      "\n",
      "\n",
      "2.0 * theta_0_q * (z_0__module_0__0_q - z_0__centric_q) * diff(F(z_0__centric_q, z_0__module_0__0_q), z_0__centric_q) + 2.0 * theta_0_q * (z_0__centric_q * z_0__centric_q - z_0__module_0__0_q) * diff(F(z_0__centric_q, z_0__module_0__0_q), z_0__module_0__0_q)\n",
      "\n",
      "\n",
      "d/dt E(X_0) = -2.0*E(X_0)*l + 4.0*E(X_1)*l\n",
      "d/dt E(X_1) = 2.0*E(X_0)*l - 2.0*E(X_1)*l\n",
      "d/dt E(X_0(X_0-1)) = 4.0*E(X_1)*l - 4.0*E(X_0(X_0-1))*l + 8.0*E(X_0 X_1)*l\n",
      "d/dt E(X_0 X_1) = 2.0*E(X_0(X_0-1))*l - 4.0*E(X_0 X_1)*l + 4.0*E(X_1(X_1-1))*l\n",
      "d/dt E(X_1(X_1-1)) = 4.0*E(X_0 X_1)*l - 4.0*E(X_1(X_1-1))*l\n"
     ]
    }
   ],
   "source": [
    "print(sim.sim_moments.moment_order_hidden)\n",
    "print('\\n')\n",
    "print(sim.sim_moments.moment_pde)\n",
    "print('\\n')\n",
    "meqs = sim.sim_moments.moment_eqs\n",
    "meqs = [s.replace('theta[0]', 'l') for s in meqs]\n",
    "meqs = [s.replace('m[0]', 'E(X_0)') for s in meqs]\n",
    "meqs = [s.replace('m[1]', 'E(X_1)') for s in meqs]\n",
    "meqs = [s.replace('m[2]', 'E(X_0(X_0-1))') for s in meqs]\n",
    "meqs = [s.replace('m[3]', 'E(X_0 X_1)') for s in meqs]\n",
    "meqs = [s.replace('m[4]', 'E(X_1(X_1-1))') for s in meqs]\n",
    "meqs[0] = 'd/dt E(X_0) = ' + meqs[0]\n",
    "meqs[1] = 'd/dt E(X_1) = ' + meqs[1]\n",
    "meqs[2] = 'd/dt E(X_0(X_0-1)) = ' + meqs[2]\n",
    "meqs[3] = 'd/dt E(X_0 X_1) = ' + meqs[3]\n",
    "meqs[4] = 'd/dt E(X_1(X_1-1)) = ' + meqs[4]\n",
    "for e in meqs:\n",
    "    print(e)\n",
    "\n",
    "# E(X_0) = m[0]\n",
    "# E(X_1) = m[1]\n",
    "# E(X_0(X_0-1)) = m[2]\n",
    "# E(X_0 X_1) = m[3]\n",
    "# E(X_1(X_1-1)) = m[4]"
   ]
  },
  {
   "cell_type": "markdown",
   "metadata": {},
   "source": [
    "##### Figure 2 <a id='figure2'></a> [↑](#top)"
   ]
  },
  {
   "cell_type": "markdown",
   "metadata": {},
   "source": [
    "##### Figure 3 <a id='figure3'></a> [↑](#top)"
   ]
  },
  {
   "cell_type": "markdown",
   "metadata": {},
   "source": [
    "###### Network scheme"
   ]
  },
  {
   "cell_type": "code",
   "execution_count": 24,
   "metadata": {},
   "outputs": [
    {
     "data": {
      "image/png": "[encoded data removed]",
      "text/plain": [
       "<IPython.core.display.Image object>"
      ]
     },
     "metadata": {},
     "output_type": "display_data"
    }
   ],
   "source": [
    "res = pickle.load(open('estimation_count_data_cd44_filtered_sigma022_minimal2.pickle', 'rb'))\n",
    "net = res[0].net\n",
    "\n",
    "# need hex colors here\n",
    "# \"#FF1F5B\", \"#00CD6C\", \"#009ADE\"\n",
    "node_settings = {\n",
    "    'M_t': {'label': 'M_t', 'color': \"#009ADE\"}, # \"#FFC61E\", \"#009ADE\"\n",
    "    'A_t': {'label': 'A_t', 'color': \"#00CD6C\"}\n",
    "}\n",
    "me.plots.net_main_plot(net, node_settings=node_settings, save='paper_figures/model_scheme_cd44.pdf')\n",
    "# me.plots.net_hidden_plot(net, layout='dot')"
   ]
  },
  {
   "cell_type": "markdown",
   "metadata": {},
   "source": [
    "###### Data panel"
   ]
  },
  {
   "cell_type": "code",
   "execution_count": 5,
   "metadata": {},
   "outputs": [],
   "source": [
    "data = pickle.load(open('count_data_cd44_manual_counting_18_01_14_filtered_sigma022.pickle', 'rb'))"
   ]
  },
  {
   "cell_type": "code",
   "execution_count": 68,
   "metadata": {},
   "outputs": [
    {
     "data": {
      "image/png": "[encoded data removed]",
      "text/plain": [
       "<Figure size 86.4x57.6 with 1 Axes>"
      ]
     },
     "metadata": {
      "needs_background": "light"
     },
     "output_type": "display_data"
    },
    {
     "data": {
      "image/png": "[encoded data removed]",
      "text/plain": [
       "<Figure size 86.4x57.6 with 1 Axes>"
      ]
     },
     "metadata": {
      "needs_background": "light"
     },
     "output_type": "display_data"
    },
    {
     "data": {
      "image/png": "[encoded data removed]",
      "text/plain": [
       "<Figure size 86.4x57.6 with 1 Axes>"
      ]
     },
     "metadata": {
      "needs_background": "light"
     },
     "output_type": "display_data"
    }
   ],
   "source": [
    "plt.rcParams.update({'figure.figsize': (1.2, 0.8)})\n",
    "settings = {\n",
    "    'A_t': {'label': 'E$(A_t)$', 'color': cactiv},\n",
    "    'M_t': {'label': 'E$(M_t)$', 'color': cnaive}\n",
    "}\n",
    "me.plots.data_mean_plot(data, x_label='Time (hours)', save='paper_figures/data_cd44_mean.pdf', settings=settings)\n",
    "\n",
    "settings = {\n",
    "    ('A_t', 'A_t'): {'label': 'Var$(A_t)$', 'color': cactiv},\n",
    "    ('M_t', 'M_t'): {'label': 'Var$(M_t)$', 'color': cnaive}\n",
    "}\n",
    "me.plots.data_variance_plot(data, x_label='Time (hours)', save='paper_figures/data_cd44_var.pdf', settings=settings)\n",
    "\n",
    "settings = {\n",
    "    ('M_t', 'A_t'): {'label': 'Cov$(M_t, A_t)$', 'color': grey}\n",
    "}\n",
    "me.plots.data_covariance_plot(data, x_label='Time (hours)', save='paper_figures/data_cd44_cov.pdf', settings=settings)"
   ]
  },
  {
   "cell_type": "code",
   "execution_count": 6,
   "metadata": {},
   "outputs": [
    {
     "name": "stdout",
     "output_type": "stream",
     "text": [
      "['A_t', 'M_t']\n",
      "(44, 2, 28)\n",
      "[0. 0. 0. 0. 0. 0. 0. 0. 0. 0. 0. 0. 1. 1. 1. 1. 2. 2. 2. 2. 2. 3. 3. 3.\n",
      " 4. 4. 5. 5.]\n",
      "[1. 1. 1. 1. 1. 1. 1. 1. 1. 1. 1. 1. 0. 0. 0. 0. 0. 0. 0. 0. 0. 0. 0. 0.\n",
      " 0. 0. 0. 0.]\n",
      "9.0\n"
     ]
    }
   ],
   "source": [
    "print(data.data_variables)\n",
    "print(data.data_counts.shape)\n",
    "print(data.data_counts[26, 0, :])\n",
    "print(data.data_counts[26, 1, :])\n",
    "print(np.amax(data.data_counts))"
   ]
  },
  {
   "cell_type": "code",
   "execution_count": 7,
   "metadata": {},
   "outputs": [
    {
     "data": {
      "image/png": "[encoded data removed]",
      "text/plain": [
       "<Figure size 86.4x57.6 with 1 Axes>"
      ]
     },
     "metadata": {
      "needs_background": "light"
     },
     "output_type": "display_data"
    }
   ],
   "source": [
    "plt.rcParams.update({'figure.figsize': (1.2, 0.8)})\n",
    "ax = plt.gca()\n",
    "ax.spines['top'].set_visible(False)\n",
    "ax.spines['right'].set_visible(False)\n",
    "ax.spines['bottom'].set_visible(True)\n",
    "ax.spines['left'].set_visible(True)\n",
    "\n",
    "trace_emph = 26\n",
    "for trace_i in range(data.data_counts.shape[0]):\n",
    "    if trace_i!=trace_emph:\n",
    "        plt.plot(data.data_time_values, data.data_counts[trace_i, 0, :], color=cactiv, alpha=0.15, linewidth=0.5)\n",
    "        plt.plot(data.data_time_values, data.data_counts[trace_i, 1, :], color=cnaive, alpha=0.15, linewidth=0.5)\n",
    "    else:\n",
    "        plt.plot(data.data_time_values, data.data_counts[trace_i, 0, :], color=cactiv, alpha=1.0, linewidth=1.0, label='CD44+', zorder=1000) # color='darkgreen'\n",
    "        plt.plot(data.data_time_values, data.data_counts[trace_i, 1, :], color=cnaive, alpha=1.0, linewidth=1.0, label='CD44-', zorder=1000) # color='darkblue'\n",
    "        \n",
    "# ax.set_ylim([-0.3, None])\n",
    "leg = plt.legend()\n",
    "plt.legend(frameon=False)\n",
    "# leg.get_frame().set_edgecolor('lightgrey')\n",
    "plt.xlabel('Time (hours)')\n",
    "plt.ylabel('Number of cells')\n",
    "plt.savefig(f'paper_figures/data_cd44_single_well_traces.pdf', bbox_inches='tight')"
   ]
  },
  {
   "cell_type": "markdown",
   "metadata": {},
   "source": [
    "###### Cell number histograms"
   ]
  },
  {
   "cell_type": "code",
   "execution_count": 7,
   "metadata": {},
   "outputs": [],
   "source": [
    "data = pickle.load(open('count_data_cd44_manual_counting_18_01_14_filtered_sigma022.pickle', 'rb'))"
   ]
  },
  {
   "cell_type": "code",
   "execution_count": 7,
   "metadata": {},
   "outputs": [
    {
     "data": {
      "image/png": "[encoded data removed]",
      "text/plain": [
       "<Figure size 57.6x57.6 with 1 Axes>"
      ]
     },
     "metadata": {
      "needs_background": "light"
     },
     "output_type": "display_data"
    }
   ],
   "source": [
    "plt.rcParams.update({'figure.figsize': (0.8, 0.8)})\n",
    "time_index = -1 # last time point\n",
    "settings = {\n",
    "    'M_t': {'label': 'CD44-', 'color': cnaive, 'opacity': 0.5},\n",
    "    'A_t': {'label': 'CD44+', 'color': cactiv, 'opacity': 0.5}\n",
    "    }\n",
    "me.plots.data_hist_variables_plot(data, time_index, normalised=False, settings=settings,\n",
    "                                  x_label='Cell number (54 hours)', save='paper_figures/data_cd44_count_hist.pdf')"
   ]
  },
  {
   "cell_type": "code",
   "execution_count": 8,
   "metadata": {},
   "outputs": [],
   "source": [
    "# best phase-type model\n",
    "res1 = pickle.load(open('estimation_count_data_cd44_filtered_sigma022_par3.pickle', 'rb'))\n",
    "res2 = pickle.load(open('estimation_count_data_cd44_filtered_sigma022_minimal2.pickle', 'rb'))\n",
    "\n",
    "# res = pickle.load(open('estimation_count_data_cd44_filtered_thin4_par3.pickle', 'rb'))\n",
    "\n",
    "res = res1 + res2\n",
    "net_names = [est.net.net_name for est in res]\n",
    "model_probs = me.selection.compute_model_probabilities(res)"
   ]
  },
  {
   "cell_type": "code",
   "execution_count": 49,
   "metadata": {},
   "outputs": [
    {
     "data": {
      "text/plain": [
       "{'theta_0': 'alpha_F',\n",
       " 'theta_1': 'alpha_S',\n",
       " 'theta_2': 'alpha_T',\n",
       " 'theta_3': 'lambda'}"
      ]
     },
     "execution_count": 49,
     "metadata": {},
     "output_type": "execute_result"
    }
   ],
   "source": [
    "res[0].net.net_rates_identifier"
   ]
  },
  {
   "cell_type": "code",
   "execution_count": 50,
   "metadata": {},
   "outputs": [
    {
     "name": "stdout",
     "output_type": "stream",
     "text": [
      "348 net_alphaF6_alphaS6_alphaT6_lambda14\n",
      "397 net_alphaF6_alphaS8_alphaT14_lambda14\n",
      "475 net_alphaF8_alphaS8_alphaT18_lambda18\n"
     ]
    }
   ],
   "source": [
    "# best model\n",
    "est_i = list(model_probs).index(max(model_probs))\n",
    "print(est_i, net_names[est_i])\n",
    "\n",
    "# 9th best model\n",
    "sort_inds = np.array(- model_probs).argsort()\n",
    "net_names_sorted = np.array(net_names)[sort_inds]\n",
    "model_probs_sorted = np.array(model_probs)[sort_inds]\n",
    "est_i = net_names.index(net_names_sorted[8])\n",
    "print(est_i, net_names[est_i])\n",
    "\n",
    "# 5th best model\n",
    "sort_inds = np.array(- model_probs).argsort()\n",
    "net_names_sorted = np.array(net_names)[sort_inds]\n",
    "model_probs_sorted = np.array(model_probs)[sort_inds]\n",
    "est_i = net_names.index(net_names_sorted[4])\n",
    "print(est_i, net_names[est_i])"
   ]
  },
  {
   "cell_type": "code",
   "execution_count": 43,
   "metadata": {},
   "outputs": [
    {
     "name": "stdout",
     "output_type": "stream",
     "text": [
      "net_3_20\n"
     ]
    }
   ],
   "source": [
    "est = res[59]\n",
    "print(est.net.net_name)"
   ]
  },
  {
   "cell_type": "code",
   "execution_count": 24,
   "metadata": {},
   "outputs": [],
   "source": [
    "num_iter = 1000 # 10000\n",
    "theta_rand = np.random.choice(est.bay_est_samples_weighted.shape[0], num_iter)\n",
    "time_values = est.data.data_time_values\n",
    "initial_values = {'N_t': 1, 'A_t': 0, 'P1_t': 0, 'P2_t': 0, 'P3_t': 0}\n",
    "variables = {'M_t': ('N_t', 'P1_t', 'P2_t', 'P3_t'), 'A_t': ('A_t', )}\n",
    "\n",
    "sim = me.Simulation(est.net)\n",
    "res_list = list()"
   ]
  },
  {
   "cell_type": "code",
   "execution_count": 25,
   "metadata": {},
   "outputs": [],
   "source": [
    "for i in range(num_iter):\n",
    "    a1, a2, a3, l = est.bay_est_samples_weighted[theta_rand[i], :]\n",
    "    theta_values = {'alpha_F': a1, 'alpha_S': a2, \n",
    "                    'alpha_T': a3, 'lambda': l}\n",
    "    \n",
    "    res_list.append(sim.simulate('gillespie', initial_values, theta_values, time_values, variables)[1])\n",
    "\n",
    "in_silico_counts = np.array(res_list)"
   ]
  },
  {
   "cell_type": "code",
   "execution_count": 26,
   "metadata": {},
   "outputs": [],
   "source": [
    "data = me.Data('data_best_phase_model')\n",
    "data.load(['A_t', 'M_t'], time_values, in_silico_counts, bootstrap_samples=1000, basic_sigma=1.0/num_iter)"
   ]
  },
  {
   "cell_type": "code",
   "execution_count": 36,
   "metadata": {},
   "outputs": [
    {
     "data": {
      "image/png": "[encoded data removed]",
      "text/plain": [
       "<Figure size 86.4x57.6 with 1 Axes>"
      ]
     },
     "metadata": {
      "needs_background": "light"
     },
     "output_type": "display_data"
    },
    {
     "data": {
      "image/png": "[encoded data removed]",
      "text/plain": [
       "<Figure size 86.4x57.6 with 1 Axes>"
      ]
     },
     "metadata": {
      "needs_background": "light"
     },
     "output_type": "display_data"
    },
    {
     "data": {
      "image/png": "[encoded data removed]",
      "text/plain": [
       "<Figure size 86.4x57.6 with 1 Axes>"
      ]
     },
     "metadata": {
      "needs_background": "light"
     },
     "output_type": "display_data"
    }
   ],
   "source": [
    "plt.rcParams.update({'figure.figsize': (1.2, 0.8)})\n",
    "me.plots.data_mean_plot(data, save='paper_figures/data_in_sil_5thbestPH_mean.pdf')\n",
    "me.plots.data_variance_plot(data, save='paper_figures/data_in_sil_5thbestPH_var.pdf')\n",
    "me.plots.data_covariance_plot(data, save='paper_figures/data_in_sil_5thbestPH_cov.pdf')"
   ]
  },
  {
   "cell_type": "code",
   "execution_count": 27,
   "metadata": {},
   "outputs": [
    {
     "data": {
      "image/png": "[encoded data removed]",
      "text/plain": [
       "<Figure size 57.6x57.6 with 1 Axes>"
      ]
     },
     "metadata": {
      "needs_background": "light"
     },
     "output_type": "display_data"
    }
   ],
   "source": [
    "plt.rcParams.update({'figure.figsize': (0.8, 0.8)})\n",
    "time_index = -1 # last time point\n",
    "settings = {\n",
    "    'M_t': {'label': 'CD44-', 'color': cnaive, 'opacity': 0.5},\n",
    "    'A_t': {'label': 'CD44+', 'color': cactiv, 'opacity': 0.5}\n",
    "    }\n",
    "me.plots.data_hist_variables_plot(data, time_index, normalised=False, settings=settings,\n",
    "                                  x_label='Cell number (54 hours)', \n",
    "                                  save='paper_figures/data_cd44_count_hist_5thPHmodel.pdf')"
   ]
  },
  {
   "cell_type": "code",
   "execution_count": 32,
   "metadata": {},
   "outputs": [
    {
     "data": {
      "image/png": "[encoded data removed]",
      "text/plain": [
       "<Figure size 86.4x57.6 with 1 Axes>"
      ]
     },
     "metadata": {
      "needs_background": "light"
     },
     "output_type": "display_data"
    }
   ],
   "source": [
    "plt.rcParams.update({'figure.figsize': (1.2, 0.8)})\n",
    "ax = plt.gca()\n",
    "ax.spines['top'].set_visible(False)\n",
    "ax.spines['right'].set_visible(False)\n",
    "ax.spines['bottom'].set_visible(True)\n",
    "ax.spines['left'].set_visible(True)\n",
    "\n",
    "trace_emph = 0\n",
    "for trace_i in range(10): # data.data_counts.shape[0]):\n",
    "    if trace_i!=trace_emph:\n",
    "        plt.plot(data.data_time_values, data.data_counts[trace_i, 0, :], color=cactiv, alpha=0.15, linewidth=0.5)\n",
    "        plt.plot(data.data_time_values, data.data_counts[trace_i, 1, :], color=cnaive, alpha=0.15, linewidth=0.5)\n",
    "    else:\n",
    "        plt.plot(data.data_time_values, data.data_counts[trace_i, 0, :], color=cactiv, alpha=1.0, linewidth=1.0, label='CD44+', zorder=1000) # color='darkgreen'\n",
    "        plt.plot(data.data_time_values, data.data_counts[trace_i, 1, :], color=cnaive, alpha=1.0, linewidth=1.0, label='CD44-', zorder=1000) # color='darkblue'\n",
    "        \n",
    "# ax.set_ylim([-0.3, None])\n",
    "leg = plt.legend()\n",
    "plt.legend(frameon=False)\n",
    "# leg.get_frame().set_edgecolor('lightgrey')\n",
    "plt.xlabel('Time (hours)')\n",
    "plt.ylabel('Number of cells')\n",
    "plt.savefig(f'paper_figures/data_cd44_swtraces_5thbestPH.pdf', bbox_inches='tight')"
   ]
  },
  {
   "cell_type": "code",
   "execution_count": 32,
   "metadata": {},
   "outputs": [
    {
     "name": "stdout",
     "output_type": "stream",
     "text": [
      "100 196 588 884\n",
      "784\n"
     ]
    }
   ],
   "source": [
    "res1 = pickle.load(open('estimation_count_data_cd44_filtered_sigma022_minimal2.pickle', 'rb'))\n",
    "res2 = pickle.load(open('estimation_count_data_cd44_filtered_sigma022_par2.pickle', 'rb'))\n",
    "res3 = pickle.load(open('estimation_count_data_cd44_filtered_sigma022_par3.pickle', 'rb'))\n",
    "res = res1 + res2 + res3\n",
    "print(len(res1), len(res2), len(res3), len(res))\n",
    "\n",
    "net_names = [est.net.net_name for est in res]\n",
    "model_probs = me.selection.compute_model_probabilities(res)\n",
    "data = res[0].data\n",
    "print(sum(['alphaF' in name for name in net_names]))"
   ]
  },
  {
   "cell_type": "code",
   "execution_count": 18,
   "metadata": {},
   "outputs": [
    {
     "name": "stdout",
     "output_type": "stream",
     "text": [
      "1.0000000000000184\n",
      "884\n"
     ]
    }
   ],
   "source": [
    "# set model prior to give classes same weight\n",
    "mprior = np.array([0.25] + [0.25/99]*99 + [0.25/196]*196 + [0.25/588]*588)\n",
    "print(sum(mprior))\n",
    "print(len(mprior))"
   ]
  },
  {
   "cell_type": "code",
   "execution_count": 45,
   "metadata": {
    "collapsed": true,
    "jupyter": {
     "outputs_hidden": true
    }
   },
   "outputs": [
    {
     "name": "stdout",
     "output_type": "stream",
     "text": [
      "0\n",
      "1\n",
      "2\n",
      "3\n",
      "4\n",
      "5\n",
      "6\n",
      "7\n",
      "8\n",
      "9\n",
      "10\n",
      "11\n",
      "12\n",
      "13\n",
      "14\n",
      "15\n",
      "16\n",
      "17\n",
      "18\n",
      "19\n",
      "20\n",
      "21\n",
      "22\n",
      "23\n",
      "24\n",
      "25\n",
      "26\n",
      "27\n",
      "28\n",
      "29\n",
      "30\n",
      "31\n",
      "32\n",
      "33\n",
      "34\n",
      "35\n",
      "36\n",
      "37\n",
      "38\n",
      "39\n",
      "40\n",
      "41\n",
      "42\n",
      "43\n",
      "44\n",
      "45\n",
      "46\n",
      "47\n",
      "48\n",
      "49\n",
      "50\n",
      "51\n",
      "52\n",
      "53\n",
      "54\n",
      "55\n",
      "56\n",
      "57\n",
      "58\n",
      "59\n",
      "60\n",
      "61\n",
      "62\n",
      "63\n",
      "64\n",
      "65\n",
      "66\n",
      "67\n",
      "68\n",
      "69\n",
      "70\n",
      "71\n",
      "72\n",
      "73\n",
      "74\n",
      "75\n",
      "76\n",
      "77\n",
      "78\n",
      "79\n",
      "80\n",
      "81\n",
      "82\n",
      "83\n",
      "84\n",
      "85\n",
      "86\n",
      "87\n",
      "88\n",
      "89\n",
      "90\n",
      "91\n",
      "92\n",
      "93\n",
      "94\n",
      "95\n",
      "96\n",
      "97\n",
      "98\n",
      "99\n",
      "[ 0.  0. 49. 51.]\n"
     ]
    }
   ],
   "source": [
    "# res = [est]\n",
    "celltype = 1 # 0 or 1 (active, naive)\n",
    "time_point = -1 # last time point\n",
    "sample_n = 100 # 1000 # posterior samples of cell histograms; typically 1000-10000\n",
    "sim_n = 50 # 500 # simulation repeats per given model and theta; ideally, inf\n",
    "count_max = 16\n",
    "y = hist_cell_counts_samples(res, celltype, time_point, sample_n, count_max, sim_n, mprior)"
   ]
  },
  {
   "cell_type": "code",
   "execution_count": 46,
   "metadata": {},
   "outputs": [
    {
     "name": "stdout",
     "output_type": "stream",
     "text": [
      "(16, 100)\n"
     ]
    }
   ],
   "source": [
    "print(y.shape)\n",
    "y_95_lower = np.percentile(y, 2.5, axis=1)\n",
    "y_median = np.percentile(y, 50.0, axis=1)\n",
    "y_95_upper = np.percentile(y, 97.5, axis=1)"
   ]
  },
  {
   "cell_type": "code",
   "execution_count": 47,
   "metadata": {},
   "outputs": [
    {
     "data": {
      "image/png": "[encoded data removed]",
      "text/plain": [
       "<Figure size 57.6x57.6 with 1 Axes>"
      ]
     },
     "metadata": {
      "needs_background": "light"
     },
     "output_type": "display_data"
    }
   ],
   "source": [
    "# compute model histogram over all models\n",
    "plt.rcParams.update({'figure.figsize': (0.8, 0.8)})\n",
    "ax = plt.gca()\n",
    "ax.spines['top'].set_visible(False)\n",
    "ax.spines['right'].set_visible(False)\n",
    "ax.spines['bottom'].set_visible(True)\n",
    "ax.spines['left'].set_visible(True)\n",
    "\n",
    "linelow = 44*y_95_lower/sim_n\n",
    "line = 44*y_median/sim_n\n",
    "lineupp = 44*y_95_upper/sim_n\n",
    "errlow = line-linelow\n",
    "errupp = lineupp-line\n",
    "\n",
    "# plt.fill_between(range(count_max), linelow, line, color=cnaive, alpha=0.2, linewidth=0.0, zorder=100)\n",
    "# plt.plot(range(count_max), line, color=cnaive, zorder=200, linewidth=1.0)\n",
    "# plt.fill_between(range(count_max), line, lineupp, color=cnaive, alpha=0.2, linewidth=0.0, zorder=100,\n",
    "#                 label='Models')\n",
    "cutplot = 3\n",
    "plt.errorbar(list(range(count_max))[:cutplot], line[:cutplot], yerr=np.array([errlow, errupp])[:, :cutplot],\n",
    "            color=cnaive, linewidth=1.0, capsize=1.0,\n",
    "             zorder=100, markersize=2, fmt='.', label='Model')\n",
    "\n",
    "plt.hist(res[0].data.data_counts[:, 1, -1], bins=np.linspace(-0.5, 9.5, num=11), \n",
    "         color='black', alpha=0.1, label='Data')\n",
    "plt.xticks([0, 1, 2])\n",
    "plt.xlim(None, 3)\n",
    "plt.ylim(-1.5, None)\n",
    "plt.xlabel('Cell number (54 hours)')\n",
    "plt.ylabel('Probability')\n",
    "plt.legend()\n",
    "plt.savefig(f'paper_figures/hist_cd44_naive_688_bands.pdf', bbox_inches='tight') # _thin4"
   ]
  },
  {
   "cell_type": "code",
   "execution_count": 43,
   "metadata": {},
   "outputs": [
    {
     "data": {
      "image/png": "[encoded data removed]",
      "text/plain": [
       "<Figure size 57.6x57.6 with 1 Axes>"
      ]
     },
     "metadata": {
      "needs_background": "light"
     },
     "output_type": "display_data"
    }
   ],
   "source": [
    "# compute model histogram over all models\n",
    "plt.rcParams.update({'figure.figsize': (0.8, 0.8)})\n",
    "ax = plt.gca()\n",
    "ax.spines['top'].set_visible(False)\n",
    "ax.spines['right'].set_visible(False)\n",
    "ax.spines['bottom'].set_visible(True)\n",
    "ax.spines['left'].set_visible(True)\n",
    "\n",
    "linelow = 44*y_95_lower/sim_n\n",
    "line = 44*y_median/sim_n\n",
    "lineupp = 44*y_95_upper/sim_n\n",
    "errlow = line-linelow\n",
    "errupp = lineupp-line\n",
    "\n",
    "# plt.fill_between(range(count_max), linelow, line, color=cactiv, alpha=0.2, linewidth=0.0, zorder=100)\n",
    "# plt.plot(range(count_max), line, color=cactiv, zorder=200, linewidth=1.0)\n",
    "# plt.fill_between(range(count_max), line, lineupp, color=cactiv, alpha=0.2, linewidth=0.0, zorder=100,\n",
    "#                 label='Model')\n",
    "cutplot = 10\n",
    "plt.errorbar(list(range(count_max))[:cutplot], line[:cutplot], \n",
    "             yerr=np.array([errlow, errupp])[:, :cutplot],\n",
    "            color=cactiv, linewidth=1.0, capsize=1.0,\n",
    "             zorder=100, markersize=2, fmt='.', label='Model')\n",
    "\n",
    "plt.hist(res[0].data.data_counts[:, 0, -1], bins=np.linspace(-0.5, 9.5, num=11), \n",
    "         color='black', alpha=0.1, label='Data')\n",
    "\n",
    "plt.xlim(-1, 10)\n",
    "plt.xlabel('Cell number (54 hours)')\n",
    "plt.ylabel('Probability')\n",
    "plt.legend()\n",
    "plt.savefig(f'paper_figures/hist_cd44_active_688_band.pdf', bbox_inches='tight') # _thin4"
   ]
  },
  {
   "cell_type": "code",
   "execution_count": 44,
   "metadata": {},
   "outputs": [
    {
     "data": {
      "image/png": "[encoded data removed]",
      "text/plain": [
       "<Figure size 57.6x57.6 with 1 Axes>"
      ]
     },
     "metadata": {
      "needs_background": "light"
     },
     "output_type": "display_data"
    }
   ],
   "source": [
    "def bin_counts(arr):\n",
    "    # 1d input array with even length\n",
    "    # create with same length\n",
    "    arr_binned = np.zeros((arr.shape[0]))\n",
    "    \n",
    "    # loop over every second element\n",
    "    for i in range(int(arr_binned.shape[0]/2)):\n",
    "        bin_val = (arr[2*i] + arr[2*i+1])/2.0\n",
    "        arr_binned[2*i] = bin_val\n",
    "        arr_binned[2*i+1] = bin_val\n",
    "    return arr_binned\n",
    "\n",
    "y_95_lower_binned = bin_counts(y_95_lower)\n",
    "y_median_binned = bin_counts(y_median)\n",
    "y_95_upper_binned = bin_counts(y_95_upper)\n",
    "\n",
    "# compute model histogram over all models\n",
    "plt.rcParams.update({'figure.figsize': (0.8, 0.8)})\n",
    "ax = plt.gca()\n",
    "ax.spines['top'].set_visible(False)\n",
    "ax.spines['right'].set_visible(False)\n",
    "ax.spines['bottom'].set_visible(True)\n",
    "ax.spines['left'].set_visible(True)\n",
    "\n",
    "plt.fill_between(range(count_max), y_95_lower_binned/sim_n, y_median_binned/sim_n, color=cactiv, alpha=0.2, linewidth=0.0, zorder=100)\n",
    "plt.plot(range(count_max), y_median_binned/sim_n, color=cactiv, zorder=200, linewidth=1.0)\n",
    "plt.fill_between(range(count_max), y_median_binned/sim_n, y_95_upper_binned/sim_n, color=cactiv, alpha=0.2, linewidth=0.0, zorder=100)\n",
    "\n",
    "# plt.plot(range(count_max), 44*y_95_upper/sim_n, color=cactiv, zorder=100, alpha=0.5)\n",
    "# plt.plot(range(count_max), 44*y_95_lower/sim_n, color=cactiv, zorder=100, alpha=0.5)\n",
    "\n",
    "plt.hist(data.data_counts[:, 0, -1], bins=np.linspace(-0.5, 9.5, num=6), color='black', alpha=0.1, density=True)\n",
    "plt.xlim(-1, 10)\n",
    "plt.xlabel('Cell number (54 hours)')\n",
    "plt.ylabel('Probability')\n",
    "plt.savefig(f'paper_figures/hist_cd44_active_2bin.pdf', bbox_inches='tight')"
   ]
  },
  {
   "cell_type": "markdown",
   "metadata": {},
   "source": [
    "###### Event analysis"
   ]
  },
  {
   "cell_type": "code",
   "execution_count": 49,
   "metadata": {},
   "outputs": [],
   "source": [
    "data = pickle.load(open('count_data_cd44_manual_counting_18_01_14_filtered_sigma022.pickle', 'rb'))"
   ]
  },
  {
   "cell_type": "code",
   "execution_count": 50,
   "metadata": {},
   "outputs": [],
   "source": [
    "data.events_find_all()"
   ]
  },
  {
   "cell_type": "code",
   "execution_count": 51,
   "metadata": {},
   "outputs": [
    {
     "name": "stdout",
     "output_type": "stream",
     "text": [
      "84.0909090909091\n",
      "81.81818181818181\n",
      "70.45454545454545\n",
      "68.18181818181819\n",
      "61.36363636363637\n",
      "45.45454545454545\n"
     ]
    }
   ],
   "source": [
    "print(event_percentage(data.event_all_first_change_from_inital_conditions))\n",
    "print(event_percentage(data.event_all_first_cell_type_conversion))\n",
    "print(event_percentage(data.event_all_first_cell_count_increase))\n",
    "print(event_percentage(data.event_all_first_cell_count_increase_after_cell_type_conversion))\n",
    "print(event_percentage(data.event_all_second_cell_count_increase_after_first_cell_count_increase_after_cell_type_conversion))\n",
    "print(event_percentage(data.event_all_third_cell_count_increase_after_first_and_second_cell_count_increase_after_cell_type_conversion))"
   ]
  },
  {
   "cell_type": "code",
   "execution_count": 52,
   "metadata": {},
   "outputs": [],
   "source": [
    "# events of the data\n",
    "e_act_data = event_percentage(data.event_all_first_cell_type_conversion)\n",
    "e_div1_data = event_percentage(data.event_all_first_cell_count_increase_after_cell_type_conversion)\n",
    "e_div2_data = event_percentage(data.event_all_second_cell_count_increase_after_first_cell_count_increase_after_cell_type_conversion)\n",
    "e_div3_data = event_percentage(data.event_all_third_cell_count_increase_after_first_and_second_cell_count_increase_after_cell_type_conversion)"
   ]
  },
  {
   "cell_type": "code",
   "execution_count": 53,
   "metadata": {},
   "outputs": [
    {
     "name": "stdout",
     "output_type": "stream",
     "text": [
      "81.81818181818181 70.45454545454545 93.18181818181819\n",
      "68.18181818181819 54.54545454545455 81.81818181818181\n",
      "61.36363636363637 47.72727272727273 75.0\n",
      "45.45454545454545 31.818181818181817 61.36363636363637\n"
     ]
    }
   ],
   "source": [
    "# bootstrapping of microwells to get 95% uncertainty intervals for data events\n",
    "nwells = data.data_counts.shape[0]\n",
    "inds = np.array(range(0, nwells))\n",
    "nsamples = 5000\n",
    "\n",
    "e_act_data_samples = np.zeros(nsamples)\n",
    "e_div1_data_samples = np.zeros(nsamples)\n",
    "e_div2_data_samples = np.zeros(nsamples)\n",
    "e_div3_data_samples = np.zeros(nsamples)\n",
    "\n",
    "variables = data.data_variables\n",
    "time_values = data.data_time_values\n",
    "\n",
    "for i in range(nsamples):\n",
    "    wellinds = np.random.choice(inds, replace=True, size=nwells)\n",
    "    data_counts_sample = np.copy(data.data_counts[wellinds, :, :])\n",
    "    \n",
    "    data_btstrp = me.Data('data_btstrp')\n",
    "    data_btstrp.load(variables, time_values, data_counts_sample, bootstrap_samples=2)\n",
    "    data_btstrp.events_find_all()\n",
    "    \n",
    "    e_act_data_samples[i] = event_percentage(data_btstrp.event_all_first_cell_type_conversion)\n",
    "    e_div1_data_samples[i] = event_percentage(data_btstrp.event_all_first_cell_count_increase_after_cell_type_conversion)\n",
    "    e_div2_data_samples[i] = event_percentage(data_btstrp.event_all_second_cell_count_increase_after_first_cell_count_increase_after_cell_type_conversion)\n",
    "    e_div3_data_samples[i] = event_percentage(data_btstrp.event_all_third_cell_count_increase_after_first_and_second_cell_count_increase_after_cell_type_conversion)\n",
    "    \n",
    "print(np.percentile(e_act_data_samples, 50.0), np.percentile(e_act_data_samples, 2.5), np.percentile(e_act_data_samples, 97.5))\n",
    "print(np.percentile(e_div1_data_samples, 50.0), np.percentile(e_div1_data_samples, 2.5), np.percentile(e_div1_data_samples, 97.5))\n",
    "print(np.percentile(e_div2_data_samples, 50.0), np.percentile(e_div2_data_samples, 2.5), np.percentile(e_div2_data_samples, 97.5))\n",
    "print(np.percentile(e_div3_data_samples, 50.0), np.percentile(e_div3_data_samples, 2.5), np.percentile(e_div3_data_samples, 97.5))"
   ]
  },
  {
   "cell_type": "code",
   "execution_count": 54,
   "metadata": {},
   "outputs": [
    {
     "name": "stdout",
     "output_type": "stream",
     "text": [
      "100 196 588 884\n",
      "784\n"
     ]
    }
   ],
   "source": [
    "res1 = pickle.load(open('estimation_count_data_cd44_filtered_sigma022_minimal2.pickle', 'rb'))\n",
    "res2 = pickle.load(open('estimation_count_data_cd44_filtered_sigma022_par2.pickle', 'rb'))\n",
    "res3 = pickle.load(open('estimation_count_data_cd44_filtered_sigma022_par3.pickle', 'rb'))\n",
    "res = res1 + res2 + res3\n",
    "print(len(res1), len(res2), len(res3), len(res))\n",
    "\n",
    "net_names = [est.net.net_name for est in res]\n",
    "model_probs = me.selection.compute_model_probabilities(res)\n",
    "data = res[0].data\n",
    "print(sum(['alphaF' in name for name in net_names]))"
   ]
  },
  {
   "cell_type": "code",
   "execution_count": 55,
   "metadata": {},
   "outputs": [
    {
     "name": "stdout",
     "output_type": "stream",
     "text": [
      "1.0000000000000184\n",
      "884\n"
     ]
    }
   ],
   "source": [
    "# set model prior to give classes same weight\n",
    "mprior = np.array([0.25] + [0.25/99]*99 + [0.25/196]*196 + [0.25/588]*588)\n",
    "print(sum(mprior))\n",
    "print(len(mprior))"
   ]
  },
  {
   "cell_type": "code",
   "execution_count": 56,
   "metadata": {},
   "outputs": [
    {
     "data": {
      "text/plain": [
       "['A_t', 'M_t']"
      ]
     },
     "execution_count": 56,
     "metadata": {},
     "output_type": "execute_result"
    }
   ],
   "source": [
    "data.data_variables"
   ]
  },
  {
   "cell_type": "code",
   "execution_count": 59,
   "metadata": {
    "collapsed": true,
    "jupyter": {
     "outputs_hidden": true
    }
   },
   "outputs": [
    {
     "name": "stdout",
     "output_type": "stream",
     "text": [
      "0\n",
      "1\n",
      "2\n",
      "3\n",
      "4\n",
      "5\n",
      "6\n",
      "7\n",
      "8\n",
      "9\n",
      "10\n",
      "11\n",
      "12\n",
      "13\n",
      "14\n",
      "15\n",
      "16\n",
      "17\n",
      "18\n",
      "19\n",
      "20\n",
      "21\n",
      "22\n",
      "23\n",
      "24\n",
      "25\n",
      "26\n",
      "27\n",
      "28\n",
      "29\n",
      "30\n",
      "31\n",
      "32\n",
      "33\n",
      "34\n",
      "35\n",
      "36\n",
      "37\n",
      "38\n",
      "39\n",
      "40\n",
      "41\n",
      "42\n",
      "43\n",
      "44\n",
      "45\n",
      "46\n",
      "47\n",
      "48\n",
      "49\n",
      "50\n",
      "51\n",
      "52\n",
      "53\n",
      "54\n",
      "55\n",
      "56\n",
      "57\n",
      "58\n",
      "59\n",
      "60\n",
      "61\n",
      "62\n",
      "63\n",
      "64\n",
      "65\n",
      "66\n",
      "67\n",
      "68\n",
      "69\n",
      "70\n",
      "71\n",
      "72\n",
      "73\n",
      "74\n",
      "75\n",
      "76\n",
      "77\n",
      "78\n",
      "79\n",
      "80\n",
      "81\n",
      "82\n",
      "83\n",
      "84\n",
      "85\n",
      "86\n",
      "87\n",
      "88\n",
      "89\n",
      "90\n",
      "91\n",
      "92\n",
      "93\n",
      "94\n",
      "95\n",
      "96\n",
      "97\n",
      "98\n",
      "99\n",
      "[ 0.  0. 49. 51.]\n"
     ]
    }
   ],
   "source": [
    "# paper run should be like: res, 1000, 500, mprior\n",
    "(e_act_model_samples, e_div1_model_samples,\n",
    "    e_div2_model_samples, e_div3_model_samples) = event_model_samples(\n",
    "                                            res, 100, 50, mprior) # 1000, 500"
   ]
  },
  {
   "cell_type": "code",
   "execution_count": 60,
   "metadata": {},
   "outputs": [
    {
     "data": {
      "image/png": "[encoded data removed]",
      "text/plain": [
       "<Figure size 72x43.2 with 1 Axes>"
      ]
     },
     "metadata": {
      "needs_background": "light"
     },
     "output_type": "display_data"
    }
   ],
   "source": [
    "# plot copied from plot comment (fig_dots_w_mult_bars)\n",
    "val_obj = np.array([\n",
    "        np.array([[e_act_data, e_act_data - np.percentile(e_act_data_samples, 2.5), np.percentile(e_act_data_samples, 97.5) - e_act_data], \n",
    "                  [np.percentile(e_act_model_samples, 50.0), np.percentile(e_act_model_samples, 50.0) - np.percentile(e_act_model_samples, 2.5), np.percentile(e_act_model_samples, 97.5) - np.percentile(e_act_model_samples, 50.0)]]),\n",
    "        np.array([[e_div1_data, e_div1_data - np.percentile(e_div1_data_samples, 2.5), np.percentile(e_div1_data_samples, 97.5) - e_div1_data], \n",
    "                  [np.percentile(e_div1_model_samples, 50.0), np.percentile(e_div1_model_samples, 50.0) - np.percentile(e_div1_model_samples, 2.5), np.percentile(e_div1_model_samples, 97.5) - np.percentile(e_div1_model_samples, 50.0)]]),\n",
    "        np.array([[e_div2_data, e_div2_data - np.percentile(e_div2_data_samples, 2.5), np.percentile(e_div2_data_samples, 97.5) - e_div2_data], \n",
    "                  [np.percentile(e_div2_model_samples, 50.0), np.percentile(e_div2_model_samples, 50.0) - np.percentile(e_div2_model_samples, 2.5), np.percentile(e_div2_model_samples, 97.5) - np.percentile(e_div2_model_samples, 50.0)]]),\n",
    "        np.array([[e_div3_data, e_div3_data - np.percentile(e_div3_data_samples, 2.5), np.percentile(e_div3_data_samples, 97.5) - e_div3_data], \n",
    "                  [np.percentile(e_div3_model_samples, 50.0), np.percentile(e_div3_model_samples, 50.0) - np.percentile(e_div3_model_samples, 2.5), np.percentile(e_div3_model_samples, 97.5) - np.percentile(e_div3_model_samples, 50.0)]])\n",
    "        ], dtype=object)\n",
    "\n",
    "attributes = {0: ('Activation', [cwact, cwact]),\n",
    "              1: ('Division 1', [cwdiv, cwdiv]),\n",
    "              2: ('Division 2', [cwdiv, cwdiv]),\n",
    "              3: ('Division 3', [cwdiv, cwdiv])}\n",
    "\n",
    "legend_attr = [('blue', 'x'), ('limegreen', 'y'), ('red', 'z')]\n",
    "\n",
    "# initialise figure and axis settings\n",
    "plt.rcParams.update({'figure.figsize': (1.0, 0.6)})\n",
    "\n",
    "plt.figure()\n",
    "\n",
    "ax = plt.gca()\n",
    "ax.spines['top'].set_visible(False)\n",
    "ax.spines['right'].set_visible(False)\n",
    "ax.spines['bottom'].set_visible(True)\n",
    "ax.spines['left'].set_visible(True)\n",
    "\n",
    "# actual plotting\n",
    "for val_ind in range(val_obj.shape[0]):\n",
    "    color_list = attributes[val_ind][1]\n",
    "    dots_per_categ = val_obj[val_ind].shape[0]\n",
    "\n",
    "    if dots_per_categ == 1:\n",
    "        x_pos = [val_ind + 1]\n",
    "    elif dots_per_categ == 2:\n",
    "        x_pos = [val_ind + 1 - 0.2, val_ind + 1 + 0.2]\n",
    "    elif dots_per_categ == 3:\n",
    "        x_pos = [val_ind + 1 - 0.2, val_ind + 1, val_ind + 1 + 0.2]\n",
    "\n",
    "    for dot_ind in range(dots_per_categ):\n",
    "        plt.errorbar(x_pos[dot_ind], val_obj[val_ind][dot_ind, 0],\n",
    "                    yerr=val_obj[val_ind][dot_ind, 1:].reshape(2,1),\n",
    "                    fmt='^' if dot_ind==0 else 'o', capsize=1, elinewidth=0.7, markeredgewidth=0.7,\n",
    "                    markersize=2, markeredgecolor=color_list[dot_ind],\n",
    "                    color=color_list[dot_ind], ecolor='lightgrey', zorder=1000,\n",
    "                    label=['Data', 'Model'][dot_ind] if val_ind==0 else None)\n",
    "\n",
    "# add x axis ticks\n",
    "plt.xticks([val_ind + 1 for val_ind in range(val_obj.shape[0])],\n",
    "                [attributes[val_ind][0] for val_ind in range(val_obj.shape[0])], rotation=55)\n",
    "\n",
    "# add legend manually\n",
    "# plt.legend(handles=[mpatches.Patch(color=leg[0], label=leg[1]) for leg in legend_attr])\n",
    "plt.legend(frameon=False, loc='upper right')\n",
    "\n",
    "plt.ylim(0, 100) # ylim(35, 90)\n",
    "plt.ylabel('% Microwells')\n",
    "plt.savefig('paper_figures/event_analysis_01.pdf', bbox_inches='tight')"
   ]
  },
  {
   "cell_type": "markdown",
   "metadata": {},
   "source": [
    "###### Model results"
   ]
  },
  {
   "cell_type": "markdown",
   "metadata": {},
   "source": [
    "###### minimal model results (Markov+Erlang)"
   ]
  },
  {
   "cell_type": "code",
   "execution_count": 44,
   "metadata": {},
   "outputs": [],
   "source": [
    "res = pickle.load(open('estimation_count_data_cd44_filtered_sigma022_minimal2.pickle', 'rb'))"
   ]
  },
  {
   "cell_type": "code",
   "execution_count": 45,
   "metadata": {},
   "outputs": [
    {
     "name": "stdout",
     "output_type": "stream",
     "text": [
      "[0.18272765 0.14429028 0.12217465 0.12149598 0.09271162 0.08242424\n",
      " 0.07710956 0.05135136 0.04544007 0.03066247]\n",
      "[209.00325377 208.76708408 208.60070853 208.59513817 208.32475081\n",
      " 208.2071365  208.14048421 207.73394843 207.61165134 207.21829648]\n",
      "['net_3_20' 'net_3_19' 'net_3_17' 'net_3_18' 'net_3_16' 'net_3_15'\n",
      " 'net_3_14' 'net_3_13' 'net_3_12' 'net_3_11']\n"
     ]
    }
   ],
   "source": [
    "net_names = [est.net.net_name for est in res]\n",
    "model_probs = me.selection.compute_model_probabilities(res)\n",
    "log_evids = [est.bay_est_log_evidence for est in res]\n",
    "\n",
    "sort_inds = np.array(- model_probs).argsort()\n",
    "net_names_sorted = np.array(net_names)[sort_inds]\n",
    "model_probs_sorted = np.array(model_probs)[sort_inds]\n",
    "log_evids_sorted = np.array(log_evids)[sort_inds]\n",
    "\n",
    "print(model_probs_sorted[:10])\n",
    "print(log_evids_sorted[:10])\n",
    "print(net_names_sorted[:10])"
   ]
  },
  {
   "cell_type": "code",
   "execution_count": 46,
   "metadata": {},
   "outputs": [
    {
     "name": "stdout",
     "output_type": "stream",
     "text": [
      "net_1_1 -238.59155040972584\n"
     ]
    }
   ],
   "source": [
    "print(res[0].net.net_name, res[0].bay_est_log_evidence)"
   ]
  },
  {
   "cell_type": "code",
   "execution_count": 35,
   "metadata": {
    "jupyter": {
     "source_hidden": true
    }
   },
   "outputs": [],
   "source": [
    "# # looks all good (compare run with a newer memopy version)\n",
    "# res_compare = pickle.load(open('estimation_count_data_cd44_filtered_sigma022_minimal2_multiedge.pickle', 'rb'))\n",
    "# print([est.net.net_name for est in res] == [est.net.net_name for est in res_compare])\n",
    "# print(np.all(np.array([est.data_mean_values for est in res]) == np.array([est.data_mean_values for est in res_compare])))\n",
    "# print(np.all(np.array([est.data_var_values for est in res]) == np.array([est.data_var_values for est in res_compare])))\n",
    "# print(np.all(np.array([est.data_cov_values for est in res]) == np.array([est.data_cov_values for est in res_compare])))\n",
    "# print([est.bay_log_likelihood_norm for est in res] == [est.bay_log_likelihood_norm for est in res_compare])\n",
    "# print([est.net_simulation.sim_moments.moment_eqs for est in res] == [est.net_simulation.sim_moments.moment_eqs for est in res_compare])\n",
    "# print([est.net_simulation.sim_moments.moment_eqs_template_str for est in res] == [est.net_simulation.sim_moments.moment_eqs_template_str for est in res_compare])\n",
    "\n",
    "# plt.figure()\n",
    "# plt.scatter([est.bay_est_log_evidence for est in res], [est.bay_est_log_evidence for est in res_compare])\n",
    "\n",
    "# print(stats.pearsonr([est.bay_est_log_evidence for est in res], [est.bay_est_log_evidence for est in res_compare]))\n",
    "# print(stats.spearmanr([est.bay_est_log_evidence for est in res], [est.bay_est_log_evidence for est in res_compare]))\n",
    "\n",
    "# plt.figure()\n",
    "# plt.scatter([est.bay_est_log_likelihood_max for est in res], [est.bay_est_log_likelihood_max for est in res_compare])\n",
    "# res[0].bay_est_log_likelihood_max\n",
    "# print(stats.pearsonr([est.bay_est_log_likelihood_max for est in res], [est.bay_est_log_likelihood_max for est in res_compare]))\n",
    "# print(stats.spearmanr([est.bay_est_log_likelihood_max for est in res], [est.bay_est_log_likelihood_max for est in res_compare]))\n",
    "\n",
    "# for est1, est2 in zip(res, res_compare):\n",
    "# #     print(est1.net.net_name, est1.bay_est_log_evidence, est2.bay_est_log_evidence)\n",
    "#     print(est1.net.net_name, est1.bay_est_log_likelihood_max, est2.bay_est_log_likelihood_max)"
   ]
  },
  {
   "cell_type": "code",
   "execution_count": 5,
   "metadata": {},
   "outputs": [
    {
     "data": {
      "image/png": "[encoded data removed]",
      "text/plain": [
       "<Figure size 216x360 with 2 Axes>"
      ]
     },
     "metadata": {
      "needs_background": "light"
     },
     "output_type": "display_data"
    }
   ],
   "source": [
    "steps_list = range(1, 11) # 11, 21\n",
    "\n",
    "steps_lambda = range(1, 21) # range(1, 21) # [5, 10, 15, 20, 25, 30, 35, 40, 50, 60, 70, 80]\n",
    "steps_alpha = range(1, 6) # range(4, 8) # [3]\n",
    "rows = [fr'$(\\lambda, {i})$' for i in steps_lambda] # steps_list # range(1, 21)]\n",
    "cols = [fr'$(\\alpha, {i})$' for i in steps_alpha] # steps_list # range(1, 6)]\n",
    "\n",
    "model_probs_2d = np.zeros((len(rows), len(cols)))\n",
    "\n",
    "for i, row_step in enumerate(rows):\n",
    "    for j, col_step in enumerate(cols):\n",
    "        name = f'net_{steps_alpha[j]}_{steps_lambda[i]}'\n",
    "        net_index = net_names.index(name)\n",
    "        model_probs_2d[i, j] = model_probs[net_index]\n",
    "\n",
    "df = pd.DataFrame(model_probs_2d * 100.0, index=rows, columns=cols)\n",
    "\n",
    "plt.figure(figsize=(3, 5)) # 8, 4 or 6, 8\n",
    "sns.heatmap(df, cmap='cividis', annot=True, fmt='.1f') # 'plasma' # annot=True\n",
    "plt.yticks(rotation=0, va='center')\n",
    "plt.savefig('paper_figures/model_probs_cd44_minimal2.pdf')"
   ]
  },
  {
   "cell_type": "code",
   "execution_count": 6,
   "metadata": {},
   "outputs": [
    {
     "name": "stdout",
     "output_type": "stream",
     "text": [
      "0\n",
      "59\n"
     ]
    }
   ],
   "source": [
    "print(net_names.index('net_1_1'))\n",
    "print(net_names.index('net_3_20'))"
   ]
  },
  {
   "cell_type": "code",
   "execution_count": 7,
   "metadata": {},
   "outputs": [
    {
     "data": {
      "image/png": "[encoded data removed]",
      "text/plain": [
       "<Figure size 86.4x57.6 with 1 Axes>"
      ]
     },
     "metadata": {
      "needs_background": "light"
     },
     "output_type": "display_data"
    },
    {
     "data": {
      "image/png": "[encoded data removed]",
      "text/plain": [
       "<Figure size 86.4x57.6 with 1 Axes>"
      ]
     },
     "metadata": {
      "needs_background": "light"
     },
     "output_type": "display_data"
    },
    {
     "data": {
      "image/png": "[encoded data removed]",
      "text/plain": [
       "<Figure size 86.4x57.6 with 1 Axes>"
      ]
     },
     "metadata": {
      "needs_background": "light"
     },
     "output_type": "display_data"
    }
   ],
   "source": [
    "est = res[0]\n",
    "\n",
    "plt.rcParams.update({'figure.figsize': (1.2, 0.8)})\n",
    "settings = {\n",
    "    'A_t': {'label': 'E$(A_t)$', 'color': cactiv},\n",
    "    'M_t': {'label': 'E$(M_t)$', 'color': cnaive}\n",
    "}\n",
    "me.plots.est_bestfit_mean_plot(est, x_label='Time (hours)', save='paper_figures/fit_cd44_mean_net_1_1.pdf', settings=settings)\n",
    "\n",
    "settings = {\n",
    "    ('A_t', 'A_t'): {'label': 'Var$(A_t)$', 'color': cactiv},\n",
    "    ('M_t', 'M_t'): {'label': 'Var$(M_t)$', 'color': cnaive}\n",
    "}\n",
    "me.plots.est_bestfit_variance_plot(est, x_label='Time (hours)', save='paper_figures/fit_cd44_var_net_1_1.pdf', settings=settings)\n",
    "\n",
    "settings = {\n",
    "    ('A_t', 'M_t'): {'label': 'Cov $(M_t, A_t)$', 'color': grey}\n",
    "}\n",
    "me.plots.est_bestfit_covariance_plot(est, x_label='Time (hours)', save='paper_figures/fit_cd44_cov_net_1_1.pdf', settings=settings)"
   ]
  },
  {
   "cell_type": "code",
   "execution_count": 8,
   "metadata": {},
   "outputs": [
    {
     "data": {
      "image/png": "[encoded data removed]",
      "text/plain": [
       "<Figure size 396x396 with 4 Axes>"
      ]
     },
     "metadata": {
      "needs_background": "light"
     },
     "output_type": "display_data"
    }
   ],
   "source": [
    "me.plots.est_corner_kernel_plot(est, save='paper_figures/post_cd44_cov_net_1_1.pdf')"
   ]
  },
  {
   "cell_type": "code",
   "execution_count": 9,
   "metadata": {},
   "outputs": [
    {
     "data": {
      "image/png": "[encoded data removed]",
      "text/plain": [
       "<Figure size 86.4x57.6 with 1 Axes>"
      ]
     },
     "metadata": {
      "needs_background": "light"
     },
     "output_type": "display_data"
    },
    {
     "data": {
      "image/png": "[encoded data removed]",
      "text/plain": [
       "<Figure size 86.4x57.6 with 1 Axes>"
      ]
     },
     "metadata": {
      "needs_background": "light"
     },
     "output_type": "display_data"
    },
    {
     "data": {
      "image/png": "[encoded data removed]",
      "text/plain": [
       "<Figure size 86.4x57.6 with 1 Axes>"
      ]
     },
     "metadata": {
      "needs_background": "light"
     },
     "output_type": "display_data"
    }
   ],
   "source": [
    "est = res[59]\n",
    "\n",
    "plt.rcParams.update({'figure.figsize': (1.2, 0.8)})\n",
    "\n",
    "settings = {\n",
    "    'A_t': {'label': 'E$(A_t)$', 'color': cactiv},\n",
    "    'M_t': {'label': 'E$(M_t)$', 'color': cnaive}\n",
    "}\n",
    "me.plots.est_bestfit_mean_plot(est, x_label='Time (hours)', save='paper_figures/fit_cd44_mean_net_3_20.pdf', settings=settings)\n",
    "\n",
    "settings = {\n",
    "    ('A_t', 'A_t'): {'label': 'Var$(A_t)$', 'color': cactiv},\n",
    "    ('M_t', 'M_t'): {'label': 'Var$(M_t)$', 'color': cnaive}\n",
    "}\n",
    "me.plots.est_bestfit_variance_plot(est, x_label='Time (hours)', save='paper_figures/fit_cd44_var_net_3_20.pdf', settings=settings)\n",
    "\n",
    "settings = {\n",
    "    ('A_t', 'M_t'): {'label': 'Cov$(M_t, A_t)$', 'color': grey}\n",
    "}\n",
    "me.plots.est_bestfit_covariance_plot(est, x_label='Time (hours)', save='paper_figures/fit_cd44_cov_net_3_20.pdf', settings=settings)"
   ]
  },
  {
   "cell_type": "code",
   "execution_count": 10,
   "metadata": {},
   "outputs": [
    {
     "data": {
      "image/png": "[encoded data removed]",
      "text/plain": [
       "<Figure size 396x396 with 4 Axes>"
      ]
     },
     "metadata": {
      "needs_background": "light"
     },
     "output_type": "display_data"
    }
   ],
   "source": [
    "me.plots.est_corner_kernel_plot(est, save='paper_figures/post_cd44_cov_net_3_20.pdf')"
   ]
  },
  {
   "cell_type": "markdown",
   "metadata": {},
   "source": [
    "###### par2 model results"
   ]
  },
  {
   "cell_type": "code",
   "execution_count": 61,
   "metadata": {},
   "outputs": [],
   "source": [
    "res = pickle.load(open('estimation_count_data_cd44_filtered_sigma022_par2.pickle', 'rb'))\n",
    "net_names = [est.net.net_name for est in res]\n",
    "model_probs = me.selection.compute_model_probabilities(res)\n",
    "log_evids = [est.bay_est_log_evidence for est in res]"
   ]
  },
  {
   "cell_type": "code",
   "execution_count": 62,
   "metadata": {},
   "outputs": [
    {
     "name": "stdout",
     "output_type": "stream",
     "text": [
      "[0.16041234 0.14731096 0.12033573 0.07169009 0.06220498 0.05454845\n",
      " 0.04882659 0.0451057  0.04057099 0.03888146]\n",
      "[236.39212288 236.30692095 236.10466079 235.58672775 235.44481028\n",
      " 235.31346452 235.2026502  235.12338391 235.01742845 234.97489285]\n",
      "['net_alphaF6_alphaS8_lambda18' 'net_alphaF6_alphaS8_lambda14'\n",
      " 'net_alphaF6_alphaS8_lambda10' 'net_alphaF6_alphaS10_lambda18'\n",
      " 'net_alphaF6_alphaS8_lambda8' 'net_alphaF6_alphaS10_lambda14'\n",
      " 'net_alphaF6_alphaS10_lambda10' 'net_alphaF6_alphaS14_lambda14'\n",
      " 'net_alphaF6_alphaS14_lambda18' 'net_alphaF6_alphaS14_lambda10']\n"
     ]
    }
   ],
   "source": [
    "sort_inds = np.array(- model_probs).argsort()\n",
    "net_names_sorted = np.array(net_names)[sort_inds]\n",
    "model_probs_sorted = np.array(model_probs)[sort_inds]\n",
    "log_evids_sorted = np.array(log_evids)[sort_inds]\n",
    "\n",
    "print(model_probs_sorted[:10])\n",
    "print(log_evids_sorted[:10])\n",
    "print(net_names_sorted[:10])"
   ]
  },
  {
   "cell_type": "code",
   "execution_count": 63,
   "metadata": {},
   "outputs": [
    {
     "name": "stdout",
     "output_type": "stream",
     "text": [
      "104 net_alphaF6_alphaS8_lambda18\n"
     ]
    },
    {
     "data": {
      "text/plain": [
       "236.3921228756776"
      ]
     },
     "execution_count": 63,
     "metadata": {},
     "output_type": "execute_result"
    }
   ],
   "source": [
    "est_i = list(model_probs).index(max(model_probs))\n",
    "print(est_i, net_names[est_i])\n",
    "est = res[est_i]\n",
    "est.bay_est_log_evidence"
   ]
  },
  {
   "cell_type": "code",
   "execution_count": 35,
   "metadata": {},
   "outputs": [],
   "source": [
    "# repair est object due to new memopy version\n",
    "est.net_simulation_credible_band_exists = False\n",
    "est.data.data_mean_exists_only = False"
   ]
  },
  {
   "cell_type": "code",
   "execution_count": 36,
   "metadata": {},
   "outputs": [
    {
     "data": {
      "image/png": "[encoded data removed]",
      "text/plain": [
       "<Figure size 86.4x57.6 with 1 Axes>"
      ]
     },
     "metadata": {
      "needs_background": "light"
     },
     "output_type": "display_data"
    },
    {
     "data": {
      "image/png": "[encoded data removed]",
      "text/plain": [
       "<Figure size 86.4x57.6 with 1 Axes>"
      ]
     },
     "metadata": {
      "needs_background": "light"
     },
     "output_type": "display_data"
    },
    {
     "data": {
      "image/png": "[encoded data removed]",
      "text/plain": [
       "<Figure size 86.4x57.6 with 1 Axes>"
      ]
     },
     "metadata": {
      "needs_background": "light"
     },
     "output_type": "display_data"
    }
   ],
   "source": [
    "plt.rcParams.update({'figure.figsize': (1.2, 0.8)})\n",
    "\n",
    "settings = {\n",
    "    'A_t': {'label': 'E$(A_t)$', 'color': cactiv},\n",
    "    'M_t': {'label': 'E$(M_t)$', 'color': cnaive}\n",
    "}\n",
    "me.plots.est_bestfit_mean_plot(est, x_label='Time (hours)', save='paper_figures/fit_cd44_mean_net_alphaF6_alphaS8_lambda18.pdf', settings=settings)\n",
    "\n",
    "settings = {\n",
    "    ('A_t', 'A_t'): {'label': 'Var$(A_t)$', 'color': cactiv},\n",
    "    ('M_t', 'M_t'): {'label': 'Var$(M_t)$', 'color': cnaive}\n",
    "}\n",
    "me.plots.est_bestfit_variance_plot(est, x_label='Time (hours)', save='paper_figures/fit_cd44_var_net_alphaF6_alphaS8_lambda18.pdf', settings=settings)\n",
    "\n",
    "settings = {\n",
    "    ('A_t', 'M_t'): {'label': 'Cov$(M_t, A_t)$', 'color': grey}\n",
    "}\n",
    "me.plots.est_bestfit_covariance_plot(est, x_label='Time (hours)', save='paper_figures/fit_cd44_cov_net_alphaF6_alphaS8_lambda18.pdf', settings=settings)"
   ]
  },
  {
   "cell_type": "code",
   "execution_count": 37,
   "metadata": {},
   "outputs": [
    {
     "data": {
      "image/png": "[encoded data removed]",
      "text/plain": [
       "<Figure size 547.2x547.2 with 9 Axes>"
      ]
     },
     "metadata": {
      "needs_background": "light"
     },
     "output_type": "display_data"
    }
   ],
   "source": [
    "me.plots.est_corner_kernel_plot(est, save='paper_figures/post_cd44_net_alphaF6_alphaS8_lambda18.pdf')"
   ]
  },
  {
   "cell_type": "code",
   "execution_count": 64,
   "metadata": {},
   "outputs": [
    {
     "name": "stdout",
     "output_type": "stream",
     "text": [
      "0.9999999999999956\n",
      "196\n"
     ]
    }
   ],
   "source": [
    "# set model prior to give classes same weight\n",
    "mprior = np.array([1/len(res)]*len(res))\n",
    "print(sum(mprior))\n",
    "print(len(mprior))"
   ]
  },
  {
   "cell_type": "code",
   "execution_count": 68,
   "metadata": {
    "collapsed": true,
    "jupyter": {
     "outputs_hidden": true
    }
   },
   "outputs": [
    {
     "name": "stdout",
     "output_type": "stream",
     "text": [
      "0\n",
      "1\n",
      "2\n",
      "3\n",
      "4\n",
      "5\n",
      "6\n",
      "7\n",
      "8\n",
      "9\n",
      "10\n",
      "11\n",
      "12\n",
      "13\n",
      "14\n",
      "15\n",
      "16\n",
      "17\n",
      "18\n",
      "19\n",
      "20\n",
      "21\n",
      "22\n",
      "23\n",
      "24\n",
      "25\n",
      "26\n",
      "27\n",
      "28\n",
      "29\n",
      "30\n",
      "31\n",
      "32\n",
      "33\n",
      "34\n",
      "35\n",
      "36\n",
      "37\n",
      "38\n",
      "39\n",
      "40\n",
      "41\n",
      "42\n",
      "43\n",
      "44\n",
      "45\n",
      "46\n",
      "47\n",
      "48\n",
      "49\n",
      "50\n",
      "51\n",
      "52\n",
      "53\n",
      "54\n",
      "55\n",
      "56\n",
      "57\n",
      "58\n",
      "59\n",
      "60\n",
      "61\n",
      "62\n",
      "63\n",
      "64\n",
      "65\n",
      "66\n",
      "67\n",
      "68\n",
      "69\n",
      "70\n",
      "71\n",
      "72\n",
      "73\n",
      "74\n",
      "75\n",
      "76\n",
      "77\n",
      "78\n",
      "79\n",
      "80\n",
      "81\n",
      "82\n",
      "83\n",
      "84\n",
      "85\n",
      "86\n",
      "87\n",
      "88\n",
      "89\n",
      "90\n",
      "91\n",
      "92\n",
      "93\n",
      "94\n",
      "95\n",
      "96\n",
      "97\n",
      "98\n",
      "99\n",
      "[  0.   0. 100.   0.]\n"
     ]
    }
   ],
   "source": [
    "# res = [est]\n",
    "celltype = 0 # 0 or 1 (active, naive)\n",
    "time_point = -1 # last time point\n",
    "sample_n = 100 # 1000 # posterior samples of cell histograms; typically 1000-10000\n",
    "sim_n = 50 # 500 # simulation repeats per given model and theta; ideally, inf\n",
    "count_max = 16\n",
    "y = hist_cell_counts_samples(res, celltype, time_point, sample_n, count_max, sim_n, mprior)"
   ]
  },
  {
   "cell_type": "code",
   "execution_count": 69,
   "metadata": {},
   "outputs": [
    {
     "name": "stdout",
     "output_type": "stream",
     "text": [
      "(16, 100)\n"
     ]
    }
   ],
   "source": [
    "print(y.shape)\n",
    "y_95_lower = np.percentile(y, 2.5, axis=1)\n",
    "y_median = np.percentile(y, 50.0, axis=1)\n",
    "y_95_upper = np.percentile(y, 97.5, axis=1)"
   ]
  },
  {
   "cell_type": "code",
   "execution_count": 67,
   "metadata": {},
   "outputs": [
    {
     "data": {
      "image/png": "[encoded data removed]",
      "text/plain": [
       "<Figure size 57.6x57.6 with 1 Axes>"
      ]
     },
     "metadata": {
      "needs_background": "light"
     },
     "output_type": "display_data"
    }
   ],
   "source": [
    "# compute model histogram over all models\n",
    "plt.rcParams.update({'figure.figsize': (0.8, 0.8)})\n",
    "ax = plt.gca()\n",
    "ax.spines['top'].set_visible(False)\n",
    "ax.spines['right'].set_visible(False)\n",
    "ax.spines['bottom'].set_visible(True)\n",
    "ax.spines['left'].set_visible(True)\n",
    "\n",
    "linelow = 44*y_95_lower/sim_n\n",
    "line = 44*y_median/sim_n\n",
    "lineupp = 44*y_95_upper/sim_n\n",
    "errlow = line-linelow\n",
    "errupp = lineupp-line\n",
    "\n",
    "# plt.fill_between(range(count_max), linelow, line, color=cnaive, alpha=0.2, linewidth=0.0, zorder=100)\n",
    "# plt.plot(range(count_max), line, color=cnaive, zorder=200, linewidth=1.0)\n",
    "# plt.fill_between(range(count_max), line, lineupp, color=cnaive, alpha=0.2, linewidth=0.0, zorder=100,\n",
    "#                 label='Models')\n",
    "cutplot = 3\n",
    "plt.errorbar(list(range(count_max))[:cutplot], line[:cutplot], yerr=np.array([errlow, errupp])[:, :cutplot],\n",
    "            color=cnaive, linewidth=1.0, capsize=1.0,\n",
    "             zorder=100, markersize=2, fmt='.', label='Model')\n",
    "\n",
    "plt.hist(res[0].data.data_counts[:, 1, -1], bins=np.linspace(-0.5, 9.5, num=11), \n",
    "         color='black', alpha=0.1, label='Data')\n",
    "plt.xticks([0, 1, 2])\n",
    "plt.xlim(None, 3)\n",
    "plt.ylim(-1.5, None)\n",
    "plt.xlabel('Cell number (54 hours)')\n",
    "plt.ylabel('Probability')\n",
    "plt.legend()\n",
    "plt.savefig(f'paper_figures/hist_cd44_naive_688_par2.pdf', bbox_inches='tight') # _thin4"
   ]
  },
  {
   "cell_type": "code",
   "execution_count": 70,
   "metadata": {},
   "outputs": [
    {
     "data": {
      "image/png": "[encoded data removed]",
      "text/plain": [
       "<Figure size 57.6x57.6 with 1 Axes>"
      ]
     },
     "metadata": {
      "needs_background": "light"
     },
     "output_type": "display_data"
    }
   ],
   "source": [
    "# compute model histogram over all models\n",
    "plt.rcParams.update({'figure.figsize': (0.8, 0.8)})\n",
    "ax = plt.gca()\n",
    "ax.spines['top'].set_visible(False)\n",
    "ax.spines['right'].set_visible(False)\n",
    "ax.spines['bottom'].set_visible(True)\n",
    "ax.spines['left'].set_visible(True)\n",
    "\n",
    "linelow = 44*y_95_lower/sim_n\n",
    "line = 44*y_median/sim_n\n",
    "lineupp = 44*y_95_upper/sim_n\n",
    "errlow = line-linelow\n",
    "errupp = lineupp-line\n",
    "\n",
    "# plt.fill_between(range(count_max), linelow, line, color=cactiv, alpha=0.2, linewidth=0.0, zorder=100)\n",
    "# plt.plot(range(count_max), line, color=cactiv, zorder=200, linewidth=1.0)\n",
    "# plt.fill_between(range(count_max), line, lineupp, color=cactiv, alpha=0.2, linewidth=0.0, zorder=100,\n",
    "#                 label='Model')\n",
    "cutplot = 10\n",
    "plt.errorbar(list(range(count_max))[:cutplot], line[:cutplot], \n",
    "             yerr=np.array([errlow, errupp])[:, :cutplot],\n",
    "            color=cactiv, linewidth=1.0, capsize=1.0,\n",
    "             zorder=100, markersize=2, fmt='.', label='Model')\n",
    "\n",
    "plt.hist(res[0].data.data_counts[:, 0, -1], bins=np.linspace(-0.5, 9.5, num=11), \n",
    "         color='black', alpha=0.1, label='Data')\n",
    "\n",
    "plt.xlim(-1, 10)\n",
    "plt.xlabel('Cell number (54 hours)')\n",
    "plt.ylabel('Probability')\n",
    "plt.legend()\n",
    "plt.savefig(f'paper_figures/hist_cd44_active_688_par2.pdf', bbox_inches='tight') # _thin4"
   ]
  },
  {
   "cell_type": "markdown",
   "metadata": {},
   "source": [
    "###### par1+i results"
   ]
  },
  {
   "cell_type": "code",
   "execution_count": 71,
   "metadata": {},
   "outputs": [],
   "source": [
    "res = pickle.load(open('estimation_count_data_cd44_filtered_sigma022_par1+i.pickle', 'rb'))\n",
    "net_names = [est.net.net_name for est in res]\n",
    "model_probs = me.selection.compute_model_probabilities(res)\n",
    "log_evids = [est.bay_est_log_evidence for est in res]"
   ]
  },
  {
   "cell_type": "code",
   "execution_count": 72,
   "metadata": {},
   "outputs": [
    {
     "name": "stdout",
     "output_type": "stream",
     "text": [
      "[0.3533542  0.25585811 0.22070271 0.11522469 0.04477144 0.00233376\n",
      " 0.00177736 0.00168872 0.00157189 0.00150213]\n",
      "[234.83804384 234.51519592 234.36738946 233.71745691 232.77214335\n",
      " 229.81805518 229.54569958 229.49454366 229.42285088 229.37745537]\n",
      "['net_6_18' 'net_6_14' 'net_6_10' 'net_6_8' 'net_6_6' 'net_8_10' 'net_8_8'\n",
      " 'net_8_14' 'net_8_18' 'net_6_4']\n"
     ]
    }
   ],
   "source": [
    "sort_inds = np.array(- model_probs).argsort()\n",
    "net_names_sorted = np.array(net_names)[sort_inds]\n",
    "model_probs_sorted = np.array(model_probs)[sort_inds]\n",
    "log_evids_sorted = np.array(log_evids)[sort_inds]\n",
    "\n",
    "print(model_probs_sorted[:10])\n",
    "print(log_evids_sorted[:10])\n",
    "print(net_names_sorted[:10])"
   ]
  },
  {
   "cell_type": "code",
   "execution_count": 73,
   "metadata": {},
   "outputs": [
    {
     "name": "stdout",
     "output_type": "stream",
     "text": [
      "31 net_6_18\n"
     ]
    }
   ],
   "source": [
    "est_i = list(model_probs).index(max(model_probs))\n",
    "print(est_i, net_names[est_i])\n",
    "est = res[est_i]\n",
    "est.bay_est_log_evidence\n",
    "\n",
    "# repair data object (data object is from older memopy version)\n",
    "est.data.data_mean_exists_only = False"
   ]
  },
  {
   "cell_type": "code",
   "execution_count": 42,
   "metadata": {},
   "outputs": [
    {
     "data": {
      "image/png": "[encoded data removed]",
      "text/plain": [
       "<Figure size 86.4x57.6 with 1 Axes>"
      ]
     },
     "metadata": {
      "needs_background": "light"
     },
     "output_type": "display_data"
    },
    {
     "data": {
      "image/png": "[encoded data removed]",
      "text/plain": [
       "<Figure size 86.4x57.6 with 1 Axes>"
      ]
     },
     "metadata": {
      "needs_background": "light"
     },
     "output_type": "display_data"
    },
    {
     "data": {
      "image/png": "[encoded data removed]",
      "text/plain": [
       "<Figure size 86.4x57.6 with 1 Axes>"
      ]
     },
     "metadata": {
      "needs_background": "light"
     },
     "output_type": "display_data"
    }
   ],
   "source": [
    "plt.rcParams.update({'figure.figsize': (1.2, 0.8)})\n",
    "\n",
    "settings = {\n",
    "    'A_t': {'label': 'E$(A_t)$', 'color': cactiv},\n",
    "    'M_t': {'label': 'E$(M_t)$', 'color': cnaive}\n",
    "}\n",
    "me.plots.est_bestfit_mean_plot(est, x_label='Time (hours)', save='paper_figures/fit_cd44_mean_par1+1_net_6_18.pdf', settings=settings)\n",
    "\n",
    "settings = {\n",
    "    ('A_t', 'A_t'): {'label': 'Var$(A_t)$', 'color': cactiv},\n",
    "    ('M_t', 'M_t'): {'label': 'Var$(M_t)$', 'color': cnaive}\n",
    "}\n",
    "me.plots.est_bestfit_variance_plot(est, x_label='Time (hours)', save='paper_figures/fit_cd44_var_par1+1_net_6_18.pdf', settings=settings)\n",
    "\n",
    "settings = {\n",
    "    ('A_t', 'M_t'): {'label': 'Cov$(M_t, A_t)$', 'color': grey}\n",
    "}\n",
    "me.plots.est_bestfit_covariance_plot(est, x_label='Time (hours)', save='paper_figures/fit_cd44_cov_par1+1_net_6_18.pdf', settings=settings)"
   ]
  },
  {
   "cell_type": "code",
   "execution_count": 43,
   "metadata": {},
   "outputs": [
    {
     "data": {
      "image/png": "[encoded data removed]",
      "text/plain": [
       "<Figure size 547.2x547.2 with 9 Axes>"
      ]
     },
     "metadata": {
      "needs_background": "light"
     },
     "output_type": "display_data"
    }
   ],
   "source": [
    "me.plots.est_corner_kernel_plot(est, save='paper_figures/post_cd44_par1+1_net_6_18.pdf')"
   ]
  },
  {
   "cell_type": "code",
   "execution_count": 50,
   "metadata": {},
   "outputs": [
    {
     "name": "stdout",
     "output_type": "stream",
     "text": [
      "[2.87260572e-207 7.01826244e-013 1.16449163e-001 5.50889281e-001\n",
      " 3.32661555e-001]\n",
      "[1.91773371e+206 7.84936850e+011 4.73072769e+000 1.00000000e+000\n",
      " 1.65600525e+000]\n"
     ]
    }
   ],
   "source": [
    "# compute model probs of best models\n",
    "# markov, best erlang, par1+i, par2, par3\n",
    "levids_best_of = np.array([-238.59155040972584, 209.00325377, 234.83804384, 236.3921228756776, 235.88771465])\n",
    "print(me.selection.compute_model_probabilities_from_log_evidences(levids_best_of))\n",
    "print(me.selection.compute_model_bayes_factors_from_log_evidences(levids_best_of))"
   ]
  },
  {
   "cell_type": "code",
   "execution_count": 81,
   "metadata": {},
   "outputs": [
    {
     "data": {
      "text/plain": [
       "array([0.04232   , 0.01262042, 0.07507427])"
      ]
     },
     "execution_count": 81,
     "metadata": {},
     "output_type": "execute_result"
    }
   ],
   "source": [
    "est.bay_est_params_median"
   ]
  },
  {
   "cell_type": "code",
   "execution_count": 61,
   "metadata": {},
   "outputs": [
    {
     "data": {
      "text/plain": [
       "['theta_0', 'theta_1', 'theta_2']"
      ]
     },
     "execution_count": 61,
     "metadata": {},
     "output_type": "execute_result"
    }
   ],
   "source": [
    "est.bay_est_log_evidence\n",
    "est.bay_est_params_median\n",
    "est.net.net_modules\n",
    "est.net.net_theta_symbolic"
   ]
  },
  {
   "cell_type": "code",
   "execution_count": 13,
   "metadata": {},
   "outputs": [
    {
     "name": "stdout",
     "output_type": "stream",
     "text": [
      "64\n",
      "1.0\n"
     ]
    }
   ],
   "source": [
    "data = res[0].data\n",
    "mprior = np.array([1/len(res)]*len(res))\n",
    "print(len(mprior))\n",
    "print(np.sum(mprior))"
   ]
  },
  {
   "cell_type": "code",
   "execution_count": 11,
   "metadata": {},
   "outputs": [
    {
     "name": "stdout",
     "output_type": "stream",
     "text": [
      "[    0. 20000.     0.     0.]\n"
     ]
    }
   ],
   "source": [
    "# idea to compute \"credible bands\" for better visualisation\n",
    "samples = 20000\n",
    "plot_data = True # True or False\n",
    "time_max = 60.0 # 150.0, 54.0\n",
    "x = np.linspace(0.0, time_max, num=200)\n",
    "\n",
    "y = waiting_time_distr_samples_act(x, res, samples, time_max, mprior)"
   ]
  },
  {
   "cell_type": "code",
   "execution_count": 14,
   "metadata": {},
   "outputs": [
    {
     "data": {
      "image/png": "[encoded data removed]",
      "text/plain": [
       "<Figure size 100.8x57.6 with 1 Axes>"
      ]
     },
     "metadata": {
      "needs_background": "light"
     },
     "output_type": "display_data"
    }
   ],
   "source": [
    "y_997_lower = np.percentile(y, 0.15, axis=1)\n",
    "y_95_lower = np.percentile(y, 2.5, axis=1)\n",
    "y_68_lower = np.percentile(y, 16.0, axis=1)\n",
    "y_median = np.percentile(y, 50.0, axis=1)\n",
    "y_68_upper = np.percentile(y, 84.0, axis=1)\n",
    "y_95_upper = np.percentile(y, 97.5, axis=1)\n",
    "y_997_upper = np.percentile(y, 99.85, axis=1)\n",
    "\n",
    "plt.rcParams.update({'figure.figsize': (1.4, 0.8)})\n",
    "plt.figure()\n",
    "ax = plt.gca()\n",
    "ax.spines['top'].set_visible(False)\n",
    "ax.spines['right'].set_visible(False)\n",
    "ax.spines['bottom'].set_visible(True)\n",
    "ax.spines['left'].set_visible(True)\n",
    "\n",
    "# adapted from framework plotting methods\n",
    "if plot_data:\n",
    "    data.events_find_all()\n",
    "    data_act = np.array([tup[1] for tup in data.event_all_first_cell_type_conversion if tup[0]])\n",
    "\n",
    "    plt.hist(data_act - 1e-06, bins=data.data_time_values,\n",
    "             color='black', alpha=0.1,\n",
    "             density=True, histtype='stepfilled')\n",
    "\n",
    "\n",
    "plt.fill_between(x, y_997_lower, y_95_lower, color=cwact, alpha=0.2, linewidth=0.0, zorder=100)\n",
    "plt.fill_between(x, y_95_lower, y_68_lower, color=cwact, alpha=0.4, linewidth=0.0, zorder=100)\n",
    "plt.fill_between(x, y_68_lower, y_median, color=cwact, alpha=0.6, linewidth=0.0, zorder=100)\n",
    "\n",
    "plt.fill_between(x, y_median, y_68_upper, color=cwact, alpha=0.6, linewidth=0.0, zorder=100)\n",
    "plt.fill_between(x, y_68_upper, y_95_upper, color=cwact, alpha=0.4, linewidth=0.0, zorder=100)\n",
    "plt.fill_between(x, y_95_upper, y_997_upper, color=cwact, alpha=0.2, linewidth=0.0, zorder=100)\n",
    "\n",
    "# plt.plot(x, y_hdi_997_lower, color='lightseagreen', lw=2, alpha=0.2)\n",
    "# plt.plot(x, y_hdi_95_lower, color='lightseagreen', lw=2, alpha=0.4)\n",
    "# plt.plot(x, y_hdi_68_lower, color='lightseagreen', lw=2, alpha=0.6)\n",
    "plt.plot(x, y_median, color=cwact, lw=1, zorder=200)\n",
    "# plt.plot(x, y_hdi_68_upper, color='lightseagreen', lw=2, alpha=0.6)\n",
    "# plt.plot(x, y_hdi_95_upper, color='lightseagreen', lw=2, alpha=0.4)\n",
    "# plt.plot(x, y_hdi_997_upper, color='lightseagreen', lw=2, alpha=0.2)\n",
    "\n",
    "plt.ylabel('Probability')\n",
    "plt.xlabel('Activation times (hours)')\n",
    "plt.savefig('paper_figures/waiting_times_act_par1+i.pdf', bbox_inches='tight') # pdf, png"
   ]
  },
  {
   "cell_type": "code",
   "execution_count": 15,
   "metadata": {},
   "outputs": [
    {
     "name": "stdout",
     "output_type": "stream",
     "text": [
      "[    0. 20000.     0.     0.]\n"
     ]
    }
   ],
   "source": [
    "# idea to compute \"credible bands\" for better visualisation\n",
    "samples = 20000\n",
    "plot_data = False # True or False\n",
    "time_max = 60.0 # 150.0, 54.0\n",
    "x = np.linspace(0.0, time_max, num=200)\n",
    "\n",
    "# NOTE: the data we plot here is only from first divisions! (so its not the complete data, \n",
    "# which is inaccessible from the data)\n",
    "\n",
    "y = waiting_time_distr_samples_div(x, res, samples, time_max, mprior)"
   ]
  },
  {
   "cell_type": "code",
   "execution_count": 16,
   "metadata": {},
   "outputs": [
    {
     "data": {
      "image/png": "[encoded data removed]",
      "text/plain": [
       "<Figure size 100.8x57.6 with 1 Axes>"
      ]
     },
     "metadata": {
      "needs_background": "light"
     },
     "output_type": "display_data"
    }
   ],
   "source": [
    "y_997_lower = np.percentile(y, 0.15, axis=1)\n",
    "y_95_lower = np.percentile(y, 2.5, axis=1)\n",
    "y_68_lower = np.percentile(y, 16.0, axis=1)\n",
    "y_median = np.percentile(y, 50.0, axis=1)\n",
    "y_68_upper = np.percentile(y, 84.0, axis=1)\n",
    "y_95_upper = np.percentile(y, 97.5, axis=1)\n",
    "y_997_upper = np.percentile(y, 99.85, axis=1)\n",
    "\n",
    "plt.rcParams.update({'figure.figsize': (1.4, 0.8)})\n",
    "plt.figure()\n",
    "ax = plt.gca()\n",
    "ax.spines['top'].set_visible(False)\n",
    "ax.spines['right'].set_visible(False)\n",
    "ax.spines['bottom'].set_visible(True)\n",
    "ax.spines['left'].set_visible(True)\n",
    "\n",
    "# adapted from framework plotting methods\n",
    "if plot_data:\n",
    "    data.events_find_all()\n",
    "    data_act = np.array([tup[1] for tup in data.event_all_first_cell_count_increase_after_cell_type_conversion if tup[0]])\n",
    "\n",
    "    plt.hist(data_act - 1e-06, bins=data.data_time_values,\n",
    "             color='black', alpha=0.1,\n",
    "             density=True, histtype='stepfilled')\n",
    "    \n",
    "plt.fill_between(x, y_997_lower, y_95_lower, color=cwdiv, alpha=0.2, linewidth=0.0, zorder=100)\n",
    "plt.fill_between(x, y_95_lower, y_68_lower, color=cwdiv, alpha=0.4, linewidth=0.0, zorder=100)\n",
    "plt.fill_between(x, y_68_lower, y_median, color=cwdiv, alpha=0.6, linewidth=0.0, zorder=100)\n",
    "\n",
    "plt.fill_between(x, y_median, y_68_upper, color=cwdiv, alpha=0.6, linewidth=0.0, zorder=100)\n",
    "plt.fill_between(x, y_68_upper, y_95_upper, color=cwdiv, alpha=0.4, linewidth=0.0, zorder=100)\n",
    "plt.fill_between(x, y_95_upper, y_997_upper, color=cwdiv, alpha=0.2, linewidth=0.0, zorder=100)\n",
    "\n",
    "# plt.plot(x, y_hdi_997_lower, color='darkorange', lw=0.5, alpha=0.2)\n",
    "# plt.plot(x, y_hdi_95_lower, color='darkorange', lw=0.5, alpha=0.4)\n",
    "# plt.plot(x, y_hdi_68_lower, color='blue', lw=0.5, alpha=0.6)\n",
    "plt.plot(x, y_median, color=cwdiv, lw=1, zorder=200)\n",
    "# plt.plot(x, y_hdi_68_upper, color='darkorange', lw=0.5, alpha=0.6)\n",
    "# plt.plot(x, y_hdi_95_upper, color='darkorange', lw=0.5, alpha=0.4)\n",
    "# plt.plot(x, y_hdi_997_upper, color='darkorange', lw=0.5, alpha=0.2)\n",
    "\n",
    "plt.ylabel('Probability')\n",
    "plt.xlabel('Division times (hours)')\n",
    "plt.savefig('paper_figures/waiting_times_div.pdf', bbox_inches='tight') # pdf, png"
   ]
  },
  {
   "cell_type": "code",
   "execution_count": 74,
   "metadata": {},
   "outputs": [
    {
     "name": "stdout",
     "output_type": "stream",
     "text": [
      "1.0\n",
      "64\n"
     ]
    }
   ],
   "source": [
    "# set model prior to give classes same weight\n",
    "mprior = np.array([1/len(res)]*len(res))\n",
    "print(sum(mprior))\n",
    "print(len(mprior))"
   ]
  },
  {
   "cell_type": "code",
   "execution_count": 79,
   "metadata": {},
   "outputs": [
    {
     "name": "stdout",
     "output_type": "stream",
     "text": [
      "0\n",
      "1\n",
      "2\n",
      "3\n",
      "4\n",
      "5\n",
      "6\n",
      "7\n",
      "8\n",
      "9\n",
      "10\n",
      "11\n",
      "12\n",
      "13\n",
      "14\n",
      "15\n",
      "16\n",
      "17\n",
      "18\n",
      "19\n",
      "20\n",
      "21\n",
      "22\n",
      "23\n",
      "24\n",
      "25\n",
      "26\n",
      "27\n",
      "28\n",
      "29\n",
      "30\n",
      "31\n",
      "32\n",
      "33\n",
      "34\n",
      "35\n",
      "36\n",
      "37\n",
      "38\n",
      "39\n",
      "40\n",
      "41\n",
      "42\n",
      "43\n",
      "44\n",
      "45\n",
      "46\n",
      "47\n",
      "48\n",
      "49\n",
      "50\n",
      "51\n",
      "52\n",
      "53\n",
      "54\n",
      "55\n",
      "56\n",
      "57\n",
      "58\n",
      "59\n",
      "60\n",
      "61\n",
      "62\n",
      "63\n",
      "64\n",
      "65\n",
      "66\n",
      "67\n",
      "68\n",
      "69\n",
      "70\n",
      "71\n",
      "72\n",
      "73\n",
      "74\n",
      "75\n",
      "76\n",
      "77\n",
      "78\n",
      "79\n",
      "80\n",
      "81\n",
      "82\n",
      "83\n",
      "84\n",
      "85\n",
      "86\n",
      "87\n",
      "88\n",
      "89\n",
      "90\n",
      "91\n",
      "92\n",
      "93\n",
      "94\n",
      "95\n",
      "96\n",
      "97\n",
      "98\n",
      "99\n",
      "[  0. 100.   0.   0.]\n"
     ]
    }
   ],
   "source": [
    "# res = [est]\n",
    "celltype = 0 # 0 or 1 (active, naive)\n",
    "time_point = -1 # last time point\n",
    "sample_n = 100 # 1000 # posterior samples of cell histograms; typically 1000-10000\n",
    "sim_n = 50 # 500 # simulation repeats per given model and theta; ideally, inf\n",
    "count_max = 16\n",
    "y = hist_cell_counts_samples(res, celltype, time_point, sample_n, count_max, sim_n, mprior)"
   ]
  },
  {
   "cell_type": "code",
   "execution_count": 80,
   "metadata": {},
   "outputs": [
    {
     "name": "stdout",
     "output_type": "stream",
     "text": [
      "(16, 100)\n"
     ]
    }
   ],
   "source": [
    "print(y.shape)\n",
    "y_95_lower = np.percentile(y, 2.5, axis=1)\n",
    "y_median = np.percentile(y, 50.0, axis=1)\n",
    "y_95_upper = np.percentile(y, 97.5, axis=1)"
   ]
  },
  {
   "cell_type": "code",
   "execution_count": 81,
   "metadata": {},
   "outputs": [
    {
     "data": {
      "image/png": "[encoded data removed]",
      "text/plain": [
       "<Figure size 57.6x57.6 with 1 Axes>"
      ]
     },
     "metadata": {
      "needs_background": "light"
     },
     "output_type": "display_data"
    }
   ],
   "source": [
    "# compute model histogram over all models\n",
    "plt.rcParams.update({'figure.figsize': (0.8, 0.8)})\n",
    "ax = plt.gca()\n",
    "ax.spines['top'].set_visible(False)\n",
    "ax.spines['right'].set_visible(False)\n",
    "ax.spines['bottom'].set_visible(True)\n",
    "ax.spines['left'].set_visible(True)\n",
    "\n",
    "linelow = 44*y_95_lower/sim_n\n",
    "line = 44*y_median/sim_n\n",
    "lineupp = 44*y_95_upper/sim_n\n",
    "errlow = line-linelow\n",
    "errupp = lineupp-line\n",
    "\n",
    "# plt.fill_between(range(count_max), linelow, line, color=cnaive, alpha=0.2, linewidth=0.0, zorder=100)\n",
    "# plt.plot(range(count_max), line, color=cnaive, zorder=200, linewidth=1.0)\n",
    "# plt.fill_between(range(count_max), line, lineupp, color=cnaive, alpha=0.2, linewidth=0.0, zorder=100,\n",
    "#                 label='Models')\n",
    "cutplot = 3\n",
    "plt.errorbar(list(range(count_max))[:cutplot], line[:cutplot], yerr=np.array([errlow, errupp])[:, :cutplot],\n",
    "            color=cnaive, linewidth=1.0, capsize=1.0,\n",
    "             zorder=100, markersize=2, fmt='.', label='Model')\n",
    "\n",
    "plt.hist(res[0].data.data_counts[:, 1, -1], bins=np.linspace(-0.5, 9.5, num=11), \n",
    "         color='black', alpha=0.1, label='Data')\n",
    "plt.xticks([0, 1, 2])\n",
    "plt.xlim(None, 3)\n",
    "plt.ylim(-1.5, None)\n",
    "plt.xlabel('Cell number (54 hours)')\n",
    "plt.ylabel('Probability')\n",
    "plt.legend()\n",
    "plt.savefig(f'paper_figures/hist_cd44_naive_688_par1+i.pdf', bbox_inches='tight') # _thin4"
   ]
  },
  {
   "cell_type": "code",
   "execution_count": 82,
   "metadata": {},
   "outputs": [
    {
     "data": {
      "image/png": "[encoded data removed]",
      "text/plain": [
       "<Figure size 57.6x57.6 with 1 Axes>"
      ]
     },
     "metadata": {
      "needs_background": "light"
     },
     "output_type": "display_data"
    }
   ],
   "source": [
    "# compute model histogram over all models\n",
    "plt.rcParams.update({'figure.figsize': (0.8, 0.8)})\n",
    "ax = plt.gca()\n",
    "ax.spines['top'].set_visible(False)\n",
    "ax.spines['right'].set_visible(False)\n",
    "ax.spines['bottom'].set_visible(True)\n",
    "ax.spines['left'].set_visible(True)\n",
    "\n",
    "linelow = 44*y_95_lower/sim_n\n",
    "line = 44*y_median/sim_n\n",
    "lineupp = 44*y_95_upper/sim_n\n",
    "errlow = line-linelow\n",
    "errupp = lineupp-line\n",
    "\n",
    "# plt.fill_between(range(count_max), linelow, line, color=cactiv, alpha=0.2, linewidth=0.0, zorder=100)\n",
    "# plt.plot(range(count_max), line, color=cactiv, zorder=200, linewidth=1.0)\n",
    "# plt.fill_between(range(count_max), line, lineupp, color=cactiv, alpha=0.2, linewidth=0.0, zorder=100,\n",
    "#                 label='Model')\n",
    "cutplot = 10\n",
    "plt.errorbar(list(range(count_max))[:cutplot], line[:cutplot], \n",
    "             yerr=np.array([errlow, errupp])[:, :cutplot],\n",
    "            color=cactiv, linewidth=1.0, capsize=1.0,\n",
    "             zorder=100, markersize=2, fmt='.', label='Model')\n",
    "\n",
    "plt.hist(res[0].data.data_counts[:, 0, -1], bins=np.linspace(-0.5, 9.5, num=11), \n",
    "         color='black', alpha=0.1, label='Data')\n",
    "\n",
    "plt.xlim(-1, 10)\n",
    "plt.xlabel('Cell number (54 hours)')\n",
    "plt.ylabel('Probability')\n",
    "plt.legend()\n",
    "plt.savefig(f'paper_figures/hist_cd44_active_688_par1+i.pdf', bbox_inches='tight') # _thin4"
   ]
  },
  {
   "cell_type": "code",
   "execution_count": 88,
   "metadata": {},
   "outputs": [
    {
     "data": {
      "text/plain": [
       "(18, 18)"
      ]
     },
     "execution_count": 88,
     "metadata": {},
     "output_type": "execute_result"
    }
   ],
   "source": [
    "import itertools\n",
    "steps_list = [1, 2, 4, 6, 8, 10, 14, 18] # [2, 4, 6, 8, 10, 14, 18]\n",
    "sparse_steps_list = list(itertools.combinations_with_replacement(steps_list, 2))\n",
    "for d1, d2 in sparse_steps_list:\n",
    "    pass\n",
    "d1, d2"
   ]
  },
  {
   "cell_type": "markdown",
   "metadata": {},
   "source": [
    "###### par3 model results"
   ]
  },
  {
   "cell_type": "code",
   "execution_count": 20,
   "metadata": {},
   "outputs": [],
   "source": [
    "res = pickle.load(open('estimation_count_data_cd44_filtered_sigma022_par3.pickle', 'rb'))\n",
    "net_names = [est.net.net_name for est in res]\n",
    "model_probs = me.selection.compute_model_probabilities(res)\n",
    "log_evids = [est.bay_est_log_evidence for est in res]"
   ]
  },
  {
   "cell_type": "code",
   "execution_count": 21,
   "metadata": {},
   "outputs": [
    {
     "name": "stdout",
     "output_type": "stream",
     "text": [
      "[0.0278788  0.02550369 0.02247498 0.02124972 0.02028658 0.02023628\n",
      " 0.01975946 0.01950185 0.01909961 0.01891333]\n",
      "[235.88771465 235.79867124 235.67225071 235.61619157 235.56980755\n",
      " 235.5673253  235.54348052 235.53035758 235.5095162  235.49971511]\n",
      "['net_alphaF6_alphaS6_alphaT6_lambda14'\n",
      " 'net_alphaF6_alphaS6_alphaT6_lambda18'\n",
      " 'net_alphaF8_alphaS8_alphaT18_lambda14'\n",
      " 'net_alphaF4_alphaS6_alphaT6_lambda18'\n",
      " 'net_alphaF8_alphaS8_alphaT18_lambda18'\n",
      " 'net_alphaF6_alphaS6_alphaT14_lambda14'\n",
      " 'net_alphaF6_alphaS6_alphaT18_lambda18'\n",
      " 'net_alphaF6_alphaS6_alphaT6_lambda10'\n",
      " 'net_alphaF6_alphaS8_alphaT14_lambda14'\n",
      " 'net_alphaF6_alphaS6_alphaT14_lambda18']\n"
     ]
    }
   ],
   "source": [
    "sort_inds = np.array(- model_probs).argsort()\n",
    "net_names_sorted = np.array(net_names)[sort_inds]\n",
    "model_probs_sorted = np.array(model_probs)[sort_inds]\n",
    "log_evids_sorted = np.array(log_evids)[sort_inds]\n",
    "\n",
    "print(model_probs_sorted[:10])\n",
    "print(log_evids_sorted[:10])\n",
    "print(net_names_sorted[:10])"
   ]
  },
  {
   "cell_type": "code",
   "execution_count": 22,
   "metadata": {},
   "outputs": [
    {
     "name": "stdout",
     "output_type": "stream",
     "text": [
      "348 net_alphaF6_alphaS6_alphaT6_lambda14\n"
     ]
    },
    {
     "data": {
      "text/plain": [
       "235.88771464915"
      ]
     },
     "execution_count": 22,
     "metadata": {},
     "output_type": "execute_result"
    }
   ],
   "source": [
    "est_i = list(model_probs).index(max(model_probs))\n",
    "print(est_i, net_names[est_i])\n",
    "est = res[est_i]\n",
    "est.bay_est_log_evidence"
   ]
  },
  {
   "cell_type": "code",
   "execution_count": 14,
   "metadata": {},
   "outputs": [
    {
     "data": {
      "image/png": "[encoded data removed]",
      "text/plain": [
       "<Figure size 86.4x57.6 with 1 Axes>"
      ]
     },
     "metadata": {
      "needs_background": "light"
     },
     "output_type": "display_data"
    },
    {
     "data": {
      "image/png": "[encoded data removed]",
      "text/plain": [
       "<Figure size 86.4x57.6 with 1 Axes>"
      ]
     },
     "metadata": {
      "needs_background": "light"
     },
     "output_type": "display_data"
    },
    {
     "data": {
      "image/png": "[encoded data removed]",
      "text/plain": [
       "<Figure size 86.4x57.6 with 1 Axes>"
      ]
     },
     "metadata": {
      "needs_background": "light"
     },
     "output_type": "display_data"
    }
   ],
   "source": [
    "plt.rcParams.update({'figure.figsize': (1.2, 0.8)})\n",
    "\n",
    "settings = {\n",
    "    'A_t': {'label': 'E$(A_t)$', 'color': cactiv},\n",
    "    'M_t': {'label': 'E$(M_t)$', 'color': cnaive}\n",
    "}\n",
    "me.plots.est_bestfit_mean_plot(est, x_label='Time (hours)', save='paper_figures/fit_cd44_mean_net_alphaF6_alphaS6_alphaT6_lambda14.pdf', settings=settings)\n",
    "\n",
    "settings = {\n",
    "    ('A_t', 'A_t'): {'label': 'Var$(A_t)$', 'color': cactiv},\n",
    "    ('M_t', 'M_t'): {'label': 'Var$(M_t)$', 'color': cnaive}\n",
    "}\n",
    "me.plots.est_bestfit_variance_plot(est, x_label='Time (hours)', save='paper_figures/fit_cd44_var_net_alphaF6_alphaS6_alphaT6_lambda14.pdf', settings=settings)\n",
    "\n",
    "settings = {\n",
    "    ('A_t', 'M_t'): {'label': 'Cov$(M_t, A_t)$', 'color': grey}\n",
    "}\n",
    "me.plots.est_bestfit_covariance_plot(est, x_label='Time (hours)', save='paper_figures/fit_cd44_cov_net_alphaF6_alphaS6_alphaT6_lambda14.pdf', settings=settings)"
   ]
  },
  {
   "cell_type": "code",
   "execution_count": 15,
   "metadata": {},
   "outputs": [
    {
     "data": {
      "image/png": "[encoded data removed]",
      "text/plain": [
       "<Figure size 698.4x698.4 with 16 Axes>"
      ]
     },
     "metadata": {
      "needs_background": "light"
     },
     "output_type": "display_data"
    }
   ],
   "source": [
    "me.plots.est_corner_kernel_plot(est, save='paper_figures/post_cd44_cov_net_alphaF6_alphaS6_alphaT6_lambda14.pdf')"
   ]
  },
  {
   "cell_type": "markdown",
   "metadata": {},
   "source": [
    "###### summary plots"
   ]
  },
  {
   "cell_type": "code",
   "execution_count": 38,
   "metadata": {},
   "outputs": [
    {
     "name": "stdout",
     "output_type": "stream",
     "text": [
      "100 196 588 884\n"
     ]
    }
   ],
   "source": [
    "res1 = pickle.load(open('estimation_count_data_cd44_filtered_sigma022_minimal2.pickle', 'rb'))\n",
    "res2 = pickle.load(open('estimation_count_data_cd44_filtered_sigma022_par2.pickle', 'rb'))\n",
    "res3 = pickle.load(open('estimation_count_data_cd44_filtered_sigma022_par3.pickle', 'rb'))\n",
    "res = res1 + res2 + res3\n",
    "print(len(res1), len(res2), len(res3), len(res))"
   ]
  },
  {
   "cell_type": "code",
   "execution_count": 47,
   "metadata": {},
   "outputs": [
    {
     "name": "stdout",
     "output_type": "stream",
     "text": [
      "1.0000000000000184\n",
      "884\n"
     ]
    }
   ],
   "source": [
    "net_names = [est.net.net_name for est in res]\n",
    "mprior = np.array([0.25] + [0.25/99]*99 + [0.25/196]*196 + [0.25/588]*588)\n",
    "print(sum(mprior))\n",
    "model_probs = me.selection.compute_model_probabilities(res, mprior=mprior)\n",
    "print(len(model_probs))"
   ]
  },
  {
   "cell_type": "code",
   "execution_count": 48,
   "metadata": {},
   "outputs": [
    {
     "name": "stdout",
     "output_type": "stream",
     "text": [
      "1\n",
      "99\n",
      "196\n",
      "588\n"
     ]
    }
   ],
   "source": [
    "print(len(model_probs[0:1]))\n",
    "print(len(model_probs[1:100]))\n",
    "print(len(model_probs[100:296]))\n",
    "print(len(model_probs[296:]))"
   ]
  },
  {
   "cell_type": "code",
   "execution_count": 49,
   "metadata": {},
   "outputs": [
    {
     "name": "stdout",
     "output_type": "stream",
     "text": [
      "7.596532311474325e-206\n",
      "1.0259578356828017e-12\n",
      "0.4633507131137356\n",
      "0.5366492868852237\n"
     ]
    },
    {
     "data": {
      "image/png": "[encoded data removed]",
      "text/plain": [
       "<Figure size 28.8x72 with 2 Axes>"
      ]
     },
     "metadata": {
      "needs_background": "light"
     },
     "output_type": "display_data"
    }
   ],
   "source": [
    "print(sum(model_probs[0:1]))\n",
    "print(sum(model_probs[1:100]))\n",
    "print(sum(model_probs[100:296]))\n",
    "print(sum(model_probs[296:]))\n",
    "\n",
    "plt.figure(figsize=(0.4,1))\n",
    "df = pd.DataFrame(np.array([model_probs[0], sum(model_probs[1:100]), sum(model_probs[100:296]), sum(model_probs[296:])]) * 100.0, index=['Markov', 'Erlang', 'Phase-type 2', 'Phase-type 3']) # , index=rows\n",
    "sns.heatmap(df, cmap='cividis', annot=True, fmt='.1f') # 'plasma' # annot=True\n",
    "plt.yticks(rotation=0, va='center')\n",
    "plt.xticks(rotation=90)\n",
    "plt.savefig('paper_figures/models_probs_map.pdf', bbox_inches='tight')"
   ]
  },
  {
   "cell_type": "code",
   "execution_count": 53,
   "metadata": {},
   "outputs": [
    {
     "name": "stdout",
     "output_type": "stream",
     "text": [
      "59\n",
      "104\n",
      "348\n",
      "59\n",
      "104\n",
      "348\n",
      "204\n",
      "3.2512059285219294e-207\n",
      "7.943246862012952e-13\n",
      "0.6234947201904378\n",
      "0.3765052798087817\n"
     ]
    },
    {
     "data": {
      "image/png": "[encoded data removed]",
      "text/plain": [
       "<Figure size 28.8x72 with 2 Axes>"
      ]
     },
     "metadata": {
      "needs_background": "light"
     },
     "output_type": "display_data"
    }
   ],
   "source": [
    "res1_probs = me.selection.compute_model_probabilities(res1)\n",
    "res2_probs = me.selection.compute_model_probabilities(res2)\n",
    "res3_probs = me.selection.compute_model_probabilities(res3)\n",
    "print(list(res1_probs).index(max(res1_probs)))\n",
    "print(list(res2_probs).index(max(res2_probs)))\n",
    "print(list(res3_probs).index(max(res3_probs)))\n",
    "print(list(model_probs[0:100]).index(max(model_probs[0:100])))\n",
    "print(list(model_probs[100:296]).index(max(model_probs[100:296])))\n",
    "print(list(model_probs[296:]).index(max(model_probs[296:])))\n",
    "print(list(model_probs).index(max(model_probs)))\n",
    "\n",
    "bestof_probs = me.selection.compute_model_probabilities([\n",
    "                res[0], res[59], res[104+100], res[348+100+196]])\n",
    "\n",
    "print(bestof_probs[0])\n",
    "print(bestof_probs[1])\n",
    "print(bestof_probs[2])\n",
    "print(bestof_probs[3])\n",
    "\n",
    "plt.figure(figsize=(0.4,1))\n",
    "df = pd.DataFrame(np.array([bestof_probs[0], bestof_probs[1], bestof_probs[2], bestof_probs[3]]) * 100.0, index=['Markov\\n model', 'Best Erlang\\n model', 'Best Phase-\\n type 2 model', 'Best Phase-\\n type 3 model']) # , index=rows\n",
    "sns.heatmap(df, cmap='cividis', annot=True, fmt='.1f') # 'plasma' # annot=True\n",
    "plt.yticks(rotation=0, va='center')\n",
    "plt.xticks(rotation=90)\n",
    "plt.savefig('paper_figures/models_probs_map_bestof.pdf', bbox_inches='tight')"
   ]
  },
  {
   "cell_type": "code",
   "execution_count": 56,
   "metadata": {},
   "outputs": [
    {
     "name": "stdout",
     "output_type": "stream",
     "text": [
      "86\n",
      "798\n",
      "(884,)\n"
     ]
    },
    {
     "data": {
      "image/png": "[encoded data removed]",
      "text/plain": [
       "<Figure size 86.4x57.6 with 1 Axes>"
      ]
     },
     "metadata": {
      "needs_background": "light"
     },
     "output_type": "display_data"
    }
   ],
   "source": [
    "plt.rcParams.update({'figure.figsize': (1.2, 0.8)})\n",
    "bf = me.selection.compute_model_bayes_factors(res)\n",
    "bf[bf > 100.0] = 100.0\n",
    "plt.figure()\n",
    "ax = plt.gca()\n",
    "ax.spines['top'].set_visible(False)\n",
    "ax.spines['right'].set_visible(False)\n",
    "ax.spines['bottom'].set_visible(True)\n",
    "ax.spines['left'].set_visible(True)\n",
    "plt.xlim((0, 50)) # 110\n",
    "plt.ylim((None, 0.03))\n",
    "plt.hist(bf, density=True, color=grey, bins=40)\n",
    "plt.axvline(x=10.0, lw=0.5, color='black')\n",
    "plt.xlabel('Bayes factor')\n",
    "plt.ylabel('Model frequencies')\n",
    "plt.savefig('paper_figures/bfs_cd44_full.pdf', bbox_inches='tight')\n",
    "\n",
    "print(np.sum(bf < 10.0))\n",
    "print(np.sum(bf >= 10.0))\n",
    "print(bf.shape)"
   ]
  },
  {
   "cell_type": "code",
   "execution_count": 57,
   "metadata": {},
   "outputs": [
    {
     "name": "stdout",
     "output_type": "stream",
     "text": [
      "884\n",
      "True\n"
     ]
    },
    {
     "data": {
      "image/png": "[encoded data removed]",
      "text/plain": [
       "<Figure size 21.6x288 with 2 Axes>"
      ]
     },
     "metadata": {
      "needs_background": "light"
     },
     "output_type": "display_data"
    }
   ],
   "source": [
    "net_names = [est.net.net_name for est in res]\n",
    "model_probs = me.selection.compute_model_probabilities(res)\n",
    "print(len(model_probs))\n",
    "\n",
    "ntop = 40\n",
    "\n",
    "sort_inds = np.array(- model_probs).argsort()\n",
    "net_names_sorted = np.array(net_names)[sort_inds]\n",
    "model_probs_sorted = np.array(model_probs)[sort_inds]\n",
    "\n",
    "# check if all ntop models are phase type\n",
    "is_ph = True\n",
    "for name in net_names_sorted[0:ntop]:\n",
    "    if 'alphaF' in name:\n",
    "        pass\n",
    "    else:\n",
    "        is_ph = False\n",
    "print(is_ph)\n",
    "    \n",
    "def process_net_names(net_names):\n",
    "    net_names_style = list()\n",
    "    for name in net_names:\n",
    "        name_style = str(name[4:])\n",
    "        name_style = name_style.replace('_', r', ')\n",
    "        name_style = name_style.replace('alphaF', r'$n_{\\alpha_1}$=')\n",
    "        name_style = name_style.replace('alphaS', r'$n_{\\alpha_2}$=')\n",
    "        name_style = name_style.replace('alphaT', r'$n_{\\alpha_3}$=')\n",
    "        name_style = name_style.replace('lambda', r'$n_{\\lambda}$=')\n",
    "        net_names_style.append(name_style)\n",
    "    return net_names_style\n",
    "\n",
    "def process_net_names_simple(net_names):\n",
    "    net_names_style = list()\n",
    "    for name in net_names:\n",
    "        name_style = str(name[4:])\n",
    "        name_style = name_style.replace('_', ' ')\n",
    "        name_style = name_style.replace('alphaF1', '1')\n",
    "        name_style = name_style.replace('alphaF2', '2  ')\n",
    "        name_style = name_style.replace('alphaF4', '4  ')\n",
    "        name_style = name_style.replace('alphaF6', '6  ')\n",
    "        name_style = name_style.replace('alphaF8', '8  ')\n",
    "        \n",
    "        name_style = name_style.replace('alphaS1', '1')\n",
    "        name_style = name_style.replace('alphaS2', '2  ')\n",
    "        name_style = name_style.replace('alphaS4', '4  ')\n",
    "        name_style = name_style.replace('alphaS6', '6  ')\n",
    "        name_style = name_style.replace('alphaS8', '8  ')\n",
    "        \n",
    "        name_style = name_style.replace('alphaT1', '1')\n",
    "        name_style = name_style.replace('alphaT2', '2  ')\n",
    "        name_style = name_style.replace('alphaT4', '4  ')\n",
    "        name_style = name_style.replace('alphaT6', '6  ')\n",
    "        name_style = name_style.replace('alphaT8', '8  ')\n",
    "        \n",
    "        name_style = name_style.replace('lambda1', '1')\n",
    "        name_style = name_style.replace('lambda2', '2')\n",
    "        name_style = name_style.replace('lambda4', '4')\n",
    "        name_style = name_style.replace('lambda6', '6')\n",
    "        name_style = name_style.replace('lambda8', '8')\n",
    "        name_style = 'PH  ' + name_style\n",
    "        net_names_style.append(name_style)\n",
    "    return net_names_style\n",
    "\n",
    "plt.rcParams.update({'mathtext.default':  'regular' })\n",
    "plt.figure(figsize=(0.3,4.0))\n",
    "df = pd.DataFrame(np.array([model_probs_sorted[:ntop]]).T * 100.0, index=process_net_names_simple(net_names_sorted[:ntop])) # , index=rows\n",
    "g = sns.heatmap(df, cmap='cividis', annot=True, fmt='.2f', annot_kws={\"size\":4}, yticklabels=True) # annot=True\n",
    "ax = plt.gca()\n",
    "ax.tick_params(right=True, left=False, labelright=True, labelleft=False)\n",
    "g.set_yticklabels(g.get_ymajorticklabels(), fontsize = 4)\n",
    "plt.yticks(rotation=0, va='center')\n",
    "plt.xticks(rotation=90)\n",
    "plt.savefig('paper_figures/models_probs_map_single.pdf', bbox_inches='tight')"
   ]
  },
  {
   "cell_type": "code",
   "execution_count": 58,
   "metadata": {},
   "outputs": [
    {
     "data": {
      "text/plain": [
       "40"
      ]
     },
     "execution_count": 58,
     "metadata": {},
     "output_type": "execute_result"
    }
   ],
   "source": [
    "len(model_probs_sorted[:40])"
   ]
  },
  {
   "cell_type": "markdown",
   "metadata": {},
   "source": [
    "###### waiting times"
   ]
  },
  {
   "cell_type": "code",
   "execution_count": 17,
   "metadata": {},
   "outputs": [
    {
     "name": "stdout",
     "output_type": "stream",
     "text": [
      "100 196 588 884\n",
      "784\n"
     ]
    }
   ],
   "source": [
    "res1 = pickle.load(open('estimation_count_data_cd44_filtered_sigma022_minimal2.pickle', 'rb'))\n",
    "res2 = pickle.load(open('estimation_count_data_cd44_filtered_sigma022_par2.pickle', 'rb'))\n",
    "res3 = pickle.load(open('estimation_count_data_cd44_filtered_sigma022_par3.pickle', 'rb'))\n",
    "res = res1 + res2 + res3\n",
    "print(len(res1), len(res2), len(res3), len(res))\n",
    "\n",
    "net_names = [est.net.net_name for est in res]\n",
    "model_probs = me.selection.compute_model_probabilities(res)\n",
    "data = res[0].data\n",
    "print(sum(['alphaF' in name for name in net_names]))"
   ]
  },
  {
   "cell_type": "code",
   "execution_count": 18,
   "metadata": {},
   "outputs": [
    {
     "name": "stdout",
     "output_type": "stream",
     "text": [
      "1.0000000000000184\n",
      "884\n"
     ]
    }
   ],
   "source": [
    "# set model prior to give classes same weight\n",
    "mprior = np.array([0.25] + [0.25/99]*99 + [0.25/196]*196 + [0.25/588]*588)\n",
    "print(sum(mprior))\n",
    "print(len(mprior))"
   ]
  },
  {
   "cell_type": "code",
   "execution_count": 19,
   "metadata": {},
   "outputs": [
    {
     "name": "stdout",
     "output_type": "stream",
     "text": [
      "[    0.     0.  9225. 10775.]\n"
     ]
    }
   ],
   "source": [
    "# idea to compute \"credible bands\" for better visualisation\n",
    "samples = 20000\n",
    "plot_data = True # True or False\n",
    "time_max = 60.0 # 150.0, 54.0\n",
    "x = np.linspace(0.0, time_max, num=200)\n",
    "\n",
    "y = waiting_time_distr_samples_act(x, res, samples, time_max, mprior)"
   ]
  },
  {
   "cell_type": "code",
   "execution_count": 20,
   "metadata": {},
   "outputs": [
    {
     "data": {
      "image/png": "[encoded data removed]",
      "text/plain": [
       "<Figure size 100.8x57.6 with 1 Axes>"
      ]
     },
     "metadata": {
      "needs_background": "light"
     },
     "output_type": "display_data"
    }
   ],
   "source": [
    "y_997_lower = np.percentile(y, 0.15, axis=1)\n",
    "y_95_lower = np.percentile(y, 2.5, axis=1)\n",
    "y_68_lower = np.percentile(y, 16.0, axis=1)\n",
    "y_median = np.percentile(y, 50.0, axis=1)\n",
    "y_68_upper = np.percentile(y, 84.0, axis=1)\n",
    "y_95_upper = np.percentile(y, 97.5, axis=1)\n",
    "y_997_upper = np.percentile(y, 99.85, axis=1)\n",
    "\n",
    "plt.rcParams.update({'figure.figsize': (1.4, 0.8)})\n",
    "plt.figure()\n",
    "ax = plt.gca()\n",
    "ax.spines['top'].set_visible(False)\n",
    "ax.spines['right'].set_visible(False)\n",
    "ax.spines['bottom'].set_visible(True)\n",
    "ax.spines['left'].set_visible(True)\n",
    "\n",
    "# adapted from framework plotting methods\n",
    "if plot_data:\n",
    "    data.events_find_all()\n",
    "    data_act = np.array([tup[1] for tup in data.event_all_first_cell_type_conversion if tup[0]])\n",
    "\n",
    "    plt.hist(data_act - 1e-06, bins=data.data_time_values,\n",
    "             color='black', alpha=0.1,\n",
    "             density=True, histtype='stepfilled')\n",
    "\n",
    "\n",
    "plt.fill_between(x, y_997_lower, y_95_lower, color=cwact, alpha=0.2, linewidth=0.0, zorder=100)\n",
    "plt.fill_between(x, y_95_lower, y_68_lower, color=cwact, alpha=0.4, linewidth=0.0, zorder=100)\n",
    "plt.fill_between(x, y_68_lower, y_median, color=cwact, alpha=0.6, linewidth=0.0, zorder=100)\n",
    "\n",
    "plt.fill_between(x, y_median, y_68_upper, color=cwact, alpha=0.6, linewidth=0.0, zorder=100)\n",
    "plt.fill_between(x, y_68_upper, y_95_upper, color=cwact, alpha=0.4, linewidth=0.0, zorder=100)\n",
    "plt.fill_between(x, y_95_upper, y_997_upper, color=cwact, alpha=0.2, linewidth=0.0, zorder=100)\n",
    "\n",
    "# plt.plot(x, y_hdi_997_lower, color='lightseagreen', lw=2, alpha=0.2)\n",
    "# plt.plot(x, y_hdi_95_lower, color='lightseagreen', lw=2, alpha=0.4)\n",
    "# plt.plot(x, y_hdi_68_lower, color='lightseagreen', lw=2, alpha=0.6)\n",
    "plt.plot(x, y_median, color=cwact, lw=1, zorder=200)\n",
    "# plt.plot(x, y_hdi_68_upper, color='lightseagreen', lw=2, alpha=0.6)\n",
    "# plt.plot(x, y_hdi_95_upper, color='lightseagreen', lw=2, alpha=0.4)\n",
    "# plt.plot(x, y_hdi_997_upper, color='lightseagreen', lw=2, alpha=0.2)\n",
    "\n",
    "plt.ylabel('Probability')\n",
    "plt.xlabel('Activation times (hours)')\n",
    "plt.savefig('paper_figures/waiting_times_act.pdf', bbox_inches='tight') # pdf, png"
   ]
  },
  {
   "cell_type": "code",
   "execution_count": 21,
   "metadata": {},
   "outputs": [
    {
     "name": "stdout",
     "output_type": "stream",
     "text": [
      "[    0.     0.  9276. 10724.]\n"
     ]
    }
   ],
   "source": [
    "# idea to compute \"credible bands\" for better visualisation\n",
    "samples = 20000\n",
    "plot_data = False # True or False\n",
    "time_max = 60.0 # 150.0, 54.0\n",
    "x = np.linspace(0.0, time_max, num=200)\n",
    "\n",
    "# NOTE: the data we plot here is only from first divisions! (so its not the complete data, \n",
    "# which is inaccessible from the data)\n",
    "\n",
    "y = waiting_time_distr_samples_div(x, res, samples, time_max, mprior)"
   ]
  },
  {
   "cell_type": "code",
   "execution_count": 22,
   "metadata": {},
   "outputs": [
    {
     "data": {
      "image/png": "[encoded data removed]",
      "text/plain": [
       "<Figure size 100.8x57.6 with 1 Axes>"
      ]
     },
     "metadata": {
      "needs_background": "light"
     },
     "output_type": "display_data"
    }
   ],
   "source": [
    "y_997_lower = np.percentile(y, 0.15, axis=1)\n",
    "y_95_lower = np.percentile(y, 2.5, axis=1)\n",
    "y_68_lower = np.percentile(y, 16.0, axis=1)\n",
    "y_median = np.percentile(y, 50.0, axis=1)\n",
    "y_68_upper = np.percentile(y, 84.0, axis=1)\n",
    "y_95_upper = np.percentile(y, 97.5, axis=1)\n",
    "y_997_upper = np.percentile(y, 99.85, axis=1)\n",
    "\n",
    "plt.rcParams.update({'figure.figsize': (1.4, 0.8)})\n",
    "plt.figure()\n",
    "ax = plt.gca()\n",
    "ax.spines['top'].set_visible(False)\n",
    "ax.spines['right'].set_visible(False)\n",
    "ax.spines['bottom'].set_visible(True)\n",
    "ax.spines['left'].set_visible(True)\n",
    "\n",
    "# adapted from framework plotting methods\n",
    "if plot_data:\n",
    "    data.events_find_all()\n",
    "    data_act = np.array([tup[1] for tup in data.event_all_first_cell_count_increase_after_cell_type_conversion if tup[0]])\n",
    "\n",
    "    plt.hist(data_act - 1e-06, bins=data.data_time_values,\n",
    "             color='black', alpha=0.1,\n",
    "             density=True, histtype='stepfilled')\n",
    "    \n",
    "plt.fill_between(x, y_997_lower, y_95_lower, color=cwdiv, alpha=0.2, linewidth=0.0, zorder=100)\n",
    "plt.fill_between(x, y_95_lower, y_68_lower, color=cwdiv, alpha=0.4, linewidth=0.0, zorder=100)\n",
    "plt.fill_between(x, y_68_lower, y_median, color=cwdiv, alpha=0.6, linewidth=0.0, zorder=100)\n",
    "\n",
    "plt.fill_between(x, y_median, y_68_upper, color=cwdiv, alpha=0.6, linewidth=0.0, zorder=100)\n",
    "plt.fill_between(x, y_68_upper, y_95_upper, color=cwdiv, alpha=0.4, linewidth=0.0, zorder=100)\n",
    "plt.fill_between(x, y_95_upper, y_997_upper, color=cwdiv, alpha=0.2, linewidth=0.0, zorder=100)\n",
    "\n",
    "# plt.plot(x, y_hdi_997_lower, color='darkorange', lw=0.5, alpha=0.2)\n",
    "# plt.plot(x, y_hdi_95_lower, color='darkorange', lw=0.5, alpha=0.4)\n",
    "# plt.plot(x, y_hdi_68_lower, color='blue', lw=0.5, alpha=0.6)\n",
    "plt.plot(x, y_median, color=cwdiv, lw=1, zorder=200)\n",
    "# plt.plot(x, y_hdi_68_upper, color='darkorange', lw=0.5, alpha=0.6)\n",
    "# plt.plot(x, y_hdi_95_upper, color='darkorange', lw=0.5, alpha=0.4)\n",
    "# plt.plot(x, y_hdi_997_upper, color='darkorange', lw=0.5, alpha=0.2)\n",
    "\n",
    "plt.ylabel('Probability')\n",
    "plt.xlabel('Division times (hours)')\n",
    "plt.savefig('paper_figures/waiting_times_div.pdf', bbox_inches='tight') # pdf, png"
   ]
  },
  {
   "cell_type": "markdown",
   "metadata": {},
   "source": [
    "##### Figure 4 <a id='figure4'></a> [↑](#top)"
   ]
  },
  {
   "cell_type": "markdown",
   "metadata": {},
   "source": [
    "###### thin data"
   ]
  },
  {
   "cell_type": "code",
   "execution_count": 69,
   "metadata": {},
   "outputs": [
    {
     "name": "stdout",
     "output_type": "stream",
     "text": [
      "100 196 588 884\n"
     ]
    }
   ],
   "source": [
    "res1 = pickle.load(open('estimation_count_data_cd44_filtered_thin4_minimal2.pickle', 'rb'))\n",
    "res2 = pickle.load(open('estimation_count_data_cd44_filtered_thin4_par2.pickle', 'rb'))\n",
    "res3 = pickle.load(open('estimation_count_data_cd44_filtered_thin4_par3.pickle', 'rb'))\n",
    "res = res1 + res2 + res3\n",
    "print(len(res1), len(res2), len(res3), len(res))"
   ]
  },
  {
   "cell_type": "code",
   "execution_count": 48,
   "metadata": {},
   "outputs": [
    {
     "data": {
      "image/png": "[encoded data removed]",
      "text/plain": [
       "<Figure size 86.4x57.6 with 1 Axes>"
      ]
     },
     "metadata": {
      "needs_background": "light"
     },
     "output_type": "display_data"
    },
    {
     "data": {
      "image/png": "[encoded data removed]",
      "text/plain": [
       "<Figure size 86.4x57.6 with 1 Axes>"
      ]
     },
     "metadata": {
      "needs_background": "light"
     },
     "output_type": "display_data"
    },
    {
     "data": {
      "image/png": "[encoded data removed]",
      "text/plain": [
       "<Figure size 86.4x57.6 with 1 Axes>"
      ]
     },
     "metadata": {
      "needs_background": "light"
     },
     "output_type": "display_data"
    }
   ],
   "source": [
    "data = res[0].data\n",
    "plt.rcParams.update({'figure.figsize': (1.2, 0.8)})\n",
    "settings = {\n",
    "    'A_t': {'label': 'E$(A_t)$', 'color': cactiv},\n",
    "    'M_t': {'label': 'E$(M_t)$', 'color': cnaive}\n",
    "}\n",
    "me.plots.data_mean_plot(data, x_label='Time (hours)', save='paper_figures/data_cd44_thin4_mean.pdf', settings=settings)\n",
    "\n",
    "settings = {\n",
    "    ('A_t', 'A_t'): {'label': 'Var$(A_t)$', 'color': cactiv},\n",
    "    ('M_t', 'M_t'): {'label': 'Var$(M_t)$', 'color': cnaive}\n",
    "}\n",
    "me.plots.data_variance_plot(data, x_label='Time (hours)', save='paper_figures/data_cd44_thin4_var.pdf', settings=settings)\n",
    "\n",
    "settings = {\n",
    "    ('M_t', 'A_t'): {'label': 'Cov$(M_t, A_t)$', 'color': grey}\n",
    "}\n",
    "me.plots.data_covariance_plot(data, x_label='Time (hours)', save='paper_figures/data_cd44_thin4_cov.pdf', settings=settings)"
   ]
  },
  {
   "cell_type": "code",
   "execution_count": 72,
   "metadata": {},
   "outputs": [
    {
     "name": "stdout",
     "output_type": "stream",
     "text": [
      "1.0000000000000184\n"
     ]
    }
   ],
   "source": [
    "net_names = [est.net.net_name for est in res]\n",
    "mprior = np.array([0.25] + [0.25/99]*99 + [0.25/196]*196 + [0.25/588]*588)\n",
    "print(sum(mprior))\n",
    "model_probs = me.selection.compute_model_probabilities(res, mprior=mprior)"
   ]
  },
  {
   "cell_type": "code",
   "execution_count": 73,
   "metadata": {},
   "outputs": [
    {
     "name": "stdout",
     "output_type": "stream",
     "text": [
      "3.8294626656513344e-12\n",
      "0.04214570337710405\n",
      "0.3754489980568839\n",
      "0.5824052985621854\n"
     ]
    },
    {
     "data": {
      "image/png": "[encoded data removed]",
      "text/plain": [
       "<Figure size 28.8x72 with 2 Axes>"
      ]
     },
     "metadata": {
      "needs_background": "light"
     },
     "output_type": "display_data"
    }
   ],
   "source": [
    "print(sum(model_probs[0:1]))\n",
    "print(sum(model_probs[1:100]))\n",
    "print(sum(model_probs[100:296]))\n",
    "print(sum(model_probs[296:]))\n",
    "\n",
    "plt.figure(figsize=(0.4,1))\n",
    "df = pd.DataFrame(np.array([sum(model_probs[0:1]), sum(model_probs[1:100]), sum(model_probs[100:296]), sum(model_probs[296:])]) * 100.0, index=['Markov', 'Erlang', 'Phase-type 2', 'Phase-type 3']) # , index=rows\n",
    "sns.heatmap(df, cmap='cividis', annot=True, fmt='.1f') # 'plasma' # annot=True\n",
    "plt.yticks(rotation=0, va='center')\n",
    "plt.xticks(rotation=90)\n",
    "plt.savefig('paper_figures/models_probs_map_thin4.pdf', bbox_inches='tight')"
   ]
  },
  {
   "cell_type": "code",
   "execution_count": 75,
   "metadata": {},
   "outputs": [
    {
     "name": "stdout",
     "output_type": "stream",
     "text": [
      "39\n",
      "111\n",
      "370\n",
      "39\n",
      "111\n",
      "211\n",
      "net_2_20 net_alphaF2_alphaS10_alphaT18_lambda18\n",
      "7.165654144993785e-13\n",
      "0.0645644110889026\n",
      "0.49788331987744333\n",
      "0.4375522690329393\n"
     ]
    },
    {
     "data": {
      "image/png": "[encoded data removed]",
      "text/plain": [
       "<Figure size 28.8x72 with 2 Axes>"
      ]
     },
     "metadata": {
      "needs_background": "light"
     },
     "output_type": "display_data"
    }
   ],
   "source": [
    "res1_probs = me.selection.compute_model_probabilities(res1)\n",
    "res2_probs = me.selection.compute_model_probabilities(res2)\n",
    "res3_probs = me.selection.compute_model_probabilities(res3)\n",
    "print(list(res1_probs).index(max(res1_probs)))\n",
    "print(list(res2_probs).index(max(res2_probs)))\n",
    "print(list(res3_probs).index(max(res3_probs)))\n",
    "\n",
    "print(list(model_probs[0:100]).index(max(model_probs[0:100])))\n",
    "print(list(model_probs[100:296]).index(max(model_probs[100:296])))\n",
    "print(list(model_probs).index(max(model_probs)))\n",
    "\n",
    "bestof_probs = me.selection.compute_model_probabilities([\n",
    "                    res[0], res[39], res[211], res[100+196+370]])\n",
    "print(net_names[39], net_names[470])\n",
    "print(bestof_probs[0])\n",
    "print(bestof_probs[1])\n",
    "print(bestof_probs[2])\n",
    "print(bestof_probs[3])\n",
    "\n",
    "plt.figure(figsize=(0.4,1))\n",
    "df = pd.DataFrame(np.array([bestof_probs[0], bestof_probs[1], bestof_probs[2], bestof_probs[3]]) * 100.0, index=['Markov\\n model', 'Best Erlang\\n model', 'Best Phase-\\n type 2 model', 'Best Phase-\\n type 3 model']) # , index=rows\n",
    "sns.heatmap(df, cmap='cividis', annot=True, fmt='.1f') # 'plasma' # annot=True\n",
    "plt.yticks(rotation=0, va='center')\n",
    "plt.xticks(rotation=90)\n",
    "plt.savefig('paper_figures/models_probs_map_thin4_bestof.pdf', bbox_inches='tight')"
   ]
  },
  {
   "cell_type": "code",
   "execution_count": 77,
   "metadata": {},
   "outputs": [
    {
     "name": "stdout",
     "output_type": "stream",
     "text": [
      "14.997059839504479\n",
      "40.22127476209889\n",
      "42.26397716719244\n",
      "42.13480758579131\n"
     ]
    },
    {
     "data": {
      "text/plain": [
       "array([7.16565414e-13, 6.45644111e-02, 4.97883320e-01, 4.37552269e-01])"
      ]
     },
     "execution_count": 77,
     "metadata": {},
     "output_type": "execute_result"
    }
   ],
   "source": [
    "print(res1[0].bay_est_log_evidence)\n",
    "print(max([est.bay_est_log_evidence for est in res1]))\n",
    "print(max([est.bay_est_log_evidence for est in res2]))\n",
    "print(max([est.bay_est_log_evidence for est in res3]))\n",
    "me.selection.compute_model_probabilities_from_log_evidences(\n",
    "    np.array([14.997059839504479,\n",
    "                40.22127476209889,\n",
    "                42.26397716719244,\n",
    "                42.13480758579131]))"
   ]
  },
  {
   "cell_type": "code",
   "execution_count": 53,
   "metadata": {},
   "outputs": [
    {
     "data": {
      "image/png": "[encoded data removed]",
      "text/plain": [
       "<Figure size 216x360 with 2 Axes>"
      ]
     },
     "metadata": {
      "needs_background": "light"
     },
     "output_type": "display_data"
    }
   ],
   "source": [
    "res = pickle.load(open('estimation_count_data_cd44_filtered_thin4_minimal2.pickle', 'rb'))\n",
    "\n",
    "net_names = [est.net.net_name for est in res]\n",
    "model_probs = me.selection.compute_model_probabilities(res)\n",
    "\n",
    "steps_list = range(1, 11) # 11, 21\n",
    "\n",
    "steps_lambda = range(1, 21) # range(1, 21) # [5, 10, 15, 20, 25, 30, 35, 40, 50, 60, 70, 80]\n",
    "steps_alpha = range(1, 6) # range(4, 8) # [3]\n",
    "rows = [fr'$(\\lambda, {i})$' for i in steps_lambda] # steps_list # range(1, 21)]\n",
    "cols = [fr'$(\\alpha, {i})$' for i in steps_alpha] # steps_list # range(1, 6)]\n",
    "\n",
    "model_probs_2d = np.zeros((len(rows), len(cols)))\n",
    "\n",
    "for i, row_step in enumerate(rows):\n",
    "    for j, col_step in enumerate(cols):\n",
    "        name = f'net_{steps_alpha[j]}_{steps_lambda[i]}'\n",
    "        net_index = net_names.index(name)\n",
    "        model_probs_2d[i, j] = model_probs[net_index]\n",
    "\n",
    "df = pd.DataFrame(model_probs_2d * 100.0, index=rows, columns=cols)\n",
    "\n",
    "plt.figure(figsize=(3, 5)) # 8, 4 or 6, 8\n",
    "sns.heatmap(df, cmap='cividis', annot=True, fmt='.1f') # 'plasma' # annot=True\n",
    "plt.yticks(rotation=0, va='center')\n",
    "plt.savefig('paper_figures/model_probs_cd44_thin4_minimal2.pdf')"
   ]
  },
  {
   "cell_type": "code",
   "execution_count": 23,
   "metadata": {},
   "outputs": [
    {
     "name": "stdout",
     "output_type": "stream",
     "text": [
      "100 196 588 884\n"
     ]
    }
   ],
   "source": [
    "res1 = pickle.load(open('estimation_count_data_cd44_filtered_thin4_minimal2.pickle', 'rb'))\n",
    "res2 = pickle.load(open('estimation_count_data_cd44_filtered_thin4_par2.pickle', 'rb'))\n",
    "res3 = pickle.load(open('estimation_count_data_cd44_filtered_thin4_par3.pickle', 'rb'))\n",
    "res = res1 + res2 + res3\n",
    "print(len(res1), len(res2), len(res3), len(res))\n",
    "\n",
    "net_names = [est.net.net_name for est in res]\n",
    "model_probs = me.selection.compute_model_probabilities(res)\n",
    "data = res[0].data"
   ]
  },
  {
   "cell_type": "code",
   "execution_count": 24,
   "metadata": {},
   "outputs": [
    {
     "name": "stdout",
     "output_type": "stream",
     "text": [
      "1.0000000000000184\n",
      "884\n"
     ]
    }
   ],
   "source": [
    "# set model prior to give classes same weight\n",
    "mprior = np.array([0.25] + [0.25/99]*99 + [0.25/196]*196 + [0.25/588]*588)\n",
    "print(sum(mprior))\n",
    "print(len(mprior))"
   ]
  },
  {
   "cell_type": "code",
   "execution_count": 25,
   "metadata": {},
   "outputs": [
    {
     "name": "stdout",
     "output_type": "stream",
     "text": [
      "net_alphaF6_alphaS10_lambda18\n"
     ]
    }
   ],
   "source": [
    "print(net_names[list(model_probs).index(max(model_probs))])"
   ]
  },
  {
   "cell_type": "code",
   "execution_count": 26,
   "metadata": {},
   "outputs": [
    {
     "name": "stdout",
     "output_type": "stream",
     "text": [
      "[  824.     0.  7690. 11486.]\n"
     ]
    }
   ],
   "source": [
    "# idea to compute \"credible bands\" for better visualisation\n",
    "samples = 20000\n",
    "plot_data = True # True or False\n",
    "time_max = 60.0 # 150.0, 54.0\n",
    "x = np.linspace(0.0, time_max, num=200)\n",
    "\n",
    "y = waiting_time_distr_samples_act(x, res, samples, time_max, mprior)"
   ]
  },
  {
   "cell_type": "code",
   "execution_count": 27,
   "metadata": {},
   "outputs": [
    {
     "data": {
      "image/png": "[encoded data removed]",
      "text/plain": [
       "<Figure size 100.8x57.6 with 1 Axes>"
      ]
     },
     "metadata": {
      "needs_background": "light"
     },
     "output_type": "display_data"
    }
   ],
   "source": [
    "y_997_lower = np.percentile(y, 0.15, axis=1)\n",
    "y_95_lower = np.percentile(y, 2.5, axis=1)\n",
    "y_68_lower = np.percentile(y, 16.0, axis=1)\n",
    "y_median = np.percentile(y, 50.0, axis=1)\n",
    "y_68_upper = np.percentile(y, 84.0, axis=1)\n",
    "y_95_upper = np.percentile(y, 97.5, axis=1)\n",
    "y_997_upper = np.percentile(y, 99.85, axis=1)\n",
    "\n",
    "plt.rcParams.update({'figure.figsize': (1.4, 0.8)})\n",
    "plt.figure()\n",
    "ax = plt.gca()\n",
    "ax.spines['top'].set_visible(False)\n",
    "ax.spines['right'].set_visible(False)\n",
    "ax.spines['bottom'].set_visible(True)\n",
    "ax.spines['left'].set_visible(True)\n",
    "\n",
    "# adapted from framework plotting methods\n",
    "if plot_data:\n",
    "    data.events_find_all()\n",
    "    data_act = np.array([tup[1] for tup in data.event_all_first_cell_type_conversion if tup[0]])\n",
    "\n",
    "    plt.hist(data_act - 1e-06, bins=data.data_time_values,\n",
    "             color='black', alpha=0.1,\n",
    "             density=True, histtype='stepfilled')\n",
    "\n",
    "\n",
    "plt.fill_between(x, y_997_lower, y_95_lower, color=cwact, alpha=0.2, linewidth=0.0, zorder=100)\n",
    "plt.fill_between(x, y_95_lower, y_68_lower, color=cwact, alpha=0.4, linewidth=0.0, zorder=100)\n",
    "plt.fill_between(x, y_68_lower, y_median, color=cwact, alpha=0.6, linewidth=0.0, zorder=100)\n",
    "\n",
    "plt.fill_between(x, y_median, y_68_upper, color=cwact, alpha=0.6, linewidth=0.0, zorder=100)\n",
    "plt.fill_between(x, y_68_upper, y_95_upper, color=cwact, alpha=0.4, linewidth=0.0, zorder=100)\n",
    "plt.fill_between(x, y_95_upper, y_997_upper, color=cwact, alpha=0.2, linewidth=0.0, zorder=100)\n",
    "\n",
    "# plt.plot(x, y_hdi_997_lower, color='lightseagreen', lw=2, alpha=0.2)\n",
    "# plt.plot(x, y_hdi_95_lower, color='lightseagreen', lw=2, alpha=0.4)\n",
    "# plt.plot(x, y_hdi_68_lower, color='lightseagreen', lw=2, alpha=0.6)\n",
    "plt.plot(x, y_median, color=cwact, lw=1, zorder=200)\n",
    "# plt.plot(x, y_hdi_68_upper, color='lightseagreen', lw=2, alpha=0.6)\n",
    "# plt.plot(x, y_hdi_95_upper, color='lightseagreen', lw=2, alpha=0.4)\n",
    "# plt.plot(x, y_hdi_997_upper, color='lightseagreen', lw=2, alpha=0.2)\n",
    "\n",
    "plt.ylabel('Probability')\n",
    "plt.xlabel('Activation times (hours)')\n",
    "plt.savefig('paper_figures/waiting_times_thin4_act.pdf', bbox_inches='tight') # pdf, png"
   ]
  },
  {
   "cell_type": "code",
   "execution_count": 28,
   "metadata": {},
   "outputs": [
    {
     "name": "stdout",
     "output_type": "stream",
     "text": [
      "[  862.     0.  7479. 11659.]\n"
     ]
    }
   ],
   "source": [
    "# idea to compute \"credible bands\" for better visualisation\n",
    "samples = 20000\n",
    "plot_data = False # True or False\n",
    "time_max = 60.0 # 150.0, 54.0\n",
    "x = np.linspace(0.0, time_max, num=200)\n",
    "\n",
    "# NOTE: the data we plot here is only from first divisions! (so its not the complete data, \n",
    "# which is inaccessible from the data)\n",
    "\n",
    "y = waiting_time_distr_samples_div(x, res, samples, time_max, mprior)"
   ]
  },
  {
   "cell_type": "code",
   "execution_count": 29,
   "metadata": {},
   "outputs": [
    {
     "data": {
      "image/png": "[encoded data removed]",
      "text/plain": [
       "<Figure size 100.8x57.6 with 1 Axes>"
      ]
     },
     "metadata": {
      "needs_background": "light"
     },
     "output_type": "display_data"
    }
   ],
   "source": [
    "y_997_lower = np.percentile(y, 0.15, axis=1)\n",
    "y_95_lower = np.percentile(y, 2.5, axis=1)\n",
    "y_68_lower = np.percentile(y, 16.0, axis=1)\n",
    "y_median = np.percentile(y, 50.0, axis=1)\n",
    "y_68_upper = np.percentile(y, 84.0, axis=1)\n",
    "y_95_upper = np.percentile(y, 97.5, axis=1)\n",
    "y_997_upper = np.percentile(y, 99.85, axis=1)\n",
    "\n",
    "plt.rcParams.update({'figure.figsize': (1.4, 0.8)})\n",
    "plt.figure()\n",
    "ax = plt.gca()\n",
    "ax.spines['top'].set_visible(False)\n",
    "ax.spines['right'].set_visible(False)\n",
    "ax.spines['bottom'].set_visible(True)\n",
    "ax.spines['left'].set_visible(True)\n",
    "\n",
    "# adapted from framework plotting methods\n",
    "if plot_data:\n",
    "    data.events_find_all()\n",
    "    data_act = np.array([tup[1] for tup in data.event_all_first_cell_count_increase_after_cell_type_conversion if tup[0]])\n",
    "\n",
    "    plt.hist(data_act - 1e-06, bins=data.data_time_values,\n",
    "             color='black', alpha=0.1,\n",
    "             density=True, histtype='stepfilled')\n",
    "    \n",
    "plt.fill_between(x, y_997_lower, y_95_lower, color=cwdiv, alpha=0.2, linewidth=0.0, zorder=100)\n",
    "plt.fill_between(x, y_95_lower, y_68_lower, color=cwdiv, alpha=0.4, linewidth=0.0, zorder=100)\n",
    "plt.fill_between(x, y_68_lower, y_median, color=cwdiv, alpha=0.6, linewidth=0.0, zorder=100)\n",
    "\n",
    "plt.fill_between(x, y_median, y_68_upper, color=cwdiv, alpha=0.6, linewidth=0.0, zorder=100)\n",
    "plt.fill_between(x, y_68_upper, y_95_upper, color=cwdiv, alpha=0.4, linewidth=0.0, zorder=100)\n",
    "plt.fill_between(x, y_95_upper, y_997_upper, color=cwdiv, alpha=0.2, linewidth=0.0, zorder=100)\n",
    "\n",
    "# plt.plot(x, y_hdi_997_lower, color='darkorange', lw=0.5, alpha=0.2)\n",
    "# plt.plot(x, y_hdi_95_lower, color='darkorange', lw=0.5, alpha=0.4)\n",
    "# plt.plot(x, y_hdi_68_lower, color='blue', lw=0.5, alpha=0.6)\n",
    "plt.plot(x, y_median, color=cwdiv, lw=1, zorder=200)\n",
    "# plt.plot(x, y_hdi_68_upper, color='darkorange', lw=0.5, alpha=0.6)\n",
    "# plt.plot(x, y_hdi_95_upper, color='darkorange', lw=0.5, alpha=0.4)\n",
    "# plt.plot(x, y_hdi_997_upper, color='darkorange', lw=0.5, alpha=0.2)\n",
    "\n",
    "plt.ylabel('Probability')\n",
    "plt.xlabel('Division times (hours)')\n",
    "plt.savefig('paper_figures/waiting_times_thin4_div.pdf', bbox_inches='tight') # pdf, png"
   ]
  },
  {
   "cell_type": "code",
   "execution_count": 102,
   "metadata": {},
   "outputs": [
    {
     "data": {
      "text/plain": [
       "111"
      ]
     },
     "execution_count": 102,
     "metadata": {},
     "output_type": "execute_result"
    }
   ],
   "source": [
    "# best model plot\n",
    "# (this was 'net_alphaF6_alphaS6_alphaT14_lambda18' previously in par3)\n",
    "res = pickle.load(open('estimation_count_data_cd44_filtered_thin4_par2.pickle', 'rb'))\n",
    "net_names = [est.net.net_name for est in res]\n",
    "model_probs = me.selection.compute_model_probabilities(res)\n",
    "list(model_probs).index(max(model_probs))"
   ]
  },
  {
   "cell_type": "code",
   "execution_count": 94,
   "metadata": {},
   "outputs": [
    {
     "name": "stdout",
     "output_type": "stream",
     "text": [
      "net_alphaF6_alphaS10_lambda18\n"
     ]
    }
   ],
   "source": [
    "print(net_names[111])\n",
    "est = res[111]\n",
    "\n",
    "# repair est from previous memopy version\n",
    "est.net_simulation_credible_band_exists = False\n",
    "est.data.data_mean_exists_only = False"
   ]
  },
  {
   "cell_type": "code",
   "execution_count": 95,
   "metadata": {},
   "outputs": [
    {
     "data": {
      "image/png": "[encoded data removed]",
      "text/plain": [
       "<Figure size 86.4x57.6 with 1 Axes>"
      ]
     },
     "metadata": {
      "needs_background": "light"
     },
     "output_type": "display_data"
    },
    {
     "data": {
      "image/png": "[encoded data removed]",
      "text/plain": [
       "<Figure size 86.4x57.6 with 1 Axes>"
      ]
     },
     "metadata": {
      "needs_background": "light"
     },
     "output_type": "display_data"
    },
    {
     "data": {
      "image/png": "[encoded data removed]",
      "text/plain": [
       "<Figure size 86.4x57.6 with 1 Axes>"
      ]
     },
     "metadata": {
      "needs_background": "light"
     },
     "output_type": "display_data"
    }
   ],
   "source": [
    "plt.rcParams.update({'figure.figsize': (1.2, 0.8)})\n",
    "\n",
    "settings = {\n",
    "    'A_t': {'label': 'E$(A_t)$', 'color': cactiv},\n",
    "    'M_t': {'label': 'E$(M_t)$', 'color': cnaive}\n",
    "}\n",
    "me.plots.est_bestfit_mean_plot(est, x_label='Time (hours)', save='paper_figures/fit_cd44_thin4_mean_net_alphaF6_alphaS10_lambda18.pdf', settings=settings)\n",
    "\n",
    "settings = {\n",
    "    ('A_t', 'A_t'): {'label': 'Var$(A_t)$', 'color': cactiv},\n",
    "    ('M_t', 'M_t'): {'label': 'Var$(M_t)$', 'color': cnaive}\n",
    "}\n",
    "me.plots.est_bestfit_variance_plot(est, x_label='Time (hours)', save='paper_figures/fit_cd44_thin4_var_net_alphaF6_alphaS10_lambda18.pdf', settings=settings)\n",
    "\n",
    "settings = {\n",
    "    ('A_t', 'M_t'): {'label': 'Cov$(M_t, A_t)$', 'color': grey}\n",
    "}\n",
    "me.plots.est_bestfit_covariance_plot(est, x_label='Time (hours)', save='paper_figures/fit_cd44_thin4_cov_net_alphaF6_alphaS10_lambda18.pdf', settings=settings)"
   ]
  },
  {
   "cell_type": "code",
   "execution_count": 96,
   "metadata": {},
   "outputs": [
    {
     "data": {
      "image/png": "[encoded data removed]",
      "text/plain": [
       "<Figure size 547.2x547.2 with 9 Axes>"
      ]
     },
     "metadata": {
      "needs_background": "light"
     },
     "output_type": "display_data"
    }
   ],
   "source": [
    "me.plots.est_corner_kernel_plot(est, save='paper_figures/post_cd44_net_alphaF6_alphaS10_lambda18.pdf')"
   ]
  },
  {
   "cell_type": "code",
   "execution_count": 97,
   "metadata": {},
   "outputs": [
    {
     "name": "stdout",
     "output_type": "stream",
     "text": [
      "100 196 588 884\n",
      "438\n",
      "446\n",
      "(884,)\n"
     ]
    },
    {
     "data": {
      "image/png": "[encoded data removed]",
      "text/plain": [
       "<Figure size 86.4x57.6 with 1 Axes>"
      ]
     },
     "metadata": {
      "needs_background": "light"
     },
     "output_type": "display_data"
    }
   ],
   "source": [
    "res1 = pickle.load(open('estimation_count_data_cd44_filtered_thin4_minimal2.pickle', 'rb'))\n",
    "res2 = pickle.load(open('estimation_count_data_cd44_filtered_thin4_par2.pickle', 'rb'))\n",
    "res3 = pickle.load(open('estimation_count_data_cd44_filtered_thin4_par3.pickle', 'rb'))\n",
    "res = res1 + res2 + res3\n",
    "print(len(res1), len(res2), len(res3), len(res))\n",
    "\n",
    "net_names = [est.net.net_name for est in res]\n",
    "model_probs = me.selection.compute_model_probabilities(res)\n",
    "\n",
    "plt.rcParams.update({'figure.figsize': (1.2, 0.8)})\n",
    "bf = me.selection.compute_model_bayes_factors(res)\n",
    "bf[bf > 100.0] = 100.0\n",
    "plt.figure()\n",
    "ax = plt.gca()\n",
    "ax.spines['top'].set_visible(False)\n",
    "ax.spines['right'].set_visible(False)\n",
    "ax.spines['bottom'].set_visible(True)\n",
    "ax.spines['left'].set_visible(True)\n",
    "plt.xlim((0, 50)) # 110\n",
    "plt.hist(bf, bins=40, density=True, color=grey)\n",
    "plt.axvline(x=10.0, lw=0.5, color='black')\n",
    "plt.xlabel('Bayes factor')\n",
    "plt.ylabel('Model frequencies')\n",
    "plt.savefig('paper_figures/bfs_cd44_thin4.pdf', bbox_inches='tight')\n",
    "\n",
    "print(np.sum(bf < 10.0))\n",
    "print(np.sum(bf >= 10.0))\n",
    "print(bf.shape)"
   ]
  },
  {
   "cell_type": "code",
   "execution_count": 63,
   "metadata": {},
   "outputs": [],
   "source": [
    "# just a check\n",
    "# bf = me.selection.compute_model_bayes_factors(res)\n",
    "# inds = bf.argsort()\n",
    "# net_names_sorted = np.array(net_names)[inds]\n",
    "\n",
    "# net_names_sorted[0:370]"
   ]
  },
  {
   "cell_type": "code",
   "execution_count": 98,
   "metadata": {},
   "outputs": [
    {
     "name": "stdout",
     "output_type": "stream",
     "text": [
      "True\n"
     ]
    }
   ],
   "source": [
    "res1a = pickle.load(open('estimation_count_data_cd44_filtered_thin4_minimal2.pickle', 'rb'))\n",
    "res1b = pickle.load(open('estimation_count_data_cd44_filtered_thin4_par2.pickle', 'rb'))\n",
    "res1c = pickle.load(open('estimation_count_data_cd44_filtered_thin4_par3.pickle', 'rb'))\n",
    "res1 = res1a + res1b + res1c\n",
    "\n",
    "res2a = pickle.load(open('estimation_count_data_cd44_filtered_sigma022_minimal2.pickle', 'rb'))\n",
    "res2b = pickle.load(open('estimation_count_data_cd44_filtered_sigma022_par2.pickle', 'rb'))\n",
    "res2c = pickle.load(open('estimation_count_data_cd44_filtered_sigma022_par3.pickle', 'rb'))\n",
    "res2 = res2a + res2b + res2c\n",
    "\n",
    "print([est.net.net_name for est in res1] == [est.net.net_name for est in res2])\n",
    "model_logevids_thin4 = [est.bay_est_log_evidence for est in res1]\n",
    "model_logevids_full = [est.bay_est_log_evidence for est in res2]"
   ]
  },
  {
   "cell_type": "code",
   "execution_count": 99,
   "metadata": {},
   "outputs": [
    {
     "data": {
      "text/plain": [
       "0.5317701150054782"
      ]
     },
     "execution_count": 99,
     "metadata": {},
     "output_type": "execute_result"
    },
    {
     "data": {
      "image/png": "[encoded data removed]",
      "text/plain": [
       "<Figure size 86.4x57.6 with 1 Axes>"
      ]
     },
     "metadata": {
      "needs_background": "light"
     },
     "output_type": "display_data"
    }
   ],
   "source": [
    "plt.rcParams.update({'figure.figsize': (1.2, 0.8)})\n",
    "plt.figure()\n",
    "ax = plt.gca()\n",
    "ax.spines['top'].set_visible(False)\n",
    "ax.spines['right'].set_visible(False)\n",
    "ax.spines['bottom'].set_visible(True)\n",
    "ax.spines['left'].set_visible(True)\n",
    "plt.scatter(model_logevids_thin4, model_logevids_full, color=grey, s=1.0)\n",
    "plt.xlabel('Model Log(Evidence) (Thin data)')\n",
    "plt.ylabel('Model Log(Evidence) (Full data)')\n",
    "plt.xlim((None, None))\n",
    "plt.ylim((None, None))\n",
    "plt.savefig('paper_figures/evidence_corr_thin_vs_full_data.pdf', bbox_inches='tight')\n",
    "\n",
    "np.corrcoef(model_logevids_thin4, model_logevids_full)[0, 1]"
   ]
  },
  {
   "cell_type": "code",
   "execution_count": 100,
   "metadata": {},
   "outputs": [
    {
     "name": "stdout",
     "output_type": "stream",
     "text": [
      "True\n"
     ]
    },
    {
     "data": {
      "text/plain": [
       "0.8272359852231786"
      ]
     },
     "execution_count": 100,
     "metadata": {},
     "output_type": "execute_result"
    },
    {
     "data": {
      "image/png": "[encoded data removed]",
      "text/plain": [
       "<Figure size 86.4x57.6 with 1 Axes>"
      ]
     },
     "metadata": {
      "needs_background": "light"
     },
     "output_type": "display_data"
    }
   ],
   "source": [
    "net_names = [est.net.net_name for est in res1]\n",
    "print(net_names == [est.net.net_name for est in res2])\n",
    "\n",
    "model_rank_thin4 = np.array(list(range(0, len(res1))))\n",
    "model_rank_full = np.array(list(range(0, len(res2))))\n",
    "\n",
    "inds = np.array(model_logevids_thin4).argsort()\n",
    "model_rank_thin4_sorted = model_rank_thin4[inds]\n",
    "\n",
    "inds = np.array(model_logevids_full).argsort()\n",
    "model_rank_full_sorted = model_rank_full[inds]\n",
    "\n",
    "x_rank = list(range(0, len(res1)))\n",
    "y_rank = list()\n",
    "for x in x_rank:\n",
    "    ind_thin4 = model_rank_thin4_sorted[x]\n",
    "    y_rank.append(list(model_rank_full_sorted).index(ind_thin4))\n",
    "    \n",
    "plt.rcParams.update({'figure.figsize': (1.2, 0.8)})\n",
    "plt.figure()\n",
    "ax = plt.gca()\n",
    "ax.spines['top'].set_visible(False)\n",
    "ax.spines['right'].set_visible(False)\n",
    "ax.spines['bottom'].set_visible(True)\n",
    "ax.spines['left'].set_visible(True)\n",
    "plt.scatter(x_rank, y_rank, color=grey, alpha=0.5, s=1.0, lw=0.0) # , s=1.0)\n",
    "plt.xlabel('Model rank (thin data)')\n",
    "plt.ylabel('Model rank (full data)')\n",
    "plt.xlim((None, None))\n",
    "plt.ylim((None, None))\n",
    "plt.savefig('paper_figures/rank_corr_thin_vs_full_data.pdf', bbox_inches='tight')\n",
    "\n",
    "np.corrcoef(x_rank, y_rank)[0, 1]"
   ]
  },
  {
   "cell_type": "markdown",
   "metadata": {},
   "source": [
    "##### Figure 5 <a id='figure5'></a> [↑](#top)"
   ]
  },
  {
   "cell_type": "markdown",
   "metadata": {},
   "source": [
    "###### model topology"
   ]
  },
  {
   "cell_type": "code",
   "execution_count": 15,
   "metadata": {},
   "outputs": [
    {
     "data": {
      "image/png": "[encoded data removed]",
      "text/plain": [
       "<IPython.core.display.Image object>"
      ]
     },
     "metadata": {},
     "output_type": "display_data"
    }
   ],
   "source": [
    "t = [\n",
    "        {'start': 'X_t', 'end': 'Y_t', 'rate_symbol': 'dxy', 'type': 'S -> E', 'reaction_steps': 4},\n",
    "        {'start': 'Y_t', 'end': 'Z_t', 'rate_symbol': 'dyz', 'type': 'S -> E', 'reaction_steps': 2},\n",
    "        {'start': 'X_t', 'end': 'X_t', 'rate_symbol': 'lx', 'type': 'S -> S + S', 'reaction_steps': 5},\n",
    "        {'start': 'Y_t', 'end': 'Y_t', 'rate_symbol': 'ly', 'type': 'S -> S + S', 'reaction_steps': 1},\n",
    "        {'start': 'Z_t', 'end': 'Z_t', 'rate_symbol': 'lz', 'type': 'S -> S + S', 'reaction_steps': 3},\n",
    "        ]\n",
    "\n",
    "net = me.Network('net_true')\n",
    "net.structure(t)\n",
    "\n",
    "# need hex colors here\n",
    "# \"#FF1F5B\", \"#00CD6C\", \"#009ADE\"\n",
    "node_settings = {\n",
    "    'X_t': {'label': 'X_t', 'color': \"#FFC61E\"},\n",
    "    'Y_t': {'label': 'Y_t', 'color': \"#FF1F5B\"},\n",
    "    'Z_t': {'label': 'Z_t', 'color': \"#009ADE\"},\n",
    "}\n",
    "me.plots.net_main_plot(net, node_settings=node_settings, save='paper_figures/topol_true_model.pdf')\n",
    "# me.plots.net_hidden_plot(net, layout='dot')"
   ]
  },
  {
   "cell_type": "code",
   "execution_count": 51,
   "metadata": {},
   "outputs": [
    {
     "data": {
      "image/png": "[encoded data removed]",
      "text/plain": [
       "<Figure size 86.4x57.6 with 1 Axes>"
      ]
     },
     "metadata": {
      "needs_background": "light"
     },
     "output_type": "display_data"
    },
    {
     "data": {
      "image/png": "[encoded data removed]",
      "text/plain": [
       "<Figure size 86.4x57.6 with 1 Axes>"
      ]
     },
     "metadata": {
      "needs_background": "light"
     },
     "output_type": "display_data"
    },
    {
     "data": {
      "image/png": "[encoded data removed]",
      "text/plain": [
       "<Figure size 86.4x57.6 with 1 Axes>"
      ]
     },
     "metadata": {
      "needs_background": "light"
     },
     "output_type": "display_data"
    }
   ],
   "source": [
    "# data and fit of true model\n",
    "res = pickle.load(open('estimation_data_pathway_topology_n1000_t11_2_surround.pickle', 'rb'))\n",
    "net_names = [est.net.net_name for est in res]\n",
    "model_probs = me.selection.compute_model_probabilities(res)\n",
    "data = res[0].data\n",
    "\n",
    "est = res[0]\n",
    "plt.rcParams.update({'figure.figsize': (1.2, 0.8)})\n",
    "\n",
    "settings = {\n",
    "    'X_t': {'label': 'E$(X_t)$', 'color': ctopx},\n",
    "    'Y_t': {'label': 'E$(Y_t)$', 'color': ctopy},\n",
    "    'Z_t': {'label': 'E$(Z_t)$', 'color': ctopz},\n",
    "}\n",
    "me.plots.est_bestfit_mean_plot(est, x_label='Time (days)', data=True, conf=True, save='paper_figures/fit_topol_data_mean_net42513.pdf', settings=settings)\n",
    "\n",
    "settings = {\n",
    "    ('X_t', 'X_t'): {'label': 'Var$(X_t)$', 'color': ctopx},\n",
    "    ('Y_t', 'Y_t'): {'label': 'Var$(Y_t)$', 'color': ctopy},\n",
    "    ('Z_t', 'Z_t'): {'label': 'Var$(Z_t)$', 'color': ctopz}\n",
    "}\n",
    "me.plots.est_bestfit_variance_plot(est, x_label='Time (days)', data=True, conf=True, save='paper_figures/fit_topol_data_var_net42513.pdf', settings=settings)\n",
    "\n",
    "settings = {\n",
    "    ('X_t', 'Y_t'): {'label': 'Cov$(X_t, Y_t)$', 'color': ctopz},\n",
    "    ('X_t', 'Z_t'): {'label': 'Cov$(X_t, Z_t)$', 'color': ctopy},\n",
    "    ('Y_t', 'Z_t'): {'label': 'Cov$(Y_t, Z_t)$', 'color': ctopx}\n",
    "}\n",
    "me.plots.est_bestfit_covariance_plot(est, x_label='Time (days)', data=True, conf=True, save='paper_figures/fit_topol_data_cov_net42513.pdf', settings=settings)"
   ]
  },
  {
   "cell_type": "code",
   "execution_count": 52,
   "metadata": {},
   "outputs": [
    {
     "data": {
      "image/png": "[encoded data removed]",
      "text/plain": [
       "<Figure size 849.6x849.6 with 25 Axes>"
      ]
     },
     "metadata": {
      "needs_background": "light"
     },
     "output_type": "display_data"
    }
   ],
   "source": [
    "est = res[0]\n",
    "me.plots.est_corner_kernel_plot(est, save='paper_figures/corner_net42513.pdf')"
   ]
  },
  {
   "cell_type": "code",
   "execution_count": 53,
   "metadata": {},
   "outputs": [
    {
     "data": {
      "text/plain": [
       "['#66c2a5', '#fc8d62', '#8da0cb']"
      ]
     },
     "execution_count": 53,
     "metadata": {},
     "output_type": "execute_result"
    }
   ],
   "source": [
    "sns.color_palette('Set2', n_colors=3).as_hex()"
   ]
  },
  {
   "cell_type": "code",
   "execution_count": 54,
   "metadata": {},
   "outputs": [
    {
     "data": {
      "image/png": "[encoded data removed]",
      "text/plain": [
       "<Figure size 86.4x57.6 with 1 Axes>"
      ]
     },
     "metadata": {
      "needs_background": "light"
     },
     "output_type": "display_data"
    }
   ],
   "source": [
    "plt.rcParams.update({'figure.figsize': (1.2, 0.8)})\n",
    "ax = plt.gca()\n",
    "ax.spines['top'].set_visible(False)\n",
    "ax.spines['right'].set_visible(False)\n",
    "ax.spines['bottom'].set_visible(True)\n",
    "ax.spines['left'].set_visible(True)\n",
    "\n",
    "trace_emph = 4\n",
    "for trace_i in range(10):\n",
    "    if trace_i!=trace_emph:\n",
    "        plt.plot(data.data_time_values, data.data_counts[trace_i, 0, :], color=ctopx, alpha=0.15, linewidth=0.5)\n",
    "        plt.plot(data.data_time_values, data.data_counts[trace_i, 1, :], color=ctopy, alpha=0.15, linewidth=0.5)\n",
    "        plt.plot(data.data_time_values, data.data_counts[trace_i, 2, :], color=ctopz, alpha=0.15, linewidth=0.5)\n",
    "    else:\n",
    "        plt.plot(data.data_time_values, data.data_counts[trace_i, 0, :], color=ctopx, alpha=1.0, linewidth=1.0, label='X_t', zorder=1000) # color='darkgreen'\n",
    "        plt.plot(data.data_time_values, data.data_counts[trace_i, 1, :], color=ctopy, alpha=1.0, linewidth=1.0, label='Y_t', zorder=1000) # color='darkblue'\n",
    "        plt.plot(data.data_time_values, data.data_counts[trace_i, 2, :], color=ctopz, alpha=1.0, linewidth=1.0, label='Z_t', zorder=1000) # color='darkblue'\n",
    "\n",
    "# ax.set_ylim([-0.3, None])\n",
    "leg = plt.legend()\n",
    "plt.legend(frameon=False)\n",
    "# leg.get_frame().set_edgecolor('lightgrey')\n",
    "plt.ylim((-0.5, 16))\n",
    "plt.xlabel('Time (days)')\n",
    "plt.ylabel('Number of cells')\n",
    "plt.savefig(f'paper_figures/data_topol_single_well_traces.pdf', bbox_inches='tight')"
   ]
  },
  {
   "cell_type": "code",
   "execution_count": 55,
   "metadata": {},
   "outputs": [
    {
     "data": {
      "image/png": "[encoded data removed]",
      "text/plain": [
       "<Figure size 288x21.6 with 2 Axes>"
      ]
     },
     "metadata": {
      "needs_background": "light"
     },
     "output_type": "display_data"
    }
   ],
   "source": [
    "sort_inds = np.array(- model_probs).argsort()\n",
    "net_names_sorted = np.array(net_names)[sort_inds]\n",
    "model_probs_sorted = np.array(model_probs)[sort_inds]\n",
    "\n",
    "plt.figure(figsize=(4.0,0.3))\n",
    "df = pd.DataFrame(np.array([model_probs_sorted]) * 100.0, columns=net_names_sorted) # , index=rows\n",
    "sns.heatmap(df, cmap='cividis', annot=True, fmt='.1f') # 'plasma' # annot=True\n",
    "plt.yticks(rotation=0, va='center')\n",
    "plt.xticks(rotation=90)\n",
    "plt.savefig('paper_figures/topol_top_models.pdf', bbox_inches='tight')"
   ]
  },
  {
   "cell_type": "markdown",
   "metadata": {},
   "source": [
    "###### topology A (true) results"
   ]
  },
  {
   "cell_type": "code",
   "execution_count": 121,
   "metadata": {},
   "outputs": [
    {
     "name": "stdout",
     "output_type": "stream",
     "text": [
      "3125\n"
     ]
    }
   ],
   "source": [
    "res_evids = pickle.load(open('estimation_data_pathway_topology_n1000_t11_2_toptrue3125_evids.pickle', 'rb'))\n",
    "print(len(res_evids))"
   ]
  },
  {
   "cell_type": "code",
   "execution_count": 122,
   "metadata": {},
   "outputs": [
    {
     "name": "stdout",
     "output_type": "stream",
     "text": [
      "net42513\n"
     ]
    }
   ],
   "source": [
    "net_names = [e[0] for e in res_evids]\n",
    "log_evids = np.array([e[1] for e in res_evids])\n",
    "model_probs = me.selection.compute_model_probabilities_from_log_evidences(log_evids)\n",
    "print(net_names[list(model_probs).index(max(model_probs))])\n",
    "sort_inds = np.array(- model_probs).argsort()\n",
    "net_names_sorted = np.array(net_names)[sort_inds]\n",
    "model_probs_sorted = np.array(model_probs)[sort_inds]"
   ]
  },
  {
   "cell_type": "code",
   "execution_count": 123,
   "metadata": {},
   "outputs": [
    {
     "name": "stdout",
     "output_type": "stream",
     "text": [
      "[4.01548985e-01 2.65501834e-01 1.81420908e-01 1.14624984e-01\n",
      " 3.60233626e-02 8.68690121e-04 1.06347828e-05 4.87541599e-07\n",
      " 5.78062316e-08 5.56034643e-08]\n",
      "['net42513' 'net42514' 'net42515' 'net42512' 'net43511' 'net43512'\n",
      " 'net43513' 'net43514' 'net42511' 'net43515']\n"
     ]
    }
   ],
   "source": [
    "print(model_probs_sorted[:10])\n",
    "print(net_names_sorted[:10])"
   ]
  },
  {
   "cell_type": "code",
   "execution_count": 118,
   "metadata": {},
   "outputs": [
    {
     "data": {
      "image/png": "[encoded data removed]",
      "text/plain": [
       "<Figure size 288x21.6 with 2 Axes>"
      ]
     },
     "metadata": {
      "needs_background": "light"
     },
     "output_type": "display_data"
    }
   ],
   "source": [
    "plt.figure(figsize=(4.0,0.3))\n",
    "df = pd.DataFrame(np.array([model_probs_sorted[:10] * 100.0]), columns=net_names_sorted[:10]) # , index=rows\n",
    "sns.heatmap(df, cmap='cividis', annot=True, fmt='.1f') # 'plasma' # annot=True\n",
    "plt.yticks(rotation=0, va='center')\n",
    "plt.xticks(rotation=90)\n",
    "plt.savefig('paper_figures/topol_top_models_A.pdf', bbox_inches='tight')"
   ]
  },
  {
   "cell_type": "markdown",
   "metadata": {},
   "source": [
    "###### topology B results"
   ]
  },
  {
   "cell_type": "code",
   "execution_count": 134,
   "metadata": {},
   "outputs": [
    {
     "name": "stdout",
     "output_type": "stream",
     "text": [
      "3125\n"
     ]
    }
   ],
   "source": [
    "res_evids1 = pickle.load(open('estimation_data_pathway_topology_n1000_t11_2_topB3125_part1_evids.pickle', 'rb'))\n",
    "res_evids2 = pickle.load(open('estimation_data_pathway_topology_n1000_t11_2_topB3125_part2_evids.pickle', 'rb'))\n",
    "res_evids3 = pickle.load(open('estimation_data_pathway_topology_n1000_t11_2_topB3125_part3_evids.pickle', 'rb'))\n",
    "res_evids = res_evids1 + res_evids2 + res_evids3\n",
    "print(len(res_evids))"
   ]
  },
  {
   "cell_type": "code",
   "execution_count": 135,
   "metadata": {},
   "outputs": [
    {
     "name": "stdout",
     "output_type": "stream",
     "text": [
      "net51212\n"
     ]
    }
   ],
   "source": [
    "net_names = [e[0] for e in res_evids]\n",
    "log_evids = np.array([e[1] for e in res_evids])\n",
    "model_probs = me.selection.compute_model_probabilities_from_log_evidences(log_evids)\n",
    "print(net_names[list(model_probs).index(max(model_probs))])\n",
    "sort_inds = np.array(- model_probs).argsort()\n",
    "net_names_sorted = np.array(net_names)[sort_inds]\n",
    "model_probs_sorted = np.array(model_probs)[sort_inds]"
   ]
  },
  {
   "cell_type": "code",
   "execution_count": 136,
   "metadata": {},
   "outputs": [
    {
     "name": "stdout",
     "output_type": "stream",
     "text": [
      "[1.00000000e+00 4.63105079e-11 1.60171055e-14 3.70226979e-19\n",
      " 5.40904368e-21 2.57726313e-21 1.10924191e-30 6.61394015e-35\n",
      " 2.11879657e-38 1.78506714e-42]\n",
      "['net51212' 'net51213' 'net51222' 'net51232' 'net51242' 'net51252'\n",
      " 'net51223' 'net51214' 'net51233' 'net51243']\n"
     ]
    }
   ],
   "source": [
    "print(model_probs_sorted[:10])\n",
    "print(net_names_sorted[:10])"
   ]
  },
  {
   "cell_type": "code",
   "execution_count": 137,
   "metadata": {},
   "outputs": [
    {
     "data": {
      "image/png": "[encoded data removed]",
      "text/plain": [
       "<Figure size 288x21.6 with 2 Axes>"
      ]
     },
     "metadata": {
      "needs_background": "light"
     },
     "output_type": "display_data"
    }
   ],
   "source": [
    "plt.figure(figsize=(4.0,0.3))\n",
    "df = pd.DataFrame(np.array([model_probs_sorted[:10] * 100.0]), columns=net_names_sorted[:10]) # , index=rows\n",
    "sns.heatmap(df, cmap='cividis', annot=True, fmt='.1f') # 'plasma' # annot=True\n",
    "plt.yticks(rotation=0, va='center')\n",
    "plt.xticks(rotation=90)\n",
    "plt.savefig('paper_figures/topol_top_models_B.pdf', bbox_inches='tight')"
   ]
  },
  {
   "cell_type": "code",
   "execution_count": 138,
   "metadata": {},
   "outputs": [],
   "source": [
    "net_names = [est.net.net_name for est in res]\n",
    "model_probs = me.selection.compute_model_probabilities(res)\n",
    "data = res[0].data"
   ]
  },
  {
   "cell_type": "markdown",
   "metadata": {},
   "source": [
    "###### topology C results"
   ]
  },
  {
   "cell_type": "code",
   "execution_count": 147,
   "metadata": {},
   "outputs": [
    {
     "name": "stdout",
     "output_type": "stream",
     "text": [
      "3125\n"
     ]
    }
   ],
   "source": [
    "res_evids1 = pickle.load(open('estimation_data_pathway_topology_n1000_t11_2_topC3125_part1_evids.pickle', 'rb'))\n",
    "res_evids2 = pickle.load(open('estimation_data_pathway_topology_n1000_t11_2_topC3125_part2_evids.pickle', 'rb'))\n",
    "res_evids = res_evids1 + res_evids2\n",
    "print(len(res_evids))"
   ]
  },
  {
   "cell_type": "code",
   "execution_count": 148,
   "metadata": {},
   "outputs": [
    {
     "name": "stdout",
     "output_type": "stream",
     "text": [
      "net35515\n"
     ]
    }
   ],
   "source": [
    "net_names = [e[0] for e in res_evids]\n",
    "log_evids = np.array([e[1] for e in res_evids])\n",
    "model_probs = me.selection.compute_model_probabilities_from_log_evidences(log_evids)\n",
    "print(net_names[list(model_probs).index(max(model_probs))])\n",
    "sort_inds = np.array(- model_probs).argsort()\n",
    "net_names_sorted = np.array(net_names)[sort_inds]\n",
    "model_probs_sorted = np.array(model_probs)[sort_inds]"
   ]
  },
  {
   "cell_type": "code",
   "execution_count": 149,
   "metadata": {},
   "outputs": [
    {
     "name": "stdout",
     "output_type": "stream",
     "text": [
      "[9.89435443e-01 1.04782609e-02 8.01854396e-05 3.66500769e-06\n",
      " 2.44255197e-06 2.95692242e-09 5.02428379e-11 4.56107827e-13\n",
      " 8.37346281e-14 1.24742827e-15]\n",
      "['net35515' 'net35514' 'net35415' 'net35513' 'net35414' 'net35413'\n",
      " 'net45515' 'net45514' 'net35512' 'net35412']\n"
     ]
    }
   ],
   "source": [
    "print(model_probs_sorted[:10])\n",
    "print(net_names_sorted[:10])"
   ]
  },
  {
   "cell_type": "code",
   "execution_count": 150,
   "metadata": {},
   "outputs": [
    {
     "data": {
      "image/png": "[encoded data removed]",
      "text/plain": [
       "<Figure size 288x21.6 with 2 Axes>"
      ]
     },
     "metadata": {
      "needs_background": "light"
     },
     "output_type": "display_data"
    }
   ],
   "source": [
    "plt.figure(figsize=(4.0,0.3))\n",
    "df = pd.DataFrame(np.array([model_probs_sorted[:10] * 100.0]), columns=net_names_sorted[:10]) # , index=rows\n",
    "sns.heatmap(df, cmap='cividis', annot=True, fmt='.1f') # 'plasma' # annot=True\n",
    "plt.yticks(rotation=0, va='center')\n",
    "plt.xticks(rotation=90)\n",
    "plt.savefig('paper_figures/topol_top_models_C.pdf', bbox_inches='tight')"
   ]
  },
  {
   "cell_type": "markdown",
   "metadata": {},
   "source": [
    "###### summary"
   ]
  },
  {
   "cell_type": "code",
   "execution_count": 151,
   "metadata": {},
   "outputs": [
    {
     "name": "stdout",
     "output_type": "stream",
     "text": [
      "3125 3125 3125\n",
      "9375\n"
     ]
    }
   ],
   "source": [
    "evidsA = pickle.load(open('estimation_data_pathway_topology_n1000_t11_2_toptrue3125_evids.pickle', 'rb'))\n",
    "evidsB1 = pickle.load(open('estimation_data_pathway_topology_n1000_t11_2_topB3125_part1_evids.pickle', 'rb'))\n",
    "evidsB2 = pickle.load(open('estimation_data_pathway_topology_n1000_t11_2_topB3125_part2_evids.pickle', 'rb'))\n",
    "evidsB3 = pickle.load(open('estimation_data_pathway_topology_n1000_t11_2_topB3125_part3_evids.pickle', 'rb'))\n",
    "evidsC1 = pickle.load(open('estimation_data_pathway_topology_n1000_t11_2_topC3125_part1_evids.pickle', 'rb')) \n",
    "evidsC2 = pickle.load(open('estimation_data_pathway_topology_n1000_t11_2_topC3125_part2_evids.pickle', 'rb'))\n",
    "\n",
    "evidsB = evidsB1 + evidsB2 + evidsB3\n",
    "evidsC = evidsC1 + evidsC2\n",
    "print(len(evidsA), len(evidsB), len(evidsC))\n",
    "\n",
    "logevidsall = np.array([e[1] for e in evidsA+evidsB+evidsC])\n",
    "print(len(logevidsall))\n",
    "namesall = np.array(['A' + e[0][3:] for e in evidsA] + ['B' + e[0][3:] for e in evidsB] + ['C' + e[0][3:] for e in evidsC])"
   ]
  },
  {
   "cell_type": "code",
   "execution_count": 152,
   "metadata": {},
   "outputs": [
    {
     "name": "stdout",
     "output_type": "stream",
     "text": [
      "A42513\n"
     ]
    }
   ],
   "source": [
    "model_probs = me.selection.compute_model_probabilities_from_log_evidences(logevidsall)\n",
    "print(namesall[list(model_probs).index(max(model_probs))])\n",
    "sort_inds = np.array(- model_probs).argsort()\n",
    "namesall_sorted = np.array(namesall)[sort_inds]\n",
    "model_probs_sorted = np.array(model_probs)[sort_inds]"
   ]
  },
  {
   "cell_type": "code",
   "execution_count": 153,
   "metadata": {},
   "outputs": [
    {
     "data": {
      "image/png": "[encoded data removed]",
      "text/plain": [
       "<Figure size 288x21.6 with 2 Axes>"
      ]
     },
     "metadata": {
      "needs_background": "light"
     },
     "output_type": "display_data"
    }
   ],
   "source": [
    "plt.figure(figsize=(4.0,0.3))\n",
    "df = pd.DataFrame(np.array([model_probs_sorted[:10] * 100.0]), columns=namesall_sorted[:10]) # , index=rows\n",
    "sns.heatmap(df, cmap='cividis', annot=True, fmt='.1f') # 'plasma' # annot=True\n",
    "plt.yticks(rotation=0, va='center')\n",
    "plt.xticks(rotation=90)\n",
    "plt.savefig('paper_figures/topol_top_models_all.pdf', bbox_inches='tight')"
   ]
  },
  {
   "cell_type": "code",
   "execution_count": 163,
   "metadata": {},
   "outputs": [
    {
     "name": "stdout",
     "output_type": "stream",
     "text": [
      "0.9999999999999934 0.0 9.646173351363013e-220\n"
     ]
    },
    {
     "data": {
      "image/png": "[encoded data removed]",
      "text/plain": [
       "<Figure size 28.8x72 with 2 Axes>"
      ]
     },
     "metadata": {
      "needs_background": "light"
     },
     "output_type": "display_data"
    }
   ],
   "source": [
    "probssumA = np.sum(model_probs[:3125])\n",
    "probssumB = np.sum(model_probs[3125:6250])\n",
    "probssumC = np.sum(model_probs[6250:])\n",
    "print(probssumA, probssumB, probssumC)\n",
    "\n",
    "plt.figure(figsize=(0.4,1))\n",
    "df = pd.DataFrame(np.array([probssumA, probssumB, probssumC]) * 100.0, index=['A', 'B', 'C']) # , index=rows\n",
    "sns.heatmap(df, cmap='cividis', annot=True, fmt='.1f') # 'plasma' # annot=True\n",
    "plt.yticks(rotation=0, va='center')\n",
    "plt.savefig('paper_figures/topol_summary_probs.pdf', bbox_inches='tight')\n",
    "plt.show()"
   ]
  },
  {
   "cell_type": "code",
   "execution_count": null,
   "metadata": {},
   "outputs": [],
   "source": []
  }
 ],
 "metadata": {
  "kernelspec": {
   "display_name": "Python 3",
   "language": "python",
   "name": "python3"
  },
  "language_info": {
   "codemirror_mode": {
    "name": "ipython",
    "version": 3
   },
   "file_extension": ".py",
   "mimetype": "text/x-python",
   "name": "python",
   "nbconvert_exporter": "python",
   "pygments_lexer": "ipython3",
   "version": "3.7.4"
  }
 },
 "nbformat": 4,
 "nbformat_minor": 4
}
