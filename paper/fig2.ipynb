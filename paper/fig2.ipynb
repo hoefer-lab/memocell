{
 "cells": [
  {
   "cell_type": "markdown",
   "metadata": {},
   "source": [
    "#### Figure 2"
   ]
  },
  {
   "cell_type": "markdown",
   "metadata": {},
   "source": [
    "##### Package imports, figure settings, color definitions\n",
    "<img src=\"color_pal.png\" width=\"500\">"
   ]
  },
  {
   "cell_type": "code",
   "execution_count": 1,
   "metadata": {},
   "outputs": [
    {
     "name": "stderr",
     "output_type": "stream",
     "text": [
      "/Users/mlanghinrichs/Documents/Studium/MSc/09_hiwi_hoefer/01_project/memo_py/memo_py/selection.py:18: TqdmExperimentalWarning: Using `tqdm.autonotebook.tqdm` in notebook mode. Use `tqdm.tqdm` instead to force console mode (e.g. in jupyter console)\n",
      "  from tqdm.autonotebook import tqdm\n"
     ]
    },
    {
     "data": {
      "image/png": "[encoded data removed]",
      "text/plain": [
       "<Figure size 504x72 with 1 Axes>"
      ]
     },
     "metadata": {
      "needs_background": "light"
     },
     "output_type": "display_data"
    },
    {
     "data": {
      "image/png": "[encoded data removed]",
      "text/plain": [
       "<Figure size 216x72 with 1 Axes>"
      ]
     },
     "metadata": {
      "needs_background": "light"
     },
     "output_type": "display_data"
    },
    {
     "data": {
      "image/png": "[encoded data removed]",
      "text/plain": [
       "<Figure size 216x72 with 1 Axes>"
      ]
     },
     "metadata": {
      "needs_background": "light"
     },
     "output_type": "display_data"
    },
    {
     "data": {
      "image/png": "[encoded data removed]",
      "text/plain": [
       "<Figure size 216x72 with 1 Axes>"
      ]
     },
     "metadata": {
      "needs_background": "light"
     },
     "output_type": "display_data"
    },
    {
     "data": {
      "image/png": "[encoded data removed]",
      "text/plain": [
       "<Figure size 216x72 with 1 Axes>"
      ]
     },
     "metadata": {
      "needs_background": "light"
     },
     "output_type": "display_data"
    },
    {
     "data": {
      "image/png": "[encoded data removed]",
      "text/plain": [
       "<Figure size 216x72 with 1 Axes>"
      ]
     },
     "metadata": {
      "needs_background": "light"
     },
     "output_type": "display_data"
    },
    {
     "data": {
      "image/png": "[encoded data removed]",
      "text/plain": [
       "<Figure size 216x72 with 1 Axes>"
      ]
     },
     "metadata": {
      "needs_background": "light"
     },
     "output_type": "display_data"
    },
    {
     "data": {
      "image/png": "[encoded data removed]",
      "text/plain": [
       "<Figure size 216x72 with 1 Axes>"
      ]
     },
     "metadata": {
      "needs_background": "light"
     },
     "output_type": "display_data"
    },
    {
     "data": {
      "image/png": "[encoded data removed]",
      "text/plain": [
       "<Figure size 216x72 with 1 Axes>"
      ]
     },
     "metadata": {
      "needs_background": "light"
     },
     "output_type": "display_data"
    }
   ],
   "source": [
    "%matplotlib inline\n",
    "%run settings_load.py"
   ]
  },
  {
   "cell_type": "markdown",
   "metadata": {},
   "source": [
    "##### Figure 2"
   ]
  },
  {
   "cell_type": "code",
   "execution_count": 7,
   "metadata": {},
   "outputs": [],
   "source": [
    "# example parameter posterior\n",
    "res = pickle.load(open('in_silico_files/estimation_in_silico_data_cd44_sigma022_min2.pickle', 'rb'))"
   ]
  },
  {
   "cell_type": "code",
   "execution_count": 8,
   "metadata": {},
   "outputs": [
    {
     "name": "stdout",
     "output_type": "stream",
     "text": [
      "[0.06392081 0.06022008 0.05945486 0.05705106 0.05662379 0.05570246\n",
      " 0.05419261 0.05182397 0.05162547 0.04502167]\n",
      "[193.14687061 193.0872315  193.0744431  193.03317235 193.025655\n",
      " 193.00925    192.98177034 192.93707841 192.93324081 192.79636953]\n",
      "['net_5_17' 'net_5_19' 'net_5_20' 'net_5_14' 'net_5_18' 'net_5_15'\n",
      " 'net_5_16' 'net_5_13' 'net_5_12' 'net_5_11']\n"
     ]
    }
   ],
   "source": [
    "net_names = [est.net.net_name for est in res]\n",
    "model_probs = me.selection.compute_model_probabilities(res)\n",
    "log_evids = [est.bay_est_log_evidence for est in res]\n",
    "\n",
    "sort_inds = np.array(- model_probs).argsort()\n",
    "net_names_sorted = np.array(net_names)[sort_inds]\n",
    "model_probs_sorted = np.array(model_probs)[sort_inds]\n",
    "log_evids_sorted = np.array(log_evids)[sort_inds]\n",
    "\n",
    "print(model_probs_sorted[:10])\n",
    "print(log_evids_sorted[:10])\n",
    "print(net_names_sorted[:10])"
   ]
  },
  {
   "cell_type": "code",
   "execution_count": 14,
   "metadata": {},
   "outputs": [
    {
     "name": "stdout",
     "output_type": "stream",
     "text": [
      "36\n"
     ]
    }
   ],
   "source": [
    "print(net_names.index('net_5_17'))"
   ]
  },
  {
   "cell_type": "code",
   "execution_count": 9,
   "metadata": {},
   "outputs": [
    {
     "name": "stdout",
     "output_type": "stream",
     "text": [
      "net_4_1 68.84997093193375\n"
     ]
    }
   ],
   "source": [
    "print(res[0].net.net_name, res[0].bay_est_log_evidence)"
   ]
  },
  {
   "cell_type": "code",
   "execution_count": 35,
   "metadata": {
    "jupyter": {
     "source_hidden": true
    }
   },
   "outputs": [],
   "source": [
    "# # looks all good (compare run with a newer memopy version)\n",
    "# res_compare = pickle.load(open('estimation_count_data_cd44_filtered_sigma022_minimal2_multiedge.pickle', 'rb'))\n",
    "# print([est.net.net_name for est in res] == [est.net.net_name for est in res_compare])\n",
    "# print(np.all(np.array([est.data_mean_values for est in res]) == np.array([est.data_mean_values for est in res_compare])))\n",
    "# print(np.all(np.array([est.data_var_values for est in res]) == np.array([est.data_var_values for est in res_compare])))\n",
    "# print(np.all(np.array([est.data_cov_values for est in res]) == np.array([est.data_cov_values for est in res_compare])))\n",
    "# print([est.bay_log_likelihood_norm for est in res] == [est.bay_log_likelihood_norm for est in res_compare])\n",
    "# print([est.net_simulation.sim_moments.moment_eqs for est in res] == [est.net_simulation.sim_moments.moment_eqs for est in res_compare])\n",
    "# print([est.net_simulation.sim_moments.moment_eqs_template_str for est in res] == [est.net_simulation.sim_moments.moment_eqs_template_str for est in res_compare])\n",
    "\n",
    "# plt.figure()\n",
    "# plt.scatter([est.bay_est_log_evidence for est in res], [est.bay_est_log_evidence for est in res_compare])\n",
    "\n",
    "# print(stats.pearsonr([est.bay_est_log_evidence for est in res], [est.bay_est_log_evidence for est in res_compare]))\n",
    "# print(stats.spearmanr([est.bay_est_log_evidence for est in res], [est.bay_est_log_evidence for est in res_compare]))\n",
    "\n",
    "# plt.figure()\n",
    "# plt.scatter([est.bay_est_log_likelihood_max for est in res], [est.bay_est_log_likelihood_max for est in res_compare])\n",
    "# res[0].bay_est_log_likelihood_max\n",
    "# print(stats.pearsonr([est.bay_est_log_likelihood_max for est in res], [est.bay_est_log_likelihood_max for est in res_compare]))\n",
    "# print(stats.spearmanr([est.bay_est_log_likelihood_max for est in res], [est.bay_est_log_likelihood_max for est in res_compare]))\n",
    "\n",
    "# for est1, est2 in zip(res, res_compare):\n",
    "# #     print(est1.net.net_name, est1.bay_est_log_evidence, est2.bay_est_log_evidence)\n",
    "#     print(est1.net.net_name, est1.bay_est_log_likelihood_max, est2.bay_est_log_likelihood_max)"
   ]
  },
  {
   "cell_type": "code",
   "execution_count": 11,
   "metadata": {},
   "outputs": [
    {
     "data": {
      "text/plain": [
       "(array([ 0.5,  1.5,  2.5,  3.5,  4.5,  5.5,  6.5,  7.5,  8.5,  9.5, 10.5,\n",
       "        11.5, 12.5, 13.5, 14.5, 15.5, 16.5, 17.5, 18.5, 19.5]),\n",
       " <a list of 20 Text major ticklabel objects>)"
      ]
     },
     "execution_count": 11,
     "metadata": {},
     "output_type": "execute_result"
    },
    {
     "data": {
      "image/png": "[encoded data removed]",
      "text/plain": [
       "<Figure size 216x360 with 2 Axes>"
      ]
     },
     "metadata": {
      "needs_background": "light"
     },
     "output_type": "display_data"
    }
   ],
   "source": [
    "steps_list = range(1, 11) # 11, 21\n",
    "\n",
    "steps_lambda = range(1, 21) # range(1, 21) # [5, 10, 15, 20, 25, 30, 35, 40, 50, 60, 70, 80]\n",
    "steps_alpha = range(4, 8) # range(4, 8) # [3]\n",
    "rows = [fr'$(\\lambda, {i})$' for i in steps_lambda] # steps_list # range(1, 21)]\n",
    "cols = [fr'$(\\alpha, {i})$' for i in steps_alpha] # steps_list # range(1, 6)]\n",
    "\n",
    "model_probs_2d = np.zeros((len(rows), len(cols)))\n",
    "\n",
    "for i, row_step in enumerate(rows):\n",
    "    for j, col_step in enumerate(cols):\n",
    "        name = f'net_{steps_alpha[j]}_{steps_lambda[i]}'\n",
    "        net_index = net_names.index(name)\n",
    "        model_probs_2d[i, j] = model_probs[net_index]\n",
    "\n",
    "df = pd.DataFrame(model_probs_2d * 100.0, index=rows, columns=cols)\n",
    "\n",
    "plt.figure(figsize=(3, 5)) # 8, 4 or 6, 8\n",
    "sns.heatmap(df, cmap='cividis', annot=True, fmt='.1f') # 'plasma' # annot=True\n",
    "plt.yticks(rotation=0, va='center')\n",
    "# plt.savefig('paper_figures/model_probs_cd44_minimal2.pdf')"
   ]
  },
  {
   "cell_type": "code",
   "execution_count": 23,
   "metadata": {},
   "outputs": [
    {
     "ename": "SyntaxError",
     "evalue": "invalid syntax (<ipython-input-23-da9bda0cdbad>, line 12)",
     "output_type": "error",
     "traceback": [
      "\u001b[0;36m  File \u001b[0;32m\"<ipython-input-23-da9bda0cdbad>\"\u001b[0;36m, line \u001b[0;32m12\u001b[0m\n\u001b[0;31m    est.\u001b[0m\n\u001b[0m        ^\u001b[0m\n\u001b[0;31mSyntaxError\u001b[0m\u001b[0;31m:\u001b[0m invalid syntax\n"
     ]
    }
   ],
   "source": [
    "est = res[36]\n",
    "\n",
    "# repair old memopy version\n",
    "est.net_simulation_credible_band_exists = False\n",
    "est.data.data_mean_exists_only = False\n",
    "\n",
    "# me.plots.est_bestfit_mean_plot(res[36])\n",
    "# me.plots.est_bestfit_variance_plot(res[36])\n",
    "# me.plots.est_bestfit_covariance_plot(res[36])\n",
    "# me.plots.est_corner_kernel_plot(est)\n",
    "\n",
    "est."
   ]
  },
  {
   "cell_type": "code",
   "execution_count": 69,
   "metadata": {},
   "outputs": [
    {
     "data": {
      "image/png": "[encoded data removed]",
      "text/plain": [
       "<Figure size 72x72 with 4 Axes>"
      ]
     },
     "metadata": {
      "needs_background": "light"
     },
     "output_type": "display_data"
    }
   ],
   "source": [
    "import dynesty\n",
    "from dynesty import plotting as dyplot\n",
    "\n",
    "fig, axes = dyplot.cornerplot(est.bay_nested_sampler_res, color=grey,\n",
    "                            show_titles=True,\n",
    "                            title_fmt='.2f', \n",
    "                            max_n_ticks=3,\n",
    "                            hist_kwargs={'histtype':'stepfilled', 'linewidth':'0.8'},\n",
    "                            hist2d_kwargs={'linewidth':'0.8'})\n",
    "fig.set_size_inches(1.0, 1.0, forward=True)\n",
    "plt.savefig('paper_figures/memocell_corner.pdf', bbox_inches='tight')"
   ]
  },
  {
   "cell_type": "code",
   "execution_count": 70,
   "metadata": {},
   "outputs": [
    {
     "data": {
      "image/png": "[encoded data removed]",
      "text/plain": [
       "<Figure size 57.6x36 with 1 Axes>"
      ]
     },
     "metadata": {
      "needs_background": "light"
     },
     "output_type": "display_data"
    }
   ],
   "source": [
    "# parameter priors\n",
    "plt.rcParams.update({'figure.figsize': (0.8, 0.5)})\n",
    "ax = plt.gca()\n",
    "ax.spines['top'].set_visible(False)\n",
    "ax.spines['right'].set_visible(False)\n",
    "ax.spines['bottom'].set_visible(True)\n",
    "ax.spines['left'].set_visible(True)\n",
    "\n",
    "plt.fill_between([0, 2], [0, 0], [0.5, 0.5], color=grey, alpha=0.25, linewidth=0)\n",
    "plt.fill_between([0.5, 3], [0, 0], [1/2.5, 1/2.5], color=grey, alpha=0.25, linewidth=0)\n",
    "# plt.plot([0, 2], [0.5, 0.5], color='#A0B1BA', zorder=100, linewidth=0.8)\n",
    "# plt.plot([0.5, 3], [1/2.5, 1/2.5], color='#A0B1BA', zorder=100, linewidth=0.8)\n",
    "\n",
    "plt.ylim((0, 1))\n",
    "plt.xlim((-0.2, 3.2))\n",
    "plt.xlabel('theta')\n",
    "plt.ylabel('p(theta)')\n",
    "plt.savefig(f'paper_figures/memocell_priors.pdf', bbox_inches='tight')"
   ]
  },
  {
   "cell_type": "code",
   "execution_count": 155,
   "metadata": {},
   "outputs": [
    {
     "name": "stdout",
     "output_type": "stream",
     "text": [
      "7\n"
     ]
    },
    {
     "data": {
      "image/png": "[encoded data removed]",
      "text/plain": [
       "<Figure size 57.6x36 with 1 Axes>"
      ]
     },
     "metadata": {
      "needs_background": "light"
     },
     "output_type": "display_data"
    }
   ],
   "source": [
    "# poisson count data\n",
    "from scipy.stats import poisson\n",
    "np.random.seed(5)\n",
    "\n",
    "lamprior = 2\n",
    "data = np.random.poisson(lam=lamprior, size=20)\n",
    "\n",
    "# prior (λprior=8)\n",
    "# Gamma(λprior, 1)\n",
    "# posterior (analytical)\n",
    "# Gamma(λprior + sum(data), 1/(length(data)+1))\n",
    "gamma_samples = np.random.gamma(lamprior + np.sum(data), 1/(len(data)+1), 10000)\n",
    "xvals = [n for n in range(0, 7)]\n",
    "print(len(xvals))\n",
    "poisson_samples = np.array([poisson.pmf(xvals, s) for s in gamma_samples])\n",
    "\n",
    "poisson_upper = np.percentile(poisson_samples, 97.5, axis=0)\n",
    "poisson_median = np.percentile(poisson_samples, 50, axis=0)\n",
    "poisson_lower = np.percentile(poisson_samples, 2.5, axis=0)\n",
    "\n",
    "errlow = poisson_median-poisson_lower\n",
    "errupp = poisson_upper-poisson_median\n",
    "\n",
    "plt.rcParams.update({'figure.figsize': (0.8, 0.5)})\n",
    "ax = plt.gca()\n",
    "ax.spines['top'].set_visible(False)\n",
    "ax.spines['right'].set_visible(False)\n",
    "ax.spines['bottom'].set_visible(True)\n",
    "ax.spines['left'].set_visible(True)\n",
    "\n",
    "plt.hist(data, color=grey, alpha=0.5, density=True, label='Data',\n",
    "        bins=np.linspace(-0.5, len(xvals)-0.5, num=len(xvals)+1))\n",
    "\n",
    "plt.errorbar(xvals, poisson_median, yerr=np.array([errlow, errupp]),\n",
    "             color=cnaive, linewidth=1.0, capsize=1.0,\n",
    "             zorder=100, markersize=2, fmt='.', label='Inference')\n",
    "leg = plt.legend()\n",
    "plt.legend(frameon=False)\n",
    "plt.ylim(-0.02, 0.5)\n",
    "plt.xlim(-0.7, len(xvals)-0.3)\n",
    "plt.xlabel(\"Cell number\")\n",
    "plt.ylabel(\"Frequency\")\n",
    "plt.savefig(f'paper_figures/memocell_celldistr.pdf', bbox_inches='tight')"
   ]
  },
  {
   "cell_type": "code",
   "execution_count": 209,
   "metadata": {},
   "outputs": [
    {
     "data": {
      "image/png": "[encoded data removed]",
      "text/plain": [
       "<Figure size 72x36 with 1 Axes>"
      ]
     },
     "metadata": {
      "needs_background": "light"
     },
     "output_type": "display_data"
    }
   ],
   "source": [
    "# waiting time distribution example\n",
    "from scipy.stats import erlang\n",
    "\n",
    "# draw mean rate from a Gaussian (mean and std)\n",
    "theta = np.random.normal(0.05, 0.0025, 10000)\n",
    "x = np.linspace(0.0, 55.0, num=1000)\n",
    "\n",
    "# construct a Erlang waiting time distr.\n",
    "erlang_steps = np.random.choice([12, 13, 14, 15, 16, 17, 18], 10000, p=[0.05, 0.1, 0.2, 0.3, 0.2, 0.1, 0.05])\n",
    "erlang_samples = np.array([erlang.pdf(x, a=erlang_steps[i],\n",
    "                                   scale=1/(erlang_steps[i]*theta[i])) for i in range(len(theta))])\n",
    "y = erlang_samples\n",
    "\n",
    "y_997_lower = np.percentile(y, 0.15, axis=0)\n",
    "y_95_lower = np.percentile(y, 2.5, axis=0)\n",
    "y_68_lower = np.percentile(y, 16.0, axis=0)\n",
    "y_median = np.percentile(y, 50.0, axis=0)\n",
    "y_68_upper = np.percentile(y, 84.0, axis=0)\n",
    "y_95_upper = np.percentile(y, 97.5, axis=0)\n",
    "y_997_upper = np.percentile(y, 99.85, axis=0)\n",
    "\n",
    "plt.rcParams.update({'figure.figsize': (1.0, 0.5)})\n",
    "plt.figure()\n",
    "ax = plt.gca()\n",
    "ax.spines['top'].set_visible(False)\n",
    "ax.spines['right'].set_visible(False)\n",
    "ax.spines['bottom'].set_visible(True)\n",
    "ax.spines['left'].set_visible(True)\n",
    "\n",
    "# adapted from framework plotting methods\n",
    "# if plot_data:\n",
    "#     data.events_find_all()\n",
    "#     data_act = np.array([tup[1] for tup in data.event_all_first_cell_type_conversion if tup[0]])\n",
    "\n",
    "#     plt.hist(data_act - 1e-06, bins=data.data_time_values,\n",
    "#              color='black', alpha=0.1,\n",
    "#              density=True, histtype='stepfilled')\n",
    "\n",
    "\n",
    "plt.fill_between(x, y_997_lower, y_95_lower, color=cwact, alpha=0.2, linewidth=0.0, zorder=100)\n",
    "plt.fill_between(x, y_95_lower, y_68_lower, color=cwact, alpha=0.4, linewidth=0.0, zorder=100)\n",
    "plt.fill_between(x, y_68_lower, y_median, color=cwact, alpha=0.6, linewidth=0.0, zorder=100)\n",
    "\n",
    "plt.fill_between(x, y_median, y_68_upper, color=cwact, alpha=0.6, linewidth=0.0, zorder=100)\n",
    "plt.fill_between(x, y_68_upper, y_95_upper, color=cwact, alpha=0.4, linewidth=0.0, zorder=100)\n",
    "plt.fill_between(x, y_95_upper, y_997_upper, color=cwact, alpha=0.2, linewidth=0.0, zorder=100)\n",
    "\n",
    "plt.plot(x, y_median, color=cwact, lw=1, zorder=200)\n",
    "\n",
    "# ax.set_yticklabels([])\n",
    "# ax.set_xticklabels([])\n",
    "# ax.tick_params(axis=u'both', which=u'both',length=0)\n",
    "\n",
    "plt.ylabel('Probability')\n",
    "plt.xlabel('Waiting time (hours)')\n",
    "plt.savefig('paper_figures/memocell_waiting_time.pdf', bbox_inches='tight') # pdf, png"
   ]
  },
  {
   "cell_type": "code",
   "execution_count": 236,
   "metadata": {},
   "outputs": [
    {
     "name": "stdout",
     "output_type": "stream",
     "text": [
      "1.09\n"
     ]
    },
    {
     "data": {
      "image/png": "[encoded data removed]",
      "text/plain": [
       "<Figure size 57.6x10.8 with 2 Axes>"
      ]
     },
     "metadata": {
      "needs_background": "light"
     },
     "output_type": "display_data"
    }
   ],
   "source": [
    "# posterior probability heatmaps\n",
    "# topology\n",
    "model_probs = np.array([0.2, 0.07, 0.8, 0.02])\n",
    "steps = ['$T_1$', '$T_2$', '$T_3$', '$T_4$']\n",
    "print(np.sum(model_probs))\n",
    "plt.figure(figsize=(0.8,0.15))\n",
    "df = pd.DataFrame(np.array([model_probs]), columns=steps) # , index=rows\n",
    "sns.heatmap(df, cmap='cividis', annot=False, fmt='.0f') # 'plasma' # annot=True\n",
    "plt.yticks(rotation=0, va='center')\n",
    "plt.xticks(rotation=0)\n",
    "plt.savefig('paper_figures/memocell_probs_topology.pdf', bbox_inches='tight')"
   ]
  },
  {
   "cell_type": "code",
   "execution_count": 231,
   "metadata": {},
   "outputs": [
    {
     "name": "stdout",
     "output_type": "stream",
     "text": [
      "0.9999999999999999\n"
     ]
    },
    {
     "data": {
      "image/png": "[encoded data removed]",
      "text/plain": [
       "<Figure size 86.4x10.8 with 2 Axes>"
      ]
     },
     "metadata": {
      "needs_background": "light"
     },
     "output_type": "display_data"
    }
   ],
   "source": [
    "# posterior probability heatmaps\n",
    "# steps\n",
    "model_probs = np.array([0.04, 0.1, 0.25, 0.3, 0.2, 0.1, 0.01])\n",
    "steps = np.array(range(1, len(model_probs)+1))\n",
    "print(np.sum(model_probs))\n",
    "plt.figure(figsize=(1.2,0.15))\n",
    "df = pd.DataFrame(np.array([model_probs]), columns=steps) # , index=rows\n",
    "sns.heatmap(df, cmap='cividis', annot=False, fmt='.0f') # 'plasma' # annot=True\n",
    "plt.yticks(rotation=0, va='center')\n",
    "plt.xticks(rotation=0)\n",
    "plt.savefig('paper_figures/memocell_probs_steps.pdf', bbox_inches='tight')"
   ]
  },
  {
   "cell_type": "markdown",
   "metadata": {},
   "source": [
    "##### schemes with topology analysis"
   ]
  },
  {
   "cell_type": "code",
   "execution_count": 5,
   "metadata": {},
   "outputs": [
    {
     "data": {
      "image/png": "[encoded data removed]",
      "text/plain": [
       "<Figure size 72x57.6 with 1 Axes>"
      ]
     },
     "metadata": {
      "needs_background": "light"
     },
     "output_type": "display_data"
    },
    {
     "data": {
      "image/png": "[encoded data removed]",
      "text/plain": [
       "<Figure size 72x57.6 with 1 Axes>"
      ]
     },
     "metadata": {
      "needs_background": "light"
     },
     "output_type": "display_data"
    },
    {
     "data": {
      "image/png": "[encoded data removed]",
      "text/plain": [
       "<Figure size 72x57.6 with 1 Axes>"
      ]
     },
     "metadata": {
      "needs_background": "light"
     },
     "output_type": "display_data"
    }
   ],
   "source": [
    "data = pickle.load(open('topology_files/data_pathway_topology_n1000_t11_2.pickle', 'rb'))\n",
    "\n",
    "plt.rcParams.update({'figure.figsize': (1.0, 0.8)})\n",
    "me.plots.data_mean_plot(data)\n",
    "me.plots.data_variance_plot(data)\n",
    "me.plots.data_covariance_plot(data)"
   ]
  },
  {
   "cell_type": "code",
   "execution_count": 285,
   "metadata": {},
   "outputs": [
    {
     "data": {
      "text/plain": [
       "array([ 0.,  5., 10.])"
      ]
     },
     "execution_count": 285,
     "metadata": {},
     "output_type": "execute_result"
    }
   ],
   "source": [
    "data.data_time_values[(0, 5, 10),]"
   ]
  },
  {
   "cell_type": "code",
   "execution_count": 11,
   "metadata": {},
   "outputs": [
    {
     "data": {
      "text/plain": [
       "(200, 3, 3)"
      ]
     },
     "execution_count": 11,
     "metadata": {},
     "output_type": "execute_result"
    }
   ],
   "source": [
    "data.data_counts[:200, :, (0, 5, 10)].shape"
   ]
  },
  {
   "cell_type": "code",
   "execution_count": 43,
   "metadata": {},
   "outputs": [],
   "source": [
    "# construct a new data set with less repeats\n",
    "data_less = me.Data('data_less')\n",
    "data_less.load(data.data_variables,\n",
    "            data.data_time_values[(0, 5, 10),],\n",
    "            data.data_counts[350:450, :, (0, 5, 10)],\n",
    "            basic_sigma=data.data_basic_sigma)"
   ]
  },
  {
   "cell_type": "code",
   "execution_count": 44,
   "metadata": {},
   "outputs": [
    {
     "data": {
      "image/png": "[encoded data removed]",
      "text/plain": [
       "<Figure size 50.4x36 with 1 Axes>"
      ]
     },
     "metadata": {
      "needs_background": "light"
     },
     "output_type": "display_data"
    },
    {
     "data": {
      "image/png": "[encoded data removed]",
      "text/plain": [
       "<Figure size 50.4x36 with 1 Axes>"
      ]
     },
     "metadata": {
      "needs_background": "light"
     },
     "output_type": "display_data"
    },
    {
     "data": {
      "image/png": "[encoded data removed]",
      "text/plain": [
       "<Figure size 50.4x36 with 1 Axes>"
      ]
     },
     "metadata": {
      "needs_background": "light"
     },
     "output_type": "display_data"
    }
   ],
   "source": [
    "plt.rcParams.update({'figure.figsize': (0.7, 0.5)})\n",
    "settings = {\n",
    "    'X_t': {'label': 'E$(X_t)$', 'color': ctopx},\n",
    "    'Y_t': {'label': 'E$(Y_t)$', 'color': ctopy},\n",
    "    'Z_t': {'label': 'E$(Z_t)$', 'color': ctopz},\n",
    "}\n",
    "me.plots.data_mean_plot(data_less, settings=settings,\n",
    "                       save='paper_figures/memocell_data_mean.pdf')\n",
    "settings = {\n",
    "    ('X_t', 'X_t'): {'label': 'Var$(X_t)$', 'color': ctopx},\n",
    "    ('Y_t', 'Y_t'): {'label': 'Var$(Y_t)$', 'color': ctopy},\n",
    "    ('Z_t', 'Z_t'): {'label': 'Var$(Z_t)$', 'color': ctopz}\n",
    "}\n",
    "me.plots.data_variance_plot(data_less, settings=settings,\n",
    "                           save='paper_figures/memocell_data_var.pdf')\n",
    "settings = {\n",
    "    ('X_t', 'Y_t'): {'label': 'Cov$(X_t, Y_t)$', 'color': ctopz},\n",
    "    ('X_t', 'Z_t'): {'label': 'Cov$(X_t, Z_t)$', 'color': ctopy},\n",
    "    ('Y_t', 'Z_t'): {'label': 'Cov$(Y_t, Z_t)$', 'color': ctopx}\n",
    "}\n",
    "me.plots.data_covariance_plot(data_less, settings=settings)"
   ]
  },
  {
   "cell_type": "code",
   "execution_count": 45,
   "metadata": {},
   "outputs": [],
   "source": [
    "# true network\n",
    "t = [\n",
    "        {'start': 'X_t', 'end': 'Y_t', 'rate_symbol': 'dxy', 'type': 'S -> E', 'reaction_steps': 4},\n",
    "        {'start': 'Y_t', 'end': 'Z_t', 'rate_symbol': 'dyz', 'type': 'S -> E', 'reaction_steps': 2},\n",
    "        {'start': 'X_t', 'end': 'X_t', 'rate_symbol': 'lx', 'type': 'S -> S + S', 'reaction_steps': 5},\n",
    "        {'start': 'Y_t', 'end': 'Y_t', 'rate_symbol': 'ly', 'type': 'S -> S + S', 'reaction_steps': 1},\n",
    "        {'start': 'Z_t', 'end': 'Z_t', 'rate_symbol': 'lz', 'type': 'S -> S + S', 'reaction_steps': 3},\n",
    "        ]\n",
    "\n",
    "net = me.Network('net_true')\n",
    "net.structure(t)\n",
    "\n",
    "# estimate true model on sparse data\n",
    "variables = {'X_t': ('X_t', ), 'Y_t': ('Y_t', ), 'Z_t': ('Z_t', )}\n",
    "initial_values = {'X_t': 1, 'Y_t': 0, 'Z_t': 0}\n",
    "theta_bounds = {'dxy': (0.0, 1.0), 'dyz': (0.0, 1.0), 'lx': (0.0, 1.0), 'ly': (0.0, 1.0), 'lz': (0.0, 1.0)}\n",
    "\n",
    "est = me.Estimation('est_data_less', net, data_less)\n",
    "est.estimate(variables, initial_values, theta_bounds)"
   ]
  },
  {
   "cell_type": "code",
   "execution_count": 46,
   "metadata": {},
   "outputs": [
    {
     "data": {
      "text/plain": [
       "array([0.36050741, 0.15571706, 0.18715817, 0.31824373, 0.39823044])"
      ]
     },
     "execution_count": 46,
     "metadata": {},
     "output_type": "execute_result"
    }
   ],
   "source": [
    "est.bay_est_params_median"
   ]
  },
  {
   "cell_type": "code",
   "execution_count": 48,
   "metadata": {},
   "outputs": [
    {
     "data": {
      "image/png": "[encoded data removed]",
      "text/plain": [
       "<Figure size 64.8x36 with 1 Axes>"
      ]
     },
     "metadata": {
      "needs_background": "light"
     },
     "output_type": "display_data"
    },
    {
     "data": {
      "image/png": "[encoded data removed]",
      "text/plain": [
       "<Figure size 64.8x36 with 1 Axes>"
      ]
     },
     "metadata": {
      "needs_background": "light"
     },
     "output_type": "display_data"
    },
    {
     "data": {
      "image/png": "[encoded data removed]",
      "text/plain": [
       "<Figure size 64.8x36 with 1 Axes>"
      ]
     },
     "metadata": {
      "needs_background": "light"
     },
     "output_type": "display_data"
    }
   ],
   "source": [
    "plt.rcParams.update({'figure.figsize': (0.9, 0.5)})\n",
    "settings = {\n",
    "    'X_t': {'label': 'E$(X_t)$', 'color': ctopx},\n",
    "    'Y_t': {'label': 'E$(Y_t)$', 'color': ctopy},\n",
    "    'Z_t': {'label': 'E$(Z_t)$', 'color': ctopz},\n",
    "}\n",
    "me.plots.est_bestfit_mean_plot(est, settings=settings,\n",
    "                               y_lim=(None, 4.0),\n",
    "                               save='paper_figures/memocell_meanfit.pdf')\n",
    "settings = {\n",
    "    ('X_t', 'X_t'): {'label': 'Var$(X_t)$', 'color': ctopx},\n",
    "    ('Y_t', 'Y_t'): {'label': 'Var$(Y_t)$', 'color': ctopy},\n",
    "    ('Z_t', 'Z_t'): {'label': 'Var$(Z_t)$', 'color': ctopz}\n",
    "}\n",
    "me.plots.est_bestfit_variance_plot(est, data=True, settings=settings,\n",
    "                                   save='paper_figures/memocell_varfit.pdf')\n",
    "settings = {\n",
    "    ('X_t', 'Y_t'): {'label': 'Cov$(X_t, Y_t)$', 'color': ctopz},\n",
    "    ('X_t', 'Z_t'): {'label': 'Cov$(X_t, Z_t)$', 'color': ctopy},\n",
    "    ('Y_t', 'Z_t'): {'label': 'Cov$(Y_t, Z_t)$', 'color': ctopx}\n",
    "}\n",
    "me.plots.est_bestfit_covariance_plot(est, data=True, settings=settings)"
   ]
  },
  {
   "cell_type": "code",
   "execution_count": 49,
   "metadata": {},
   "outputs": [
    {
     "data": {
      "image/png": "[encoded data removed]",
      "text/plain": [
       "<Figure size 50.4x36 with 1 Axes>"
      ]
     },
     "metadata": {
      "needs_background": "light"
     },
     "output_type": "display_data"
    },
    {
     "data": {
      "image/png": "[encoded data removed]",
      "text/plain": [
       "<Figure size 50.4x36 with 1 Axes>"
      ]
     },
     "metadata": {
      "needs_background": "light"
     },
     "output_type": "display_data"
    },
    {
     "data": {
      "image/png": "[encoded data removed]",
      "text/plain": [
       "<Figure size 50.4x36 with 1 Axes>"
      ]
     },
     "metadata": {
      "needs_background": "light"
     },
     "output_type": "display_data"
    }
   ],
   "source": [
    "plt.rcParams.update({'figure.figsize': (0.7, 0.5)})\n",
    "settings = {\n",
    "    'X_t': {'label': 'E$(X_t)$', 'color': ctopx},\n",
    "    'Y_t': {'label': 'E$(Y_t)$', 'color': ctopy},\n",
    "    'Z_t': {'label': 'E$(Z_t)$', 'color': ctopz},\n",
    "}\n",
    "me.plots.est_bestfit_mean_plot(est, settings=settings, data=False,\n",
    "                               cred=False,\n",
    "                               save='paper_figures/memocell_model_mean.pdf')\n",
    "settings = {\n",
    "    ('X_t', 'X_t'): {'label': 'Var$(X_t)$', 'color': ctopx},\n",
    "    ('Y_t', 'Y_t'): {'label': 'Var$(Y_t)$', 'color': ctopy},\n",
    "    ('Z_t', 'Z_t'): {'label': 'Var$(Z_t)$', 'color': ctopz}\n",
    "}\n",
    "me.plots.est_bestfit_variance_plot(est, data=False,\n",
    "                                   cred=False,\n",
    "                                   settings=settings,\n",
    "                                  save='paper_figures/memocell_model_var.pdf')\n",
    "settings = {\n",
    "    ('X_t', 'Y_t'): {'label': 'Cov$(X_t, Y_t)$', 'color': ctopz},\n",
    "    ('X_t', 'Z_t'): {'label': 'Cov$(X_t, Z_t)$', 'color': ctopy},\n",
    "    ('Y_t', 'Z_t'): {'label': 'Cov$(Y_t, Z_t)$', 'color': ctopx}\n",
    "}\n",
    "me.plots.est_bestfit_covariance_plot(est, data=False, \n",
    "                                     cred=False,\n",
    "                                     settings=settings,\n",
    "                                    save='paper_figures/memocell_model_cov.pdf')"
   ]
  },
  {
   "cell_type": "code",
   "execution_count": 117,
   "metadata": {},
   "outputs": [
    {
     "data": {
      "text/plain": [
       "[array([ 0.,  5., 10.]),\n",
       " array([[1., 0., 0.],\n",
       "        [0., 2., 0.],\n",
       "        [0., 0., 3.]])]"
      ]
     },
     "execution_count": 117,
     "metadata": {},
     "output_type": "execute_result"
    }
   ],
   "source": [
    "# count data\n",
    "# => ideally as dots\n",
    "variables = {'X_t': ('X_t', ), 'Y_t': ('Y_t', ), 'Z_t': ('Z_t', )}\n",
    "initial_values = {'X_t': 1, 'Y_t': 0, 'Z_t': 0}\n",
    "theta_values = {'dxy': 0.4, 'dyz': 0.15, 'lx': 0.2, 'ly': 0.3, 'lz': 0.4}\n",
    "time_values = np.linspace(0.0, 10.0, num=3)\n",
    "\n",
    "sim = me.Simulation(net)\n",
    "sim.simulate('gillespie', variables, initial_values, theta_values, time_values)"
   ]
  },
  {
   "cell_type": "code",
   "execution_count": 118,
   "metadata": {},
   "outputs": [
    {
     "data": {
      "image/png": "[encoded data removed]",
      "text/plain": [
       "<Figure size 50.4x36 with 1 Axes>"
      ]
     },
     "metadata": {
      "needs_background": "light"
     },
     "output_type": "display_data"
    }
   ],
   "source": [
    "plt.rcParams.update({'figure.figsize': (0.7, 0.5)})\n",
    "settings = {\n",
    "    'X_t': {'label': 'E$(X_t)$', 'color': ctopx},\n",
    "    'Y_t': {'label': 'E$(Y_t)$', 'color': ctopy},\n",
    "    'Z_t': {'label': 'E$(Z_t)$', 'color': ctopz},\n",
    "}\n",
    "me.plots.sim_counts_plot(sim, settings=settings)"
   ]
  },
  {
   "cell_type": "code",
   "execution_count": 120,
   "metadata": {},
   "outputs": [
    {
     "data": {
      "image/png": "[encoded data removed]",
      "text/plain": [
       "<Figure size 50.4x36 with 1 Axes>"
      ]
     },
     "metadata": {
      "needs_background": "light"
     },
     "output_type": "display_data"
    }
   ],
   "source": [
    "plt.rcParams.update({'figure.figsize': (0.7, 0.5)})\n",
    "plt.figure()\n",
    "ax = plt.gca()\n",
    "ax.spines['top'].set_visible(False)\n",
    "ax.spines['right'].set_visible(False)\n",
    "ax.spines['bottom'].set_visible(True)\n",
    "ax.spines['left'].set_visible(True)\n",
    "\n",
    "plt.scatter(sim.sim_time_values, \n",
    "            sim.sim_gillespie_res[1][0, :],\n",
    "           color=ctopx, s=3)\n",
    "plt.scatter(sim.sim_time_values, \n",
    "            sim.sim_gillespie_res[1][1, :],\n",
    "           color=ctopy, s=3)\n",
    "plt.scatter(sim.sim_time_values, \n",
    "            sim.sim_gillespie_res[1][2, :],\n",
    "           color=ctopz, s=3)\n",
    "\n",
    "plt.xlim(-1, 11)\n",
    "plt.ylim(-0.75, 6+0.75)\n",
    "plt.xlabel('Time')\n",
    "plt.ylabel('Cell counts')\n",
    "plt.savefig('paper_figures/memocell_data2.pdf', bbox_inches='tight')"
   ]
  },
  {
   "cell_type": "code",
   "execution_count": 85,
   "metadata": {},
   "outputs": [
    {
     "data": {
      "text/plain": [
       "[array([0.00000000e+00, 1.00010001e-03, 2.00020002e-03, ...,\n",
       "        9.99799980e+00, 9.99899990e+00, 1.00000000e+01]),\n",
       " array([[1., 1., 1., ..., 0., 0., 0.],\n",
       "        [0., 0., 0., ..., 1., 1., 1.],\n",
       "        [0., 0., 0., ..., 6., 6., 6.]])]"
      ]
     },
     "execution_count": 85,
     "metadata": {},
     "output_type": "execute_result"
    }
   ],
   "source": [
    "# simulation data\n",
    "# => ideally as steps (do with high time resolution)\n",
    "variables = {'X_t': ('X_t', ), 'Y_t': ('Y_t', ), 'Z_t': ('Z_t', )}\n",
    "initial_values = {'X_t': 1, 'Y_t': 0, 'Z_t': 0}\n",
    "theta_values = {'dxy': 0.4, 'dyz': 0.15, 'lx': 0.2, 'ly': 0.3, 'lz': 0.4}\n",
    "time_values = np.linspace(0.0, 10.0, num=10000)\n",
    "\n",
    "sim = me.Simulation(net)\n",
    "sim.simulate('gillespie', variables, initial_values, theta_values, time_values)"
   ]
  },
  {
   "cell_type": "code",
   "execution_count": 86,
   "metadata": {},
   "outputs": [
    {
     "data": {
      "image/png": "[encoded data removed]",
      "text/plain": [
       "<Figure size 50.4x36 with 1 Axes>"
      ]
     },
     "metadata": {
      "needs_background": "light"
     },
     "output_type": "display_data"
    }
   ],
   "source": [
    "plt.rcParams.update({'figure.figsize': (0.7, 0.5)})\n",
    "settings = {\n",
    "    'X_t': {'label': 'E$(X_t)$', 'color': ctopx},\n",
    "    'Y_t': {'label': 'E$(Y_t)$', 'color': ctopy},\n",
    "    'Z_t': {'label': 'E$(Z_t)$', 'color': ctopz},\n",
    "}\n",
    "me.plots.sim_counts_plot(sim, settings=settings,\n",
    "                        save='paper_figures/memocell_sim2.pdf')"
   ]
  },
  {
   "cell_type": "markdown",
   "metadata": {},
   "source": [
    "##### off notes"
   ]
  },
  {
   "cell_type": "code",
   "execution_count": 242,
   "metadata": {},
   "outputs": [
    {
     "data": {
      "text/plain": [
       "2.1666666666666665"
      ]
     },
     "execution_count": 242,
     "metadata": {},
     "output_type": "execute_result"
    }
   ],
   "source": [
    "np.var(np.array([10, 15, 8]) * 0.5)"
   ]
  },
  {
   "cell_type": "code",
   "execution_count": 251,
   "metadata": {},
   "outputs": [],
   "source": [
    "t = [\n",
    "        {'start': 'X_t', 'end': 'X_t', 'rate_symbol': 'l', 'type': 'S -> S + S', 'reaction_steps': 1}\n",
    "        ]\n",
    "\n",
    "net = me.Network('net_div_g1')\n",
    "net.structure(t)\n",
    "\n",
    "num_iter = 3\n",
    "initial_values = {'X_t': 1}\n",
    "theta_values = {'l': 2.3}\n",
    "time_values = np.linspace(0.0, 1.0, num=10000, endpoint=True)\n",
    "variables = {'X_t': ('X_t', )}\n",
    "\n",
    "\n",
    "sim = me.Simulation(net)\n",
    "res = sim.simulate('moments', variables, initial_values, theta_values, time_values)\n"
   ]
  },
  {
   "cell_type": "code",
   "execution_count": 253,
   "metadata": {},
   "outputs": [
    {
     "data": {
      "image/png": "[encoded data removed]",
      "text/plain": [
       "<Figure size 72x36 with 1 Axes>"
      ]
     },
     "metadata": {
      "needs_background": "light"
     },
     "output_type": "display_data"
    },
    {
     "data": {
      "image/png": "[encoded data removed]",
      "text/plain": [
       "<Figure size 72x36 with 1 Axes>"
      ]
     },
     "metadata": {
      "needs_background": "light"
     },
     "output_type": "display_data"
    }
   ],
   "source": [
    "me.plots.sim_mean_plot(sim)\n",
    "me.plots.sim_variance_plot(sim)"
   ]
  },
  {
   "cell_type": "code",
   "execution_count": 260,
   "metadata": {},
   "outputs": [
    {
     "data": {
      "text/plain": [
       "array([[1.        , 1.00023005, 1.00046015, ..., 9.96959493, 9.97188843,\n",
       "        9.97418246]])"
      ]
     },
     "execution_count": 260,
     "metadata": {},
     "output_type": "execute_result"
    }
   ],
   "source": [
    "res[0]"
   ]
  },
  {
   "cell_type": "code",
   "execution_count": 255,
   "metadata": {},
   "outputs": [
    {
     "name": "stdout",
     "output_type": "stream",
     "text": [
      "['1.0*m[0]*theta[0]', '2.0*m[0]*theta[0] + 2.0*m[1]*theta[0]']\n",
      "[[('Z_0__centric',)], [('Z_0__centric', 'Z_0__centric')]]\n"
     ]
    }
   ],
   "source": [
    "print(sim.sim_moments.moment_eqs)\n",
    "print(sim.sim_moments.moment_order_hidden)"
   ]
  }
 ],
 "metadata": {
  "kernelspec": {
   "display_name": "Python 3",
   "language": "python",
   "name": "python3"
  },
  "language_info": {
   "codemirror_mode": {
    "name": "ipython",
    "version": 3
   },
   "file_extension": ".py",
   "mimetype": "text/x-python",
   "name": "python",
   "nbconvert_exporter": "python",
   "pygments_lexer": "ipython3",
   "version": "3.7.4"
  }
 },
 "nbformat": 4,
 "nbformat_minor": 4
}
