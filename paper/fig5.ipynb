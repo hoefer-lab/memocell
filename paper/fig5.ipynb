{
 "cells": [
  {
   "cell_type": "markdown",
   "metadata": {},
   "source": [
    "#### Figure 5"
   ]
  },
  {
   "cell_type": "markdown",
   "metadata": {},
   "source": [
    "##### Package imports, figure settings, color definitions\n",
    "<img src=\"color_pal.png\" width=\"500\">"
   ]
  },
  {
   "cell_type": "code",
   "execution_count": 1,
   "metadata": {},
   "outputs": [
    {
     "name": "stderr",
     "output_type": "stream",
     "text": [
      "/Users/mlanghinrichs/Documents/Studium/MSc/09_hiwi_hoefer/01_project/memo_py/memo_py/selection.py:18: TqdmExperimentalWarning: Using `tqdm.autonotebook.tqdm` in notebook mode. Use `tqdm.tqdm` instead to force console mode (e.g. in jupyter console)\n",
      "  from tqdm.autonotebook import tqdm\n"
     ]
    },
    {
     "data": {
      "image/png": "[encoded data removed]",
      "text/plain": [
       "<Figure size 504x72 with 1 Axes>"
      ]
     },
     "metadata": {
      "needs_background": "light"
     },
     "output_type": "display_data"
    },
    {
     "data": {
      "image/png": "[encoded data removed]",
      "text/plain": [
       "<Figure size 216x72 with 1 Axes>"
      ]
     },
     "metadata": {
      "needs_background": "light"
     },
     "output_type": "display_data"
    },
    {
     "data": {
      "image/png": "[encoded data removed]",
      "text/plain": [
       "<Figure size 216x72 with 1 Axes>"
      ]
     },
     "metadata": {
      "needs_background": "light"
     },
     "output_type": "display_data"
    },
    {
     "data": {
      "image/png": "[encoded data removed]",
      "text/plain": [
       "<Figure size 216x72 with 1 Axes>"
      ]
     },
     "metadata": {
      "needs_background": "light"
     },
     "output_type": "display_data"
    },
    {
     "data": {
      "image/png": "[encoded data removed]",
      "text/plain": [
       "<Figure size 216x72 with 1 Axes>"
      ]
     },
     "metadata": {
      "needs_background": "light"
     },
     "output_type": "display_data"
    },
    {
     "data": {
      "image/png": "[encoded data removed]",
      "text/plain": [
       "<Figure size 216x72 with 1 Axes>"
      ]
     },
     "metadata": {
      "needs_background": "light"
     },
     "output_type": "display_data"
    },
    {
     "data": {
      "image/png": "[encoded data removed]",
      "text/plain": [
       "<Figure size 216x72 with 1 Axes>"
      ]
     },
     "metadata": {
      "needs_background": "light"
     },
     "output_type": "display_data"
    },
    {
     "data": {
      "image/png": "[encoded data removed]",
      "text/plain": [
       "<Figure size 216x72 with 1 Axes>"
      ]
     },
     "metadata": {
      "needs_background": "light"
     },
     "output_type": "display_data"
    },
    {
     "data": {
      "image/png": "[encoded data removed]",
      "text/plain": [
       "<Figure size 216x72 with 1 Axes>"
      ]
     },
     "metadata": {
      "needs_background": "light"
     },
     "output_type": "display_data"
    }
   ],
   "source": [
    "%matplotlib inline\n",
    "%run settings_load.py"
   ]
  },
  {
   "cell_type": "markdown",
   "metadata": {},
   "source": [
    "#### Figure 5\n",
    "NOTE: this section has to be updated with new par2 and par3 runs (and rerun of minimal2)"
   ]
  },
  {
   "cell_type": "markdown",
   "metadata": {},
   "source": [
    "##### thin data"
   ]
  },
  {
   "cell_type": "code",
   "execution_count": 46,
   "metadata": {},
   "outputs": [
    {
     "name": "stdout",
     "output_type": "stream",
     "text": [
      "100 288 588 976\n"
     ]
    }
   ],
   "source": [
    "res1 = pickle.load(open('waiting_times_files/estimation_count_data_cd44_filtered_thin4_minimal2.pickle', 'rb'))\n",
    "res2 = pickle.load(open('waiting_times_files/estimation_count_data_cd44_filtered_thin4_par2.pickle', 'rb'))\n",
    "res3 = pickle.load(open('waiting_times_files/estimation_count_data_cd44_filtered_thin4_par3_new.pickle', 'rb'))\n",
    "res = res1 + res2 + res3\n",
    "print(len(res1), len(res2), len(res3), len(res))"
   ]
  },
  {
   "cell_type": "code",
   "execution_count": 48,
   "metadata": {},
   "outputs": [
    {
     "data": {
      "image/png": "[encoded data removed]",
      "text/plain": [
       "<Figure size 86.4x57.6 with 1 Axes>"
      ]
     },
     "metadata": {
      "needs_background": "light"
     },
     "output_type": "display_data"
    },
    {
     "data": {
      "image/png": "[encoded data removed]",
      "text/plain": [
       "<Figure size 86.4x57.6 with 1 Axes>"
      ]
     },
     "metadata": {
      "needs_background": "light"
     },
     "output_type": "display_data"
    },
    {
     "data": {
      "image/png": "[encoded data removed]",
      "text/plain": [
       "<Figure size 86.4x57.6 with 1 Axes>"
      ]
     },
     "metadata": {
      "needs_background": "light"
     },
     "output_type": "display_data"
    }
   ],
   "source": [
    "data = res[0].data\n",
    "plt.rcParams.update({'figure.figsize': (1.2, 0.8)})\n",
    "settings = {\n",
    "    'A_t': {'label': 'E$(A_t)$', 'color': cactiv},\n",
    "    'M_t': {'label': 'E$(M_t)$', 'color': cnaive}\n",
    "}\n",
    "me.plots.data_mean_plot(data, x_label='Time (hours)', save='paper_figures/data_cd44_thin4_mean.pdf', settings=settings)\n",
    "\n",
    "settings = {\n",
    "    ('A_t', 'A_t'): {'label': 'Var$(A_t)$', 'color': cactiv},\n",
    "    ('M_t', 'M_t'): {'label': 'Var$(M_t)$', 'color': cnaive}\n",
    "}\n",
    "me.plots.data_variance_plot(data, x_label='Time (hours)', save='paper_figures/data_cd44_thin4_var.pdf', settings=settings)\n",
    "\n",
    "settings = {\n",
    "    ('M_t', 'A_t'): {'label': 'Cov$(M_t, A_t)$', 'color': grey}\n",
    "}\n",
    "me.plots.data_covariance_plot(data, x_label='Time (hours)', save='paper_figures/data_cd44_thin4_cov.pdf', settings=settings)"
   ]
  },
  {
   "cell_type": "code",
   "execution_count": 12,
   "metadata": {},
   "outputs": [
    {
     "name": "stdout",
     "output_type": "stream",
     "text": [
      "1.000000000000017\n",
      "39\n",
      "291\n"
     ]
    }
   ],
   "source": [
    "net_names = [est.net.net_name for est in res]\n",
    "mprior = np.array([0.25] + [0.25/99]*99 + [0.25/288]*288 + [0.25/588]*588)\n",
    "print(sum(mprior))\n",
    "model_probs = me.selection.compute_model_probabilities(res, mprior=mprior)\n",
    "model_probs_unif = me.selection.compute_model_probabilities(res)\n",
    "print(list(model_probs).index(max(model_probs)))\n",
    "print(list(model_probs_unif).index(max(model_probs_unif)))"
   ]
  },
  {
   "cell_type": "code",
   "execution_count": 9,
   "metadata": {},
   "outputs": [
    {
     "name": "stdout",
     "output_type": "stream",
     "text": [
      "2.114399286073702e-11\n",
      "0.22947033920494325\n",
      "0.3569926668482579\n",
      "0.4135369939256563\n",
      "1\n",
      "99\n",
      "288\n",
      "588\n"
     ]
    },
    {
     "data": {
      "image/png": "[encoded data removed]",
      "text/plain": [
       "<Figure size 28.8x72 with 2 Axes>"
      ]
     },
     "metadata": {
      "needs_background": "light"
     },
     "output_type": "display_data"
    }
   ],
   "source": [
    "print(sum(model_probs[0:1]))\n",
    "print(sum(model_probs[1:100]))\n",
    "print(sum(model_probs[100:388]))\n",
    "print(sum(model_probs[388:]))\n",
    "\n",
    "print(len(model_probs[0:1]))\n",
    "print(len(model_probs[1:100]))\n",
    "print(len(model_probs[100:388]))\n",
    "print(len(model_probs[388:]))\n",
    "\n",
    "plt.figure(figsize=(0.4,1))\n",
    "df = pd.DataFrame(np.array([sum(model_probs[0:1]), sum(model_probs[1:100]), sum(model_probs[100:388]), sum(model_probs[388:])]) * 100.0, index=['Markov', 'Erlang', 'Phase-type 2', 'Phase-type 3']) # , index=rows\n",
    "sns.heatmap(df, cmap='cividis', annot=True, fmt='.1f') # 'plasma' # annot=True\n",
    "plt.yticks(rotation=0, va='center')\n",
    "plt.xticks(rotation=90)\n",
    "plt.savefig('paper_figures/models_probs_map_thin4.pdf', bbox_inches='tight')"
   ]
  },
  {
   "cell_type": "code",
   "execution_count": 11,
   "metadata": {},
   "outputs": [
    {
     "name": "stdout",
     "output_type": "stream",
     "text": [
      "39\n",
      "191\n",
      "405\n",
      "39\n",
      "191\n",
      "39\n",
      "min_d_2_l_20 par2_d_6_10_l_18 par3_d_6_8_18_l_18\n",
      "2.9724474855900235e-12\n",
      "0.2929864106052875\n",
      "0.4422602214060325\n",
      "0.2647533679857067\n"
     ]
    },
    {
     "data": {
      "image/png": "[encoded data removed]",
      "text/plain": [
       "<Figure size 28.8x72 with 2 Axes>"
      ]
     },
     "metadata": {
      "needs_background": "light"
     },
     "output_type": "display_data"
    }
   ],
   "source": [
    "res1_probs = me.selection.compute_model_probabilities(res1)\n",
    "res2_probs = me.selection.compute_model_probabilities(res2)\n",
    "res3_probs = me.selection.compute_model_probabilities(res3)\n",
    "print(list(res1_probs).index(max(res1_probs)))\n",
    "print(list(res2_probs).index(max(res2_probs)))\n",
    "print(list(res3_probs).index(max(res3_probs)))\n",
    "\n",
    "print(list(model_probs[0:100]).index(max(model_probs[0:100])))\n",
    "print(list(model_probs[100:388]).index(max(model_probs[100:388])))\n",
    "print(list(model_probs).index(max(model_probs)))\n",
    "\n",
    "bestof_probs = me.selection.compute_model_probabilities([\n",
    "                    res[0], res[39], res[100+191], res[100+288+405]])\n",
    "print(net_names[39], net_names[100+191], net_names[100+288+405])\n",
    "print(bestof_probs[0])\n",
    "print(bestof_probs[1])\n",
    "print(bestof_probs[2])\n",
    "print(bestof_probs[3])\n",
    "\n",
    "plt.figure(figsize=(0.4,1))\n",
    "df = pd.DataFrame(np.array([bestof_probs[0], bestof_probs[1], bestof_probs[2], bestof_probs[3]]) * 100.0, index=['Markov\\n model', 'Best Erlang\\n model', 'Best Phase-\\n type 2 model', 'Best Phase-\\n type 3 model']) # , index=rows\n",
    "sns.heatmap(df, cmap='cividis', annot=True, fmt='.1f') # 'plasma' # annot=True\n",
    "plt.yticks(rotation=0, va='center')\n",
    "plt.xticks(rotation=90)\n",
    "plt.savefig('paper_figures/models_probs_map_thin4_bestof.pdf', bbox_inches='tight')"
   ]
  },
  {
   "cell_type": "code",
   "execution_count": 44,
   "metadata": {},
   "outputs": [
    {
     "name": "stdout",
     "output_type": "stream",
     "text": [
      "15.031659493255871\n",
      "40.3456658752788\n",
      "40.757438092577324\n",
      "40.244338353305984\n"
     ]
    },
    {
     "data": {
      "text/plain": [
       "array([2.87136070e-12, 2.92986411e-01, 4.42260221e-01, 2.64753368e-01])"
      ]
     },
     "execution_count": 44,
     "metadata": {},
     "output_type": "execute_result"
    }
   ],
   "source": [
    "print(res1[0].bay_est_log_evidence)\n",
    "print(max([est.bay_est_log_evidence for est in res1]))\n",
    "print(max([est.bay_est_log_evidence for est in res2]))\n",
    "print(max([est.bay_est_log_evidence for est in res3]))\n",
    "me.selection.compute_model_probabilities_from_log_evidences(\n",
    "    np.array([14.997059839504479,\n",
    "                40.3456658752788,\n",
    "                40.757438092577324,\n",
    "                40.244338353305984]))"
   ]
  },
  {
   "cell_type": "code",
   "execution_count": 53,
   "metadata": {},
   "outputs": [
    {
     "data": {
      "image/png": "[encoded data removed]",
      "text/plain": [
       "<Figure size 216x360 with 2 Axes>"
      ]
     },
     "metadata": {
      "needs_background": "light"
     },
     "output_type": "display_data"
    }
   ],
   "source": [
    "res = pickle.load(open('estimation_count_data_cd44_filtered_thin4_minimal2.pickle', 'rb'))\n",
    "\n",
    "net_names = [est.net.net_name for est in res]\n",
    "model_probs = me.selection.compute_model_probabilities(res)\n",
    "\n",
    "steps_list = range(1, 11) # 11, 21\n",
    "\n",
    "steps_lambda = range(1, 21) # range(1, 21) # [5, 10, 15, 20, 25, 30, 35, 40, 50, 60, 70, 80]\n",
    "steps_alpha = range(1, 6) # range(4, 8) # [3]\n",
    "rows = [fr'$(\\lambda, {i})$' for i in steps_lambda] # steps_list # range(1, 21)]\n",
    "cols = [fr'$(\\alpha, {i})$' for i in steps_alpha] # steps_list # range(1, 6)]\n",
    "\n",
    "model_probs_2d = np.zeros((len(rows), len(cols)))\n",
    "\n",
    "for i, row_step in enumerate(rows):\n",
    "    for j, col_step in enumerate(cols):\n",
    "        name = f'net_{steps_alpha[j]}_{steps_lambda[i]}'\n",
    "        net_index = net_names.index(name)\n",
    "        model_probs_2d[i, j] = model_probs[net_index]\n",
    "\n",
    "df = pd.DataFrame(model_probs_2d * 100.0, index=rows, columns=cols)\n",
    "\n",
    "plt.figure(figsize=(3, 5)) # 8, 4 or 6, 8\n",
    "sns.heatmap(df, cmap='cividis', annot=True, fmt='.1f') # 'plasma' # annot=True\n",
    "plt.yticks(rotation=0, va='center')\n",
    "plt.savefig('paper_figures/model_probs_cd44_thin4_minimal2.pdf')"
   ]
  },
  {
   "cell_type": "code",
   "execution_count": 47,
   "metadata": {},
   "outputs": [
    {
     "name": "stdout",
     "output_type": "stream",
     "text": [
      "100 288 588 976\n"
     ]
    }
   ],
   "source": [
    "res1 = pickle.load(open('waiting_times_files/estimation_count_data_cd44_filtered_thin4_minimal2.pickle', 'rb'))\n",
    "res2 = pickle.load(open('waiting_times_files/estimation_count_data_cd44_filtered_thin4_par2.pickle', 'rb'))\n",
    "res3 = pickle.load(open('waiting_times_files/estimation_count_data_cd44_filtered_thin4_par3_new.pickle', 'rb'))\n",
    "res = res1 + res2 + res3\n",
    "print(len(res1), len(res2), len(res3), len(res))\n",
    "\n",
    "net_names = [est.net.net_name for est in res]\n",
    "model_probs = me.selection.compute_model_probabilities(res)\n",
    "data = res[0].data"
   ]
  },
  {
   "cell_type": "code",
   "execution_count": 48,
   "metadata": {},
   "outputs": [
    {
     "name": "stdout",
     "output_type": "stream",
     "text": [
      "1.000000000000017\n",
      "976\n"
     ]
    }
   ],
   "source": [
    "# set model prior to give classes same weight\n",
    "mprior = np.array([0.25] + [0.25/99]*99 + [0.25/288]*288 + [0.25/588]*588)\n",
    "print(sum(mprior))\n",
    "print(len(mprior))"
   ]
  },
  {
   "cell_type": "code",
   "execution_count": 49,
   "metadata": {},
   "outputs": [
    {
     "name": "stdout",
     "output_type": "stream",
     "text": [
      "par2_d_6_10_l_18\n"
     ]
    }
   ],
   "source": [
    "print(net_names[list(model_probs).index(max(model_probs))])"
   ]
  },
  {
   "cell_type": "code",
   "execution_count": 53,
   "metadata": {},
   "outputs": [
    {
     "name": "stdout",
     "output_type": "stream",
     "text": [
      "[ 9194.     0. 14237. 16569.]\n"
     ]
    }
   ],
   "source": [
    "# idea to compute \"credible bands\" for better visualisation\n",
    "samples = 40000\n",
    "plot_data = True # True or False\n",
    "time_max = 100.0 # 150.0, 54.0\n",
    "x = np.linspace(0.0, time_max, num=200)\n",
    "\n",
    "y = waiting_time_distr_samples_act(x, res, samples, time_max, mprior)"
   ]
  },
  {
   "cell_type": "code",
   "execution_count": 54,
   "metadata": {},
   "outputs": [],
   "source": [
    "# to also plot full data\n",
    "res1_full = pickle.load(open('waiting_times_files/estimation_count_data_cd44_filtered_sigma022_minimal2.pickle', 'rb'))\n",
    "data_full = res1_full[0].data"
   ]
  },
  {
   "cell_type": "code",
   "execution_count": 55,
   "metadata": {},
   "outputs": [
    {
     "data": {
      "image/png": "[encoded data removed]",
      "text/plain": [
       "<Figure size 129.6x57.6 with 1 Axes>"
      ]
     },
     "metadata": {
      "needs_background": "light"
     },
     "output_type": "display_data"
    }
   ],
   "source": [
    "y_997_lower = np.percentile(y, 0.15, axis=1)\n",
    "y_95_lower = np.percentile(y, 2.5, axis=1)\n",
    "y_68_lower = np.percentile(y, 16.0, axis=1)\n",
    "y_median = np.percentile(y, 50.0, axis=1)\n",
    "y_68_upper = np.percentile(y, 84.0, axis=1)\n",
    "y_95_upper = np.percentile(y, 97.5, axis=1)\n",
    "y_997_upper = np.percentile(y, 99.85, axis=1)\n",
    "\n",
    "plt.rcParams.update({'figure.figsize': (1.8, 0.8)}) # 1.4, 1.8\n",
    "plt.figure()\n",
    "ax = plt.gca()\n",
    "ax.spines['top'].set_visible(False)\n",
    "ax.spines['right'].set_visible(False)\n",
    "ax.spines['bottom'].set_visible(True)\n",
    "ax.spines['left'].set_visible(True)\n",
    "\n",
    "# adapted from framework plotting methods\n",
    "if plot_data:\n",
    "    # we find the events on full data \n",
    "    # (otherwise the function ignores some well that dont maintain cell sum)\n",
    "    data_full.events_find_all()\n",
    "    data_act_full = np.array([tup[1] for tup in data_full.event_all_first_cell_type_conversion if tup[0]])\n",
    "\n",
    "    plt.hist(data_act_full - 1e-06, bins=data.data_time_values,\n",
    "             color='black', alpha=0.25, linewidth=1.0,\n",
    "             density=True, histtype='step', label='Sparse data')\n",
    "    plt.hist(data_act_full - 1e-06, bins=data_full.data_time_values,\n",
    "             color='black', alpha=0.1,\n",
    "             density=True, histtype='stepfilled', label='Full data')\n",
    "\n",
    "\n",
    "plt.fill_between(x, y_997_lower, y_95_lower, color=cwact, alpha=0.2, linewidth=0.0, zorder=100)\n",
    "plt.fill_between(x, y_95_lower, y_68_lower, color=cwact, alpha=0.4, linewidth=0.0, zorder=100)\n",
    "plt.fill_between(x, y_68_lower, y_median, color=cwact, alpha=0.6, linewidth=0.0, zorder=100)\n",
    "\n",
    "plt.fill_between(x, y_median, y_68_upper, color=cwact, alpha=0.6, linewidth=0.0, zorder=100)\n",
    "plt.fill_between(x, y_68_upper, y_95_upper, color=cwact, alpha=0.4, linewidth=0.0, zorder=100)\n",
    "plt.fill_between(x, y_95_upper, y_997_upper, color=cwact, alpha=0.2, linewidth=0.0, zorder=100)\n",
    "\n",
    "# plt.plot(x, y_hdi_997_lower, color='lightseagreen', lw=2, alpha=0.2)\n",
    "# plt.plot(x, y_hdi_95_lower, color='lightseagreen', lw=2, alpha=0.4)\n",
    "# plt.plot(x, y_hdi_68_lower, color='lightseagreen', lw=2, alpha=0.6)\n",
    "plt.plot(x, y_median, color=cwact, lw=1, zorder=200, label='Inference \\n(Sparse moments)')\n",
    "# plt.plot(x, y_hdi_68_upper, color='lightseagreen', lw=2, alpha=0.6)\n",
    "# plt.plot(x, y_hdi_95_upper, color='lightseagreen', lw=2, alpha=0.4)\n",
    "# plt.plot(x, y_hdi_997_upper, color='lightseagreen', lw=2, alpha=0.2)\n",
    "\n",
    "# plot experimental window\n",
    "plt.axvline(x=54.0, linewidth=0.5, color=grey)\n",
    "plt.xticks([0, 20, 40, 54, 100], [0, 20, 40, 54, 100])\n",
    "\n",
    "plt.legend()\n",
    "plt.ylabel('Probability')\n",
    "plt.xlabel('Activation times (hours)')\n",
    "plt.savefig('paper_figures/waiting_times_thin4_act_long100.pdf', bbox_inches='tight') # pdf, png"
   ]
  },
  {
   "cell_type": "code",
   "execution_count": 56,
   "metadata": {},
   "outputs": [
    {
     "name": "stdout",
     "output_type": "stream",
     "text": [
      "[ 9142.     0. 14240. 16618.]\n"
     ]
    }
   ],
   "source": [
    "# idea to compute \"credible bands\" for better visualisation\n",
    "samples = 40000\n",
    "plot_data = False # True or False\n",
    "time_max = 54.0 # 150.0, 54.0\n",
    "x = np.linspace(0.0, time_max, num=200)\n",
    "\n",
    "# NOTE: the data we plot here is only from first divisions! (so its not the complete data, \n",
    "# which is inaccessible from the data)\n",
    "\n",
    "y = waiting_time_distr_samples_div(x, res, samples, time_max, mprior)"
   ]
  },
  {
   "cell_type": "code",
   "execution_count": 58,
   "metadata": {},
   "outputs": [
    {
     "data": {
      "image/png": "[encoded data removed]",
      "text/plain": [
       "<Figure size 69.84x57.6 with 1 Axes>"
      ]
     },
     "metadata": {
      "needs_background": "light"
     },
     "output_type": "display_data"
    }
   ],
   "source": [
    "y_997_lower = np.percentile(y, 0.15, axis=1)\n",
    "y_95_lower = np.percentile(y, 2.5, axis=1)\n",
    "y_68_lower = np.percentile(y, 16.0, axis=1)\n",
    "y_median = np.percentile(y, 50.0, axis=1)\n",
    "y_68_upper = np.percentile(y, 84.0, axis=1)\n",
    "y_95_upper = np.percentile(y, 97.5, axis=1)\n",
    "y_997_upper = np.percentile(y, 99.85, axis=1)\n",
    "\n",
    "plt.rcParams.update({'figure.figsize': (0.97, 0.8)}) # 1.4,, 0.97\n",
    "plt.figure()\n",
    "ax = plt.gca()\n",
    "ax.spines['top'].set_visible(False)\n",
    "ax.spines['right'].set_visible(False)\n",
    "ax.spines['bottom'].set_visible(True)\n",
    "ax.spines['left'].set_visible(True)\n",
    "\n",
    "# adapted from framework plotting methods\n",
    "if plot_data:\n",
    "    data.events_find_all()\n",
    "    data_act = np.array([tup[1] for tup in data.event_all_first_cell_count_increase_after_cell_type_conversion if tup[0]])\n",
    "\n",
    "    plt.hist(data_act - 1e-06, bins=data.data_time_values,\n",
    "             color='black', alpha=0.1,\n",
    "             density=True, histtype='stepfilled')\n",
    "    \n",
    "plt.fill_between(x, y_997_lower, y_95_lower, color=cwdiv, alpha=0.2, linewidth=0.0, zorder=100)\n",
    "plt.fill_between(x, y_95_lower, y_68_lower, color=cwdiv, alpha=0.4, linewidth=0.0, zorder=100)\n",
    "plt.fill_between(x, y_68_lower, y_median, color=cwdiv, alpha=0.6, linewidth=0.0, zorder=100)\n",
    "\n",
    "plt.fill_between(x, y_median, y_68_upper, color=cwdiv, alpha=0.6, linewidth=0.0, zorder=100)\n",
    "plt.fill_between(x, y_68_upper, y_95_upper, color=cwdiv, alpha=0.4, linewidth=0.0, zorder=100)\n",
    "plt.fill_between(x, y_95_upper, y_997_upper, color=cwdiv, alpha=0.2, linewidth=0.0, zorder=100)\n",
    "\n",
    "# plt.plot(x, y_hdi_997_lower, color='darkorange', lw=0.5, alpha=0.2)\n",
    "# plt.plot(x, y_hdi_95_lower, color='darkorange', lw=0.5, alpha=0.4)\n",
    "# plt.plot(x, y_hdi_68_lower, color='blue', lw=0.5, alpha=0.6)\n",
    "plt.plot(x, y_median, color=cwdiv, lw=1, zorder=200, label='Inference \\n(Sparse\\nmoments)')\n",
    "# plt.plot(x, y_hdi_68_upper, color='darkorange', lw=0.5, alpha=0.6)\n",
    "# plt.plot(x, y_hdi_95_upper, color='darkorange', lw=0.5, alpha=0.4)\n",
    "# plt.plot(x, y_hdi_997_upper, color='darkorange', lw=0.5, alpha=0.2)\n",
    "\n",
    "plt.xticks([0, 20, 40, 54], [0, 20, 40, 54])\n",
    "plt.ylim(0.0, None)\n",
    "\n",
    "plt.legend()\n",
    "plt.ylabel('Probability')\n",
    "plt.xlabel('Division times (hours)')\n",
    "plt.savefig('paper_figures/waiting_times_thin4_div.pdf', bbox_inches='tight') # pdf, png"
   ]
  },
  {
   "cell_type": "code",
   "execution_count": 57,
   "metadata": {},
   "outputs": [
    {
     "data": {
      "text/plain": [
       "191"
      ]
     },
     "execution_count": 57,
     "metadata": {},
     "output_type": "execute_result"
    }
   ],
   "source": [
    "# best model plot\n",
    "# (this was 'net_alphaF6_alphaS6_alphaT14_lambda18' previously in par3)\n",
    "res = pickle.load(open('waiting_times_files/estimation_count_data_cd44_filtered_thin4_par2.pickle', 'rb'))\n",
    "net_names = [est.net.net_name for est in res]\n",
    "model_probs = me.selection.compute_model_probabilities(res)\n",
    "list(model_probs).index(max(model_probs))"
   ]
  },
  {
   "cell_type": "code",
   "execution_count": 52,
   "metadata": {},
   "outputs": [
    {
     "name": "stdout",
     "output_type": "stream",
     "text": [
      "par2_d_6_10_l_18\n"
     ]
    }
   ],
   "source": [
    "print(net_names[191])\n",
    "est = res[191]\n",
    "\n",
    "# repair est from previous memopy version\n",
    "est.net_simulation_credible_band_exists = False\n",
    "est.data.data_mean_exists_only = False\n",
    "est.net_time_values_dense = est.data_time_values_dense"
   ]
  },
  {
   "cell_type": "code",
   "execution_count": 53,
   "metadata": {},
   "outputs": [
    {
     "data": {
      "image/png": "[encoded data removed]",
      "text/plain": [
       "<Figure size 86.4x57.6 with 1 Axes>"
      ]
     },
     "metadata": {
      "needs_background": "light"
     },
     "output_type": "display_data"
    },
    {
     "data": {
      "image/png": "[encoded data removed]",
      "text/plain": [
       "<Figure size 86.4x57.6 with 1 Axes>"
      ]
     },
     "metadata": {
      "needs_background": "light"
     },
     "output_type": "display_data"
    },
    {
     "data": {
      "image/png": "[encoded data removed]",
      "text/plain": [
       "<Figure size 86.4x57.6 with 1 Axes>"
      ]
     },
     "metadata": {
      "needs_background": "light"
     },
     "output_type": "display_data"
    }
   ],
   "source": [
    "plt.rcParams.update({'figure.figsize': (1.2, 0.8)})\n",
    "\n",
    "settings = {\n",
    "    'A_t': {'label': 'E$(A_t)$', 'color': cactiv},\n",
    "    'M_t': {'label': 'E$(M_t)$', 'color': cnaive}\n",
    "}\n",
    "me.plots.est_bestfit_mean_plot(est, x_label='Time (hours)', save='paper_figures/fit_cd44_thin4_mean_par2_d_6_10_l_18.pdf', settings=settings)\n",
    "\n",
    "settings = {\n",
    "    ('A_t', 'A_t'): {'label': 'Var$(A_t)$', 'color': cactiv},\n",
    "    ('M_t', 'M_t'): {'label': 'Var$(M_t)$', 'color': cnaive}\n",
    "}\n",
    "me.plots.est_bestfit_variance_plot(est, x_label='Time (hours)', save='paper_figures/fit_cd44_thin4_var_par2_d_6_10_l_18.pdf', settings=settings)\n",
    "\n",
    "settings = {\n",
    "    ('A_t', 'M_t'): {'label': 'Cov$(M_t, A_t)$', 'color': grey}\n",
    "}\n",
    "me.plots.est_bestfit_covariance_plot(est, x_label='Time (hours)', save='paper_figures/fit_cd44_thin4_cov_par2_d_6_10_l_18.pdf', settings=settings)"
   ]
  },
  {
   "cell_type": "code",
   "execution_count": 54,
   "metadata": {},
   "outputs": [
    {
     "data": {
      "image/png": "[encoded data removed]",
      "text/plain": [
       "<Figure size 547.2x547.2 with 9 Axes>"
      ]
     },
     "metadata": {
      "needs_background": "light"
     },
     "output_type": "display_data"
    }
   ],
   "source": [
    "me.plots.est_corner_kernel_plot(est, save='paper_figures/post_cd44_par2_d_6_10_l_18.pdf')"
   ]
  },
  {
   "cell_type": "code",
   "execution_count": 56,
   "metadata": {},
   "outputs": [
    {
     "name": "stdout",
     "output_type": "stream",
     "text": [
      "100 288 588 976\n",
      "385\n",
      "591\n",
      "(976,)\n"
     ]
    },
    {
     "data": {
      "image/png": "[encoded data removed]",
      "text/plain": [
       "<Figure size 86.4x57.6 with 1 Axes>"
      ]
     },
     "metadata": {
      "needs_background": "light"
     },
     "output_type": "display_data"
    }
   ],
   "source": [
    "res1 = pickle.load(open('waiting_times_files/estimation_count_data_cd44_filtered_thin4_minimal2.pickle', 'rb'))\n",
    "res2 = pickle.load(open('waiting_times_files/estimation_count_data_cd44_filtered_thin4_par2.pickle', 'rb'))\n",
    "res3 = pickle.load(open('waiting_times_files/estimation_count_data_cd44_filtered_thin4_par3_new.pickle', 'rb'))\n",
    "res = res1 + res2 + res3\n",
    "print(len(res1), len(res2), len(res3), len(res))\n",
    "\n",
    "net_names = [est.net.net_name for est in res]\n",
    "model_probs = me.selection.compute_model_probabilities(res)\n",
    "\n",
    "plt.rcParams.update({'figure.figsize': (1.2, 0.8)})\n",
    "bf = me.selection.compute_model_bayes_factors(res)\n",
    "bf[bf > 100.0] = 100.0\n",
    "plt.figure()\n",
    "ax = plt.gca()\n",
    "ax.spines['top'].set_visible(False)\n",
    "ax.spines['right'].set_visible(False)\n",
    "ax.spines['bottom'].set_visible(True)\n",
    "ax.spines['left'].set_visible(True)\n",
    "plt.xlim((0, 50)) # 110\n",
    "plt.ylim((0.0, 0.1))\n",
    "plt.hist(bf, bins=40, density=True, color=grey)\n",
    "plt.axvline(x=10.0, lw=0.5, color='black')\n",
    "plt.xlabel('Bayes factor')\n",
    "plt.ylabel('Model frequencies')\n",
    "plt.savefig('paper_figures/bfs_cd44_thin4.pdf', bbox_inches='tight')\n",
    "\n",
    "print(np.sum(bf < 10.0))\n",
    "print(np.sum(bf >= 10.0))\n",
    "print(bf.shape)"
   ]
  },
  {
   "cell_type": "code",
   "execution_count": 63,
   "metadata": {},
   "outputs": [],
   "source": [
    "# just a check\n",
    "# bf = me.selection.compute_model_bayes_factors(res)\n",
    "# inds = bf.argsort()\n",
    "# net_names_sorted = np.array(net_names)[inds]\n",
    "\n",
    "# net_names_sorted[0:370]"
   ]
  },
  {
   "cell_type": "code",
   "execution_count": 116,
   "metadata": {},
   "outputs": [
    {
     "name": "stdout",
     "output_type": "stream",
     "text": [
      "False\n",
      "False\n",
      "True\n",
      "True\n",
      "SpearmanrResult(correlation=0.7980003510760093, pvalue=1.9663508112171953e-216)\n",
      "(0.6244431613173873, 1.2345754309672264e-106)\n"
     ]
    }
   ],
   "source": [
    "res1a = pickle.load(open('waiting_times_files/estimation_count_data_cd44_filtered_thin4_minimal2.pickle', 'rb'))\n",
    "res1b = pickle.load(open('waiting_times_files/estimation_count_data_cd44_filtered_thin4_par2.pickle', 'rb'))\n",
    "res1c = pickle.load(open('waiting_times_files/estimation_count_data_cd44_filtered_thin4_par3_new.pickle', 'rb'))\n",
    "res1 = res1a + res1b + res1c\n",
    "\n",
    "res2a = pickle.load(open('waiting_times_files/estimation_count_data_cd44_filtered_sigma022_minimal2.pickle', 'rb'))\n",
    "res2b = pickle.load(open('waiting_times_files/estimation_count_data_cd44_filtered_sigma022_par2.pickle', 'rb'))\n",
    "res2c = pickle.load(open('waiting_times_files/estimation_count_data_cd44_filtered_sigma022_par3_new.pickle', 'rb'))\n",
    "res2 = res2a + res2b + res2c\n",
    "\n",
    "print([est.net.net_name for est in res1] == [est.net.net_name for est in res2])\n",
    "print([est.net.net_name for est in res1a] == [est.net.net_name for est in res2a])\n",
    "print([est.net.net_name for est in res1b] == [est.net.net_name for est in res2b])\n",
    "print([est.net.net_name for est in res1c] == [est.net.net_name for est in res2c])\n",
    "model_logevids_thin4 = [est.bay_est_log_evidence for est in res1]\n",
    "model_logevids_full = [est.bay_est_log_evidence for est in res2]\n",
    "\n",
    "print(stats.spearmanr(model_logevids_full, model_logevids_thin4))\n",
    "print(stats.pearsonr(model_logevids_full, model_logevids_thin4))"
   ]
  },
  {
   "cell_type": "code",
   "execution_count": 117,
   "metadata": {},
   "outputs": [
    {
     "data": {
      "text/plain": [
       "'par3_d_2_4_10_l_18'"
      ]
     },
     "execution_count": 117,
     "metadata": {},
     "output_type": "execute_result"
    }
   ],
   "source": [
    "res1c[76].net.net_name"
   ]
  },
  {
   "cell_type": "code",
   "execution_count": 118,
   "metadata": {},
   "outputs": [
    {
     "data": {
      "text/plain": [
       "'par3_d_2_4_10_l_18'"
      ]
     },
     "execution_count": 118,
     "metadata": {},
     "output_type": "execute_result"
    }
   ],
   "source": [
    "res2c[76].net.net_name"
   ]
  },
  {
   "cell_type": "code",
   "execution_count": 70,
   "metadata": {},
   "outputs": [
    {
     "data": {
      "text/plain": [
       "0.6244431613173871"
      ]
     },
     "execution_count": 70,
     "metadata": {},
     "output_type": "execute_result"
    },
    {
     "data": {
      "image/png": "[encoded data removed]",
      "text/plain": [
       "<Figure size 72x57.6 with 1 Axes>"
      ]
     },
     "metadata": {
      "needs_background": "light"
     },
     "output_type": "display_data"
    }
   ],
   "source": [
    "plt.rcParams.update({'figure.figsize': (1.0, 0.8)})\n",
    "plt.figure()\n",
    "ax = plt.gca()\n",
    "ax.spines['top'].set_visible(False)\n",
    "ax.spines['right'].set_visible(False)\n",
    "ax.spines['bottom'].set_visible(True)\n",
    "ax.spines['left'].set_visible(True)\n",
    "plt.scatter(model_logevids_thin4, model_logevids_full, color=grey, s=1.0)\n",
    "plt.xlabel('Model Log(Evidence) (Thin data)')\n",
    "plt.ylabel('Model Log(Evidence) (Full data)')\n",
    "plt.xlim((None, None))\n",
    "plt.ylim((None, None))\n",
    "# plt.axis('square')\n",
    "plt.savefig('paper_figures/evidence_corr_thin_vs_full_data.pdf', bbox_inches='tight')\n",
    "\n",
    "np.corrcoef(model_logevids_thin4, model_logevids_full)[0, 1]"
   ]
  },
  {
   "cell_type": "code",
   "execution_count": 76,
   "metadata": {},
   "outputs": [
    {
     "name": "stdout",
     "output_type": "stream",
     "text": [
      "1.000000000000017\n"
     ]
    },
    {
     "data": {
      "image/png": "[encoded data removed]",
      "text/plain": [
       "<Figure size 86.4x57.6 with 1 Axes>"
      ]
     },
     "metadata": {
      "needs_background": "light"
     },
     "output_type": "display_data"
    }
   ],
   "source": [
    "mprior = np.array([0.25] + [0.25/99]*99 + [0.25/288]*288 + [0.25/588]*588)\n",
    "print(sum(mprior))\n",
    "model_probs_thin4 = me.selection.compute_model_probabilities(res1, mprior=mprior)\n",
    "model_probs_full = me.selection.compute_model_probabilities(res2, mprior=mprior)\n",
    "\n",
    "plt.rcParams.update({'figure.figsize': (1.2, 0.8)})\n",
    "plt.figure()\n",
    "ax = plt.gca()\n",
    "ax.spines['top'].set_visible(False)\n",
    "ax.spines['right'].set_visible(False)\n",
    "ax.spines['bottom'].set_visible(True)\n",
    "ax.spines['left'].set_visible(True)\n",
    "plt.scatter(model_probs_thin4, model_probs_full, color=grey, alpha=0.5, s=1.0, lw=0.0) # , s=1.0)\n",
    "plt.xlabel('Model probability (thin data)')\n",
    "plt.ylabel('Model probability (full data)')\n",
    "plt.xlim((None, 0.03))\n",
    "plt.ylim((None, None))\n",
    "plt.savefig('paper_figures/model_probs_thin_vs_full_data.pdf', bbox_inches='tight')"
   ]
  },
  {
   "cell_type": "code",
   "execution_count": 119,
   "metadata": {},
   "outputs": [
    {
     "name": "stdout",
     "output_type": "stream",
     "text": [
      "440 122\n"
     ]
    }
   ],
   "source": [
    "# How many models needed to have >95% of combined posterior probability?\n",
    "sort_inds = np.array(- model_probs_thin4).argsort()\n",
    "model_probs_sorted_thin4 = np.array(model_probs_thin4)[sort_inds]\n",
    "\n",
    "sort_inds = np.array(- model_probs_full).argsort()\n",
    "model_probs_sorted_full = np.array(model_probs_full)[sort_inds]\n",
    "\n",
    "index_thin4 = model_probs_sorted_thin4.cumsum().searchsorted(0.95)\n",
    "index_full = model_probs_sorted_full.cumsum().searchsorted(0.95)\n",
    "print(index_thin4, index_full)"
   ]
  },
  {
   "cell_type": "code",
   "execution_count": 120,
   "metadata": {},
   "outputs": [
    {
     "name": "stdout",
     "output_type": "stream",
     "text": [
      "0.9500921841991591 0.9500764766977169\n"
     ]
    }
   ],
   "source": [
    "print(model_probs_sorted_thin4.cumsum()[440],\n",
    "      model_probs_sorted_full.cumsum()[122])"
   ]
  },
  {
   "cell_type": "code",
   "execution_count": 124,
   "metadata": {},
   "outputs": [
    {
     "name": "stdout",
     "output_type": "stream",
     "text": [
      "False\n"
     ]
    },
    {
     "data": {
      "text/plain": [
       "0.7980003510760093"
      ]
     },
     "execution_count": 124,
     "metadata": {},
     "output_type": "execute_result"
    },
    {
     "data": {
      "image/png": "[encoded data removed]",
      "text/plain": [
       "<Figure size 86.4x57.6 with 1 Axes>"
      ]
     },
     "metadata": {
      "needs_background": "light"
     },
     "output_type": "display_data"
    }
   ],
   "source": [
    "net_names = [est.net.net_name for est in res1]\n",
    "print(net_names == [est.net.net_name for est in res2])\n",
    "\n",
    "model_rank_thin4 = np.array(list(range(0, len(res1))))\n",
    "model_rank_full = np.array(list(range(0, len(res2))))\n",
    "\n",
    "inds = np.array(model_logevids_thin4).argsort()\n",
    "model_rank_thin4_sorted = model_rank_thin4[inds]\n",
    "\n",
    "inds = np.array(model_logevids_full).argsort()\n",
    "model_rank_full_sorted = model_rank_full[inds]\n",
    "\n",
    "x_rank = list(range(0, len(res1)))\n",
    "y_rank = list()\n",
    "for x in x_rank:\n",
    "    ind_thin4 = model_rank_thin4_sorted[x]\n",
    "    y_rank.append(list(model_rank_full_sorted).index(ind_thin4))\n",
    "    \n",
    "plt.rcParams.update({'figure.figsize': (1.2, 0.8)})\n",
    "plt.figure()\n",
    "ax = plt.gca()\n",
    "ax.spines['top'].set_visible(False)\n",
    "ax.spines['right'].set_visible(False)\n",
    "ax.spines['bottom'].set_visible(True)\n",
    "ax.spines['left'].set_visible(True)\n",
    "\n",
    "# plt.axhline(y=len(y_rank)-index_full, color='b', linestyle='-', alpha=0.5, linewidth=0.5)\n",
    "# plt.axvline(x=len(x_rank)-index_thin4, color='b', linestyle='-', alpha=0.5, linewidth=0.5)\n",
    "import matplotlib.patches as patches\n",
    "ax.add_patch(\n",
    "    patches.Rectangle((len(x_rank)-index_thin4, 0), index_thin4, len(y_rank), \n",
    "                      color=cwact, alpha=0.15, linewidth=0.0, label='Top models\\n(Sparse data)'))\n",
    "ax.add_patch(\n",
    "    patches.Rectangle((0, len(y_rank)-index_full), len(x_rank), index_full, \n",
    "                      color=cwdiv, alpha=0.25, linewidth=0.0, label='Top models\\n(Full data)'))\n",
    "\n",
    "plt.scatter(x_rank, y_rank, color=grey, alpha=0.5, s=1.0, lw=0.0, zorder=1000) # , s=1.0)\n",
    "plt.xlabel('Model rank (Sparse data)')\n",
    "plt.ylabel('Model rank (Full data)')\n",
    "plt.xlim((None, None))\n",
    "plt.ylim((None, None))\n",
    "plt.xticks([0, 500, 1000])\n",
    "plt.legend()\n",
    "plt.axis('square')\n",
    "plt.savefig('paper_figures/rank_corr_thin_vs_full_data.pdf', bbox_inches='tight')\n",
    "\n",
    "np.corrcoef(x_rank, y_rank)[0, 1]"
   ]
  },
  {
   "cell_type": "markdown",
   "metadata": {},
   "source": [
    "##### minimal model (new version and mean only)"
   ]
  },
  {
   "cell_type": "code",
   "execution_count": 78,
   "metadata": {},
   "outputs": [],
   "source": [
    "# res = pickle.load(open('waiting_times_files/estimation_count_data_cd44_filtered_thin4_minimal2.pickle', 'rb'))\n",
    "res = pickle.load(open('waiting_times_files/estimation_count_data_cd44_filtered_thin4_minimal2_meanfit.pickle', 'rb'))"
   ]
  },
  {
   "cell_type": "code",
   "execution_count": 79,
   "metadata": {},
   "outputs": [
    {
     "name": "stdout",
     "output_type": "stream",
     "text": [
      "[0.04514801 0.04265994 0.04261217 0.04231045 0.04159293 0.04141503\n",
      " 0.03717143 0.03576711 0.03563724 0.03481212]\n",
      "[13.4745652  13.41787943 13.41675902 13.40965329 13.39254919 13.38826298\n",
      " 13.28015946 13.24164793 13.23801018 13.21458459]\n",
      "['min_d_2_l_18' 'min_d_2_l_17' 'min_d_2_l_12' 'min_d_2_l_15'\n",
      " 'min_d_2_l_14' 'min_d_2_l_20' 'min_d_2_l_9' 'min_d_2_l_16' 'min_d_2_l_7'\n",
      " 'min_d_2_l_19']\n"
     ]
    }
   ],
   "source": [
    "net_names = [est.net.net_name for est in res]\n",
    "model_probs = me.selection.compute_model_probabilities(res)\n",
    "log_evids = [est.bay_est_log_evidence for est in res]\n",
    "\n",
    "sort_inds = np.array(- model_probs).argsort()\n",
    "net_names_sorted = np.array(net_names)[sort_inds]\n",
    "model_probs_sorted = np.array(model_probs)[sort_inds]\n",
    "log_evids_sorted = np.array(log_evids)[sort_inds]\n",
    "\n",
    "print(model_probs_sorted[:10])\n",
    "print(log_evids_sorted[:10])\n",
    "print(net_names_sorted[:10])"
   ]
  },
  {
   "cell_type": "code",
   "execution_count": 62,
   "metadata": {},
   "outputs": [
    {
     "data": {
      "text/plain": [
       "(array([ 0.5,  1.5,  2.5,  3.5,  4.5,  5.5,  6.5,  7.5,  8.5,  9.5, 10.5,\n",
       "        11.5, 12.5, 13.5, 14.5, 15.5, 16.5, 17.5, 18.5, 19.5]),\n",
       " <a list of 20 Text major ticklabel objects>)"
      ]
     },
     "execution_count": 62,
     "metadata": {},
     "output_type": "execute_result"
    },
    {
     "data": {
      "image/png": "[encoded data removed]",
      "text/plain": [
       "<Figure size 216x360 with 2 Axes>"
      ]
     },
     "metadata": {
      "needs_background": "light"
     },
     "output_type": "display_data"
    }
   ],
   "source": [
    "steps_list = range(1, 11) # 11, 21\n",
    "\n",
    "steps_lambda = range(1, 21) # range(1, 21) # [5, 10, 15, 20, 25, 30, 35, 40, 50, 60, 70, 80]\n",
    "steps_alpha = range(1, 6) # range(4, 8) # [3]\n",
    "rows = [fr'$(d, {i})$' for i in steps_lambda] # steps_list # range(1, 21)]\n",
    "cols = [fr'$(l, {i})$' for i in steps_alpha] # steps_list # range(1, 6)]\n",
    "\n",
    "model_probs_2d = np.zeros((len(rows), len(cols)))\n",
    "\n",
    "for i, row_step in enumerate(rows):\n",
    "    for j, col_step in enumerate(cols):\n",
    "        name = f'min_d_{steps_alpha[j]}_l_{steps_lambda[i]}'\n",
    "        net_index = net_names.index(name)\n",
    "        model_probs_2d[i, j] = model_probs[net_index]\n",
    "\n",
    "df = pd.DataFrame(model_probs_2d * 100.0, index=rows, columns=cols)\n",
    "\n",
    "plt.figure(figsize=(3, 5)) # 8, 4 or 6, 8\n",
    "sns.heatmap(df, cmap='cividis', annot=True, fmt='.1f') # 'plasma' # annot=True\n",
    "plt.yticks(rotation=0, va='center')\n",
    "# plt.savefig('paper_figures/model_probs_cd44_minimal2_meanfit.pdf')"
   ]
  },
  {
   "cell_type": "code",
   "execution_count": 114,
   "metadata": {},
   "outputs": [
    {
     "data": {
      "text/plain": [
       "(array([ 0.5,  1.5,  2.5,  3.5,  4.5,  5.5,  6.5,  7.5,  8.5,  9.5, 10.5,\n",
       "        11.5, 12.5, 13.5, 14.5, 15.5, 16.5, 17.5, 18.5, 19.5]),\n",
       " <a list of 20 Text major ticklabel objects>)"
      ]
     },
     "execution_count": 114,
     "metadata": {},
     "output_type": "execute_result"
    },
    {
     "data": {
      "image/png": "[encoded data removed]",
      "text/plain": [
       "<Figure size 216x360 with 2 Axes>"
      ]
     },
     "metadata": {
      "needs_background": "light"
     },
     "output_type": "display_data"
    }
   ],
   "source": [
    "steps_list = range(1, 11) # 11, 21\n",
    "\n",
    "steps_lambda = range(1, 21) # range(1, 21) # [5, 10, 15, 20, 25, 30, 35, 40, 50, 60, 70, 80]\n",
    "steps_alpha = range(1, 6) # range(4, 8) # [3]\n",
    "rows = [fr'$(d, {i})$' for i in steps_lambda] # steps_list # range(1, 21)]\n",
    "cols = [fr'$(l, {i})$' for i in steps_alpha] # steps_list # range(1, 6)]\n",
    "\n",
    "model_probs_2d = np.zeros((len(rows), len(cols)))\n",
    "\n",
    "for i, row_step in enumerate(rows):\n",
    "    for j, col_step in enumerate(cols):\n",
    "        name = f'min_d_{steps_alpha[j]}_l_{steps_lambda[i]}'\n",
    "        net_index = net_names.index(name)\n",
    "        model_probs_2d[i, j] = model_probs[net_index]\n",
    "\n",
    "df = pd.DataFrame(model_probs_2d * 100.0, index=rows, columns=cols)\n",
    "\n",
    "plt.figure(figsize=(3, 5)) # 8, 4 or 6, 8\n",
    "sns.heatmap(df, cmap='cividis', annot=True, fmt='.1f') # 'plasma' # annot=True\n",
    "plt.yticks(rotation=0, va='center')\n",
    "# plt.savefig('paper_figures/model_probs_cd44_minimal2_meanfit.pdf')"
   ]
  },
  {
   "cell_type": "code",
   "execution_count": 122,
   "metadata": {},
   "outputs": [
    {
     "data": {
      "image/png": "[encoded data removed]",
      "text/plain": [
       "<Figure size 86.4x57.6 with 1 Axes>"
      ]
     },
     "metadata": {
      "needs_background": "light"
     },
     "output_type": "display_data"
    },
    {
     "data": {
      "image/png": "[encoded data removed]",
      "text/plain": [
       "<Figure size 86.4x57.6 with 1 Axes>"
      ]
     },
     "metadata": {
      "needs_background": "light"
     },
     "output_type": "display_data"
    },
    {
     "data": {
      "image/png": "[encoded data removed]",
      "text/plain": [
       "<Figure size 86.4x57.6 with 1 Axes>"
      ]
     },
     "metadata": {
      "needs_background": "light"
     },
     "output_type": "display_data"
    },
    {
     "data": {
      "image/png": "[encoded data removed]",
      "text/plain": [
       "<Figure size 396x396 with 4 Axes>"
      ]
     },
     "metadata": {
      "needs_background": "light"
     },
     "output_type": "display_data"
    }
   ],
   "source": [
    "est = res[0]\n",
    "\n",
    "# repair data set (due to newer memopy version)\n",
    "est.data.data_mean_exists_only = False\n",
    "\n",
    "plt.rcParams.update({'figure.figsize': (1.2, 0.8)})\n",
    "settings = {\n",
    "    'A_t': {'label': 'E$(A_t)$', 'color': cactiv},\n",
    "    'M_t': {'label': 'E$(M_t)$', 'color': cnaive}\n",
    "}\n",
    "me.plots.est_bestfit_mean_plot(est, x_label='Time (hours)', settings=settings)\n",
    "\n",
    "settings = {\n",
    "    ('A_t', 'A_t'): {'label': 'Var$(A_t)$', 'color': cactiv},\n",
    "    ('M_t', 'M_t'): {'label': 'Var$(M_t)$', 'color': cnaive}\n",
    "}\n",
    "me.plots.est_bestfit_variance_plot(est, x_label='Time (hours)', settings=settings)\n",
    "\n",
    "settings = {\n",
    "    ('A_t', 'M_t'): {'label': 'Cov $(M_t, A_t)$', 'color': grey}\n",
    "}\n",
    "me.plots.est_bestfit_covariance_plot(est, x_label='Time (hours)', settings=settings)\n",
    "\n",
    "me.plots.est_corner_kernel_plot(est)"
   ]
  },
  {
   "cell_type": "code",
   "execution_count": 116,
   "metadata": {},
   "outputs": [
    {
     "data": {
      "image/png": "[encoded data removed]",
      "text/plain": [
       "<Figure size 86.4x57.6 with 1 Axes>"
      ]
     },
     "metadata": {
      "needs_background": "light"
     },
     "output_type": "display_data"
    },
    {
     "data": {
      "image/png": "[encoded data removed]",
      "text/plain": [
       "<Figure size 86.4x57.6 with 1 Axes>"
      ]
     },
     "metadata": {
      "needs_background": "light"
     },
     "output_type": "display_data"
    },
    {
     "data": {
      "image/png": "[encoded data removed]",
      "text/plain": [
       "<Figure size 86.4x57.6 with 1 Axes>"
      ]
     },
     "metadata": {
      "needs_background": "light"
     },
     "output_type": "display_data"
    },
    {
     "data": {
      "image/png": "[encoded data removed]",
      "text/plain": [
       "<Figure size 396x396 with 4 Axes>"
      ]
     },
     "metadata": {
      "needs_background": "light"
     },
     "output_type": "display_data"
    }
   ],
   "source": [
    "est = res[0]\n",
    "\n",
    "# repair data set (due to newer memopy version)\n",
    "est.data.data_mean_exists_only = False\n",
    "\n",
    "plt.rcParams.update({'figure.figsize': (1.2, 0.8)})\n",
    "settings = {\n",
    "    'A_t': {'label': 'E$(A_t)$', 'color': cactiv},\n",
    "    'M_t': {'label': 'E$(M_t)$', 'color': cnaive}\n",
    "}\n",
    "me.plots.est_bestfit_mean_plot(est, x_label='Time (hours)', settings=settings)\n",
    "\n",
    "settings = {\n",
    "    ('A_t', 'A_t'): {'label': 'Var$(A_t)$', 'color': cactiv},\n",
    "    ('M_t', 'M_t'): {'label': 'Var$(M_t)$', 'color': cnaive}\n",
    "}\n",
    "me.plots.est_bestfit_variance_plot(est, x_label='Time (hours)', settings=settings)\n",
    "\n",
    "settings = {\n",
    "    ('A_t', 'M_t'): {'label': 'Cov $(M_t, A_t)$', 'color': grey}\n",
    "}\n",
    "me.plots.est_bestfit_covariance_plot(est, x_label='Time (hours)', settings=settings)\n",
    "\n",
    "me.plots.est_corner_kernel_plot(est)"
   ]
  },
  {
   "cell_type": "code",
   "execution_count": 125,
   "metadata": {},
   "outputs": [
    {
     "name": "stdout",
     "output_type": "stream",
     "text": [
      "37\n"
     ]
    },
    {
     "data": {
      "image/png": "[encoded data removed]",
      "text/plain": [
       "<Figure size 86.4x57.6 with 1 Axes>"
      ]
     },
     "metadata": {
      "needs_background": "light"
     },
     "output_type": "display_data"
    },
    {
     "data": {
      "image/png": "[encoded data removed]",
      "text/plain": [
       "<Figure size 86.4x57.6 with 1 Axes>"
      ]
     },
     "metadata": {
      "needs_background": "light"
     },
     "output_type": "display_data"
    },
    {
     "data": {
      "image/png": "[encoded data removed]",
      "text/plain": [
       "<Figure size 86.4x57.6 with 1 Axes>"
      ]
     },
     "metadata": {
      "needs_background": "light"
     },
     "output_type": "display_data"
    },
    {
     "data": {
      "image/png": "[encoded data removed]",
      "text/plain": [
       "<Figure size 396x396 with 4 Axes>"
      ]
     },
     "metadata": {
      "needs_background": "light"
     },
     "output_type": "display_data"
    }
   ],
   "source": [
    "print(net_names.index('min_d_2_l_18')) # 37\n",
    "est = res[37]\n",
    "\n",
    "# repair data set (due to newer memopy version)\n",
    "est.data.data_mean_exists_only = False\n",
    "\n",
    "plt.rcParams.update({'figure.figsize': (1.2, 0.8)})\n",
    "settings = {\n",
    "    'A_t': {'label': 'E$(A_t)$', 'color': cactiv},\n",
    "    'M_t': {'label': 'E$(M_t)$', 'color': cnaive}\n",
    "}\n",
    "me.plots.est_bestfit_mean_plot(est, x_label='Time (hours)', \n",
    "                               save='paper_figures/fit_cd44_mean_min_d_2_l_18_thin4_meanfit.pdf', settings=settings)\n",
    "\n",
    "settings = {\n",
    "    ('A_t', 'A_t'): {'label': 'Var$(A_t)$', 'color': cactiv},\n",
    "    ('M_t', 'M_t'): {'label': 'Var$(M_t)$', 'color': cnaive}\n",
    "}\n",
    "me.plots.est_bestfit_variance_plot(est, x_label='Time (hours)', \n",
    "                                   save='paper_figures/fit_cd44_var_min_d_2_l_18_thin4_meanfit.pdf', settings=settings)\n",
    "\n",
    "settings = {\n",
    "    ('A_t', 'M_t'): {'label': 'Cov $(M_t, A_t)$', 'color': grey}\n",
    "}\n",
    "me.plots.est_bestfit_covariance_plot(est, x_label='Time (hours)', \n",
    "                                     save='paper_figures/fit_cd44_cov_min_d_2_l_18_thin4_meanfit.pdf', settings=settings)\n",
    "\n",
    "me.plots.est_corner_kernel_plot(est, save='paper_figures/post_cd44_min_d_2_l_18_thin4_meanfit.pdf',)"
   ]
  },
  {
   "cell_type": "code",
   "execution_count": 118,
   "metadata": {},
   "outputs": [
    {
     "name": "stdout",
     "output_type": "stream",
     "text": [
      "39\n"
     ]
    },
    {
     "data": {
      "image/png": "[encoded data removed]",
      "text/plain": [
       "<Figure size 86.4x57.6 with 1 Axes>"
      ]
     },
     "metadata": {
      "needs_background": "light"
     },
     "output_type": "display_data"
    },
    {
     "data": {
      "image/png": "[encoded data removed]",
      "text/plain": [
       "<Figure size 86.4x57.6 with 1 Axes>"
      ]
     },
     "metadata": {
      "needs_background": "light"
     },
     "output_type": "display_data"
    },
    {
     "data": {
      "image/png": "[encoded data removed]",
      "text/plain": [
       "<Figure size 86.4x57.6 with 1 Axes>"
      ]
     },
     "metadata": {
      "needs_background": "light"
     },
     "output_type": "display_data"
    },
    {
     "data": {
      "image/png": "[encoded data removed]",
      "text/plain": [
       "<Figure size 396x396 with 4 Axes>"
      ]
     },
     "metadata": {
      "needs_background": "light"
     },
     "output_type": "display_data"
    }
   ],
   "source": [
    "print(net_names.index('min_d_2_l_20')) # 39\n",
    "est = res[39]\n",
    "\n",
    "# repair data set (due to newer memopy version)\n",
    "est.data.data_mean_exists_only = False\n",
    "\n",
    "plt.rcParams.update({'figure.figsize': (1.2, 0.8)})\n",
    "settings = {\n",
    "    'A_t': {'label': 'E$(A_t)$', 'color': cactiv},\n",
    "    'M_t': {'label': 'E$(M_t)$', 'color': cnaive}\n",
    "}\n",
    "me.plots.est_bestfit_mean_plot(est, x_label='Time (hours)', settings=settings)\n",
    "\n",
    "settings = {\n",
    "    ('A_t', 'A_t'): {'label': 'Var$(A_t)$', 'color': cactiv},\n",
    "    ('M_t', 'M_t'): {'label': 'Var$(M_t)$', 'color': cnaive}\n",
    "}\n",
    "me.plots.est_bestfit_variance_plot(est, x_label='Time (hours)', settings=settings)\n",
    "\n",
    "settings = {\n",
    "    ('A_t', 'M_t'): {'label': 'Cov $(M_t, A_t)$', 'color': grey}\n",
    "}\n",
    "me.plots.est_bestfit_covariance_plot(est, x_label='Time (hours)', settings=settings)\n",
    "\n",
    "me.plots.est_corner_kernel_plot(est)"
   ]
  },
  {
   "cell_type": "code",
   "execution_count": 63,
   "metadata": {},
   "outputs": [],
   "source": [
    "mprior = np.array([1/len(res)]*len(res))\n",
    "data = res[0].data"
   ]
  },
  {
   "cell_type": "code",
   "execution_count": 64,
   "metadata": {},
   "outputs": [
    {
     "name": "stdout",
     "output_type": "stream",
     "text": [
      "[20000.     0.     0.     0.]\n"
     ]
    }
   ],
   "source": [
    "# idea to compute \"credible bands\" for better visualisation\n",
    "samples = 20000\n",
    "plot_data = True # True or False\n",
    "time_max = 60.0 # 150.0, 54.0\n",
    "x = np.linspace(0.0, time_max, num=200)\n",
    "\n",
    "y = waiting_time_distr_samples_act(x, res, samples, time_max, mprior)"
   ]
  },
  {
   "cell_type": "code",
   "execution_count": 65,
   "metadata": {},
   "outputs": [
    {
     "data": {
      "image/png": "[encoded data removed]",
      "text/plain": [
       "<Figure size 100.8x57.6 with 1 Axes>"
      ]
     },
     "metadata": {
      "needs_background": "light"
     },
     "output_type": "display_data"
    }
   ],
   "source": [
    "y_997_lower = np.percentile(y, 0.15, axis=1)\n",
    "y_95_lower = np.percentile(y, 2.5, axis=1)\n",
    "y_68_lower = np.percentile(y, 16.0, axis=1)\n",
    "y_median = np.percentile(y, 50.0, axis=1)\n",
    "y_68_upper = np.percentile(y, 84.0, axis=1)\n",
    "y_95_upper = np.percentile(y, 97.5, axis=1)\n",
    "y_997_upper = np.percentile(y, 99.85, axis=1)\n",
    "\n",
    "plt.rcParams.update({'figure.figsize': (1.4, 0.8)})\n",
    "plt.figure()\n",
    "ax = plt.gca()\n",
    "ax.spines['top'].set_visible(False)\n",
    "ax.spines['right'].set_visible(False)\n",
    "ax.spines['bottom'].set_visible(True)\n",
    "ax.spines['left'].set_visible(True)\n",
    "\n",
    "# adapted from framework plotting methods\n",
    "if plot_data:\n",
    "    data.events_find_all()\n",
    "    data_act = np.array([tup[1] for tup in data.event_all_first_cell_type_conversion if tup[0]])\n",
    "\n",
    "    plt.hist(data_act - 1e-06, bins=data.data_time_values,\n",
    "             color='black', alpha=0.1,\n",
    "             density=True, histtype='stepfilled')\n",
    "\n",
    "\n",
    "plt.fill_between(x, y_997_lower, y_95_lower, color=cwact, alpha=0.2, linewidth=0.0, zorder=100)\n",
    "plt.fill_between(x, y_95_lower, y_68_lower, color=cwact, alpha=0.4, linewidth=0.0, zorder=100)\n",
    "plt.fill_between(x, y_68_lower, y_median, color=cwact, alpha=0.6, linewidth=0.0, zorder=100)\n",
    "\n",
    "plt.fill_between(x, y_median, y_68_upper, color=cwact, alpha=0.6, linewidth=0.0, zorder=100)\n",
    "plt.fill_between(x, y_68_upper, y_95_upper, color=cwact, alpha=0.4, linewidth=0.0, zorder=100)\n",
    "plt.fill_between(x, y_95_upper, y_997_upper, color=cwact, alpha=0.2, linewidth=0.0, zorder=100)\n",
    "\n",
    "# plt.plot(x, y_hdi_997_lower, color='lightseagreen', lw=2, alpha=0.2)\n",
    "# plt.plot(x, y_hdi_95_lower, color='lightseagreen', lw=2, alpha=0.4)\n",
    "# plt.plot(x, y_hdi_68_lower, color='lightseagreen', lw=2, alpha=0.6)\n",
    "plt.plot(x, y_median, color=cwact, lw=1, zorder=200)\n",
    "# plt.plot(x, y_hdi_68_upper, color='lightseagreen', lw=2, alpha=0.6)\n",
    "# plt.plot(x, y_hdi_95_upper, color='lightseagreen', lw=2, alpha=0.4)\n",
    "# plt.plot(x, y_hdi_997_upper, color='lightseagreen', lw=2, alpha=0.2)\n",
    "\n",
    "plt.ylabel('Probability')\n",
    "plt.xlabel('Activation times (hours)')\n",
    "plt.savefig('paper_figures/waiting_times_thin4_act_meanfit_minimal2.pdf', bbox_inches='tight') # pdf, png"
   ]
  },
  {
   "cell_type": "code",
   "execution_count": 66,
   "metadata": {},
   "outputs": [
    {
     "name": "stdout",
     "output_type": "stream",
     "text": [
      "[20000.     0.     0.     0.]\n"
     ]
    }
   ],
   "source": [
    "# idea to compute \"credible bands\" for better visualisation\n",
    "samples = 20000\n",
    "plot_data = False # True or False\n",
    "time_max = 60.0 # 150.0, 54.0\n",
    "x = np.linspace(0.0, time_max, num=200)\n",
    "\n",
    "# NOTE: the data we plot here is only from first divisions! (so its not the complete data, \n",
    "# which is inaccessible from the data)\n",
    "\n",
    "y = waiting_time_distr_samples_div(x, res, samples, time_max, mprior)"
   ]
  },
  {
   "cell_type": "code",
   "execution_count": 67,
   "metadata": {},
   "outputs": [
    {
     "data": {
      "image/png": "[encoded data removed]",
      "text/plain": [
       "<Figure size 100.8x57.6 with 1 Axes>"
      ]
     },
     "metadata": {
      "needs_background": "light"
     },
     "output_type": "display_data"
    }
   ],
   "source": [
    "y_997_lower = np.percentile(y, 0.15, axis=1)\n",
    "y_95_lower = np.percentile(y, 2.5, axis=1)\n",
    "y_68_lower = np.percentile(y, 16.0, axis=1)\n",
    "y_median = np.percentile(y, 50.0, axis=1)\n",
    "y_68_upper = np.percentile(y, 84.0, axis=1)\n",
    "y_95_upper = np.percentile(y, 97.5, axis=1)\n",
    "y_997_upper = np.percentile(y, 99.85, axis=1)\n",
    "\n",
    "plt.rcParams.update({'figure.figsize': (1.4, 0.8)})\n",
    "plt.figure()\n",
    "ax = plt.gca()\n",
    "ax.spines['top'].set_visible(False)\n",
    "ax.spines['right'].set_visible(False)\n",
    "ax.spines['bottom'].set_visible(True)\n",
    "ax.spines['left'].set_visible(True)\n",
    "\n",
    "# adapted from framework plotting methods\n",
    "if plot_data:\n",
    "    data.events_find_all()\n",
    "    data_act = np.array([tup[1] for tup in data.event_all_first_cell_count_increase_after_cell_type_conversion if tup[0]])\n",
    "\n",
    "    plt.hist(data_act - 1e-06, bins=data.data_time_values,\n",
    "             color='black', alpha=0.1,\n",
    "             density=True, histtype='stepfilled')\n",
    "    \n",
    "plt.fill_between(x, y_997_lower, y_95_lower, color=cwdiv, alpha=0.2, linewidth=0.0, zorder=100)\n",
    "plt.fill_between(x, y_95_lower, y_68_lower, color=cwdiv, alpha=0.4, linewidth=0.0, zorder=100)\n",
    "plt.fill_between(x, y_68_lower, y_median, color=cwdiv, alpha=0.6, linewidth=0.0, zorder=100)\n",
    "\n",
    "plt.fill_between(x, y_median, y_68_upper, color=cwdiv, alpha=0.6, linewidth=0.0, zorder=100)\n",
    "plt.fill_between(x, y_68_upper, y_95_upper, color=cwdiv, alpha=0.4, linewidth=0.0, zorder=100)\n",
    "plt.fill_between(x, y_95_upper, y_997_upper, color=cwdiv, alpha=0.2, linewidth=0.0, zorder=100)\n",
    "\n",
    "# plt.plot(x, y_hdi_997_lower, color='darkorange', lw=0.5, alpha=0.2)\n",
    "# plt.plot(x, y_hdi_95_lower, color='darkorange', lw=0.5, alpha=0.4)\n",
    "# plt.plot(x, y_hdi_68_lower, color='blue', lw=0.5, alpha=0.6)\n",
    "plt.plot(x, y_median, color=cwdiv, lw=1, zorder=200)\n",
    "# plt.plot(x, y_hdi_68_upper, color='darkorange', lw=0.5, alpha=0.6)\n",
    "# plt.plot(x, y_hdi_95_upper, color='darkorange', lw=0.5, alpha=0.4)\n",
    "# plt.plot(x, y_hdi_997_upper, color='darkorange', lw=0.5, alpha=0.2)\n",
    "\n",
    "plt.ylabel('Probability')\n",
    "plt.xlabel('Division times (hours)')\n",
    "plt.savefig('paper_figures/waiting_times_thin4_div_meanfit_minimal2.pdf', bbox_inches='tight') # pdf, png"
   ]
  },
  {
   "cell_type": "code",
   "execution_count": 68,
   "metadata": {},
   "outputs": [
    {
     "data": {
      "text/plain": [
       "array([0.74951725, 0.25048275])"
      ]
     },
     "execution_count": 68,
     "metadata": {},
     "output_type": "execute_result"
    }
   ],
   "source": [
    "# compare \n",
    "me.selection.compute_model_probabilities_from_log_evidences(np.array([\n",
    "    13.4745652, # best minimal2 model (meanfit + thin4)\n",
    "    12.37852592, # best par2 model (meanfit + thin4)\n",
    "]))"
   ]
  },
  {
   "cell_type": "code",
   "execution_count": 81,
   "metadata": {},
   "outputs": [
    {
     "data": {
      "text/plain": [
       "{'theta_0': 'd', 'theta_1': 'l'}"
      ]
     },
     "execution_count": 81,
     "metadata": {},
     "output_type": "execute_result"
    }
   ],
   "source": [
    "res[0].net.net_rates_identifier"
   ]
  },
  {
   "cell_type": "code",
   "execution_count": 83,
   "metadata": {},
   "outputs": [
    {
     "data": {
      "image/png": "[encoded data removed]",
      "text/plain": [
       "<Figure size 86.4x57.6 with 1 Axes>"
      ]
     },
     "metadata": {
      "needs_background": "light"
     },
     "output_type": "display_data"
    }
   ],
   "source": [
    "samples = 10000\n",
    "div_steps = list()\n",
    "\n",
    "plt.rcParams.update({'figure.figsize': (1.2, 0.8)})\n",
    "plt.figure()\n",
    "ax = plt.gca()\n",
    "ax.spines['top'].set_visible(False)\n",
    "ax.spines['right'].set_visible(False)\n",
    "ax.spines['bottom'].set_visible(True)\n",
    "ax.spines['left'].set_visible(True)\n",
    "\n",
    "for __ in range(samples):\n",
    "    # get random model according to p(M|D)\n",
    "    model_rand = np.random.choice(range(len(model_probs)), p=model_probs, replace=True)\n",
    "    est = res[model_rand]\n",
    "    \n",
    "    div_steps.append(est.net.net_modules[1]['module_steps'])\n",
    "    \n",
    "    if not est.net.net_modules[1]['sym_rate']=='l':\n",
    "        print('error')\n",
    "\n",
    "plt.hist(np.array(div_steps), bins=np.linspace(1, 22, endpoint=True, num=22)-0.5, \n",
    "         density=True, color='dodgerblue')\n",
    "# plt.xticks([1, 2, 4, 6, 8, 10, 14, 18])\n",
    "plt.ylabel('Probability')\n",
    "plt.xlabel('Division steps')\n",
    "# plt.savefig('waiting_times_div_steps.pdf')\n",
    "plt.show()"
   ]
  },
  {
   "cell_type": "code",
   "execution_count": 87,
   "metadata": {},
   "outputs": [
    {
     "data": {
      "image/png": "[encoded data removed]",
      "text/plain": [
       "<Figure size 86.4x57.6 with 1 Axes>"
      ]
     },
     "metadata": {
      "needs_background": "light"
     },
     "output_type": "display_data"
    }
   ],
   "source": [
    "samples = 50000\n",
    "alpha_steps = list()\n",
    "\n",
    "plt.rcParams.update({'figure.figsize': (1.2, 0.8)})\n",
    "plt.figure()\n",
    "ax = plt.gca()\n",
    "ax.spines['top'].set_visible(False)\n",
    "ax.spines['right'].set_visible(False)\n",
    "ax.spines['bottom'].set_visible(True)\n",
    "ax.spines['left'].set_visible(True)\n",
    "\n",
    "for __ in range(samples):\n",
    "    # get random model according to p(M|D)\n",
    "    model_rand = np.random.choice(range(len(model_probs)), p=model_probs, replace=True)\n",
    "    est = res[model_rand]\n",
    "    \n",
    "    alpha_steps.append(est.net.net_modules[0]['module_steps'])\n",
    "    \n",
    "    if not est.net.net_modules[0]['sym_rate']=='d':\n",
    "        print('error')\n",
    "\n",
    "plt.hist(np.array(alpha_steps), bins=np.linspace(1, 6, endpoint=True, num=6)-0.5, \n",
    "         density=True, color='dodgerblue')\n",
    "# plt.xticks([1, 2, 4, 6, 8, 10, 14, 18])\n",
    "plt.ylabel('Probability')\n",
    "plt.xlabel('Activation steps (1st channel)')\n",
    "# plt.savefig('waiting_times_act_steps.pdf')\n",
    "plt.show()"
   ]
  },
  {
   "cell_type": "markdown",
   "metadata": {},
   "source": [
    "##### par2 model (new version and mean only)"
   ]
  },
  {
   "cell_type": "code",
   "execution_count": 98,
   "metadata": {},
   "outputs": [],
   "source": [
    "res = pickle.load(open('waiting_times_files/estimation_count_data_cd44_filtered_thin4_par2.pickle', 'rb'))"
   ]
  },
  {
   "cell_type": "code",
   "execution_count": 99,
   "metadata": {},
   "outputs": [
    {
     "name": "stdout",
     "output_type": "stream",
     "text": [
      "288\n",
      "[0.03059841 0.03031175 0.02573055 0.02561168 0.02553119 0.02382151\n",
      " 0.02349241 0.02263167 0.0222928  0.02186119]\n",
      "[40.75743809 40.74802534 40.5841689  40.57953847 40.57639063 40.50707906\n",
      " 40.49316749 40.45584005 40.4407535  40.42120283]\n",
      "['par2_d_6_10_l_18' 'par2_d_6_10_l_14' 'par2_d_4_6_l_18'\n",
      " 'par2_d_8_14_l_14' 'par2_d_8_14_l_18' 'par2_d_8_14_l_10'\n",
      " 'par2_d_4_8_l_18' 'par2_d_4_6_l_14' 'par2_d_4_8_l_14' 'par2_d_6_10_l_10']\n"
     ]
    }
   ],
   "source": [
    "net_names = [est.net.net_name for est in res]\n",
    "model_probs = me.selection.compute_model_probabilities(res)\n",
    "log_evids = [est.bay_est_log_evidence for est in res]\n",
    "\n",
    "sort_inds = np.array(- model_probs).argsort()\n",
    "net_names_sorted = np.array(net_names)[sort_inds]\n",
    "model_probs_sorted = np.array(model_probs)[sort_inds]\n",
    "log_evids_sorted = np.array(log_evids)[sort_inds]\n",
    "\n",
    "print(len(res))\n",
    "print(model_probs_sorted[:10])\n",
    "print(log_evids_sorted[:10])\n",
    "print(net_names_sorted[:10])"
   ]
  },
  {
   "cell_type": "code",
   "execution_count": 72,
   "metadata": {},
   "outputs": [],
   "source": [
    "res = pickle.load(open('waiting_times_files/estimation_count_data_cd44_filtered_thin4_par2_meanfit.pickle', 'rb'))"
   ]
  },
  {
   "cell_type": "code",
   "execution_count": 73,
   "metadata": {},
   "outputs": [
    {
     "name": "stdout",
     "output_type": "stream",
     "text": [
      "288\n",
      "[0.01957247 0.01807416 0.01665948 0.01595331 0.01500939 0.01375367\n",
      " 0.01244657 0.01103253 0.01026173 0.01007725]\n",
      "[12.37852592 12.29888485 12.21738139 12.17406803 12.11307795 12.02570749\n",
      " 11.92584648 11.80525032 11.73282342 11.71468257]\n",
      "['par2_d_2_2_l_14' 'par2_d_2_2_l_18' 'par2_d_2_2_l_8' 'par2_d_2_2_l_6'\n",
      " 'par2_d_2_2_l_10' 'par2_d_2_2_l_4' 'par2_d_2_4_l_10' 'par2_d_2_4_l_14'\n",
      " 'par2_d_2_4_l_8' 'par2_d_4_8_l_18']\n"
     ]
    }
   ],
   "source": [
    "net_names = [est.net.net_name for est in res]\n",
    "model_probs = me.selection.compute_model_probabilities(res)\n",
    "log_evids = [est.bay_est_log_evidence for est in res]\n",
    "\n",
    "sort_inds = np.array(- model_probs).argsort()\n",
    "net_names_sorted = np.array(net_names)[sort_inds]\n",
    "model_probs_sorted = np.array(model_probs)[sort_inds]\n",
    "log_evids_sorted = np.array(log_evids)[sort_inds]\n",
    "\n",
    "print(len(res))\n",
    "print(model_probs_sorted[:10])\n",
    "print(log_evids_sorted[:10])\n",
    "print(net_names_sorted[:10])"
   ]
  },
  {
   "cell_type": "code",
   "execution_count": 74,
   "metadata": {},
   "outputs": [
    {
     "name": "stdout",
     "output_type": "stream",
     "text": [
      "70\n"
     ]
    }
   ],
   "source": [
    "print(net_names.index('par2_d_2_2_l_14'))"
   ]
  },
  {
   "cell_type": "code",
   "execution_count": 54,
   "metadata": {},
   "outputs": [
    {
     "data": {
      "image/png": "[encoded data removed]",
      "text/plain": [
       "<Figure size 86.4x57.6 with 1 Axes>"
      ]
     },
     "metadata": {
      "needs_background": "light"
     },
     "output_type": "display_data"
    },
    {
     "data": {
      "image/png": "[encoded data removed]",
      "text/plain": [
       "<Figure size 86.4x57.6 with 1 Axes>"
      ]
     },
     "metadata": {
      "needs_background": "light"
     },
     "output_type": "display_data"
    },
    {
     "data": {
      "image/png": "[encoded data removed]",
      "text/plain": [
       "<Figure size 86.4x57.6 with 1 Axes>"
      ]
     },
     "metadata": {
      "needs_background": "light"
     },
     "output_type": "display_data"
    },
    {
     "data": {
      "image/png": "[encoded data removed]",
      "text/plain": [
       "<Figure size 547.2x547.2 with 9 Axes>"
      ]
     },
     "metadata": {
      "needs_background": "light"
     },
     "output_type": "display_data"
    }
   ],
   "source": [
    "est = res[70]\n",
    "\n",
    "# repair data set (due to newer memopy version)\n",
    "est.data.data_mean_exists_only = False\n",
    "est.net_simulation_credible_band_exists = False\n",
    "\n",
    "plt.rcParams.update({'figure.figsize': (1.2, 0.8)})\n",
    "settings = {\n",
    "    'A_t': {'label': 'E$(A_t)$', 'color': cactiv},\n",
    "    'M_t': {'label': 'E$(M_t)$', 'color': cnaive}\n",
    "}\n",
    "me.plots.est_bestfit_mean_plot(est, x_label='Time (hours)', settings=settings)\n",
    "\n",
    "settings = {\n",
    "    ('A_t', 'A_t'): {'label': 'Var$(A_t)$', 'color': cactiv},\n",
    "    ('M_t', 'M_t'): {'label': 'Var$(M_t)$', 'color': cnaive}\n",
    "}\n",
    "me.plots.est_bestfit_variance_plot(est, x_label='Time (hours)', settings=settings)\n",
    "\n",
    "settings = {\n",
    "    ('A_t', 'M_t'): {'label': 'Cov $(M_t, A_t)$', 'color': grey}\n",
    "}\n",
    "me.plots.est_bestfit_covariance_plot(est, x_label='Time (hours)', settings=settings)\n",
    "\n",
    "me.plots.est_corner_kernel_plot(est)"
   ]
  },
  {
   "cell_type": "code",
   "execution_count": 55,
   "metadata": {},
   "outputs": [],
   "source": [
    "mprior = np.array([1/len(res)]*len(res))\n",
    "data = res[0].data"
   ]
  },
  {
   "cell_type": "code",
   "execution_count": 56,
   "metadata": {},
   "outputs": [
    {
     "name": "stdout",
     "output_type": "stream",
     "text": [
      "[    0.     0. 20000.     0.]\n"
     ]
    }
   ],
   "source": [
    "# idea to compute \"credible bands\" for better visualisation\n",
    "samples = 20000\n",
    "plot_data = True # True or False\n",
    "time_max = 60.0 # 150.0, 54.0\n",
    "x = np.linspace(0.0, time_max, num=200)\n",
    "\n",
    "y = waiting_time_distr_samples_act(x, res, samples, time_max, mprior)"
   ]
  },
  {
   "cell_type": "code",
   "execution_count": 57,
   "metadata": {},
   "outputs": [
    {
     "data": {
      "image/png": "[encoded data removed]",
      "text/plain": [
       "<Figure size 100.8x57.6 with 1 Axes>"
      ]
     },
     "metadata": {
      "needs_background": "light"
     },
     "output_type": "display_data"
    }
   ],
   "source": [
    "y_997_lower = np.percentile(y, 0.15, axis=1)\n",
    "y_95_lower = np.percentile(y, 2.5, axis=1)\n",
    "y_68_lower = np.percentile(y, 16.0, axis=1)\n",
    "y_median = np.percentile(y, 50.0, axis=1)\n",
    "y_68_upper = np.percentile(y, 84.0, axis=1)\n",
    "y_95_upper = np.percentile(y, 97.5, axis=1)\n",
    "y_997_upper = np.percentile(y, 99.85, axis=1)\n",
    "\n",
    "plt.rcParams.update({'figure.figsize': (1.4, 0.8)})\n",
    "plt.figure()\n",
    "ax = plt.gca()\n",
    "ax.spines['top'].set_visible(False)\n",
    "ax.spines['right'].set_visible(False)\n",
    "ax.spines['bottom'].set_visible(True)\n",
    "ax.spines['left'].set_visible(True)\n",
    "\n",
    "# adapted from framework plotting methods\n",
    "if plot_data:\n",
    "    data.events_find_all()\n",
    "    data_act = np.array([tup[1] for tup in data.event_all_first_cell_type_conversion if tup[0]])\n",
    "\n",
    "    plt.hist(data_act - 1e-06, bins=data.data_time_values,\n",
    "             color='black', alpha=0.1,\n",
    "             density=True, histtype='stepfilled')\n",
    "\n",
    "\n",
    "plt.fill_between(x, y_997_lower, y_95_lower, color=cwact, alpha=0.2, linewidth=0.0, zorder=100)\n",
    "plt.fill_between(x, y_95_lower, y_68_lower, color=cwact, alpha=0.4, linewidth=0.0, zorder=100)\n",
    "plt.fill_between(x, y_68_lower, y_median, color=cwact, alpha=0.6, linewidth=0.0, zorder=100)\n",
    "\n",
    "plt.fill_between(x, y_median, y_68_upper, color=cwact, alpha=0.6, linewidth=0.0, zorder=100)\n",
    "plt.fill_between(x, y_68_upper, y_95_upper, color=cwact, alpha=0.4, linewidth=0.0, zorder=100)\n",
    "plt.fill_between(x, y_95_upper, y_997_upper, color=cwact, alpha=0.2, linewidth=0.0, zorder=100)\n",
    "\n",
    "# plt.plot(x, y_hdi_997_lower, color='lightseagreen', lw=2, alpha=0.2)\n",
    "# plt.plot(x, y_hdi_95_lower, color='lightseagreen', lw=2, alpha=0.4)\n",
    "# plt.plot(x, y_hdi_68_lower, color='lightseagreen', lw=2, alpha=0.6)\n",
    "plt.plot(x, y_median, color=cwact, lw=1, zorder=200)\n",
    "# plt.plot(x, y_hdi_68_upper, color='lightseagreen', lw=2, alpha=0.6)\n",
    "# plt.plot(x, y_hdi_95_upper, color='lightseagreen', lw=2, alpha=0.4)\n",
    "# plt.plot(x, y_hdi_997_upper, color='lightseagreen', lw=2, alpha=0.2)\n",
    "\n",
    "plt.ylabel('Probability')\n",
    "plt.xlabel('Activation times (hours)')\n",
    "plt.savefig('paper_figures/waiting_times_thin4_act_meanfit_par2.pdf', bbox_inches='tight') # pdf, png"
   ]
  },
  {
   "cell_type": "code",
   "execution_count": 58,
   "metadata": {},
   "outputs": [
    {
     "name": "stdout",
     "output_type": "stream",
     "text": [
      "[    0.     0. 20000.     0.]\n"
     ]
    }
   ],
   "source": [
    "# idea to compute \"credible bands\" for better visualisation\n",
    "samples = 20000\n",
    "plot_data = False # True or False\n",
    "time_max = 60.0 # 150.0, 54.0\n",
    "x = np.linspace(0.0, time_max, num=200)\n",
    "\n",
    "# NOTE: the data we plot here is only from first divisions! (so its not the complete data, \n",
    "# which is inaccessible from the data)\n",
    "\n",
    "y = waiting_time_distr_samples_div(x, res, samples, time_max, mprior)"
   ]
  },
  {
   "cell_type": "code",
   "execution_count": 59,
   "metadata": {},
   "outputs": [
    {
     "data": {
      "image/png": "[encoded data removed]",
      "text/plain": [
       "<Figure size 100.8x57.6 with 1 Axes>"
      ]
     },
     "metadata": {
      "needs_background": "light"
     },
     "output_type": "display_data"
    }
   ],
   "source": [
    "y_997_lower = np.percentile(y, 0.15, axis=1)\n",
    "y_95_lower = np.percentile(y, 2.5, axis=1)\n",
    "y_68_lower = np.percentile(y, 16.0, axis=1)\n",
    "y_median = np.percentile(y, 50.0, axis=1)\n",
    "y_68_upper = np.percentile(y, 84.0, axis=1)\n",
    "y_95_upper = np.percentile(y, 97.5, axis=1)\n",
    "y_997_upper = np.percentile(y, 99.85, axis=1)\n",
    "\n",
    "plt.rcParams.update({'figure.figsize': (1.4, 0.8)})\n",
    "plt.figure()\n",
    "ax = plt.gca()\n",
    "ax.spines['top'].set_visible(False)\n",
    "ax.spines['right'].set_visible(False)\n",
    "ax.spines['bottom'].set_visible(True)\n",
    "ax.spines['left'].set_visible(True)\n",
    "\n",
    "# adapted from framework plotting methods\n",
    "if plot_data:\n",
    "    data.events_find_all()\n",
    "    data_act = np.array([tup[1] for tup in data.event_all_first_cell_count_increase_after_cell_type_conversion if tup[0]])\n",
    "\n",
    "    plt.hist(data_act - 1e-06, bins=data.data_time_values,\n",
    "             color='black', alpha=0.1,\n",
    "             density=True, histtype='stepfilled')\n",
    "    \n",
    "plt.fill_between(x, y_997_lower, y_95_lower, color=cwdiv, alpha=0.2, linewidth=0.0, zorder=100)\n",
    "plt.fill_between(x, y_95_lower, y_68_lower, color=cwdiv, alpha=0.4, linewidth=0.0, zorder=100)\n",
    "plt.fill_between(x, y_68_lower, y_median, color=cwdiv, alpha=0.6, linewidth=0.0, zorder=100)\n",
    "\n",
    "plt.fill_between(x, y_median, y_68_upper, color=cwdiv, alpha=0.6, linewidth=0.0, zorder=100)\n",
    "plt.fill_between(x, y_68_upper, y_95_upper, color=cwdiv, alpha=0.4, linewidth=0.0, zorder=100)\n",
    "plt.fill_between(x, y_95_upper, y_997_upper, color=cwdiv, alpha=0.2, linewidth=0.0, zorder=100)\n",
    "\n",
    "# plt.plot(x, y_hdi_997_lower, color='darkorange', lw=0.5, alpha=0.2)\n",
    "# plt.plot(x, y_hdi_95_lower, color='darkorange', lw=0.5, alpha=0.4)\n",
    "# plt.plot(x, y_hdi_68_lower, color='blue', lw=0.5, alpha=0.6)\n",
    "plt.plot(x, y_median, color=cwdiv, lw=1, zorder=200)\n",
    "# plt.plot(x, y_hdi_68_upper, color='darkorange', lw=0.5, alpha=0.6)\n",
    "# plt.plot(x, y_hdi_95_upper, color='darkorange', lw=0.5, alpha=0.4)\n",
    "# plt.plot(x, y_hdi_997_upper, color='darkorange', lw=0.5, alpha=0.2)\n",
    "\n",
    "plt.ylabel('Probability')\n",
    "plt.xlabel('Division times (hours)')\n",
    "plt.savefig('paper_figures/waiting_times_thin4_div_meanfit_par2.pdf', bbox_inches='tight') # pdf, png"
   ]
  },
  {
   "cell_type": "code",
   "execution_count": 75,
   "metadata": {},
   "outputs": [
    {
     "data": {
      "image/png": "[encoded data removed]",
      "text/plain": [
       "<Figure size 86.4x57.6 with 1 Axes>"
      ]
     },
     "metadata": {
      "needs_background": "light"
     },
     "output_type": "display_data"
    }
   ],
   "source": [
    "samples = 10000\n",
    "div_steps = list()\n",
    "\n",
    "plt.rcParams.update({'figure.figsize': (1.2, 0.8)})\n",
    "plt.figure()\n",
    "ax = plt.gca()\n",
    "ax.spines['top'].set_visible(False)\n",
    "ax.spines['right'].set_visible(False)\n",
    "ax.spines['bottom'].set_visible(True)\n",
    "ax.spines['left'].set_visible(True)\n",
    "\n",
    "for __ in range(samples):\n",
    "    # get random model according to p(M|D)\n",
    "    model_rand = np.random.choice(range(len(model_probs)), p=model_probs, replace=True)\n",
    "    est = res[model_rand]\n",
    "    \n",
    "    div_steps.append(est.net.net_modules[2]['module_steps'])\n",
    "    \n",
    "    if not est.net.net_modules[2]['sym_rate']=='l1':\n",
    "        print('error')\n",
    "\n",
    "plt.hist(np.array(div_steps), bins=np.linspace(1, 19, endpoint=True, num=19)-0.5, \n",
    "         density=True, color='dodgerblue')\n",
    "plt.xticks([1, 2, 4, 6, 8, 10, 14, 18])\n",
    "plt.ylabel('Probability')\n",
    "plt.xlabel('Division steps')\n",
    "# plt.savefig('waiting_times_div_steps.pdf')\n",
    "plt.show()"
   ]
  },
  {
   "cell_type": "code",
   "execution_count": 76,
   "metadata": {},
   "outputs": [
    {
     "data": {
      "image/png": "[encoded data removed]",
      "text/plain": [
       "<Figure size 86.4x57.6 with 1 Axes>"
      ]
     },
     "metadata": {
      "needs_background": "light"
     },
     "output_type": "display_data"
    }
   ],
   "source": [
    "samples = 50000\n",
    "alpha_steps = list()\n",
    "\n",
    "plt.rcParams.update({'figure.figsize': (1.2, 0.8)})\n",
    "plt.figure()\n",
    "ax = plt.gca()\n",
    "ax.spines['top'].set_visible(False)\n",
    "ax.spines['right'].set_visible(False)\n",
    "ax.spines['bottom'].set_visible(True)\n",
    "ax.spines['left'].set_visible(True)\n",
    "\n",
    "for __ in range(samples):\n",
    "    # get random model according to p(M|D)\n",
    "    model_rand = np.random.choice(range(len(model_probs)), p=model_probs, replace=True)\n",
    "    est = res[model_rand]\n",
    "    \n",
    "    alpha_steps.append(est.net.net_modules[0]['module_steps'])\n",
    "    \n",
    "    if not est.net.net_modules[0]['sym_rate']=='d1':\n",
    "        print('error')\n",
    "\n",
    "plt.hist(np.array(alpha_steps), bins=np.linspace(1, 19, endpoint=True, num=19)-0.5, \n",
    "         density=True, color='dodgerblue')\n",
    "plt.xticks([1, 2, 4, 6, 8, 10, 14, 18])\n",
    "plt.ylabel('Probability')\n",
    "plt.xlabel('Activation steps (1st channel)')\n",
    "# plt.savefig('waiting_times_act_steps.pdf')\n",
    "plt.show()"
   ]
  },
  {
   "cell_type": "code",
   "execution_count": 77,
   "metadata": {},
   "outputs": [
    {
     "data": {
      "image/png": "[encoded data removed]",
      "text/plain": [
       "<Figure size 86.4x57.6 with 1 Axes>"
      ]
     },
     "metadata": {
      "needs_background": "light"
     },
     "output_type": "display_data"
    }
   ],
   "source": [
    "samples = 50000\n",
    "alpha_steps = list()\n",
    "\n",
    "plt.rcParams.update({'figure.figsize': (1.2, 0.8)})\n",
    "plt.figure()\n",
    "ax = plt.gca()\n",
    "ax.spines['top'].set_visible(False)\n",
    "ax.spines['right'].set_visible(False)\n",
    "ax.spines['bottom'].set_visible(True)\n",
    "ax.spines['left'].set_visible(True)\n",
    "\n",
    "for __ in range(samples):\n",
    "    # get random model according to p(M|D)\n",
    "    model_rand = np.random.choice(range(len(model_probs)), p=model_probs, replace=True)\n",
    "    est = res[model_rand]\n",
    "    \n",
    "    alpha_steps.append(est.net.net_modules[1]['module_steps'])\n",
    "    \n",
    "    if not est.net.net_modules[1]['sym_rate']=='d2':\n",
    "        print('error')\n",
    "\n",
    "plt.hist(np.array(alpha_steps), bins=np.linspace(1, 19, endpoint=True, num=19)-0.5, \n",
    "         density=True, color='dodgerblue')\n",
    "plt.xticks([1, 2, 4, 6, 8, 10, 14, 18])\n",
    "plt.ylabel('Probability')\n",
    "plt.xlabel('Activation steps (2nd channel)')\n",
    "# plt.savefig('waiting_times_act_steps.pdf')\n",
    "plt.show()"
   ]
  },
  {
   "cell_type": "markdown",
   "metadata": {},
   "source": [
    "##### par1+i thin4\n",
    "On thin4 data par2 and par1+i model are equally good"
   ]
  },
  {
   "cell_type": "code",
   "execution_count": 100,
   "metadata": {},
   "outputs": [],
   "source": [
    "res = pickle.load(open('waiting_times_files/estimation_count_data_cd44_filtered_thin4_par2.pickle', 'rb'))"
   ]
  },
  {
   "cell_type": "code",
   "execution_count": 101,
   "metadata": {},
   "outputs": [
    {
     "name": "stdout",
     "output_type": "stream",
     "text": [
      "288\n",
      "[0.03059841 0.03031175 0.02573055 0.02561168 0.02553119 0.02382151\n",
      " 0.02349241 0.02263167 0.0222928  0.02186119]\n",
      "[40.75743809 40.74802534 40.5841689  40.57953847 40.57639063 40.50707906\n",
      " 40.49316749 40.45584005 40.4407535  40.42120283]\n",
      "['par2_d_6_10_l_18' 'par2_d_6_10_l_14' 'par2_d_4_6_l_18'\n",
      " 'par2_d_8_14_l_14' 'par2_d_8_14_l_18' 'par2_d_8_14_l_10'\n",
      " 'par2_d_4_8_l_18' 'par2_d_4_6_l_14' 'par2_d_4_8_l_14' 'par2_d_6_10_l_10']\n"
     ]
    }
   ],
   "source": [
    "net_names = [est.net.net_name for est in res]\n",
    "model_probs = me.selection.compute_model_probabilities(res)\n",
    "log_evids = [est.bay_est_log_evidence for est in res]\n",
    "\n",
    "sort_inds = np.array(- model_probs).argsort()\n",
    "net_names_sorted = np.array(net_names)[sort_inds]\n",
    "model_probs_sorted = np.array(model_probs)[sort_inds]\n",
    "log_evids_sorted = np.array(log_evids)[sort_inds]\n",
    "\n",
    "print(len(res))\n",
    "print(model_probs_sorted[:10])\n",
    "print(log_evids_sorted[:10])\n",
    "print(net_names_sorted[:10])"
   ]
  },
  {
   "cell_type": "code",
   "execution_count": 102,
   "metadata": {},
   "outputs": [],
   "source": [
    "res = pickle.load(open('waiting_times_files/estimation_count_data_cd44_filtered_thin4_par1+i.pickle', 'rb'))"
   ]
  },
  {
   "cell_type": "code",
   "execution_count": 103,
   "metadata": {},
   "outputs": [
    {
     "name": "stdout",
     "output_type": "stream",
     "text": [
      "49\n",
      "[0.0574866  0.05539989 0.05296309 0.05119699 0.04804569 0.04447901\n",
      " 0.04024683 0.03870553 0.03736597 0.03588551]\n",
      "[40.6138079  40.57683357 40.53185126 40.49793687 40.4344084  40.35727338\n",
      " 40.25728727 40.21823852 40.18301654 40.14258971]\n",
      "['net_4_18' 'net_4_14' 'net_6_10' 'net_6_18' 'net_6_14' 'net_4_10'\n",
      " 'net_4_8' 'net_8_14' 'net_8_10' 'net_8_18']\n"
     ]
    }
   ],
   "source": [
    "net_names = [est.net.net_name for est in res]\n",
    "model_probs = me.selection.compute_model_probabilities(res)\n",
    "log_evids = [est.bay_est_log_evidence for est in res]\n",
    "\n",
    "sort_inds = np.array(- model_probs).argsort()\n",
    "net_names_sorted = np.array(net_names)[sort_inds]\n",
    "model_probs_sorted = np.array(model_probs)[sort_inds]\n",
    "log_evids_sorted = np.array(log_evids)[sort_inds]\n",
    "\n",
    "print(len(res))\n",
    "print(model_probs_sorted[:10])\n",
    "print(log_evids_sorted[:10])\n",
    "print(net_names_sorted[:10])"
   ]
  },
  {
   "cell_type": "code",
   "execution_count": 104,
   "metadata": {},
   "outputs": [
    {
     "data": {
      "text/plain": [
       "array([0.53584594, 0.46415406])"
      ]
     },
     "execution_count": 104,
     "metadata": {},
     "output_type": "execute_result"
    }
   ],
   "source": [
    "me.selection.compute_model_probabilities_from_log_evidences(np.array(\n",
    "[40.75743809, 40.6138079]))"
   ]
  },
  {
   "cell_type": "markdown",
   "metadata": {},
   "source": [
    "##### thin4 + meanfit"
   ]
  },
  {
   "cell_type": "code",
   "execution_count": 88,
   "metadata": {},
   "outputs": [
    {
     "name": "stdout",
     "output_type": "stream",
     "text": [
      "100 288 0 388\n"
     ]
    }
   ],
   "source": [
    "res1 = pickle.load(open('waiting_times_files/estimation_count_data_cd44_filtered_thin4_minimal2_meanfit.pickle', 'rb'))\n",
    "res2 = pickle.load(open('waiting_times_files/estimation_count_data_cd44_filtered_thin4_par2_meanfit.pickle', 'rb'))\n",
    "res3 = []\n",
    "# TODO: add par3\n",
    "# res3 = pickle.load(open('estimation_count_data_cd44_filtered_thin4_par3.pickle', 'rb'))\n",
    "res = res1 + res2 + res3\n",
    "print(len(res1), len(res2), len(res3), len(res))\n",
    "\n",
    "net_names = [est.net.net_name for est in res]\n",
    "model_probs = me.selection.compute_model_probabilities(res)\n",
    "data = res[0].data"
   ]
  },
  {
   "cell_type": "code",
   "execution_count": 92,
   "metadata": {},
   "outputs": [
    {
     "name": "stdout",
     "output_type": "stream",
     "text": [
      "1.000000000000008\n",
      "388\n"
     ]
    }
   ],
   "source": [
    "# set model prior to give classes same weight\n",
    "mprior = np.array([0.25] + [0.25/99]*99 + [0.25/288]*288 ) * 1/(3*0.25) # + [0.25/588]*588\n",
    "data = res[0].data\n",
    "print(sum(mprior))\n",
    "print(len(mprior))"
   ]
  },
  {
   "cell_type": "code",
   "execution_count": 93,
   "metadata": {},
   "outputs": [
    {
     "name": "stdout",
     "output_type": "stream",
     "text": [
      "min_d_2_l_18\n"
     ]
    }
   ],
   "source": [
    "print(net_names[list(model_probs).index(max(model_probs))])"
   ]
  },
  {
   "cell_type": "code",
   "execution_count": 94,
   "metadata": {},
   "outputs": [
    {
     "name": "stdout",
     "output_type": "stream",
     "text": [
      "[15800.     0.  4200.     0.]\n"
     ]
    }
   ],
   "source": [
    "# idea to compute \"credible bands\" for better visualisation\n",
    "samples = 20000\n",
    "plot_data = True # True or False\n",
    "time_max = 60.0 # 150.0, 54.0\n",
    "x = np.linspace(0.0, time_max, num=200)\n",
    "\n",
    "y = waiting_time_distr_samples_act(x, res, samples, time_max, mprior)"
   ]
  },
  {
   "cell_type": "code",
   "execution_count": 95,
   "metadata": {},
   "outputs": [
    {
     "data": {
      "image/png": "[encoded data removed]",
      "text/plain": [
       "<Figure size 100.8x57.6 with 1 Axes>"
      ]
     },
     "metadata": {
      "needs_background": "light"
     },
     "output_type": "display_data"
    }
   ],
   "source": [
    "y_997_lower = np.percentile(y, 0.15, axis=1)\n",
    "y_95_lower = np.percentile(y, 2.5, axis=1)\n",
    "y_68_lower = np.percentile(y, 16.0, axis=1)\n",
    "y_median = np.percentile(y, 50.0, axis=1)\n",
    "y_68_upper = np.percentile(y, 84.0, axis=1)\n",
    "y_95_upper = np.percentile(y, 97.5, axis=1)\n",
    "y_997_upper = np.percentile(y, 99.85, axis=1)\n",
    "\n",
    "plt.rcParams.update({'figure.figsize': (1.4, 0.8)})\n",
    "plt.figure()\n",
    "ax = plt.gca()\n",
    "ax.spines['top'].set_visible(False)\n",
    "ax.spines['right'].set_visible(False)\n",
    "ax.spines['bottom'].set_visible(True)\n",
    "ax.spines['left'].set_visible(True)\n",
    "\n",
    "# adapted from framework plotting methods\n",
    "if plot_data:\n",
    "    data.events_find_all()\n",
    "    data_act = np.array([tup[1] for tup in data.event_all_first_cell_type_conversion if tup[0]])\n",
    "\n",
    "    plt.hist(data_act - 1e-06, bins=data.data_time_values,\n",
    "             color='black', alpha=0.1,\n",
    "             density=True, histtype='stepfilled')\n",
    "\n",
    "\n",
    "plt.fill_between(x, y_997_lower, y_95_lower, color=cwact, alpha=0.2, linewidth=0.0, zorder=100)\n",
    "plt.fill_between(x, y_95_lower, y_68_lower, color=cwact, alpha=0.4, linewidth=0.0, zorder=100)\n",
    "plt.fill_between(x, y_68_lower, y_median, color=cwact, alpha=0.6, linewidth=0.0, zorder=100)\n",
    "\n",
    "plt.fill_between(x, y_median, y_68_upper, color=cwact, alpha=0.6, linewidth=0.0, zorder=100)\n",
    "plt.fill_between(x, y_68_upper, y_95_upper, color=cwact, alpha=0.4, linewidth=0.0, zorder=100)\n",
    "plt.fill_between(x, y_95_upper, y_997_upper, color=cwact, alpha=0.2, linewidth=0.0, zorder=100)\n",
    "\n",
    "# plt.plot(x, y_hdi_997_lower, color='lightseagreen', lw=2, alpha=0.2)\n",
    "# plt.plot(x, y_hdi_95_lower, color='lightseagreen', lw=2, alpha=0.4)\n",
    "# plt.plot(x, y_hdi_68_lower, color='lightseagreen', lw=2, alpha=0.6)\n",
    "plt.plot(x, y_median, color=cwact, lw=1, zorder=200)\n",
    "# plt.plot(x, y_hdi_68_upper, color='lightseagreen', lw=2, alpha=0.6)\n",
    "# plt.plot(x, y_hdi_95_upper, color='lightseagreen', lw=2, alpha=0.4)\n",
    "# plt.plot(x, y_hdi_997_upper, color='lightseagreen', lw=2, alpha=0.2)\n",
    "\n",
    "plt.ylabel('Probability')\n",
    "plt.xlabel('Activation times (hours)')\n",
    "plt.savefig('paper_figures/waiting_times_thin4_meanfit_act.pdf', bbox_inches='tight') # pdf, png"
   ]
  },
  {
   "cell_type": "code",
   "execution_count": 96,
   "metadata": {},
   "outputs": [
    {
     "name": "stdout",
     "output_type": "stream",
     "text": [
      "[15883.     0.  4117.     0.]\n"
     ]
    }
   ],
   "source": [
    "# idea to compute \"credible bands\" for better visualisation\n",
    "samples = 20000\n",
    "plot_data = False # True or False\n",
    "time_max = 60.0 # 150.0, 54.0\n",
    "x = np.linspace(0.0, time_max, num=200)\n",
    "\n",
    "# NOTE: the data we plot here is only from first divisions! (so its not the complete data, \n",
    "# which is inaccessible from the data)\n",
    "\n",
    "y = waiting_time_distr_samples_div(x, res, samples, time_max, mprior)"
   ]
  },
  {
   "cell_type": "code",
   "execution_count": 97,
   "metadata": {},
   "outputs": [
    {
     "data": {
      "image/png": "[encoded data removed]",
      "text/plain": [
       "<Figure size 100.8x57.6 with 1 Axes>"
      ]
     },
     "metadata": {
      "needs_background": "light"
     },
     "output_type": "display_data"
    }
   ],
   "source": [
    "y_997_lower = np.percentile(y, 0.15, axis=1)\n",
    "y_95_lower = np.percentile(y, 2.5, axis=1)\n",
    "y_68_lower = np.percentile(y, 16.0, axis=1)\n",
    "y_median = np.percentile(y, 50.0, axis=1)\n",
    "y_68_upper = np.percentile(y, 84.0, axis=1)\n",
    "y_95_upper = np.percentile(y, 97.5, axis=1)\n",
    "y_997_upper = np.percentile(y, 99.85, axis=1)\n",
    "\n",
    "plt.rcParams.update({'figure.figsize': (1.4, 0.8)})\n",
    "plt.figure()\n",
    "ax = plt.gca()\n",
    "ax.spines['top'].set_visible(False)\n",
    "ax.spines['right'].set_visible(False)\n",
    "ax.spines['bottom'].set_visible(True)\n",
    "ax.spines['left'].set_visible(True)\n",
    "\n",
    "# adapted from framework plotting methods\n",
    "if plot_data:\n",
    "    data.events_find_all()\n",
    "    data_act = np.array([tup[1] for tup in data.event_all_first_cell_count_increase_after_cell_type_conversion if tup[0]])\n",
    "\n",
    "    plt.hist(data_act - 1e-06, bins=data.data_time_values,\n",
    "             color='black', alpha=0.1,\n",
    "             density=True, histtype='stepfilled')\n",
    "    \n",
    "plt.fill_between(x, y_997_lower, y_95_lower, color=cwdiv, alpha=0.2, linewidth=0.0, zorder=100)\n",
    "plt.fill_between(x, y_95_lower, y_68_lower, color=cwdiv, alpha=0.4, linewidth=0.0, zorder=100)\n",
    "plt.fill_between(x, y_68_lower, y_median, color=cwdiv, alpha=0.6, linewidth=0.0, zorder=100)\n",
    "\n",
    "plt.fill_between(x, y_median, y_68_upper, color=cwdiv, alpha=0.6, linewidth=0.0, zorder=100)\n",
    "plt.fill_between(x, y_68_upper, y_95_upper, color=cwdiv, alpha=0.4, linewidth=0.0, zorder=100)\n",
    "plt.fill_between(x, y_95_upper, y_997_upper, color=cwdiv, alpha=0.2, linewidth=0.0, zorder=100)\n",
    "\n",
    "# plt.plot(x, y_hdi_997_lower, color='darkorange', lw=0.5, alpha=0.2)\n",
    "# plt.plot(x, y_hdi_95_lower, color='darkorange', lw=0.5, alpha=0.4)\n",
    "# plt.plot(x, y_hdi_68_lower, color='blue', lw=0.5, alpha=0.6)\n",
    "plt.plot(x, y_median, color=cwdiv, lw=1, zorder=200)\n",
    "# plt.plot(x, y_hdi_68_upper, color='darkorange', lw=0.5, alpha=0.6)\n",
    "# plt.plot(x, y_hdi_95_upper, color='darkorange', lw=0.5, alpha=0.4)\n",
    "# plt.plot(x, y_hdi_997_upper, color='darkorange', lw=0.5, alpha=0.2)\n",
    "\n",
    "plt.ylabel('Probability')\n",
    "plt.xlabel('Division times (hours)')\n",
    "plt.savefig('paper_figures/waiting_times_thin4_meanfit_div.pdf', bbox_inches='tight') # pdf, png"
   ]
  },
  {
   "cell_type": "markdown",
   "metadata": {},
   "source": [
    "##### minimal model mean-only"
   ]
  },
  {
   "cell_type": "code",
   "execution_count": 9,
   "metadata": {},
   "outputs": [],
   "source": [
    "res = pickle.load(open('waiting_times_files/estimation_count_data_cd44_filtered_sigma022_minimal2_meanfit.pickle', 'rb'))"
   ]
  },
  {
   "cell_type": "code",
   "execution_count": 10,
   "metadata": {},
   "outputs": [
    {
     "name": "stdout",
     "output_type": "stream",
     "text": [
      "[0.06633111 0.0648332  0.06071439 0.05938814 0.05862469 0.05644647\n",
      " 0.05519772 0.05375394 0.05371486 0.05364467]\n",
      "[75.46725385 75.44441257 75.3787755  75.3566893  75.34375073 75.30588758\n",
      " 75.2835164  75.25701171 75.25628445 75.25497702]\n",
      "['net_3_15' 'net_3_16' 'net_3_17' 'net_3_14' 'net_3_19' 'net_3_12'\n",
      " 'net_3_10' 'net_3_11' 'net_3_20' 'net_3_18']\n"
     ]
    }
   ],
   "source": [
    "net_names = [est.net.net_name for est in res]\n",
    "model_probs = me.selection.compute_model_probabilities(res)\n",
    "log_evids = [est.bay_est_log_evidence for est in res]\n",
    "\n",
    "sort_inds = np.array(- model_probs).argsort()\n",
    "net_names_sorted = np.array(net_names)[sort_inds]\n",
    "model_probs_sorted = np.array(model_probs)[sort_inds]\n",
    "log_evids_sorted = np.array(log_evids)[sort_inds]\n",
    "\n",
    "print(model_probs_sorted[:10])\n",
    "print(log_evids_sorted[:10])\n",
    "print(net_names_sorted[:10])"
   ]
  },
  {
   "cell_type": "code",
   "execution_count": 11,
   "metadata": {},
   "outputs": [
    {
     "data": {
      "image/png": "[encoded data removed]",
      "text/plain": [
       "<Figure size 216x360 with 2 Axes>"
      ]
     },
     "metadata": {
      "needs_background": "light"
     },
     "output_type": "display_data"
    }
   ],
   "source": [
    "steps_list = range(1, 11) # 11, 21\n",
    "\n",
    "steps_lambda = range(1, 21) # range(1, 21) # [5, 10, 15, 20, 25, 30, 35, 40, 50, 60, 70, 80]\n",
    "steps_alpha = range(1, 6) # range(4, 8) # [3]\n",
    "rows = [fr'$(\\lambda, {i})$' for i in steps_lambda] # steps_list # range(1, 21)]\n",
    "cols = [fr'$(\\alpha, {i})$' for i in steps_alpha] # steps_list # range(1, 6)]\n",
    "\n",
    "model_probs_2d = np.zeros((len(rows), len(cols)))\n",
    "\n",
    "for i, row_step in enumerate(rows):\n",
    "    for j, col_step in enumerate(cols):\n",
    "        name = f'net_{steps_alpha[j]}_{steps_lambda[i]}'\n",
    "        net_index = net_names.index(name)\n",
    "        model_probs_2d[i, j] = model_probs[net_index]\n",
    "\n",
    "df = pd.DataFrame(model_probs_2d * 100.0, index=rows, columns=cols)\n",
    "\n",
    "plt.figure(figsize=(3, 5)) # 8, 4 or 6, 8\n",
    "sns.heatmap(df, cmap='cividis', annot=True, fmt='.1f') # 'plasma' # annot=True\n",
    "plt.yticks(rotation=0, va='center')\n",
    "plt.savefig('paper_figures/model_probs_cd44_minimal2_meanfit.pdf')"
   ]
  },
  {
   "cell_type": "code",
   "execution_count": 16,
   "metadata": {},
   "outputs": [
    {
     "data": {
      "image/png": "[encoded data removed]",
      "text/plain": [
       "<Figure size 86.4x57.6 with 1 Axes>"
      ]
     },
     "metadata": {
      "needs_background": "light"
     },
     "output_type": "display_data"
    },
    {
     "data": {
      "image/png": "[encoded data removed]",
      "text/plain": [
       "<Figure size 86.4x57.6 with 1 Axes>"
      ]
     },
     "metadata": {
      "needs_background": "light"
     },
     "output_type": "display_data"
    },
    {
     "data": {
      "image/png": "[encoded data removed]",
      "text/plain": [
       "<Figure size 86.4x57.6 with 1 Axes>"
      ]
     },
     "metadata": {
      "needs_background": "light"
     },
     "output_type": "display_data"
    },
    {
     "data": {
      "image/png": "[encoded data removed]",
      "text/plain": [
       "<Figure size 396x396 with 4 Axes>"
      ]
     },
     "metadata": {
      "needs_background": "light"
     },
     "output_type": "display_data"
    }
   ],
   "source": [
    "est = res[0]\n",
    "\n",
    "# repair data set (due to newer memopy version)\n",
    "est.data.data_mean_exists_only = False\n",
    "\n",
    "plt.rcParams.update({'figure.figsize': (1.2, 0.8)})\n",
    "settings = {\n",
    "    'A_t': {'label': 'E$(A_t)$', 'color': cactiv},\n",
    "    'M_t': {'label': 'E$(M_t)$', 'color': cnaive}\n",
    "}\n",
    "me.plots.est_bestfit_mean_plot(est, x_label='Time (hours)', save='paper_figures/fit_cd44_mean_net_1_1_meanfit.pdf', settings=settings)\n",
    "\n",
    "settings = {\n",
    "    ('A_t', 'A_t'): {'label': 'Var$(A_t)$', 'color': cactiv},\n",
    "    ('M_t', 'M_t'): {'label': 'Var$(M_t)$', 'color': cnaive}\n",
    "}\n",
    "me.plots.est_bestfit_variance_plot(est, x_label='Time (hours)', save='paper_figures/fit_cd44_var_net_1_1_meanfit.pdf', settings=settings)\n",
    "\n",
    "settings = {\n",
    "    ('A_t', 'M_t'): {'label': 'Cov $(M_t, A_t)$', 'color': grey}\n",
    "}\n",
    "me.plots.est_bestfit_covariance_plot(est, x_label='Time (hours)', save='paper_figures/fit_cd44_cov_net_1_1_meanfit.pdf', settings=settings)\n",
    "\n",
    "me.plots.est_corner_kernel_plot(est, save='paper_figures/post_cd44_cov_net_1_1_meanfit.pdf')"
   ]
  },
  {
   "cell_type": "code",
   "execution_count": 18,
   "metadata": {},
   "outputs": [
    {
     "name": "stdout",
     "output_type": "stream",
     "text": [
      "54\n"
     ]
    },
    {
     "data": {
      "image/png": "[encoded data removed]",
      "text/plain": [
       "<Figure size 86.4x57.6 with 1 Axes>"
      ]
     },
     "metadata": {
      "needs_background": "light"
     },
     "output_type": "display_data"
    },
    {
     "data": {
      "image/png": "[encoded data removed]",
      "text/plain": [
       "<Figure size 86.4x57.6 with 1 Axes>"
      ]
     },
     "metadata": {
      "needs_background": "light"
     },
     "output_type": "display_data"
    },
    {
     "data": {
      "image/png": "[encoded data removed]",
      "text/plain": [
       "<Figure size 86.4x57.6 with 1 Axes>"
      ]
     },
     "metadata": {
      "needs_background": "light"
     },
     "output_type": "display_data"
    },
    {
     "data": {
      "image/png": "[encoded data removed]",
      "text/plain": [
       "<Figure size 396x396 with 4 Axes>"
      ]
     },
     "metadata": {
      "needs_background": "light"
     },
     "output_type": "display_data"
    }
   ],
   "source": [
    "print(net_names.index('net_3_15')) # 54\n",
    "est = res[54]\n",
    "\n",
    "# repair data set (due to newer memopy version)\n",
    "est.data.data_mean_exists_only = False\n",
    "\n",
    "plt.rcParams.update({'figure.figsize': (1.2, 0.8)})\n",
    "settings = {\n",
    "    'A_t': {'label': 'E$(A_t)$', 'color': cactiv},\n",
    "    'M_t': {'label': 'E$(M_t)$', 'color': cnaive}\n",
    "}\n",
    "me.plots.est_bestfit_mean_plot(est, x_label='Time (hours)', save='paper_figures/fit_cd44_mean_net_3_15_meanfit.pdf', settings=settings)\n",
    "\n",
    "settings = {\n",
    "    ('A_t', 'A_t'): {'label': 'Var$(A_t)$', 'color': cactiv},\n",
    "    ('M_t', 'M_t'): {'label': 'Var$(M_t)$', 'color': cnaive}\n",
    "}\n",
    "me.plots.est_bestfit_variance_plot(est, x_label='Time (hours)', save='paper_figures/fit_cd44_var_net_3_15_meanfit.pdf', settings=settings)\n",
    "\n",
    "settings = {\n",
    "    ('A_t', 'M_t'): {'label': 'Cov $(M_t, A_t)$', 'color': grey}\n",
    "}\n",
    "me.plots.est_bestfit_covariance_plot(est, x_label='Time (hours)', save='paper_figures/fit_cd44_cov_net_3_15_meanfit.pdf', settings=settings)\n",
    "\n",
    "me.plots.est_corner_kernel_plot(est, save='paper_figures/post_cd44_cov_net_3_15_meanfit.pdf')"
   ]
  },
  {
   "cell_type": "markdown",
   "metadata": {},
   "source": [
    "##### par 2 mean only"
   ]
  },
  {
   "cell_type": "code",
   "execution_count": 80,
   "metadata": {},
   "outputs": [
    {
     "name": "stdout",
     "output_type": "stream",
     "text": [
      "288\n"
     ]
    }
   ],
   "source": [
    "res = pickle.load(open('waiting_times_files/estimation_count_data_cd44_filtered_sigma022_par2_meanfit.pickle', 'rb'))\n",
    "net_names = [est.net.net_name for est in res]\n",
    "model_probs = me.selection.compute_model_probabilities(res)\n",
    "log_evids = [est.bay_est_log_evidence for est in res]\n",
    "print(len(res))"
   ]
  },
  {
   "cell_type": "code",
   "execution_count": 81,
   "metadata": {},
   "outputs": [
    {
     "name": "stdout",
     "output_type": "stream",
     "text": [
      "[0.09698074 0.07973021 0.06418389 0.06175942 0.05079801 0.03152467\n",
      " 0.03127389 0.02623562 0.02416118 0.02296904]\n",
      "[81.3567456  81.16088175 80.94398537 80.90547963 80.71009029 80.23300363\n",
      " 80.22501683 80.04935138 79.96698034 79.9163802 ]\n",
      "['par2_d_6_8_l_14' 'par2_d_6_8_l_18' 'par2_d_6_8_l_8' 'par2_d_6_8_l_10'\n",
      " 'par2_d_6_8_l_6' 'par2_d_6_10_l_14' 'par2_d_6_10_l_18' 'par2_d_6_6_l_18'\n",
      " 'par2_d_6_6_l_10' 'par2_d_6_8_l_4']\n"
     ]
    }
   ],
   "source": [
    "sort_inds = np.array(- model_probs).argsort()\n",
    "net_names_sorted = np.array(net_names)[sort_inds]\n",
    "model_probs_sorted = np.array(model_probs)[sort_inds]\n",
    "log_evids_sorted = np.array(log_evids)[sort_inds]\n",
    "\n",
    "print(model_probs_sorted[:10])\n",
    "print(log_evids_sorted[:10])\n",
    "print(net_names_sorted[:10])"
   ]
  },
  {
   "cell_type": "code",
   "execution_count": 82,
   "metadata": {},
   "outputs": [
    {
     "name": "stdout",
     "output_type": "stream",
     "text": [
      "182 par2_d_6_8_l_14\n",
      "81.3567456045947\n"
     ]
    }
   ],
   "source": [
    "est_i = list(model_probs).index(max(model_probs))\n",
    "print(est_i, net_names[est_i])\n",
    "est = res[est_i]\n",
    "print(est.bay_est_log_evidence)\n",
    "\n",
    "# repair est object due to new memopy version\n",
    "est.data.data_mean_exists_only = False"
   ]
  },
  {
   "cell_type": "code",
   "execution_count": 75,
   "metadata": {},
   "outputs": [
    {
     "data": {
      "image/png": "[encoded data removed]",
      "text/plain": [
       "<Figure size 86.4x57.6 with 1 Axes>"
      ]
     },
     "metadata": {
      "needs_background": "light"
     },
     "output_type": "display_data"
    },
    {
     "data": {
      "image/png": "[encoded data removed]",
      "text/plain": [
       "<Figure size 86.4x57.6 with 1 Axes>"
      ]
     },
     "metadata": {
      "needs_background": "light"
     },
     "output_type": "display_data"
    },
    {
     "data": {
      "image/png": "[encoded data removed]",
      "text/plain": [
       "<Figure size 86.4x57.6 with 1 Axes>"
      ]
     },
     "metadata": {
      "needs_background": "light"
     },
     "output_type": "display_data"
    },
    {
     "data": {
      "image/png": "[encoded data removed]",
      "text/plain": [
       "<Figure size 547.2x547.2 with 9 Axes>"
      ]
     },
     "metadata": {
      "needs_background": "light"
     },
     "output_type": "display_data"
    }
   ],
   "source": [
    "plt.rcParams.update({'figure.figsize': (1.2, 0.8)})\n",
    "\n",
    "settings = {\n",
    "    'A_t': {'label': 'E$(A_t)$', 'color': cactiv},\n",
    "    'M_t': {'label': 'E$(M_t)$', 'color': cnaive}\n",
    "}\n",
    "me.plots.est_bestfit_mean_plot(est, x_label='Time (hours)', save='paper_figures/fit_cd44_mean_par2_d_6_8_l_14_meanfit.pdf', settings=settings)\n",
    "\n",
    "settings = {\n",
    "    ('A_t', 'A_t'): {'label': 'Var$(A_t)$', 'color': cactiv},\n",
    "    ('M_t', 'M_t'): {'label': 'Var$(M_t)$', 'color': cnaive}\n",
    "}\n",
    "me.plots.est_bestfit_variance_plot(est, x_label='Time (hours)', save='paper_figures/fit_cd44_var_par2_d_6_8_l_14_meanfit.pdf', settings=settings)\n",
    "\n",
    "settings = {\n",
    "    ('A_t', 'M_t'): {'label': 'Cov$(M_t, A_t)$', 'color': grey}\n",
    "}\n",
    "me.plots.est_bestfit_covariance_plot(est, x_label='Time (hours)', save='paper_figures/fit_cd44_cov_par2_d_6_8_l_14_meanfit.pdf', settings=settings)\n",
    "\n",
    "me.plots.est_corner_kernel_plot(est, save='paper_figures/post_cd44_par2_d_6_8_l_14_meanfit.pdf')"
   ]
  },
  {
   "cell_type": "code",
   "execution_count": 76,
   "metadata": {},
   "outputs": [
    {
     "data": {
      "text/plain": [
       "array([0.00276074, 0.99723926])"
      ]
     },
     "execution_count": 76,
     "metadata": {},
     "output_type": "execute_result"
    }
   ],
   "source": [
    "# compare to best minimal model (mean only fit)\n",
    "me.selection.compute_model_probabilities_from_log_evidences(np.array([\n",
    "    75.46725385, # net_3_15\n",
    "    81.3567456045947, # par2_d_6_8_l_14\n",
    "]))"
   ]
  },
  {
   "cell_type": "code",
   "execution_count": 83,
   "metadata": {},
   "outputs": [
    {
     "name": "stdout",
     "output_type": "stream",
     "text": [
      "288\n",
      "1.0000000000000002\n"
     ]
    }
   ],
   "source": [
    "data = res[0].data\n",
    "mprior = np.array([1/len(res)]*len(res))\n",
    "print(len(mprior))\n",
    "print(np.sum(mprior))"
   ]
  },
  {
   "cell_type": "code",
   "execution_count": 84,
   "metadata": {},
   "outputs": [
    {
     "name": "stdout",
     "output_type": "stream",
     "text": [
      "[    0.     0. 20000.     0.]\n"
     ]
    }
   ],
   "source": [
    "# idea to compute \"credible bands\" for better visualisation\n",
    "samples = 20000\n",
    "plot_data = True # True or False\n",
    "time_max = 60.0 # 150.0, 54.0\n",
    "x = np.linspace(0.0, time_max, num=200)\n",
    "\n",
    "y = waiting_time_distr_samples_act(x, res, samples, time_max, mprior)"
   ]
  },
  {
   "cell_type": "code",
   "execution_count": 85,
   "metadata": {},
   "outputs": [
    {
     "data": {
      "image/png": "[encoded data removed]",
      "text/plain": [
       "<Figure size 100.8x57.6 with 1 Axes>"
      ]
     },
     "metadata": {
      "needs_background": "light"
     },
     "output_type": "display_data"
    }
   ],
   "source": [
    "y_997_lower = np.percentile(y, 0.15, axis=1)\n",
    "y_95_lower = np.percentile(y, 2.5, axis=1)\n",
    "y_68_lower = np.percentile(y, 16.0, axis=1)\n",
    "y_median = np.percentile(y, 50.0, axis=1)\n",
    "y_68_upper = np.percentile(y, 84.0, axis=1)\n",
    "y_95_upper = np.percentile(y, 97.5, axis=1)\n",
    "y_997_upper = np.percentile(y, 99.85, axis=1)\n",
    "\n",
    "plt.rcParams.update({'figure.figsize': (1.4, 0.8)})\n",
    "plt.figure()\n",
    "ax = plt.gca()\n",
    "ax.spines['top'].set_visible(False)\n",
    "ax.spines['right'].set_visible(False)\n",
    "ax.spines['bottom'].set_visible(True)\n",
    "ax.spines['left'].set_visible(True)\n",
    "\n",
    "# adapted from framework plotting methods\n",
    "if plot_data:\n",
    "    data.events_find_all()\n",
    "    data_act = np.array([tup[1] for tup in data.event_all_first_cell_type_conversion if tup[0]])\n",
    "\n",
    "    plt.hist(data_act - 1e-06, bins=data.data_time_values,\n",
    "             color='black', alpha=0.1,\n",
    "             density=True, histtype='stepfilled')\n",
    "\n",
    "\n",
    "plt.fill_between(x, y_997_lower, y_95_lower, color=cwact, alpha=0.2, linewidth=0.0, zorder=100)\n",
    "plt.fill_between(x, y_95_lower, y_68_lower, color=cwact, alpha=0.4, linewidth=0.0, zorder=100)\n",
    "plt.fill_between(x, y_68_lower, y_median, color=cwact, alpha=0.6, linewidth=0.0, zorder=100)\n",
    "\n",
    "plt.fill_between(x, y_median, y_68_upper, color=cwact, alpha=0.6, linewidth=0.0, zorder=100)\n",
    "plt.fill_between(x, y_68_upper, y_95_upper, color=cwact, alpha=0.4, linewidth=0.0, zorder=100)\n",
    "plt.fill_between(x, y_95_upper, y_997_upper, color=cwact, alpha=0.2, linewidth=0.0, zorder=100)\n",
    "\n",
    "# plt.plot(x, y_hdi_997_lower, color='lightseagreen', lw=2, alpha=0.2)\n",
    "# plt.plot(x, y_hdi_95_lower, color='lightseagreen', lw=2, alpha=0.4)\n",
    "# plt.plot(x, y_hdi_68_lower, color='lightseagreen', lw=2, alpha=0.6)\n",
    "plt.plot(x, y_median, color=cwact, lw=1, zorder=200)\n",
    "# plt.plot(x, y_hdi_68_upper, color='lightseagreen', lw=2, alpha=0.6)\n",
    "# plt.plot(x, y_hdi_95_upper, color='lightseagreen', lw=2, alpha=0.4)\n",
    "# plt.plot(x, y_hdi_997_upper, color='lightseagreen', lw=2, alpha=0.2)\n",
    "\n",
    "plt.ylabel('Probability')\n",
    "plt.xlabel('Activation times (hours)')\n",
    "plt.savefig('paper_figures/waiting_times_act_par2_meanfit.pdf', bbox_inches='tight') # pdf, png"
   ]
  },
  {
   "cell_type": "code",
   "execution_count": 86,
   "metadata": {},
   "outputs": [
    {
     "name": "stdout",
     "output_type": "stream",
     "text": [
      "[    0.     0. 20000.     0.]\n"
     ]
    }
   ],
   "source": [
    "# idea to compute \"credible bands\" for better visualisation\n",
    "samples = 20000\n",
    "plot_data = False # True or False\n",
    "time_max = 60.0 # 150.0, 54.0\n",
    "x = np.linspace(0.0, time_max, num=200)\n",
    "\n",
    "# NOTE: the data we plot here is only from first divisions! (so its not the complete data, \n",
    "# which is inaccessible from the data)\n",
    "\n",
    "y = waiting_time_distr_samples_div(x, res, samples, time_max, mprior)"
   ]
  },
  {
   "cell_type": "code",
   "execution_count": 87,
   "metadata": {},
   "outputs": [
    {
     "data": {
      "image/png": "[encoded data removed]",
      "text/plain": [
       "<Figure size 100.8x57.6 with 1 Axes>"
      ]
     },
     "metadata": {
      "needs_background": "light"
     },
     "output_type": "display_data"
    }
   ],
   "source": [
    "y_997_lower = np.percentile(y, 0.15, axis=1)\n",
    "y_95_lower = np.percentile(y, 2.5, axis=1)\n",
    "y_68_lower = np.percentile(y, 16.0, axis=1)\n",
    "y_median = np.percentile(y, 50.0, axis=1)\n",
    "y_68_upper = np.percentile(y, 84.0, axis=1)\n",
    "y_95_upper = np.percentile(y, 97.5, axis=1)\n",
    "y_997_upper = np.percentile(y, 99.85, axis=1)\n",
    "\n",
    "plt.rcParams.update({'figure.figsize': (1.4, 0.8)})\n",
    "plt.figure()\n",
    "ax = plt.gca()\n",
    "ax.spines['top'].set_visible(False)\n",
    "ax.spines['right'].set_visible(False)\n",
    "ax.spines['bottom'].set_visible(True)\n",
    "ax.spines['left'].set_visible(True)\n",
    "\n",
    "# adapted from framework plotting methods\n",
    "if plot_data:\n",
    "    data.events_find_all()\n",
    "    data_act = np.array([tup[1] for tup in data.event_all_first_cell_count_increase_after_cell_type_conversion if tup[0]])\n",
    "\n",
    "    plt.hist(data_act - 1e-06, bins=data.data_time_values,\n",
    "             color='black', alpha=0.1,\n",
    "             density=True, histtype='stepfilled')\n",
    "    \n",
    "plt.fill_between(x, y_997_lower, y_95_lower, color=cwdiv, alpha=0.2, linewidth=0.0, zorder=100)\n",
    "plt.fill_between(x, y_95_lower, y_68_lower, color=cwdiv, alpha=0.4, linewidth=0.0, zorder=100)\n",
    "plt.fill_between(x, y_68_lower, y_median, color=cwdiv, alpha=0.6, linewidth=0.0, zorder=100)\n",
    "\n",
    "plt.fill_between(x, y_median, y_68_upper, color=cwdiv, alpha=0.6, linewidth=0.0, zorder=100)\n",
    "plt.fill_between(x, y_68_upper, y_95_upper, color=cwdiv, alpha=0.4, linewidth=0.0, zorder=100)\n",
    "plt.fill_between(x, y_95_upper, y_997_upper, color=cwdiv, alpha=0.2, linewidth=0.0, zorder=100)\n",
    "\n",
    "# plt.plot(x, y_hdi_997_lower, color='darkorange', lw=0.5, alpha=0.2)\n",
    "# plt.plot(x, y_hdi_95_lower, color='darkorange', lw=0.5, alpha=0.4)\n",
    "# plt.plot(x, y_hdi_68_lower, color='blue', lw=0.5, alpha=0.6)\n",
    "plt.plot(x, y_median, color=cwdiv, lw=1, zorder=200)\n",
    "# plt.plot(x, y_hdi_68_upper, color='darkorange', lw=0.5, alpha=0.6)\n",
    "# plt.plot(x, y_hdi_95_upper, color='darkorange', lw=0.5, alpha=0.4)\n",
    "# plt.plot(x, y_hdi_997_upper, color='darkorange', lw=0.5, alpha=0.2)\n",
    "\n",
    "plt.ylabel('Probability')\n",
    "plt.xlabel('Division times (hours)')\n",
    "plt.savefig('paper_figures/waiting_times_div_par2_meanfit.pdf', bbox_inches='tight') # pdf, png"
   ]
  },
  {
   "cell_type": "code",
   "execution_count": 89,
   "metadata": {},
   "outputs": [
    {
     "data": {
      "image/png": "[encoded data removed]",
      "text/plain": [
       "<Figure size 86.4x57.6 with 1 Axes>"
      ]
     },
     "metadata": {
      "needs_background": "light"
     },
     "output_type": "display_data"
    }
   ],
   "source": [
    "samples = 10000\n",
    "div_steps = list()\n",
    "\n",
    "plt.rcParams.update({'figure.figsize': (1.2, 0.8)})\n",
    "plt.figure()\n",
    "ax = plt.gca()\n",
    "ax.spines['top'].set_visible(False)\n",
    "ax.spines['right'].set_visible(False)\n",
    "ax.spines['bottom'].set_visible(True)\n",
    "ax.spines['left'].set_visible(True)\n",
    "\n",
    "for __ in range(samples):\n",
    "    # get random model according to p(M|D)\n",
    "    model_rand = np.random.choice(range(len(model_probs)), p=model_probs, replace=True)\n",
    "    est = res[model_rand]\n",
    "    \n",
    "    div_steps.append(est.net.net_modules[2]['module_steps'])\n",
    "    \n",
    "    if not est.net.net_modules[2]['sym_rate']=='l1':\n",
    "        print('error')\n",
    "\n",
    "plt.hist(np.array(div_steps), bins=np.linspace(1, 19, endpoint=True, num=19)-0.5, \n",
    "         density=True, color='dodgerblue')\n",
    "plt.xticks([1, 2, 4, 6, 8, 10, 14, 18])\n",
    "plt.ylabel('Probability')\n",
    "plt.xlabel('Division steps')\n",
    "# plt.savefig('waiting_times_div_steps.pdf')\n",
    "plt.show()"
   ]
  },
  {
   "cell_type": "code",
   "execution_count": 96,
   "metadata": {},
   "outputs": [
    {
     "data": {
      "image/png": "[encoded data removed]",
      "text/plain": [
       "<Figure size 86.4x57.6 with 1 Axes>"
      ]
     },
     "metadata": {
      "needs_background": "light"
     },
     "output_type": "display_data"
    }
   ],
   "source": [
    "samples = 50000\n",
    "alpha_steps = list()\n",
    "\n",
    "plt.rcParams.update({'figure.figsize': (1.2, 0.8)})\n",
    "plt.figure()\n",
    "ax = plt.gca()\n",
    "ax.spines['top'].set_visible(False)\n",
    "ax.spines['right'].set_visible(False)\n",
    "ax.spines['bottom'].set_visible(True)\n",
    "ax.spines['left'].set_visible(True)\n",
    "\n",
    "for __ in range(samples):\n",
    "    # get random model according to p(M|D)\n",
    "    model_rand = np.random.choice(range(len(model_probs)), p=model_probs, replace=True)\n",
    "    est = res[model_rand]\n",
    "    \n",
    "    alpha_steps.append(est.net.net_modules[0]['module_steps'])\n",
    "    \n",
    "    if not est.net.net_modules[0]['sym_rate']=='d1':\n",
    "        print('error')\n",
    "\n",
    "plt.hist(np.array(alpha_steps), bins=np.linspace(1, 19, endpoint=True, num=19)-0.5, \n",
    "         density=True, color='dodgerblue')\n",
    "plt.xticks([1, 2, 4, 6, 8, 10, 14, 18])\n",
    "plt.ylabel('Probability')\n",
    "plt.xlabel('Activation steps (1st channel)')\n",
    "# plt.savefig('waiting_times_act_steps.pdf')\n",
    "plt.show()"
   ]
  },
  {
   "cell_type": "code",
   "execution_count": 98,
   "metadata": {},
   "outputs": [
    {
     "data": {
      "image/png": "[encoded data removed]",
      "text/plain": [
       "<Figure size 86.4x57.6 with 1 Axes>"
      ]
     },
     "metadata": {
      "needs_background": "light"
     },
     "output_type": "display_data"
    }
   ],
   "source": [
    "samples = 50000\n",
    "alpha_steps = list()\n",
    "\n",
    "plt.rcParams.update({'figure.figsize': (1.2, 0.8)})\n",
    "plt.figure()\n",
    "ax = plt.gca()\n",
    "ax.spines['top'].set_visible(False)\n",
    "ax.spines['right'].set_visible(False)\n",
    "ax.spines['bottom'].set_visible(True)\n",
    "ax.spines['left'].set_visible(True)\n",
    "\n",
    "for __ in range(samples):\n",
    "    # get random model according to p(M|D)\n",
    "    model_rand = np.random.choice(range(len(model_probs)), p=model_probs, replace=True)\n",
    "    est = res[model_rand]\n",
    "    \n",
    "    alpha_steps.append(est.net.net_modules[1]['module_steps'])\n",
    "    \n",
    "    if not est.net.net_modules[1]['sym_rate']=='d2':\n",
    "        print('error')\n",
    "\n",
    "plt.hist(np.array(alpha_steps), bins=np.linspace(1, 19, endpoint=True, num=19)-0.5, \n",
    "         density=True, color='dodgerblue')\n",
    "plt.xticks([1, 2, 4, 6, 8, 10, 14, 18])\n",
    "plt.ylabel('Probability')\n",
    "plt.xlabel('Activation steps (2nd channel)')\n",
    "# plt.savefig('waiting_times_act_steps.pdf')\n",
    "plt.show()"
   ]
  }
 ],
 "metadata": {
  "kernelspec": {
   "display_name": "Python 3",
   "language": "python",
   "name": "python3"
  },
  "language_info": {
   "codemirror_mode": {
    "name": "ipython",
    "version": 3
   },
   "file_extension": ".py",
   "mimetype": "text/x-python",
   "name": "python",
   "nbconvert_exporter": "python",
   "pygments_lexer": "ipython3",
   "version": "3.7.4"
  }
 },
 "nbformat": 4,
 "nbformat_minor": 4
}
