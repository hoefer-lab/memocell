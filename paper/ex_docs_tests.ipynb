{
 "cells": [
  {
   "cell_type": "code",
   "execution_count": 1,
   "metadata": {},
   "outputs": [
    {
     "name": "stderr",
     "output_type": "stream",
     "text": [
      "/Users/mlanghinrichs/Documents/Studium/MSc/09_hiwi_hoefer/01_project/memo_py/memo_py/selection.py:18: TqdmExperimentalWarning: Using `tqdm.autonotebook.tqdm` in notebook mode. Use `tqdm.tqdm` instead to force console mode (e.g. in jupyter console)\n",
      "  from tqdm.autonotebook import tqdm\n"
     ]
    }
   ],
   "source": [
    "import memo_py as me\n",
    "import numpy as np\n",
    "import copy\n",
    "import matplotlib.pyplot as plt"
   ]
  },
  {
   "cell_type": "markdown",
   "metadata": {},
   "source": [
    "##### test for select_models function\n",
    "- maybe use the introduction model from figure 1\n",
    "- 3 models with 2, 5, 15 steps respectively\n",
    "- create some data with 5-steps model\n",
    "- is this fast/handy enough for a test?\n",
    "- run in sequential mode/not parallel\n",
    "\n",
    "=> test seems to work but is a bit expensive, maybe add later"
   ]
  },
  {
   "cell_type": "code",
   "execution_count": null,
   "metadata": {},
   "outputs": [],
   "source": [
    "### create data from 5-steps model\n",
    "t = [\n",
    "    {'start': 'X_t', 'end': 'X_t', \n",
    "     'rate_symbol': 'l', \n",
    "     'type': 'S -> S + S', 'reaction_steps': 5}\n",
    "    ]\n",
    "\n",
    "net = me.Network('net_div_g5')\n",
    "net.structure(t)\n",
    "\n",
    "num_iter = 100\n",
    "initial_values = {'X_t': 1}\n",
    "theta_values = {'l': 0.22}\n",
    "time_values = np.array([0.0, 10.0])\n",
    "variables = {'X_t': ('X_t', )}\n",
    "\n",
    "sim = me.Simulation(net)\n",
    "res_list = list()\n",
    "\n",
    "for __ in range(num_iter):\n",
    "    res_list.append(sim.simulate('gillespie', initial_values, theta_values, time_values, variables)[1])\n",
    "\n",
    "sims = np.array(res_list)"
   ]
  },
  {
   "cell_type": "code",
   "execution_count": 3,
   "metadata": {},
   "outputs": [],
   "source": [
    "data = me.Data('data_test_select_models')\n",
    "data.load(['X_t',], time_values, sims, bootstrap_samples=10000, basic_sigma=1/num_iter)\n",
    "\n",
    "# overwrite with known values (from a num_iter=100 simulation)\n",
    "data.data_mean = np.array([[[1.         , 3.73      ]],\n",
    "                           [[0.01       , 0.15406761]]])\n",
    "data.data_variance = np.array([[[0.         , 2.36070707]],\n",
    "                               [[0.01       , 0.32208202]]])"
   ]
  },
  {
   "cell_type": "code",
   "execution_count": 4,
   "metadata": {},
   "outputs": [
    {
     "name": "stdout",
     "output_type": "stream",
     "text": [
      "[[[1.         3.73      ]]\n",
      "\n",
      " [[0.01       0.15406761]]]\n",
      "[[[0.         2.36070707]]\n",
      "\n",
      " [[0.01       0.32208202]]]\n",
      "[]\n"
     ]
    }
   ],
   "source": [
    "print(data.data_mean)\n",
    "print(data.data_variance)\n",
    "print(data.data_covariance)"
   ]
  },
  {
   "cell_type": "code",
   "execution_count": 5,
   "metadata": {},
   "outputs": [
    {
     "data": {
      "image/png": "[encoded data removed]",
      "text/plain": [
       "<Figure size 432x288 with 1 Axes>"
      ]
     },
     "metadata": {
      "needs_background": "light"
     },
     "output_type": "display_data"
    },
    {
     "data": {
      "image/png": "[encoded data removed]",
      "text/plain": [
       "<Figure size 432x288 with 1 Axes>"
      ]
     },
     "metadata": {
      "needs_background": "light"
     },
     "output_type": "display_data"
    }
   ],
   "source": [
    "me.plots.data_mean_plot(data)\n",
    "me.plots.data_variance_plot(data)"
   ]
  },
  {
   "cell_type": "code",
   "execution_count": 6,
   "metadata": {},
   "outputs": [
    {
     "name": "stdout",
     "output_type": "stream",
     "text": [
      "3\n",
      "[('m2', [{'start': 'X_t', 'end': 'X_t', 'rate_symbol': 'l', 'type': 'S -> S + S', 'reaction_steps': 2}], {'initial_values': {'X_t': 1.0}, 'theta_bounds': {'l': (0.0, 0.5)}, 'variables': {'X_t': ('X_t',)}}), ('m5', [{'start': 'X_t', 'end': 'X_t', 'rate_symbol': 'l', 'type': 'S -> S + S', 'reaction_steps': 5}], {'initial_values': {'X_t': 1.0}, 'theta_bounds': {'l': (0.0, 0.5)}, 'variables': {'X_t': ('X_t',)}}), ('m15', [{'start': 'X_t', 'end': 'X_t', 'rate_symbol': 'l', 'type': 'S -> S + S', 'reaction_steps': 15}], {'initial_values': {'X_t': 1.0}, 'theta_bounds': {'l': (0.0, 0.5)}, 'variables': {'X_t': ('X_t',)}})]\n"
     ]
    }
   ],
   "source": [
    "t2 = [{'start': 'X_t', 'end': 'X_t', \n",
    "     'rate_symbol': 'l', \n",
    "     'type': 'S -> S + S', \n",
    "     'reaction_steps': 2}]\n",
    "\n",
    "t5 = [{'start': 'X_t', 'end': 'X_t', \n",
    "     'rate_symbol': 'l', \n",
    "     'type': 'S -> S + S', \n",
    "     'reaction_steps': 5}]\n",
    "\n",
    "# t10 = [{'start': 'X_t', 'end': 'X_t', \n",
    "#      'rate_symbol': 'l', \n",
    "#      'type': 'S -> S + S', \n",
    "#      'reaction_steps': 10}]\n",
    "\n",
    "t15 = [{'start': 'X_t', 'end': 'X_t', \n",
    "     'rate_symbol': 'l', \n",
    "     'type': 'S -> S + S', \n",
    "     'reaction_steps': 15}]\n",
    "\n",
    "# important note: theta_bounds are reduced here to \n",
    "# prevent odeint warning at high steps\n",
    "s = {'initial_values': {'X_t': 1.0}, \n",
    "     'theta_bounds': {'l': (0.0, 0.5)}, \n",
    "     'variables': {'X_t': ('X_t', )}}\n",
    "\n",
    "models = [('m2', t2, s), ('m5', t5, s), ('m15', t15, s)]\n",
    "print(len(models))\n",
    "print(models)"
   ]
  },
  {
   "cell_type": "code",
   "execution_count": 7,
   "metadata": {},
   "outputs": [
    {
     "data": {
      "application/vnd.jupyter.widget-view+json": {
       "model_id": "b7580b77f29840c492b05aff6090cffd",
       "version_major": 2,
       "version_minor": 0
      },
      "text/plain": [
       "HBox(children=(FloatProgress(value=0.0, max=3.0), HTML(value='')))"
      ]
     },
     "metadata": {},
     "output_type": "display_data"
    },
    {
     "name": "stdout",
     "output_type": "stream",
     "text": [
      "\n"
     ]
    }
   ],
   "source": [
    "est_res = me.selection.select_models(models, data, parallel=False) # False (usually here)"
   ]
  },
  {
   "cell_type": "code",
   "execution_count": 9,
   "metadata": {},
   "outputs": [
    {
     "data": {
      "application/vnd.jupyter.widget-view+json": {
       "model_id": "32f96e027d814ffca417da10f121d276",
       "version_major": 2,
       "version_minor": 0
      },
      "text/plain": [
       "HBox(children=(FloatProgress(value=0.0, max=3.0), HTML(value='')))"
      ]
     },
     "metadata": {},
     "output_type": "display_data"
    },
    {
     "name": "stdout",
     "output_type": "stream",
     "text": [
      "\n",
      "[-10.629916697804973, 4.7325886118420755, -5.956029975676918]\n"
     ]
    },
    {
     "data": {
      "application/vnd.jupyter.widget-view+json": {
       "model_id": "f2d0f20347c84cd09150542d71181111",
       "version_major": 2,
       "version_minor": 0
      },
      "text/plain": [
       "HBox(children=(FloatProgress(value=0.0, max=3.0), HTML(value='')))"
      ]
     },
     "metadata": {},
     "output_type": "display_data"
    },
    {
     "name": "stdout",
     "output_type": "stream",
     "text": [
      "\n",
      "[-10.707752281691006, 4.648483811563277, -5.904935097433867]\n"
     ]
    },
    {
     "data": {
      "application/vnd.jupyter.widget-view+json": {
       "model_id": "2af0809a701b48a8aba865f411cac910",
       "version_major": 2,
       "version_minor": 0
      },
      "text/plain": [
       "HBox(children=(FloatProgress(value=0.0, max=3.0), HTML(value='')))"
      ]
     },
     "metadata": {},
     "output_type": "display_data"
    },
    {
     "name": "stdout",
     "output_type": "stream",
     "text": [
      "\n",
      "[-10.660052905403797, 4.786992306046756, -5.865460195018101]\n"
     ]
    },
    {
     "data": {
      "application/vnd.jupyter.widget-view+json": {
       "model_id": "9258998c402b485e941930e8b873178b",
       "version_major": 2,
       "version_minor": 0
      },
      "text/plain": [
       "HBox(children=(FloatProgress(value=0.0, max=3.0), HTML(value='')))"
      ]
     },
     "metadata": {},
     "output_type": "display_data"
    },
    {
     "name": "stdout",
     "output_type": "stream",
     "text": [
      "\n",
      "[-10.560456631689906, 4.712198906183986, -6.024845876715448]\n"
     ]
    },
    {
     "data": {
      "application/vnd.jupyter.widget-view+json": {
       "model_id": "a2dddbb35b6b4a08865f1f37baa59615",
       "version_major": 2,
       "version_minor": 0
      },
      "text/plain": [
       "HBox(children=(FloatProgress(value=0.0, max=3.0), HTML(value='')))"
      ]
     },
     "metadata": {},
     "output_type": "display_data"
    },
    {
     "name": "stdout",
     "output_type": "stream",
     "text": [
      "\n",
      "[-10.67465188224791, 4.739031922471972, -5.832238436663494]\n"
     ]
    },
    {
     "data": {
      "application/vnd.jupyter.widget-view+json": {
       "model_id": "6402822a7b1e437f95f2fe54a5d2fcad",
       "version_major": 2,
       "version_minor": 0
      },
      "text/plain": [
       "HBox(children=(FloatProgress(value=0.0, max=3.0), HTML(value='')))"
      ]
     },
     "metadata": {},
     "output_type": "display_data"
    },
    {
     "name": "stdout",
     "output_type": "stream",
     "text": [
      "\n",
      "[-10.688286571898711, 4.796078612214922, -5.866083545090796]\n"
     ]
    },
    {
     "data": {
      "application/vnd.jupyter.widget-view+json": {
       "model_id": "508d653d5d514afdacf444df4a9ed489",
       "version_major": 2,
       "version_minor": 0
      },
      "text/plain": [
       "HBox(children=(FloatProgress(value=0.0, max=3.0), HTML(value='')))"
      ]
     },
     "metadata": {},
     "output_type": "display_data"
    },
    {
     "name": "stdout",
     "output_type": "stream",
     "text": [
      "\n",
      "[-10.674939299757629, 4.763798403008956, -5.869504378082593]\n"
     ]
    },
    {
     "data": {
      "application/vnd.jupyter.widget-view+json": {
       "model_id": "179c3cec88584ae9906e84b31e324d28",
       "version_major": 2,
       "version_minor": 0
      },
      "text/plain": [
       "HBox(children=(FloatProgress(value=0.0, max=3.0), HTML(value='')))"
      ]
     },
     "metadata": {},
     "output_type": "display_data"
    },
    {
     "name": "stdout",
     "output_type": "stream",
     "text": [
      "\n",
      "[-10.706803542779763, 4.758241853964541, -5.921262356541525]\n"
     ]
    },
    {
     "data": {
      "application/vnd.jupyter.widget-view+json": {
       "model_id": "46ae3ada1400423890c91a2e1740f89c",
       "version_major": 2,
       "version_minor": 0
      },
      "text/plain": [
       "HBox(children=(FloatProgress(value=0.0, max=3.0), HTML(value='')))"
      ]
     },
     "metadata": {},
     "output_type": "display_data"
    },
    {
     "name": "stdout",
     "output_type": "stream",
     "text": [
      "\n",
      "[-10.55770560556853, 4.770112513127923, -5.9405505492747315]\n"
     ]
    },
    {
     "data": {
      "application/vnd.jupyter.widget-view+json": {
       "model_id": "f476974d6b554c10ad6458e96910f37b",
       "version_major": 2,
       "version_minor": 0
      },
      "text/plain": [
       "HBox(children=(FloatProgress(value=0.0, max=3.0), HTML(value='')))"
      ]
     },
     "metadata": {},
     "output_type": "display_data"
    },
    {
     "name": "stdout",
     "output_type": "stream",
     "text": [
      "\n",
      "[-10.660075345658038, 4.832557590020761, -5.869471476946568]\n"
     ]
    }
   ],
   "source": [
    "for __ in range(10):\n",
    "    est_res = me.selection.select_models(models, data, parallel=False)\n",
    "    print([est.bay_est_log_evidence for est in est_res])"
   ]
  },
  {
   "cell_type": "code",
   "execution_count": 10,
   "metadata": {},
   "outputs": [
    {
     "name": "stdout",
     "output_type": "stream",
     "text": [
      "(10, 3)\n",
      "[-10.65206408   4.75400845  -5.90503819]\n",
      "[0.30803495 0.28754652 0.3252738 ]\n"
     ]
    }
   ],
   "source": [
    "evid_summary = np.array([\n",
    "    [-10.629916697804973, 4.7325886118420755, -5.956029975676918],\n",
    "    [-10.707752281691006, 4.648483811563277, -5.904935097433867],\n",
    "    [-10.660052905403797, 4.786992306046756, -5.865460195018101],\n",
    "    [-10.560456631689906, 4.712198906183986, -6.024845876715448],\n",
    "    [-10.67465188224791, 4.739031922471972, -5.832238436663494],\n",
    "    [-10.688286571898711, 4.796078612214922, -5.866083545090796],\n",
    "    [-10.674939299757629, 4.763798403008956, -5.869504378082593],\n",
    "    [-10.706803542779763, 4.758241853964541, -5.921262356541525],\n",
    "    [-10.55770560556853, 4.770112513127923, -5.9405505492747315],\n",
    "    [-10.660075345658038, 4.832557590020761, -5.869471476946568]\n",
    "])\n",
    "print(evid_summary.shape)\n",
    "print(np.mean(evid_summary, axis=0))\n",
    "print(np.std(evid_summary, axis=0)*6)"
   ]
  },
  {
   "cell_type": "code",
   "execution_count": 18,
   "metadata": {},
   "outputs": [
    {
     "data": {
      "image/png": "[encoded data removed]",
      "text/plain": [
       "<Figure size 432x288 with 1 Axes>"
      ]
     },
     "metadata": {
      "needs_background": "light"
     },
     "output_type": "display_data"
    }
   ],
   "source": [
    "me.plots.selection_plot(est_res)"
   ]
  },
  {
   "cell_type": "code",
   "execution_count": 19,
   "metadata": {},
   "outputs": [
    {
     "data": {
      "text/plain": [
       "array([1.97803966e-07, 9.99975631e-01, 2.41710544e-05])"
      ]
     },
     "execution_count": 19,
     "metadata": {},
     "output_type": "execute_result"
    }
   ],
   "source": [
    "me.selection.compute_model_probabilities(est_res)"
   ]
  },
  {
   "cell_type": "code",
   "execution_count": 18,
   "metadata": {},
   "outputs": [
    {
     "name": "stdout",
     "output_type": "stream",
     "text": [
      "[[[0.15403995 0.14659241 0.16079126]]\n",
      "\n",
      " [[0.21181266 0.20239213 0.22030757]]\n",
      "\n",
      " [[0.23227569 0.21840278 0.24577387]]]\n",
      "-6.655917426977538\n",
      "8.536409735755383\n",
      "-2.583752295846338\n",
      "8.537899031472271\n",
      "8.537899031472271\n",
      "8.537899031472271\n"
     ]
    }
   ],
   "source": [
    "print(np.array([est.bay_est_params_conf for est in est_res]))\n",
    "\n",
    "print(est_res[0].bay_est_log_likelihood_max)\n",
    "print(est_res[1].bay_est_log_likelihood_max)\n",
    "print(est_res[2].bay_est_log_likelihood_max)\n",
    "\n",
    "print(est_res[0].bay_log_likelihood_norm)\n",
    "print(est_res[1].bay_log_likelihood_norm)\n",
    "print(est_res[2].bay_log_likelihood_norm)"
   ]
  },
  {
   "cell_type": "code",
   "execution_count": 20,
   "metadata": {},
   "outputs": [
    {
     "data": {
      "image/png": "[encoded data removed]",
      "text/plain": [
       "<Figure size 432x288 with 1 Axes>"
      ]
     },
     "metadata": {
      "needs_background": "light"
     },
     "output_type": "display_data"
    },
    {
     "data": {
      "image/png": "[encoded data removed]",
      "text/plain": [
       "<Figure size 432x288 with 1 Axes>"
      ]
     },
     "metadata": {
      "needs_background": "light"
     },
     "output_type": "display_data"
    },
    {
     "data": {
      "image/png": "[encoded data removed]",
      "text/plain": [
       "<Figure size 244.8x244.8 with 1 Axes>"
      ]
     },
     "metadata": {
      "needs_background": "light"
     },
     "output_type": "display_data"
    },
    {
     "data": {
      "image/png": "[encoded data removed]",
      "text/plain": [
       "<Figure size 432x288 with 1 Axes>"
      ]
     },
     "metadata": {
      "needs_background": "light"
     },
     "output_type": "display_data"
    },
    {
     "data": {
      "image/png": "[encoded data removed]",
      "text/plain": [
       "<Figure size 432x288 with 1 Axes>"
      ]
     },
     "metadata": {
      "needs_background": "light"
     },
     "output_type": "display_data"
    },
    {
     "data": {
      "image/png": "[encoded data removed]",
      "text/plain": [
       "<Figure size 244.8x244.8 with 1 Axes>"
      ]
     },
     "metadata": {
      "needs_background": "light"
     },
     "output_type": "display_data"
    },
    {
     "data": {
      "image/png": "[encoded data removed]",
      "text/plain": [
       "<Figure size 432x288 with 1 Axes>"
      ]
     },
     "metadata": {
      "needs_background": "light"
     },
     "output_type": "display_data"
    },
    {
     "data": {
      "image/png": "[encoded data removed]",
      "text/plain": [
       "<Figure size 432x288 with 1 Axes>"
      ]
     },
     "metadata": {
      "needs_background": "light"
     },
     "output_type": "display_data"
    },
    {
     "data": {
      "image/png": "[encoded data removed]",
      "text/plain": [
       "<Figure size 244.8x244.8 with 1 Axes>"
      ]
     },
     "metadata": {
      "needs_background": "light"
     },
     "output_type": "display_data"
    }
   ],
   "source": [
    "me.plots.est_bestfit_mean_plot(est_res[0])\n",
    "me.plots.est_bestfit_variance_plot(est_res[0])\n",
    "me.plots.est_corner_kernel_plot(est_res[0])\n",
    "\n",
    "me.plots.est_bestfit_mean_plot(est_res[1])\n",
    "me.plots.est_bestfit_variance_plot(est_res[1])\n",
    "me.plots.est_corner_kernel_plot(est_res[1])\n",
    "\n",
    "me.plots.est_bestfit_mean_plot(est_res[2])\n",
    "me.plots.est_bestfit_variance_plot(est_res[2])\n",
    "me.plots.est_corner_kernel_plot(est_res[2])"
   ]
  },
  {
   "cell_type": "markdown",
   "metadata": {},
   "source": [
    "##### check warning\n",
    "/Users/mlanghinrichs/opt/anaconda3/envs/cd44_project/lib/python3.7/site-packages/scipy/integrate/odepack.py:247: ODEintWarning: Excess work done on this call (perhaps wrong Dfun type). Run with full_output = 1 to get quantitative information.\n",
    "  warnings.warn(warning_msg, ODEintWarning)\n",
    "  \n",
    "=> bug found: this warning occured when l values were too high *and* at the same time very few time values were used in the odeint (2 in the estimation)"
   ]
  },
  {
   "cell_type": "code",
   "execution_count": 7,
   "metadata": {},
   "outputs": [
    {
     "data": {
      "application/vnd.jupyter.widget-view+json": {
       "model_id": "d8c80ae0aa0c4ee98a17c12f3a443173",
       "version_major": 2,
       "version_minor": 0
      },
      "text/plain": [
       "HBox(children=(FloatProgress(value=0.0, max=1.0), HTML(value='')))"
      ]
     },
     "metadata": {},
     "output_type": "display_data"
    },
    {
     "name": "stderr",
     "output_type": "stream",
     "text": [
      "/Users/mlanghinrichs/opt/anaconda3/envs/cd44_project/lib/python3.7/site-packages/scipy/integrate/odepack.py:247: ODEintWarning: Excess work done on this call (perhaps wrong Dfun type). Run with full_output = 1 to get quantitative information.\n",
      "  warnings.warn(warning_msg, ODEintWarning)\n"
     ]
    },
    {
     "name": "stdout",
     "output_type": "stream",
     "text": [
      "\n"
     ]
    }
   ],
   "source": [
    "models_check = [('m15', t15, s)]\n",
    "est_check = me.selection.select_models(models_check, data)"
   ]
  },
  {
   "cell_type": "code",
   "execution_count": null,
   "metadata": {},
   "outputs": [],
   "source": [
    "est = est_check[0]\n",
    "np.mean(est.bay_est_samples_weighted)\n",
    "# 0.23235173968206016"
   ]
  },
  {
   "cell_type": "code",
   "execution_count": 70,
   "metadata": {},
   "outputs": [
    {
     "name": "stderr",
     "output_type": "stream",
     "text": [
      "/Users/mlanghinrichs/opt/anaconda3/envs/cd44_project/lib/python3.7/site-packages/scipy/integrate/odepack.py:247: ODEintWarning: Excess work done on this call (perhaps wrong Dfun type). Run with full_output = 1 to get quantitative information.\n",
      "  warnings.warn(warning_msg, ODEintWarning)\n"
     ]
    }
   ],
   "source": [
    "t = [{'start': 'X_t', 'end': 'X_t', \n",
    "     'rate_symbol': 'l', \n",
    "     'type': 'S -> S + S', \n",
    "     'reaction_steps': 15}]\n",
    "\n",
    "net = me.Network('net_check')\n",
    "net.structure(t)\n",
    "\n",
    "network_setup = {\n",
    "    'initial_values': {'X_t': 1.0}, \n",
    "    'theta_bounds': {'l': (0.0, 1.0)}, \n",
    "    'mean_only': False,\n",
    "    'variables': {'X_t': ('X_t', )}\n",
    "}\n",
    "\n",
    "mcmc_setup = {\n",
    "    'nlive':                    1000, # 250 # 1000\n",
    "    'tolerance':                0.01, # 0.1 (COARSE) # 0.05 # 0.01 (NORMAL)\n",
    "    'bound':                    'multi',\n",
    "    'sample':                   'unif'\n",
    "}\n",
    "\n",
    "est = me.Estimation('est_check', net, data)\n",
    "est.estimate(network_setup, mcmc_setup)"
   ]
  },
  {
   "cell_type": "code",
   "execution_count": 71,
   "metadata": {},
   "outputs": [
    {
     "data": {
      "text/plain": [
       "0.2322282859721292"
      ]
     },
     "execution_count": 71,
     "metadata": {},
     "output_type": "execute_result"
    }
   ],
   "source": [
    "np.mean(est.bay_est_samples_weighted)"
   ]
  },
  {
   "cell_type": "code",
   "execution_count": 72,
   "metadata": {},
   "outputs": [
    {
     "data": {
      "image/png": "[encoded data removed]",
      "text/plain": [
       "<Figure size 432x288 with 1 Axes>"
      ]
     },
     "metadata": {
      "needs_background": "light"
     },
     "output_type": "display_data"
    },
    {
     "data": {
      "image/png": "[encoded data removed]",
      "text/plain": [
       "<Figure size 432x288 with 1 Axes>"
      ]
     },
     "metadata": {
      "needs_background": "light"
     },
     "output_type": "display_data"
    },
    {
     "data": {
      "image/png": "[encoded data removed]",
      "text/plain": [
       "<Figure size 244.8x244.8 with 1 Axes>"
      ]
     },
     "metadata": {
      "needs_background": "light"
     },
     "output_type": "display_data"
    }
   ],
   "source": [
    "me.plots.est_bestfit_mean_plot(est)\n",
    "me.plots.est_bestfit_variance_plot(est)\n",
    "me.plots.est_corner_kernel_plot(est)"
   ]
  },
  {
   "cell_type": "code",
   "execution_count": 75,
   "metadata": {},
   "outputs": [
    {
     "name": "stderr",
     "output_type": "stream",
     "text": [
      "/Users/mlanghinrichs/opt/anaconda3/envs/cd44_project/lib/python3.7/site-packages/scipy/integrate/odepack.py:247: ODEintWarning: Excess work done on this call (perhaps wrong Dfun type). Run with full_output = 1 to get quantitative information.\n",
      "  warnings.warn(warning_msg, ODEintWarning)\n"
     ]
    },
    {
     "data": {
      "text/plain": [
       "[<matplotlib.lines.Line2D at 0x7fcbf2aee450>]"
      ]
     },
     "execution_count": 75,
     "metadata": {},
     "output_type": "execute_result"
    },
    {
     "data": {
      "image/png": "[encoded data removed]",
      "text/plain": [
       "<Figure size 432x288 with 1 Axes>"
      ]
     },
     "metadata": {
      "needs_background": "light"
     },
     "output_type": "display_data"
    },
    {
     "data": {
      "image/png": "[encoded data removed]",
      "text/plain": [
       "<Figure size 432x288 with 1 Axes>"
      ]
     },
     "metadata": {
      "needs_background": "light"
     },
     "output_type": "display_data"
    }
   ],
   "source": [
    "# check some likelihoods manually\n",
    "initial_values = {'X_t': 1}\n",
    "theta_values = {'l': 0.22}\n",
    "time_values = np.array([0.0, 10.0])\n",
    "variables = {'X_t': ('X_t', )}\n",
    "\n",
    "# warning\n",
    "plt.figure()\n",
    "x_vals = np.linspace(0.01, 0.99, num=100, endpoint=True)\n",
    "plt.plot(x_vals, np.array([est.log_likelihood(np.array([x]), \n",
    "                initial_values, time_values, variables, \n",
    "               data.data_mean, data.data_variance, \n",
    "                data.data_covariance) for x in x_vals]))\n",
    "\n",
    "# no warning\n",
    "plt.figure()\n",
    "x_vals = np.linspace(0.01, 0.5, num=100, endpoint=True)\n",
    "plt.plot(x_vals, np.array([est.log_likelihood(np.array([x]), \n",
    "                initial_values, time_values, variables, \n",
    "               data.data_mean, data.data_variance, \n",
    "                data.data_covariance) for x in x_vals]))"
   ]
  },
  {
   "cell_type": "code",
   "execution_count": 69,
   "metadata": {},
   "outputs": [
    {
     "name": "stderr",
     "output_type": "stream",
     "text": [
      "/Users/mlanghinrichs/opt/anaconda3/envs/cd44_project/lib/python3.7/site-packages/scipy/integrate/odepack.py:247: ODEintWarning: Excess work done on this call (perhaps wrong Dfun type). Run with full_output = 1 to get quantitative information.\n",
      "  warnings.warn(warning_msg, ODEintWarning)\n"
     ]
    },
    {
     "data": {
      "image/png": "[encoded data removed]",
      "text/plain": [
       "<Figure size 432x288 with 1 Axes>"
      ]
     },
     "metadata": {
      "needs_background": "light"
     },
     "output_type": "display_data"
    },
    {
     "data": {
      "image/png": "[encoded data removed]",
      "text/plain": [
       "<Figure size 432x288 with 1 Axes>"
      ]
     },
     "metadata": {
      "needs_background": "light"
     },
     "output_type": "display_data"
    },
    {
     "name": "stdout",
     "output_type": "stream",
     "text": [
      "[{'module': 'module_0', 'start-end': ('X_t', 'X_t'), 'start-end_ident': ('Z_0', 'Z_0'), 'sym_rate': 'l', 'sym_rate_ident': 'theta_0', 'type': 'S -> S + S', 'module_steps': 15}]\n"
     ]
    }
   ],
   "source": [
    "net = me.Network('net_check')\n",
    "net.structure(t15)\n",
    "\n",
    "initial_values = {'X_t': 1}\n",
    "theta_values = {'l': 0.9}\n",
    "time_values = np.linspace(0.0, 10.0, num=2, endpoint=True)\n",
    "variables = {'X_t': ('X_t', )}\n",
    "\n",
    "sim = me.Simulation(net)\n",
    "\n",
    "sim.simulate('moments', initial_values, theta_values, \n",
    "             time_values, variables, estimation_mode=False)\n",
    "\n",
    "me.plots.sim_mean_plot(sim)\n",
    "me.plots.sim_variance_plot(sim)\n",
    "\n",
    "print(net.net_modules)"
   ]
  },
  {
   "cell_type": "code",
   "execution_count": 13,
   "metadata": {},
   "outputs": [
    {
     "name": "stdout",
     "output_type": "stream",
     "text": [
      "[0.26]\n"
     ]
    },
    {
     "data": {
      "text/plain": [
       "numpy.ndarray"
      ]
     },
     "execution_count": 13,
     "metadata": {},
     "output_type": "execute_result"
    }
   ],
   "source": [
    "print(sim.sim_moments.theta_numeric)\n",
    "type(sim.sim_moments.theta_numeric)"
   ]
  },
  {
   "cell_type": "code",
   "execution_count": 34,
   "metadata": {},
   "outputs": [
    {
     "data": {
      "text/plain": [
       "array([[1.00000000e+00, 0.00000000e+00, 0.00000000e+00, ...,\n",
       "        0.00000000e+00, 0.00000000e+00, 0.00000000e+00],\n",
       "       [5.02165184e-01, 3.45904512e-01, 1.19134040e-01, ...,\n",
       "        3.75346400e-40, 7.15974825e-42, 1.28299004e-43],\n",
       "       [2.52169869e-01, 3.47402412e-01, 2.39299858e-01, ...,\n",
       "        3.03577300e-29, 2.02680435e-30, 1.35626766e-31],\n",
       "       ...,\n",
       "       [4.08418084e+01, 3.89975873e+01, 3.72366027e+01, ...,\n",
       "        7.71629928e+02, 7.36628868e+02, 7.03336644e+02],\n",
       "       [4.21941266e+01, 4.02888489e+01, 3.84695795e+01, ...,\n",
       "        8.23618955e+02, 7.86264703e+02, 7.50729816e+02],\n",
       "       [4.35912346e+01, 4.16228650e+01, 3.97433693e+01, ...,\n",
       "        8.79109129e+02, 8.39243651e+02, 8.01315330e+02]])"
      ]
     },
     "execution_count": 34,
     "metadata": {},
     "output_type": "execute_result"
    }
   ],
   "source": [
    "from scipy.integrate import odeint\n",
    "from numba import jit\n",
    "str_for_exec = sim.sim_moments.moment_eqs_template_str\n",
    "\n",
    "exec(str_for_exec)\n",
    "_moment_eqs_template = eval('_moment_eqs_template')\n",
    "\n",
    "moment_system = _moment_eqs_template # sim.sim_moments.moment_system\n",
    "init = sim.sim_moments.moment_initial_values\n",
    "time_arr = time_values\n",
    "theta = np.random.rand(1) # np.array([theta_values['l']])\n",
    "sol = odeint(moment_system, init, time_arr, args=(theta, ))\n",
    "sol"
   ]
  },
  {
   "cell_type": "code",
   "execution_count": 24,
   "metadata": {},
   "outputs": [
    {
     "data": {
      "text/plain": [
       "CPUDispatcher(<function _moment_eqs_template at 0x7fd645d1e5f0>)"
      ]
     },
     "execution_count": 24,
     "metadata": {},
     "output_type": "execute_result"
    }
   ],
   "source": []
  },
  {
   "cell_type": "code",
   "execution_count": 16,
   "metadata": {
    "collapsed": true,
    "jupyter": {
     "outputs_hidden": true
    }
   },
   "outputs": [
    {
     "name": "stdout",
     "output_type": "stream",
     "text": [
      "def _moment_eqs_template(m, time, theta):\n",
      "\treturn np.array([\n",
      "\t-15.0*m[0]*theta[0] + 30.0*m[6]*theta[0],\n",
      "\t15.0*m[0]*theta[0] - 15.0*m[1]*theta[0],\n",
      "\t15.0*m[1]*theta[0] - 15.0*m[2]*theta[0],\n",
      "\t15.0*m[14]*theta[0] - 15.0*m[3]*theta[0],\n",
      "\t15.0*m[3]*theta[0] - 15.0*m[4]*theta[0],\n",
      "\t15.0*m[4]*theta[0] - 15.0*m[5]*theta[0],\n",
      "\t15.0*m[5]*theta[0] - 15.0*m[6]*theta[0],\n",
      "\t15.0*m[2]*theta[0] - 15.0*m[7]*theta[0],\n",
      "\t15.0*m[7]*theta[0] - 15.0*m[8]*theta[0],\n",
      "\t15.0*m[8]*theta[0] - 15.0*m[9]*theta[0],\n",
      "\t-15.0*m[10]*theta[0] + 15.0*m[9]*theta[0],\n",
      "\t15.0*m[10]*theta[0] - 15.0*m[11]*theta[0],\n",
      "\t15.0*m[11]*theta[0] - 15.0*m[12]*theta[0],\n",
      "\t15.0*m[12]*theta[0] - 15.0*m[13]*theta[0],\n",
      "\t15.0*m[13]*theta[0] - 15.0*m[14]*theta[0],\n",
      "\t-30.0*m[15]*theta[0] + 60.0*m[21]*theta[0] + 30.0*m[6]*theta[0],\n",
      "\t15.0*m[15]*theta[0] - 30.0*m[16]*theta[0] + 30.0*m[35]*theta[0],\n",
      "\t15.0*m[16]*theta[0] - 30.0*m[17]*theta[0] + 30.0*m[48]*theta[0],\n",
      "\t-30.0*m[18]*theta[0] + 15.0*m[29]*theta[0] + 30.0*m[60]*theta[0],\n",
      "\t15.0*m[18]*theta[0] - 30.0*m[19]*theta[0] + 30.0*m[71]*theta[0],\n",
      "\t15.0*m[19]*theta[0] - 30.0*m[20]*theta[0] + 30.0*m[81]*theta[0],\n",
      "\t15.0*m[20]*theta[0] - 30.0*m[21]*theta[0] + 30.0*m[90]*theta[0],\n",
      "\t15.0*m[17]*theta[0] - 30.0*m[22]*theta[0] + 30.0*m[91]*theta[0],\n",
      "\t15.0*m[22]*theta[0] - 30.0*m[23]*theta[0] + 30.0*m[92]*theta[0],\n",
      "\t15.0*m[23]*theta[0] - 30.0*m[24]*theta[0] + 30.0*m[93]*theta[0],\n",
      "\t15.0*m[24]*theta[0] - 30.0*m[25]*theta[0] + 30.0*m[94]*theta[0],\n",
      "\t15.0*m[25]*theta[0] - 30.0*m[26]*theta[0] + 30.0*m[95]*theta[0],\n",
      "\t15.0*m[26]*theta[0] - 30.0*m[27]*theta[0] + 30.0*m[96]*theta[0],\n",
      "\t15.0*m[27]*theta[0] - 30.0*m[28]*theta[0] + 30.0*m[97]*theta[0],\n",
      "\t15.0*m[28]*theta[0] - 30.0*m[29]*theta[0] + 30.0*m[98]*theta[0],\n",
      "\t30.0*m[16]*theta[0] - 30.0*m[30]*theta[0],\n",
      "\t15.0*m[17]*theta[0] + 15.0*m[30]*theta[0] - 30.0*m[31]*theta[0],\n",
      "\t15.0*m[18]*theta[0] - 30.0*m[32]*theta[0] + 15.0*m[43]*theta[0],\n",
      "\t15.0*m[19]*theta[0] + 15.0*m[32]*theta[0] - 30.0*m[33]*theta[0],\n",
      "\t15.0*m[20]*theta[0] + 15.0*m[33]*theta[0] - 30.0*m[34]*theta[0],\n",
      "\t15.0*m[21]*theta[0] + 15.0*m[34]*theta[0] - 30.0*m[35]*theta[0],\n",
      "\t15.0*m[22]*theta[0] + 15.0*m[31]*theta[0] - 30.0*m[36]*theta[0],\n",
      "\t15.0*m[23]*theta[0] + 15.0*m[36]*theta[0] - 30.0*m[37]*theta[0],\n",
      "\t15.0*m[24]*theta[0] + 15.0*m[37]*theta[0] - 30.0*m[38]*theta[0],\n",
      "\t15.0*m[25]*theta[0] + 15.0*m[38]*theta[0] - 30.0*m[39]*theta[0],\n",
      "\t15.0*m[26]*theta[0] + 15.0*m[39]*theta[0] - 30.0*m[40]*theta[0],\n",
      "\t15.0*m[27]*theta[0] + 15.0*m[40]*theta[0] - 30.0*m[41]*theta[0],\n",
      "\t15.0*m[28]*theta[0] + 15.0*m[41]*theta[0] - 30.0*m[42]*theta[0],\n",
      "\t15.0*m[29]*theta[0] + 15.0*m[42]*theta[0] - 30.0*m[43]*theta[0],\n",
      "\t30.0*m[31]*theta[0] - 30.0*m[44]*theta[0],\n",
      "\t15.0*m[32]*theta[0] - 30.0*m[45]*theta[0] + 15.0*m[56]*theta[0],\n",
      "\t15.0*m[33]*theta[0] + 15.0*m[45]*theta[0] - 30.0*m[46]*theta[0],\n",
      "\t15.0*m[34]*theta[0] + 15.0*m[46]*theta[0] - 30.0*m[47]*theta[0],\n",
      "\t15.0*m[35]*theta[0] + 15.0*m[47]*theta[0] - 30.0*m[48]*theta[0],\n",
      "\t15.0*m[36]*theta[0] + 15.0*m[44]*theta[0] - 30.0*m[49]*theta[0],\n",
      "\t15.0*m[37]*theta[0] + 15.0*m[49]*theta[0] - 30.0*m[50]*theta[0],\n",
      "\t15.0*m[38]*theta[0] + 15.0*m[50]*theta[0] - 30.0*m[51]*theta[0],\n",
      "\t15.0*m[39]*theta[0] + 15.0*m[51]*theta[0] - 30.0*m[52]*theta[0],\n",
      "\t15.0*m[40]*theta[0] + 15.0*m[52]*theta[0] - 30.0*m[53]*theta[0],\n",
      "\t15.0*m[41]*theta[0] + 15.0*m[53]*theta[0] - 30.0*m[54]*theta[0],\n",
      "\t15.0*m[42]*theta[0] + 15.0*m[54]*theta[0] - 30.0*m[55]*theta[0],\n",
      "\t15.0*m[43]*theta[0] + 15.0*m[55]*theta[0] - 30.0*m[56]*theta[0],\n",
      "\t-30.0*m[57]*theta[0] + 30.0*m[68]*theta[0],\n",
      "\t15.0*m[57]*theta[0] - 30.0*m[58]*theta[0] + 15.0*m[79]*theta[0],\n",
      "\t15.0*m[58]*theta[0] - 30.0*m[59]*theta[0] + 15.0*m[89]*theta[0],\n",
      "\t15.0*m[59]*theta[0] - 30.0*m[60]*theta[0] + 15.0*m[98]*theta[0],\n",
      "\t15.0*m[106]*theta[0] + 15.0*m[45]*theta[0] - 30.0*m[61]*theta[0],\n",
      "\t15.0*m[113]*theta[0] + 15.0*m[61]*theta[0] - 30.0*m[62]*theta[0],\n",
      "\t15.0*m[119]*theta[0] + 15.0*m[62]*theta[0] - 30.0*m[63]*theta[0],\n",
      "\t15.0*m[124]*theta[0] + 15.0*m[63]*theta[0] - 30.0*m[64]*theta[0],\n",
      "\t15.0*m[128]*theta[0] + 15.0*m[64]*theta[0] - 30.0*m[65]*theta[0],\n",
      "\t15.0*m[131]*theta[0] + 15.0*m[65]*theta[0] - 30.0*m[66]*theta[0],\n",
      "\t15.0*m[133]*theta[0] + 15.0*m[66]*theta[0] - 30.0*m[67]*theta[0],\n",
      "\t15.0*m[134]*theta[0] + 15.0*m[67]*theta[0] - 30.0*m[68]*theta[0],\n",
      "\t30.0*m[58]*theta[0] - 30.0*m[69]*theta[0],\n",
      "\t15.0*m[59]*theta[0] + 15.0*m[69]*theta[0] - 30.0*m[70]*theta[0],\n",
      "\t15.0*m[60]*theta[0] + 15.0*m[70]*theta[0] - 30.0*m[71]*theta[0],\n",
      "\t15.0*m[46]*theta[0] + 15.0*m[61]*theta[0] - 30.0*m[72]*theta[0],\n",
      "\t15.0*m[62]*theta[0] + 15.0*m[72]*theta[0] - 30.0*m[73]*theta[0],\n",
      "\t15.0*m[63]*theta[0] + 15.0*m[73]*theta[0] - 30.0*m[74]*theta[0],\n",
      "\t15.0*m[64]*theta[0] + 15.0*m[74]*theta[0] - 30.0*m[75]*theta[0],\n",
      "\t15.0*m[65]*theta[0] + 15.0*m[75]*theta[0] - 30.0*m[76]*theta[0],\n",
      "\t15.0*m[66]*theta[0] + 15.0*m[76]*theta[0] - 30.0*m[77]*theta[0],\n",
      "\t15.0*m[67]*theta[0] + 15.0*m[77]*theta[0] - 30.0*m[78]*theta[0],\n",
      "\t15.0*m[68]*theta[0] + 15.0*m[78]*theta[0] - 30.0*m[79]*theta[0],\n",
      "\t30.0*m[70]*theta[0] - 30.0*m[80]*theta[0],\n",
      "\t15.0*m[71]*theta[0] + 15.0*m[80]*theta[0] - 30.0*m[81]*theta[0],\n",
      "\t15.0*m[47]*theta[0] + 15.0*m[72]*theta[0] - 30.0*m[82]*theta[0],\n",
      "\t15.0*m[73]*theta[0] + 15.0*m[82]*theta[0] - 30.0*m[83]*theta[0],\n",
      "\t15.0*m[74]*theta[0] + 15.0*m[83]*theta[0] - 30.0*m[84]*theta[0],\n",
      "\t15.0*m[75]*theta[0] + 15.0*m[84]*theta[0] - 30.0*m[85]*theta[0],\n",
      "\t15.0*m[76]*theta[0] + 15.0*m[85]*theta[0] - 30.0*m[86]*theta[0],\n",
      "\t15.0*m[77]*theta[0] + 15.0*m[86]*theta[0] - 30.0*m[87]*theta[0],\n",
      "\t15.0*m[78]*theta[0] + 15.0*m[87]*theta[0] - 30.0*m[88]*theta[0],\n",
      "\t15.0*m[79]*theta[0] + 15.0*m[88]*theta[0] - 30.0*m[89]*theta[0],\n",
      "\t30.0*m[81]*theta[0] - 30.0*m[90]*theta[0],\n",
      "\t15.0*m[48]*theta[0] + 15.0*m[82]*theta[0] - 30.0*m[91]*theta[0],\n",
      "\t15.0*m[83]*theta[0] + 15.0*m[91]*theta[0] - 30.0*m[92]*theta[0],\n",
      "\t15.0*m[84]*theta[0] + 15.0*m[92]*theta[0] - 30.0*m[93]*theta[0],\n",
      "\t15.0*m[85]*theta[0] + 15.0*m[93]*theta[0] - 30.0*m[94]*theta[0],\n",
      "\t15.0*m[86]*theta[0] + 15.0*m[94]*theta[0] - 30.0*m[95]*theta[0],\n",
      "\t15.0*m[87]*theta[0] + 15.0*m[95]*theta[0] - 30.0*m[96]*theta[0],\n",
      "\t15.0*m[88]*theta[0] + 15.0*m[96]*theta[0] - 30.0*m[97]*theta[0],\n",
      "\t15.0*m[89]*theta[0] + 15.0*m[97]*theta[0] - 30.0*m[98]*theta[0],\n",
      "\t30.0*m[49]*theta[0] - 30.0*m[99]*theta[0],\n",
      "\t-30.0*m[100]*theta[0] + 15.0*m[50]*theta[0] + 15.0*m[99]*theta[0],\n",
      "\t15.0*m[100]*theta[0] - 30.0*m[101]*theta[0] + 15.0*m[51]*theta[0],\n",
      "\t15.0*m[101]*theta[0] - 30.0*m[102]*theta[0] + 15.0*m[52]*theta[0],\n",
      "\t15.0*m[102]*theta[0] - 30.0*m[103]*theta[0] + 15.0*m[53]*theta[0],\n",
      "\t15.0*m[103]*theta[0] - 30.0*m[104]*theta[0] + 15.0*m[54]*theta[0],\n",
      "\t15.0*m[104]*theta[0] - 30.0*m[105]*theta[0] + 15.0*m[55]*theta[0],\n",
      "\t15.0*m[105]*theta[0] - 30.0*m[106]*theta[0] + 15.0*m[56]*theta[0],\n",
      "\t30.0*m[100]*theta[0] - 30.0*m[107]*theta[0],\n",
      "\t15.0*m[101]*theta[0] + 15.0*m[107]*theta[0] - 30.0*m[108]*theta[0],\n",
      "\t15.0*m[102]*theta[0] + 15.0*m[108]*theta[0] - 30.0*m[109]*theta[0],\n",
      "\t15.0*m[103]*theta[0] + 15.0*m[109]*theta[0] - 30.0*m[110]*theta[0],\n",
      "\t15.0*m[104]*theta[0] + 15.0*m[110]*theta[0] - 30.0*m[111]*theta[0],\n",
      "\t15.0*m[105]*theta[0] + 15.0*m[111]*theta[0] - 30.0*m[112]*theta[0],\n",
      "\t15.0*m[106]*theta[0] + 15.0*m[112]*theta[0] - 30.0*m[113]*theta[0],\n",
      "\t30.0*m[108]*theta[0] - 30.0*m[114]*theta[0],\n",
      "\t15.0*m[109]*theta[0] + 15.0*m[114]*theta[0] - 30.0*m[115]*theta[0],\n",
      "\t15.0*m[110]*theta[0] + 15.0*m[115]*theta[0] - 30.0*m[116]*theta[0],\n",
      "\t15.0*m[111]*theta[0] + 15.0*m[116]*theta[0] - 30.0*m[117]*theta[0],\n",
      "\t15.0*m[112]*theta[0] + 15.0*m[117]*theta[0] - 30.0*m[118]*theta[0],\n",
      "\t15.0*m[113]*theta[0] + 15.0*m[118]*theta[0] - 30.0*m[119]*theta[0],\n",
      "\t30.0*m[115]*theta[0] - 30.0*m[120]*theta[0],\n",
      "\t15.0*m[116]*theta[0] + 15.0*m[120]*theta[0] - 30.0*m[121]*theta[0],\n",
      "\t15.0*m[117]*theta[0] + 15.0*m[121]*theta[0] - 30.0*m[122]*theta[0],\n",
      "\t15.0*m[118]*theta[0] + 15.0*m[122]*theta[0] - 30.0*m[123]*theta[0],\n",
      "\t15.0*m[119]*theta[0] + 15.0*m[123]*theta[0] - 30.0*m[124]*theta[0],\n",
      "\t30.0*m[121]*theta[0] - 30.0*m[125]*theta[0],\n",
      "\t15.0*m[122]*theta[0] + 15.0*m[125]*theta[0] - 30.0*m[126]*theta[0],\n",
      "\t15.0*m[123]*theta[0] + 15.0*m[126]*theta[0] - 30.0*m[127]*theta[0],\n",
      "\t15.0*m[124]*theta[0] + 15.0*m[127]*theta[0] - 30.0*m[128]*theta[0],\n",
      "\t30.0*m[126]*theta[0] - 30.0*m[129]*theta[0],\n",
      "\t15.0*m[127]*theta[0] + 15.0*m[129]*theta[0] - 30.0*m[130]*theta[0],\n",
      "\t15.0*m[128]*theta[0] + 15.0*m[130]*theta[0] - 30.0*m[131]*theta[0],\n",
      "\t30.0*m[130]*theta[0] - 30.0*m[132]*theta[0],\n",
      "\t15.0*m[131]*theta[0] + 15.0*m[132]*theta[0] - 30.0*m[133]*theta[0],\n",
      "\t30.0*m[133]*theta[0] - 30.0*m[134]*theta[0]\n",
      "\t])\n"
     ]
    }
   ],
   "source": [
    "print(str_for_exec)"
   ]
  },
  {
   "cell_type": "code",
   "execution_count": 17,
   "metadata": {},
   "outputs": [
    {
     "data": {
      "image/png": "[encoded data removed]",
      "text/plain": [
       "<Figure size 432x288 with 1 Axes>"
      ]
     },
     "metadata": {
      "needs_background": "light"
     },
     "output_type": "display_data"
    },
    {
     "data": {
      "image/png": "[encoded data removed]",
      "text/plain": [
       "<Figure size 432x288 with 1 Axes>"
      ]
     },
     "metadata": {
      "needs_background": "light"
     },
     "output_type": "display_data"
    },
    {
     "name": "stdout",
     "output_type": "stream",
     "text": [
      "[{'module': 'module_0', 'start-end': ('X_t', 'X_t'), 'start-end_ident': ('Z_0', 'Z_0'), 'sym_rate': 'l', 'sym_rate_ident': 'theta_0', 'type': 'S -> S + S', 'module_steps': 15}]\n"
     ]
    }
   ],
   "source": [
    "sim = me.Simulation(net)\n",
    "\n",
    "sim.simulate('moments', initial_values, theta_values, \n",
    "             time_values, variables, estimation_mode=True)\n",
    "\n",
    "me.plots.sim_mean_plot(sim)\n",
    "me.plots.sim_variance_plot(sim)\n",
    "\n",
    "print(net.net_modules)"
   ]
  },
  {
   "cell_type": "code",
   "execution_count": 13,
   "metadata": {
    "collapsed": true,
    "jupyter": {
     "outputs_hidden": true
    }
   },
   "outputs": [
    {
     "name": "stdout",
     "output_type": "stream",
     "text": [
      "@jit(nopython=True)\n",
      "def _moment_eqs_template(m, time, theta):\n",
      "\treturn np.array([\n",
      "\t-15.0*m[0]*theta[0] + 30.0*m[6]*theta[0],\n",
      "\t15.0*m[0]*theta[0] - 15.0*m[1]*theta[0],\n",
      "\t15.0*m[1]*theta[0] - 15.0*m[2]*theta[0],\n",
      "\t15.0*m[14]*theta[0] - 15.0*m[3]*theta[0],\n",
      "\t15.0*m[3]*theta[0] - 15.0*m[4]*theta[0],\n",
      "\t15.0*m[4]*theta[0] - 15.0*m[5]*theta[0],\n",
      "\t15.0*m[5]*theta[0] - 15.0*m[6]*theta[0],\n",
      "\t15.0*m[2]*theta[0] - 15.0*m[7]*theta[0],\n",
      "\t15.0*m[7]*theta[0] - 15.0*m[8]*theta[0],\n",
      "\t15.0*m[8]*theta[0] - 15.0*m[9]*theta[0],\n",
      "\t-15.0*m[10]*theta[0] + 15.0*m[9]*theta[0],\n",
      "\t15.0*m[10]*theta[0] - 15.0*m[11]*theta[0],\n",
      "\t15.0*m[11]*theta[0] - 15.0*m[12]*theta[0],\n",
      "\t15.0*m[12]*theta[0] - 15.0*m[13]*theta[0],\n",
      "\t15.0*m[13]*theta[0] - 15.0*m[14]*theta[0],\n",
      "\t-30.0*m[15]*theta[0] + 60.0*m[21]*theta[0] + 30.0*m[6]*theta[0],\n",
      "\t15.0*m[15]*theta[0] - 30.0*m[16]*theta[0] + 30.0*m[35]*theta[0],\n",
      "\t15.0*m[16]*theta[0] - 30.0*m[17]*theta[0] + 30.0*m[48]*theta[0],\n",
      "\t-30.0*m[18]*theta[0] + 15.0*m[29]*theta[0] + 30.0*m[60]*theta[0],\n",
      "\t15.0*m[18]*theta[0] - 30.0*m[19]*theta[0] + 30.0*m[71]*theta[0],\n",
      "\t15.0*m[19]*theta[0] - 30.0*m[20]*theta[0] + 30.0*m[81]*theta[0],\n",
      "\t15.0*m[20]*theta[0] - 30.0*m[21]*theta[0] + 30.0*m[90]*theta[0],\n",
      "\t15.0*m[17]*theta[0] - 30.0*m[22]*theta[0] + 30.0*m[91]*theta[0],\n",
      "\t15.0*m[22]*theta[0] - 30.0*m[23]*theta[0] + 30.0*m[92]*theta[0],\n",
      "\t15.0*m[23]*theta[0] - 30.0*m[24]*theta[0] + 30.0*m[93]*theta[0],\n",
      "\t15.0*m[24]*theta[0] - 30.0*m[25]*theta[0] + 30.0*m[94]*theta[0],\n",
      "\t15.0*m[25]*theta[0] - 30.0*m[26]*theta[0] + 30.0*m[95]*theta[0],\n",
      "\t15.0*m[26]*theta[0] - 30.0*m[27]*theta[0] + 30.0*m[96]*theta[0],\n",
      "\t15.0*m[27]*theta[0] - 30.0*m[28]*theta[0] + 30.0*m[97]*theta[0],\n",
      "\t15.0*m[28]*theta[0] - 30.0*m[29]*theta[0] + 30.0*m[98]*theta[0],\n",
      "\t30.0*m[16]*theta[0] - 30.0*m[30]*theta[0],\n",
      "\t15.0*m[17]*theta[0] + 15.0*m[30]*theta[0] - 30.0*m[31]*theta[0],\n",
      "\t15.0*m[18]*theta[0] - 30.0*m[32]*theta[0] + 15.0*m[43]*theta[0],\n",
      "\t15.0*m[19]*theta[0] + 15.0*m[32]*theta[0] - 30.0*m[33]*theta[0],\n",
      "\t15.0*m[20]*theta[0] + 15.0*m[33]*theta[0] - 30.0*m[34]*theta[0],\n",
      "\t15.0*m[21]*theta[0] + 15.0*m[34]*theta[0] - 30.0*m[35]*theta[0],\n",
      "\t15.0*m[22]*theta[0] + 15.0*m[31]*theta[0] - 30.0*m[36]*theta[0],\n",
      "\t15.0*m[23]*theta[0] + 15.0*m[36]*theta[0] - 30.0*m[37]*theta[0],\n",
      "\t15.0*m[24]*theta[0] + 15.0*m[37]*theta[0] - 30.0*m[38]*theta[0],\n",
      "\t15.0*m[25]*theta[0] + 15.0*m[38]*theta[0] - 30.0*m[39]*theta[0],\n",
      "\t15.0*m[26]*theta[0] + 15.0*m[39]*theta[0] - 30.0*m[40]*theta[0],\n",
      "\t15.0*m[27]*theta[0] + 15.0*m[40]*theta[0] - 30.0*m[41]*theta[0],\n",
      "\t15.0*m[28]*theta[0] + 15.0*m[41]*theta[0] - 30.0*m[42]*theta[0],\n",
      "\t15.0*m[29]*theta[0] + 15.0*m[42]*theta[0] - 30.0*m[43]*theta[0],\n",
      "\t30.0*m[31]*theta[0] - 30.0*m[44]*theta[0],\n",
      "\t15.0*m[32]*theta[0] - 30.0*m[45]*theta[0] + 15.0*m[56]*theta[0],\n",
      "\t15.0*m[33]*theta[0] + 15.0*m[45]*theta[0] - 30.0*m[46]*theta[0],\n",
      "\t15.0*m[34]*theta[0] + 15.0*m[46]*theta[0] - 30.0*m[47]*theta[0],\n",
      "\t15.0*m[35]*theta[0] + 15.0*m[47]*theta[0] - 30.0*m[48]*theta[0],\n",
      "\t15.0*m[36]*theta[0] + 15.0*m[44]*theta[0] - 30.0*m[49]*theta[0],\n",
      "\t15.0*m[37]*theta[0] + 15.0*m[49]*theta[0] - 30.0*m[50]*theta[0],\n",
      "\t15.0*m[38]*theta[0] + 15.0*m[50]*theta[0] - 30.0*m[51]*theta[0],\n",
      "\t15.0*m[39]*theta[0] + 15.0*m[51]*theta[0] - 30.0*m[52]*theta[0],\n",
      "\t15.0*m[40]*theta[0] + 15.0*m[52]*theta[0] - 30.0*m[53]*theta[0],\n",
      "\t15.0*m[41]*theta[0] + 15.0*m[53]*theta[0] - 30.0*m[54]*theta[0],\n",
      "\t15.0*m[42]*theta[0] + 15.0*m[54]*theta[0] - 30.0*m[55]*theta[0],\n",
      "\t15.0*m[43]*theta[0] + 15.0*m[55]*theta[0] - 30.0*m[56]*theta[0],\n",
      "\t-30.0*m[57]*theta[0] + 30.0*m[68]*theta[0],\n",
      "\t15.0*m[57]*theta[0] - 30.0*m[58]*theta[0] + 15.0*m[79]*theta[0],\n",
      "\t15.0*m[58]*theta[0] - 30.0*m[59]*theta[0] + 15.0*m[89]*theta[0],\n",
      "\t15.0*m[59]*theta[0] - 30.0*m[60]*theta[0] + 15.0*m[98]*theta[0],\n",
      "\t15.0*m[106]*theta[0] + 15.0*m[45]*theta[0] - 30.0*m[61]*theta[0],\n",
      "\t15.0*m[113]*theta[0] + 15.0*m[61]*theta[0] - 30.0*m[62]*theta[0],\n",
      "\t15.0*m[119]*theta[0] + 15.0*m[62]*theta[0] - 30.0*m[63]*theta[0],\n",
      "\t15.0*m[124]*theta[0] + 15.0*m[63]*theta[0] - 30.0*m[64]*theta[0],\n",
      "\t15.0*m[128]*theta[0] + 15.0*m[64]*theta[0] - 30.0*m[65]*theta[0],\n",
      "\t15.0*m[131]*theta[0] + 15.0*m[65]*theta[0] - 30.0*m[66]*theta[0],\n",
      "\t15.0*m[133]*theta[0] + 15.0*m[66]*theta[0] - 30.0*m[67]*theta[0],\n",
      "\t15.0*m[134]*theta[0] + 15.0*m[67]*theta[0] - 30.0*m[68]*theta[0],\n",
      "\t30.0*m[58]*theta[0] - 30.0*m[69]*theta[0],\n",
      "\t15.0*m[59]*theta[0] + 15.0*m[69]*theta[0] - 30.0*m[70]*theta[0],\n",
      "\t15.0*m[60]*theta[0] + 15.0*m[70]*theta[0] - 30.0*m[71]*theta[0],\n",
      "\t15.0*m[46]*theta[0] + 15.0*m[61]*theta[0] - 30.0*m[72]*theta[0],\n",
      "\t15.0*m[62]*theta[0] + 15.0*m[72]*theta[0] - 30.0*m[73]*theta[0],\n",
      "\t15.0*m[63]*theta[0] + 15.0*m[73]*theta[0] - 30.0*m[74]*theta[0],\n",
      "\t15.0*m[64]*theta[0] + 15.0*m[74]*theta[0] - 30.0*m[75]*theta[0],\n",
      "\t15.0*m[65]*theta[0] + 15.0*m[75]*theta[0] - 30.0*m[76]*theta[0],\n",
      "\t15.0*m[66]*theta[0] + 15.0*m[76]*theta[0] - 30.0*m[77]*theta[0],\n",
      "\t15.0*m[67]*theta[0] + 15.0*m[77]*theta[0] - 30.0*m[78]*theta[0],\n",
      "\t15.0*m[68]*theta[0] + 15.0*m[78]*theta[0] - 30.0*m[79]*theta[0],\n",
      "\t30.0*m[70]*theta[0] - 30.0*m[80]*theta[0],\n",
      "\t15.0*m[71]*theta[0] + 15.0*m[80]*theta[0] - 30.0*m[81]*theta[0],\n",
      "\t15.0*m[47]*theta[0] + 15.0*m[72]*theta[0] - 30.0*m[82]*theta[0],\n",
      "\t15.0*m[73]*theta[0] + 15.0*m[82]*theta[0] - 30.0*m[83]*theta[0],\n",
      "\t15.0*m[74]*theta[0] + 15.0*m[83]*theta[0] - 30.0*m[84]*theta[0],\n",
      "\t15.0*m[75]*theta[0] + 15.0*m[84]*theta[0] - 30.0*m[85]*theta[0],\n",
      "\t15.0*m[76]*theta[0] + 15.0*m[85]*theta[0] - 30.0*m[86]*theta[0],\n",
      "\t15.0*m[77]*theta[0] + 15.0*m[86]*theta[0] - 30.0*m[87]*theta[0],\n",
      "\t15.0*m[78]*theta[0] + 15.0*m[87]*theta[0] - 30.0*m[88]*theta[0],\n",
      "\t15.0*m[79]*theta[0] + 15.0*m[88]*theta[0] - 30.0*m[89]*theta[0],\n",
      "\t30.0*m[81]*theta[0] - 30.0*m[90]*theta[0],\n",
      "\t15.0*m[48]*theta[0] + 15.0*m[82]*theta[0] - 30.0*m[91]*theta[0],\n",
      "\t15.0*m[83]*theta[0] + 15.0*m[91]*theta[0] - 30.0*m[92]*theta[0],\n",
      "\t15.0*m[84]*theta[0] + 15.0*m[92]*theta[0] - 30.0*m[93]*theta[0],\n",
      "\t15.0*m[85]*theta[0] + 15.0*m[93]*theta[0] - 30.0*m[94]*theta[0],\n",
      "\t15.0*m[86]*theta[0] + 15.0*m[94]*theta[0] - 30.0*m[95]*theta[0],\n",
      "\t15.0*m[87]*theta[0] + 15.0*m[95]*theta[0] - 30.0*m[96]*theta[0],\n",
      "\t15.0*m[88]*theta[0] + 15.0*m[96]*theta[0] - 30.0*m[97]*theta[0],\n",
      "\t15.0*m[89]*theta[0] + 15.0*m[97]*theta[0] - 30.0*m[98]*theta[0],\n",
      "\t30.0*m[49]*theta[0] - 30.0*m[99]*theta[0],\n",
      "\t-30.0*m[100]*theta[0] + 15.0*m[50]*theta[0] + 15.0*m[99]*theta[0],\n",
      "\t15.0*m[100]*theta[0] - 30.0*m[101]*theta[0] + 15.0*m[51]*theta[0],\n",
      "\t15.0*m[101]*theta[0] - 30.0*m[102]*theta[0] + 15.0*m[52]*theta[0],\n",
      "\t15.0*m[102]*theta[0] - 30.0*m[103]*theta[0] + 15.0*m[53]*theta[0],\n",
      "\t15.0*m[103]*theta[0] - 30.0*m[104]*theta[0] + 15.0*m[54]*theta[0],\n",
      "\t15.0*m[104]*theta[0] - 30.0*m[105]*theta[0] + 15.0*m[55]*theta[0],\n",
      "\t15.0*m[105]*theta[0] - 30.0*m[106]*theta[0] + 15.0*m[56]*theta[0],\n",
      "\t30.0*m[100]*theta[0] - 30.0*m[107]*theta[0],\n",
      "\t15.0*m[101]*theta[0] + 15.0*m[107]*theta[0] - 30.0*m[108]*theta[0],\n",
      "\t15.0*m[102]*theta[0] + 15.0*m[108]*theta[0] - 30.0*m[109]*theta[0],\n",
      "\t15.0*m[103]*theta[0] + 15.0*m[109]*theta[0] - 30.0*m[110]*theta[0],\n",
      "\t15.0*m[104]*theta[0] + 15.0*m[110]*theta[0] - 30.0*m[111]*theta[0],\n",
      "\t15.0*m[105]*theta[0] + 15.0*m[111]*theta[0] - 30.0*m[112]*theta[0],\n",
      "\t15.0*m[106]*theta[0] + 15.0*m[112]*theta[0] - 30.0*m[113]*theta[0],\n",
      "\t30.0*m[108]*theta[0] - 30.0*m[114]*theta[0],\n",
      "\t15.0*m[109]*theta[0] + 15.0*m[114]*theta[0] - 30.0*m[115]*theta[0],\n",
      "\t15.0*m[110]*theta[0] + 15.0*m[115]*theta[0] - 30.0*m[116]*theta[0],\n",
      "\t15.0*m[111]*theta[0] + 15.0*m[116]*theta[0] - 30.0*m[117]*theta[0],\n",
      "\t15.0*m[112]*theta[0] + 15.0*m[117]*theta[0] - 30.0*m[118]*theta[0],\n",
      "\t15.0*m[113]*theta[0] + 15.0*m[118]*theta[0] - 30.0*m[119]*theta[0],\n",
      "\t30.0*m[115]*theta[0] - 30.0*m[120]*theta[0],\n",
      "\t15.0*m[116]*theta[0] + 15.0*m[120]*theta[0] - 30.0*m[121]*theta[0],\n",
      "\t15.0*m[117]*theta[0] + 15.0*m[121]*theta[0] - 30.0*m[122]*theta[0],\n",
      "\t15.0*m[118]*theta[0] + 15.0*m[122]*theta[0] - 30.0*m[123]*theta[0],\n",
      "\t15.0*m[119]*theta[0] + 15.0*m[123]*theta[0] - 30.0*m[124]*theta[0],\n",
      "\t30.0*m[121]*theta[0] - 30.0*m[125]*theta[0],\n",
      "\t15.0*m[122]*theta[0] + 15.0*m[125]*theta[0] - 30.0*m[126]*theta[0],\n",
      "\t15.0*m[123]*theta[0] + 15.0*m[126]*theta[0] - 30.0*m[127]*theta[0],\n",
      "\t15.0*m[124]*theta[0] + 15.0*m[127]*theta[0] - 30.0*m[128]*theta[0],\n",
      "\t30.0*m[126]*theta[0] - 30.0*m[129]*theta[0],\n",
      "\t15.0*m[127]*theta[0] + 15.0*m[129]*theta[0] - 30.0*m[130]*theta[0],\n",
      "\t15.0*m[128]*theta[0] + 15.0*m[130]*theta[0] - 30.0*m[131]*theta[0],\n",
      "\t30.0*m[130]*theta[0] - 30.0*m[132]*theta[0],\n",
      "\t15.0*m[131]*theta[0] + 15.0*m[132]*theta[0] - 30.0*m[133]*theta[0],\n",
      "\t30.0*m[133]*theta[0] - 30.0*m[134]*theta[0]\n",
      "\t])\n"
     ]
    }
   ],
   "source": [
    "print(sim.sim_moments.moment_eqs_template_str)"
   ]
  },
  {
   "cell_type": "markdown",
   "metadata": {},
   "source": [
    "##### simple estimation example for testing"
   ]
  },
  {
   "cell_type": "code",
   "execution_count": 28,
   "metadata": {},
   "outputs": [],
   "source": [
    "# do a minimal model with steps=2 activation and steps=4 division\n",
    "# three time points maybe\n",
    "\n",
    "t = [\n",
    "    {'start': 'X_t', 'end': 'Y_t', \n",
    "     'rate_symbol': 'd', \n",
    "     'type': 'S -> E', 'reaction_steps': 2},\n",
    "    {'start': 'Y_t', 'end': 'Y_t', \n",
    "     'rate_symbol': 'l', \n",
    "     'type': 'S -> S + S', 'reaction_steps': 4}\n",
    "    ]\n",
    "\n",
    "net = me.Network('net_min_2_4')\n",
    "net.structure(t)\n",
    "\n",
    "num_iter = 100\n",
    "initial_values = {'X_t': 1, 'Y_t': 0}\n",
    "theta_values = {'d': 0.03, 'l': 0.07}\n",
    "time_values = np.array([0.0, 20.0, 40.0])\n",
    "variables = {'X_t': ('X_t', ), 'Y_t': ('Y_t', )}\n",
    "\n",
    "sim = me.Simulation(net)\n",
    "res_list = list()\n",
    "\n",
    "for __ in range(num_iter):\n",
    "    res_list.append(sim.simulate('gillespie', initial_values, theta_values, time_values, variables)[1])\n",
    "\n",
    "sims = np.array(res_list)"
   ]
  },
  {
   "cell_type": "code",
   "execution_count": 29,
   "metadata": {},
   "outputs": [],
   "source": [
    "data = me.Data('data_test_est_min_2_4')\n",
    "data.load(['X_t', 'Y_t'], time_values, sims, \n",
    "          bootstrap_samples=10000, basic_sigma=1/num_iter)\n",
    "\n",
    "# overwrite with fixed values (from a num_iter = 100 simulation)\n",
    "data.data_mean = np.array([[[1.         ,0.67       ,0.37      ],\n",
    "                          [0.         ,0.45       ,1.74      ]],\n",
    "                         [[0.01       ,0.0469473  ,0.04838822],\n",
    "                          [0.01       ,0.07188642 ,0.1995514 ]]])\n",
    "data.data_variance = np.array([[[0.         ,0.22333333 ,0.23545455],\n",
    "                              [0.         ,0.51262626 ,4.03272727]],\n",
    "                             [[0.01       ,0.01631605 ,0.01293869],\n",
    "                              [0.01       ,0.08878719 ,0.68612036]]])\n",
    "data.data_covariance = np.array([[[ 0.         ,-0.30454545 ,-0.65030303]],\n",
    "                             [[ 0.01        ,0.0303608   ,0.06645246]]])"
   ]
  },
  {
   "cell_type": "code",
   "execution_count": 34,
   "metadata": {},
   "outputs": [
    {
     "data": {
      "image/png": "[encoded data removed]",
      "text/plain": [
       "<Figure size 432x288 with 1 Axes>"
      ]
     },
     "metadata": {
      "needs_background": "light"
     },
     "output_type": "display_data"
    },
    {
     "data": {
      "image/png": "[encoded data removed]",
      "text/plain": [
       "<Figure size 432x288 with 1 Axes>"
      ]
     },
     "metadata": {
      "needs_background": "light"
     },
     "output_type": "display_data"
    },
    {
     "data": {
      "image/png": "[encoded data removed]",
      "text/plain": [
       "<Figure size 432x288 with 1 Axes>"
      ]
     },
     "metadata": {
      "needs_background": "light"
     },
     "output_type": "display_data"
    }
   ],
   "source": [
    "me.plots.data_mean_plot(data)\n",
    "me.plots.data_variance_plot(data)\n",
    "me.plots.data_covariance_plot(data)"
   ]
  },
  {
   "cell_type": "code",
   "execution_count": 37,
   "metadata": {},
   "outputs": [],
   "source": [
    "network_setup = {\n",
    "    'initial_values': {'X_t': 1, 'Y_t': 0},\n",
    "    'theta_bounds': {'d': (0.0, 0.15), 'l': (0.0, 0.15)}, \n",
    "    'mean_only': False,\n",
    "    'variables': {'X_t': ('X_t', ), 'Y_t': ('Y_t', )}\n",
    "}\n",
    "\n",
    "mcmc_setup = {\n",
    "    'nlive':                    1000, # 250 # 1000\n",
    "    'tolerance':                0.01, # 0.1 (COARSE) # 0.05 # 0.01 (NORMAL)\n",
    "    'bound':                    'multi',\n",
    "    'sample':                   'unif'\n",
    "}\n",
    "\n",
    "est = me.Estimation('est_min_2_4', net, data)\n",
    "est.estimate(network_setup, mcmc_setup)"
   ]
  },
  {
   "cell_type": "code",
   "execution_count": 47,
   "metadata": {},
   "outputs": [
    {
     "name": "stdout",
     "output_type": "stream",
     "text": [
      "28.139812540432732\n",
      "35.48531419345989\n",
      "[[[0.02803474 0.02594989 0.03014408]\n",
      "  [0.07470537 0.06919784 0.07955645]]]\n"
     ]
    }
   ],
   "source": [
    "print(est.bay_est_log_evidence)\n",
    "# 28.298372548269864, 28.139812540432732\n",
    "\n",
    "print(est.bay_est_log_likelihood_max)\n",
    "# 35.48531419345989\n",
    "\n",
    "print(np.array([est.bay_est_params_conf]))"
   ]
  },
  {
   "cell_type": "code",
   "execution_count": 40,
   "metadata": {},
   "outputs": [
    {
     "data": {
      "image/png": "[encoded data removed]",
      "text/plain": [
       "<Figure size 432x288 with 1 Axes>"
      ]
     },
     "metadata": {
      "needs_background": "light"
     },
     "output_type": "display_data"
    },
    {
     "data": {
      "image/png": "[encoded data removed]",
      "text/plain": [
       "<Figure size 432x288 with 1 Axes>"
      ]
     },
     "metadata": {
      "needs_background": "light"
     },
     "output_type": "display_data"
    },
    {
     "data": {
      "image/png": "[encoded data removed]",
      "text/plain": [
       "<Figure size 432x288 with 1 Axes>"
      ]
     },
     "metadata": {
      "needs_background": "light"
     },
     "output_type": "display_data"
    },
    {
     "data": {
      "image/png": "[encoded data removed]",
      "text/plain": [
       "<Figure size 396x396 with 4 Axes>"
      ]
     },
     "metadata": {
      "needs_background": "light"
     },
     "output_type": "display_data"
    }
   ],
   "source": [
    "me.plots.est_bestfit_mean_plot(est)\n",
    "me.plots.est_bestfit_variance_plot(est)\n",
    "me.plots.est_bestfit_covariance_plot(est)\n",
    "me.plots.est_corner_kernel_plot(est) # d=0.028, l=0.075"
   ]
  },
  {
   "cell_type": "code",
   "execution_count": 43,
   "metadata": {},
   "outputs": [
    {
     "name": "stdout",
     "output_type": "stream",
     "text": [
      "<class 'dynesty.nestedsamplers.MultiEllipsoidSampler'>\n"
     ]
    },
    {
     "data": {
      "text/plain": [
       "dynesty.results.Results"
      ]
     },
     "execution_count": 43,
     "metadata": {},
     "output_type": "execute_result"
    }
   ],
   "source": [
    "print(type(est.bay_nested_sampler))\n",
    "type(est.bay_nested_sampler_res)"
   ]
  },
  {
   "cell_type": "code",
   "execution_count": 49,
   "metadata": {},
   "outputs": [
    {
     "data": {
      "text/plain": [
       "(28.139812540432732, 0.11225503808864087)"
      ]
     },
     "execution_count": 49,
     "metadata": {},
     "output_type": "execute_result"
    }
   ],
   "source": [
    "# est is a memopy estimation instance\n",
    "est.get_model_evidence(est.bay_nested_sampler_res)"
   ]
  },
  {
   "cell_type": "code",
   "execution_count": 50,
   "metadata": {},
   "outputs": [
    {
     "data": {
      "text/plain": [
       "28.139812540432732"
      ]
     },
     "execution_count": 50,
     "metadata": {},
     "output_type": "execute_result"
    }
   ],
   "source": [
    "est.bay_est_log_evidence\n"
   ]
  },
  {
   "cell_type": "code",
   "execution_count": 51,
   "metadata": {},
   "outputs": [
    {
     "data": {
      "text/plain": [
       "0.11225503808864087"
      ]
     },
     "execution_count": 51,
     "metadata": {},
     "output_type": "execute_result"
    }
   ],
   "source": [
    "est.bay_est_log_evidence_error"
   ]
  },
  {
   "cell_type": "code",
   "execution_count": 52,
   "metadata": {},
   "outputs": [
    {
     "data": {
      "text/plain": [
       "35.48531419345989"
      ]
     },
     "execution_count": 52,
     "metadata": {},
     "output_type": "execute_result"
    }
   ],
   "source": [
    "est.bay_est_log_likelihood_max"
   ]
  },
  {
   "cell_type": "code",
   "execution_count": 53,
   "metadata": {},
   "outputs": [
    {
     "data": {
      "text/plain": [
       "35.48531419345989"
      ]
     },
     "execution_count": 53,
     "metadata": {},
     "output_type": "execute_result"
    }
   ],
   "source": [
    "est.get_maximal_log_likelihood(est.bay_nested_sampler_res)"
   ]
  },
  {
   "cell_type": "code",
   "execution_count": 54,
   "metadata": {},
   "outputs": [
    {
     "data": {
      "text/plain": [
       "-65.55452798471536"
      ]
     },
     "execution_count": 54,
     "metadata": {},
     "output_type": "execute_result"
    }
   ],
   "source": [
    "est.bay_est_bayesian_information_criterion"
   ]
  },
  {
   "cell_type": "code",
   "execution_count": 55,
   "metadata": {},
   "outputs": [
    {
     "data": {
      "text/plain": [
       "-65.55452798471536"
      ]
     },
     "execution_count": 55,
     "metadata": {},
     "output_type": "execute_result"
    }
   ],
   "source": [
    "est.compute_bayesian_information_criterion(\n",
    "                est.data_num_values,\n",
    "                est.bay_nested_ndims,\n",
    "                est.bay_est_log_likelihood_max)"
   ]
  },
  {
   "cell_type": "code",
   "execution_count": 65,
   "metadata": {},
   "outputs": [
    {
     "data": {
      "text/plain": [
       "-65.56389959779558"
      ]
     },
     "execution_count": 65,
     "metadata": {},
     "output_type": "execute_result"
    }
   ],
   "source": [
    "est.compute_bayesian_information_criterion(15, 2, 35.49)"
   ]
  },
  {
   "cell_type": "code",
   "execution_count": 66,
   "metadata": {},
   "outputs": [
    {
     "data": {
      "text/plain": [
       "32.77726399235768"
      ]
     },
     "execution_count": 66,
     "metadata": {},
     "output_type": "execute_result"
    }
   ],
   "source": [
    "est.compute_log_evidence_from_bic(est.bay_est_bayesian_information_criterion)"
   ]
  },
  {
   "cell_type": "code",
   "execution_count": 67,
   "metadata": {},
   "outputs": [
    {
     "name": "stdout",
     "output_type": "stream",
     "text": [
      "28.139812540432732\n",
      "32.77726399235768\n"
     ]
    }
   ],
   "source": [
    "print(est.bay_est_log_evidence)\n",
    "print(est.bay_est_log_evidence_from_bic)"
   ]
  },
  {
   "cell_type": "code",
   "execution_count": 69,
   "metadata": {},
   "outputs": [
    {
     "data": {
      "text/plain": [
       "32.75"
      ]
     },
     "execution_count": 69,
     "metadata": {},
     "output_type": "execute_result"
    }
   ],
   "source": [
    "est.compute_log_evidence_from_bic(-65.5)"
   ]
  },
  {
   "cell_type": "code",
   "execution_count": 74,
   "metadata": {},
   "outputs": [
    {
     "data": {
      "text/plain": [
       "(array([[0.14791189, 0.14857705],\n",
       "        [0.12864247, 0.14920066],\n",
       "        [0.13767801, 0.14860021],\n",
       "        ...,\n",
       "        [0.02801861, 0.07502377],\n",
       "        [0.02801369, 0.07502103],\n",
       "        [0.02802205, 0.07499796]]),\n",
       " array([[0.02426309, 0.07119228],\n",
       "        [0.03200628, 0.06646134],\n",
       "        [0.03220339, 0.06802025],\n",
       "        ...,\n",
       "        [0.02802894, 0.07496195],\n",
       "        [0.02800815, 0.07502692],\n",
       "        [0.02801369, 0.07502103]]),\n",
       " array([0.00000000e+00, 0.00000000e+00, 0.00000000e+00, ...,\n",
       "        9.93638169e-06, 9.93651290e-06, 9.93662331e-06]))"
      ]
     },
     "execution_count": 74,
     "metadata": {},
     "output_type": "execute_result"
    }
   ],
   "source": [
    "su, sw, w = est.get_posterior_samples(est.bay_nested_sampler_res)\n",
    "\n",
    "est.get_posterior_samples(est.bay_nested_sampler_res)"
   ]
  },
  {
   "cell_type": "code",
   "execution_count": 73,
   "metadata": {},
   "outputs": [
    {
     "name": "stdout",
     "output_type": "stream",
     "text": [
      "<class 'numpy.ndarray'> <class 'numpy.ndarray'> <class 'numpy.ndarray'>\n",
      "(12962, 2) (12962, 2) (12962,)\n"
     ]
    }
   ],
   "source": [
    "print(type(su), type(sw), type(w))\n",
    "print(su.shape, sw.shape, w.shape)"
   ]
  },
  {
   "cell_type": "code",
   "execution_count": 80,
   "metadata": {},
   "outputs": [
    {
     "data": {
      "text/plain": [
       "(12962, 2)"
      ]
     },
     "execution_count": 80,
     "metadata": {},
     "output_type": "execute_result"
    }
   ],
   "source": [
    "est.bay_est_samples_weighted.shape"
   ]
  },
  {
   "cell_type": "code",
   "execution_count": 83,
   "metadata": {},
   "outputs": [
    {
     "data": {
      "text/plain": [
       "((0.0280347396878894, 0.02594988652911552, 0.030144084514338445),\n",
       " (0.07470536719462752, 0.06919784056074933, 0.07955644971380103))"
      ]
     },
     "execution_count": 83,
     "metadata": {},
     "output_type": "execute_result"
    }
   ],
   "source": [
    "est.get_confidence_bounds(est.bay_est_samples_weighted)"
   ]
  },
  {
   "cell_type": "code",
   "execution_count": 79,
   "metadata": {},
   "outputs": [
    {
     "data": {
      "text/plain": [
       "numpy.float64"
      ]
     },
     "execution_count": 79,
     "metadata": {},
     "output_type": "execute_result"
    }
   ],
   "source": [
    "type(est.get_confidence_bounds(est.bay_est_samples_weighted)[0][0])"
   ]
  },
  {
   "cell_type": "code",
   "execution_count": 82,
   "metadata": {},
   "outputs": [
    {
     "data": {
      "text/plain": [
       "3"
      ]
     },
     "execution_count": 82,
     "metadata": {},
     "output_type": "execute_result"
    }
   ],
   "source": [
    "len(est.get_confidence_bounds(est.bay_est_samples_weighted)[0])"
   ]
  },
  {
   "cell_type": "code",
   "execution_count": 90,
   "metadata": {},
   "outputs": [
    {
     "name": "stdout",
     "output_type": "stream",
     "text": [
      "(3, 2)\n"
     ]
    },
    {
     "data": {
      "text/plain": [
       "array([[0.25  , 0.2025, 0.3925],\n",
       "       [3.4   , 3.21  , 3.6375]])"
      ]
     },
     "execution_count": 90,
     "metadata": {},
     "output_type": "execute_result"
    }
   ],
   "source": [
    "samples = np.array([[0.2, 3.4], [0.4, 3.2], [0.25, 3.65]])\n",
    "print(samples.shape)\n",
    "np.array(est.get_confidence_bounds(samples))"
   ]
  },
  {
   "cell_type": "code",
   "execution_count": 94,
   "metadata": {},
   "outputs": [
    {
     "name": "stdout",
     "output_type": "stream",
     "text": [
      "<class 'numpy.ndarray'>\n",
      "(2, 2, 3)\n",
      "[[[1.         0.67       0.37      ]\n",
      "  [0.         0.45       1.74      ]]\n",
      "\n",
      " [[0.01       0.0469473  0.04838822]\n",
      "  [0.01       0.07188642 0.1995514 ]]]\n",
      "<class 'numpy.ndarray'>\n",
      "(2, 2, 3)\n",
      "[[[0.         0.22333333 0.23545455]\n",
      "  [0.         0.51262626 4.03272727]]\n",
      "\n",
      " [[0.01       0.01631605 0.01293869]\n",
      "  [0.01       0.08878719 0.68612036]]]\n",
      "<class 'numpy.ndarray'>\n",
      "(2, 1, 3)\n",
      "[[[ 0.         -0.30454545 -0.65030303]]\n",
      "\n",
      " [[ 0.01        0.0303608   0.06645246]]]\n"
     ]
    }
   ],
   "source": [
    "print(type(est.data_mean_values))\n",
    "print(est.data_mean_values.shape)\n",
    "print(est.data_mean_values)\n",
    "print(type(est.data_var_values))\n",
    "print(est.data_var_values.shape)\n",
    "print(est.data_var_values)\n",
    "print(type(est.data_cov_values))\n",
    "print(est.data_cov_values.shape)\n",
    "print(est.data_cov_values)"
   ]
  },
  {
   "cell_type": "code",
   "execution_count": 96,
   "metadata": {},
   "outputs": [
    {
     "data": {
      "text/plain": [
       "37.04057852140377"
      ]
     },
     "execution_count": 96,
     "metadata": {},
     "output_type": "execute_result"
    }
   ],
   "source": [
    "est.compute_log_likelihood_norm(est.data_mean_values, \n",
    "                                est.data_var_values,\n",
    "                                est.data_cov_values,\n",
    "                                False)"
   ]
  },
  {
   "cell_type": "code",
   "execution_count": 98,
   "metadata": {},
   "outputs": [
    {
     "data": {
      "text/plain": [
       "numpy.float64"
      ]
     },
     "execution_count": 98,
     "metadata": {},
     "output_type": "execute_result"
    }
   ],
   "source": [
    "type(est.bay_log_likelihood_norm)"
   ]
  },
  {
   "cell_type": "code",
   "execution_count": 99,
   "metadata": {},
   "outputs": [
    {
     "name": "stdout",
     "output_type": "stream",
     "text": [
      "37.04057852140377\n",
      "14.028288976285737\n"
     ]
    }
   ],
   "source": [
    "mean_data = np.array([[[1., 0.67, 0.37],\n",
    "                       [0., 0.45, 1.74]],\n",
    "                 [[0.01, 0.0469473, 0.04838822],\n",
    "                       [0.01, 0.07188642, 0.1995514]]])\n",
    "var_data = np.array([[[0., 0.22333333, 0.23545455],\n",
    "                 [0., 0.51262626, 4.03272727]],\n",
    "                  [[0.01, 0.01631605, 0.01293869],\n",
    "                     [0.01, 0.08878719, 0.68612036]]])\n",
    "cov_data = np.array([[[ 0., -0.30454545, -0.65030303]],\n",
    "                   [[ 0.01, 0.0303608, 0.06645246]]])\n",
    "print(est.compute_log_likelihood_norm(mean_data, var_data, cov_data, False))\n",
    "print(est.compute_log_likelihood_norm(mean_data, var_data, cov_data, True))"
   ]
  },
  {
   "cell_type": "code",
   "execution_count": 137,
   "metadata": {},
   "outputs": [
    {
     "data": {
      "text/plain": [
       "32.823084036435795"
      ]
     },
     "execution_count": 137,
     "metadata": {},
     "output_type": "execute_result"
    }
   ],
   "source": [
    "theta_values = np.array([0.03, 0.07])\n",
    "est.log_likelihood(theta_values, est.net_initial_values, \n",
    "                   est.data_time_values, est.net_simulation.sim_variables,\n",
    "                   est.data_mean_values, est.data_var_values, \n",
    "                   est.data_cov_values)"
   ]
  },
  {
   "cell_type": "code",
   "execution_count": 138,
   "metadata": {},
   "outputs": [
    {
     "data": {
      "text/plain": [
       "35.485136238014185"
      ]
     },
     "execution_count": 138,
     "metadata": {},
     "output_type": "execute_result"
    }
   ],
   "source": [
    "theta_values = np.array([0.028, 0.075])\n",
    "#initial_values = {'X_t': 1, 'Y_t': 0}\n",
    "#time_values = np.array([0.0, 20.0, 40.0])\n",
    "#sim_variables =  {'X_t': ('X_t', ), 'Y_t': ('Y_t', )}\n",
    "est.log_likelihood(theta_values, est.net_initial_values, \n",
    "                   est.data_time_values, est.net_simulation.sim_variables,\n",
    "                   est.data_mean_values, est.data_var_values, \n",
    "                   est.data_cov_values)"
   ]
  },
  {
   "cell_type": "code",
   "execution_count": 113,
   "metadata": {},
   "outputs": [
    {
     "data": {
      "text/plain": [
       "numpy.float64"
      ]
     },
     "execution_count": 113,
     "metadata": {},
     "output_type": "execute_result"
    }
   ],
   "source": [
    "type(est.log_likelihood(theta_values, initial_values, time_values, sim_variables,\n",
    "                   est.data_mean_values, est.data_var_values, est.data_cov_values))"
   ]
  },
  {
   "cell_type": "code",
   "execution_count": 141,
   "metadata": {},
   "outputs": [
    {
     "data": {
      "text/plain": [
       "array([[0.  , 0.15],\n",
       "       [0.  , 0.15]])"
      ]
     },
     "execution_count": 141,
     "metadata": {},
     "output_type": "execute_result"
    }
   ],
   "source": [
    "est.net_theta_bounds"
   ]
  },
  {
   "cell_type": "code",
   "execution_count": 144,
   "metadata": {},
   "outputs": [
    {
     "name": "stdout",
     "output_type": "stream",
     "text": [
      "[0.2 0.5]\n"
     ]
    },
    {
     "data": {
      "text/plain": [
       "array([0.03 , 0.075])"
      ]
     },
     "execution_count": 144,
     "metadata": {},
     "output_type": "execute_result"
    }
   ],
   "source": [
    "theta_values = np.array([0.03/0.15, 0.075/0.15])\n",
    "print(theta_values)\n",
    "est.prior_transform(theta_values)"
   ]
  },
  {
   "cell_type": "code",
   "execution_count": 147,
   "metadata": {},
   "outputs": [
    {
     "name": "stdout",
     "output_type": "stream",
     "text": [
      "['theta_0', 'theta_1']\n",
      "{'theta_0': 'd', 'theta_1': 'l'}\n",
      "[[0.   0.15]\n",
      " [0.   0.15]]\n"
     ]
    }
   ],
   "source": [
    "print(est.net.net_theta_symbolic)\n",
    "print(est.net.net_rates_identifier)\n",
    "theta_bounds = {'d': (0.0, 0.15), 'l': (0.0, 0.15)}\n",
    "print(est.initialise_net_theta_bounds(est.net.net_theta_symbolic, est.net.net_rates_identifier, theta_bounds))"
   ]
  },
  {
   "cell_type": "code",
   "execution_count": 148,
   "metadata": {},
   "outputs": [
    {
     "data": {
      "text/plain": [
       "numpy.ndarray"
      ]
     },
     "execution_count": 148,
     "metadata": {},
     "output_type": "execute_result"
    }
   ],
   "source": [
    "type(est.initialise_net_theta_bounds(est.net.net_theta_symbolic, est.net.net_rates_identifier, theta_bounds))"
   ]
  },
  {
   "cell_type": "code",
   "execution_count": 149,
   "metadata": {},
   "outputs": [
    {
     "data": {
      "text/plain": [
       "array([[0.  , 0.15],\n",
       "       [0.  , 0.15]])"
      ]
     },
     "execution_count": 149,
     "metadata": {},
     "output_type": "execute_result"
    }
   ],
   "source": [
    "est.net_theta_bounds"
   ]
  },
  {
   "cell_type": "code",
   "execution_count": 158,
   "metadata": {},
   "outputs": [],
   "source": [
    "net_theta_bounds_test = est.initialise_net_theta_bounds(['theta_0', 'theta_1', 'theta_2'], \n",
    "                                                        {'theta_0':'p1', 'theta_1':'p2', 'theta_2':'p3'}, \n",
    "                                                        {'p1': (0.0, 0.1), 'p2': (0.0, 0.2), 'p3': (0.0, 0.3)})"
   ]
  },
  {
   "cell_type": "code",
   "execution_count": 159,
   "metadata": {},
   "outputs": [
    {
     "data": {
      "text/plain": [
       "(3, 2)"
      ]
     },
     "execution_count": 159,
     "metadata": {},
     "output_type": "execute_result"
    }
   ],
   "source": [
    "net_theta_bounds_test.shape"
   ]
  },
  {
   "cell_type": "code",
   "execution_count": 161,
   "metadata": {},
   "outputs": [
    {
     "data": {
      "text/plain": [
       "array([[0. , 0.1],\n",
       "       [0. , 0.2],\n",
       "       [0. , 0.3]])"
      ]
     },
     "execution_count": 161,
     "metadata": {},
     "output_type": "execute_result"
    }
   ],
   "source": [
    "net_theta_bounds_test"
   ]
  },
  {
   "cell_type": "code",
   "execution_count": 162,
   "metadata": {},
   "outputs": [
    {
     "data": {
      "text/plain": [
       "array([[0. , 0.3],\n",
       "       [0. , 0.1],\n",
       "       [0. , 0.2]])"
      ]
     },
     "execution_count": 162,
     "metadata": {},
     "output_type": "execute_result"
    }
   ],
   "source": [
    "est.initialise_net_theta_bounds(\n",
    "                                        ['theta_0', 'theta_1', 'theta_2'],\n",
    "                                        {'theta_2':'p3', 'theta_0':'p1', 'theta_1':'p2'},\n",
    "                                        {'p2': (0.0, 0.1), 'p3': (0.0, 0.2), 'p1': (0.0, 0.3)})"
   ]
  },
  {
   "cell_type": "code",
   "execution_count": 163,
   "metadata": {},
   "outputs": [
    {
     "data": {
      "text/plain": [
       "array([0.02803474, 0.07470537])"
      ]
     },
     "execution_count": 163,
     "metadata": {},
     "output_type": "execute_result"
    }
   ],
   "source": [
    "est.bay_est_params_median"
   ]
  },
  {
   "cell_type": "code",
   "execution_count": 178,
   "metadata": {},
   "outputs": [
    {
     "data": {
      "text/plain": [
       "[[('V_0',), ('V_1',)], [('V_0', 'V_0'), ('V_0', 'V_1'), ('V_1', 'V_1')]]"
      ]
     },
     "execution_count": 178,
     "metadata": {},
     "output_type": "execute_result"
    }
   ],
   "source": [
    "est.net_simulation.sim_variables_order"
   ]
  },
  {
   "cell_type": "code",
   "execution_count": 166,
   "metadata": {},
   "outputs": [
    {
     "data": {
      "text/plain": [
       "{'V_0': ('X_t', ('X_t',)), 'V_1': ('Y_t', ('Y_t',))}"
      ]
     },
     "execution_count": 166,
     "metadata": {},
     "output_type": "execute_result"
    }
   ],
   "source": [
    "est.net_simulation.sim_variables_identifier"
   ]
  },
  {
   "cell_type": "code",
   "execution_count": 170,
   "metadata": {},
   "outputs": [
    {
     "data": {
      "text/plain": [
       "array([[[ 0.        , -0.30454545, -0.65030303]],\n",
       "\n",
       "       [[ 0.01      ,  0.0303608 ,  0.06645246]]])"
      ]
     },
     "execution_count": 170,
     "metadata": {},
     "output_type": "execute_result"
    }
   ],
   "source": [
    "est.data.data_mean\n",
    "est.data.data_variance\n",
    "est.data.data_covariance"
   ]
  },
  {
   "cell_type": "code",
   "execution_count": 204,
   "metadata": {},
   "outputs": [
    {
     "data": {
      "text/plain": [
       "[{'variables': ('X_t', 'Y_t'), 'summary_indices': 0, 'count_indices': (0, 1)}]"
      ]
     },
     "execution_count": 204,
     "metadata": {},
     "output_type": "execute_result"
    }
   ],
   "source": [
    "# est.data.data_mean_order\n",
    "# est.data.data_variance_order\n",
    "est.data.data_covariance_order"
   ]
  },
  {
   "cell_type": "code",
   "execution_count": 218,
   "metadata": {},
   "outputs": [
    {
     "data": {
      "text/plain": [
       "(array([[[1.        , 0.67      , 0.37      ],\n",
       "         [0.        , 0.        , 0.        ]],\n",
       " \n",
       "        [[0.01      , 0.0469473 , 0.04838822],\n",
       "         [0.        , 0.        , 0.        ]]]),\n",
       " array([[[0.        , 0.22333333, 0.23545455],\n",
       "         [0.        , 0.        , 0.        ]],\n",
       " \n",
       "        [[0.01      , 0.01631605, 0.01293869],\n",
       "         [0.        , 0.        , 0.        ]]]),\n",
       " array([[[0., 0., 0.]],\n",
       " \n",
       "        [[0., 0., 0.]]]))"
      ]
     },
     "execution_count": 218,
     "metadata": {},
     "output_type": "execute_result"
    }
   ],
   "source": [
    "est.match_data_to_network([[('V_0',)], [('V_0', 'V_0')]],\n",
    "                    {'V_0': ('X_t', ('X_t',))},\n",
    "                    est.data.data_mean,\n",
    "                    est.data.data_variance,\n",
    "                    est.data.data_covariance,\n",
    "                    est.data.data_mean_order,\n",
    "                    est.data.data_variance_order,\n",
    "                    est.data.data_covariance_order)"
   ]
  },
  {
   "cell_type": "code",
   "execution_count": 214,
   "metadata": {},
   "outputs": [
    {
     "data": {
      "text/plain": [
       "(array([[[1.        , 0.67      , 0.37      ],\n",
       "         [0.        , 0.45      , 1.74      ]],\n",
       " \n",
       "        [[0.01      , 0.0469473 , 0.04838822],\n",
       "         [0.01      , 0.07188642, 0.1995514 ]]]),\n",
       " array([[[0.        , 0.22333333, 0.23545455],\n",
       "         [0.        , 0.51262626, 4.03272727]],\n",
       " \n",
       "        [[0.01      , 0.01631605, 0.01293869],\n",
       "         [0.01      , 0.08878719, 0.68612036]]]),\n",
       " array([[[ 0.        , -0.30454545, -0.65030303]],\n",
       " \n",
       "        [[ 0.01      ,  0.0303608 ,  0.06645246]]]))"
      ]
     },
     "execution_count": 214,
     "metadata": {},
     "output_type": "execute_result"
    }
   ],
   "source": [
    "est.match_data_to_network(est.net_simulation.sim_variables_order,\n",
    "                    est.net_simulation.sim_variables_identifier,\n",
    "                    est.data.data_mean,\n",
    "                    est.data.data_variance,\n",
    "                    est.data.data_covariance,\n",
    "                    est.data.data_mean_order,\n",
    "                    est.data.data_variance_order,\n",
    "                    est.data.data_covariance_order)"
   ]
  },
  {
   "cell_type": "code",
   "execution_count": 215,
   "metadata": {},
   "outputs": [
    {
     "data": {
      "text/plain": [
       "(array([[[0.        , 0.45      , 1.74      ],\n",
       "         [1.        , 0.67      , 0.37      ]],\n",
       " \n",
       "        [[0.01      , 0.07188642, 0.1995514 ],\n",
       "         [0.01      , 0.0469473 , 0.04838822]]]),\n",
       " array([[[0.        , 0.51262626, 4.03272727],\n",
       "         [0.        , 0.22333333, 0.23545455]],\n",
       " \n",
       "        [[0.01      , 0.08878719, 0.68612036],\n",
       "         [0.01      , 0.01631605, 0.01293869]]]),\n",
       " array([[[ 0.        , -0.30454545, -0.65030303]],\n",
       " \n",
       "        [[ 0.01      ,  0.0303608 ,  0.06645246]]]))"
      ]
     },
     "execution_count": 215,
     "metadata": {},
     "output_type": "execute_result"
    }
   ],
   "source": [
    "est.match_data_to_network(est.net_simulation.sim_variables_order,\n",
    "                    {'V_0': ('Y_t', ('Y_t',)), 'V_1': ('X_t', ('X_t',))},\n",
    "                    est.data.data_mean,\n",
    "                    est.data.data_variance,\n",
    "                    est.data.data_covariance,\n",
    "                    est.data.data_mean_order,\n",
    "                    est.data.data_variance_order,\n",
    "                    est.data.data_covariance_order)"
   ]
  },
  {
   "cell_type": "code",
   "execution_count": 182,
   "metadata": {},
   "outputs": [],
   "source": [
    "data = me.Data('my_data')\n",
    "variables = ['A']\n",
    "time_values = np.linspace(0.0, 4.0, num=5)\n",
    "count_data = np.array([[[0.0, 0.0, 2.0, 2.0, 4.0], [1.0, 1.0, 1.0, 1.0, 0.0]],\n",
    "                     [[0.0, 1.0, 2.0, 4.0, 4.0], [1.0, 1.0, 0.0, 0.0, 0.0]],\n",
    "                     [[0.0, 1.0, 1.0, 4.0, 4.0], [1.0, 1.0, 0.0, 0.0, 0.0]],\n",
    "                       [[0.0, 0.0, 0.0, 2.0, 4.0], [1.0, 0.0, 0.0, 0.0, 0.0]]])\n",
    "data.load(variables, time_values, count_data)"
   ]
  },
  {
   "cell_type": "code",
   "execution_count": 185,
   "metadata": {},
   "outputs": [
    {
     "data": {
      "text/plain": [
       "array([], shape=(2, 0, 5), dtype=float64)"
      ]
     },
     "execution_count": 185,
     "metadata": {},
     "output_type": "execute_result"
    }
   ],
   "source": [
    "data.data_covariance"
   ]
  },
  {
   "cell_type": "code",
   "execution_count": 194,
   "metadata": {},
   "outputs": [
    {
     "data": {
      "text/plain": [
       "(2, 1, 3)"
      ]
     },
     "execution_count": 194,
     "metadata": {},
     "output_type": "execute_result"
    }
   ],
   "source": [
    "est.data.data_covariance.shape"
   ]
  },
  {
   "cell_type": "code",
   "execution_count": 191,
   "metadata": {},
   "outputs": [
    {
     "data": {
      "text/plain": [
       "3"
      ]
     },
     "execution_count": 191,
     "metadata": {},
     "output_type": "execute_result"
    }
   ],
   "source": [
    "len(est.data.data_time_values)"
   ]
  },
  {
   "cell_type": "code",
   "execution_count": 192,
   "metadata": {},
   "outputs": [
    {
     "data": {
      "text/plain": [
       "['X_t', 'Y_t']"
      ]
     },
     "execution_count": 192,
     "metadata": {},
     "output_type": "execute_result"
    }
   ],
   "source": [
    "est.data.data_variables"
   ]
  },
  {
   "cell_type": "code",
   "execution_count": 201,
   "metadata": {},
   "outputs": [
    {
     "data": {
      "text/plain": [
       "False"
      ]
     },
     "execution_count": 201,
     "metadata": {},
     "output_type": "execute_result"
    }
   ],
   "source": [
    "len(est.data.data_mean_order)==est.data.data_mean.shape[2]"
   ]
  },
  {
   "cell_type": "code",
   "execution_count": 198,
   "metadata": {},
   "outputs": [
    {
     "data": {
      "text/plain": [
       "(2, 2, 3)"
      ]
     },
     "execution_count": 198,
     "metadata": {},
     "output_type": "execute_result"
    }
   ],
   "source": [
    "est.data.data_variance.shape"
   ]
  },
  {
   "cell_type": "code",
   "execution_count": 210,
   "metadata": {},
   "outputs": [
    {
     "data": {
      "text/plain": [
       "['X_t', 'Y_t']"
      ]
     },
     "execution_count": 210,
     "metadata": {},
     "output_type": "execute_result"
    }
   ],
   "source": [
    "list(sim_variables.keys())"
   ]
  },
  {
   "cell_type": "code",
   "execution_count": 213,
   "metadata": {},
   "outputs": [
    {
     "data": {
      "text/plain": [
       "[('V_0',), ('V_1',)]"
      ]
     },
     "execution_count": 213,
     "metadata": {},
     "output_type": "execute_result"
    }
   ],
   "source": [
    "est.net_simulation.sim_variables_order[0]"
   ]
  },
  {
   "cell_type": "code",
   "execution_count": 2,
   "metadata": {},
   "outputs": [],
   "source": [
    "data = me.Data('my_data')"
   ]
  },
  {
   "cell_type": "code",
   "execution_count": 3,
   "metadata": {},
   "outputs": [
    {
     "data": {
      "text/plain": [
       "memo_py.data.Data"
      ]
     },
     "execution_count": 3,
     "metadata": {},
     "output_type": "execute_result"
    }
   ],
   "source": [
    "type(data)"
   ]
  },
  {
   "cell_type": "code",
   "execution_count": 4,
   "metadata": {},
   "outputs": [],
   "source": [
    "net = me.Network('net_test')\n",
    "data = me.Data('data_test')\n",
    "est_test = me.Estimation('est_test', net, data)"
   ]
  },
  {
   "cell_type": "code",
   "execution_count": 8,
   "metadata": {},
   "outputs": [
    {
     "data": {
      "text/plain": [
       "memo_py.network.Network"
      ]
     },
     "execution_count": 8,
     "metadata": {},
     "output_type": "execute_result"
    }
   ],
   "source": [
    "type(net)"
   ]
  },
  {
   "cell_type": "code",
   "execution_count": 10,
   "metadata": {},
   "outputs": [],
   "source": [
    "init_vals = [{'X_t': 1.0}]*2"
   ]
  },
  {
   "cell_type": "code",
   "execution_count": 14,
   "metadata": {},
   "outputs": [
    {
     "data": {
      "text/plain": [
       "True"
      ]
     },
     "execution_count": 14,
     "metadata": {},
     "output_type": "execute_result"
    }
   ],
   "source": [
    "all(isinstance(e, dict) for e in init_vals)"
   ]
  },
  {
   "cell_type": "code",
   "execution_count": 15,
   "metadata": {},
   "outputs": [
    {
     "data": {
      "text/plain": [
       "bool"
      ]
     },
     "execution_count": 15,
     "metadata": {},
     "output_type": "execute_result"
    }
   ],
   "source": [
    "type(True)"
   ]
  },
  {
   "cell_type": "code",
   "execution_count": 23,
   "metadata": {},
   "outputs": [],
   "source": [
    "net = me.Network('net_div_g5')\n",
    "net.structure([{'start': 'X_t', 'end': 'X_t',\n",
    "                'rate_symbol': 'l',\n",
    "                'type': 'S -> S + S', 'reaction_steps': 5}])\n",
    "\n",
    "num_iter = 100\n",
    "initial_values = {'X_t': 1}\n",
    "theta_values = {'l': 0.22}\n",
    "time_values = np.array([0.0, 10.0])\n",
    "variables = {'X_t': ('X_t', )}\n",
    "\n",
    "sim = me.Simulation(net)\n",
    "res_list = list()\n",
    "\n",
    "for __ in range(num_iter):\n",
    "    res_list.append(sim.simulate('gillespie', initial_values, theta_values, time_values, variables)[1])\n",
    "\n",
    "sims = np.array(res_list)\n",
    "\n",
    "data = me.Data('data_test_select_models')\n",
    "data.load(['X_t',], time_values, sims, bootstrap_samples=10000, basic_sigma=1/num_iter)\n",
    "\n",
    "# overwrite with known values (from a num_iter=100 simulation)\n",
    "data.data_mean = np.array([[[1.         , 3.73      ]],\n",
    "                           [[0.01       , 0.15406761]]])\n",
    "data.data_variance = np.array([[[0.         , 2.36070707]],\n",
    "                               [[0.01       , 0.32208202]]])\n",
    "\n",
    "net1 = me.Network('net_l2')\n",
    "net1.structure([{'start': 'X_t', 'end': 'X_t',\n",
    "                 'rate_symbol': 'l',\n",
    "                 'type': 'S -> S + S',\n",
    "                 'reaction_steps': 2}])\n",
    "\n",
    "net2 = me.Network('net_l5')\n",
    "net2.structure([{'start': 'X_t', 'end': 'X_t',\n",
    "                 'rate_symbol': 'l',\n",
    "                 'type': 'S -> S + S',\n",
    "                 'reaction_steps': 5}])\n",
    "\n",
    "nets = [net1, net2]\n",
    "variables = [{'X_t': ('X_t', )}]*2\n",
    "initial_values = [{'X_t': 1.0}]*2\n",
    "theta_bounds = [{'l': (0.0, 0.5)}]*2"
   ]
  },
  {
   "cell_type": "code",
   "execution_count": 24,
   "metadata": {},
   "outputs": [
    {
     "data": {
      "text/plain": [
       "array([[[0.        , 2.36070707]],\n",
       "\n",
       "       [[0.01      , 0.32208202]]])"
      ]
     },
     "execution_count": 24,
     "metadata": {},
     "output_type": "execute_result"
    }
   ],
   "source": [
    "data.data_variance"
   ]
  },
  {
   "cell_type": "code",
   "execution_count": 25,
   "metadata": {},
   "outputs": [
    {
     "data": {
      "application/vnd.jupyter.widget-view+json": {
       "model_id": "61c442bf630046f0a001509c5e0c0124",
       "version_major": 2,
       "version_minor": 0
      },
      "text/plain": [
       "HBox(children=(FloatProgress(value=0.0, max=2.0), HTML(value='')))"
      ]
     },
     "metadata": {},
     "output_type": "display_data"
    },
    {
     "name": "stdout",
     "output_type": "stream",
     "text": [
      "\n"
     ]
    }
   ],
   "source": [
    "# then the inference is started with\n",
    "est_res = me.selection.select_models(nets, variables, initial_values, theta_bounds, data)"
   ]
  },
  {
   "cell_type": "code",
   "execution_count": 28,
   "metadata": {},
   "outputs": [
    {
     "data": {
      "text/plain": [
       "4.845661959522118"
      ]
     },
     "execution_count": 28,
     "metadata": {},
     "output_type": "execute_result"
    }
   ],
   "source": [
    "# est_res[0].bay_est_log_evidence\n",
    "est_res[1].bay_est_log_evidence"
   ]
  },
  {
   "cell_type": "code",
   "execution_count": 29,
   "metadata": {},
   "outputs": [
    {
     "data": {
      "image/png": "[encoded data removed]",
      "text/plain": [
       "<Figure size 432x288 with 1 Axes>"
      ]
     },
     "metadata": {
      "needs_background": "light"
     },
     "output_type": "display_data"
    },
    {
     "data": {
      "image/png": "[encoded data removed]",
      "text/plain": [
       "<Figure size 432x288 with 1 Axes>"
      ]
     },
     "metadata": {
      "needs_background": "light"
     },
     "output_type": "display_data"
    },
    {
     "data": {
      "image/png": "[encoded data removed]",
      "text/plain": [
       "<Figure size 244.8x244.8 with 1 Axes>"
      ]
     },
     "metadata": {
      "needs_background": "light"
     },
     "output_type": "display_data"
    },
    {
     "data": {
      "image/png": "[encoded data removed]",
      "text/plain": [
       "<Figure size 244.8x244.8 with 1 Axes>"
      ]
     },
     "metadata": {
      "needs_background": "light"
     },
     "output_type": "display_data"
    }
   ],
   "source": [
    "me.plots.est_bestfit_mean_plot(est_res[1])\n",
    "me.plots.est_bestfit_variance_plot(est_res[1])\n",
    "me.plots.est_corner_plot(est_res[1])\n",
    "me.plots.est_corner_plot(est_res[0])"
   ]
  },
  {
   "cell_type": "markdown",
   "metadata": {},
   "source": [
    "##### tests for simulations"
   ]
  },
  {
   "cell_type": "code",
   "execution_count": 21,
   "metadata": {},
   "outputs": [],
   "source": [
    "net = me.Network('net_div_l15')\n",
    "net.structure([{'start': 'X_t', 'end': 'X_t',\n",
    "                'rate_symbol': 'l',\n",
    "                'type': 'S -> S + S', 'reaction_steps': 15}])\n",
    "\n",
    "initial_values = {'X_t': 1}\n",
    "theta_values = {'l': 0.23}\n",
    "time_values = np.linspace(0.0, 10.0, endpoint=True, num=11)\n",
    "variables = {'X_t': ('X_t', )}\n",
    "\n",
    "sim = me.Simulation(net)\n",
    "sim_res_mom = sim.simulate('moments', initial_values, theta_values, time_values, variables)"
   ]
  },
  {
   "cell_type": "code",
   "execution_count": 22,
   "metadata": {},
   "outputs": [
    {
     "data": {
      "image/png": "[encoded data removed]",
      "text/plain": [
       "<Figure size 432x288 with 1 Axes>"
      ]
     },
     "metadata": {
      "needs_background": "light"
     },
     "output_type": "display_data"
    },
    {
     "data": {
      "image/png": "[encoded data removed]",
      "text/plain": [
       "<Figure size 432x288 with 1 Axes>"
      ]
     },
     "metadata": {
      "needs_background": "light"
     },
     "output_type": "display_data"
    },
    {
     "name": "stderr",
     "output_type": "stream",
     "text": [
      "No handles with labels found to put in legend.\n"
     ]
    },
    {
     "data": {
      "image/png": "[encoded data removed]",
      "text/plain": [
       "<Figure size 432x288 with 1 Axes>"
      ]
     },
     "metadata": {
      "needs_background": "light"
     },
     "output_type": "display_data"
    },
    {
     "data": {
      "text/plain": [
       "(array([[1.        , 1.0000036 , 1.00504242, 1.1029673 , 1.40858873,\n",
       "         1.74539991, 1.9836416 , 2.2599425 , 2.69956532, 3.24078993,\n",
       "         3.79706324]]),\n",
       " array([[0.00000000e+00, 3.59865514e-06, 5.01699099e-03, 9.23670549e-02,\n",
       "         2.42073295e-01, 2.03605526e-01, 1.56235900e-01, 3.31027260e-01,\n",
       "         6.27340021e-01, 7.62571027e-01, 8.43506503e-01]]),\n",
       " array([], shape=(0, 11), dtype=float64))"
      ]
     },
     "execution_count": 22,
     "metadata": {},
     "output_type": "execute_result"
    }
   ],
   "source": [
    "me.plots.sim_mean_plot(sim)\n",
    "me.plots.sim_variance_plot(sim)\n",
    "me.plots.sim_covariance_plot(sim)\n",
    "sim.sim_moments_res"
   ]
  },
  {
   "cell_type": "code",
   "execution_count": 46,
   "metadata": {},
   "outputs": [],
   "source": [
    "net = me.Network('net_div_l15')\n",
    "net.structure([{'start': 'X_t', 'end': 'X_t',\n",
    "                'rate_symbol': 'l',\n",
    "                'type': 'S -> S + S', 'reaction_steps': 15}])\n",
    "\n",
    "initial_values = {'X_t': 1}\n",
    "theta_values = {'l': 0.23}\n",
    "time_values = np.linspace(0.0, 10.0, endpoint=True, num=11)\n",
    "variables = {'X_t': ('X_t', )}\n",
    "\n",
    "num_iter = 100000\n",
    "sim = me.Simulation(net)\n",
    "res_list = list()\n",
    "for __ in range(num_iter):\n",
    "    res_list.append(sim.simulate('gillespie', initial_values, theta_values, time_values, variables)[1])\n",
    "\n",
    "sims = np.array(res_list)"
   ]
  },
  {
   "cell_type": "code",
   "execution_count": 49,
   "metadata": {},
   "outputs": [
    {
     "data": {
      "text/plain": [
       "array([[1.     , 1.     , 1.00493, 1.10301, 1.40927, 1.74484, 1.98433,\n",
       "        2.26114, 2.69884, 3.2382 , 3.79592]])"
      ]
     },
     "execution_count": 49,
     "metadata": {},
     "output_type": "execute_result"
    }
   ],
   "source": [
    "np.mean(sims, axis=0)"
   ]
  },
  {
   "cell_type": "code",
   "execution_count": 50,
   "metadata": {},
   "outputs": [
    {
     "data": {
      "text/plain": [
       "array([[0.        , 0.        , 0.00490574, 0.09239986, 0.24225049,\n",
       "        0.20399541, 0.15758603, 0.33282923, 0.62928895, 0.76288839,\n",
       "        0.8444798 ]])"
      ]
     },
     "execution_count": 50,
     "metadata": {},
     "output_type": "execute_result"
    }
   ],
   "source": [
    "np.var(sims, axis=0, ddof=1)"
   ]
  },
  {
   "cell_type": "code",
   "execution_count": 2,
   "metadata": {},
   "outputs": [],
   "source": [
    "\n",
    "initial_values = {'X_t': 1, 'Y_t': 0}\n",
    "theta_values = {'l': 0.06, 'd': 0.04}\n",
    "time_values = np.linspace(0.0, 54.0, num=28, endpoint=True)\n",
    "variables = {'X_t': ('X_t', ), 'Y_t': ('Y_t', )}\n",
    "\n",
    "net = me.Network('net_test_1')\n",
    "net.structure([\n",
    "    {'start': 'X_t', 'end': 'Y_t', 'rate_symbol': 'd', 'type': 'S -> E', 'reaction_steps': 4},\n",
    "    {'start': 'Y_t', 'end': 'Y_t', 'rate_symbol': 'l', 'type': 'S -> S + S', 'reaction_steps': 3}\n",
    "    ])\n",
    "\n",
    "sim = me.Simulation(net)\n",
    "res = sim.simulate('moments', initial_values, theta_values, time_values, variables)"
   ]
  },
  {
   "cell_type": "code",
   "execution_count": 5,
   "metadata": {},
   "outputs": [
    {
     "data": {
      "image/png": "[encoded data removed]",
      "text/plain": [
       "<Figure size 432x288 with 1 Axes>"
      ]
     },
     "metadata": {
      "needs_background": "light"
     },
     "output_type": "display_data"
    },
    {
     "data": {
      "image/png": "[encoded data removed]",
      "text/plain": [
       "<Figure size 432x288 with 1 Axes>"
      ]
     },
     "metadata": {
      "needs_background": "light"
     },
     "output_type": "display_data"
    },
    {
     "data": {
      "image/png": "[encoded data removed]",
      "text/plain": [
       "<Figure size 432x288 with 1 Axes>"
      ]
     },
     "metadata": {
      "needs_background": "light"
     },
     "output_type": "display_data"
    },
    {
     "data": {
      "text/plain": [
       "(array([[1.00000000e+00, 9.99661300e-01, 9.95786822e-01, 9.83366954e-01,\n",
       "         9.58874286e-01, 9.21186515e-01, 8.71262892e-01, 8.11430693e-01,\n",
       "         7.44676766e-01, 6.74094967e-01, 6.02519716e-01, 5.32323178e-01,\n",
       "         4.65336116e-01, 4.02852123e-01, 3.45681548e-01, 2.94229914e-01,\n",
       "         2.48583556e-01, 2.08591717e-01, 1.73939147e-01, 1.44206591e-01,\n",
       "         1.18918774e-01, 9.75807212e-02, 7.97039295e-02, 6.48240663e-02,\n",
       "         5.25120773e-02, 4.23801158e-02, 3.40838378e-02, 2.73219929e-02],\n",
       "        [0.00000000e+00, 3.38772857e-04, 4.22009262e-03, 1.67215423e-02,\n",
       "         4.16241791e-02, 8.06083680e-02, 1.33617836e-01, 1.99525682e-01,\n",
       "         2.76739218e-01, 3.63634007e-01, 4.58818192e-01, 5.61265730e-01,\n",
       "         6.70361616e-01, 7.85894491e-01, 9.08021977e-01, 1.03722529e+00,\n",
       "         1.17426313e+00, 1.32013046e+00, 1.47602480e+00, 1.64332093e+00,\n",
       "         1.82355402e+00, 2.01841042e+00, 2.22972532e+00, 2.45948640e+00,\n",
       "         2.70984247e+00, 2.98311663e+00, 3.28182300e+00, 3.60868691e+00]]),\n",
       " array([[0.00000000e+00, 3.38585676e-04, 4.19542729e-03, 1.63563879e-02,\n",
       "         3.94343898e-02, 7.26019193e-02, 1.12163865e-01, 1.53010923e-01,\n",
       "         1.90133280e-01, 2.19690943e-01, 2.39489708e-01, 2.48955212e-01,\n",
       "         2.48798415e-01, 2.40562290e-01, 2.26185816e-01, 2.07658672e-01,\n",
       "         1.86789772e-01, 1.65081213e-01, 1.43684320e-01, 1.23411050e-01,\n",
       "         1.04777099e-01, 8.80587240e-02, 7.33512132e-02, 6.06219068e-02,\n",
       "         4.97545591e-02, 4.05840416e-02, 3.29221298e-02, 2.65755016e-02],\n",
       "        [0.00000000e+00, 3.38803034e-04, 4.21612622e-03, 1.66195131e-02,\n",
       "         4.08962765e-02, 7.77541268e-02, 1.25774835e-01, 1.82506706e-01,\n",
       "         2.45524937e-01, 3.13171241e-01, 3.84932265e-01, 4.61544157e-01,\n",
       "         5.44942233e-01, 6.38155787e-01, 7.45214674e-01, 8.71104465e-01,\n",
       "         1.02178677e+00, 1.20429010e+00, 1.42687214e+00, 1.69925365e+00,\n",
       "         2.03292608e+00, 2.44153841e+00, 2.94137389e+00, 3.55192500e+00,\n",
       "         4.29658892e+00, 5.20350641e+00, 6.30656621e+00, 7.64661662e+00]]),\n",
       " array([[ 0.        , -0.00033866, -0.00420231, -0.01644341, -0.03991236,\n",
       "         -0.07425534, -0.11641626, -0.16190126, -0.20608127, -0.24512385,\n",
       "         -0.27644701, -0.29877476, -0.31194347, -0.31659926, -0.31388644,\n",
       "         -0.30518271, -0.2919025 , -0.27536828, -0.25673849, -0.23697771,\n",
       "         -0.21685481, -0.19695794, -0.17771787, -0.15943391, -0.14229946,\n",
       "         -0.12642483, -0.11185712, -0.09859652]]))"
      ]
     },
     "execution_count": 5,
     "metadata": {},
     "output_type": "execute_result"
    }
   ],
   "source": [
    "me.plots.sim_mean_plot(sim)\n",
    "me.plots.sim_variance_plot(sim)\n",
    "me.plots.sim_covariance_plot(sim)\n",
    "sim.sim_moments_res"
   ]
  },
  {
   "cell_type": "code",
   "execution_count": 11,
   "metadata": {},
   "outputs": [],
   "source": [
    "net = me.Network('net_min')\n",
    "net.structure([\n",
    "    {'start': 'X_t', 'end': 'Y_t', 'rate_symbol': 'd', 'type': 'S -> E', 'reaction_steps': 4},\n",
    "    {'start': 'Y_t', 'end': 'Y_t', 'rate_symbol': 'l', 'type': 'S -> S + S', 'reaction_steps': 3}\n",
    "    ])\n",
    "\n",
    "initial_values = {'X_t': 1, 'Y_t': 0}\n",
    "theta_values = {'l': 0.06, 'd': 0.04}\n",
    "time_values = np.linspace(0.0, 54.0, num=28, endpoint=True)\n",
    "variables = {'X_t': ('X_t', ), 'Y_t': ('Y_t', )}\n",
    "\n",
    "num_iter = 100000\n",
    "sim = me.Simulation(net)\n",
    "res_list = list()\n",
    "for __ in range(num_iter):\n",
    "    res_list.append(sim.simulate('gillespie', initial_values, theta_values, time_values, variables)[1])\n",
    "\n",
    "sims = np.array(res_list)"
   ]
  },
  {
   "cell_type": "code",
   "execution_count": 12,
   "metadata": {},
   "outputs": [
    {
     "data": {
      "text/plain": [
       "array([[1.00000e+00, 9.99530e-01, 9.95480e-01, 9.83160e-01, 9.58880e-01,\n",
       "        9.21070e-01, 8.71110e-01, 8.11450e-01, 7.47190e-01, 6.77130e-01,\n",
       "        6.04910e-01, 5.35250e-01, 4.67990e-01, 4.04650e-01, 3.47950e-01,\n",
       "        2.96460e-01, 2.51030e-01, 2.11430e-01, 1.75970e-01, 1.45980e-01,\n",
       "        1.21450e-01, 9.95900e-02, 8.10600e-02, 6.65400e-02, 5.43100e-02,\n",
       "        4.37800e-02, 3.51900e-02, 2.80700e-02],\n",
       "       [0.00000e+00, 4.70000e-04, 4.53000e-03, 1.69600e-02, 4.16900e-02,\n",
       "        8.06800e-02, 1.33540e-01, 1.99480e-01, 2.74680e-01, 3.61030e-01,\n",
       "        4.56120e-01, 5.58050e-01, 6.67250e-01, 7.82160e-01, 9.04820e-01,\n",
       "        1.03354e+00, 1.16850e+00, 1.31146e+00, 1.46749e+00, 1.63472e+00,\n",
       "        1.81542e+00, 2.00863e+00, 2.21956e+00, 2.44913e+00, 2.69783e+00,\n",
       "        2.97141e+00, 3.26897e+00, 3.59363e+00]])"
      ]
     },
     "execution_count": 12,
     "metadata": {},
     "output_type": "execute_result"
    }
   ],
   "source": [
    "np.mean(sims, axis=0)"
   ]
  },
  {
   "cell_type": "code",
   "execution_count": 13,
   "metadata": {},
   "outputs": [
    {
     "data": {
      "text/plain": [
       "array([[0.00000000e+00, 4.69783798e-04, 4.49961460e-03, 1.65565800e-02,\n",
       "        3.94295399e-02, 7.27007821e-02, 1.12278491e-01, 1.53000428e-01,\n",
       "        1.88898993e-01, 2.18627149e-01, 2.38996282e-01, 2.48759925e-01,\n",
       "        2.48977850e-01, 2.40910787e-01, 2.26883066e-01, 2.08573554e-01,\n",
       "        1.88015819e-01, 1.66729022e-01, 1.45006009e-01, 1.24671086e-01,\n",
       "        1.06700965e-01, 8.96727286e-02, 7.44900213e-02, 6.21130495e-02,\n",
       "        5.13609375e-02, 4.18637302e-02, 3.39520034e-02, 2.72823479e-02],\n",
       "       [0.00000000e+00, 4.69783798e-04, 4.52952440e-03, 1.69125275e-02,\n",
       "        4.10923548e-02, 7.76715143e-02, 1.25248321e-01, 1.82409554e-01,\n",
       "        2.45593354e-01, 3.13370473e-01, 3.83918385e-01, 4.61594813e-01,\n",
       "        5.45852896e-01, 6.37712112e-01, 7.49148259e-01, 8.74603814e-01,\n",
       "        1.02163797e+00, 1.20002467e+00, 1.41959730e+00, 1.69802750e+00,\n",
       "        2.03763060e+00, 2.43713989e+00, 2.93098272e+00, 3.55528780e+00,\n",
       "        4.30866638e+00, 5.20978471e+00, 6.29272807e+00, 7.63592978e+00]])"
      ]
     },
     "execution_count": 13,
     "metadata": {},
     "output_type": "execute_result"
    }
   ],
   "source": [
    "np.var(sims, axis=0, ddof=1)"
   ]
  },
  {
   "cell_type": "code",
   "execution_count": 14,
   "metadata": {},
   "outputs": [
    {
     "data": {
      "text/plain": [
       "array([ 0.        , -0.00046978, -0.00450957, -0.01667456, -0.03997611,\n",
       "       -0.07431267, -0.11632919, -0.16186966, -0.2052402 , -0.24446669,\n",
       "       -0.27591431, -0.29869925, -0.31226945, -0.31650421, -0.31483527,\n",
       "       -0.30640633, -0.29333149, -0.27728476, -0.2582368 , -0.23863881,\n",
       "       -0.22048496, -0.20004146, -0.17991933, -0.16296674, -0.14652061,\n",
       "       -0.13008963, -0.1150362 , -0.1008742 ])"
      ]
     },
     "execution_count": 14,
     "metadata": {},
     "output_type": "execute_result"
    }
   ],
   "source": [
    "np.array([np.cov(sims[:, 0, i], sims[:, 1, i], ddof=1)[1,0] for i in range(sims.shape[2])])"
   ]
  },
  {
   "cell_type": "code",
   "execution_count": 18,
   "metadata": {
    "jupyter": {
     "source_hidden": true
    }
   },
   "outputs": [],
   "source": [
    "def gill_indep_test_1(initial_state, time_values, d, l, num_iter):\n",
    "    # initialisation\n",
    "    res = np.zeros((num_iter, 7, time_values.shape[0]))\n",
    "\n",
    "    for i in range(num_iter):\n",
    "        time_current = time_values[0]\n",
    "        time_max = time_values[-1]\n",
    "        cell_state = np.zeros(7)\n",
    "        cell_state = copy.deepcopy(initial_state)\n",
    "\n",
    "#         print('iter: ', i)\n",
    "#         print('time_current: ', time_current)\n",
    "#         print('time_max: ', time_max)\n",
    "#         print('cell_state: ', cell_state)\n",
    "\n",
    "        while time_current <= time_max:\n",
    "            # reaction propensities\n",
    "            reac_props = np.array([\n",
    "                4.0 * d * cell_state[0], # d from Xcentric to X0\n",
    "                4.0 * d * cell_state[1], # d from X0 to X1\n",
    "                4.0 * d * cell_state[2], # d from X1 to X2\n",
    "                4.0 * d * cell_state[3], # d from X2 to Ycentric\n",
    "                3.0 * l * cell_state[4], # l from Ycentric to Y0\n",
    "                3.0 * l * cell_state[5], # l from Y0 to Y1\n",
    "                3.0 * l * cell_state[6], # l from Y1 to Ycentric\n",
    "            ])\n",
    "#             print('\\n while start')\n",
    "#             print('reac_props: ', reac_props)\n",
    "\n",
    "            # draw exponential random time for next reaction\n",
    "            total_prop = np.sum(reac_props)\n",
    "            dt = np.random.exponential(1.0/total_prop)\n",
    "\n",
    "#             print('total_prop: ', total_prop)\n",
    "#             print('dt: ', dt)\n",
    "\n",
    "            # save cell state results for relevant time points\n",
    "            for ind in np.where((time_values >= time_current)\n",
    "                                & (time_values < time_current + dt))[0]:\n",
    "                res[i, :, ind] = copy.deepcopy(cell_state).reshape((1,7))\n",
    "\n",
    "#             print('res: ', res)\n",
    "\n",
    "            # draw which reaction takes place\n",
    "            reac_probs = reac_props/np.sum(reac_props)\n",
    "            reac_rand = np.random.choice(reac_props.shape[0], p=reac_probs)\n",
    "\n",
    "#             print('reac_probs: ', reac_probs)\n",
    "#             print('reac_rand: ', reac_rand)\n",
    "\n",
    "            # update cell state according to selected reaction\n",
    "            # differentiation\n",
    "            if reac_rand==0:\n",
    "                cell_state[0] += -1.0\n",
    "                cell_state[1] += +1.0\n",
    "            elif reac_rand==1:\n",
    "                cell_state[1] += -1.0\n",
    "                cell_state[2] += +1.0\n",
    "            elif reac_rand==2:\n",
    "                cell_state[2] += -1.0\n",
    "                cell_state[3] += +1.0\n",
    "            elif reac_rand==3:\n",
    "                cell_state[3] += -1.0\n",
    "                cell_state[4] += +1.0\n",
    "\n",
    "            # division\n",
    "            elif reac_rand==4:\n",
    "                cell_state[4] += -1.0\n",
    "                cell_state[5] += +1.0\n",
    "            elif reac_rand==5:\n",
    "                cell_state[5] += -1.0\n",
    "                cell_state[6] += +1.0\n",
    "            elif reac_rand==6:\n",
    "                cell_state[6] += -1.0\n",
    "                cell_state[4] += +2.0\n",
    "            else:\n",
    "                print('error')\n",
    "\n",
    "            # update current time by delta t\n",
    "            time_current += dt\n",
    "\n",
    "#             print('cell_state: ', cell_state)\n",
    "#             print('time_current: ', time_current)\n",
    "#             print('\\n')\n",
    "\n",
    "    # sum hidden states to get observable layer\n",
    "    res_obs = np.zeros((num_iter, 2, time_values.shape[0]))\n",
    "    res_obs[:, 0, :] = np.sum(res[:, (0,1,2,3), :], axis=1)\n",
    "    res_obs[:, 1, :] = np.sum(res[:, (4,5,6), :], axis=1)\n",
    "    return res_obs"
   ]
  },
  {
   "cell_type": "code",
   "execution_count": 28,
   "metadata": {},
   "outputs": [],
   "source": [
    "# order of the variables of the hidden layer\n",
    "# X centric, X diff 0, X diff 1, X diff 2, Y centric, Y div 0, Y div 1\n",
    "initial_values = np.array([1.0, 0.0, 0.0, 0.0, 0.0, 0.0, 0.0])\n",
    "time_values = np.linspace(0.0, 54.0, num=28, endpoint=True)\n",
    "d = 0.04\n",
    "l = 0.06\n",
    "num_iter = 100000\n",
    "\n",
    "# save result as external simulation results\n",
    "sims = gill_indep_test_1(initial_values, time_values, d, l, num_iter)"
   ]
  },
  {
   "cell_type": "code",
   "execution_count": 29,
   "metadata": {},
   "outputs": [
    {
     "data": {
      "text/plain": [
       "array([[1.00000e+00, 9.99650e-01, 9.95750e-01, 9.83370e-01, 9.58770e-01,\n",
       "        9.20350e-01, 8.71090e-01, 8.11320e-01, 7.44530e-01, 6.74820e-01,\n",
       "        6.02140e-01, 5.32020e-01, 4.65220e-01, 4.02320e-01, 3.45360e-01,\n",
       "        2.94870e-01, 2.48850e-01, 2.09330e-01, 1.73650e-01, 1.43200e-01,\n",
       "        1.18660e-01, 9.80300e-02, 8.02000e-02, 6.51500e-02, 5.28200e-02,\n",
       "        4.25100e-02, 3.41700e-02, 2.79700e-02],\n",
       "       [0.00000e+00, 3.50000e-04, 4.25000e-03, 1.67500e-02, 4.18300e-02,\n",
       "        8.15000e-02, 1.33830e-01, 1.99760e-01, 2.77570e-01, 3.63560e-01,\n",
       "        4.59590e-01, 5.62800e-01, 6.71670e-01, 7.88180e-01, 9.11180e-01,\n",
       "        1.04066e+00, 1.17833e+00, 1.32300e+00, 1.48030e+00, 1.64735e+00,\n",
       "        1.82632e+00, 2.01993e+00, 2.22942e+00, 2.46117e+00, 2.71453e+00,\n",
       "        2.98650e+00, 3.28881e+00, 3.61411e+00]])"
      ]
     },
     "execution_count": 29,
     "metadata": {},
     "output_type": "execute_result"
    }
   ],
   "source": [
    "np.mean(sims, axis=0)"
   ]
  },
  {
   "cell_type": "code",
   "execution_count": 30,
   "metadata": {},
   "outputs": [
    {
     "data": {
      "text/plain": [
       "array([[0.00000000e+00, 3.49880999e-04, 4.23197982e-03, 1.63536066e-02,\n",
       "        3.95304824e-02, 7.33066106e-02, 1.12293335e-01, 1.53081388e-01,\n",
       "        1.90206981e-01, 2.19440162e-01, 2.39569816e-01, 2.48977209e-01,\n",
       "        2.48792840e-01, 2.40461022e-01, 2.26088731e-01, 2.07923762e-01,\n",
       "        1.86925547e-01, 1.65512606e-01, 1.43497112e-01, 1.22694987e-01,\n",
       "        1.04580850e-01, 8.84210033e-02, 7.37686977e-02, 6.09060866e-02,\n",
       "        5.00305479e-02, 4.07033069e-02, 3.30027411e-02, 2.71879510e-02],\n",
       "       [0.00000000e+00, 3.49880999e-04, 4.23197982e-03, 1.67096046e-02,\n",
       "        4.13006641e-02, 7.86585366e-02, 1.26000791e-01, 1.82957772e-01,\n",
       "        2.47507370e-01, 3.14787274e-01, 3.85850890e-01, 4.63920799e-01,\n",
       "        5.49894910e-01, 6.42418712e-01, 7.52358531e-01, 8.80135566e-01,\n",
       "        1.03315874e+00, 1.21644316e+00, 1.44056632e+00, 1.71260510e+00,\n",
       "        2.04427570e+00, 2.45859738e+00, 2.95611602e+00, 3.58072804e+00,\n",
       "        4.35016038e+00, 5.24087016e+00, 6.38366262e+00, 7.75105642e+00]])"
      ]
     },
     "execution_count": 30,
     "metadata": {},
     "output_type": "execute_result"
    }
   ],
   "source": [
    "np.var(sims, axis=0, ddof=1)"
   ]
  },
  {
   "cell_type": "code",
   "execution_count": 31,
   "metadata": {},
   "outputs": [
    {
     "data": {
      "text/plain": [
       "array([ 0.        , -0.00034988, -0.00423198, -0.01647161, -0.04010575,\n",
       "       -0.07500928, -0.11657914, -0.1620709 , -0.20666126, -0.24534001,\n",
       "       -0.27674029, -0.29942385, -0.31247744, -0.31710375, -0.31468827,\n",
       "       -0.30686248, -0.29323035, -0.27694636, -0.25705667, -0.23590288,\n",
       "       -0.2167133 , -0.19801572, -0.17880127, -0.16034683, -0.14338291,\n",
       "       -0.12695738, -0.11237976, -0.10108767])"
      ]
     },
     "execution_count": 31,
     "metadata": {},
     "output_type": "execute_result"
    }
   ],
   "source": [
    "np.array([np.cov(sims[:, 0, i], sims[:, 1, i], ddof=1)[1,0] for i in range(sims.shape[2])])"
   ]
  },
  {
   "cell_type": "code",
   "execution_count": 33,
   "metadata": {},
   "outputs": [],
   "source": [
    "# current implementation way of two parallel channels\n",
    "# (this should be replaced by multichannel nets at some point)\n",
    "net = me.Network('net_par2')\n",
    "net.structure([\n",
    "    {'start': 'S_t', 'end': 'P1_t', 'rate_symbol': 'd4', 'type': 'S -> E', 'reaction_steps': int(4/2)},\n",
    "    {'start': 'P1_t', 'end': 'Y_t', 'rate_symbol': 'd4', 'type': 'S -> E', 'reaction_steps': int(4/2)},\n",
    "\n",
    "    {'start': 'S_t', 'end': 'P2_t', 'rate_symbol': 'd2', 'type': 'S -> E', 'reaction_steps': int(2/2)},\n",
    "    {'start': 'P2_t', 'end': 'Y_t', 'rate_symbol': 'd2', 'type': 'S -> E', 'reaction_steps': int(2/2)},\n",
    "\n",
    "    {'start': 'Y_t', 'end': 'Y_t', 'rate_symbol': 'l', 'type': 'S -> S + S', 'reaction_steps': 3}\n",
    "    ])\n",
    "\n",
    "initial_values = {'S_t': 1, 'Y_t': 0, 'P1_t': 0, 'P2_t': 0}\n",
    "theta_values = {'l': 0.06, 'd4': 0.06, 'd2': 0.08}\n",
    "time_values = np.linspace(0.0, 54.0, num=28, endpoint=True)\n",
    "variables = {'X_t': ('S_t', 'P1_t', 'P2_t'), 'Y_t': ('Y_t', )}\n",
    "\n",
    "sim = me.Simulation(net)\n",
    "sim_res_mom = sim.simulate('moments', initial_values, theta_values, time_values, variables)"
   ]
  },
  {
   "cell_type": "code",
   "execution_count": 35,
   "metadata": {},
   "outputs": [
    {
     "data": {
      "image/png": "[encoded data removed]",
      "text/plain": [
       "<Figure size 432x288 with 1 Axes>"
      ]
     },
     "metadata": {
      "needs_background": "light"
     },
     "output_type": "display_data"
    },
    {
     "data": {
      "image/png": "[encoded data removed]",
      "text/plain": [
       "<Figure size 432x288 with 1 Axes>"
      ]
     },
     "metadata": {
      "needs_background": "light"
     },
     "output_type": "display_data"
    },
    {
     "data": {
      "image/png": "[encoded data removed]",
      "text/plain": [
       "<Figure size 432x288 with 1 Axes>"
      ]
     },
     "metadata": {
      "needs_background": "light"
     },
     "output_type": "display_data"
    },
    {
     "data": {
      "text/plain": [
       "(array([[1.        , 0.9892332 , 0.9628573 , 0.92641326, 0.88291527,\n",
       "         0.83425905, 0.78189005, 0.72708038, 0.671013  , 0.61478239,\n",
       "         0.55936821, 0.50560865, 0.45418393, 0.40561213, 0.36025565,\n",
       "         0.31833546, 0.27994993, 0.24509568, 0.21368863, 0.18558362,\n",
       "         0.16059206, 0.13849701, 0.11906575, 0.10205975, 0.08724246,\n",
       "         0.07438504, 0.06327037, 0.05369577],\n",
       "        [0.        , 0.01077441, 0.03733088, 0.07470416, 0.1208133 ,\n",
       "         0.1748674 , 0.23655813, 0.30571417, 0.38219578, 0.46589589,\n",
       "         0.55677665, 0.6549082 , 0.76049766, 0.8739066 , 0.99565908,\n",
       "         1.12644342, 1.2671107 , 1.41867221, 1.58229732, 1.75931293,\n",
       "         1.95120503, 2.15962273, 2.38638491, 2.63348958, 2.90312602,\n",
       "         3.1976896 , 3.51979935, 3.87231827]]),\n",
       " array([[0.00000000e+00, 1.06508802e-02, 3.57631223e-02, 6.81717355e-02,\n",
       "         1.03375893e-01, 1.38270887e-01, 1.70537997e-01, 1.98434501e-01,\n",
       "         2.20754555e-01, 2.36825004e-01, 2.46475416e-01, 2.49968543e-01,\n",
       "         2.47900888e-01, 2.41090929e-01, 2.30471516e-01, 2.16997996e-01,\n",
       "         2.01577965e-01, 1.85023789e-01, 1.68025800e-01, 1.51142341e-01,\n",
       "         1.34802248e-01, 1.19315590e-01, 1.04889097e-01, 9.16435597e-02,\n",
       "         7.96312172e-02, 6.88519022e-02, 5.92672286e-02, 5.08125332e-02],\n",
       "        [0.00000000e+00, 1.06735467e-02, 3.63144252e-02, 7.13734183e-02,\n",
       "         1.13789945e-01, 1.63071913e-01, 2.19273854e-01, 2.82664130e-01,\n",
       "         3.53752593e-01, 4.33448130e-01, 5.23227776e-01, 6.25276607e-01,\n",
       "         7.42598855e-01, 8.79117068e-01, 1.03977907e+00, 1.23068991e+00,\n",
       "         1.45928261e+00, 1.73453877e+00, 2.06726949e+00, 2.47046781e+00,\n",
       "         2.95974360e+00, 3.55385666e+00, 4.27536741e+00, 5.15142343e+00,\n",
       "         6.21471343e+00, 7.50461864e+00, 9.06860280e+00, 1.09638889e+01]]),\n",
       " array([[ 0.        , -0.01065841, -0.03594431, -0.06920692, -0.10666791,\n",
       "         -0.14588471, -0.18496245, -0.22227878, -0.25645833, -0.28642458,\n",
       "         -0.31144316, -0.33112725, -0.34540582, -0.35446711, -0.35869181,\n",
       "         -0.35858689, -0.35472755, -0.34771044, -0.33811895, -0.32649966,\n",
       "         -0.31334803, -0.2991013 , -0.28413671, -0.2687733 , -0.25327587,\n",
       "         -0.23786026, -0.222699  , -0.20792711]]))"
      ]
     },
     "execution_count": 35,
     "metadata": {},
     "output_type": "execute_result"
    }
   ],
   "source": [
    "me.plots.sim_mean_plot(sim)\n",
    "me.plots.sim_variance_plot(sim)\n",
    "me.plots.sim_covariance_plot(sim)\n",
    "sim.sim_moments_res"
   ]
  },
  {
   "cell_type": "code",
   "execution_count": 41,
   "metadata": {},
   "outputs": [],
   "source": [
    "net = me.Network('net_par2')\n",
    "net.structure([\n",
    "    {'start': 'S_t', 'end': 'P1_t', 'rate_symbol': 'd4', 'type': 'S -> E', 'reaction_steps': int(4/2)},\n",
    "    {'start': 'P1_t', 'end': 'Y_t', 'rate_symbol': 'd4', 'type': 'S -> E', 'reaction_steps': int(4/2)},\n",
    "\n",
    "    {'start': 'S_t', 'end': 'P2_t', 'rate_symbol': 'd2', 'type': 'S -> E', 'reaction_steps': int(2/2)},\n",
    "    {'start': 'P2_t', 'end': 'Y_t', 'rate_symbol': 'd2', 'type': 'S -> E', 'reaction_steps': int(2/2)},\n",
    "\n",
    "    {'start': 'Y_t', 'end': 'Y_t', 'rate_symbol': 'l', 'type': 'S -> S + S', 'reaction_steps': 3}\n",
    "    ])\n",
    "\n",
    "initial_values = {'S_t': 1, 'Y_t': 0, 'P1_t': 0, 'P2_t': 0}\n",
    "theta_values = {'l': 0.06, 'd4': 0.06, 'd2': 0.08}\n",
    "time_values = np.linspace(0.0, 54.0, num=28, endpoint=True)\n",
    "variables = {'X_t': ('S_t', 'P1_t', 'P2_t'), 'Y_t': ('Y_t', )}\n",
    "\n",
    "num_iter = 100000\n",
    "sim = me.Simulation(net)\n",
    "res_list = list()\n",
    "for __ in range(num_iter):\n",
    "    res_list.append(sim.simulate('gillespie', initial_values, theta_values, time_values, variables)[1])\n",
    "\n",
    "sims = np.array(res_list)"
   ]
  },
  {
   "cell_type": "code",
   "execution_count": 42,
   "metadata": {},
   "outputs": [
    {
     "data": {
      "text/plain": [
       "array([[1.     , 0.98917, 0.96263, 0.92617, 0.88359, 0.83522, 0.78319,\n",
       "        0.72803, 0.67007, 0.61486, 0.55918, 0.50559, 0.45419, 0.40623,\n",
       "        0.36079, 0.31911, 0.28094, 0.24543, 0.21371, 0.18521, 0.15994,\n",
       "        0.1384 , 0.11941, 0.10197, 0.08769, 0.07461, 0.06377, 0.05413],\n",
       "       [0.     , 0.01084, 0.03752, 0.07478, 0.12034, 0.17392, 0.23561,\n",
       "        0.30488, 0.38269, 0.46588, 0.55629, 0.65378, 0.75971, 0.87289,\n",
       "        0.99413, 1.1231 , 1.26451, 1.41578, 1.58057, 1.75827, 1.94899,\n",
       "        2.15551, 2.38079, 2.62727, 2.89559, 3.19119, 3.51406, 3.86838]])"
      ]
     },
     "execution_count": 42,
     "metadata": {},
     "output_type": "execute_result"
    }
   ],
   "source": [
    "np.mean(sims, axis=0)"
   ]
  },
  {
   "cell_type": "code",
   "execution_count": 43,
   "metadata": {},
   "outputs": [
    {
     "data": {
      "text/plain": [
       "array([[0.00000000e+00, 1.07128182e-02, 3.59738428e-02, 6.83798149e-02,\n",
       "        1.02859740e-01, 1.37628928e-01, 1.69805122e-01, 1.98004299e-01,\n",
       "        2.21078406e-01, 2.36809548e-01, 2.46500193e-01, 2.49971252e-01,\n",
       "        2.47903923e-01, 2.41209599e-01, 2.30622882e-01, 2.17280981e-01,\n",
       "        2.02014737e-01, 1.85195967e-01, 1.68039716e-01, 1.50908765e-01,\n",
       "        1.34360540e-01, 1.19246632e-01, 1.05152303e-01, 9.15730348e-02,\n",
       "        8.00012639e-02, 6.90440383e-02, 5.97039841e-02, 5.12004551e-02],\n",
       "       [0.00000000e+00, 1.07426018e-02, 3.64126137e-02, 7.11286629e-02,\n",
       "        1.13819423e-01, 1.62513459e-01, 2.19480123e-01, 2.82591012e-01,\n",
       "        3.53281897e-01, 4.33220158e-01, 5.20336639e-01, 6.22157933e-01,\n",
       "        7.40698123e-01, 8.81641864e-01, 1.04132596e+00, 1.22763867e+00,\n",
       "        1.45927905e+00, 1.72986429e+00, 2.05994907e+00, 2.46300124e+00,\n",
       "        2.94169740e+00, 3.53208196e+00, 4.25209150e+00, 5.10897344e+00,\n",
       "        6.18169037e+00, 7.47975118e+00, 9.04491277e+00, 1.09330855e+01]])"
      ]
     },
     "execution_count": 43,
     "metadata": {},
     "output_type": "execute_result"
    }
   ],
   "source": [
    "np.var(sims, axis=0, ddof=1)"
   ]
  },
  {
   "cell_type": "code",
   "execution_count": 44,
   "metadata": {},
   "outputs": [
    {
     "data": {
      "text/plain": [
       "array([ 0.        , -0.01072271, -0.03611824, -0.06925969, -0.10633228,\n",
       "       -0.14526292, -0.18452924, -0.22196401, -0.25643165, -0.28645384,\n",
       "       -0.31106935, -0.33054794, -0.34505614, -0.35459765, -0.35867575,\n",
       "       -0.35839602, -0.35525499, -0.34747836, -0.33778699, -0.32565244,\n",
       "       -0.31172458, -0.29832557, -0.28429298, -0.2679054 , -0.25391683,\n",
       "       -0.23809707, -0.22409385, -0.2093975 ])"
      ]
     },
     "execution_count": 44,
     "metadata": {},
     "output_type": "execute_result"
    }
   ],
   "source": [
    "np.array([np.cov(sims[:, 0, i], sims[:, 1, i], ddof=1)[1,0]\n",
    "                                        for i in range(sims.shape[2])])"
   ]
  },
  {
   "cell_type": "code",
   "execution_count": 45,
   "metadata": {
    "jupyter": {
     "source_hidden": true
    }
   },
   "outputs": [],
   "source": [
    "def gill_indep_test_2(initial_state, time_values, d4, d2, l, num_iter):\n",
    "    # initialisation\n",
    "    res = np.zeros((num_iter, 8, time_values.shape[0]))\n",
    "    \n",
    "    for i in range(num_iter):\n",
    "        time_current = time_values[0]\n",
    "        time_max = time_values[-1]\n",
    "        cell_state = np.zeros(8)\n",
    "        cell_state = copy.deepcopy(initial_state)\n",
    "        \n",
    "#         print('iter: ', i)\n",
    "#         print('time_current: ', time_current)\n",
    "#         print('time_max: ', time_max)\n",
    "#         print('cell_state: ', cell_state)\n",
    "        \n",
    "        while time_current <= time_max:\n",
    "            # reaction propensities\n",
    "            reac_props = np.array([\n",
    "                # NOTE: division by 2 in the diff channels is only due to\n",
    "                # current workaround for multigraphs (with P intermediate nodes)\n",
    "                \n",
    "                # differentiation d4 channel\n",
    "                4.0/2 * d4 * cell_state[0], # d from Xcentric to X0\n",
    "                4.0/2 * d4 * cell_state[1], # d from X0 to X1\n",
    "                4.0/2 * d4 * cell_state[2], # d from X1 to X2\n",
    "                4.0/2 * d4 * cell_state[3], # d from X2 to Ycentric\n",
    "                \n",
    "                # differentiation d2 channel\n",
    "                2.0/2 * d2 * cell_state[0], # d from Xcentric to X0\n",
    "                2.0/2 * d2 * cell_state[4], # d from X0 to X1\n",
    "                \n",
    "                # division\n",
    "                3.0 * l * cell_state[5], # l from Ycentric to Y0\n",
    "                3.0 * l * cell_state[6], # l from Y0 to Y1\n",
    "                3.0 * l * cell_state[7], # l from Y1 to Ycentric\n",
    "            ])\n",
    "#             print('\\n while start')\n",
    "#             print('reac_props: ', reac_props)\n",
    "\n",
    "            # draw exponential random time for next reaction\n",
    "            total_prop = np.sum(reac_props)\n",
    "            dt = np.random.exponential(1.0/total_prop)\n",
    "            \n",
    "#             print('total_prop: ', total_prop)\n",
    "#             print('dt: ', dt)\n",
    "\n",
    "            # save cell state results for relevant time points\n",
    "            for ind in np.where((time_values >= time_current) \n",
    "                                & (time_values < time_current + dt))[0]:\n",
    "                res[i, :, ind] = copy.deepcopy(cell_state).reshape((1,8))\n",
    "            \n",
    "#             print('res: ', res)\n",
    "            \n",
    "            # draw which reaction takes place\n",
    "            reac_probs = reac_props/np.sum(reac_props)\n",
    "            reac_rand = np.random.choice(reac_props.shape[0], p=reac_probs)\n",
    "            \n",
    "#             print('reac_probs: ', reac_probs)\n",
    "#             print('reac_rand: ', reac_rand)\n",
    "\n",
    "            # update cell state according to selected reaction\n",
    "            # differentiation d4 channel\n",
    "            if reac_rand==0:\n",
    "                cell_state[0] += -1.0\n",
    "                cell_state[1] += +1.0\n",
    "            elif reac_rand==1:\n",
    "                cell_state[1] += -1.0\n",
    "                cell_state[2] += +1.0\n",
    "            elif reac_rand==2:\n",
    "                cell_state[2] += -1.0\n",
    "                cell_state[3] += +1.0\n",
    "            elif reac_rand==3:\n",
    "                cell_state[3] += -1.0\n",
    "                cell_state[5] += +1.0\n",
    "                \n",
    "            # differentiation d2 channel\n",
    "            elif reac_rand==4:\n",
    "                cell_state[0] += -1.0\n",
    "                cell_state[4] += +1.0\n",
    "            elif reac_rand==5:\n",
    "                cell_state[4] += -1.0\n",
    "                cell_state[5] += +1.0 \n",
    "\n",
    "            # division\n",
    "            elif reac_rand==6:\n",
    "                cell_state[5] += -1.0\n",
    "                cell_state[6] += +1.0\n",
    "            elif reac_rand==7:\n",
    "                cell_state[6] += -1.0\n",
    "                cell_state[7] += +1.0\n",
    "            elif reac_rand==8:\n",
    "                cell_state[7] += -1.0\n",
    "                cell_state[5] += +2.0\n",
    "            else:\n",
    "                print('error')\n",
    "\n",
    "            # update current time by delta t\n",
    "            time_current += dt\n",
    "            \n",
    "#             print('cell_state: ', cell_state)\n",
    "#             print('time_current: ', time_current)\n",
    "#             print('\\n')\n",
    "    \n",
    "    # sum hidden states to get observable layer\n",
    "    res_obs = np.zeros((num_iter, 2, time_values.shape[0]))\n",
    "    res_obs[:, 0, :] = np.sum(res[:, (0,1,2,3,4), :], axis=1)\n",
    "    res_obs[:, 1, :] = np.sum(res[:, (5,6,7), :], axis=1)\n",
    "    return res_obs"
   ]
  },
  {
   "cell_type": "code",
   "execution_count": 53,
   "metadata": {},
   "outputs": [
    {
     "name": "stdout",
     "output_type": "stream",
     "text": [
      "[ 0.  2.  4.  6.  8. 10. 12. 14. 16. 18. 20. 22. 24. 26. 28. 30. 32. 34.\n",
      " 36. 38. 40. 42. 44. 46. 48. 50. 52. 54.]\n"
     ]
    }
   ],
   "source": [
    "# order of the variables of the hidden layer\n",
    "# 0,1,2,3,4: X centric, X diff4 0, X diff4 1, X diff4 2, X diff2 0, \n",
    "# 5,6,7: Y centric, Y div 0, Y div 1\n",
    "initial_values = np.array([1.0, 0.0, 0.0, 0.0, 0.0, 0.0, 0.0, 0.0])\n",
    "time_values = np.linspace(0.0, 54.0, num=28, endpoint=True)\n",
    "d4 = 0.06\n",
    "d2 = 0.08\n",
    "l = 0.06\n",
    "num_iter = 100000\n",
    "print(time_values)\n",
    "\n",
    "# save result as external simulation results\n",
    "sims = gill_indep_test_2(initial_values, time_values, d4, d2, l, num_iter)"
   ]
  },
  {
   "cell_type": "code",
   "execution_count": 54,
   "metadata": {},
   "outputs": [
    {
     "data": {
      "text/plain": [
       "array([[1.     , 0.98943, 0.9631 , 0.92714, 0.88312, 0.83479, 0.78267,\n",
       "        0.72796, 0.67315, 0.61471, 0.5597 , 0.50621, 0.45568, 0.40713,\n",
       "        0.36222, 0.31951, 0.28133, 0.24632, 0.21476, 0.18607, 0.161  ,\n",
       "        0.13809, 0.11862, 0.10166, 0.08677, 0.07401, 0.06294, 0.05356],\n",
       "       [0.     , 0.0106 , 0.0371 , 0.07394, 0.12049, 0.17407, 0.23557,\n",
       "        0.30505, 0.3802 , 0.46596, 0.55587, 0.65428, 0.75853, 0.87224,\n",
       "        0.9934 , 1.12505, 1.26381, 1.41601, 1.58016, 1.7573 , 1.94785,\n",
       "        2.15775, 2.38401, 2.62926, 2.89853, 3.19214, 3.51472, 3.86759]])"
      ]
     },
     "execution_count": 54,
     "metadata": {},
     "output_type": "execute_result"
    }
   ],
   "source": [
    "np.mean(sims, axis=0)"
   ]
  },
  {
   "cell_type": "code",
   "execution_count": 55,
   "metadata": {},
   "outputs": [
    {
     "data": {
      "text/plain": [
       "array([[0.00000000e+00, 1.04583797e-02, 3.55387454e-02, 6.75520959e-02,\n",
       "        1.03220098e-01, 1.37917035e-01, 1.70099372e-01, 1.98036219e-01,\n",
       "        2.20021278e-01, 2.36843984e-01, 2.46438374e-01, 2.49963936e-01,\n",
       "        2.48038218e-01, 2.41377577e-01, 2.31018982e-01, 2.17425534e-01,\n",
       "        2.02185453e-01, 1.85648314e-01, 1.68639829e-01, 1.51449470e-01,\n",
       "        1.35080351e-01, 1.19022342e-01, 1.04550341e-01, 9.13261577e-02,\n",
       "        7.92417595e-02, 6.85332052e-02, 5.89791462e-02, 5.06918333e-02],\n",
       "       [0.00000000e+00, 1.05477455e-02, 3.61239512e-02, 7.06735831e-02,\n",
       "        1.13273293e-01, 1.62051256e-01, 2.18438959e-01, 2.83377331e-01,\n",
       "        3.53771498e-01, 4.34305621e-01, 5.23163775e-01, 6.26783949e-01,\n",
       "        7.43369673e-01, 8.84046223e-01, 1.04654691e+00, 1.23784488e+00,\n",
       "        1.45946888e+00, 1.73526303e+00, 2.06791505e+00, 2.48022151e+00,\n",
       "        2.96636004e+00, 3.56040054e+00, 4.26600898e+00, 5.13526321e+00,\n",
       "        6.18845572e+00, 7.46423686e+00, 9.04141374e+00, 1.09308469e+01]])"
      ]
     },
     "execution_count": 55,
     "metadata": {},
     "output_type": "execute_result"
    }
   ],
   "source": [
    "np.var(sims, axis=0, ddof=1)"
   ]
  },
  {
   "cell_type": "code",
   "execution_count": 56,
   "metadata": {},
   "outputs": [
    {
     "data": {
      "text/plain": [
       "array([ 0.        , -0.01048806, -0.03573137, -0.06855342, -0.10640819,\n",
       "       -0.14531335, -0.18437542, -0.22206642, -0.25593419, -0.28643314,\n",
       "       -0.31112355, -0.33120639, -0.34565041, -0.35511862, -0.35983295,\n",
       "       -0.35946832, -0.35555122, -0.34879507, -0.33935856, -0.32698408,\n",
       "       -0.31360699, -0.29796668, -0.28279409, -0.26729324, -0.25150796,\n",
       "       -0.23625264, -0.22121869, -0.20715019])"
      ]
     },
     "execution_count": 56,
     "metadata": {},
     "output_type": "execute_result"
    }
   ],
   "source": [
    "np.array([np.cov(sims[:, 0, i], sims[:, 1, i], ddof=1)[1,0] for i in range(sims.shape[2])])"
   ]
  },
  {
   "cell_type": "code",
   "execution_count": 61,
   "metadata": {},
   "outputs": [],
   "source": [
    "net = me.Network('net_min')\n",
    "net.structure([\n",
    "    {'start': 'X_t', 'end': 'Y_t', 'rate_symbol': 'd', 'type': 'S -> E', 'reaction_steps': 4},\n",
    "    {'start': 'Y_t', 'end': 'Y_t', 'rate_symbol': 'l', 'type': 'S -> S + S', 'reaction_steps': 3}\n",
    "    ])\n",
    "\n",
    "initial_values = {'X_t': 1, 'Y_t': 0}\n",
    "theta_values = {'l': 0.06, 'd': 0.04}\n",
    "time_values = np.linspace(0.0, 54.0, num=28, endpoint=True)\n",
    "variables = {'Y_t': ('Y_t', )} # {'X_t': ('X_t', )} # {'X_t': ('X_t', ), 'Y_t': ('Y_t', )}\n",
    "\n",
    "sim = me.Simulation(net)\n",
    "res = sim.simulate('moments', initial_values, theta_values, time_values, variables)\n"
   ]
  },
  {
   "cell_type": "code",
   "execution_count": 62,
   "metadata": {},
   "outputs": [
    {
     "data": {
      "image/png": "[encoded data removed]",
      "text/plain": [
       "<Figure size 432x288 with 1 Axes>"
      ]
     },
     "metadata": {
      "needs_background": "light"
     },
     "output_type": "display_data"
    },
    {
     "data": {
      "image/png": "[encoded data removed]",
      "text/plain": [
       "<Figure size 432x288 with 1 Axes>"
      ]
     },
     "metadata": {
      "needs_background": "light"
     },
     "output_type": "display_data"
    },
    {
     "name": "stderr",
     "output_type": "stream",
     "text": [
      "No handles with labels found to put in legend.\n"
     ]
    },
    {
     "data": {
      "image/png": "[encoded data removed]",
      "text/plain": [
       "<Figure size 432x288 with 1 Axes>"
      ]
     },
     "metadata": {
      "needs_background": "light"
     },
     "output_type": "display_data"
    }
   ],
   "source": [
    "me.plots.sim_mean_plot(sim)\n",
    "me.plots.sim_variance_plot(sim)\n",
    "me.plots.sim_covariance_plot(sim)"
   ]
  },
  {
   "cell_type": "code",
   "execution_count": 58,
   "metadata": {},
   "outputs": [
    {
     "data": {
      "image/png": "[encoded data removed]",
      "text/plain": [
       "<Figure size 432x288 with 1 Axes>"
      ]
     },
     "metadata": {
      "needs_background": "light"
     },
     "output_type": "display_data"
    },
    {
     "data": {
      "image/png": "[encoded data removed]",
      "text/plain": [
       "<Figure size 432x288 with 1 Axes>"
      ]
     },
     "metadata": {
      "needs_background": "light"
     },
     "output_type": "display_data"
    },
    {
     "data": {
      "image/png": "[encoded data removed]",
      "text/plain": [
       "<Figure size 432x288 with 1 Axes>"
      ]
     },
     "metadata": {
      "needs_background": "light"
     },
     "output_type": "display_data"
    }
   ],
   "source": [
    "me.plots.sim_mean_plot(sim)\n",
    "me.plots.sim_variance_plot(sim)\n",
    "me.plots.sim_covariance_plot(sim)"
   ]
  },
  {
   "cell_type": "code",
   "execution_count": 81,
   "metadata": {},
   "outputs": [],
   "source": [
    "net = me.Network('net_min')\n",
    "net.structure([\n",
    "    {'start': 'X_t', 'end': 'Y_t', 'rate_symbol': 'd', 'type': 'S -> E', 'reaction_steps': 4},\n",
    "    {'start': 'Y_t', 'end': 'Y_t', 'rate_symbol': 'l', 'type': 'S -> S + S', 'reaction_steps': 3}\n",
    "    ])\n",
    "\n",
    "initial_values = {'X_t': 1, 'Y_t': 0}\n",
    "theta_values = {'l': 0.06, 'd': 0.04}\n",
    "time_values = np.linspace(0.0, 54.0, num=28, endpoint=True)\n",
    "variables = {'X_t': ('X_t', ), 'Y_t': ('Y_t', )}\n",
    "\n",
    "sim = me.Simulation(net)\n",
    "res = sim.simulate('moments', initial_values, theta_values, time_values, variables)"
   ]
  },
  {
   "cell_type": "code",
   "execution_count": 82,
   "metadata": {},
   "outputs": [
    {
     "data": {
      "image/png": "[encoded data removed]",
      "text/plain": [
       "<Figure size 432x288 with 1 Axes>"
      ]
     },
     "metadata": {
      "needs_background": "light"
     },
     "output_type": "display_data"
    },
    {
     "data": {
      "image/png": "[encoded data removed]",
      "text/plain": [
       "<Figure size 432x288 with 1 Axes>"
      ]
     },
     "metadata": {
      "needs_background": "light"
     },
     "output_type": "display_data"
    },
    {
     "data": {
      "image/png": "[encoded data removed]",
      "text/plain": [
       "<Figure size 432x288 with 1 Axes>"
      ]
     },
     "metadata": {
      "needs_background": "light"
     },
     "output_type": "display_data"
    }
   ],
   "source": [
    "me.plots.sim_mean_plot(sim)\n",
    "me.plots.sim_variance_plot(sim)\n",
    "me.plots.sim_covariance_plot(sim)"
   ]
  },
  {
   "cell_type": "code",
   "execution_count": 83,
   "metadata": {},
   "outputs": [],
   "source": [
    "# expected mean for T = X + Y simulation variable\n",
    "mean_exp = np.sum(sim.sim_moments_res[0], axis=0).reshape(1, 28)"
   ]
  },
  {
   "cell_type": "code",
   "execution_count": 84,
   "metadata": {},
   "outputs": [],
   "source": [
    "# expected variance for T = X + Y simulation variable\n",
    "# as Var(T) = Var(X) + Var(Y) + 2 Cov(X, Y)\n",
    "var_exp = np.sum(sim.sim_moments_res[1], axis=0).reshape(1, 28) + 2.0 * sim.sim_moments_res[2]"
   ]
  },
  {
   "cell_type": "code",
   "execution_count": 85,
   "metadata": {},
   "outputs": [
    {
     "data": {
      "image/png": "[encoded data removed]",
      "text/plain": [
       "<Figure size 432x288 with 1 Axes>"
      ]
     },
     "metadata": {
      "needs_background": "light"
     },
     "output_type": "display_data"
    },
    {
     "data": {
      "image/png": "[encoded data removed]",
      "text/plain": [
       "<Figure size 432x288 with 1 Axes>"
      ]
     },
     "metadata": {
      "needs_background": "light"
     },
     "output_type": "display_data"
    },
    {
     "name": "stderr",
     "output_type": "stream",
     "text": [
      "No handles with labels found to put in legend.\n"
     ]
    },
    {
     "data": {
      "image/png": "[encoded data removed]",
      "text/plain": [
       "<Figure size 432x288 with 1 Axes>"
      ]
     },
     "metadata": {
      "needs_background": "light"
     },
     "output_type": "display_data"
    },
    {
     "data": {
      "text/plain": [
       "(array([[1.        , 1.00000007, 1.00000691, 1.0000885 , 1.00049847,\n",
       "         1.00179488, 1.00488073, 1.01095637, 1.02141598, 1.03772897,\n",
       "         1.06133791, 1.09358891, 1.13569773, 1.18874661, 1.25370353,\n",
       "         1.3314552 , 1.42284668, 1.52872218, 1.64996395, 1.78752752,\n",
       "         1.9424728 , 2.11599114, 2.30942925, 2.52431046, 2.76235455,\n",
       "         3.02549675, 3.31590684, 3.6360089 ]]),\n",
       " array([[0.00000000e+00, 7.24812210e-08, 6.92827298e-06, 8.90767729e-05,\n",
       "         5.05956224e-04, 1.84536272e-03, 5.10617417e-03, 1.17151055e-02,\n",
       "         2.34956851e-02, 4.26144757e-02, 7.15279595e-02, 1.12949855e-01,\n",
       "         1.69853707e-01, 2.45519549e-01, 3.43627603e-01, 4.68397723e-01,\n",
       "         6.24771534e-01, 8.18634751e-01, 1.05707948e+00, 1.34870928e+00,\n",
       "         1.70399356e+00, 2.13568124e+00, 2.65928936e+00, 3.29367908e+00,\n",
       "         4.06174456e+00, 4.99124079e+00, 6.11577409e+00, 7.47599908e+00]]),\n",
       " array([], shape=(0, 28), dtype=float64))"
      ]
     },
     "execution_count": 85,
     "metadata": {},
     "output_type": "execute_result"
    }
   ],
   "source": [
    "net = me.Network('net_min')\n",
    "net.structure([\n",
    "    {'start': 'X_t', 'end': 'Y_t', 'rate_symbol': 'd', 'type': 'S -> E', 'reaction_steps': 4},\n",
    "    {'start': 'Y_t', 'end': 'Y_t', 'rate_symbol': 'l', 'type': 'S -> S + S', 'reaction_steps': 3}\n",
    "    ])\n",
    "\n",
    "initial_values = {'X_t': 1, 'Y_t': 0}\n",
    "theta_values = {'l': 0.06, 'd': 0.04}\n",
    "time_values = np.linspace(0.0, 54.0, num=28, endpoint=True)\n",
    "variables = {'T_t': ('X_t', 'Y_t')}\n",
    "\n",
    "sim = me.Simulation(net)\n",
    "res = sim.simulate('moments', initial_values, theta_values, time_values, variables)\n",
    "me.plots.sim_mean_plot(sim)\n",
    "me.plots.sim_variance_plot(sim)\n",
    "me.plots.sim_covariance_plot(sim)\n",
    "sim.sim_moments_res"
   ]
  },
  {
   "cell_type": "code",
   "execution_count": 88,
   "metadata": {},
   "outputs": [
    {
     "name": "stdout",
     "output_type": "stream",
     "text": [
      "[[ True  True  True  True  True  True  True  True  True  True  True  True\n",
      "   True  True  True  True  True  True  True  True  True  True  True  True\n",
      "   True  True  True  True]]\n",
      "[[ True  True  True  True  True  True  True  True  True  True  True  True\n",
      "   True  True  True  True  True  True  True  True  True  True  True  True\n",
      "   True  True  True  True]]\n"
     ]
    }
   ],
   "source": [
    "print(mean_exp==sim.sim_moments_res[0])\n",
    "print(var_exp==sim.sim_moments_res[1])"
   ]
  },
  {
   "cell_type": "code",
   "execution_count": 6,
   "metadata": {},
   "outputs": [],
   "source": [
    "net = me.Network('net_min')\n",
    "net.structure([\n",
    "    {'start': 'X_t', 'end': 'Y_t', 'rate_symbol': 'd', 'type': 'S -> E', 'reaction_steps': 4},\n",
    "    {'start': 'Y_t', 'end': 'Y_t', 'rate_symbol': 'l', 'type': 'S -> S + S', 'reaction_steps': 3}\n",
    "    ])\n",
    "\n",
    "initial_values = {'X_t': 1, 'Y_t': 0}\n",
    "theta_values = {'l': 0.06, 'd': 0.04}\n",
    "time_values = np.linspace(0.0, 54.0, num=28, endpoint=True)\n",
    "variables = {'X_t': ('X_t', ), 'Y_t': ('Y_t', )}\n",
    "\n",
    "sim = me.Simulation(net)\n",
    "res = sim.simulate('moments', initial_values, theta_values, time_values, variables,\n",
    "                    moment_mean_only=True)"
   ]
  },
  {
   "cell_type": "code",
   "execution_count": 7,
   "metadata": {},
   "outputs": [
    {
     "data": {
      "text/plain": [
       "(array([[1.00000000e+00, 9.99661300e-01, 9.95786822e-01, 9.83366954e-01,\n",
       "         9.58874286e-01, 9.21186515e-01, 8.71262892e-01, 8.11430693e-01,\n",
       "         7.44676766e-01, 6.74094967e-01, 6.02519716e-01, 5.32323178e-01,\n",
       "         4.65336116e-01, 4.02852123e-01, 3.45681548e-01, 2.94229914e-01,\n",
       "         2.48583556e-01, 2.08591718e-01, 1.73939145e-01, 1.44206584e-01,\n",
       "         1.18918767e-01, 9.75807233e-02, 7.97039344e-02, 6.48240759e-02,\n",
       "         5.25120809e-02, 4.23801201e-02, 3.40838418e-02, 2.73219966e-02],\n",
       "        [0.00000000e+00, 3.38772857e-04, 4.22009262e-03, 1.67215423e-02,\n",
       "         4.16241791e-02, 8.06083680e-02, 1.33617836e-01, 1.99525682e-01,\n",
       "         2.76739218e-01, 3.63634007e-01, 4.58818192e-01, 5.61265730e-01,\n",
       "         6.70361616e-01, 7.85894491e-01, 9.08021977e-01, 1.03722529e+00,\n",
       "         1.17426313e+00, 1.32013046e+00, 1.47602480e+00, 1.64332093e+00,\n",
       "         1.82355402e+00, 2.01841041e+00, 2.22972531e+00, 2.45948638e+00,\n",
       "         2.70984246e+00, 2.98311662e+00, 3.28182299e+00, 3.60868690e+00]]),\n",
       " array([], shape=(0, 28), dtype=float64),\n",
       " array([], shape=(0, 28), dtype=float64))"
      ]
     },
     "execution_count": 7,
     "metadata": {},
     "output_type": "execute_result"
    }
   ],
   "source": [
    "sim.sim_moments_res"
   ]
  },
  {
   "cell_type": "code",
   "execution_count": 8,
   "metadata": {},
   "outputs": [],
   "source": [
    "net = me.Network('net_min')\n",
    "net.structure([\n",
    "    {'start': 'X_t', 'end': 'Y_t', 'rate_symbol': 'd', 'type': 'S -> E', 'reaction_steps': 4},\n",
    "    {'start': 'Y_t', 'end': 'Y_t', 'rate_symbol': 'l', 'type': 'S -> S + S', 'reaction_steps': 3}\n",
    "    ])\n",
    "\n",
    "initial_values = {'X_t': 1, 'Y_t': 0}\n",
    "theta_values = {'l': 0.06, 'd': 0.04}\n",
    "time_values = np.linspace(0.0, 54.0, num=28, endpoint=True)\n",
    "variables = {'X_t': ('X_t', ), 'Y_t': ('Y_t', )}\n",
    "\n",
    "simfull = me.Simulation(net)\n",
    "res = simfull.simulate('moments', initial_values, theta_values, time_values, variables)"
   ]
  },
  {
   "cell_type": "code",
   "execution_count": 9,
   "metadata": {},
   "outputs": [
    {
     "data": {
      "text/plain": [
       "(array([[1.00000000e+00, 9.99661300e-01, 9.95786822e-01, 9.83366954e-01,\n",
       "         9.58874286e-01, 9.21186515e-01, 8.71262892e-01, 8.11430693e-01,\n",
       "         7.44676766e-01, 6.74094967e-01, 6.02519716e-01, 5.32323178e-01,\n",
       "         4.65336116e-01, 4.02852123e-01, 3.45681548e-01, 2.94229914e-01,\n",
       "         2.48583556e-01, 2.08591717e-01, 1.73939147e-01, 1.44206591e-01,\n",
       "         1.18918774e-01, 9.75807212e-02, 7.97039295e-02, 6.48240663e-02,\n",
       "         5.25120773e-02, 4.23801158e-02, 3.40838378e-02, 2.73219929e-02],\n",
       "        [0.00000000e+00, 3.38772857e-04, 4.22009262e-03, 1.67215423e-02,\n",
       "         4.16241791e-02, 8.06083680e-02, 1.33617836e-01, 1.99525682e-01,\n",
       "         2.76739218e-01, 3.63634007e-01, 4.58818192e-01, 5.61265730e-01,\n",
       "         6.70361616e-01, 7.85894491e-01, 9.08021977e-01, 1.03722529e+00,\n",
       "         1.17426313e+00, 1.32013046e+00, 1.47602480e+00, 1.64332093e+00,\n",
       "         1.82355402e+00, 2.01841042e+00, 2.22972532e+00, 2.45948640e+00,\n",
       "         2.70984247e+00, 2.98311663e+00, 3.28182300e+00, 3.60868691e+00]]),\n",
       " array([[0.00000000e+00, 3.38585676e-04, 4.19542729e-03, 1.63563879e-02,\n",
       "         3.94343898e-02, 7.26019193e-02, 1.12163865e-01, 1.53010923e-01,\n",
       "         1.90133280e-01, 2.19690943e-01, 2.39489708e-01, 2.48955212e-01,\n",
       "         2.48798415e-01, 2.40562290e-01, 2.26185816e-01, 2.07658672e-01,\n",
       "         1.86789772e-01, 1.65081213e-01, 1.43684320e-01, 1.23411050e-01,\n",
       "         1.04777099e-01, 8.80587240e-02, 7.33512132e-02, 6.06219068e-02,\n",
       "         4.97545591e-02, 4.05840416e-02, 3.29221298e-02, 2.65755016e-02],\n",
       "        [0.00000000e+00, 3.38803034e-04, 4.21612622e-03, 1.66195131e-02,\n",
       "         4.08962765e-02, 7.77541268e-02, 1.25774835e-01, 1.82506706e-01,\n",
       "         2.45524937e-01, 3.13171241e-01, 3.84932265e-01, 4.61544157e-01,\n",
       "         5.44942233e-01, 6.38155787e-01, 7.45214674e-01, 8.71104465e-01,\n",
       "         1.02178677e+00, 1.20429010e+00, 1.42687214e+00, 1.69925365e+00,\n",
       "         2.03292608e+00, 2.44153841e+00, 2.94137389e+00, 3.55192500e+00,\n",
       "         4.29658892e+00, 5.20350641e+00, 6.30656621e+00, 7.64661662e+00]]),\n",
       " array([[ 0.        , -0.00033866, -0.00420231, -0.01644341, -0.03991236,\n",
       "         -0.07425534, -0.11641626, -0.16190126, -0.20608127, -0.24512385,\n",
       "         -0.27644701, -0.29877476, -0.31194347, -0.31659926, -0.31388644,\n",
       "         -0.30518271, -0.2919025 , -0.27536828, -0.25673849, -0.23697771,\n",
       "         -0.21685481, -0.19695794, -0.17771787, -0.15943391, -0.14229946,\n",
       "         -0.12642483, -0.11185712, -0.09859652]]))"
      ]
     },
     "execution_count": 9,
     "metadata": {},
     "output_type": "execute_result"
    }
   ],
   "source": [
    "simfull.sim_moments_res"
   ]
  },
  {
   "cell_type": "code",
   "execution_count": 14,
   "metadata": {},
   "outputs": [
    {
     "data": {
      "text/plain": [
       "array([[ 0.00000000e+00,  0.00000000e+00,  0.00000000e+00,\n",
       "         0.00000000e+00,  0.00000000e+00,  0.00000000e+00,\n",
       "         0.00000000e+00,  0.00000000e+00,  0.00000000e+00,\n",
       "         0.00000000e+00,  0.00000000e+00,  0.00000000e+00,\n",
       "         0.00000000e+00,  0.00000000e+00,  0.00000000e+00,\n",
       "         0.00000000e+00, -4.61275296e-10,  5.19682103e-10,\n",
       "        -1.94837022e-09, -6.95227159e-09, -7.71557646e-09,\n",
       "         2.11274140e-09,  4.87620611e-09,  9.55842813e-09,\n",
       "         3.59784711e-09,  4.32134851e-09,  3.92674836e-09,\n",
       "         3.64677257e-09],\n",
       "       [ 0.00000000e+00,  0.00000000e+00,  0.00000000e+00,\n",
       "         0.00000000e+00,  0.00000000e+00,  0.00000000e+00,\n",
       "         0.00000000e+00,  0.00000000e+00,  0.00000000e+00,\n",
       "         0.00000000e+00,  0.00000000e+00,  0.00000000e+00,\n",
       "         0.00000000e+00,  0.00000000e+00,  0.00000000e+00,\n",
       "         0.00000000e+00,  1.27982069e-10, -5.97419225e-10,\n",
       "        -1.87678761e-11,  3.85062426e-10, -2.22159291e-09,\n",
       "        -6.42256648e-09, -8.82486129e-09, -1.30497151e-08,\n",
       "        -9.30914723e-09, -1.03748219e-08, -1.09112661e-08,\n",
       "        -1.14973697e-08]])"
      ]
     },
     "execution_count": 14,
     "metadata": {},
     "output_type": "execute_result"
    }
   ],
   "source": [
    "sim.sim_moments_res[0] - simfull.sim_moments_res[0]"
   ]
  },
  {
   "cell_type": "code",
   "execution_count": 13,
   "metadata": {},
   "outputs": [
    {
     "data": {
      "text/plain": [
       "True"
      ]
     },
     "execution_count": 13,
     "metadata": {},
     "output_type": "execute_result"
    }
   ],
   "source": [
    "np.allclose(sim.sim_moments_res[0], simfull.sim_moments_res[0])"
   ]
  },
  {
   "cell_type": "code",
   "execution_count": null,
   "metadata": {},
   "outputs": [],
   "source": []
  }
 ],
 "metadata": {
  "kernelspec": {
   "display_name": "Python 3",
   "language": "python",
   "name": "python3"
  },
  "language_info": {
   "codemirror_mode": {
    "name": "ipython",
    "version": 3
   },
   "file_extension": ".py",
   "mimetype": "text/x-python",
   "name": "python",
   "nbconvert_exporter": "python",
   "pygments_lexer": "ipython3",
   "version": "3.7.4"
  }
 },
 "nbformat": 4,
 "nbformat_minor": 4
}
