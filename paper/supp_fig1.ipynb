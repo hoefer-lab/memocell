{
 "cells": [
  {
   "cell_type": "markdown",
   "metadata": {},
   "source": [
    "#### Supplement Figure 1"
   ]
  },
  {
   "cell_type": "markdown",
   "metadata": {},
   "source": [
    "##### Package imports, figure settings, color definitions\n",
    "<img src=\"color_pal.png\" width=\"500\">"
   ]
  },
  {
   "cell_type": "code",
   "execution_count": 1,
   "metadata": {},
   "outputs": [
    {
     "name": "stderr",
     "output_type": "stream",
     "text": [
      "/Users/mlanghinrichs/Documents/Studium/MSc/09_hiwi_hoefer/01_project/memo_py/memo_py/selection.py:18: TqdmExperimentalWarning: Using `tqdm.autonotebook.tqdm` in notebook mode. Use `tqdm.tqdm` instead to force console mode (e.g. in jupyter console)\n",
      "  from tqdm.autonotebook import tqdm\n"
     ]
    },
    {
     "data": {
      "image/png": "[encoded data removed]",
      "text/plain": [
       "<Figure size 504x72 with 1 Axes>"
      ]
     },
     "metadata": {
      "needs_background": "light"
     },
     "output_type": "display_data"
    },
    {
     "data": {
      "image/png": "[encoded data removed]",
      "text/plain": [
       "<Figure size 216x72 with 1 Axes>"
      ]
     },
     "metadata": {
      "needs_background": "light"
     },
     "output_type": "display_data"
    },
    {
     "data": {
      "image/png": "[encoded data removed]",
      "text/plain": [
       "<Figure size 216x72 with 1 Axes>"
      ]
     },
     "metadata": {
      "needs_background": "light"
     },
     "output_type": "display_data"
    },
    {
     "data": {
      "image/png": "[encoded data removed]",
      "text/plain": [
       "<Figure size 216x72 with 1 Axes>"
      ]
     },
     "metadata": {
      "needs_background": "light"
     },
     "output_type": "display_data"
    },
    {
     "data": {
      "image/png": "[encoded data removed]",
      "text/plain": [
       "<Figure size 216x72 with 1 Axes>"
      ]
     },
     "metadata": {
      "needs_background": "light"
     },
     "output_type": "display_data"
    },
    {
     "data": {
      "image/png": "[encoded data removed]",
      "text/plain": [
       "<Figure size 216x72 with 1 Axes>"
      ]
     },
     "metadata": {
      "needs_background": "light"
     },
     "output_type": "display_data"
    },
    {
     "data": {
      "image/png": "[encoded data removed]",
      "text/plain": [
       "<Figure size 216x72 with 1 Axes>"
      ]
     },
     "metadata": {
      "needs_background": "light"
     },
     "output_type": "display_data"
    },
    {
     "data": {
      "image/png": "[encoded data removed]",
      "text/plain": [
       "<Figure size 216x72 with 1 Axes>"
      ]
     },
     "metadata": {
      "needs_background": "light"
     },
     "output_type": "display_data"
    },
    {
     "data": {
      "image/png": "[encoded data removed]",
      "text/plain": [
       "<Figure size 216x72 with 1 Axes>"
      ]
     },
     "metadata": {
      "needs_background": "light"
     },
     "output_type": "display_data"
    }
   ],
   "source": [
    "%matplotlib inline\n",
    "%run settings_load.py"
   ]
  },
  {
   "cell_type": "markdown",
   "metadata": {},
   "source": [
    "##### artificial *in silico* data\n",
    "used division rates:\n",
    "- for n=2: l=0.2 (theta in figure)\n",
    "- for n=15: l=0.255 (theta in figure)"
   ]
  },
  {
   "cell_type": "code",
   "execution_count": 2,
   "metadata": {},
   "outputs": [],
   "source": [
    "def make_net(n):\n",
    "    net = me.Network(f'net_div_n{n}')\n",
    "    net.structure([{'start': 'X_t', 'end': 'X_t',\n",
    "                'rate_symbol': 'l',\n",
    "                'type': 'S -> S + S', 'reaction_steps': n}])\n",
    "    return net\n",
    "\n",
    "### general settings\n",
    "num_iter = 500\n",
    "variables = {'X_t': ('X_t', )}\n",
    "initial_values = {'X_t': 1}\n",
    "time_values = np.linspace(0.0, 10.0, num=10000, endpoint=True)\n",
    "\n",
    "### n=2 data\n",
    "net = make_net(2)\n",
    "theta_values = {'l': 0.2}\n",
    "\n",
    "sim = me.Simulation(net)\n",
    "res_list = list()\n",
    "\n",
    "for __ in range(num_iter):\n",
    "    res_list.append(sim.simulate('gillespie', variables, initial_values, theta_values, time_values)[1])\n",
    "\n",
    "sims_n2 = np.array(res_list)\n",
    "\n",
    "\n",
    "### n=15 data\n",
    "net = make_net(15)\n",
    "theta_values = {'l': 0.255}\n",
    "\n",
    "sim = me.Simulation(net)\n",
    "res_list = list()\n",
    "\n",
    "for __ in range(num_iter):\n",
    "    res_list.append(sim.simulate('gillespie', variables, initial_values, theta_values, time_values)[1])\n",
    "\n",
    "sims_n15 = np.array(res_list)\n"
   ]
  },
  {
   "cell_type": "code",
   "execution_count": 3,
   "metadata": {},
   "outputs": [],
   "source": [
    "# for the data we only take first and last time points\n",
    "time_values_data = time_values[[0, -1]]\n",
    "sims = sims_n2[:, :, (0, -1)]\n",
    "data_n2 = me.Data('data_division_process_n2')\n",
    "data_n2.load(['X_t',], time_values_data, sims, bootstrap_samples=10000, basic_sigma=1/num_iter)\n",
    "\n",
    "sims = sims_n15[:, :, (0, -1)]\n",
    "data_n15 = me.Data('data_division_process_n15')\n",
    "data_n15.load(['X_t',], time_values_data, sims, bootstrap_samples=10000, basic_sigma=1/num_iter)"
   ]
  },
  {
   "cell_type": "code",
   "execution_count": 4,
   "metadata": {},
   "outputs": [
    {
     "data": {
      "image/png": "[encoded data removed]",
      "text/plain": [
       "<Figure size 57.6x36 with 1 Axes>"
      ]
     },
     "metadata": {
      "needs_background": "light"
     },
     "output_type": "display_data"
    },
    {
     "data": {
      "image/png": "[encoded data removed]",
      "text/plain": [
       "<Figure size 57.6x36 with 1 Axes>"
      ]
     },
     "metadata": {
      "needs_background": "light"
     },
     "output_type": "display_data"
    }
   ],
   "source": [
    "plt.rcParams.update({'figure.figsize': (0.8, 0.5)})\n",
    "\n",
    "settings = {\n",
    "    'X_t': {'label': 'E$(X_t)$', 'color': cactiv},\n",
    "}\n",
    "me.plots.data_mean_plot(data_n2)\n",
    "\n",
    "settings = {\n",
    "    ('X_t', 'X_t'): {'label': 'Var$(X_t)$', 'color': cactiv},\n",
    "}\n",
    "me.plots.data_variance_plot(data_n2)"
   ]
  },
  {
   "cell_type": "code",
   "execution_count": 5,
   "metadata": {},
   "outputs": [
    {
     "name": "stderr",
     "output_type": "stream",
     "text": [
      "/Users/mlanghinrichs/opt/anaconda3/envs/cd44_project/lib/python3.7/site-packages/ipykernel_launcher.py:26: UserWarning: Creating legend with loc=\"best\" can be slow with large amounts of data.\n",
      "/Users/mlanghinrichs/opt/anaconda3/envs/cd44_project/lib/python3.7/site-packages/IPython/core/pylabtools.py:132: UserWarning: Creating legend with loc=\"best\" can be slow with large amounts of data.\n",
      "  fig.canvas.print_figure(bytes_io, **kw)\n"
     ]
    },
    {
     "data": {
      "image/png": "[encoded data removed]",
      "text/plain": [
       "<Figure size 57.6x36 with 1 Axes>"
      ]
     },
     "metadata": {
      "needs_background": "light"
     },
     "output_type": "display_data"
    }
   ],
   "source": [
    "plt.rcParams.update({'figure.figsize': (0.8, 0.5)})\n",
    "ax = plt.gca()\n",
    "ax.spines['top'].set_visible(False)\n",
    "ax.spines['right'].set_visible(False)\n",
    "ax.spines['bottom'].set_visible(True)\n",
    "ax.spines['left'].set_visible(True)\n",
    "\n",
    "sims = sims_n2\n",
    "plt.plot(time_values, sims[0, 0, :], color=cactiv, linewidth=1.0, zorder=1000, label='$X_t$', alpha=0.1) # color='darkgreen'\n",
    "for trace_i in range(sims.shape[0]-1):\n",
    "        plt.plot(time_values, sims[trace_i+1, 0, :], color=cactiv, linewidth=1.0, zorder=1000, alpha=0.1) # color='darkgreen'\n",
    "\n",
    "# ax.set_yticklabels([])\n",
    "# ax.set_xticklabels([])\n",
    "# ax.tick_params(axis=u'both', which=u'both',length=0)\n",
    "\n",
    "# ax.set_ylim([-0.3, None])\n",
    "# leg = plt.legend()\n",
    "# plt.legend(frameon=False)\n",
    "# leg.get_frame().set_edgecolor('lightgrey')\n",
    "plt.xlabel('Time')\n",
    "plt.ylabel('Cell number')\n",
    "plt.ylim(-0.2, 15)\n",
    "plt.legend()\n",
    "#plt.ylabel('#Cells')\n",
    "plt.savefig(f'paper_figures/div_process_data_counts_n2.pdf', bbox_inches='tight')"
   ]
  },
  {
   "cell_type": "code",
   "execution_count": 14,
   "metadata": {},
   "outputs": [
    {
     "data": {
      "image/png": "[encoded data removed]",
      "text/plain": [
       "<Figure size 57.6x36 with 1 Axes>"
      ]
     },
     "metadata": {
      "needs_background": "light"
     },
     "output_type": "display_data"
    },
    {
     "data": {
      "image/png": "[encoded data removed]",
      "text/plain": [
       "<Figure size 57.6x36 with 1 Axes>"
      ]
     },
     "metadata": {
      "needs_background": "light"
     },
     "output_type": "display_data"
    }
   ],
   "source": [
    "plt.rcParams.update({'figure.figsize': (0.8, 0.5)})\n",
    "\n",
    "settings = {\n",
    "    'X_t': {'label': 'E$(X_t)$', 'color': cactiv},\n",
    "}\n",
    "me.plots.data_mean_plot(data_n15, settings=settings)\n",
    "\n",
    "settings = {\n",
    "    ('X_t', 'X_t'): {'label': 'Var$(X_t)$', 'color': cactiv},\n",
    "}\n",
    "me.plots.data_variance_plot(data_n15, settings=settings)"
   ]
  },
  {
   "cell_type": "code",
   "execution_count": 7,
   "metadata": {},
   "outputs": [
    {
     "data": {
      "image/png": "[encoded data removed]",
      "text/plain": [
       "<Figure size 57.6x36 with 1 Axes>"
      ]
     },
     "metadata": {
      "needs_background": "light"
     },
     "output_type": "display_data"
    }
   ],
   "source": [
    "plt.rcParams.update({'figure.figsize': (0.8, 0.5)})\n",
    "ax = plt.gca()\n",
    "ax.spines['top'].set_visible(False)\n",
    "ax.spines['right'].set_visible(False)\n",
    "ax.spines['bottom'].set_visible(True)\n",
    "ax.spines['left'].set_visible(True)\n",
    "\n",
    "sims = sims_n15\n",
    "plt.plot(time_values, sims[0, 0, :], color=cactiv, linewidth=1.0, zorder=1000, label='$X_t$', alpha=0.1) # color='darkgreen'\n",
    "for trace_i in range(sims.shape[0]-1):\n",
    "        plt.plot(time_values, sims[trace_i+1, 0, :], color=cactiv, linewidth=1.0, zorder=1000, alpha=0.1) # color='darkgreen'\n",
    "\n",
    "# ax.set_yticklabels([])\n",
    "# ax.set_xticklabels([])\n",
    "# ax.tick_params(axis=u'both', which=u'both',length=0)\n",
    "\n",
    "# ax.set_ylim([-0.3, None])\n",
    "# leg = plt.legend()\n",
    "# plt.legend(frameon=False)\n",
    "# leg.get_frame().set_edgecolor('lightgrey')\n",
    "plt.xlabel('Time')\n",
    "plt.ylabel('Cell number')\n",
    "plt.ylim(-0.2, 15)\n",
    "plt.legend()\n",
    "#plt.ylabel('#Cells')\n",
    "plt.savefig(f'paper_figures/div_process_data_counts_n15.pdf', bbox_inches='tight')"
   ]
  },
  {
   "cell_type": "code",
   "execution_count": 20,
   "metadata": {},
   "outputs": [],
   "source": [
    "# save data objects (to have some fixed, reproducible objects)\n",
    "# with open('division_process_files/data_division_process_2steps_500repeats_2times.pickle', 'wb') as file_:\n",
    "#     pickle.dump(data_n2, file_)\n",
    "\n",
    "# with open('division_process_files/data_division_process_15steps_500repeats_2times.pickle', 'wb') as file_:\n",
    "#     pickle.dump(data_n15, file_)"
   ]
  },
  {
   "cell_type": "markdown",
   "metadata": {},
   "source": [
    "##### inference"
   ]
  },
  {
   "cell_type": "code",
   "execution_count": 3,
   "metadata": {},
   "outputs": [],
   "source": [
    "# load fixed data objects\n",
    "data_n2 = pickle.load(open('division_process_files/data_division_process_2steps_500repeats_2times.pickle', 'rb'))\n",
    "data_n15 = pickle.load(open('division_process_files/data_division_process_15steps_500repeats_2times.pickle', 'rb'))\n"
   ]
  },
  {
   "cell_type": "code",
   "execution_count": 4,
   "metadata": {},
   "outputs": [],
   "source": [
    "# short run n=2: range(1, 4)\n",
    "# short run n=15: range(14, 17)\n",
    "nets = [make_net(n) for n in range(1, 21)] # 21\n",
    "variables = [{'X_t': ('X_t', )}]*len(nets)\n",
    "initial_values = [{'X_t': 1.0}]*len(nets)\n",
    "theta_bounds = [{'l': (0.0, 0.5)}]*len(nets)"
   ]
  },
  {
   "cell_type": "code",
   "execution_count": 5,
   "metadata": {},
   "outputs": [
    {
     "data": {
      "application/vnd.jupyter.widget-view+json": {
       "model_id": "b37e9619cf6a474cb6b46875cea7ecb2",
       "version_major": 2,
       "version_minor": 0
      },
      "text/plain": [
       "HBox(children=(FloatProgress(value=0.0, max=20.0), HTML(value='')))"
      ]
     },
     "metadata": {},
     "output_type": "display_data"
    },
    {
     "name": "stderr",
     "output_type": "stream",
     "text": [
      "/Users/mlanghinrichs/opt/anaconda3/envs/cd44_project/lib/python3.7/site-packages/scipy/integrate/odepack.py:247: ODEintWarning: Excess work done on this call (perhaps wrong Dfun type). Run with full_output = 1 to get quantitative information.\n",
      "  warnings.warn(warning_msg, ODEintWarning)\n",
      "/Users/mlanghinrichs/opt/anaconda3/envs/cd44_project/lib/python3.7/site-packages/scipy/integrate/odepack.py:247: ODEintWarning: Excess work done on this call (perhaps wrong Dfun type). Run with full_output = 1 to get quantitative information.\n",
      "  warnings.warn(warning_msg, ODEintWarning)\n",
      "/Users/mlanghinrichs/opt/anaconda3/envs/cd44_project/lib/python3.7/site-packages/scipy/integrate/odepack.py:247: ODEintWarning: Excess work done on this call (perhaps wrong Dfun type). Run with full_output = 1 to get quantitative information.\n",
      "  warnings.warn(warning_msg, ODEintWarning)\n"
     ]
    },
    {
     "name": "stdout",
     "output_type": "stream",
     "text": [
      "\n"
     ]
    }
   ],
   "source": [
    "### run selection (sequentially)\n",
    "sel_n2 = me.selection.select_models(nets, variables, initial_values,\n",
    "                                    theta_bounds, data_n2, parallel=False)"
   ]
  },
  {
   "cell_type": "code",
   "execution_count": 6,
   "metadata": {},
   "outputs": [],
   "source": [
    "# # save selection result\n",
    "# with open('division_process_files/estimation_division_process_2steps_500repeats_2times.pickle', 'wb') as file_:\n",
    "#     pickle.dump(sel_n2, file_)"
   ]
  },
  {
   "cell_type": "code",
   "execution_count": 7,
   "metadata": {},
   "outputs": [],
   "source": [
    "# load sel_n2 selection result\n",
    "sel_n2 = pickle.load(open('division_process_files/estimation_division_process_2steps_500repeats_2times.pickle', 'rb'))"
   ]
  },
  {
   "cell_type": "code",
   "execution_count": 8,
   "metadata": {},
   "outputs": [
    {
     "data": {
      "text/plain": [
       "array([2.94199801e-08, 9.23815018e-01, 7.50532880e-02, 1.09903738e-03,\n",
       "       3.09787101e-05, 1.46467546e-06, 1.49757798e-07, 2.69976213e-08,\n",
       "       5.40393704e-09, 1.38216894e-09, 4.22536857e-10, 1.63676241e-10,\n",
       "       7.86183219e-11, 4.15185014e-11, 2.12642350e-11, 9.58504100e-12,\n",
       "       7.47489169e-12, 4.60046981e-12, 2.86128932e-12, 2.05360491e-12])"
      ]
     },
     "execution_count": 8,
     "metadata": {},
     "output_type": "execute_result"
    }
   ],
   "source": [
    "me.selection.compute_model_probabilities(sel_n2)\n",
    "# array([2.71592205e-08, 9.25288271e-01, 7.47117019e-02])"
   ]
  },
  {
   "cell_type": "code",
   "execution_count": 24,
   "metadata": {},
   "outputs": [
    {
     "name": "stdout",
     "output_type": "stream",
     "text": [
      "net_div_n2\n"
     ]
    },
    {
     "data": {
      "image/png": "[encoded data removed]",
      "text/plain": [
       "<Figure size 57.6x36 with 1 Axes>"
      ]
     },
     "metadata": {
      "needs_background": "light"
     },
     "output_type": "display_data"
    },
    {
     "data": {
      "image/png": "[encoded data removed]",
      "text/plain": [
       "<Figure size 57.6x36 with 1 Axes>"
      ]
     },
     "metadata": {
      "needs_background": "light"
     },
     "output_type": "display_data"
    },
    {
     "data": {
      "image/png": "[encoded data removed]",
      "text/plain": [
       "<Figure size 244.8x244.8 with 1 Axes>"
      ]
     },
     "metadata": {
      "needs_background": "light"
     },
     "output_type": "display_data"
    }
   ],
   "source": [
    "plt.rcParams.update({'figure.figsize': (0.8, 0.5)})\n",
    "est = sel_n2[1]\n",
    "print(est.net.net_name)\n",
    "settings = {\n",
    "    'X_t': {'label': 'E$(X_t)$', 'color': cactiv},\n",
    "}\n",
    "me.plots.est_bestfit_mean_plot(est, y_lim=(0, 5.5), settings=settings, save='paper_figures/div_process_best_true_model_n2_mean.pdf')\n",
    "settings = {\n",
    "    ('X_t', 'X_t'): {'label': 'Var$(X_t)$', 'color': cactiv},\n",
    "}\n",
    "me.plots.est_bestfit_variance_plot(est, settings=settings, save='paper_figures/div_process_best_true_model_n2_var.pdf')\n",
    "me.plots.est_corner_kernel_plot(est, save='paper_figures/div_process_best_true_model_n2_theta.pdf')"
   ]
  },
  {
   "cell_type": "code",
   "execution_count": 12,
   "metadata": {},
   "outputs": [
    {
     "data": {
      "application/vnd.jupyter.widget-view+json": {
       "model_id": "ee50a3f3305442b0b3a35bfb14b0dac5",
       "version_major": 2,
       "version_minor": 0
      },
      "text/plain": [
       "HBox(children=(FloatProgress(value=0.0, max=20.0), HTML(value='')))"
      ]
     },
     "metadata": {},
     "output_type": "display_data"
    },
    {
     "name": "stderr",
     "output_type": "stream",
     "text": [
      "/Users/mlanghinrichs/opt/anaconda3/envs/cd44_project/lib/python3.7/site-packages/scipy/integrate/odepack.py:247: ODEintWarning: Excess work done on this call (perhaps wrong Dfun type). Run with full_output = 1 to get quantitative information.\n",
      "  warnings.warn(warning_msg, ODEintWarning)\n",
      "/Users/mlanghinrichs/opt/anaconda3/envs/cd44_project/lib/python3.7/site-packages/scipy/integrate/odepack.py:247: ODEintWarning: Excess work done on this call (perhaps wrong Dfun type). Run with full_output = 1 to get quantitative information.\n",
      "  warnings.warn(warning_msg, ODEintWarning)\n",
      "/Users/mlanghinrichs/opt/anaconda3/envs/cd44_project/lib/python3.7/site-packages/scipy/integrate/odepack.py:247: ODEintWarning: Excess work done on this call (perhaps wrong Dfun type). Run with full_output = 1 to get quantitative information.\n",
      "  warnings.warn(warning_msg, ODEintWarning)\n"
     ]
    },
    {
     "name": "stdout",
     "output_type": "stream",
     "text": [
      "\n"
     ]
    }
   ],
   "source": [
    "### run selection (sequentially)\n",
    "sel_n15 = me.selection.select_models(nets, variables, initial_values,\n",
    "                                    theta_bounds, data_n15, parallel=False)"
   ]
  },
  {
   "cell_type": "code",
   "execution_count": 13,
   "metadata": {},
   "outputs": [],
   "source": [
    "# # save selection result\n",
    "# with open('division_process_files/estimation_division_process_15steps_500repeats_2times.pickle', 'wb') as file_:\n",
    "#     pickle.dump(sel_n15, file_)"
   ]
  },
  {
   "cell_type": "code",
   "execution_count": 14,
   "metadata": {},
   "outputs": [],
   "source": [
    "# load sel_n15 selection result\n",
    "sel_n15 = pickle.load(open('division_process_files/estimation_division_process_15steps_500repeats_2times.pickle', 'rb'))"
   ]
  },
  {
   "cell_type": "code",
   "execution_count": 15,
   "metadata": {},
   "outputs": [
    {
     "data": {
      "text/plain": [
       "array([0.00000000e+000, 2.03965824e-251, 6.16694347e-149, 5.59008544e-091,\n",
       "       1.02411627e-056, 1.03757229e-035, 1.49598932e-022, 3.91734036e-014,\n",
       "       9.65891431e-009, 1.84675343e-005, 2.53012086e-003, 3.67539720e-002,\n",
       "       1.30029552e-001, 2.61993739e-001, 2.65612048e-001, 1.59376125e-001,\n",
       "       7.84489239e-002, 4.00190779e-002, 1.79014707e-002, 7.31649273e-003])"
      ]
     },
     "execution_count": 15,
     "metadata": {},
     "output_type": "execute_result"
    }
   ],
   "source": [
    "me.selection.compute_model_probabilities(sel_n15)\n",
    "# array([0.37633899, 0.38744786, 0.23621315])"
   ]
  },
  {
   "cell_type": "code",
   "execution_count": 23,
   "metadata": {},
   "outputs": [
    {
     "name": "stdout",
     "output_type": "stream",
     "text": [
      "net_div_n15\n"
     ]
    },
    {
     "data": {
      "image/png": "[encoded data removed]",
      "text/plain": [
       "<Figure size 57.6x36 with 1 Axes>"
      ]
     },
     "metadata": {
      "needs_background": "light"
     },
     "output_type": "display_data"
    },
    {
     "data": {
      "image/png": "[encoded data removed]",
      "text/plain": [
       "<Figure size 57.6x36 with 1 Axes>"
      ]
     },
     "metadata": {
      "needs_background": "light"
     },
     "output_type": "display_data"
    },
    {
     "data": {
      "image/png": "[encoded data removed]",
      "text/plain": [
       "<Figure size 244.8x244.8 with 1 Axes>"
      ]
     },
     "metadata": {
      "needs_background": "light"
     },
     "output_type": "display_data"
    }
   ],
   "source": [
    "plt.rcParams.update({'figure.figsize': (0.8, 0.5)})\n",
    "est = sel_n15[14]\n",
    "print(est.net.net_name)\n",
    "settings = {\n",
    "    'X_t': {'label': 'E$(X_t)$', 'color': cactiv},\n",
    "}\n",
    "me.plots.est_bestfit_mean_plot(est, y_lim=(0, 5.5), settings=settings, save='paper_figures/div_process_best_true_model_n15_mean.pdf')\n",
    "settings = {\n",
    "    ('X_t', 'X_t'): {'label': 'Var$(X_t)$', 'color': cactiv},\n",
    "}\n",
    "me.plots.est_bestfit_variance_plot(est, settings=settings, save='paper_figures/div_process_best_true_model_n15_var.pdf')\n",
    "me.plots.est_corner_kernel_plot(est, save='paper_figures/div_process_best_true_model_n15_theta.pdf')"
   ]
  },
  {
   "cell_type": "code",
   "execution_count": 19,
   "metadata": {},
   "outputs": [
    {
     "name": "stdout",
     "output_type": "stream",
     "text": [
      "0.9999999999999998\n"
     ]
    },
    {
     "data": {
      "image/png": "[encoded data removed]",
      "text/plain": [
       "<Figure size 86.4x10.8 with 2 Axes>"
      ]
     },
     "metadata": {
      "needs_background": "light"
     },
     "output_type": "display_data"
    }
   ],
   "source": [
    "# posterior probability heatmaps\n",
    "# steps\n",
    "model_probs = me.selection.compute_model_probabilities(sel_n2)\n",
    "steps = np.array(range(1, len(model_probs)+1))\n",
    "print(np.sum(model_probs))\n",
    "plt.figure(figsize=(1.2,0.15))\n",
    "df = pd.DataFrame(np.array([model_probs]), columns=steps) # , index=rows\n",
    "sns.heatmap(df, cmap='cividis', annot=False, fmt='.0f') # 'plasma' # annot=True\n",
    "plt.yticks(rotation=0, va='center')\n",
    "plt.xticks([0.5, 4.5, 9.5, 14.5, 19.5], [1, 5, 10, 15, 20])\n",
    "plt.xticks(rotation=0)\n",
    "plt.savefig('paper_figures/div_process_steps_n2.pdf', bbox_inches='tight')"
   ]
  },
  {
   "cell_type": "code",
   "execution_count": 20,
   "metadata": {},
   "outputs": [
    {
     "name": "stdout",
     "output_type": "stream",
     "text": [
      "1.0\n"
     ]
    },
    {
     "data": {
      "image/png": "[encoded data removed]",
      "text/plain": [
       "<Figure size 86.4x10.8 with 2 Axes>"
      ]
     },
     "metadata": {
      "needs_background": "light"
     },
     "output_type": "display_data"
    }
   ],
   "source": [
    "# posterior probability heatmaps\n",
    "# steps\n",
    "model_probs = me.selection.compute_model_probabilities(sel_n15)\n",
    "steps = np.array(range(1, len(model_probs)+1))\n",
    "print(np.sum(model_probs))\n",
    "plt.figure(figsize=(1.2,0.15))\n",
    "df = pd.DataFrame(np.array([model_probs]), columns=steps) # , index=rows\n",
    "sns.heatmap(df, cmap='cividis', annot=False, fmt='.0f') # 'plasma' # annot=True\n",
    "plt.yticks(rotation=0, va='center')\n",
    "plt.xticks([0.5, 4.5, 9.5, 14.5, 19.5], [1, 5, 10, 15, 20])\n",
    "plt.xticks(rotation=0)\n",
    "plt.savefig('paper_figures/div_process_steps_n15.pdf', bbox_inches='tight')"
   ]
  }
 ],
 "metadata": {
  "kernelspec": {
   "display_name": "Python 3",
   "language": "python",
   "name": "python3"
  },
  "language_info": {
   "codemirror_mode": {
    "name": "ipython",
    "version": 3
   },
   "file_extension": ".py",
   "mimetype": "text/x-python",
   "name": "python",
   "nbconvert_exporter": "python",
   "pygments_lexer": "ipython3",
   "version": "3.7.4"
  }
 },
 "nbformat": 4,
 "nbformat_minor": 4
}
