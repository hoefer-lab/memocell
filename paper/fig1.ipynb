{
 "cells": [
  {
   "cell_type": "markdown",
   "metadata": {},
   "source": [
    "#### Figure 1"
   ]
  },
  {
   "cell_type": "markdown",
   "metadata": {},
   "source": [
    "##### Package imports, figure settings, color definitions\n",
    "<img src=\"color_pal.png\" width=\"500\">"
   ]
  },
  {
   "cell_type": "code",
   "execution_count": 1,
   "metadata": {},
   "outputs": [
    {
     "name": "stderr",
     "output_type": "stream",
     "text": [
      "/Users/mlanghinrichs/Documents/Studium/MSc/09_hiwi_hoefer/01_project/memo_py/memo_py/selection.py:18: TqdmExperimentalWarning: Using `tqdm.autonotebook.tqdm` in notebook mode. Use `tqdm.tqdm` instead to force console mode (e.g. in jupyter console)\n",
      "  from tqdm.autonotebook import tqdm\n"
     ]
    },
    {
     "data": {
      "image/png": "[encoded data removed]",
      "text/plain": [
       "<Figure size 504x72 with 1 Axes>"
      ]
     },
     "metadata": {
      "needs_background": "light"
     },
     "output_type": "display_data"
    },
    {
     "data": {
      "image/png": "[encoded data removed]",
      "text/plain": [
       "<Figure size 216x72 with 1 Axes>"
      ]
     },
     "metadata": {
      "needs_background": "light"
     },
     "output_type": "display_data"
    },
    {
     "data": {
      "image/png": "[encoded data removed]",
      "text/plain": [
       "<Figure size 216x72 with 1 Axes>"
      ]
     },
     "metadata": {
      "needs_background": "light"
     },
     "output_type": "display_data"
    },
    {
     "data": {
      "image/png": "[encoded data removed]",
      "text/plain": [
       "<Figure size 216x72 with 1 Axes>"
      ]
     },
     "metadata": {
      "needs_background": "light"
     },
     "output_type": "display_data"
    },
    {
     "data": {
      "image/png": "[encoded data removed]",
      "text/plain": [
       "<Figure size 216x72 with 1 Axes>"
      ]
     },
     "metadata": {
      "needs_background": "light"
     },
     "output_type": "display_data"
    },
    {
     "data": {
      "image/png": "[encoded data removed]",
      "text/plain": [
       "<Figure size 216x72 with 1 Axes>"
      ]
     },
     "metadata": {
      "needs_background": "light"
     },
     "output_type": "display_data"
    },
    {
     "data": {
      "image/png": "[encoded data removed]",
      "text/plain": [
       "<Figure size 216x72 with 1 Axes>"
      ]
     },
     "metadata": {
      "needs_background": "light"
     },
     "output_type": "display_data"
    },
    {
     "data": {
      "image/png": "[encoded data removed]",
      "text/plain": [
       "<Figure size 216x72 with 1 Axes>"
      ]
     },
     "metadata": {
      "needs_background": "light"
     },
     "output_type": "display_data"
    },
    {
     "data": {
      "image/png": "[encoded data removed]",
      "text/plain": [
       "<Figure size 216x72 with 1 Axes>"
      ]
     },
     "metadata": {
      "needs_background": "light"
     },
     "output_type": "display_data"
    }
   ],
   "source": [
    "%matplotlib inline\n",
    "%run settings_load.py"
   ]
  },
  {
   "cell_type": "markdown",
   "metadata": {},
   "source": [
    "##### simple division model"
   ]
  },
  {
   "cell_type": "code",
   "execution_count": 62,
   "metadata": {},
   "outputs": [
    {
     "data": {
      "image/png": "[encoded data removed]",
      "text/plain": [
       "<IPython.core.display.Image object>"
      ]
     },
     "metadata": {},
     "output_type": "display_data"
    },
    {
     "data": {
      "image/png": "[encoded data removed]",
      "text/plain": [
       "<IPython.core.display.Image object>"
      ]
     },
     "metadata": {},
     "output_type": "display_data"
    }
   ],
   "source": [
    "t = [\n",
    "        {'start': 'X_t', 'end': 'X_t', 'rate_symbol': 'l', 'type': 'S -> S + S', 'reaction_steps': 1}\n",
    "        ]\n",
    "\n",
    "net = me.Network('net_div_exp')\n",
    "net.structure(t)\n",
    "\n",
    "node_settings = {\n",
    "    'X_t': {'label': 'X_t', 'color': \"#00CD6C\"}\n",
    "}\n",
    "\n",
    "edge_settings = {\n",
    "    'l': {'label': '<I>&lambda;</I>', 'color': None}\n",
    "}\n",
    "\n",
    "me.plots.net_main_plot(net, node_settings=node_settings, edge_settings=edge_settings)\n",
    "a = me.plots.net_hidden_plot(net, node_settings=node_settings, edge_settings=edge_settings)"
   ]
  },
  {
   "cell_type": "code",
   "execution_count": 274,
   "metadata": {},
   "outputs": [
    {
     "name": "stdout",
     "output_type": "stream",
     "text": [
      "[ 0.          0.78947368  1.57894737  2.36842105  3.15789474  3.94736842\n",
      "  4.73684211  5.52631579  6.31578947  7.10526316  7.89473684  8.68421053\n",
      "  9.47368421 10.26315789 11.05263158 11.84210526 12.63157895 13.42105263\n",
      " 14.21052632 15.        ]\n",
      "[ 0.          0.51724138  1.03448276  1.55172414  2.06896552  2.5862069\n",
      "  3.10344828  3.62068966  4.13793103  4.65517241  5.17241379  5.68965517\n",
      "  6.20689655  6.72413793  7.24137931  7.75862069  8.27586207  8.79310345\n",
      "  9.31034483  9.82758621 10.34482759 10.86206897 11.37931034 11.89655172\n",
      " 12.4137931  12.93103448 13.44827586 13.96551724 14.48275862 15.        ]\n"
     ]
    },
    {
     "data": {
      "image/png": "[encoded data removed]",
      "text/plain": [
       "<Figure size 57.6x36 with 1 Axes>"
      ]
     },
     "metadata": {
      "needs_background": "light"
     },
     "output_type": "display_data"
    },
    {
     "data": {
      "image/png": "[encoded data removed]",
      "text/plain": [
       "<Figure size 57.6x36 with 1 Axes>"
      ]
     },
     "metadata": {
      "needs_background": "light"
     },
     "output_type": "display_data"
    }
   ],
   "source": [
    "# broad and tight waiting time distributions\n",
    "# broad\n",
    "theta = 1.0/0.2\n",
    "steps = 2\n",
    "bins = np.linspace(0.0, 15.0, num=20)\n",
    "print(bins)\n",
    "\n",
    "x = np.linspace(0, 15, 1000)\n",
    "y = stats.gamma.pdf(x, a=steps, loc=0, scale=theta/steps) # 'a' is shape\n",
    "rvs = stats.gamma.rvs(a=steps, loc=0, scale=theta/steps, size=100) # size=10000\n",
    "\n",
    "fig, ax = plt.subplots(figsize=(0.8, 0.5))\n",
    "ax = plt.gca()\n",
    "ax.spines['top'].set_visible(False)\n",
    "ax.spines['right'].set_visible(False)\n",
    "ax.spines['bottom'].set_visible(True)\n",
    "ax.spines['left'].set_visible(True)\n",
    "\n",
    "ax.hist(rvs, bins=bins, density=True, color=grey, alpha=0.6)\n",
    "ax.plot(x, y, linewidth=1.0, color=grey, label='')\n",
    "plt.axvline(x=theta, linewidth=0.8, color='black')\n",
    "\n",
    "# optional: hide numbers on axis\n",
    "ax.set_yticklabels([])\n",
    "ax.set_xticklabels([])\n",
    "ax.tick_params(axis=u'both', which=u'both',length=0)\n",
    "\n",
    "# leg = plt.legend()\n",
    "# leg.get_frame().set_edgecolor('lightgrey')\n",
    "plt.ylim((-0.003, None))\n",
    "plt.xlabel('Division time')\n",
    "plt.ylabel('Probability') # plt.ylabel('Probability density function')\n",
    "plt.savefig(f'paper_figures/waiting_time_distr_scheme_broad_g2.pdf', bbox_inches='tight')\n",
    "\n",
    "# tight\n",
    "theta = 1.0/0.255\n",
    "steps = 15\n",
    "bins = np.linspace(0.0, 15.0, num=30)\n",
    "print(bins)\n",
    "\n",
    "x = np.linspace(0, 15, 1000)\n",
    "y = stats.gamma.pdf(x, a=steps, loc=0, scale=theta/steps) # 'a' is shape\n",
    "rvs = stats.gamma.rvs(a=steps, loc=0, scale=theta/steps, size=100) # size=10000\n",
    "\n",
    "fig, ax = plt.subplots(figsize=(0.8, 0.5))\n",
    "ax = plt.gca()\n",
    "ax.spines['top'].set_visible(False)\n",
    "ax.spines['right'].set_visible(False)\n",
    "ax.spines['bottom'].set_visible(True)\n",
    "ax.spines['left'].set_visible(True)\n",
    "\n",
    "ax.hist(rvs, bins=bins, density=True, color=grey, alpha=0.6)\n",
    "ax.plot(x, y, linewidth=1.0, color=grey, label='')\n",
    "plt.axvline(x=theta, linewidth=0.8, color='black')\n",
    "\n",
    "# optional: hide numbers on axis\n",
    "ax.set_yticklabels([])\n",
    "ax.set_xticklabels([])\n",
    "ax.tick_params(axis=u'both', which=u'both',length=0)\n",
    "\n",
    "# leg = plt.legend()\n",
    "# leg.get_frame().set_edgecolor('lightgrey')\n",
    "plt.ylim((-0.005, None))\n",
    "plt.xlabel('Division time')\n",
    "plt.ylabel('Probability') # plt.ylabel('Probability density function')\n",
    "plt.savefig(f'paper_figures/waiting_time_distr_scheme_broad_g15.pdf', bbox_inches='tight')"
   ]
  },
  {
   "cell_type": "code",
   "execution_count": 170,
   "metadata": {},
   "outputs": [],
   "source": [
    "# broad model simulations\n",
    "t = [\n",
    "        {'start': 'X_t', 'end': 'X_t', 'rate_symbol': 'l', 'type': 'S -> S + S', 'reaction_steps': 2}\n",
    "        ]\n",
    "\n",
    "net = me.Network('net_div_g2')\n",
    "net.structure(t)\n",
    "\n",
    "num_iter = 10 # 3\n",
    "alpha_val = 0.6 # 0.8\n",
    "variables = {'X_t': ('X_t', )}\n",
    "initial_values = {'X_t': 1}\n",
    "theta_values = {'l': 0.2}\n",
    "time_values = np.linspace(0.0, 10.0, num=10000, endpoint=True)\n",
    "\n",
    "sim = me.Simulation(net)\n",
    "res_list = list()\n",
    "\n",
    "for __ in range(num_iter):\n",
    "    res_list.append(sim.simulate('gillespie', variables, initial_values, theta_values, time_values)[1])\n",
    "\n",
    "sims = np.array(res_list)"
   ]
  },
  {
   "cell_type": "code",
   "execution_count": 171,
   "metadata": {},
   "outputs": [
    {
     "data": {
      "image/png": "[encoded data removed]",
      "text/plain": [
       "<Figure size 57.6x36 with 1 Axes>"
      ]
     },
     "metadata": {
      "needs_background": "light"
     },
     "output_type": "display_data"
    }
   ],
   "source": [
    "# settings = {\n",
    "#     'X_t': {'label': '$X_t$', 'color': cactiv}\n",
    "# }\n",
    "\n",
    "# plt.rcParams.update({'figure.figsize': (1.2, 0.8)})\n",
    "# me.plots.sim_counts_plot(sim, settings=settings)\n",
    "    \n",
    "plt.rcParams.update({'figure.figsize': (0.8, 0.5)})\n",
    "ax = plt.gca()\n",
    "ax.spines['top'].set_visible(False)\n",
    "ax.spines['right'].set_visible(False)\n",
    "ax.spines['bottom'].set_visible(True)\n",
    "ax.spines['left'].set_visible(True)\n",
    "\n",
    "plt.plot(time_values, sims[0, 0, :], color=cactiv, linewidth=1.0, zorder=1000, label='$X_t$', alpha=alpha_val) # color='darkgreen'\n",
    "for trace_i in range(sims.shape[0]-1):\n",
    "        plt.plot(time_values, sims[trace_i+1, 0, :], color=cactiv, linewidth=1.0, zorder=1000, alpha=alpha_val) # color='darkgreen'\n",
    "\n",
    "ax.set_yticklabels([])\n",
    "ax.set_xticklabels([])\n",
    "ax.tick_params(axis=u'both', which=u'both',length=0)\n",
    "\n",
    "# ax.set_ylim([-0.3, None])\n",
    "# leg = plt.legend()\n",
    "# plt.legend(frameon=False)\n",
    "# leg.get_frame().set_edgecolor('lightgrey')\n",
    "plt.xlabel('Time')\n",
    "plt.ylabel('Cell number')\n",
    "plt.ylim(-0.2, 10)\n",
    "plt.legend()\n",
    "#plt.ylabel('#Cells')\n",
    "plt.savefig(f'paper_figures/sim_div_scheme_g2.pdf', bbox_inches='tight')"
   ]
  },
  {
   "cell_type": "code",
   "execution_count": 172,
   "metadata": {},
   "outputs": [
    {
     "data": {
      "image/png": "[encoded data removed]",
      "text/plain": [
       "<Figure size 57.6x36 with 1 Axes>"
      ]
     },
     "metadata": {
      "needs_background": "light"
     },
     "output_type": "display_data"
    },
    {
     "data": {
      "image/png": "[encoded data removed]",
      "text/plain": [
       "<Figure size 57.6x36 with 1 Axes>"
      ]
     },
     "metadata": {
      "needs_background": "light"
     },
     "output_type": "display_data"
    }
   ],
   "source": [
    "# mean and variance plots\n",
    "plt.rcParams.update({'figure.figsize': (0.8, 0.5)})\n",
    "ax = plt.gca()\n",
    "ax.spines['top'].set_visible(False)\n",
    "ax.spines['right'].set_visible(False)\n",
    "ax.spines['bottom'].set_visible(True)\n",
    "ax.spines['left'].set_visible(True)\n",
    "\n",
    "plt.plot(time_values, np.mean(sims[:, 0, :], axis=0),\n",
    "        color=cactiv, linewidth=1.0, zorder=1000, label='$X_t$')\n",
    "\n",
    "ax.set_xticklabels([])\n",
    "plt.tick_params(axis = \"x\", which = \"both\",length=0)\n",
    "\n",
    "plt.xlabel('Time')\n",
    "plt.ylabel('Sample mean')\n",
    "plt.ylim(0.0, 5.5)\n",
    "plt.legend()\n",
    "plt.savefig(f'paper_figures/sim_div_scheme_sample_mean_g2.pdf', bbox_inches='tight')\n",
    "\n",
    "plt.figure()\n",
    "ax = plt.gca()\n",
    "ax.spines['top'].set_visible(False)\n",
    "ax.spines['right'].set_visible(False)\n",
    "ax.spines['bottom'].set_visible(True)\n",
    "ax.spines['left'].set_visible(True)\n",
    "\n",
    "plt.plot(time_values, np.var(sims[:, 0, :], axis=0, ddof=1),\n",
    "        color=cactiv, linewidth=1.0, zorder=1000, label='$X_t$')\n",
    "\n",
    "ax.set_xticklabels([])\n",
    "plt.tick_params(axis = \"x\", which = \"both\",length=0)\n",
    "\n",
    "plt.xlabel('Time')\n",
    "plt.ylabel('Sample variance')\n",
    "plt.legend()\n",
    "plt.savefig(f'paper_figures/sim_div_scheme_sample_var_g2.pdf', bbox_inches='tight')"
   ]
  },
  {
   "cell_type": "code",
   "execution_count": 173,
   "metadata": {},
   "outputs": [
    {
     "data": {
      "image/png": "[encoded data removed]",
      "text/plain": [
       "<Figure size 57.6x36 with 1 Axes>"
      ]
     },
     "metadata": {
      "needs_background": "light"
     },
     "output_type": "display_data"
    },
    {
     "data": {
      "image/png": "[encoded data removed]",
      "text/plain": [
       "<Figure size 57.6x36 with 1 Axes>"
      ]
     },
     "metadata": {
      "needs_background": "light"
     },
     "output_type": "display_data"
    },
    {
     "data": {
      "text/plain": [
       "4.475012567019526"
      ]
     },
     "execution_count": 173,
     "metadata": {},
     "output_type": "execute_result"
    }
   ],
   "source": [
    "# moment solutions\n",
    "sim = me.Simulation(net)\n",
    "res = sim.simulate('moments', variables, initial_values, theta_values, time_values)\n",
    "\n",
    "settings = {\n",
    "    'X_t': {'label': 'E$(X_t)$', 'color': cactiv},\n",
    "}\n",
    "me.plots.sim_mean_plot(sim, y_lim=(0.0, 5.5), settings=settings, save='paper_figures/sim_div_mom_scheme_g2_mean.pdf')\n",
    "\n",
    "settings = {\n",
    "    ('X_t', 'X_t'): {'label': 'Var$(X_t)$', 'color': cactiv},\n",
    "}\n",
    "me.plots.sim_variance_plot(sim, settings=settings, save='paper_figures/sim_div_mom_scheme_g2_var.pdf')\n",
    "\n",
    "# last mean time point\n",
    "sim.sim_moments_res[0][0, -1]"
   ]
  },
  {
   "cell_type": "code",
   "execution_count": 143,
   "metadata": {},
   "outputs": [],
   "source": [
    "# tight model simulations\n",
    "t = [\n",
    "        {'start': 'X_t', 'end': 'X_t', 'rate_symbol': 'l', 'type': 'S -> S + S', 'reaction_steps': 15}\n",
    "        ]\n",
    "\n",
    "net = me.Network('net_div_g15')\n",
    "net.structure(t)\n",
    "\n",
    "num_iter = 10 # 3\n",
    "alpha_val = 0.6 # 0.8\n",
    "variables = {'X_t': ('X_t', )}\n",
    "initial_values = {'X_t': 1}\n",
    "theta_values = {'l': 0.255}\n",
    "time_values = np.linspace(0.0, 10.0, num=10000, endpoint=True)\n",
    "\n",
    "sim = me.Simulation(net)\n",
    "res_list = list()\n",
    "\n",
    "for __ in range(num_iter):\n",
    "    res_list.append(sim.simulate('gillespie', variables, initial_values, theta_values, time_values)[1])\n",
    "\n",
    "sims = np.array(res_list)"
   ]
  },
  {
   "cell_type": "code",
   "execution_count": 160,
   "metadata": {},
   "outputs": [
    {
     "data": {
      "image/png": "[encoded data removed]",
      "text/plain": [
       "<Figure size 57.6x36 with 1 Axes>"
      ]
     },
     "metadata": {
      "needs_background": "light"
     },
     "output_type": "display_data"
    }
   ],
   "source": [
    "# settings = {\n",
    "#     'X_t': {'label': '$X_t$', 'color': cactiv}\n",
    "# }\n",
    "\n",
    "# plt.rcParams.update({'figure.figsize': (1.2, 0.8)})\n",
    "# me.plots.sim_counts_plot(sim, settings=settings)\n",
    "    \n",
    "plt.rcParams.update({'figure.figsize': (0.8, 0.5)})\n",
    "ax = plt.gca()\n",
    "ax.spines['top'].set_visible(False)\n",
    "ax.spines['right'].set_visible(False)\n",
    "ax.spines['bottom'].set_visible(True)\n",
    "ax.spines['left'].set_visible(True)\n",
    "\n",
    "plt.plot(time_values, sims[0, 0, :], color=cactiv, linewidth=1.0, zorder=1000, label='$X_t$', alpha=0.8) # color='darkgreen'\n",
    "for trace_i in range(sims.shape[0]-1):\n",
    "        plt.plot(time_values, sims[trace_i+1, 0, :], color=cactiv, linewidth=1.0, zorder=1000, alpha=0.8) # color='darkgreen'\n",
    "\n",
    "ax.set_yticklabels([])\n",
    "ax.set_xticklabels([])\n",
    "ax.tick_params(axis=u'both', which=u'both',length=0)\n",
    "\n",
    "# ax.set_ylim([-0.3, None])\n",
    "# leg = plt.legend()\n",
    "# plt.legend(frameon=False)\n",
    "# leg.get_frame().set_edgecolor('lightgrey')\n",
    "plt.xlabel('Time')\n",
    "plt.ylabel('Cell number')\n",
    "plt.ylim(-0.2, 10)\n",
    "plt.legend()\n",
    "#plt.ylabel('#Cells')\n",
    "plt.savefig(f'paper_figures/sim_div_scheme_g15.pdf', bbox_inches='tight')"
   ]
  },
  {
   "cell_type": "code",
   "execution_count": 161,
   "metadata": {},
   "outputs": [
    {
     "data": {
      "image/png": "[encoded data removed]",
      "text/plain": [
       "<Figure size 57.6x36 with 1 Axes>"
      ]
     },
     "metadata": {
      "needs_background": "light"
     },
     "output_type": "display_data"
    },
    {
     "data": {
      "image/png": "[encoded data removed]",
      "text/plain": [
       "<Figure size 57.6x36 with 1 Axes>"
      ]
     },
     "metadata": {
      "needs_background": "light"
     },
     "output_type": "display_data"
    }
   ],
   "source": [
    "# mean and variance plots\n",
    "plt.rcParams.update({'figure.figsize': (0.8, 0.5)})\n",
    "ax = plt.gca()\n",
    "ax.spines['top'].set_visible(False)\n",
    "ax.spines['right'].set_visible(False)\n",
    "ax.spines['bottom'].set_visible(True)\n",
    "ax.spines['left'].set_visible(True)\n",
    "\n",
    "plt.plot(time_values, np.mean(sims[:, 0, :], axis=0),\n",
    "        color=cactiv, linewidth=1.0, zorder=1000, label='$X_t$')\n",
    "\n",
    "ax.set_xticklabels([])\n",
    "plt.tick_params(axis = \"x\", which = \"both\",length=0)\n",
    "\n",
    "plt.xlabel('Time')\n",
    "plt.ylabel('Sample mean')\n",
    "plt.ylim(0.0, 5.5)\n",
    "plt.legend()\n",
    "plt.savefig(f'paper_figures/sim_div_scheme_sample_mean_g15.pdf', bbox_inches='tight')\n",
    "\n",
    "plt.figure()\n",
    "ax = plt.gca()\n",
    "ax.spines['top'].set_visible(False)\n",
    "ax.spines['right'].set_visible(False)\n",
    "ax.spines['bottom'].set_visible(True)\n",
    "ax.spines['left'].set_visible(True)\n",
    "\n",
    "plt.plot(time_values, np.var(sims[:, 0, :], axis=0, ddof=1),\n",
    "        color=cactiv, linewidth=1.0, zorder=1000, label='$X_t$')\n",
    "\n",
    "ax.set_xticklabels([])\n",
    "plt.tick_params(axis = \"x\", which = \"both\",length=0)\n",
    "\n",
    "plt.xlabel('Time')\n",
    "plt.ylabel('Sample variance')\n",
    "plt.legend()\n",
    "plt.savefig(f'paper_figures/sim_div_scheme_sample_var_g15.pdf', bbox_inches='tight')"
   ]
  },
  {
   "cell_type": "code",
   "execution_count": 162,
   "metadata": {},
   "outputs": [
    {
     "data": {
      "image/png": "[encoded data removed]",
      "text/plain": [
       "<Figure size 57.6x36 with 1 Axes>"
      ]
     },
     "metadata": {
      "needs_background": "light"
     },
     "output_type": "display_data"
    },
    {
     "data": {
      "image/png": "[encoded data removed]",
      "text/plain": [
       "<Figure size 57.6x36 with 1 Axes>"
      ]
     },
     "metadata": {
      "needs_background": "light"
     },
     "output_type": "display_data"
    },
    {
     "data": {
      "text/plain": [
       "4.48138465306211"
      ]
     },
     "execution_count": 162,
     "metadata": {},
     "output_type": "execute_result"
    }
   ],
   "source": [
    "# moment solutions\n",
    "sim = me.Simulation(net)\n",
    "res = sim.simulate('moments', variables, initial_values, theta_values, time_values)\n",
    "\n",
    "settings = {\n",
    "    'X_t': {'label': 'E$(X_t)$', 'color': cactiv},\n",
    "}\n",
    "me.plots.sim_mean_plot(sim, y_lim=(0.0, 5.5), settings=settings, save='paper_figures/sim_div_mom_scheme_g15_mean.pdf')\n",
    "\n",
    "settings = {\n",
    "    ('X_t', 'X_t'): {'label': 'Var$(X_t)$', 'color': cactiv},\n",
    "}\n",
    "me.plots.sim_variance_plot(sim, settings=settings, save='paper_figures/sim_div_mom_scheme_g15_var.pdf')\n",
    "\n",
    "# last mean time point\n",
    "sim.sim_moments_res[0][0, -1]"
   ]
  },
  {
   "cell_type": "markdown",
   "metadata": {},
   "source": [
    "##### waiting time distr schemes"
   ]
  },
  {
   "cell_type": "code",
   "execution_count": 315,
   "metadata": {},
   "outputs": [
    {
     "name": "stdout",
     "output_type": "stream",
     "text": [
      "[ 0.  2.  4.  6.  8. 10. 12. 14. 16. 18. 20. 22. 24. 26. 28. 30. 32. 34.\n",
      " 36. 38. 40. 42. 44. 46. 48. 50. 52. 54.]\n"
     ]
    },
    {
     "data": {
      "image/png": "[encoded data removed]",
      "text/plain": [
       "<Figure size 57.6x36 with 1 Axes>"
      ]
     },
     "metadata": {
      "needs_background": "light"
     },
     "output_type": "display_data"
    }
   ],
   "source": [
    "# exp\n",
    "theta = 20\n",
    "steps = 1\n",
    "bins = np.linspace(0.0, 54.0, num=28)\n",
    "print(bins)\n",
    "\n",
    "x = np.linspace(0, 54, 1000)\n",
    "y = stats.expon.pdf(x, scale=theta, loc=0) # 'a' is shape\n",
    "rvs = stats.expon.rvs(scale=theta, loc=0, size=100) # size=10000\n",
    "\n",
    "fig, ax = plt.subplots(figsize=(0.8, 0.5))\n",
    "ax = plt.gca()\n",
    "ax.spines['top'].set_visible(False)\n",
    "ax.spines['right'].set_visible(False)\n",
    "ax.spines['bottom'].set_visible(True)\n",
    "ax.spines['left'].set_visible(True)\n",
    "\n",
    "ax.hist(rvs, bins=bins, density=True, color=grey, alpha=0.6)\n",
    "ax.plot(x, y, linewidth=1.0, color=grey, label='')\n",
    "plt.axvline(x=theta, linewidth=0.8, color='black')\n",
    "\n",
    "# optional: hide numbers on axis\n",
    "ax.set_yticklabels([])\n",
    "ax.set_xticklabels([])\n",
    "ax.tick_params(axis=u'both', which=u'both',length=0)\n",
    "\n",
    "# leg = plt.legend()\n",
    "# leg.get_frame().set_edgecolor('lightgrey')\n",
    "plt.ylim((-0.003, None))\n",
    "plt.xlabel('Waiting time')\n",
    "plt.ylabel('Probability') # plt.ylabel('Probability density function')\n",
    "plt.savefig(f'paper_figures/waiting_time_distr_scheme_exp.pdf', bbox_inches='tight')"
   ]
  },
  {
   "cell_type": "code",
   "execution_count": 320,
   "metadata": {},
   "outputs": [
    {
     "name": "stdout",
     "output_type": "stream",
     "text": [
      "[ 0.  2.  4.  6.  8. 10. 12. 14. 16. 18. 20. 22. 24. 26. 28. 30. 32. 34.\n",
      " 36. 38. 40. 42. 44. 46. 48. 50. 52. 54.]\n"
     ]
    },
    {
     "data": {
      "image/png": "[encoded data removed]",
      "text/plain": [
       "<Figure size 57.6x36 with 1 Axes>"
      ]
     },
     "metadata": {
      "needs_background": "light"
     },
     "output_type": "display_data"
    }
   ],
   "source": [
    "# gamma\n",
    "theta = 20\n",
    "steps = 7\n",
    "bins = np.linspace(0.0, 54.0, num=28)\n",
    "print(bins)\n",
    "\n",
    "x = np.linspace(0, 54, 1000)\n",
    "y = stats.gamma.pdf(x, a=steps, loc=0, scale=theta/steps) # 'a' is shape\n",
    "rvs = stats.gamma.rvs(a=steps, loc=0, scale=theta/steps, size=100) # size=10000\n",
    "\n",
    "fig, ax = plt.subplots(figsize=(0.8, 0.5))\n",
    "ax = plt.gca()\n",
    "ax.spines['top'].set_visible(False)\n",
    "ax.spines['right'].set_visible(False)\n",
    "ax.spines['bottom'].set_visible(True)\n",
    "ax.spines['left'].set_visible(True)\n",
    "\n",
    "ax.hist(rvs, bins=bins, density=True, color=grey, alpha=0.6)\n",
    "ax.plot(x, y, linewidth=1.0, color=grey, label='')\n",
    "plt.axvline(x=theta, linewidth=0.8, color='black')\n",
    "\n",
    "# optional: hide numbers on axis\n",
    "ax.set_yticklabels([])\n",
    "ax.set_xticklabels([])\n",
    "ax.tick_params(axis=u'both', which=u'both',length=0)\n",
    "\n",
    "# leg = plt.legend()\n",
    "# leg.get_frame().set_edgecolor('lightgrey')\n",
    "plt.ylim((-0.003, None))\n",
    "plt.xlabel('Waiting time')\n",
    "plt.ylabel('Probability') # plt.ylabel('Probability density function')\n",
    "plt.savefig(f'paper_figures/waiting_time_distr_scheme_gamma.pdf', bbox_inches='tight')"
   ]
  },
  {
   "cell_type": "code",
   "execution_count": 323,
   "metadata": {},
   "outputs": [
    {
     "name": "stdout",
     "output_type": "stream",
     "text": [
      "[ 0.  2.  4.  6.  8. 10. 12. 14. 16. 18. 20. 22. 24. 26. 28. 30. 32. 34.\n",
      " 36. 38. 40. 42. 44. 46. 48. 50. 52. 54.]\n",
      "0.20102651839178787\n",
      "0.5988023952095808\n",
      "0.20017108639863132\n",
      "1.0\n",
      "9999\n"
     ]
    },
    {
     "data": {
      "image/png": "[encoded data removed]",
      "text/plain": [
       "<Figure size 57.6x36 with 1 Axes>"
      ]
     },
     "metadata": {
      "needs_background": "light"
     },
     "output_type": "display_data"
    }
   ],
   "source": [
    "# phase type (ph)\n",
    "theta1 = 1/(0.047 / 2) # 40\n",
    "theta2 = 20\n",
    "theta3 = 1/(0.026 / 2) # 76\n",
    "\n",
    "steps1 = 10\n",
    "steps2 = 14 \n",
    "steps3 = 18\n",
    "\n",
    "bins = np.linspace(0.0, 54.0, num=28)\n",
    "print(bins)\n",
    "w1 = steps1/theta1 / (steps1/theta1 + steps2/theta2 + steps3/theta3)\n",
    "w2 = steps2/theta2 / (steps1/theta1 + steps2/theta2 + steps3/theta3)\n",
    "w3 = steps3/theta3 / (steps1/theta1 + steps2/theta2 + steps3/theta3)\n",
    "print(w1)\n",
    "print(w2)\n",
    "print(w3)\n",
    "print(w1 + w2 + w3)\n",
    "\n",
    "x = np.linspace(0, 54, 1000)\n",
    "y1 = stats.gamma.pdf(x, a=steps1, loc=0, scale=theta1/steps1) # 'a' is shape\n",
    "y2 = stats.gamma.pdf(x, a=steps2, loc=0, scale=theta2/steps2) # 'a' is shape\n",
    "# y3 = stats.gamma.pdf(x, a=steps3, loc=0, scale=theta3/steps3) # 'a' is shape\n",
    "\n",
    "rvs1 = stats.gamma.rvs(a=steps1, loc=0, scale=theta1/steps1, size=int(100 * w1))\n",
    "rvs2 = stats.gamma.rvs(a=steps2, loc=0, scale=theta2/steps2, size=int(100 * w2))\n",
    "# rvs3 = stats.gamma.rvs(a=steps3, loc=0, scale=theta3/steps3, size=int(10000 * w3))\n",
    "print(int(10000 * w1) + int(10000 * w2) + int(10000 * w3))\n",
    "\n",
    "fig, ax = plt.subplots(figsize=(0.8, 0.5))\n",
    "ax = plt.gca()\n",
    "ax.spines['top'].set_visible(False)\n",
    "ax.spines['right'].set_visible(False)\n",
    "ax.spines['bottom'].set_visible(True)\n",
    "ax.spines['left'].set_visible(True)\n",
    "\n",
    "# the '0.5' in the weights come from the 2-hour interval in the bins\n",
    "# ax.hist(rvs1, bins=bins, weights=np.full(rvs1.shape, 0.5/10000), density=False, color='gold', alpha=0.6)\n",
    "# ax.hist(rvs2, bins=bins, weights=np.full(rvs2.shape, 0.5/10000), density=False, color='orange', alpha=0.6)\n",
    "# ax.hist(rvs3, bins=bins, weights=np.full(rvs3.shape, 0.5/10000), density=False, color='dodgerblue', alpha=0.8)\n",
    "\n",
    "# combined hist\n",
    "ax.hist(np.concatenate([rvs1, rvs2]), bins=bins, \n",
    "        weights=np.full((rvs1.shape[0] + rvs2.shape[0],), 0.5/100), \n",
    "        density=False, color=grey, alpha=0.6)\n",
    "\n",
    "ax.plot(x, w1 * y1, linewidth=1.0, color=grey, label='', \n",
    "        linestyle='--', zorder=100)\n",
    "ax.plot(x, w2 * y2, linewidth=1.0, color=grey, label='', \n",
    "        linestyle='--', zorder=100)\n",
    "# ax.plot(x, w3 * y3, linewidth=1.0, color='dodgerblue', label='')\n",
    "\n",
    "ax.plot(x, w1 * y1 + w2 * y2, linewidth=1.0, color=grey, \n",
    "        label='', zorder=200) # + w3 * y3\n",
    "plt.axvline(x=theta1, linewidth=0.8, color='black', zorder=250)\n",
    "plt.axvline(x=theta2, linewidth=0.8, color='black', zorder=250)\n",
    "\n",
    "# optional: hide numbers on axis\n",
    "ax.set_yticklabels([])\n",
    "ax.set_xticklabels([])\n",
    "ax.tick_params(axis=u'both', which=u'both',length=0)\n",
    "\n",
    "# leg = plt.legend()\n",
    "# leg.get_frame().set_edgecolor('lightgrey')\n",
    "plt.ylim((-0.003, None))\n",
    "plt.xlabel('Waiting time')\n",
    "plt.ylabel('Probability') # plt.ylabel('Probability density function')\n",
    "plt.savefig(f'paper_figures/waiting_time_distr_scheme_ph.pdf', bbox_inches='tight')"
   ]
  },
  {
   "cell_type": "code",
   "execution_count": 24,
   "metadata": {},
   "outputs": [
    {
     "data": {
      "text/plain": [
       "(7998,)"
      ]
     },
     "execution_count": 24,
     "metadata": {},
     "output_type": "execute_result"
    }
   ],
   "source": [
    "np.concatenate([rvs1, rvs2]).shape"
   ]
  },
  {
   "cell_type": "markdown",
   "metadata": {},
   "source": [
    "##### moment differential equations for simple division model\n",
    "also see Goodnotes, for a manual derivation"
   ]
  },
  {
   "cell_type": "code",
   "execution_count": 324,
   "metadata": {},
   "outputs": [],
   "source": [
    "t = [\n",
    "        {'start': 'X_t', 'end': 'X_t', 'rate_symbol': 'l', 'type': 'S -> S + S', 'reaction_steps': 2}\n",
    "        ]\n",
    "\n",
    "net = me.Network('net_div_g2')\n",
    "net.structure(t)\n",
    "\n",
    "num_iter = 3\n",
    "initial_values = {'X_t': 1}\n",
    "theta_values = {'l': 0.2}\n",
    "time_values = np.linspace(0.0, 10.0, num=10000, endpoint=True)\n",
    "variables = {'X_t': ('X_t', )}\n",
    "\n",
    "\n",
    "sim = me.Simulation(net)\n",
    "res = sim.simulate('moments', initial_values, theta_values, time_values, variables)"
   ]
  },
  {
   "cell_type": "code",
   "execution_count": 347,
   "metadata": {},
   "outputs": [
    {
     "name": "stdout",
     "output_type": "stream",
     "text": [
      "[[('Z_0__centric',), ('Z_0__module_0__0',)], [('Z_0__centric', 'Z_0__centric'), ('Z_0__centric', 'Z_0__module_0__0'), ('Z_0__module_0__0', 'Z_0__module_0__0')]]\n",
      "\n",
      "\n",
      "2.0 * theta_0_q * (z_0__module_0__0_q - z_0__centric_q) * diff(F(z_0__centric_q, z_0__module_0__0_q), z_0__centric_q) + 2.0 * theta_0_q * (z_0__centric_q * z_0__centric_q - z_0__module_0__0_q) * diff(F(z_0__centric_q, z_0__module_0__0_q), z_0__module_0__0_q)\n",
      "\n",
      "\n",
      "d/dt E(X_0) = -2.0*E(X_0)*l + 4.0*E(X_1)*l\n",
      "d/dt E(X_1) = 2.0*E(X_0)*l - 2.0*E(X_1)*l\n",
      "d/dt E(X_0(X_0-1)) = 4.0*E(X_1)*l - 4.0*E(X_0(X_0-1))*l + 8.0*E(X_0 X_1)*l\n",
      "d/dt E(X_0 X_1) = 2.0*E(X_0(X_0-1))*l - 4.0*E(X_0 X_1)*l + 4.0*E(X_1(X_1-1))*l\n",
      "d/dt E(X_1(X_1-1)) = 4.0*E(X_0 X_1)*l - 4.0*E(X_1(X_1-1))*l\n"
     ]
    }
   ],
   "source": [
    "print(sim.sim_moments.moment_order_hidden)\n",
    "print('\\n')\n",
    "print(sim.sim_moments.moment_pde)\n",
    "print('\\n')\n",
    "meqs = sim.sim_moments.moment_eqs\n",
    "meqs = [s.replace('theta[0]', 'l') for s in meqs]\n",
    "meqs = [s.replace('m[0]', 'E(X_0)') for s in meqs]\n",
    "meqs = [s.replace('m[1]', 'E(X_1)') for s in meqs]\n",
    "meqs = [s.replace('m[2]', 'E(X_0(X_0-1))') for s in meqs]\n",
    "meqs = [s.replace('m[3]', 'E(X_0 X_1)') for s in meqs]\n",
    "meqs = [s.replace('m[4]', 'E(X_1(X_1-1))') for s in meqs]\n",
    "meqs[0] = 'd/dt E(X_0) = ' + meqs[0]\n",
    "meqs[1] = 'd/dt E(X_1) = ' + meqs[1]\n",
    "meqs[2] = 'd/dt E(X_0(X_0-1)) = ' + meqs[2]\n",
    "meqs[3] = 'd/dt E(X_0 X_1) = ' + meqs[3]\n",
    "meqs[4] = 'd/dt E(X_1(X_1-1)) = ' + meqs[4]\n",
    "for e in meqs:\n",
    "    print(e)\n",
    "\n",
    "# E(X_0) = m[0]\n",
    "# E(X_1) = m[1]\n",
    "# E(X_0(X_0-1)) = m[2]\n",
    "# E(X_0 X_1) = m[3]\n",
    "# E(X_1(X_1-1)) = m[4]"
   ]
  }
 ],
 "metadata": {
  "kernelspec": {
   "display_name": "Python 3",
   "language": "python",
   "name": "python3"
  },
  "language_info": {
   "codemirror_mode": {
    "name": "ipython",
    "version": 3
   },
   "file_extension": ".py",
   "mimetype": "text/x-python",
   "name": "python",
   "nbconvert_exporter": "python",
   "pygments_lexer": "ipython3",
   "version": "3.7.4"
  }
 },
 "nbformat": 4,
 "nbformat_minor": 4
}
