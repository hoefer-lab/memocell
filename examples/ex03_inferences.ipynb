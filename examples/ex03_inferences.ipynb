{
 "cells": [
  {
   "cell_type": "markdown",
   "metadata": {},
   "source": [
    "#### Inferences (example 03)"
   ]
  },
  {
   "cell_type": "code",
   "execution_count": 16,
   "metadata": {},
   "outputs": [],
   "source": [
    "import memocell as me\n",
    "import numpy as np\n",
    "import pandas as pd\n",
    "import seaborn as sns\n",
    "import scipy.stats as stats\n",
    "import matplotlib.pyplot as plt\n",
    "import pickle"
   ]
  },
  {
   "cell_type": "markdown",
   "metadata": {},
   "source": [
    "\n",
    "stuff to mention maybe:\n",
    "- MemoCell is Bayesian framework\n",
    "- evidence values are future-proof, more models can be added later without recomputing previous models\n",
    "- model probabilities (and Bayes factors) depend on the set of models\n",
    "- model probs and Bayesian averaging allow to compute any statistic X (as in methods in paper)\n",
    "- say that models/hypotheses that are not considered are given zero prior implicitly! (and are impossible to gain posterior consideration, no matter how strong the data would favor them)\n",
    "- maybe add a small topology inference gimik: add a death reaction to the cell division process, should be some unneccesary additional complexity, so Bayesian inference automatically safeguard against overfitting\n",
    "- ALSO add time values for selection (say there) if this error message occurs\n",
    "- maybe for the model topology inference add a death/efflux additional reaction and probably see that it cannot be informed from one time point\n",
    "- should also include: mean only fits (with mean only data)\n",
    "\n",
    "maybe do one joint example \"inference\"?\n",
    "\n",
    "with\n",
    "- parameter estimation\n",
    "- model probabilities\n",
    "- waiting time inference\n",
    "- topology inference"
   ]
  },
  {
   "cell_type": "markdown",
   "metadata": {},
   "source": [
    "##### Parameter estimation and model probabilities"
   ]
  },
  {
   "cell_type": "code",
   "execution_count": 2,
   "metadata": {},
   "outputs": [],
   "source": [
    "# the basic input to do inferences in memocell is: \n",
    "# memocell data object + list of memocell networks\n",
    "\n",
    "# hence, first we load a memocell data object of a \n",
    "# process of cell divisions (see example 02)\n",
    "# (we know the ground truth model)\n",
    "data_10 = pickle.load(open('data_cell_div_t10.pickle', 'rb'))\n",
    "# print(data_10) -> memocell.data.Data object"
   ]
  },
  {
   "cell_type": "code",
   "execution_count": 3,
   "metadata": {},
   "outputs": [
    {
     "data": {
      "image/png": "[encoded data removed]",
      "text/plain": [
       "<IPython.core.display.Image object>"
      ]
     },
     "metadata": {},
     "output_type": "display_data"
    }
   ],
   "source": [
    "# here we define the list of networks and their respective \n",
    "# parameter settings for the inference\n",
    "\n",
    "# make_net returns a memocell network for a cell division process \n",
    "# with broad or tight Erlang division times depending on substeps n\n",
    "def make_net(n):\n",
    "    net = me.Network(f'net_div_erl{n}')\n",
    "    net.structure([{'start': 'X_t', 'end': 'X_t',\n",
    "                 'rate_symbol': 'l',\n",
    "                 'type': 'S -> S + S',\n",
    "                 'reaction_steps': n}])\n",
    "    return net\n",
    "\n",
    "# we specify 7 different models with increasingly tight division times\n",
    "nets = [make_net(n) for n in [1, 5, 10, 15, 20, 25, 30]]\n",
    "# NOTE: nets[0] (n=1) contains the Markov model with \n",
    "# exponentially distributed division times\n",
    "# NOTE: in the following \"*len(nets)\" is used to specify the \n",
    "# same settings for all networks\n",
    "\n",
    "# these settings are known from simulations (see example 01)\n",
    "# (initial values encode the single cell initial distribution)\n",
    "variables = [{'X_t': ('X_t', )}]*len(nets)\n",
    "initial_values_types = ['synchronous']*len(nets)\n",
    "initial_values = [{('X_t',): 1.0, # mean (t=0)\n",
    "                   ('X_t', 'X_t'): 0.0} # variance (t=0)\n",
    "                 ]*len(nets)\n",
    "\n",
    "# for each parameter, ranges have to be provided\n",
    "# these specify uniform parameter prior distributions\n",
    "theta_bounds = [{'l': (0.0, 0.5)}]*len(nets)\n",
    "\n",
    "# specify time values for which the models are simulated in the inference\n",
    "# NOTE: the first time value corresponds to the initial condition\n",
    "# NOTE: if odeint gives a warning during the inference, you might \n",
    "# want to increase the \"denseness\" for better numerical integration\n",
    "time_values = [np.linspace(0.0, 10.0, num=11)]*len(nets)\n",
    "\n",
    "# plot the main layer of one of the networks\n",
    "me.plots.net_main_plot(nets[3]);\n",
    "\n",
    "# print(nets) -> list of memocell networks: [<memocell.network.Network at 0x7fc50b85a0d0>, ...]"
   ]
  },
  {
   "cell_type": "code",
   "execution_count": 4,
   "metadata": {},
   "outputs": [
    {
     "data": {
      "application/vnd.jupyter.widget-view+json": {
       "model_id": "bdb93b9fdde54530a486be1d2333af01",
       "version_major": 2,
       "version_minor": 0
      },
      "text/plain": [
       "  0%|          | 0/7 [00:00<?, ?it/s]"
      ]
     },
     "metadata": {},
     "output_type": "display_data"
    }
   ],
   "source": [
    "# the memocell Bayesian inference based on nested sampling is run like this\n",
    "# NOTE: this should not need much more than ≈7 minutes (in parallel mode)\n",
    "est_res = me.selection.select_models(nets, variables,\n",
    "                                    initial_values_types, initial_values,\n",
    "                                    theta_bounds, data_10, sim_mean_only=False,\n",
    "                                    time_values=time_values, parallel=True)\n",
    "\n",
    "# NOTE: we strongly recommend to compute larger inferences via the terminal \n",
    "# and save and load estimation results with pickle\n",
    "\n",
    "# NOTE: you may notice that larger networks (more hidden variables) take \n",
    "# longer to run; indeed, the moment equations to be solved scale quadratically \n",
    "# with the number of hidden variables; if mean-only inferences is all that is \n",
    "# needed use sim_mean_only=True to speed up the run time (≈1 minute total)\n",
    "\n",
    "# NOTE: select_models is a wrapper for the estimation class, looping over \n",
    "# the list of models; hence est_res is a list of estimation objects\n",
    "# print(est_res) -> [<memocell.estimation.Estimation at 0x7fc50bbddcd0>, ...]"
   ]
  },
  {
   "cell_type": "code",
   "execution_count": 5,
   "metadata": {},
   "outputs": [
    {
     "name": "stdout",
     "output_type": "stream",
     "text": [
      "[-50.19056971 -10.32280247  -3.56731998  -2.89355949  -3.08310264\n",
      "  -3.33928902  -3.52702953]\n"
     ]
    }
   ],
   "source": [
    "# we can read out logarithmic evidences from the estimation results\n",
    "log_evids = np.array([est.bay_est_log_evidence for est in est_res])\n",
    "print(log_evids)\n",
    "\n",
    "# NOTE: evidence values are the prime output of nested sampling and also \n",
    "# the basis for Bayesian-averaged inferences over model sets in memocell; \n",
    "# evidences do not depend on the set of models / are internal to each model; \n",
    "# in this sense they provide future-proof information as more models can \n",
    "# be added later on, without recomputing the previous model set\n",
    "\n",
    "# within some numerical error (est.bay_est_log_evidence_error), one should get:\n",
    "# [-50.18391703 -10.29535513  -3.57241495  -2.9415347   -3.02019749\n",
    "#  -3.25885459  -3.4702607 ]"
   ]
  },
  {
   "cell_type": "code",
   "execution_count": 11,
   "metadata": {},
   "outputs": [
    {
     "data": {
      "image/png": "[encoded data removed]",
      "text/plain": [
       "<Figure size 108x216 with 2 Axes>"
      ]
     },
     "metadata": {
      "needs_background": "light"
     },
     "output_type": "display_data"
    }
   ],
   "source": [
    "# posterior model probabilities are computed directly from the evidences\n",
    "model_probs = me.selection.compute_model_probabilities(est_res)\n",
    "\n",
    "# NOTE: the posterior probability and the Bayes factor of a given model \n",
    "# always depends on the overall used model set (in contrast to \n",
    "# model internal evidence values); in this sense, high model \n",
    "# probabilities might not mean much, if the overall model set is unable to \n",
    "# explain the data and/or not exhaustive\n",
    "\n",
    "# we also read out the model names\n",
    "net_names = [est.net.net_name for est in est_res]\n",
    "\n",
    "# and plot the posterior model probabilities as a heatmap (in %)\n",
    "plt.figure(figsize=(1.5,3))\n",
    "df = pd.DataFrame(np.array([model_probs * 100.0]).T, index=net_names)\n",
    "sns.heatmap(df, cmap='cividis', annot=True, fmt='.2f', cbar_kws={'label': 'p(model | data) [%]'});\n",
    "\n",
    "# we might conclude:\n",
    "# 1) the Markov model (net_div_erl1) is strongly rejected\n",
    "# 2) the most favoured model is erl15; this was the ground truth model for \n",
    "#    these made up data, so memocell correctly recovers the underlying process\n",
    "# 3) tighter division times (e.g., erl30) are less favoured, but are hard \n",
    "#    to reject: they are part of the minimal model set comprising at (least) \n",
    "#    95% cumulated posterior probability"
   ]
  },
  {
   "cell_type": "code",
   "execution_count": 7,
   "metadata": {},
   "outputs": [
    {
     "name": "stdout",
     "output_type": "stream",
     "text": [
      "['net_div_erl15' 'net_div_erl20' 'net_div_erl25' 'net_div_erl30'\n",
      " 'net_div_erl10' 'net_div_erl5' 'net_div_erl1']\n",
      "[2.84995901e-01 2.35787659e-01 1.82499103e-01 1.51260687e-01\n",
      " 1.45287465e-01 1.69184036e-04 8.20366773e-22]\n",
      "5\n"
     ]
    }
   ],
   "source": [
    "# for larger inference runs the following code snippet \n",
    "# might be useful to look at the top models\n",
    "sort_inds = np.array(- model_probs).argsort()\n",
    "net_names_sorted = np.array(net_names)[sort_inds]\n",
    "model_probs_sorted = np.array(model_probs)[sort_inds]\n",
    "print(net_names_sorted)\n",
    "print(model_probs_sorted)\n",
    "\n",
    "# as indicated above, one can obtain a top model set by\n",
    "# (minimal model set with >95% cumulated posterior)\n",
    "num_top_models = model_probs_sorted.cumsum().searchsorted(0.95) + 1\n",
    "print(num_top_models)\n",
    "# -> 5, i.e. the first 5 models have > 95% posterior\n",
    "# (rejecting net_div_erl1 and net_div_erl5)"
   ]
  },
  {
   "cell_type": "code",
   "execution_count": 8,
   "metadata": {},
   "outputs": [
    {
     "data": {
      "image/png": "[encoded data removed]",
      "text/plain": [
       "<Figure size 432x288 with 1 Axes>"
      ]
     },
     "metadata": {
      "needs_background": "light"
     },
     "output_type": "display_data"
    },
    {
     "data": {
      "image/png": "[encoded data removed]",
      "text/plain": [
       "<Figure size 432x288 with 1 Axes>"
      ]
     },
     "metadata": {
      "needs_background": "light"
     },
     "output_type": "display_data"
    }
   ],
   "source": [
    "# we can inspect the model fits; the best model of \n",
    "# the tested model set can explain the data well\n",
    "# (it was the data generating model)\n",
    "est_i = net_names.index('net_div_erl15')\n",
    "\n",
    "me.plots.est_bestfit_mean_plot(est_res[est_i])\n",
    "me.plots.est_bestfit_variance_plot(est_res[est_i]);\n",
    "\n",
    "# NOTE: the bands below are 95% credible intervals of \n",
    "# posterior model simulations; the best-fit line is the \n",
    "# median (50th percentile) of posterior model simulations"
   ]
  },
  {
   "cell_type": "code",
   "execution_count": 9,
   "metadata": {},
   "outputs": [
    {
     "data": {
      "image/png": "[encoded data removed]",
      "text/plain": [
       "<Figure size 244.8x244.8 with 1 Axes>"
      ]
     },
     "metadata": {
      "needs_background": "light"
     },
     "output_type": "display_data"
    }
   ],
   "source": [
    "# parameter estimation:\n",
    "# the in silico data was produced with l=0.255,\n",
    "# so memocell recovers the underlying process\n",
    "me.plots.est_corner_kernel_plot(est_res[est_i]);\n",
    "\n",
    "# NOTE: the dashed lines indicate 95% credible \n",
    "# interval (by 2.5th and 97.5th percentiles) and \n",
    "# median (50th percentile)"
   ]
  },
  {
   "cell_type": "code",
   "execution_count": 10,
   "metadata": {},
   "outputs": [
    {
     "data": {
      "image/png": "[encoded data removed]",
      "text/plain": [
       "<Figure size 432x288 with 1 Axes>"
      ]
     },
     "metadata": {
      "needs_background": "light"
     },
     "output_type": "display_data"
    },
    {
     "data": {
      "image/png": "[encoded data removed]",
      "text/plain": [
       "<Figure size 432x288 with 1 Axes>"
      ]
     },
     "metadata": {
      "needs_background": "light"
     },
     "output_type": "display_data"
    }
   ],
   "source": [
    "# why are other models worse? a look at model fits\n",
    "\n",
    "# the markov model / exponential division times (CV=1)\n",
    "# creates a too large variability, so that mean and \n",
    "# variance of the data cannot be explained simultaneously\n",
    "est_i = net_names.index('net_div_erl1')\n",
    "me.plots.est_bestfit_mean_plot(est_res[est_i])\n",
    "me.plots.est_bestfit_variance_plot(est_res[est_i]);\n",
    "\n",
    "# NOTE: for the erl30 models and higher, the effect is \n",
    "# exactly opposite; they create a too low variability"
   ]
  },
  {
   "cell_type": "markdown",
   "metadata": {},
   "source": [
    "##### Inference of waiting time distributions"
   ]
  },
  {
   "cell_type": "code",
   "execution_count": 12,
   "metadata": {},
   "outputs": [
    {
     "data": {
      "text/plain": [
       "[<memocell.estimation.Estimation at 0x7fd2d0154350>,\n",
       " <memocell.estimation.Estimation at 0x7fd2d01411d0>,\n",
       " <memocell.estimation.Estimation at 0x7fd3221e3190>,\n",
       " <memocell.estimation.Estimation at 0x7fd3221eb210>,\n",
       " <memocell.estimation.Estimation at 0x7fd3221c2dd0>,\n",
       " <memocell.estimation.Estimation at 0x7fd3221e8cd0>,\n",
       " <memocell.estimation.Estimation at 0x7fd3221fab50>]"
      ]
     },
     "execution_count": 12,
     "metadata": {},
     "output_type": "execute_result"
    }
   ],
   "source": [
    "est_res"
   ]
  },
  {
   "cell_type": "code",
   "execution_count": 17,
   "metadata": {},
   "outputs": [],
   "source": [
    "def waiting_time_distr_samples(x, res, samples, time_max, mprior):\n",
    "    model_probs = me.selection.compute_model_probabilities(res, mprior=mprior)\n",
    "\n",
    "    # set general x values\n",
    "    y = np.zeros((x.shape[0], samples))\n",
    "\n",
    "    # for checking set a counter\n",
    "    model_type_counts = np.zeros((7,))\n",
    "\n",
    "    for i in range(samples):\n",
    "        # get random model according to p(M|D)\n",
    "        model_rand = np.random.choice(range(len(model_probs)), p=model_probs, replace=True)\n",
    "        est = res[model_rand]\n",
    "\n",
    "        model_type_counts[model_rand] += 1\n",
    "\n",
    "        # get random theta according to p(theta|M, D)\n",
    "        inds = np.array(range(0, est.bay_est_samples_weighted.shape[0]))\n",
    "        theta_ind = np.random.choice(inds, replace=True)\n",
    "        theta = est.bay_est_samples_weighted[theta_ind, :]\n",
    "\n",
    "        \n",
    "        module_id = 0 # TODO make a note here with below\n",
    "        theta_id = 0 # TODO make a note here with below\n",
    "        \n",
    "        # compute Erlang/Gamma parameters for the division reaction\n",
    "        theta_shape = est.net.net_modules[module_id]['module_steps']\n",
    "        theta_scale = 1.0/(theta[theta_id]*theta_shape)\n",
    "\n",
    "        density = stats.gamma.pdf(x, a=theta_shape, scale=theta_scale)\n",
    "        y[:, i] = density\n",
    "    \n",
    "    # this shows how often each model was drawn\n",
    "    print(model_type_counts)\n",
    "    return y"
   ]
  },
  {
   "cell_type": "code",
   "execution_count": 30,
   "metadata": {},
   "outputs": [
    {
     "name": "stdout",
     "output_type": "stream",
     "text": [
      "[  0.   0. 138. 270. 240. 199. 153.]\n"
     ]
    }
   ],
   "source": [
    "# idea to compute \"credible bands\" for better visualisation\n",
    "samples = 1000\n",
    "time_max = 10.0\n",
    "x = np.linspace(0.0, time_max, num=200)\n",
    "mprior = None # if None, a uniform model prior is used\n",
    "\n",
    "y = waiting_time_distr_samples(x, est_res, samples, time_max, mprior)"
   ]
  },
  {
   "cell_type": "code",
   "execution_count": 31,
   "metadata": {},
   "outputs": [
    {
     "data": {
      "image/png": "[encoded data removed]",
      "text/plain": [
       "<Figure size 468x252 with 1 Axes>"
      ]
     },
     "metadata": {
      "needs_background": "light"
     },
     "output_type": "display_data"
    }
   ],
   "source": [
    "y_95_lower = np.percentile(y, 2.5, axis=1)\n",
    "y_median = np.percentile(y, 50.0, axis=1)\n",
    "y_95_upper = np.percentile(y, 97.5, axis=1)\n",
    "\n",
    "plt.figure(figsize=(6.5, 3.5))\n",
    "plt.fill_between(x, y_95_lower, y_median, color='gold', alpha=0.6, linewidth=0.0, zorder=100)\n",
    "plt.fill_between(x, y_median, y_95_upper, color='gold', alpha=0.6, linewidth=0.0, zorder=100)\n",
    "plt.plot(x, y_median, color='gold', lw=2, zorder=200)\n",
    "\n",
    "plt.ylabel('Probability')\n",
    "plt.xlabel('Division times (hours)');"
   ]
  },
  {
   "cell_type": "code",
   "execution_count": 13,
   "metadata": {},
   "outputs": [
    {
     "data": {
      "text/plain": [
       "[{'module': 'module_0',\n",
       "  'start-end': ('X_t', 'X_t'),\n",
       "  'start-end_ident': ('Z_0', 'Z_0'),\n",
       "  'sym_rate': 'l',\n",
       "  'sym_rate_ident': 'theta_0',\n",
       "  'type': 'S -> S + S',\n",
       "  'module_steps': 1}]"
      ]
     },
     "execution_count": 13,
     "metadata": {},
     "output_type": "execute_result"
    }
   ],
   "source": [
    "est_res[0].net.net_modules"
   ]
  },
  {
   "cell_type": "code",
   "execution_count": null,
   "metadata": {},
   "outputs": [],
   "source": [
    "# NOTE: maybe just put this code down below and say the rest\n",
    "# read out the respective Erlang channels of a phase-type reaction\n",
    "n_d1 = est.net.net_modules[0]['module_steps']\n",
    "n_d2 = est.net.net_modules[1]['module_steps']\n",
    "d1 = theta[0]\n",
    "d2 = theta[1]\n",
    "\n",
    "# obtain the phase-type density with utils methods\n",
    "alpha, S = me.utils.phase_type_from_parallel_erlang2(d1, d2, n_d1, n_d2)\n",
    "density = me.utils.phase_type_pdf(alpha, S, x)"
   ]
  },
  {
   "cell_type": "code",
   "execution_count": 5,
   "metadata": {},
   "outputs": [],
   "source": [
    "# TODO: module_id and theta_id have to be known in advance for a reaction of interest\n",
    "\n",
    "# TODO: maybe mention the X formula here\n",
    "\n",
    "# TODO: also explain how to read out steps numbers from more complicated models\n",
    "# ALSO: mention example 01 where phase-type utils was shown, which would be required then to get pdf\n",
    "\n",
    "# TODO: maybe add a separate PH model fit to the Erlang data here? \n",
    "# what would happen? if nothing is inferred anymore, maybe don't show it\n",
    "# would however help maybe to show the read-out notation"
   ]
  },
  {
   "cell_type": "code",
   "execution_count": null,
   "metadata": {},
   "outputs": [],
   "source": [
    "def waiting_time_distr_samples_div(x, res, samples, time_max, mprior):\n",
    "    model_probs = me.selection.compute_model_probabilities(res, mprior=mprior)\n",
    "\n",
    "    # set general x values\n",
    "    y = np.zeros((x.shape[0], samples))\n",
    "\n",
    "    # for checking set a counter\n",
    "    model_type_counts = np.zeros((4,))\n",
    "\n",
    "    for i in range(samples):\n",
    "        # get random model according to p(M|D)\n",
    "        model_rand = np.random.choice(range(len(model_probs)), p=model_probs, replace=True)\n",
    "        est = res[model_rand]\n",
    "\n",
    "        # decide whether phase type or markov/erlang model\n",
    "        # par 3 model\n",
    "        if 'par3_' in est.net.net_name:\n",
    "            model_type_counts[3] += 1\n",
    "\n",
    "            # get random theta according to p(theta|M, D)\n",
    "            inds = np.array(range(0, est.bay_est_samples_weighted.shape[0]))\n",
    "            theta_ind = np.random.choice(inds, replace=True)\n",
    "            theta = est.bay_est_samples_weighted[theta_ind, :]\n",
    "\n",
    "            # compute Gamma parameters\n",
    "            ### division reaction ###\n",
    "            theta_shape = est.net.net_modules[3]['module_steps']\n",
    "            theta_scale = 1.0/(theta[3]*theta_shape)\n",
    "\n",
    "            density = stats.gamma.pdf(x, a=theta_shape, scale=theta_scale)\n",
    "\n",
    "        # par 2 model\n",
    "        elif 'par2_' in est.net.net_name:\n",
    "            model_type_counts[2] += 1\n",
    "\n",
    "            # get random theta according to p(theta|M, D)\n",
    "            inds = np.array(range(0, est.bay_est_samples_weighted.shape[0]))\n",
    "            theta_ind = np.random.choice(inds, replace=True)\n",
    "            theta = est.bay_est_samples_weighted[theta_ind, :]\n",
    "\n",
    "            # compute Gamma parameters\n",
    "            ### division reaction ###\n",
    "            theta_shape = est.net.net_modules[2]['module_steps']\n",
    "            theta_scale = 1.0/(theta[2]*theta_shape)\n",
    "\n",
    "            density = stats.gamma.pdf(x, a=theta_shape, scale=theta_scale)\n",
    "\n",
    "        # par1+i model (identified by d_ni symbolic rate)\n",
    "        elif 'd_ni' in est.net.net_rates_identifier.values():\n",
    "            model_type_counts[1] += 1\n",
    "\n",
    "            # get random theta according to p(theta|M, D)\n",
    "            inds = np.array(range(0, est.bay_est_samples_weighted.shape[0]))\n",
    "            theta_ind = np.random.choice(inds, replace=True)\n",
    "            theta = est.bay_est_samples_weighted[theta_ind, :]\n",
    "\n",
    "            # compute Gamma parameters\n",
    "            ### division reaction ###\n",
    "            theta_shape = est.net.net_modules[2]['module_steps']\n",
    "            theta_scale = 1.0/(theta[2]*theta_shape)\n",
    "\n",
    "            density = stats.gamma.pdf(x, a=theta_shape, scale=theta_scale)\n",
    "\n",
    "        # markov/erlang model\n",
    "        else:\n",
    "            model_type_counts[0] += 1\n",
    "\n",
    "            # get random theta according to p(theta|M, D)\n",
    "            inds = np.array(range(0, est.bay_est_samples_weighted.shape[0]))\n",
    "            theta_ind = np.random.choice(inds, replace=True)\n",
    "            theta = est.bay_est_samples_weighted[theta_ind, :]\n",
    "\n",
    "            # compute Gamma parameters\n",
    "            ### division reaction ###\n",
    "            theta_shape = est.net.net_modules[1]['module_steps']\n",
    "            theta_scale = 1.0/(theta[1]*theta_shape)\n",
    "\n",
    "            density = stats.gamma.pdf(x, a=theta_shape, scale=theta_scale)\n",
    "        y[:, i] = density\n",
    "\n",
    "    print(model_type_counts)\n",
    "    return y"
   ]
  },
  {
   "cell_type": "code",
   "execution_count": null,
   "metadata": {},
   "outputs": [],
   "source": []
  },
  {
   "cell_type": "markdown",
   "metadata": {},
   "source": [
    "##### Inference of model topologies"
   ]
  },
  {
   "cell_type": "code",
   "execution_count": 2,
   "metadata": {},
   "outputs": [],
   "source": [
    "# TODO: add note: \n",
    "# topologies means connectivity of the models beyond the structure to implement waiting times"
   ]
  },
  {
   "cell_type": "code",
   "execution_count": null,
   "metadata": {},
   "outputs": [],
   "source": []
  }
 ],
 "metadata": {
  "kernelspec": {
   "display_name": "Python 3",
   "language": "python",
   "name": "python3"
  },
  "language_info": {
   "codemirror_mode": {
    "name": "ipython",
    "version": 3
   },
   "file_extension": ".py",
   "mimetype": "text/x-python",
   "name": "python",
   "nbconvert_exporter": "python",
   "pygments_lexer": "ipython3",
   "version": "3.7.7"
  }
 },
 "nbformat": 4,
 "nbformat_minor": 4
}
